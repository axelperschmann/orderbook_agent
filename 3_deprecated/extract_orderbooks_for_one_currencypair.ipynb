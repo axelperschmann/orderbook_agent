{
 "cells": [
  {
   "cell_type": "code",
   "execution_count": 1,
   "metadata": {
    "collapsed": false
   },
   "outputs": [],
   "source": [
    "%load_ext autoreload\n",
    "%autoreload 2\n",
    "\n",
    "from tqdm import tqdm\n",
    "import pandas as pd\n",
    "import numpy as np\n",
    "import gzip\n",
    "import json\n",
    "import math\n",
    "from datetime import datetime\n",
    "from IPython.display import display\n",
    "%matplotlib inline"
   ]
  },
  {
   "cell_type": "code",
   "execution_count": 2,
   "metadata": {
    "collapsed": true
   },
   "outputs": [],
   "source": [
    "currency_pair = 'USDT_BTC'"
   ]
  },
  {
   "cell_type": "code",
   "execution_count": 3,
   "metadata": {
    "collapsed": false,
    "scrolled": true
   },
   "outputs": [
    {
     "name": "stdout",
     "output_type": "stream",
     "text": [
      "Number of datafiles to extract from: 101125\n",
      "First file: ../data/2016-11-08/poloniex_full_2016-11-08T10:00:09.955811.log.gz\n",
      "Last file : ../data/2017-01-17/poloniex_full_2017-01-17T16:33:04.583624.log.gz\n"
     ]
    }
   ],
   "source": [
    "folder = '../data/'\n",
    "files = [os.path.join(dp, f) for dp, dn, fn in os.walk(os.path.expanduser(folder)) for f in fn]\n",
    "datafiles = sorted([f for f in files if f.endswith('.log.gz')])\n",
    "print(\"Number of datafiles to extract from: {}\".format(len(datafiles)))\n",
    "print(\"First file: {}\".format(datafiles[0]))\n",
    "print(\"Last file : {}\".format(datafiles[-1]))"
   ]
  },
  {
   "cell_type": "code",
   "execution_count": 4,
   "metadata": {
    "collapsed": false
   },
   "outputs": [],
   "source": [
    "from manage_orderbooks import *\n",
    "from orderbook_trade_simulator import *"
   ]
  },
  {
   "cell_type": "raw",
   "metadata": {
    "collapsed": false
   },
   "source": [
    "num_samples = None\n",
    "range_factor = 1.5\n",
    "\n",
    "filename = \"../data/snapshots/experimental/orderbooks_{}_range{}_samples{}_snapshot{}.dict\".format(\n",
    "    currency_pair, range_factor, num_samples, str(datetime.now().isoformat())[:-10])\n",
    "# filename = \"test__.dict\"\n",
    "print(filename)"
   ]
  },
  {
   "cell_type": "code",
   "execution_count": 35,
   "metadata": {
    "collapsed": false
   },
   "outputs": [
    {
     "name": "stderr",
     "output_type": "stream",
     "text": [
      " 10%|█         | 1/10 [00:00<00:01,  6.59it/s]"
     ]
    },
    {
     "name": "stdout",
     "output_type": "stream",
     "text": [
      "Orderbook content will be written to 'test'\n"
     ]
    },
    {
     "name": "stderr",
     "output_type": "stream",
     "text": [
      "100%|██████████| 10/10 [00:01<00:00,  5.92it/s]\n"
     ]
    },
    {
     "data": {
      "text/plain": [
       "-1"
      ]
     },
     "execution_count": 35,
     "metadata": {},
     "output_type": "execute_result"
    }
   ],
   "source": [
    "query_idx = range(0,10)\n",
    "extract_orderbooks_for_one_currencypair_newSlimDesign([datafiles[idx] for idx in query_idx], currency_pair='USDT_BTC',\n",
    "                                        outfile='test',\n",
    "                                        range_factor=1.5, float_precision=2)"
   ]
  },
  {
   "cell_type": "raw",
   "metadata": {
    "collapsed": false
   },
   "source": [
    "query_idx = range(90817,90821)\n",
    "extract_orderbooks_for_one_currencypair([datafiles[idx] for idx in query_idx], currency_pair='USDT_BTC',\n",
    "                                        outfile=filename,\n",
    "                                        range_factor=range_factor, num_samples=num_samples, float_precision=2)"
   ]
  },
  {
   "cell_type": "code",
   "execution_count": 20,
   "metadata": {
    "collapsed": false
   },
   "outputs": [
    {
     "name": "stderr",
     "output_type": "stream",
     "text": [
      "100%|██████████| 1000/1000 [00:14<00:00, 67.28it/s]"
     ]
    },
    {
     "name": "stdout",
     "output_type": "stream",
     "text": [
      "Loaded Orderbooks: 1000\n",
      "908\n"
     ]
    },
    {
     "name": "stderr",
     "output_type": "stream",
     "text": [
      "\n"
     ]
    }
   ],
   "source": [
    "filename = '../data/snapshots/orderbooks_USDT_BTC_range1.15_samplesNone_snapshot2017-01-11T17:19.dict'\n",
    "orderbooks, timestamps = load_orderbook_snapshot(infile=filename, first_line=0, last_line=1000)\n",
    "# display(timestamps)\n",
    "print(len(orderbooks[0]))\n",
    "\n",
    "# orderbooks = orderbooks[:1000]"
   ]
  },
  {
   "cell_type": "code",
   "execution_count": null,
   "metadata": {
    "collapsed": false
   },
   "outputs": [],
   "source": [
    "display(timestamps[0][:-10])"
   ]
  },
  {
   "cell_type": "code",
   "execution_count": null,
   "metadata": {
    "collapsed": false,
    "scrolled": false
   },
   "outputs": [],
   "source": [
    "# import warnings\n",
    "# warnings.filterwarnings('error')\n",
    "\n",
    "ots = OrderbookTradingSimulator()\n",
    "\n",
    "vol = 40\n",
    "period_length = 1\n",
    "lim = 708.1\n",
    "order_periods = 10\n",
    "must_trade = False\n",
    "\n",
    "ob = orderbooks[0]\n",
    "\n",
    "for i in range(order_periods):\n",
    "    if i == order_periods-1:\n",
    "        must_trade = True\n",
    "    \n",
    "    print(\"Period {}: volume={}, limit={}\".format(i+1, vol, lim))\n",
    "    new_ob = ots.trade_timespan(orderbooks[i*period_length:(i+1)*period_length],\n",
    "                                timestamps[i*period_length],\n",
    "                                timespan=period_length, must_trade=must_trade,\n",
    "                                volume=vol, limit=lim, verbose=False)\n",
    "    vol = ots.history.volume_left.values[-1]\n",
    "    \n",
    "    last_trade = ots.history.volume_traded.values[-1]\n",
    "    if last_trade != 0:\n",
    "        print(\"  Traded: {} shares\\n\".format(last_trade))\n",
    "    \n",
    "    if abs(vol) == 0:\n",
    "        print(\"Done after {} order_periods\".format(i+1))\n",
    "        print(\"Total costs: {}, cotal cashflow: {}\".format(sum(ots.history.cost), sum(ots.history.cashflow)))\n",
    "        break\n",
    "    elif vol > 0:\n",
    "        pass\n",
    "        #lim += 1\n",
    "    elif vol < 0:\n",
    "        pass\n",
    "        #lim -= 1\n",
    "display(ots.history)\n",
    "ots.summarize(new_ob)\n",
    "    \n",
    "\n",
    "# new_ob = ots.trade_timespan(orderbooks[timespan:timespan+timespan], volume=vol, limit=706, verbose=True, timespan=timespan)\n",
    "plot_orderbook(new_ob, title = \"Orderbook {}\".format(ots.t), normalized=True, range_factor=1.05)"
   ]
  },
  {
   "cell_type": "code",
   "execution_count": null,
   "metadata": {
    "collapsed": false,
    "scrolled": false
   },
   "outputs": [],
   "source": [
    "ots = OrderbookTradingSimulator()\n",
    "\n",
    "vol = 2\n",
    "\n",
    "ob = orderbooks[0]\n",
    "new_ob = ots.trade(orderbooks[0], volume=vol, limit=None, verbose=True)\n",
    "plot_orderbook(new_ob, title = \"Orderbook {}\".format(ots.t), normalized=True, range_factor=1.05)\n",
    "trade_counter = 1"
   ]
  },
  {
   "cell_type": "code",
   "execution_count": null,
   "metadata": {
    "collapsed": false,
    "scrolled": false
   },
   "outputs": [],
   "source": [
    "center = orderbooks[0][orderbooks[0].Type=='center'].Price.values[0]\n",
    "bid = orderbooks[0][orderbooks[0].Type=='bid'].Price.values[-1]\n",
    "ask = orderbooks[0][orderbooks[0].Type=='ask'].Price.values[0]\n",
    "print(\"Bid:    {}\".format(bid))\n",
    "print(\"Center: {}\".format(center))\n",
    "print(\"Ask:    {}\\n\".format(ask))\n",
    "\n",
    "result = 0\n",
    "trade_vol = -10\n",
    "limit=704\n",
    "trade_info = place_order(orderbooks[0], trade_vol, limit=limit)\n",
    "cash_flow = trade_info['cashflow']\n",
    "trade_vol -= trade_info['amount_fulfilled']\n",
    "\n",
    "display(trade_info)\n",
    "display(orderbook_preview(ob, 3))\n",
    "\n",
    "#cash_flow = 0\n",
    "minute = 1\n",
    "for i, ob in enumerate(orderbooks[1:]):\n",
    "    if abs(trade_vol) < 1.0e-10:\n",
    "        break\n",
    "        \n",
    "    \n",
    "    print(\"timesteps: {} ==> {}, {}\".format(minute, cash_flow, trade_vol))\n",
    "    if abs(trade_vol) > 1.0e-10 and i == len(orderbooks[1:])-1:\n",
    "        print(\"TRADE!!!\")\n",
    "        # trade always in last Timestep\n",
    "        trade_info = place_order(ob,  trade_vol, limit=None, trade_history=trade_info['trade_history'])\n",
    "        cash_flow += trade_info['cashflow']\n",
    "        trade_vol -= trade_info['amount_fulfilled']\n",
    "    \n",
    "    elif abs(trade_vol) > 1.0e-10:\n",
    "        print(\"trade_vol\", trade_vol)\n",
    "        trade_info = place_order(ob,  trade_vol, limit=limit, trade_history=trade_info['trade_history'])\n",
    "        cash_flow += trade_info['cashflow']\n",
    "        trade_vol -= trade_info['amount_fulfilled']\n",
    "\n",
    "    display(trade_info)\n",
    "    \n",
    "    minute += 1\n",
    "    \n",
    "    print(\"\")\n",
    "    \n",
    "    print(\"trade_vol: {:1.4f}, center: {:1.4f}, limit: {}\".format(trade_vol, ob[ob.Type=='center'].Price.values[0], limit))\n",
    "print(\"timesteps: {} ==> {}, {}\".format(minute, cash_flow, trade_vol))\n",
    "\n",
    "display(orderbook_preview(ob, 3))"
   ]
  },
  {
   "cell_type": "code",
   "execution_count": null,
   "metadata": {
    "collapsed": false,
    "scrolled": false
   },
   "outputs": [],
   "source": [
    "range_factor = 1.01\n",
    "# plot_orderbook(data[0], normalized=True, range_factor=range_factor)\n",
    "print(len(orderbooks))\n",
    "for idx in [1, 5000, 25000, -1]:\n",
    "    print(idx, timestamps[idx])\n",
    "    display(orderbook_preview(orderbooks[idx], 3))\n",
    "    plot_orderbook(orderbooks[idx], title=timestamps[idx], normalized=True, range_factor=range_factor)"
   ]
  },
  {
   "cell_type": "code",
   "execution_count": null,
   "metadata": {
    "collapsed": true
   },
   "outputs": [],
   "source": []
  },
  {
   "cell_type": "code",
   "execution_count": null,
   "metadata": {
    "collapsed": true
   },
   "outputs": [],
   "source": []
  },
  {
   "cell_type": "code",
   "execution_count": null,
   "metadata": {
    "collapsed": true
   },
   "outputs": [],
   "source": []
  }
 ],
 "metadata": {
  "kernelspec": {
   "display_name": "Python 2",
   "language": "python",
   "name": "python2"
  },
  "language_info": {
   "codemirror_mode": {
    "name": "ipython",
    "version": 2
   },
   "file_extension": ".py",
   "mimetype": "text/x-python",
   "name": "python",
   "nbconvert_exporter": "python",
   "pygments_lexer": "ipython2",
   "version": "2.7.5"
  },
  "widgets": {
   "state": {},
   "version": "1.1.2"
  }
 },
 "nbformat": 4,
 "nbformat_minor": 0
}
