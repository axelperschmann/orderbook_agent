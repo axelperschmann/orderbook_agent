{
 "cells": [
  {
   "cell_type": "code",
   "execution_count": 1,
   "metadata": {
    "collapsed": false
   },
   "outputs": [],
   "source": [
    "%load_ext autoreload\n",
    "%autoreload 2\n",
    "\n",
    "from tqdm import tqdm\n",
    "import pandas as pd\n",
    "import numpy as np\n",
    "import gzip\n",
    "import json\n",
    "import math\n",
    "from datetime import datetime\n",
    "from IPython.display import display\n",
    "%matplotlib inline"
   ]
  },
  {
   "cell_type": "code",
   "execution_count": 2,
   "metadata": {
    "collapsed": true
   },
   "outputs": [],
   "source": [
    "currency_pairs = ['USDT_BTC', 'BTC_ETH', 'BTC_XMR', 'BTC_XRP', 'BTC_FCT', 'BTC_NAV', 'BTC_DASH', 'BTC_MAID', 'BTC_ZEC']\n",
    "currency_pair = currency_pairs[0]"
   ]
  },
  {
   "cell_type": "code",
   "execution_count": 3,
   "metadata": {
    "collapsed": false,
    "scrolled": true
   },
   "outputs": [
    {
     "name": "stdout",
     "output_type": "stream",
     "text": [
      "Number of datafiles to extract from: 80832\n",
      "First file: ../data/2016-11-08/poloniex_full_2016-11-08T10:00:09.955811.log.gz\n",
      "Last file : ../data/2017-01-03/poloniex_full_2017-01-03T14:07:04.564472.log.gz\n"
     ]
    }
   ],
   "source": [
    "folder = '../data/'\n",
    "files = [os.path.join(dp, f) for dp, dn, fn in os.walk(os.path.expanduser(folder)) for f in fn]\n",
    "datafiles = sorted([f for f in files if f.endswith('.log.gz')])\n",
    "print(\"Number of datafiles to extract from: {}\".format(len(datafiles)))\n",
    "print(\"First file: {}\".format(datafiles[0]))\n",
    "print(\"Last file : {}\".format(datafiles[-1]))"
   ]
  },
  {
   "cell_type": "code",
   "execution_count": 4,
   "metadata": {
    "collapsed": false
   },
   "outputs": [],
   "source": [
    "from manage_orderbooks import *\n",
    "from orderbook_trade_simulator import *"
   ]
  },
  {
   "cell_type": "raw",
   "metadata": {
    "collapsed": false,
    "scrolled": true
   },
   "source": [
    "num_samples = None\n",
    "range_factor = 1.5\n",
    "\n",
    "filename = \"../data/snapshots/experimental/orderbooks_{}_range{}_samples{}_snapshot{}.dict\".format(\n",
    "    currency_pair, range_factor, num_samples, str(datetime.now().isoformat())[:-10])\n",
    "print(filename)"
   ]
  },
  {
   "cell_type": "raw",
   "metadata": {
    "collapsed": false
   },
   "source": [
    "query_idx = range(100)\n",
    "extract_orderbooks_for_one_currencypair([datafiles[idx] for idx in query_idx], currency_pair='USDT_BTC',\n",
    "                                        outfile=filename,\n",
    "                                        range_factor=range_factor, num_samples=num_samples, float_precision=2)"
   ]
  },
  {
   "cell_type": "code",
   "execution_count": 5,
   "metadata": {
    "collapsed": false
   },
   "outputs": [
    {
     "name": "stderr",
     "output_type": "stream",
     "text": [
      "100%|██████████| 1000/1000 [00:12<00:00, 77.19it/s]"
     ]
    },
    {
     "name": "stdout",
     "output_type": "stream",
     "text": [
      "Loaded Orderbooks: 1000\n",
      "908\n"
     ]
    },
    {
     "name": "stderr",
     "output_type": "stream",
     "text": [
      "\n"
     ]
    }
   ],
   "source": [
    "filename = '../data/snapshots/orderbooks_USDT_BTC_range1.15_samplesNone_snapshot2016-12-15T15:09.dict'\n",
    "orderbooks, timestamps = load_orderbook_snapshot(infile=filename, first_line=0, last_line=1000)\n",
    "# display(timestamps)\n",
    "print(len(orderbooks[0]))\n",
    "\n",
    "# orderbooks = orderbooks[:1000]"
   ]
  },
  {
   "cell_type": "code",
   "execution_count": 10,
   "metadata": {
    "collapsed": false,
    "scrolled": false
   },
   "outputs": [
    {
     "name": "stderr",
     "output_type": "stream",
     "text": [
      " 10%|█         | 1/10 [00:00<00:01,  6.18it/s]"
     ]
    },
    {
     "name": "stdout",
     "output_type": "stream",
     "text": [
      "Period 1: volume=40, limit=706\n"
     ]
    },
    {
     "name": "stderr",
     "output_type": "stream",
     "text": [
      "100%|██████████| 10/10 [00:01<00:00,  5.43it/s]\n",
      " 10%|█         | 1/10 [00:00<00:01,  5.52it/s]"
     ]
    },
    {
     "name": "stdout",
     "output_type": "stream",
     "text": [
      "volume_of_last_trade_period 6.85811759\n",
      "Period 2: volume=33.14188241, limit=707\n"
     ]
    },
    {
     "name": "stderr",
     "output_type": "stream",
     "text": [
      "100%|██████████| 10/10 [00:01<00:00,  4.97it/s]\n",
      "  0%|          | 0/10 [00:00<?, ?it/s]"
     ]
    },
    {
     "name": "stdout",
     "output_type": "stream",
     "text": [
      "volume_of_last_trade_period 8.37885747\n",
      "Period 3: volume=24.76302494, limit=708\n"
     ]
    },
    {
     "name": "stderr",
     "output_type": "stream",
     "text": [
      " 90%|█████████ | 9/10 [00:02<00:00,  3.77it/s]"
     ]
    },
    {
     "name": "stdout",
     "output_type": "stream",
     "text": [
      "No shares left at t=9, Done!\n",
      "volume_of_last_trade_period 24.76302494\n",
      "Done after 3 order_periods\n"
     ]
    },
    {
     "name": "stderr",
     "output_type": "stream",
     "text": [
      "\n"
     ]
    },
    {
     "name": "stdout",
     "output_type": "stream",
     "text": [
      " #####   TRADE Number 30   #####\n",
      "Purchase history\n"
     ]
    },
    {
     "data": {
      "text/plain": [
       "{'705.0': 1.2e-05,\n",
       " '705.45': 6.858105590000001,\n",
       " '706.17': 0.052837839999999997,\n",
       " '706.19': 0.64532266000000005,\n",
       " '706.41': 0.045817419999999998,\n",
       " '706.81': 7.5297190599999997,\n",
       " '706.89': 0.10516049,\n",
       " '707.15': 6.8150697800000017,\n",
       " '707.18': 7.9885557299999999,\n",
       " '707.33': 0.26000000000000001,\n",
       " '707.5': 0.00042999999999999999,\n",
       " '707.52': 8.0477047200000005,\n",
       " '707.6': 0.00011,\n",
       " '707.61': 0.0027245099999999999,\n",
       " '707.7': 0.00068999999999999997,\n",
       " '707.8': 0.00075000000000000002,\n",
       " '707.82': 0.0030015100000000002,\n",
       " '707.83': 0.0066845100000000003,\n",
       " '707.84': 1.63626418,\n",
       " '707.9': 0.00084000000000000003,\n",
       " '708.0': 0.00020000000000000001}"
      ]
     },
     "metadata": {},
     "output_type": "display_data"
    },
    {
     "name": "stdout",
     "output_type": "stream",
     "text": [
      "Sell history\n"
     ]
    },
    {
     "data": {
      "text/plain": [
       "{}"
      ]
     },
     "metadata": {},
     "output_type": "display_data"
    },
    {
     "name": "stdout",
     "output_type": "stream",
     "text": [
      "Last trade\n"
     ]
    },
    {
     "data": {
      "text/plain": [
       "{'707.15': 6.8150697800000017}"
      ]
     },
     "metadata": {},
     "output_type": "display_data"
    },
    {
     "name": "stdout",
     "output_type": "stream",
     "text": [
      "Cashflow: -28275.4513592 (Avg: -706.88628398, Low: 705.0, High: 708.0)\n",
      "Traded: 40.0/40.0 shares\n",
      "Spread: 3.99 (bid: 704.11, ask: 708.1)\n",
      "Adjusted Orderbook:\n"
     ]
    },
    {
     "data": {
      "text/html": [
       "<div>\n",
       "<table border=\"1\" class=\"dataframe\">\n",
       "  <thead>\n",
       "    <tr style=\"text-align: right;\">\n",
       "      <th></th>\n",
       "      <th>Amount</th>\n",
       "      <th>Price</th>\n",
       "      <th>Type</th>\n",
       "      <th>Volume</th>\n",
       "      <th>VolumeAcc</th>\n",
       "      <th>norm_Price</th>\n",
       "    </tr>\n",
       "  </thead>\n",
       "  <tbody>\n",
       "    <tr>\n",
       "      <th>989</th>\n",
       "      <td>0.001250</td>\n",
       "      <td>703.700000</td>\n",
       "      <td>bid</td>\n",
       "      <td>0.879625</td>\n",
       "      <td>3383.089266</td>\n",
       "      <td>0.996597</td>\n",
       "    </tr>\n",
       "    <tr>\n",
       "      <th>990</th>\n",
       "      <td>1.621835</td>\n",
       "      <td>703.710000</td>\n",
       "      <td>bid</td>\n",
       "      <td>1141.301226</td>\n",
       "      <td>3382.209641</td>\n",
       "      <td>0.996611</td>\n",
       "    </tr>\n",
       "    <tr>\n",
       "      <th>991</th>\n",
       "      <td>3.182611</td>\n",
       "      <td>704.110000</td>\n",
       "      <td>bid</td>\n",
       "      <td>2240.908414</td>\n",
       "      <td>2240.908414</td>\n",
       "      <td>0.997177</td>\n",
       "    </tr>\n",
       "    <tr>\n",
       "      <th>992</th>\n",
       "      <td>0.000000</td>\n",
       "      <td>706.103121</td>\n",
       "      <td>center</td>\n",
       "      <td>0.000000</td>\n",
       "      <td>0.000000</td>\n",
       "      <td>1.000000</td>\n",
       "    </tr>\n",
       "    <tr>\n",
       "      <th>1011</th>\n",
       "      <td>0.000770</td>\n",
       "      <td>708.100000</td>\n",
       "      <td>ask</td>\n",
       "      <td>0.545237</td>\n",
       "      <td>0.545237</td>\n",
       "      <td>1.002828</td>\n",
       "    </tr>\n",
       "    <tr>\n",
       "      <th>1012</th>\n",
       "      <td>0.403454</td>\n",
       "      <td>708.180000</td>\n",
       "      <td>ask</td>\n",
       "      <td>285.717770</td>\n",
       "      <td>286.263007</td>\n",
       "      <td>1.002941</td>\n",
       "    </tr>\n",
       "    <tr>\n",
       "      <th>1013</th>\n",
       "      <td>0.000640</td>\n",
       "      <td>708.200000</td>\n",
       "      <td>ask</td>\n",
       "      <td>0.453248</td>\n",
       "      <td>286.716255</td>\n",
       "      <td>1.002970</td>\n",
       "    </tr>\n",
       "  </tbody>\n",
       "</table>\n",
       "</div>"
      ],
      "text/plain": [
       "        Amount       Price    Type       Volume    VolumeAcc  norm_Price\n",
       "989   0.001250  703.700000     bid     0.879625  3383.089266    0.996597\n",
       "990   1.621835  703.710000     bid  1141.301226  3382.209641    0.996611\n",
       "991   3.182611  704.110000     bid  2240.908414  2240.908414    0.997177\n",
       "992   0.000000  706.103121  center     0.000000     0.000000    1.000000\n",
       "1011  0.000770  708.100000     ask     0.545237     0.545237    1.002828\n",
       "1012  0.403454  708.180000     ask   285.717770   286.263007    1.002941\n",
       "1013  0.000640  708.200000     ask     0.453248   286.716255    1.002970"
      ]
     },
     "metadata": {},
     "output_type": "display_data"
    },
    {
     "data": {
      "image/png": "[encoded data removed]",
      "text/plain": [
       "<matplotlib.figure.Figure at 0x58b3f90>"
      ]
     },
     "metadata": {},
     "output_type": "display_data"
    },
    {
     "data": {
      "image/png": "[encoded data removed]",
      "text/plain": [
       "<matplotlib.figure.Figure at 0x58a41d0>"
      ]
     },
     "metadata": {},
     "output_type": "display_data"
    }
   ],
   "source": [
    "ots = OrderbookTradingSimulator()\n",
    "\n",
    "vol = 40\n",
    "period_length = 10\n",
    "lim = 706\n",
    "order_periods = 10\n",
    "\n",
    "\n",
    "ob = orderbooks[0]\n",
    "\n",
    "for i in range(order_periods):\n",
    "    must_trade = False\n",
    "    if i == order_periods-1:\n",
    "        must_trade = True\n",
    "    \n",
    "    print(\"Period {}: volume={}, limit={}\".format(i+1, vol, lim))\n",
    "    new_ob = ots.trade_timespan(orderbooks[0:period_length], volume=vol, limit=lim, verbose=False, must_trade=must_trade, timespan=period_length)\n",
    "    vol -= ots.volume_of_last_trade_period\n",
    "    print(\"volume_of_last_trade_period {}\".format(ots.volume_of_last_trade_period))\n",
    "    \n",
    "\n",
    "    if vol > 0:\n",
    "        lim += 1\n",
    "    elif vol < 0:\n",
    "        lim -= 1\n",
    "    else:\n",
    "        print(\"Done after {} order_periods\".format(i+1))\n",
    "        break\n",
    "ots.summarize(new_ob)\n",
    "    \n",
    "\n",
    "# new_ob = ots.trade_timespan(orderbooks[timespan:timespan+timespan], volume=vol, limit=706, verbose=True, timespan=timespan)\n",
    "plot_orderbook(new_ob, title = \"Orderbook {}\".format(ots.t), normalized=True, range_factor=1.05)\n",
    "plot_orderbook(new_ob, title = \"Orderbook {}\".format(ots.t), normalized=False, range_factor=1.05)"
   ]
  },
  {
   "cell_type": "code",
   "execution_count": null,
   "metadata": {
    "collapsed": false,
    "scrolled": false
   },
   "outputs": [],
   "source": [
    "ots = OrderbookTradingSimulator()\n",
    "\n",
    "vol = 2\n",
    "\n",
    "ob = orderbooks[0]\n",
    "new_ob = ots.trade(orderbooks[0], volume=vol, limit=None, verbose=True)\n",
    "plot_orderbook(new_ob, title = \"Orderbook {}\".format(ots.t), normalized=True, range_factor=1.05)\n",
    "trade_counter = 1"
   ]
  },
  {
   "cell_type": "code",
   "execution_count": null,
   "metadata": {
    "collapsed": false,
    "scrolled": false
   },
   "outputs": [],
   "source": [
    "center = orderbooks[0][orderbooks[0].Type=='center'].Price.values[0]\n",
    "bid = orderbooks[0][orderbooks[0].Type=='bid'].Price.values[-1]\n",
    "ask = orderbooks[0][orderbooks[0].Type=='ask'].Price.values[0]\n",
    "print(\"Bid:    {}\".format(bid))\n",
    "print(\"Center: {}\".format(center))\n",
    "print(\"Ask:    {}\\n\".format(ask))\n",
    "\n",
    "result = 0\n",
    "trade_vol = -10\n",
    "limit=704\n",
    "trade_info = place_order(orderbooks[0], trade_vol, limit=limit)\n",
    "cash_flow = trade_info['cashflow']\n",
    "trade_vol -= trade_info['amount_fulfilled']\n",
    "\n",
    "display(trade_info)\n",
    "display(orderbook_preview(ob, 3))\n",
    "\n",
    "#cash_flow = 0\n",
    "minute = 1\n",
    "for i, ob in enumerate(orderbooks[1:]):\n",
    "    if abs(trade_vol) < 1.0e-10:\n",
    "        break\n",
    "        \n",
    "    \n",
    "    print(\"timesteps: {} ==> {}, {}\".format(minute, cash_flow, trade_vol))\n",
    "    if abs(trade_vol) > 1.0e-10 and i == len(orderbooks[1:])-1:\n",
    "        print(\"TRADE!!!\")\n",
    "        # trade always in last Timestep\n",
    "        trade_info = place_order(ob,  trade_vol, limit=None, trade_history=trade_info['trade_history'])\n",
    "        cash_flow += trade_info['cashflow']\n",
    "        trade_vol -= trade_info['amount_fulfilled']\n",
    "    \n",
    "    elif abs(trade_vol) > 1.0e-10:\n",
    "        print(\"trade_vol\", trade_vol)\n",
    "        trade_info = place_order(ob,  trade_vol, limit=limit, trade_history=trade_info['trade_history'])\n",
    "        cash_flow += trade_info['cashflow']\n",
    "        trade_vol -= trade_info['amount_fulfilled']\n",
    "\n",
    "    display(trade_info)\n",
    "    \n",
    "    minute += 1\n",
    "    \n",
    "    print(\"\")\n",
    "    \n",
    "    print(\"trade_vol: {:1.4f}, center: {:1.4f}, limit: {}\".format(trade_vol, ob[ob.Type=='center'].Price.values[0], limit))\n",
    "print(\"timesteps: {} ==> {}, {}\".format(minute, cash_flow, trade_vol))\n",
    "\n",
    "display(orderbook_preview(ob, 3))"
   ]
  },
  {
   "cell_type": "code",
   "execution_count": null,
   "metadata": {
    "collapsed": false,
    "scrolled": false
   },
   "outputs": [],
   "source": [
    "range_factor = 1.01\n",
    "# plot_orderbook(data[0], normalized=True, range_factor=range_factor)\n",
    "print(len(orderbooks))\n",
    "for idx in [1, 5000, 25000, -1]:\n",
    "    print(idx, timestamps[idx])\n",
    "    display(orderbook_preview(orderbooks[idx], 3))\n",
    "    plot_orderbook(orderbooks[idx], title=timestamps[idx], normalized=True, range_factor=range_factor)"
   ]
  },
  {
   "cell_type": "code",
   "execution_count": null,
   "metadata": {
    "collapsed": true
   },
   "outputs": [],
   "source": []
  },
  {
   "cell_type": "code",
   "execution_count": null,
   "metadata": {
    "collapsed": true
   },
   "outputs": [],
   "source": []
  },
  {
   "cell_type": "code",
   "execution_count": null,
   "metadata": {
    "collapsed": true
   },
   "outputs": [],
   "source": []
  }
 ],
 "metadata": {
  "kernelspec": {
   "display_name": "Python 2",
   "language": "python",
   "name": "python2"
  },
  "language_info": {
   "codemirror_mode": {
    "name": "ipython",
    "version": 2
   },
   "file_extension": ".py",
   "mimetype": "text/x-python",
   "name": "python",
   "nbconvert_exporter": "python",
   "pygments_lexer": "ipython2",
   "version": "2.7.5"
  },
  "widgets": {
   "state": {},
   "version": "1.1.2"
  }
 },
 "nbformat": 4,
 "nbformat_minor": 0
}
