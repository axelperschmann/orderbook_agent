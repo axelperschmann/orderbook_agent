{
 "cells": [
  {
   "cell_type": "code",
   "execution_count": 1,
   "metadata": {
    "collapsed": false
   },
   "outputs": [],
   "source": [
    "%load_ext autoreload\n",
    "%autoreload 2\n",
    "\n",
    "from tqdm import tqdm\n",
    "import pandas as pd\n",
    "import numpy as np\n",
    "import gzip\n",
    "import json\n",
    "import math\n",
    "from datetime import datetime\n",
    "from IPython.display import display\n",
    "%matplotlib inline"
   ]
  },
  {
   "cell_type": "code",
   "execution_count": 2,
   "metadata": {
    "collapsed": true
   },
   "outputs": [],
   "source": [
    "currency_pairs = ['USDT_BTC', 'BTC_ETH', 'BTC_XMR', 'BTC_XRP', 'BTC_FCT', 'BTC_NAV', 'BTC_DASH', 'BTC_MAID', 'BTC_ZEC']\n",
    "currency_pair = currency_pairs[0]"
   ]
  },
  {
   "cell_type": "code",
   "execution_count": 3,
   "metadata": {
    "collapsed": false,
    "scrolled": true
   },
   "outputs": [
    {
     "name": "stdout",
     "output_type": "stream",
     "text": [
      "Number of datafiles to extract from: 92571\n",
      "First file: ../data/2016-11-08/poloniex_full_2016-11-08T10:00:09.955811.log.gz\n",
      "Last file : ../data/2017-01-11/poloniex_full_2017-01-11T17:46:05.128887.log.gz\n"
     ]
    }
   ],
   "source": [
    "folder = '../data/'\n",
    "files = [os.path.join(dp, f) for dp, dn, fn in os.walk(os.path.expanduser(folder)) for f in fn]\n",
    "datafiles = sorted([f for f in files if f.endswith('.log.gz')])\n",
    "print(\"Number of datafiles to extract from: {}\".format(len(datafiles)))\n",
    "print(\"First file: {}\".format(datafiles[0]))\n",
    "print(\"Last file : {}\".format(datafiles[-1]))"
   ]
  },
  {
   "cell_type": "code",
   "execution_count": 4,
   "metadata": {
    "collapsed": false
   },
   "outputs": [],
   "source": [
    "from manage_orderbooks import *\n",
    "from orderbook_trade_simulator import *"
   ]
  },
  {
   "cell_type": "raw",
   "metadata": {
    "collapsed": false
   },
   "source": [
    "num_samples = None\n",
    "range_factor = 1.5\n",
    "\n",
    "filename = \"../data/snapshots/experimental/orderbooks_{}_range{}_samples{}_snapshot{}.dict\".format(\n",
    "    currency_pair, range_factor, num_samples, str(datetime.now().isoformat())[:-10])\n",
    "# filename = \"test__.dict\"\n",
    "print(filename)"
   ]
  },
  {
   "cell_type": "raw",
   "metadata": {
    "collapsed": false
   },
   "source": [
    "query_idx = range(90817,90821)\n",
    "extract_orderbooks_for_one_currencypair([datafiles[idx] for idx in query_idx], currency_pair='USDT_BTC',\n",
    "                                        outfile=filename,\n",
    "                                        range_factor=range_factor, num_samples=num_samples, float_precision=2)"
   ]
  },
  {
   "cell_type": "code",
   "execution_count": 5,
   "metadata": {
    "collapsed": false
   },
   "outputs": [
    {
     "name": "stderr",
     "output_type": "stream",
     "text": [
      "100%|██████████| 1000/1000 [00:12<00:00, 91.36it/s]"
     ]
    },
    {
     "name": "stdout",
     "output_type": "stream",
     "text": [
      "Loaded Orderbooks: 1000\n",
      "908\n"
     ]
    },
    {
     "name": "stderr",
     "output_type": "stream",
     "text": [
      "\n"
     ]
    }
   ],
   "source": [
    "filename = '../data/snapshots/orderbooks_USDT_BTC_range1.15_samplesNone_snapshot2017-01-11T17:19.dict'\n",
    "orderbooks, timestamps = load_orderbook_snapshot(infile=filename, first_line=0, last_line=1000)\n",
    "# display(timestamps)\n",
    "print(len(orderbooks[0]))\n",
    "\n",
    "# orderbooks = orderbooks[:1000]"
   ]
  },
  {
   "cell_type": "code",
   "execution_count": 6,
   "metadata": {
    "collapsed": false
   },
   "outputs": [
    {
     "data": {
      "text/plain": [
       "u'2016-11-08T10:00'"
      ]
     },
     "metadata": {},
     "output_type": "display_data"
    }
   ],
   "source": [
    "display(timestamps[0][:-10])"
   ]
  },
  {
   "cell_type": "code",
   "execution_count": 8,
   "metadata": {
    "collapsed": false,
    "scrolled": false
   },
   "outputs": [
    {
     "name": "stdout",
     "output_type": "stream",
     "text": [
      "Period 1: volume=40, limit=708.1\n"
     ]
    },
    {
     "name": "stderr",
     "output_type": "stream",
     "text": [
      "/usr/lib64/python2.7/site-packages/pandas/core/indexing.py:140: SettingWithCopyWarning: \n",
      "A value is trying to be set on a copy of a slice from a DataFrame\n",
      "\n",
      "See the caveats in the documentation: http://pandas.pydata.org/pandas-docs/stable/indexing.html#indexing-view-versus-copy\n",
      "  self._setitem_with_indexer(indexer, value)\n"
     ]
    },
    {
     "name": "stdout",
     "output_type": "stream",
     "text": [
      "  Traded: 15.45505799 shares\n",
      "\n",
      "Period 2: volume=24.54494201, limit=708.1\n",
      "  Traded: 9.45250816 shares\n",
      "\n",
      "Period 3: volume=15.09243385, limit=708.1\n",
      "  Traded: 1.80895279 shares\n",
      "\n",
      "Period 4: volume=13.28348106, limit=708.1\n"
     ]
    },
    {
     "name": "stderr",
     "output_type": "stream",
     "text": [
      "/usr/lib64/python2.7/site-packages/pandas/core/generic.py:5128: RuntimeWarning: invalid value encountered in absolute\n",
      "  return np.abs(self)\n"
     ]
    },
    {
     "name": "stdout",
     "output_type": "stream",
     "text": [
      "Period 5: volume=13.28348106, limit=708.1\n",
      "Period 6: volume=13.28348106, limit=708.1\n",
      "Period 7: volume=13.28348106, limit=708.1\n",
      "Period 8: volume=13.28348106, limit=708.1\n",
      "  Traded: 6.46918128 shares\n",
      "\n",
      "Period 9: volume=6.81429978, limit=708.1\n",
      "Period 10: volume=6.81429978, limit=708.1\n",
      "Run out of time (t=0).\n",
      "Trade remaining 6.8143/6.8143 shares for current market order price\n",
      "No shares left at t=0, Done!\n",
      "  Traded: 6.81429978 shares\n",
      "\n",
      "Done after 10 order_periods\n",
      "Total costs: 66.4530478439, cotal cashflow: -28275.4520907\n"
     ]
    },
    {
     "data": {
      "text/html": [
       "<div>\n",
       "<table border=\"1\" class=\"dataframe\">\n",
       "  <thead>\n",
       "    <tr style=\"text-align: right;\">\n",
       "      <th></th>\n",
       "      <th>ASK</th>\n",
       "      <th>BID</th>\n",
       "      <th>CENTER</th>\n",
       "      <th>LIMIT</th>\n",
       "      <th>SPREAD</th>\n",
       "      <th>TIMESPAN</th>\n",
       "      <th>VOLUME</th>\n",
       "      <th>avg</th>\n",
       "      <th>cashflow</th>\n",
       "      <th>cost</th>\n",
       "      <th>cost_avg</th>\n",
       "      <th>high</th>\n",
       "      <th>low</th>\n",
       "      <th>volume_left</th>\n",
       "      <th>volume_traded</th>\n",
       "    </tr>\n",
       "  </thead>\n",
       "  <tbody>\n",
       "    <tr>\n",
       "      <th>2016-11-08T10:00</th>\n",
       "      <td>705.45</td>\n",
       "      <td>705.00</td>\n",
       "      <td>705.224976</td>\n",
       "      <td>708.1</td>\n",
       "      <td>0.45</td>\n",
       "      <td>1</td>\n",
       "      <td>40.000000</td>\n",
       "      <td>706.88592</td>\n",
       "      <td>-10924.962862</td>\n",
       "      <td>25.669961</td>\n",
       "      <td>1.660944</td>\n",
       "      <td>708.10</td>\n",
       "      <td>705.450000</td>\n",
       "      <td>24.544942</td>\n",
       "      <td>15.455058</td>\n",
       "    </tr>\n",
       "    <tr>\n",
       "      <th>2016-11-08T10:01</th>\n",
       "      <td>705.45</td>\n",
       "      <td>703.80</td>\n",
       "      <td>704.624678</td>\n",
       "      <td>708.1</td>\n",
       "      <td>1.65</td>\n",
       "      <td>1</td>\n",
       "      <td>24.544942</td>\n",
       "      <td>706.53801</td>\n",
       "      <td>-6678.556284</td>\n",
       "      <td>12.411443</td>\n",
       "      <td>1.313034</td>\n",
       "      <td>706.81</td>\n",
       "      <td>705.450000</td>\n",
       "      <td>15.092434</td>\n",
       "      <td>9.452508</td>\n",
       "    </tr>\n",
       "    <tr>\n",
       "      <th>2016-11-08T10:02</th>\n",
       "      <td>705.45</td>\n",
       "      <td>703.80</td>\n",
       "      <td>704.624678</td>\n",
       "      <td>708.1</td>\n",
       "      <td>1.65</td>\n",
       "      <td>1</td>\n",
       "      <td>15.092434</td>\n",
       "      <td>705.45000</td>\n",
       "      <td>-1276.125746</td>\n",
       "      <td>0.407058</td>\n",
       "      <td>0.225024</td>\n",
       "      <td>705.45</td>\n",
       "      <td>705.450000</td>\n",
       "      <td>13.283481</td>\n",
       "      <td>1.808953</td>\n",
       "    </tr>\n",
       "    <tr>\n",
       "      <th>2016-11-08T10:03</th>\n",
       "      <td>708.18</td>\n",
       "      <td>703.80</td>\n",
       "      <td>705.987736</td>\n",
       "      <td>708.1</td>\n",
       "      <td>4.38</td>\n",
       "      <td>1</td>\n",
       "      <td>13.283481</td>\n",
       "      <td>NaN</td>\n",
       "      <td>0.000000</td>\n",
       "      <td>0.000000</td>\n",
       "      <td>NaN</td>\n",
       "      <td>0.00</td>\n",
       "      <td>inf</td>\n",
       "      <td>13.283481</td>\n",
       "      <td>0.000000</td>\n",
       "    </tr>\n",
       "    <tr>\n",
       "      <th>2016-11-08T10:04</th>\n",
       "      <td>708.18</td>\n",
       "      <td>703.80</td>\n",
       "      <td>705.987736</td>\n",
       "      <td>708.1</td>\n",
       "      <td>4.38</td>\n",
       "      <td>1</td>\n",
       "      <td>13.283481</td>\n",
       "      <td>NaN</td>\n",
       "      <td>0.000000</td>\n",
       "      <td>0.000000</td>\n",
       "      <td>NaN</td>\n",
       "      <td>0.00</td>\n",
       "      <td>inf</td>\n",
       "      <td>13.283481</td>\n",
       "      <td>0.000000</td>\n",
       "    </tr>\n",
       "    <tr>\n",
       "      <th>2016-11-08T10:05</th>\n",
       "      <td>708.18</td>\n",
       "      <td>703.80</td>\n",
       "      <td>705.987736</td>\n",
       "      <td>708.1</td>\n",
       "      <td>4.38</td>\n",
       "      <td>1</td>\n",
       "      <td>13.283481</td>\n",
       "      <td>NaN</td>\n",
       "      <td>0.000000</td>\n",
       "      <td>0.000000</td>\n",
       "      <td>NaN</td>\n",
       "      <td>0.00</td>\n",
       "      <td>inf</td>\n",
       "      <td>13.283481</td>\n",
       "      <td>0.000000</td>\n",
       "    </tr>\n",
       "    <tr>\n",
       "      <th>2016-11-08T10:06</th>\n",
       "      <td>708.18</td>\n",
       "      <td>703.80</td>\n",
       "      <td>705.987736</td>\n",
       "      <td>708.1</td>\n",
       "      <td>4.38</td>\n",
       "      <td>1</td>\n",
       "      <td>13.283481</td>\n",
       "      <td>NaN</td>\n",
       "      <td>0.000000</td>\n",
       "      <td>0.000000</td>\n",
       "      <td>NaN</td>\n",
       "      <td>0.00</td>\n",
       "      <td>inf</td>\n",
       "      <td>13.283481</td>\n",
       "      <td>0.000000</td>\n",
       "    </tr>\n",
       "    <tr>\n",
       "      <th>2016-11-08T10:07</th>\n",
       "      <td>705.00</td>\n",
       "      <td>704.11</td>\n",
       "      <td>704.554906</td>\n",
       "      <td>708.1</td>\n",
       "      <td>0.89</td>\n",
       "      <td>1</td>\n",
       "      <td>13.283481</td>\n",
       "      <td>707.52000</td>\n",
       "      <td>-4577.075109</td>\n",
       "      <td>14.846896</td>\n",
       "      <td>2.295024</td>\n",
       "      <td>707.52</td>\n",
       "      <td>705.000000</td>\n",
       "      <td>6.814300</td>\n",
       "      <td>6.469181</td>\n",
       "    </tr>\n",
       "    <tr>\n",
       "      <th>2016-11-08T10:08</th>\n",
       "      <td>708.18</td>\n",
       "      <td>704.11</td>\n",
       "      <td>706.143045</td>\n",
       "      <td>708.1</td>\n",
       "      <td>4.07</td>\n",
       "      <td>1</td>\n",
       "      <td>6.814300</td>\n",
       "      <td>NaN</td>\n",
       "      <td>0.000000</td>\n",
       "      <td>0.000000</td>\n",
       "      <td>NaN</td>\n",
       "      <td>0.00</td>\n",
       "      <td>inf</td>\n",
       "      <td>6.814300</td>\n",
       "      <td>0.000000</td>\n",
       "    </tr>\n",
       "    <tr>\n",
       "      <th>2016-11-08T10:09</th>\n",
       "      <td>707.15</td>\n",
       "      <td>704.11</td>\n",
       "      <td>705.628909</td>\n",
       "      <td>708.1</td>\n",
       "      <td>3.04</td>\n",
       "      <td>1</td>\n",
       "      <td>6.814300</td>\n",
       "      <td>707.15000</td>\n",
       "      <td>-4818.732089</td>\n",
       "      <td>13.117690</td>\n",
       "      <td>1.925024</td>\n",
       "      <td>707.15</td>\n",
       "      <td>707.150000</td>\n",
       "      <td>0.000000</td>\n",
       "      <td>6.814300</td>\n",
       "    </tr>\n",
       "  </tbody>\n",
       "</table>\n",
       "</div>"
      ],
      "text/plain": [
       "                     ASK     BID      CENTER  LIMIT  SPREAD  TIMESPAN  \\\n",
       "2016-11-08T10:00  705.45  705.00  705.224976  708.1    0.45         1   \n",
       "2016-11-08T10:01  705.45  703.80  704.624678  708.1    1.65         1   \n",
       "2016-11-08T10:02  705.45  703.80  704.624678  708.1    1.65         1   \n",
       "2016-11-08T10:03  708.18  703.80  705.987736  708.1    4.38         1   \n",
       "2016-11-08T10:04  708.18  703.80  705.987736  708.1    4.38         1   \n",
       "2016-11-08T10:05  708.18  703.80  705.987736  708.1    4.38         1   \n",
       "2016-11-08T10:06  708.18  703.80  705.987736  708.1    4.38         1   \n",
       "2016-11-08T10:07  705.00  704.11  704.554906  708.1    0.89         1   \n",
       "2016-11-08T10:08  708.18  704.11  706.143045  708.1    4.07         1   \n",
       "2016-11-08T10:09  707.15  704.11  705.628909  708.1    3.04         1   \n",
       "\n",
       "                     VOLUME        avg      cashflow       cost  cost_avg  \\\n",
       "2016-11-08T10:00  40.000000  706.88592 -10924.962862  25.669961  1.660944   \n",
       "2016-11-08T10:01  24.544942  706.53801  -6678.556284  12.411443  1.313034   \n",
       "2016-11-08T10:02  15.092434  705.45000  -1276.125746   0.407058  0.225024   \n",
       "2016-11-08T10:03  13.283481        NaN      0.000000   0.000000       NaN   \n",
       "2016-11-08T10:04  13.283481        NaN      0.000000   0.000000       NaN   \n",
       "2016-11-08T10:05  13.283481        NaN      0.000000   0.000000       NaN   \n",
       "2016-11-08T10:06  13.283481        NaN      0.000000   0.000000       NaN   \n",
       "2016-11-08T10:07  13.283481  707.52000  -4577.075109  14.846896  2.295024   \n",
       "2016-11-08T10:08   6.814300        NaN      0.000000   0.000000       NaN   \n",
       "2016-11-08T10:09   6.814300  707.15000  -4818.732089  13.117690  1.925024   \n",
       "\n",
       "                    high         low  volume_left  volume_traded  \n",
       "2016-11-08T10:00  708.10  705.450000    24.544942      15.455058  \n",
       "2016-11-08T10:01  706.81  705.450000    15.092434       9.452508  \n",
       "2016-11-08T10:02  705.45  705.450000    13.283481       1.808953  \n",
       "2016-11-08T10:03    0.00         inf    13.283481       0.000000  \n",
       "2016-11-08T10:04    0.00         inf    13.283481       0.000000  \n",
       "2016-11-08T10:05    0.00         inf    13.283481       0.000000  \n",
       "2016-11-08T10:06    0.00         inf    13.283481       0.000000  \n",
       "2016-11-08T10:07  707.52  705.000000     6.814300       6.469181  \n",
       "2016-11-08T10:08    0.00         inf     6.814300       0.000000  \n",
       "2016-11-08T10:09  707.15  707.150000     0.000000       6.814300  "
      ]
     },
     "metadata": {},
     "output_type": "display_data"
    },
    {
     "name": "stdout",
     "output_type": "stream",
     "text": [
      " #####   TRADE Number 10   #####\n",
      "Purchase history\n"
     ]
    },
    {
     "data": {
      "text/plain": [
       "{'705.0': 1.2e-05,\n",
       " '705.45': 6.858105590000001,\n",
       " '706.17': 0.052837839999999997,\n",
       " '706.19': 0.64532266000000005,\n",
       " '706.41': 0.045817419999999998,\n",
       " '706.81': 7.5297190599999997,\n",
       " '706.89': 0.10516049,\n",
       " '707.15': 6.8142997799999998,\n",
       " '707.18': 7.9885557299999999,\n",
       " '707.33': 0.26000000000000001,\n",
       " '707.5': 0.00042999999999999999,\n",
       " '707.52': 8.0477047200000005,\n",
       " '707.6': 0.00011,\n",
       " '707.61': 0.0027245099999999999,\n",
       " '707.7': 0.00068999999999999997,\n",
       " '707.8': 0.00075000000000000002,\n",
       " '707.82': 0.0030015100000000002,\n",
       " '707.83': 0.0066845100000000003,\n",
       " '707.84': 1.63626418,\n",
       " '707.9': 0.00084000000000000003,\n",
       " '708.0': 0.00020000000000000001,\n",
       " '708.1': 0.00076999999999999996}"
      ]
     },
     "metadata": {},
     "output_type": "display_data"
    },
    {
     "name": "stdout",
     "output_type": "stream",
     "text": [
      "Sell history\n"
     ]
    },
    {
     "data": {
      "text/plain": [
       "{}"
      ]
     },
     "metadata": {},
     "output_type": "display_data"
    },
    {
     "name": "stdout",
     "output_type": "stream",
     "text": [
      "Last trade\n"
     ]
    },
    {
     "data": {
      "text/plain": [
       "{'707.15': 6.8142997799999998}"
      ]
     },
     "metadata": {},
     "output_type": "display_data"
    },
    {
     "name": "stdout",
     "output_type": "stream",
     "text": [
      "Last trade  : 6.8143/6.8143 shares\n",
      "Total trades: 40.0000/40.0000 shares\n",
      "Spread: 4.07 (bid: 704.11, ask: 708.18)\n",
      "Adjusted Orderbook:\n"
     ]
    },
    {
     "data": {
      "text/html": [
       "<div>\n",
       "<table border=\"1\" class=\"dataframe\">\n",
       "  <thead>\n",
       "    <tr style=\"text-align: right;\">\n",
       "      <th></th>\n",
       "      <th>Amount</th>\n",
       "      <th>Price</th>\n",
       "      <th>Type</th>\n",
       "      <th>Volume</th>\n",
       "      <th>VolumeAcc</th>\n",
       "      <th>norm_Price</th>\n",
       "    </tr>\n",
       "  </thead>\n",
       "  <tbody>\n",
       "    <tr>\n",
       "      <th>989</th>\n",
       "      <td>0.001250</td>\n",
       "      <td>703.700000</td>\n",
       "      <td>bid</td>\n",
       "      <td>0.879625</td>\n",
       "      <td>3383.089266</td>\n",
       "      <td>0.996540</td>\n",
       "    </tr>\n",
       "    <tr>\n",
       "      <th>990</th>\n",
       "      <td>1.621835</td>\n",
       "      <td>703.710000</td>\n",
       "      <td>bid</td>\n",
       "      <td>1141.301226</td>\n",
       "      <td>3382.209641</td>\n",
       "      <td>0.996554</td>\n",
       "    </tr>\n",
       "    <tr>\n",
       "      <th>991</th>\n",
       "      <td>3.182611</td>\n",
       "      <td>704.110000</td>\n",
       "      <td>bid</td>\n",
       "      <td>2240.908414</td>\n",
       "      <td>2240.908414</td>\n",
       "      <td>0.997121</td>\n",
       "    </tr>\n",
       "    <tr>\n",
       "      <th>992</th>\n",
       "      <td>0.000000</td>\n",
       "      <td>706.143045</td>\n",
       "      <td>center</td>\n",
       "      <td>0.000000</td>\n",
       "      <td>0.000000</td>\n",
       "      <td>1.000000</td>\n",
       "    </tr>\n",
       "    <tr>\n",
       "      <th>1012</th>\n",
       "      <td>0.403454</td>\n",
       "      <td>708.180000</td>\n",
       "      <td>ask</td>\n",
       "      <td>285.717770</td>\n",
       "      <td>285.717770</td>\n",
       "      <td>1.002885</td>\n",
       "    </tr>\n",
       "    <tr>\n",
       "      <th>1013</th>\n",
       "      <td>0.000640</td>\n",
       "      <td>708.200000</td>\n",
       "      <td>ask</td>\n",
       "      <td>0.453248</td>\n",
       "      <td>286.171018</td>\n",
       "      <td>1.002913</td>\n",
       "    </tr>\n",
       "    <tr>\n",
       "      <th>1014</th>\n",
       "      <td>0.000700</td>\n",
       "      <td>708.400000</td>\n",
       "      <td>ask</td>\n",
       "      <td>0.495880</td>\n",
       "      <td>286.666898</td>\n",
       "      <td>1.003196</td>\n",
       "    </tr>\n",
       "  </tbody>\n",
       "</table>\n",
       "</div>"
      ],
      "text/plain": [
       "        Amount       Price    Type       Volume    VolumeAcc  norm_Price\n",
       "989   0.001250  703.700000     bid     0.879625  3383.089266    0.996540\n",
       "990   1.621835  703.710000     bid  1141.301226  3382.209641    0.996554\n",
       "991   3.182611  704.110000     bid  2240.908414  2240.908414    0.997121\n",
       "992   0.000000  706.143045  center     0.000000     0.000000    1.000000\n",
       "1012  0.403454  708.180000     ask   285.717770   285.717770    1.002885\n",
       "1013  0.000640  708.200000     ask     0.453248   286.171018    1.002913\n",
       "1014  0.000700  708.400000     ask     0.495880   286.666898    1.003196"
      ]
     },
     "metadata": {},
     "output_type": "display_data"
    },
    {
     "data": {
      "image/png": "[encoded data removed]",
      "text/plain": [
       "<matplotlib.figure.Figure at 0x632e550>"
      ]
     },
     "metadata": {},
     "output_type": "display_data"
    }
   ],
   "source": [
    "# import warnings\n",
    "# warnings.filterwarnings('error')\n",
    "\n",
    "ots = OrderbookTradingSimulator()\n",
    "\n",
    "vol = 40\n",
    "period_length = 1\n",
    "lim = 708.1\n",
    "order_periods = 10\n",
    "must_trade = False\n",
    "\n",
    "ob = orderbooks[0]\n",
    "\n",
    "for i in range(order_periods):\n",
    "    if i == order_periods-1:\n",
    "        must_trade = True\n",
    "    \n",
    "    print(\"Period {}: volume={}, limit={}\".format(i+1, vol, lim))\n",
    "    new_ob = ots.trade_timespan(orderbooks[i*period_length:(i+1)*period_length],\n",
    "                                timestamps[i*period_length],\n",
    "                                timespan=period_length, must_trade=must_trade,\n",
    "                                volume=vol, limit=lim, verbose=False)\n",
    "    vol = ots.history.volume_left.values[-1]\n",
    "    \n",
    "    last_trade = ots.history.volume_traded.values[-1]\n",
    "    if last_trade != 0:\n",
    "        print(\"  Traded: {} shares\\n\".format(last_trade))\n",
    "    \n",
    "    if abs(vol) == 0:\n",
    "        print(\"Done after {} order_periods\".format(i+1))\n",
    "        print(\"Total costs: {}, cotal cashflow: {}\".format(sum(ots.history.cost), sum(ots.history.cashflow)))\n",
    "        break\n",
    "    elif vol > 0:\n",
    "        pass\n",
    "        #lim += 1\n",
    "    elif vol < 0:\n",
    "        pass\n",
    "        #lim -= 1\n",
    "display(ots.history)\n",
    "ots.summarize(new_ob)\n",
    "    \n",
    "\n",
    "# new_ob = ots.trade_timespan(orderbooks[timespan:timespan+timespan], volume=vol, limit=706, verbose=True, timespan=timespan)\n",
    "plot_orderbook(new_ob, title = \"Orderbook {}\".format(ots.t), normalized=True, range_factor=1.05)"
   ]
  },
  {
   "cell_type": "code",
   "execution_count": null,
   "metadata": {
    "collapsed": false,
    "scrolled": false
   },
   "outputs": [],
   "source": [
    "ots = OrderbookTradingSimulator()\n",
    "\n",
    "vol = 2\n",
    "\n",
    "ob = orderbooks[0]\n",
    "new_ob = ots.trade(orderbooks[0], volume=vol, limit=None, verbose=True)\n",
    "plot_orderbook(new_ob, title = \"Orderbook {}\".format(ots.t), normalized=True, range_factor=1.05)\n",
    "trade_counter = 1"
   ]
  },
  {
   "cell_type": "code",
   "execution_count": null,
   "metadata": {
    "collapsed": false,
    "scrolled": false
   },
   "outputs": [],
   "source": [
    "center = orderbooks[0][orderbooks[0].Type=='center'].Price.values[0]\n",
    "bid = orderbooks[0][orderbooks[0].Type=='bid'].Price.values[-1]\n",
    "ask = orderbooks[0][orderbooks[0].Type=='ask'].Price.values[0]\n",
    "print(\"Bid:    {}\".format(bid))\n",
    "print(\"Center: {}\".format(center))\n",
    "print(\"Ask:    {}\\n\".format(ask))\n",
    "\n",
    "result = 0\n",
    "trade_vol = -10\n",
    "limit=704\n",
    "trade_info = place_order(orderbooks[0], trade_vol, limit=limit)\n",
    "cash_flow = trade_info['cashflow']\n",
    "trade_vol -= trade_info['amount_fulfilled']\n",
    "\n",
    "display(trade_info)\n",
    "display(orderbook_preview(ob, 3))\n",
    "\n",
    "#cash_flow = 0\n",
    "minute = 1\n",
    "for i, ob in enumerate(orderbooks[1:]):\n",
    "    if abs(trade_vol) < 1.0e-10:\n",
    "        break\n",
    "        \n",
    "    \n",
    "    print(\"timesteps: {} ==> {}, {}\".format(minute, cash_flow, trade_vol))\n",
    "    if abs(trade_vol) > 1.0e-10 and i == len(orderbooks[1:])-1:\n",
    "        print(\"TRADE!!!\")\n",
    "        # trade always in last Timestep\n",
    "        trade_info = place_order(ob,  trade_vol, limit=None, trade_history=trade_info['trade_history'])\n",
    "        cash_flow += trade_info['cashflow']\n",
    "        trade_vol -= trade_info['amount_fulfilled']\n",
    "    \n",
    "    elif abs(trade_vol) > 1.0e-10:\n",
    "        print(\"trade_vol\", trade_vol)\n",
    "        trade_info = place_order(ob,  trade_vol, limit=limit, trade_history=trade_info['trade_history'])\n",
    "        cash_flow += trade_info['cashflow']\n",
    "        trade_vol -= trade_info['amount_fulfilled']\n",
    "\n",
    "    display(trade_info)\n",
    "    \n",
    "    minute += 1\n",
    "    \n",
    "    print(\"\")\n",
    "    \n",
    "    print(\"trade_vol: {:1.4f}, center: {:1.4f}, limit: {}\".format(trade_vol, ob[ob.Type=='center'].Price.values[0], limit))\n",
    "print(\"timesteps: {} ==> {}, {}\".format(minute, cash_flow, trade_vol))\n",
    "\n",
    "display(orderbook_preview(ob, 3))"
   ]
  },
  {
   "cell_type": "code",
   "execution_count": null,
   "metadata": {
    "collapsed": false,
    "scrolled": false
   },
   "outputs": [],
   "source": [
    "range_factor = 1.01\n",
    "# plot_orderbook(data[0], normalized=True, range_factor=range_factor)\n",
    "print(len(orderbooks))\n",
    "for idx in [1, 5000, 25000, -1]:\n",
    "    print(idx, timestamps[idx])\n",
    "    display(orderbook_preview(orderbooks[idx], 3))\n",
    "    plot_orderbook(orderbooks[idx], title=timestamps[idx], normalized=True, range_factor=range_factor)"
   ]
  },
  {
   "cell_type": "code",
   "execution_count": null,
   "metadata": {
    "collapsed": true
   },
   "outputs": [],
   "source": []
  },
  {
   "cell_type": "code",
   "execution_count": null,
   "metadata": {
    "collapsed": true
   },
   "outputs": [],
   "source": []
  },
  {
   "cell_type": "code",
   "execution_count": null,
   "metadata": {
    "collapsed": true
   },
   "outputs": [],
   "source": []
  }
 ],
 "metadata": {
  "kernelspec": {
   "display_name": "Python 2",
   "language": "python",
   "name": "python2"
  },
  "language_info": {
   "codemirror_mode": {
    "name": "ipython",
    "version": 2
   },
   "file_extension": ".py",
   "mimetype": "text/x-python",
   "name": "python",
   "nbconvert_exporter": "python",
   "pygments_lexer": "ipython2",
   "version": "2.7.5"
  },
  "widgets": {
   "state": {},
   "version": "1.1.2"
  }
 },
 "nbformat": 4,
 "nbformat_minor": 0
}
