{
 "cells": [
  {
   "cell_type": "code",
   "execution_count": 1,
   "metadata": {
    "collapsed": false
   },
   "outputs": [],
   "source": [
    "%load_ext autoreload\n",
    "%autoreload 2\n",
    "\n",
    "from tqdm import tqdm\n",
    "import pandas as pd\n",
    "import numpy as np\n",
    "import gzip\n",
    "import json\n",
    "import math\n",
    "from datetime import datetime\n",
    "from IPython.display import display\n",
    "%matplotlib inline"
   ]
  },
  {
   "cell_type": "code",
   "execution_count": 2,
   "metadata": {
    "collapsed": true
   },
   "outputs": [],
   "source": [
    "currency_pairs = ['USDT_BTC', 'BTC_ETH', 'BTC_XMR', 'BTC_XRP', 'BTC_FCT', 'BTC_NAV', 'BTC_DASH', 'BTC_MAID', 'BTC_ZEC']\n",
    "currency_pair = currency_pairs[0]"
   ]
  },
  {
   "cell_type": "code",
   "execution_count": 3,
   "metadata": {
    "collapsed": false,
    "scrolled": true
   },
   "outputs": [
    {
     "name": "stdout",
     "output_type": "stream",
     "text": [
      "Number of datafiles to extract from: 82405\n",
      "First file: ../data/2016-11-08/poloniex_full_2016-11-08T10:00:09.955811.log.gz\n",
      "Last file : ../data/2017-01-04/poloniex_full_2017-01-04T16:20:05.204740.log.gz\n"
     ]
    }
   ],
   "source": [
    "folder = '../data/'\n",
    "files = [os.path.join(dp, f) for dp, dn, fn in os.walk(os.path.expanduser(folder)) for f in fn]\n",
    "datafiles = sorted([f for f in files if f.endswith('.log.gz')])\n",
    "print(\"Number of datafiles to extract from: {}\".format(len(datafiles)))\n",
    "print(\"First file: {}\".format(datafiles[0]))\n",
    "print(\"Last file : {}\".format(datafiles[-1]))"
   ]
  },
  {
   "cell_type": "code",
   "execution_count": 4,
   "metadata": {
    "collapsed": false
   },
   "outputs": [],
   "source": [
    "from manage_orderbooks import *\n",
    "from orderbook_trade_simulator import *"
   ]
  },
  {
   "cell_type": "raw",
   "metadata": {
    "collapsed": false,
    "scrolled": true
   },
   "source": [
    "num_samples = None\n",
    "range_factor = 1.5\n",
    "\n",
    "filename = \"../data/snapshots/experimental/orderbooks_{}_range{}_samples{}_snapshot{}.dict\".format(\n",
    "    currency_pair, range_factor, num_samples, str(datetime.now().isoformat())[:-10])\n",
    "print(filename)"
   ]
  },
  {
   "cell_type": "raw",
   "metadata": {
    "collapsed": false
   },
   "source": [
    "query_idx = range(100)\n",
    "extract_orderbooks_for_one_currencypair([datafiles[idx] for idx in query_idx], currency_pair='USDT_BTC',\n",
    "                                        outfile=filename,\n",
    "                                        range_factor=range_factor, num_samples=num_samples, float_precision=2)"
   ]
  },
  {
   "cell_type": "code",
   "execution_count": 5,
   "metadata": {
    "collapsed": false
   },
   "outputs": [
    {
     "name": "stderr",
     "output_type": "stream",
     "text": [
      "100%|██████████| 1000/1000 [00:12<00:00, 78.45it/s]"
     ]
    },
    {
     "name": "stdout",
     "output_type": "stream",
     "text": [
      "Loaded Orderbooks: 1000\n",
      "908\n"
     ]
    },
    {
     "name": "stderr",
     "output_type": "stream",
     "text": [
      "\n"
     ]
    }
   ],
   "source": [
    "filename = '../data/snapshots/orderbooks_USDT_BTC_range1.15_samplesNone_snapshot2016-12-15T15:09.dict'\n",
    "orderbooks, timestamps = load_orderbook_snapshot(infile=filename, first_line=0, last_line=1000)\n",
    "# display(timestamps)\n",
    "print(len(orderbooks[0]))\n",
    "\n",
    "# orderbooks = orderbooks[:1000]"
   ]
  },
  {
   "cell_type": "code",
   "execution_count": 6,
   "metadata": {
    "collapsed": false
   },
   "outputs": [
    {
     "data": {
      "text/plain": [
       "u'2016-11-08T10:00'"
      ]
     },
     "metadata": {},
     "output_type": "display_data"
    }
   ],
   "source": [
    "display(timestamps[0][:-10])"
   ]
  },
  {
   "cell_type": "code",
   "execution_count": null,
   "metadata": {
    "collapsed": false,
    "scrolled": false
   },
   "outputs": [
    {
     "name": "stderr",
     "output_type": "stream",
     "text": [
      " 13%|█▎        | 2/15 [00:00<00:00, 19.44it/s]"
     ]
    },
    {
     "name": "stdout",
     "output_type": "stream",
     "text": [
      "Period 1: volume=40, limit=706\n"
     ]
    },
    {
     "name": "stderr",
     "output_type": "stream",
     "text": [
      "100%|██████████| 15/15 [00:01<00:00,  8.91it/s]\n"
     ]
    },
    {
     "data": {
      "text/html": [
       "<div>\n",
       "<table border=\"1\" class=\"dataframe\">\n",
       "  <thead>\n",
       "    <tr style=\"text-align: right;\">\n",
       "      <th></th>\n",
       "      <th>ASK</th>\n",
       "      <th>BID</th>\n",
       "      <th>CENTER</th>\n",
       "      <th>LIMIT</th>\n",
       "      <th>SPREAD</th>\n",
       "      <th>TIMESPAN</th>\n",
       "      <th>VOLUME</th>\n",
       "      <th>avg</th>\n",
       "      <th>cashflow</th>\n",
       "      <th>high</th>\n",
       "      <th>low</th>\n",
       "      <th>slippage</th>\n",
       "      <th>volume_left</th>\n",
       "      <th>volume_traded</th>\n",
       "    </tr>\n",
       "  </thead>\n",
       "  <tbody>\n",
       "    <tr>\n",
       "      <th>2016-11-08T10:00</th>\n",
       "      <td>705.45</td>\n",
       "      <td>705.0</td>\n",
       "      <td>705.224976</td>\n",
       "      <td>706</td>\n",
       "      <td>0.45</td>\n",
       "      <td>15</td>\n",
       "      <td>40</td>\n",
       "      <td>705.449999</td>\n",
       "      <td>-4838.059048</td>\n",
       "      <td>705.45</td>\n",
       "      <td>705.0</td>\n",
       "      <td>0.000005</td>\n",
       "      <td>33.141882</td>\n",
       "      <td>6.858118</td>\n",
       "    </tr>\n",
       "  </tbody>\n",
       "</table>\n",
       "</div>"
      ],
      "text/plain": [
       "                     ASK    BID      CENTER  LIMIT  SPREAD  TIMESPAN  VOLUME  \\\n",
       "2016-11-08T10:00  705.45  705.0  705.224976    706    0.45        15      40   \n",
       "\n",
       "                         avg     cashflow    high    low  slippage  \\\n",
       "2016-11-08T10:00  705.449999 -4838.059048  705.45  705.0  0.000005   \n",
       "\n",
       "                  volume_left  volume_traded  \n",
       "2016-11-08T10:00    33.141882       6.858118  "
      ]
     },
     "metadata": {},
     "output_type": "display_data"
    },
    {
     "name": "stdout",
     "output_type": "stream",
     "text": [
      " #####   TRADE Number 15   #####\n",
      "Purchase history\n"
     ]
    },
    {
     "data": {
      "text/plain": [
       "{'705.0': 1.2e-05, '705.45': 6.858105590000001}"
      ]
     },
     "metadata": {},
     "output_type": "display_data"
    },
    {
     "name": "stdout",
     "output_type": "stream",
     "text": [
      "Sell history\n"
     ]
    },
    {
     "data": {
      "text/plain": [
       "{}"
      ]
     },
     "metadata": {},
     "output_type": "display_data"
    },
    {
     "name": "stdout",
     "output_type": "stream",
     "text": [
      "Last trade\n"
     ]
    },
    {
     "data": {
      "text/plain": [
       "{}"
      ]
     },
     "metadata": {},
     "output_type": "display_data"
    },
    {
     "name": "stdout",
     "output_type": "stream",
     "text": [
      "Last trade  : 6.8581/40.0000 shares\n",
      "Total trades: 6.8581/40.0000 shares\n",
      "Spread: 2.17 (bid: 704.0, ask: 706.17)\n",
      "Adjusted Orderbook:\n"
     ]
    },
    {
     "data": {
      "text/html": [
       "<div>\n",
       "<table border=\"1\" class=\"dataframe\">\n",
       "  <thead>\n",
       "    <tr style=\"text-align: right;\">\n",
       "      <th></th>\n",
       "      <th>Amount</th>\n",
       "      <th>Price</th>\n",
       "      <th>Type</th>\n",
       "      <th>Volume</th>\n",
       "      <th>VolumeAcc</th>\n",
       "      <th>norm_Price</th>\n",
       "    </tr>\n",
       "  </thead>\n",
       "  <tbody>\n",
       "    <tr>\n",
       "      <th>989</th>\n",
       "      <td>1.780000</td>\n",
       "      <td>703.690000</td>\n",
       "      <td>bid</td>\n",
       "      <td>1252.568200</td>\n",
       "      <td>3586.621710</td>\n",
       "      <td>0.998022</td>\n",
       "    </tr>\n",
       "    <tr>\n",
       "      <th>990</th>\n",
       "      <td>0.001250</td>\n",
       "      <td>703.700000</td>\n",
       "      <td>bid</td>\n",
       "      <td>0.879625</td>\n",
       "      <td>2334.053510</td>\n",
       "      <td>0.998036</td>\n",
       "    </tr>\n",
       "    <tr>\n",
       "      <th>991</th>\n",
       "      <td>3.314167</td>\n",
       "      <td>704.000000</td>\n",
       "      <td>bid</td>\n",
       "      <td>2333.173885</td>\n",
       "      <td>2333.173885</td>\n",
       "      <td>0.998462</td>\n",
       "    </tr>\n",
       "    <tr>\n",
       "      <th>992</th>\n",
       "      <td>0.000000</td>\n",
       "      <td>705.084443</td>\n",
       "      <td>center</td>\n",
       "      <td>0.000000</td>\n",
       "      <td>0.000000</td>\n",
       "      <td>1.000000</td>\n",
       "    </tr>\n",
       "    <tr>\n",
       "      <th>994</th>\n",
       "      <td>0.052838</td>\n",
       "      <td>706.170000</td>\n",
       "      <td>ask</td>\n",
       "      <td>37.312497</td>\n",
       "      <td>37.312497</td>\n",
       "      <td>1.001540</td>\n",
       "    </tr>\n",
       "    <tr>\n",
       "      <th>995</th>\n",
       "      <td>0.645323</td>\n",
       "      <td>706.190000</td>\n",
       "      <td>ask</td>\n",
       "      <td>455.720409</td>\n",
       "      <td>493.032907</td>\n",
       "      <td>1.001568</td>\n",
       "    </tr>\n",
       "    <tr>\n",
       "      <th>996</th>\n",
       "      <td>0.045817</td>\n",
       "      <td>706.410000</td>\n",
       "      <td>ask</td>\n",
       "      <td>32.365884</td>\n",
       "      <td>525.398790</td>\n",
       "      <td>1.001880</td>\n",
       "    </tr>\n",
       "  </tbody>\n",
       "</table>\n",
       "</div>"
      ],
      "text/plain": [
       "       Amount       Price    Type       Volume    VolumeAcc  norm_Price\n",
       "989  1.780000  703.690000     bid  1252.568200  3586.621710    0.998022\n",
       "990  0.001250  703.700000     bid     0.879625  2334.053510    0.998036\n",
       "991  3.314167  704.000000     bid  2333.173885  2333.173885    0.998462\n",
       "992  0.000000  705.084443  center     0.000000     0.000000    1.000000\n",
       "994  0.052838  706.170000     ask    37.312497    37.312497    1.001540\n",
       "995  0.645323  706.190000     ask   455.720409   493.032907    1.001568\n",
       "996  0.045817  706.410000     ask    32.365884   525.398790    1.001880"
      ]
     },
     "metadata": {},
     "output_type": "display_data"
    },
    {
     "name": "stderr",
     "output_type": "stream",
     "text": [
      "\r",
      "  0%|          | 0/15 [00:00<?, ?it/s]"
     ]
    },
    {
     "name": "stdout",
     "output_type": "stream",
     "text": [
      "Traded 6.8581/40.0000 shares for -4838.05904847, 33.1419 shares left\n",
      "('vol', 33.141882410000001)\n",
      "volume_of_last_trade_period 0\n",
      "Period 2: volume=33.14188241, limit=706\n"
     ]
    },
    {
     "name": "stderr",
     "output_type": "stream",
     "text": [
      "100%|██████████| 15/15 [00:01<00:00,  8.99it/s]\n",
      "/usr/lib64/python2.7/site-packages/pandas/core/generic.py:5128: RuntimeWarning: invalid value encountered in absolute\n",
      "  return np.abs(self)\n"
     ]
    },
    {
     "data": {
      "text/html": [
       "<div>\n",
       "<table border=\"1\" class=\"dataframe\">\n",
       "  <thead>\n",
       "    <tr style=\"text-align: right;\">\n",
       "      <th></th>\n",
       "      <th>ASK</th>\n",
       "      <th>BID</th>\n",
       "      <th>CENTER</th>\n",
       "      <th>LIMIT</th>\n",
       "      <th>SPREAD</th>\n",
       "      <th>TIMESPAN</th>\n",
       "      <th>VOLUME</th>\n",
       "      <th>avg</th>\n",
       "      <th>cashflow</th>\n",
       "      <th>high</th>\n",
       "      <th>low</th>\n",
       "      <th>slippage</th>\n",
       "      <th>volume_left</th>\n",
       "      <th>volume_traded</th>\n",
       "    </tr>\n",
       "  </thead>\n",
       "  <tbody>\n",
       "    <tr>\n",
       "      <th>2016-11-08T10:00</th>\n",
       "      <td>705.45</td>\n",
       "      <td>705.0</td>\n",
       "      <td>705.224976</td>\n",
       "      <td>706</td>\n",
       "      <td>0.45</td>\n",
       "      <td>15</td>\n",
       "      <td>40.000000</td>\n",
       "      <td>705.449999</td>\n",
       "      <td>-4838.059048</td>\n",
       "      <td>705.45</td>\n",
       "      <td>705.000000</td>\n",
       "      <td>0.000005</td>\n",
       "      <td>33.141882</td>\n",
       "      <td>6.858118</td>\n",
       "    </tr>\n",
       "    <tr>\n",
       "      <th>2016-11-08T10:15</th>\n",
       "      <td>706.17</td>\n",
       "      <td>704.0</td>\n",
       "      <td>705.084443</td>\n",
       "      <td>706</td>\n",
       "      <td>2.17</td>\n",
       "      <td>15</td>\n",
       "      <td>33.141882</td>\n",
       "      <td>NaN</td>\n",
       "      <td>0.000000</td>\n",
       "      <td>0.00</td>\n",
       "      <td>inf</td>\n",
       "      <td>0.000000</td>\n",
       "      <td>33.141882</td>\n",
       "      <td>0.000000</td>\n",
       "    </tr>\n",
       "  </tbody>\n",
       "</table>\n",
       "</div>"
      ],
      "text/plain": [
       "                     ASK    BID      CENTER  LIMIT  SPREAD  TIMESPAN  \\\n",
       "2016-11-08T10:00  705.45  705.0  705.224976    706    0.45        15   \n",
       "2016-11-08T10:15  706.17  704.0  705.084443    706    2.17        15   \n",
       "\n",
       "                     VOLUME         avg     cashflow    high         low  \\\n",
       "2016-11-08T10:00  40.000000  705.449999 -4838.059048  705.45  705.000000   \n",
       "2016-11-08T10:15  33.141882         NaN     0.000000    0.00         inf   \n",
       "\n",
       "                  slippage  volume_left  volume_traded  \n",
       "2016-11-08T10:00  0.000005    33.141882       6.858118  \n",
       "2016-11-08T10:15  0.000000    33.141882       0.000000  "
      ]
     },
     "metadata": {},
     "output_type": "display_data"
    },
    {
     "name": "stdout",
     "output_type": "stream",
     "text": [
      " #####   TRADE Number 30   #####\n",
      "Purchase history\n"
     ]
    },
    {
     "data": {
      "text/plain": [
       "{'705.0': 1.2e-05, '705.45': 6.858105590000001}"
      ]
     },
     "metadata": {},
     "output_type": "display_data"
    },
    {
     "name": "stdout",
     "output_type": "stream",
     "text": [
      "Sell history\n"
     ]
    },
    {
     "data": {
      "text/plain": [
       "{}"
      ]
     },
     "metadata": {},
     "output_type": "display_data"
    },
    {
     "name": "stdout",
     "output_type": "stream",
     "text": [
      "Last trade\n"
     ]
    },
    {
     "data": {
      "text/plain": [
       "{}"
      ]
     },
     "metadata": {},
     "output_type": "display_data"
    },
    {
     "name": "stdout",
     "output_type": "stream",
     "text": [
      "Last trade  : 0.0000/33.1419 shares\n",
      "Total trades: 6.8581/40.0000 shares\n",
      "Spread: 1.17 (bid: 705.0, ask: 706.17)\n",
      "Adjusted Orderbook:\n"
     ]
    },
    {
     "data": {
      "text/html": [
       "<div>\n",
       "<table border=\"1\" class=\"dataframe\">\n",
       "  <thead>\n",
       "    <tr style=\"text-align: right;\">\n",
       "      <th></th>\n",
       "      <th>Amount</th>\n",
       "      <th>Price</th>\n",
       "      <th>Type</th>\n",
       "      <th>Volume</th>\n",
       "      <th>VolumeAcc</th>\n",
       "      <th>norm_Price</th>\n",
       "    </tr>\n",
       "  </thead>\n",
       "  <tbody>\n",
       "    <tr>\n",
       "      <th>990</th>\n",
       "      <td>1.414700</td>\n",
       "      <td>704.110000</td>\n",
       "      <td>bid</td>\n",
       "      <td>996.104417</td>\n",
       "      <td>4294.842874</td>\n",
       "      <td>0.997910</td>\n",
       "    </tr>\n",
       "    <tr>\n",
       "      <th>991</th>\n",
       "      <td>1.702700</td>\n",
       "      <td>704.440000</td>\n",
       "      <td>bid</td>\n",
       "      <td>1199.449988</td>\n",
       "      <td>3298.738457</td>\n",
       "      <td>0.998377</td>\n",
       "    </tr>\n",
       "    <tr>\n",
       "      <th>992</th>\n",
       "      <td>2.977714</td>\n",
       "      <td>705.000000</td>\n",
       "      <td>bid</td>\n",
       "      <td>2099.288469</td>\n",
       "      <td>2099.288469</td>\n",
       "      <td>0.999171</td>\n",
       "    </tr>\n",
       "    <tr>\n",
       "      <th>993</th>\n",
       "      <td>0.000000</td>\n",
       "      <td>705.584838</td>\n",
       "      <td>center</td>\n",
       "      <td>0.000000</td>\n",
       "      <td>0.000000</td>\n",
       "      <td>1.000000</td>\n",
       "    </tr>\n",
       "    <tr>\n",
       "      <th>995</th>\n",
       "      <td>0.052838</td>\n",
       "      <td>706.170000</td>\n",
       "      <td>ask</td>\n",
       "      <td>37.312497</td>\n",
       "      <td>37.312497</td>\n",
       "      <td>1.000829</td>\n",
       "    </tr>\n",
       "    <tr>\n",
       "      <th>996</th>\n",
       "      <td>0.645323</td>\n",
       "      <td>706.190000</td>\n",
       "      <td>ask</td>\n",
       "      <td>455.720409</td>\n",
       "      <td>493.032907</td>\n",
       "      <td>1.000858</td>\n",
       "    </tr>\n",
       "    <tr>\n",
       "      <th>997</th>\n",
       "      <td>0.000950</td>\n",
       "      <td>707.100000</td>\n",
       "      <td>ask</td>\n",
       "      <td>0.671745</td>\n",
       "      <td>493.704652</td>\n",
       "      <td>1.002147</td>\n",
       "    </tr>\n",
       "  </tbody>\n",
       "</table>\n",
       "</div>"
      ],
      "text/plain": [
       "       Amount       Price    Type       Volume    VolumeAcc  norm_Price\n",
       "990  1.414700  704.110000     bid   996.104417  4294.842874    0.997910\n",
       "991  1.702700  704.440000     bid  1199.449988  3298.738457    0.998377\n",
       "992  2.977714  705.000000     bid  2099.288469  2099.288469    0.999171\n",
       "993  0.000000  705.584838  center     0.000000     0.000000    1.000000\n",
       "995  0.052838  706.170000     ask    37.312497    37.312497    1.000829\n",
       "996  0.645323  706.190000     ask   455.720409   493.032907    1.000858\n",
       "997  0.000950  707.100000     ask     0.671745   493.704652    1.002147"
      ]
     },
     "metadata": {},
     "output_type": "display_data"
    },
    {
     "name": "stderr",
     "output_type": "stream",
     "text": [
      "  7%|▋         | 1/15 [00:00<00:01,  8.45it/s]"
     ]
    },
    {
     "name": "stdout",
     "output_type": "stream",
     "text": [
      "Traded 0.0000/33.1419 shares for 0, 33.1419 shares left\n",
      "('vol', 33.141882410000001)\n",
      "volume_of_last_trade_period 0\n",
      "Period 3: volume=33.14188241, limit=706\n"
     ]
    },
    {
     "name": "stderr",
     "output_type": "stream",
     "text": [
      "100%|██████████| 15/15 [00:00<00:00, 14.83it/s]\n"
     ]
    },
    {
     "data": {
      "text/html": [
       "<div>\n",
       "<table border=\"1\" class=\"dataframe\">\n",
       "  <thead>\n",
       "    <tr style=\"text-align: right;\">\n",
       "      <th></th>\n",
       "      <th>ASK</th>\n",
       "      <th>BID</th>\n",
       "      <th>CENTER</th>\n",
       "      <th>LIMIT</th>\n",
       "      <th>SPREAD</th>\n",
       "      <th>TIMESPAN</th>\n",
       "      <th>VOLUME</th>\n",
       "      <th>avg</th>\n",
       "      <th>cashflow</th>\n",
       "      <th>high</th>\n",
       "      <th>low</th>\n",
       "      <th>slippage</th>\n",
       "      <th>volume_left</th>\n",
       "      <th>volume_traded</th>\n",
       "    </tr>\n",
       "  </thead>\n",
       "  <tbody>\n",
       "    <tr>\n",
       "      <th>2016-11-08T10:00</th>\n",
       "      <td>705.45</td>\n",
       "      <td>705.00</td>\n",
       "      <td>705.224976</td>\n",
       "      <td>706</td>\n",
       "      <td>0.45</td>\n",
       "      <td>15</td>\n",
       "      <td>40.000000</td>\n",
       "      <td>705.449999</td>\n",
       "      <td>-4838.059048</td>\n",
       "      <td>705.45</td>\n",
       "      <td>705.000000</td>\n",
       "      <td>0.000005</td>\n",
       "      <td>33.141882</td>\n",
       "      <td>6.858118</td>\n",
       "    </tr>\n",
       "    <tr>\n",
       "      <th>2016-11-08T10:15</th>\n",
       "      <td>706.17</td>\n",
       "      <td>704.00</td>\n",
       "      <td>705.084443</td>\n",
       "      <td>706</td>\n",
       "      <td>2.17</td>\n",
       "      <td>15</td>\n",
       "      <td>33.141882</td>\n",
       "      <td>NaN</td>\n",
       "      <td>0.000000</td>\n",
       "      <td>0.00</td>\n",
       "      <td>inf</td>\n",
       "      <td>0.000000</td>\n",
       "      <td>33.141882</td>\n",
       "      <td>0.000000</td>\n",
       "    </tr>\n",
       "    <tr>\n",
       "      <th>2016-11-08T10:30</th>\n",
       "      <td>706.17</td>\n",
       "      <td>704.44</td>\n",
       "      <td>705.304646</td>\n",
       "      <td>706</td>\n",
       "      <td>1.73</td>\n",
       "      <td>15</td>\n",
       "      <td>33.141882</td>\n",
       "      <td>703.800000</td>\n",
       "      <td>-650.681744</td>\n",
       "      <td>703.80</td>\n",
       "      <td>703.800000</td>\n",
       "      <td>2.191128</td>\n",
       "      <td>32.217356</td>\n",
       "      <td>0.924526</td>\n",
       "    </tr>\n",
       "  </tbody>\n",
       "</table>\n",
       "</div>"
      ],
      "text/plain": [
       "                     ASK     BID      CENTER  LIMIT  SPREAD  TIMESPAN  \\\n",
       "2016-11-08T10:00  705.45  705.00  705.224976    706    0.45        15   \n",
       "2016-11-08T10:15  706.17  704.00  705.084443    706    2.17        15   \n",
       "2016-11-08T10:30  706.17  704.44  705.304646    706    1.73        15   \n",
       "\n",
       "                     VOLUME         avg     cashflow    high         low  \\\n",
       "2016-11-08T10:00  40.000000  705.449999 -4838.059048  705.45  705.000000   \n",
       "2016-11-08T10:15  33.141882         NaN     0.000000    0.00         inf   \n",
       "2016-11-08T10:30  33.141882  703.800000  -650.681744  703.80  703.800000   \n",
       "\n",
       "                  slippage  volume_left  volume_traded  \n",
       "2016-11-08T10:00  0.000005    33.141882       6.858118  \n",
       "2016-11-08T10:15  0.000000    33.141882       0.000000  \n",
       "2016-11-08T10:30  2.191128    32.217356       0.924526  "
      ]
     },
     "metadata": {},
     "output_type": "display_data"
    },
    {
     "name": "stdout",
     "output_type": "stream",
     "text": [
      " #####   TRADE Number 45   #####\n",
      "Purchase history\n"
     ]
    },
    {
     "data": {
      "text/plain": [
       "{'703.8': 0.92452648999999998, '705.0': 1.2e-05, '705.45': 6.858105590000001}"
      ]
     },
     "metadata": {},
     "output_type": "display_data"
    },
    {
     "name": "stdout",
     "output_type": "stream",
     "text": [
      "Sell history\n"
     ]
    },
    {
     "data": {
      "text/plain": [
       "{}"
      ]
     },
     "metadata": {},
     "output_type": "display_data"
    },
    {
     "name": "stdout",
     "output_type": "stream",
     "text": [
      "Last trade\n"
     ]
    },
    {
     "data": {
      "text/plain": [
       "{}"
      ]
     },
     "metadata": {},
     "output_type": "display_data"
    },
    {
     "name": "stdout",
     "output_type": "stream",
     "text": [
      "Last trade  : 0.9245/33.1419 shares\n",
      "Total trades: 7.7826/40.0000 shares\n",
      "Spread: 2.69 (bid: 703.5, ask: 706.19)\n",
      "Adjusted Orderbook:\n"
     ]
    },
    {
     "data": {
      "text/html": [
       "<div>\n",
       "<table border=\"1\" class=\"dataframe\">\n",
       "  <thead>\n",
       "    <tr style=\"text-align: right;\">\n",
       "      <th></th>\n",
       "      <th>Amount</th>\n",
       "      <th>Price</th>\n",
       "      <th>Type</th>\n",
       "      <th>Volume</th>\n",
       "      <th>VolumeAcc</th>\n",
       "      <th>norm_Price</th>\n",
       "    </tr>\n",
       "  </thead>\n",
       "  <tbody>\n",
       "    <tr>\n",
       "      <th>987</th>\n",
       "      <td>0.060000</td>\n",
       "      <td>703.000000</td>\n",
       "      <td>bid</td>\n",
       "      <td>42.180000</td>\n",
       "      <td>2950.318685</td>\n",
       "      <td>0.997384</td>\n",
       "    </tr>\n",
       "    <tr>\n",
       "      <th>988</th>\n",
       "      <td>1.700000</td>\n",
       "      <td>703.360000</td>\n",
       "      <td>bid</td>\n",
       "      <td>1195.712000</td>\n",
       "      <td>2908.138685</td>\n",
       "      <td>0.997894</td>\n",
       "    </tr>\n",
       "    <tr>\n",
       "      <th>989</th>\n",
       "      <td>2.434153</td>\n",
       "      <td>703.500000</td>\n",
       "      <td>bid</td>\n",
       "      <td>1712.426685</td>\n",
       "      <td>1712.426685</td>\n",
       "      <td>0.998093</td>\n",
       "    </tr>\n",
       "    <tr>\n",
       "      <th>990</th>\n",
       "      <td>0.000000</td>\n",
       "      <td>704.844144</td>\n",
       "      <td>center</td>\n",
       "      <td>0.000000</td>\n",
       "      <td>0.000000</td>\n",
       "      <td>1.000000</td>\n",
       "    </tr>\n",
       "    <tr>\n",
       "      <th>991</th>\n",
       "      <td>3.642925</td>\n",
       "      <td>706.190000</td>\n",
       "      <td>ask</td>\n",
       "      <td>2572.597220</td>\n",
       "      <td>2572.597220</td>\n",
       "      <td>1.001909</td>\n",
       "    </tr>\n",
       "    <tr>\n",
       "      <th>992</th>\n",
       "      <td>0.000830</td>\n",
       "      <td>707.000000</td>\n",
       "      <td>ask</td>\n",
       "      <td>0.586810</td>\n",
       "      <td>2573.184030</td>\n",
       "      <td>1.003059</td>\n",
       "    </tr>\n",
       "    <tr>\n",
       "      <th>993</th>\n",
       "      <td>0.000950</td>\n",
       "      <td>707.100000</td>\n",
       "      <td>ask</td>\n",
       "      <td>0.671745</td>\n",
       "      <td>2573.855775</td>\n",
       "      <td>1.003201</td>\n",
       "    </tr>\n",
       "  </tbody>\n",
       "</table>\n",
       "</div>"
      ],
      "text/plain": [
       "       Amount       Price    Type       Volume    VolumeAcc  norm_Price\n",
       "987  0.060000  703.000000     bid    42.180000  2950.318685    0.997384\n",
       "988  1.700000  703.360000     bid  1195.712000  2908.138685    0.997894\n",
       "989  2.434153  703.500000     bid  1712.426685  1712.426685    0.998093\n",
       "990  0.000000  704.844144  center     0.000000     0.000000    1.000000\n",
       "991  3.642925  706.190000     ask  2572.597220  2572.597220    1.001909\n",
       "992  0.000830  707.000000     ask     0.586810  2573.184030    1.003059\n",
       "993  0.000950  707.100000     ask     0.671745  2573.855775    1.003201"
      ]
     },
     "metadata": {},
     "output_type": "display_data"
    },
    {
     "name": "stderr",
     "output_type": "stream",
     "text": [
      " 13%|█▎        | 2/15 [00:00<00:00, 17.63it/s]"
     ]
    },
    {
     "name": "stdout",
     "output_type": "stream",
     "text": [
      "Traded 0.9245/33.1419 shares for -650.681743662, 32.2174 shares left\n",
      "('vol', 32.217355920000003)\n",
      "volume_of_last_trade_period 0\n",
      "Period 4: volume=32.21735592, limit=706\n"
     ]
    },
    {
     "name": "stderr",
     "output_type": "stream",
     "text": [
      "100%|██████████| 15/15 [00:00<00:00, 19.00it/s]\n"
     ]
    },
    {
     "data": {
      "text/html": [
       "<div>\n",
       "<table border=\"1\" class=\"dataframe\">\n",
       "  <thead>\n",
       "    <tr style=\"text-align: right;\">\n",
       "      <th></th>\n",
       "      <th>ASK</th>\n",
       "      <th>BID</th>\n",
       "      <th>CENTER</th>\n",
       "      <th>LIMIT</th>\n",
       "      <th>SPREAD</th>\n",
       "      <th>TIMESPAN</th>\n",
       "      <th>VOLUME</th>\n",
       "      <th>avg</th>\n",
       "      <th>cashflow</th>\n",
       "      <th>high</th>\n",
       "      <th>low</th>\n",
       "      <th>slippage</th>\n",
       "      <th>volume_left</th>\n",
       "      <th>volume_traded</th>\n",
       "    </tr>\n",
       "  </thead>\n",
       "  <tbody>\n",
       "    <tr>\n",
       "      <th>2016-11-08T10:00</th>\n",
       "      <td>705.45</td>\n",
       "      <td>705.00</td>\n",
       "      <td>705.224976</td>\n",
       "      <td>706</td>\n",
       "      <td>0.45</td>\n",
       "      <td>15</td>\n",
       "      <td>40.000000</td>\n",
       "      <td>705.449999</td>\n",
       "      <td>-4838.059048</td>\n",
       "      <td>705.45</td>\n",
       "      <td>705.000000</td>\n",
       "      <td>0.000005</td>\n",
       "      <td>33.141882</td>\n",
       "      <td>6.858118e+00</td>\n",
       "    </tr>\n",
       "    <tr>\n",
       "      <th>2016-11-08T10:15</th>\n",
       "      <td>706.17</td>\n",
       "      <td>704.00</td>\n",
       "      <td>705.084443</td>\n",
       "      <td>706</td>\n",
       "      <td>2.17</td>\n",
       "      <td>15</td>\n",
       "      <td>33.141882</td>\n",
       "      <td>NaN</td>\n",
       "      <td>0.000000</td>\n",
       "      <td>0.00</td>\n",
       "      <td>inf</td>\n",
       "      <td>0.000000</td>\n",
       "      <td>33.141882</td>\n",
       "      <td>0.000000e+00</td>\n",
       "    </tr>\n",
       "    <tr>\n",
       "      <th>2016-11-08T10:30</th>\n",
       "      <td>706.17</td>\n",
       "      <td>704.44</td>\n",
       "      <td>705.304646</td>\n",
       "      <td>706</td>\n",
       "      <td>1.73</td>\n",
       "      <td>15</td>\n",
       "      <td>33.141882</td>\n",
       "      <td>703.800000</td>\n",
       "      <td>-650.681744</td>\n",
       "      <td>703.80</td>\n",
       "      <td>703.800000</td>\n",
       "      <td>2.191128</td>\n",
       "      <td>32.217356</td>\n",
       "      <td>9.245265e-01</td>\n",
       "    </tr>\n",
       "    <tr>\n",
       "      <th>2016-11-08T10:45</th>\n",
       "      <td>703.63</td>\n",
       "      <td>703.50</td>\n",
       "      <td>703.564998</td>\n",
       "      <td>706</td>\n",
       "      <td>0.13</td>\n",
       "      <td>15</td>\n",
       "      <td>32.217356</td>\n",
       "      <td>703.630000</td>\n",
       "      <td>-0.000007</td>\n",
       "      <td>703.63</td>\n",
       "      <td>703.630000</td>\n",
       "      <td>0.000000</td>\n",
       "      <td>32.217356</td>\n",
       "      <td>1.000000e-08</td>\n",
       "    </tr>\n",
       "  </tbody>\n",
       "</table>\n",
       "</div>"
      ],
      "text/plain": [
       "                     ASK     BID      CENTER  LIMIT  SPREAD  TIMESPAN  \\\n",
       "2016-11-08T10:00  705.45  705.00  705.224976    706    0.45        15   \n",
       "2016-11-08T10:15  706.17  704.00  705.084443    706    2.17        15   \n",
       "2016-11-08T10:30  706.17  704.44  705.304646    706    1.73        15   \n",
       "2016-11-08T10:45  703.63  703.50  703.564998    706    0.13        15   \n",
       "\n",
       "                     VOLUME         avg     cashflow    high         low  \\\n",
       "2016-11-08T10:00  40.000000  705.449999 -4838.059048  705.45  705.000000   \n",
       "2016-11-08T10:15  33.141882         NaN     0.000000    0.00         inf   \n",
       "2016-11-08T10:30  33.141882  703.800000  -650.681744  703.80  703.800000   \n",
       "2016-11-08T10:45  32.217356  703.630000    -0.000007  703.63  703.630000   \n",
       "\n",
       "                  slippage  volume_left  volume_traded  \n",
       "2016-11-08T10:00  0.000005    33.141882   6.858118e+00  \n",
       "2016-11-08T10:15  0.000000    33.141882   0.000000e+00  \n",
       "2016-11-08T10:30  2.191128    32.217356   9.245265e-01  \n",
       "2016-11-08T10:45  0.000000    32.217356   1.000000e-08  "
      ]
     },
     "metadata": {},
     "output_type": "display_data"
    },
    {
     "name": "stdout",
     "output_type": "stream",
     "text": [
      " #####   TRADE Number 60   #####\n",
      "Purchase history\n"
     ]
    },
    {
     "data": {
      "text/plain": [
       "{'703.63': 1e-08,\n",
       " '703.8': 0.92452648999999998,\n",
       " '705.0': 1.2e-05,\n",
       " '705.45': 6.858105590000001}"
      ]
     },
     "metadata": {},
     "output_type": "display_data"
    },
    {
     "name": "stdout",
     "output_type": "stream",
     "text": [
      "Sell history\n"
     ]
    },
    {
     "data": {
      "text/plain": [
       "{}"
      ]
     },
     "metadata": {},
     "output_type": "display_data"
    },
    {
     "name": "stdout",
     "output_type": "stream",
     "text": [
      "Last trade\n"
     ]
    },
    {
     "data": {
      "text/plain": [
       "{}"
      ]
     },
     "metadata": {},
     "output_type": "display_data"
    },
    {
     "name": "stdout",
     "output_type": "stream",
     "text": [
      "Last trade  : 0.0000/32.2174 shares\n",
      "Total trades: 7.7826/40.0000 shares\n",
      "Spread: 1.5 (bid: 704.58, ask: 706.08)\n",
      "Adjusted Orderbook:\n"
     ]
    },
    {
     "data": {
      "text/html": [
       "<div>\n",
       "<table border=\"1\" class=\"dataframe\">\n",
       "  <thead>\n",
       "    <tr style=\"text-align: right;\">\n",
       "      <th></th>\n",
       "      <th>Amount</th>\n",
       "      <th>Price</th>\n",
       "      <th>Type</th>\n",
       "      <th>Volume</th>\n",
       "      <th>VolumeAcc</th>\n",
       "      <th>norm_Price</th>\n",
       "    </tr>\n",
       "  </thead>\n",
       "  <tbody>\n",
       "    <tr>\n",
       "      <th>996</th>\n",
       "      <td>0.500000</td>\n",
       "      <td>703.500000</td>\n",
       "      <td>bid</td>\n",
       "      <td>351.750000</td>\n",
       "      <td>2202.209473</td>\n",
       "      <td>0.997406</td>\n",
       "    </tr>\n",
       "    <tr>\n",
       "      <th>997</th>\n",
       "      <td>2.008741</td>\n",
       "      <td>703.670000</td>\n",
       "      <td>bid</td>\n",
       "      <td>1413.490611</td>\n",
       "      <td>1850.459473</td>\n",
       "      <td>0.997647</td>\n",
       "    </tr>\n",
       "    <tr>\n",
       "      <th>998</th>\n",
       "      <td>0.620183</td>\n",
       "      <td>704.580000</td>\n",
       "      <td>bid</td>\n",
       "      <td>436.968862</td>\n",
       "      <td>436.968862</td>\n",
       "      <td>0.998937</td>\n",
       "    </tr>\n",
       "    <tr>\n",
       "      <th>999</th>\n",
       "      <td>0.000000</td>\n",
       "      <td>705.329734</td>\n",
       "      <td>center</td>\n",
       "      <td>0.000000</td>\n",
       "      <td>0.000000</td>\n",
       "      <td>1.000000</td>\n",
       "    </tr>\n",
       "    <tr>\n",
       "      <th>1000</th>\n",
       "      <td>4.373581</td>\n",
       "      <td>706.080000</td>\n",
       "      <td>ask</td>\n",
       "      <td>3088.098115</td>\n",
       "      <td>3088.098115</td>\n",
       "      <td>1.001064</td>\n",
       "    </tr>\n",
       "    <tr>\n",
       "      <th>1001</th>\n",
       "      <td>0.006882</td>\n",
       "      <td>706.180000</td>\n",
       "      <td>ask</td>\n",
       "      <td>4.859910</td>\n",
       "      <td>3092.958024</td>\n",
       "      <td>1.001205</td>\n",
       "    </tr>\n",
       "    <tr>\n",
       "      <th>1002</th>\n",
       "      <td>0.508136</td>\n",
       "      <td>706.190000</td>\n",
       "      <td>ask</td>\n",
       "      <td>358.840512</td>\n",
       "      <td>3451.798537</td>\n",
       "      <td>1.001220</td>\n",
       "    </tr>\n",
       "  </tbody>\n",
       "</table>\n",
       "</div>"
      ],
      "text/plain": [
       "        Amount       Price    Type       Volume    VolumeAcc  norm_Price\n",
       "996   0.500000  703.500000     bid   351.750000  2202.209473    0.997406\n",
       "997   2.008741  703.670000     bid  1413.490611  1850.459473    0.997647\n",
       "998   0.620183  704.580000     bid   436.968862   436.968862    0.998937\n",
       "999   0.000000  705.329734  center     0.000000     0.000000    1.000000\n",
       "1000  4.373581  706.080000     ask  3088.098115  3088.098115    1.001064\n",
       "1001  0.006882  706.180000     ask     4.859910  3092.958024    1.001205\n",
       "1002  0.508136  706.190000     ask   358.840512  3451.798537    1.001220"
      ]
     },
     "metadata": {},
     "output_type": "display_data"
    },
    {
     "name": "stderr",
     "output_type": "stream",
     "text": [
      " 13%|█▎        | 2/15 [00:00<00:00, 18.08it/s]"
     ]
    },
    {
     "name": "stdout",
     "output_type": "stream",
     "text": [
      "Traded 0.0000/32.2174 shares for -7.0363e-06, 32.2174 shares left\n",
      "('vol', 32.217355910000002)\n",
      "volume_of_last_trade_period 0\n",
      "Period 5: volume=32.21735591, limit=706\n"
     ]
    },
    {
     "name": "stderr",
     "output_type": "stream",
     "text": [
      "100%|██████████| 15/15 [00:00<00:00, 18.91it/s]\n"
     ]
    },
    {
     "data": {
      "text/html": [
       "<div>\n",
       "<table border=\"1\" class=\"dataframe\">\n",
       "  <thead>\n",
       "    <tr style=\"text-align: right;\">\n",
       "      <th></th>\n",
       "      <th>ASK</th>\n",
       "      <th>BID</th>\n",
       "      <th>CENTER</th>\n",
       "      <th>LIMIT</th>\n",
       "      <th>SPREAD</th>\n",
       "      <th>TIMESPAN</th>\n",
       "      <th>VOLUME</th>\n",
       "      <th>avg</th>\n",
       "      <th>cashflow</th>\n",
       "      <th>high</th>\n",
       "      <th>low</th>\n",
       "      <th>slippage</th>\n",
       "      <th>volume_left</th>\n",
       "      <th>volume_traded</th>\n",
       "    </tr>\n",
       "  </thead>\n",
       "  <tbody>\n",
       "    <tr>\n",
       "      <th>2016-11-08T10:00</th>\n",
       "      <td>705.45</td>\n",
       "      <td>705.00</td>\n",
       "      <td>705.224976</td>\n",
       "      <td>706</td>\n",
       "      <td>0.45</td>\n",
       "      <td>15</td>\n",
       "      <td>40.000000</td>\n",
       "      <td>705.449999</td>\n",
       "      <td>-4838.059048</td>\n",
       "      <td>705.45</td>\n",
       "      <td>705.000000</td>\n",
       "      <td>0.000005</td>\n",
       "      <td>33.141882</td>\n",
       "      <td>6.858118e+00</td>\n",
       "    </tr>\n",
       "    <tr>\n",
       "      <th>2016-11-08T10:15</th>\n",
       "      <td>706.17</td>\n",
       "      <td>704.00</td>\n",
       "      <td>705.084443</td>\n",
       "      <td>706</td>\n",
       "      <td>2.17</td>\n",
       "      <td>15</td>\n",
       "      <td>33.141882</td>\n",
       "      <td>NaN</td>\n",
       "      <td>0.000000</td>\n",
       "      <td>0.00</td>\n",
       "      <td>inf</td>\n",
       "      <td>0.000000</td>\n",
       "      <td>33.141882</td>\n",
       "      <td>0.000000e+00</td>\n",
       "    </tr>\n",
       "    <tr>\n",
       "      <th>2016-11-08T10:30</th>\n",
       "      <td>706.17</td>\n",
       "      <td>704.44</td>\n",
       "      <td>705.304646</td>\n",
       "      <td>706</td>\n",
       "      <td>1.73</td>\n",
       "      <td>15</td>\n",
       "      <td>33.141882</td>\n",
       "      <td>703.800000</td>\n",
       "      <td>-650.681744</td>\n",
       "      <td>703.80</td>\n",
       "      <td>703.800000</td>\n",
       "      <td>2.191128</td>\n",
       "      <td>32.217356</td>\n",
       "      <td>9.245265e-01</td>\n",
       "    </tr>\n",
       "    <tr>\n",
       "      <th>2016-11-08T10:45</th>\n",
       "      <td>703.63</td>\n",
       "      <td>703.50</td>\n",
       "      <td>703.564998</td>\n",
       "      <td>706</td>\n",
       "      <td>0.13</td>\n",
       "      <td>15</td>\n",
       "      <td>32.217356</td>\n",
       "      <td>703.630000</td>\n",
       "      <td>-0.000007</td>\n",
       "      <td>703.63</td>\n",
       "      <td>703.630000</td>\n",
       "      <td>0.000000</td>\n",
       "      <td>32.217356</td>\n",
       "      <td>1.000000e-08</td>\n",
       "    </tr>\n",
       "    <tr>\n",
       "      <th>2016-11-08T11:01</th>\n",
       "      <td>706.08</td>\n",
       "      <td>704.58</td>\n",
       "      <td>705.329734</td>\n",
       "      <td>706</td>\n",
       "      <td>1.50</td>\n",
       "      <td>15</td>\n",
       "      <td>32.217356</td>\n",
       "      <td>705.160000</td>\n",
       "      <td>-1.392585</td>\n",
       "      <td>705.16</td>\n",
       "      <td>705.160000</td>\n",
       "      <td>0.001817</td>\n",
       "      <td>32.215381</td>\n",
       "      <td>1.974850e-03</td>\n",
       "    </tr>\n",
       "  </tbody>\n",
       "</table>\n",
       "</div>"
      ],
      "text/plain": [
       "                     ASK     BID      CENTER  LIMIT  SPREAD  TIMESPAN  \\\n",
       "2016-11-08T10:00  705.45  705.00  705.224976    706    0.45        15   \n",
       "2016-11-08T10:15  706.17  704.00  705.084443    706    2.17        15   \n",
       "2016-11-08T10:30  706.17  704.44  705.304646    706    1.73        15   \n",
       "2016-11-08T10:45  703.63  703.50  703.564998    706    0.13        15   \n",
       "2016-11-08T11:01  706.08  704.58  705.329734    706    1.50        15   \n",
       "\n",
       "                     VOLUME         avg     cashflow    high         low  \\\n",
       "2016-11-08T10:00  40.000000  705.449999 -4838.059048  705.45  705.000000   \n",
       "2016-11-08T10:15  33.141882         NaN     0.000000    0.00         inf   \n",
       "2016-11-08T10:30  33.141882  703.800000  -650.681744  703.80  703.800000   \n",
       "2016-11-08T10:45  32.217356  703.630000    -0.000007  703.63  703.630000   \n",
       "2016-11-08T11:01  32.217356  705.160000    -1.392585  705.16  705.160000   \n",
       "\n",
       "                  slippage  volume_left  volume_traded  \n",
       "2016-11-08T10:00  0.000005    33.141882   6.858118e+00  \n",
       "2016-11-08T10:15  0.000000    33.141882   0.000000e+00  \n",
       "2016-11-08T10:30  2.191128    32.217356   9.245265e-01  \n",
       "2016-11-08T10:45  0.000000    32.217356   1.000000e-08  \n",
       "2016-11-08T11:01  0.001817    32.215381   1.974850e-03  "
      ]
     },
     "metadata": {},
     "output_type": "display_data"
    },
    {
     "name": "stdout",
     "output_type": "stream",
     "text": [
      " #####   TRADE Number 75   #####\n",
      "Purchase history\n"
     ]
    },
    {
     "data": {
      "text/plain": [
       "{'703.63': 1e-08,\n",
       " '703.8': 0.92452648999999998,\n",
       " '705.0': 1.2e-05,\n",
       " '705.16': 0.0019748500000000002,\n",
       " '705.45': 6.858105590000001}"
      ]
     },
     "metadata": {},
     "output_type": "display_data"
    },
    {
     "name": "stdout",
     "output_type": "stream",
     "text": [
      "Sell history\n"
     ]
    },
    {
     "data": {
      "text/plain": [
       "{}"
      ]
     },
     "metadata": {},
     "output_type": "display_data"
    },
    {
     "name": "stdout",
     "output_type": "stream",
     "text": [
      "Last trade\n"
     ]
    },
    {
     "data": {
      "text/plain": [
       "{}"
      ]
     },
     "metadata": {},
     "output_type": "display_data"
    },
    {
     "name": "stdout",
     "output_type": "stream",
     "text": [
      "Last trade  : 0.0020/32.2174 shares\n",
      "Total trades: 7.7846/40.0000 shares\n",
      "Spread: 0.99 (bid: 705.09, ask: 706.08)\n",
      "Adjusted Orderbook:\n"
     ]
    },
    {
     "data": {
      "text/html": [
       "<div>\n",
       "<table border=\"1\" class=\"dataframe\">\n",
       "  <thead>\n",
       "    <tr style=\"text-align: right;\">\n",
       "      <th></th>\n",
       "      <th>Amount</th>\n",
       "      <th>Price</th>\n",
       "      <th>Type</th>\n",
       "      <th>Volume</th>\n",
       "      <th>VolumeAcc</th>\n",
       "      <th>norm_Price</th>\n",
       "    </tr>\n",
       "  </thead>\n",
       "  <tbody>\n",
       "    <tr>\n",
       "      <th>994</th>\n",
       "      <td>0.138709</td>\n",
       "      <td>704.580000</td>\n",
       "      <td>bid</td>\n",
       "      <td>97.731721</td>\n",
       "      <td>4386.143772</td>\n",
       "      <td>0.998576</td>\n",
       "    </tr>\n",
       "    <tr>\n",
       "      <th>995</th>\n",
       "      <td>1.700000</td>\n",
       "      <td>704.780000</td>\n",
       "      <td>bid</td>\n",
       "      <td>1198.126000</td>\n",
       "      <td>4288.412051</td>\n",
       "      <td>0.998859</td>\n",
       "    </tr>\n",
       "    <tr>\n",
       "      <th>996</th>\n",
       "      <td>4.382825</td>\n",
       "      <td>705.090000</td>\n",
       "      <td>bid</td>\n",
       "      <td>3090.286051</td>\n",
       "      <td>3090.286051</td>\n",
       "      <td>0.999299</td>\n",
       "    </tr>\n",
       "    <tr>\n",
       "      <th>997</th>\n",
       "      <td>0.000000</td>\n",
       "      <td>705.584884</td>\n",
       "      <td>center</td>\n",
       "      <td>0.000000</td>\n",
       "      <td>0.000000</td>\n",
       "      <td>1.000000</td>\n",
       "    </tr>\n",
       "    <tr>\n",
       "      <th>998</th>\n",
       "      <td>3.194443</td>\n",
       "      <td>706.080000</td>\n",
       "      <td>ask</td>\n",
       "      <td>2255.532652</td>\n",
       "      <td>2255.532652</td>\n",
       "      <td>1.000702</td>\n",
       "    </tr>\n",
       "    <tr>\n",
       "      <th>999</th>\n",
       "      <td>0.006882</td>\n",
       "      <td>706.180000</td>\n",
       "      <td>ask</td>\n",
       "      <td>4.859910</td>\n",
       "      <td>2260.392562</td>\n",
       "      <td>1.000843</td>\n",
       "    </tr>\n",
       "    <tr>\n",
       "      <th>1000</th>\n",
       "      <td>0.508136</td>\n",
       "      <td>706.190000</td>\n",
       "      <td>ask</td>\n",
       "      <td>358.840512</td>\n",
       "      <td>2619.233074</td>\n",
       "      <td>1.000858</td>\n",
       "    </tr>\n",
       "  </tbody>\n",
       "</table>\n",
       "</div>"
      ],
      "text/plain": [
       "        Amount       Price    Type       Volume    VolumeAcc  norm_Price\n",
       "994   0.138709  704.580000     bid    97.731721  4386.143772    0.998576\n",
       "995   1.700000  704.780000     bid  1198.126000  4288.412051    0.998859\n",
       "996   4.382825  705.090000     bid  3090.286051  3090.286051    0.999299\n",
       "997   0.000000  705.584884  center     0.000000     0.000000    1.000000\n",
       "998   3.194443  706.080000     ask  2255.532652  2255.532652    1.000702\n",
       "999   0.006882  706.180000     ask     4.859910  2260.392562    1.000843\n",
       "1000  0.508136  706.190000     ask   358.840512  2619.233074    1.000858"
      ]
     },
     "metadata": {},
     "output_type": "display_data"
    },
    {
     "name": "stderr",
     "output_type": "stream",
     "text": [
      "\r",
      "  0%|          | 0/15 [00:00<?, ?it/s]"
     ]
    },
    {
     "name": "stdout",
     "output_type": "stream",
     "text": [
      "Traded 0.0020/32.2174 shares for -1.392585226, 32.2154 shares left\n",
      "('vol', 32.215381059999999)\n",
      "volume_of_last_trade_period 0\n",
      "Period 6: volume=32.21538106, limit=706\n"
     ]
    },
    {
     "name": "stderr",
     "output_type": "stream",
     "text": [
      "100%|██████████| 15/15 [00:00<00:00, 18.16it/s]\n"
     ]
    },
    {
     "data": {
      "text/html": [
       "<div>\n",
       "<table border=\"1\" class=\"dataframe\">\n",
       "  <thead>\n",
       "    <tr style=\"text-align: right;\">\n",
       "      <th></th>\n",
       "      <th>ASK</th>\n",
       "      <th>BID</th>\n",
       "      <th>CENTER</th>\n",
       "      <th>LIMIT</th>\n",
       "      <th>SPREAD</th>\n",
       "      <th>TIMESPAN</th>\n",
       "      <th>VOLUME</th>\n",
       "      <th>avg</th>\n",
       "      <th>cashflow</th>\n",
       "      <th>high</th>\n",
       "      <th>low</th>\n",
       "      <th>slippage</th>\n",
       "      <th>volume_left</th>\n",
       "      <th>volume_traded</th>\n",
       "    </tr>\n",
       "  </thead>\n",
       "  <tbody>\n",
       "    <tr>\n",
       "      <th>2016-11-08T10:00</th>\n",
       "      <td>705.45</td>\n",
       "      <td>705.00</td>\n",
       "      <td>705.224976</td>\n",
       "      <td>706</td>\n",
       "      <td>0.45</td>\n",
       "      <td>15</td>\n",
       "      <td>40.000000</td>\n",
       "      <td>705.449999</td>\n",
       "      <td>-4838.059048</td>\n",
       "      <td>705.45</td>\n",
       "      <td>705.000000</td>\n",
       "      <td>0.000005</td>\n",
       "      <td>33.141882</td>\n",
       "      <td>6.858118e+00</td>\n",
       "    </tr>\n",
       "    <tr>\n",
       "      <th>2016-11-08T10:15</th>\n",
       "      <td>706.17</td>\n",
       "      <td>704.00</td>\n",
       "      <td>705.084443</td>\n",
       "      <td>706</td>\n",
       "      <td>2.17</td>\n",
       "      <td>15</td>\n",
       "      <td>33.141882</td>\n",
       "      <td>NaN</td>\n",
       "      <td>0.000000</td>\n",
       "      <td>0.00</td>\n",
       "      <td>inf</td>\n",
       "      <td>0.000000</td>\n",
       "      <td>33.141882</td>\n",
       "      <td>0.000000e+00</td>\n",
       "    </tr>\n",
       "    <tr>\n",
       "      <th>2016-11-08T10:30</th>\n",
       "      <td>706.17</td>\n",
       "      <td>704.44</td>\n",
       "      <td>705.304646</td>\n",
       "      <td>706</td>\n",
       "      <td>1.73</td>\n",
       "      <td>15</td>\n",
       "      <td>33.141882</td>\n",
       "      <td>703.800000</td>\n",
       "      <td>-650.681744</td>\n",
       "      <td>703.80</td>\n",
       "      <td>703.800000</td>\n",
       "      <td>2.191128</td>\n",
       "      <td>32.217356</td>\n",
       "      <td>9.245265e-01</td>\n",
       "    </tr>\n",
       "    <tr>\n",
       "      <th>2016-11-08T10:45</th>\n",
       "      <td>703.63</td>\n",
       "      <td>703.50</td>\n",
       "      <td>703.564998</td>\n",
       "      <td>706</td>\n",
       "      <td>0.13</td>\n",
       "      <td>15</td>\n",
       "      <td>32.217356</td>\n",
       "      <td>703.630000</td>\n",
       "      <td>-0.000007</td>\n",
       "      <td>703.63</td>\n",
       "      <td>703.630000</td>\n",
       "      <td>0.000000</td>\n",
       "      <td>32.217356</td>\n",
       "      <td>1.000000e-08</td>\n",
       "    </tr>\n",
       "    <tr>\n",
       "      <th>2016-11-08T11:01</th>\n",
       "      <td>706.08</td>\n",
       "      <td>704.58</td>\n",
       "      <td>705.329734</td>\n",
       "      <td>706</td>\n",
       "      <td>1.50</td>\n",
       "      <td>15</td>\n",
       "      <td>32.217356</td>\n",
       "      <td>705.160000</td>\n",
       "      <td>-1.392585</td>\n",
       "      <td>705.16</td>\n",
       "      <td>705.160000</td>\n",
       "      <td>0.001817</td>\n",
       "      <td>32.215381</td>\n",
       "      <td>1.974850e-03</td>\n",
       "    </tr>\n",
       "    <tr>\n",
       "      <th>2016-11-08T11:16</th>\n",
       "      <td>706.08</td>\n",
       "      <td>705.09</td>\n",
       "      <td>705.584884</td>\n",
       "      <td>706</td>\n",
       "      <td>0.99</td>\n",
       "      <td>15</td>\n",
       "      <td>32.215381</td>\n",
       "      <td>NaN</td>\n",
       "      <td>0.000000</td>\n",
       "      <td>0.00</td>\n",
       "      <td>inf</td>\n",
       "      <td>0.000000</td>\n",
       "      <td>32.215381</td>\n",
       "      <td>0.000000e+00</td>\n",
       "    </tr>\n",
       "  </tbody>\n",
       "</table>\n",
       "</div>"
      ],
      "text/plain": [
       "                     ASK     BID      CENTER  LIMIT  SPREAD  TIMESPAN  \\\n",
       "2016-11-08T10:00  705.45  705.00  705.224976    706    0.45        15   \n",
       "2016-11-08T10:15  706.17  704.00  705.084443    706    2.17        15   \n",
       "2016-11-08T10:30  706.17  704.44  705.304646    706    1.73        15   \n",
       "2016-11-08T10:45  703.63  703.50  703.564998    706    0.13        15   \n",
       "2016-11-08T11:01  706.08  704.58  705.329734    706    1.50        15   \n",
       "2016-11-08T11:16  706.08  705.09  705.584884    706    0.99        15   \n",
       "\n",
       "                     VOLUME         avg     cashflow    high         low  \\\n",
       "2016-11-08T10:00  40.000000  705.449999 -4838.059048  705.45  705.000000   \n",
       "2016-11-08T10:15  33.141882         NaN     0.000000    0.00         inf   \n",
       "2016-11-08T10:30  33.141882  703.800000  -650.681744  703.80  703.800000   \n",
       "2016-11-08T10:45  32.217356  703.630000    -0.000007  703.63  703.630000   \n",
       "2016-11-08T11:01  32.217356  705.160000    -1.392585  705.16  705.160000   \n",
       "2016-11-08T11:16  32.215381         NaN     0.000000    0.00         inf   \n",
       "\n",
       "                  slippage  volume_left  volume_traded  \n",
       "2016-11-08T10:00  0.000005    33.141882   6.858118e+00  \n",
       "2016-11-08T10:15  0.000000    33.141882   0.000000e+00  \n",
       "2016-11-08T10:30  2.191128    32.217356   9.245265e-01  \n",
       "2016-11-08T10:45  0.000000    32.217356   1.000000e-08  \n",
       "2016-11-08T11:01  0.001817    32.215381   1.974850e-03  \n",
       "2016-11-08T11:16  0.000000    32.215381   0.000000e+00  "
      ]
     },
     "metadata": {},
     "output_type": "display_data"
    },
    {
     "name": "stdout",
     "output_type": "stream",
     "text": [
      " #####   TRADE Number 90   #####\n",
      "Purchase history\n"
     ]
    },
    {
     "data": {
      "text/plain": [
       "{'703.63': 1e-08,\n",
       " '703.8': 0.92452648999999998,\n",
       " '705.0': 1.2e-05,\n",
       " '705.16': 0.0019748500000000002,\n",
       " '705.45': 6.858105590000001}"
      ]
     },
     "metadata": {},
     "output_type": "display_data"
    },
    {
     "name": "stdout",
     "output_type": "stream",
     "text": [
      "Sell history\n"
     ]
    },
    {
     "data": {
      "text/plain": [
       "{}"
      ]
     },
     "metadata": {},
     "output_type": "display_data"
    },
    {
     "name": "stdout",
     "output_type": "stream",
     "text": [
      "Last trade\n"
     ]
    },
    {
     "data": {
      "text/plain": [
       "{}"
      ]
     },
     "metadata": {},
     "output_type": "display_data"
    },
    {
     "name": "stdout",
     "output_type": "stream",
     "text": [
      "Last trade  : 0.0000/32.2154 shares\n",
      "Total trades: 7.7846/40.0000 shares\n",
      "Spread: 0.96 (bid: 705.12, ask: 706.08)\n",
      "Adjusted Orderbook:\n"
     ]
    },
    {
     "data": {
      "text/html": [
       "<div>\n",
       "<table border=\"1\" class=\"dataframe\">\n",
       "  <thead>\n",
       "    <tr style=\"text-align: right;\">\n",
       "      <th></th>\n",
       "      <th>Amount</th>\n",
       "      <th>Price</th>\n",
       "      <th>Type</th>\n",
       "      <th>Volume</th>\n",
       "      <th>VolumeAcc</th>\n",
       "      <th>norm_Price</th>\n",
       "    </tr>\n",
       "  </thead>\n",
       "  <tbody>\n",
       "    <tr>\n",
       "      <th>997</th>\n",
       "      <td>1.598709</td>\n",
       "      <td>704.580000</td>\n",
       "      <td>bid</td>\n",
       "      <td>1126.418521</td>\n",
       "      <td>3450.118887</td>\n",
       "      <td>0.998555</td>\n",
       "    </tr>\n",
       "    <tr>\n",
       "      <th>998</th>\n",
       "      <td>1.600500</td>\n",
       "      <td>704.790000</td>\n",
       "      <td>bid</td>\n",
       "      <td>1128.016395</td>\n",
       "      <td>2323.700366</td>\n",
       "      <td>0.998852</td>\n",
       "    </tr>\n",
       "    <tr>\n",
       "      <th>999</th>\n",
       "      <td>1.695717</td>\n",
       "      <td>705.120000</td>\n",
       "      <td>bid</td>\n",
       "      <td>1195.683971</td>\n",
       "      <td>1195.683971</td>\n",
       "      <td>0.999320</td>\n",
       "    </tr>\n",
       "    <tr>\n",
       "      <th>1000</th>\n",
       "      <td>0.000000</td>\n",
       "      <td>705.599891</td>\n",
       "      <td>center</td>\n",
       "      <td>0.000000</td>\n",
       "      <td>0.000000</td>\n",
       "      <td>1.000000</td>\n",
       "    </tr>\n",
       "    <tr>\n",
       "      <th>1001</th>\n",
       "      <td>2.541509</td>\n",
       "      <td>706.080000</td>\n",
       "      <td>ask</td>\n",
       "      <td>1794.508992</td>\n",
       "      <td>1794.508992</td>\n",
       "      <td>1.000680</td>\n",
       "    </tr>\n",
       "    <tr>\n",
       "      <th>1002</th>\n",
       "      <td>0.006882</td>\n",
       "      <td>706.180000</td>\n",
       "      <td>ask</td>\n",
       "      <td>4.859910</td>\n",
       "      <td>1799.368902</td>\n",
       "      <td>1.000822</td>\n",
       "    </tr>\n",
       "    <tr>\n",
       "      <th>1003</th>\n",
       "      <td>0.508136</td>\n",
       "      <td>706.190000</td>\n",
       "      <td>ask</td>\n",
       "      <td>358.840512</td>\n",
       "      <td>2158.209414</td>\n",
       "      <td>1.000836</td>\n",
       "    </tr>\n",
       "  </tbody>\n",
       "</table>\n",
       "</div>"
      ],
      "text/plain": [
       "        Amount       Price    Type       Volume    VolumeAcc  norm_Price\n",
       "997   1.598709  704.580000     bid  1126.418521  3450.118887    0.998555\n",
       "998   1.600500  704.790000     bid  1128.016395  2323.700366    0.998852\n",
       "999   1.695717  705.120000     bid  1195.683971  1195.683971    0.999320\n",
       "1000  0.000000  705.599891  center     0.000000     0.000000    1.000000\n",
       "1001  2.541509  706.080000     ask  1794.508992  1794.508992    1.000680\n",
       "1002  0.006882  706.180000     ask     4.859910  1799.368902    1.000822\n",
       "1003  0.508136  706.190000     ask   358.840512  2158.209414    1.000836"
      ]
     },
     "metadata": {},
     "output_type": "display_data"
    },
    {
     "name": "stderr",
     "output_type": "stream",
     "text": [
      "\r",
      "  0%|          | 0/15 [00:00<?, ?it/s]"
     ]
    }
   ],
   "source": [
    "ots = OrderbookTradingSimulator()\n",
    "\n",
    "vol = 40\n",
    "period_length = 15\n",
    "lim = 706\n",
    "order_periods = 10\n",
    "must_trade = False\n",
    "\n",
    "ob = orderbooks[0]\n",
    "\n",
    "for i in range(order_periods):\n",
    "    if i == order_periods-1:\n",
    "        must_trade = True\n",
    "    \n",
    "    print(\"Period {}: volume={}, limit={}\".format(i+1, vol, lim))\n",
    "    new_ob = ots.trade_timespan(orderbooks[i*period_length:(i+1)*period_length],\n",
    "                                timestamps[i*period_length:(i+1)*period_length],\n",
    "                                timespan=period_length, must_trade=must_trade,\n",
    "                                volume=vol, limit=lim, verbose=True)\n",
    "    vol = ots.history.volume_left.values[-1]\n",
    "    print(\"vol\", vol)\n",
    "    print(\"volume_of_last_trade_period {}\".format(ots.volume_of_last_trade_period))\n",
    "    \n",
    "    if abs(vol) == 0:\n",
    "        print(\"Done after {} order_periods\".format(i+1))\n",
    "        break\n",
    "    elif vol > 0:\n",
    "        pass\n",
    "        #lim += 1\n",
    "    elif vol < 0:\n",
    "        pass\n",
    "        #lim -= 1\n",
    "ots.summarize(new_ob)\n",
    "    \n",
    "\n",
    "# new_ob = ots.trade_timespan(orderbooks[timespan:timespan+timespan], volume=vol, limit=706, verbose=True, timespan=timespan)\n",
    "plot_orderbook(new_ob, title = \"Orderbook {}\".format(ots.t), normalized=True, range_factor=1.05)"
   ]
  },
  {
   "cell_type": "code",
   "execution_count": null,
   "metadata": {
    "collapsed": false,
    "scrolled": false
   },
   "outputs": [],
   "source": [
    "ots = OrderbookTradingSimulator()\n",
    "\n",
    "vol = 2\n",
    "\n",
    "ob = orderbooks[0]\n",
    "new_ob = ots.trade(orderbooks[0], volume=vol, limit=None, verbose=True)\n",
    "plot_orderbook(new_ob, title = \"Orderbook {}\".format(ots.t), normalized=True, range_factor=1.05)\n",
    "trade_counter = 1"
   ]
  },
  {
   "cell_type": "code",
   "execution_count": null,
   "metadata": {
    "collapsed": false,
    "scrolled": false
   },
   "outputs": [],
   "source": [
    "center = orderbooks[0][orderbooks[0].Type=='center'].Price.values[0]\n",
    "bid = orderbooks[0][orderbooks[0].Type=='bid'].Price.values[-1]\n",
    "ask = orderbooks[0][orderbooks[0].Type=='ask'].Price.values[0]\n",
    "print(\"Bid:    {}\".format(bid))\n",
    "print(\"Center: {}\".format(center))\n",
    "print(\"Ask:    {}\\n\".format(ask))\n",
    "\n",
    "result = 0\n",
    "trade_vol = -10\n",
    "limit=704\n",
    "trade_info = place_order(orderbooks[0], trade_vol, limit=limit)\n",
    "cash_flow = trade_info['cashflow']\n",
    "trade_vol -= trade_info['amount_fulfilled']\n",
    "\n",
    "display(trade_info)\n",
    "display(orderbook_preview(ob, 3))\n",
    "\n",
    "#cash_flow = 0\n",
    "minute = 1\n",
    "for i, ob in enumerate(orderbooks[1:]):\n",
    "    if abs(trade_vol) < 1.0e-10:\n",
    "        break\n",
    "        \n",
    "    \n",
    "    print(\"timesteps: {} ==> {}, {}\".format(minute, cash_flow, trade_vol))\n",
    "    if abs(trade_vol) > 1.0e-10 and i == len(orderbooks[1:])-1:\n",
    "        print(\"TRADE!!!\")\n",
    "        # trade always in last Timestep\n",
    "        trade_info = place_order(ob,  trade_vol, limit=None, trade_history=trade_info['trade_history'])\n",
    "        cash_flow += trade_info['cashflow']\n",
    "        trade_vol -= trade_info['amount_fulfilled']\n",
    "    \n",
    "    elif abs(trade_vol) > 1.0e-10:\n",
    "        print(\"trade_vol\", trade_vol)\n",
    "        trade_info = place_order(ob,  trade_vol, limit=limit, trade_history=trade_info['trade_history'])\n",
    "        cash_flow += trade_info['cashflow']\n",
    "        trade_vol -= trade_info['amount_fulfilled']\n",
    "\n",
    "    display(trade_info)\n",
    "    \n",
    "    minute += 1\n",
    "    \n",
    "    print(\"\")\n",
    "    \n",
    "    print(\"trade_vol: {:1.4f}, center: {:1.4f}, limit: {}\".format(trade_vol, ob[ob.Type=='center'].Price.values[0], limit))\n",
    "print(\"timesteps: {} ==> {}, {}\".format(minute, cash_flow, trade_vol))\n",
    "\n",
    "display(orderbook_preview(ob, 3))"
   ]
  },
  {
   "cell_type": "code",
   "execution_count": null,
   "metadata": {
    "collapsed": false,
    "scrolled": false
   },
   "outputs": [],
   "source": [
    "range_factor = 1.01\n",
    "# plot_orderbook(data[0], normalized=True, range_factor=range_factor)\n",
    "print(len(orderbooks))\n",
    "for idx in [1, 5000, 25000, -1]:\n",
    "    print(idx, timestamps[idx])\n",
    "    display(orderbook_preview(orderbooks[idx], 3))\n",
    "    plot_orderbook(orderbooks[idx], title=timestamps[idx], normalized=True, range_factor=range_factor)"
   ]
  },
  {
   "cell_type": "code",
   "execution_count": null,
   "metadata": {
    "collapsed": true
   },
   "outputs": [],
   "source": []
  },
  {
   "cell_type": "code",
   "execution_count": null,
   "metadata": {
    "collapsed": true
   },
   "outputs": [],
   "source": []
  },
  {
   "cell_type": "code",
   "execution_count": null,
   "metadata": {
    "collapsed": true
   },
   "outputs": [],
   "source": []
  }
 ],
 "metadata": {
  "kernelspec": {
   "display_name": "Python 2",
   "language": "python",
   "name": "python2"
  },
  "language_info": {
   "codemirror_mode": {
    "name": "ipython",
    "version": 2
   },
   "file_extension": ".py",
   "mimetype": "text/x-python",
   "name": "python",
   "nbconvert_exporter": "python",
   "pygments_lexer": "ipython2",
   "version": "2.7.5"
  },
  "widgets": {
   "state": {},
   "version": "1.1.2"
  }
 },
 "nbformat": 4,
 "nbformat_minor": 0
}
