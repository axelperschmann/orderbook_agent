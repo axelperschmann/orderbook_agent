{
 "cells": [
  {
   "cell_type": "code",
   "execution_count": 1,
   "metadata": {
    "collapsed": false
   },
   "outputs": [],
   "source": [
    "%load_ext autoreload\n",
    "%autoreload 2\n",
    "\n",
    "from tqdm import tqdm\n",
    "import pandas as pd\n",
    "import numpy as np\n",
    "import gzip\n",
    "import json\n",
    "import math\n",
    "from datetime import datetime\n",
    "from IPython.display import display\n",
    "%matplotlib inline"
   ]
  },
  {
   "cell_type": "code",
   "execution_count": 2,
   "metadata": {
    "collapsed": true
   },
   "outputs": [],
   "source": [
    "currency_pairs = ['USDT_BTC', 'BTC_ETH', 'BTC_XMR', 'BTC_XRP', 'BTC_FCT', 'BTC_NAV', 'BTC_DASH', 'BTC_MAID', 'BTC_ZEC']\n",
    "currency_pair = currency_pairs[0]"
   ]
  },
  {
   "cell_type": "code",
   "execution_count": 3,
   "metadata": {
    "collapsed": false,
    "scrolled": true
   },
   "outputs": [
    {
     "name": "stdout",
     "output_type": "stream",
     "text": [
      "../data/2016-11-08/poloniex_full_2016-11-08T10:00:09.955811.log.gz\n",
      "../data/2016-12-09/poloniex_full_2016-12-09T11:29:04.621310.log.gz\n",
      "Number of datafiles to extract from: 44712\n"
     ]
    }
   ],
   "source": [
    "folder = '../data/'\n",
    "files = [os.path.join(dp, f) for dp, dn, fn in os.walk(os.path.expanduser(folder)) for f in fn]\n",
    "datafiles = sorted([f for f in files if f.endswith('.log.gz')])\n",
    "print(datafiles[0])\n",
    "print(datafiles[-1])\n",
    "print(\"Number of datafiles to extract from: {}\".format(len(datafiles)))"
   ]
  },
  {
   "cell_type": "code",
   "execution_count": 4,
   "metadata": {
    "collapsed": false
   },
   "outputs": [],
   "source": [
    "from manage_orderbooks import *"
   ]
  },
  {
   "cell_type": "code",
   "execution_count": 5,
   "metadata": {
    "collapsed": false,
    "scrolled": true
   },
   "outputs": [
    {
     "name": "stdout",
     "output_type": "stream",
     "text": [
      "../data/snapshots/experimental/orderbooks_USDT_BTC_range1.5_samplesNone_snapshot2016-12-09T11:29.dict\n"
     ]
    }
   ],
   "source": [
    "num_samples = None\n",
    "range_factor = 1.5\n",
    "\n",
    "filename = \"../data/snapshots/experimental/orderbooks_{}_range{}_samples{}_snapshot{}.dict\".format(\n",
    "    currency_pair, range_factor, num_samples, str(datetime.now().isoformat())[:-10])\n",
    "print(filename)"
   ]
  },
  {
   "cell_type": "code",
   "execution_count": 6,
   "metadata": {
    "collapsed": false
   },
   "outputs": [
    {
     "name": "stderr",
     "output_type": "stream",
     "text": [
      "\r",
      "  0%|          | 0/100 [00:00<?, ?it/s]"
     ]
    },
    {
     "name": "stdout",
     "output_type": "stream",
     "text": [
      "Orderbook content will be written to '../data/snapshots/experimental/orderbooks_USDT_BTC_range1.5_samplesNone_snapshot2016-12-09T11:29.dict'\n"
     ]
    },
    {
     "name": "stderr",
     "output_type": "stream",
     "text": [
      "/usr/lib64/python2.7/site-packages/pandas/core/indexing.py:140: SettingWithCopyWarning: \n",
      "A value is trying to be set on a copy of a slice from a DataFrame\n",
      "\n",
      "See the caveats in the documentation: http://pandas.pydata.org/pandas-docs/stable/indexing.html#indexing-view-versus-copy\n",
      "  self._setitem_with_indexer(indexer, value)\n",
      "100%|██████████| 100/100 [00:22<00:00,  5.28it/s]"
     ]
    },
    {
     "name": "stdout",
     "output_type": "stream",
     "text": [
      "Successfully created file '../data/snapshots/experimental/orderbooks_USDT_BTC_range1.5_samplesNone_snapshot2016-12-09T11:29.dict'\n"
     ]
    },
    {
     "name": "stderr",
     "output_type": "stream",
     "text": [
      "\n"
     ]
    }
   ],
   "source": [
    "query_idx = range(100)\n",
    "extract_orderbooks_for_one_currencypair([datafiles[idx] for idx in query_idx], currency_pair='USDT_BTC',\n",
    "                                        outfile=filename,\n",
    "                                        range_factor=range_factor, num_samples=num_samples, float_precision=2)"
   ]
  },
  {
   "cell_type": "code",
   "execution_count": 7,
   "metadata": {
    "collapsed": false
   },
   "outputs": [
    {
     "name": "stderr",
     "output_type": "stream",
     "text": [
      "100%|██████████| 100/100 [00:02<00:00, 40.98it/s]"
     ]
    },
    {
     "name": "stdout",
     "output_type": "stream",
     "text": [
      "Loaded Orderbooks: 100\n",
      "1267\n"
     ]
    },
    {
     "name": "stderr",
     "output_type": "stream",
     "text": [
      "\n"
     ]
    }
   ],
   "source": [
    "orderbooks, timestamps = load_orderbook_snapshot(infile=filename)\n",
    "# display(timestamps)\n",
    "print(len(orderbooks[0]))"
   ]
  },
  {
   "cell_type": "code",
   "execution_count": 8,
   "metadata": {
    "collapsed": false,
    "scrolled": false
   },
   "outputs": [
    {
     "name": "stdout",
     "output_type": "stream",
     "text": [
      "Bid:    705.0\n",
      "Center: 705.224976072\n",
      "Ask:    705.45\n",
      "\n",
      "Sold -0.1582/-10.0000 shares for 111.5535318\n"
     ]
    },
    {
     "data": {
      "text/plain": [
       "{'705.0': -0.15823196}"
      ]
     },
     "metadata": {},
     "output_type": "display_data"
    },
    {
     "data": {
      "text/html": [
       "<div>\n",
       "<table border=\"1\" class=\"dataframe\">\n",
       "  <thead>\n",
       "    <tr style=\"text-align: right;\">\n",
       "      <th></th>\n",
       "      <th>Amount</th>\n",
       "      <th>Price</th>\n",
       "      <th>Type</th>\n",
       "      <th>Volume</th>\n",
       "      <th>VolumeAcc</th>\n",
       "      <th>norm_Price</th>\n",
       "    </tr>\n",
       "  </thead>\n",
       "  <tbody>\n",
       "    <tr>\n",
       "      <th>987</th>\n",
       "      <td>0.913410</td>\n",
       "      <td>702.98</td>\n",
       "      <td>bid</td>\n",
       "      <td>642.109018</td>\n",
       "      <td>2978.529586</td>\n",
       "      <td>0.996817</td>\n",
       "    </tr>\n",
       "    <tr>\n",
       "      <th>988</th>\n",
       "      <td>1.700000</td>\n",
       "      <td>703.36</td>\n",
       "      <td>bid</td>\n",
       "      <td>1195.712000</td>\n",
       "      <td>2336.420568</td>\n",
       "      <td>0.997355</td>\n",
       "    </tr>\n",
       "    <tr>\n",
       "      <th>989</th>\n",
       "      <td>1.461657</td>\n",
       "      <td>703.50</td>\n",
       "      <td>bid</td>\n",
       "      <td>1028.275411</td>\n",
       "      <td>1140.708568</td>\n",
       "      <td>0.997554</td>\n",
       "    </tr>\n",
       "    <tr>\n",
       "      <th>990</th>\n",
       "      <td>0.001250</td>\n",
       "      <td>703.70</td>\n",
       "      <td>bid</td>\n",
       "      <td>0.879625</td>\n",
       "      <td>112.433157</td>\n",
       "      <td>0.997838</td>\n",
       "    </tr>\n",
       "    <tr>\n",
       "      <th>991</th>\n",
       "      <td>0.158232</td>\n",
       "      <td>705.00</td>\n",
       "      <td>bid</td>\n",
       "      <td>111.553532</td>\n",
       "      <td>111.553532</td>\n",
       "      <td>0.999681</td>\n",
       "    </tr>\n",
       "  </tbody>\n",
       "</table>\n",
       "</div>"
      ],
      "text/plain": [
       "       Amount   Price Type       Volume    VolumeAcc  norm_Price\n",
       "987  0.913410  702.98  bid   642.109018  2978.529586    0.996817\n",
       "988  1.700000  703.36  bid  1195.712000  2336.420568    0.997355\n",
       "989  1.461657  703.50  bid  1028.275411  1140.708568    0.997554\n",
       "990  0.001250  703.70  bid     0.879625   112.433157    0.997838\n",
       "991  0.158232  705.00  bid   111.553532   111.553532    0.999681"
      ]
     },
     "metadata": {},
     "output_type": "display_data"
    },
    {
     "data": {
      "text/html": [
       "<div>\n",
       "<table border=\"1\" class=\"dataframe\">\n",
       "  <thead>\n",
       "    <tr style=\"text-align: right;\">\n",
       "      <th></th>\n",
       "      <th>Amount</th>\n",
       "      <th>Price</th>\n",
       "      <th>Type</th>\n",
       "      <th>Volume</th>\n",
       "      <th>VolumeAcc</th>\n",
       "      <th>norm_Price</th>\n",
       "    </tr>\n",
       "  </thead>\n",
       "  <tbody>\n",
       "    <tr>\n",
       "      <th>993</th>\n",
       "      <td>3.172181</td>\n",
       "      <td>705.45</td>\n",
       "      <td>ask</td>\n",
       "      <td>2237.815171</td>\n",
       "      <td>2237.815171</td>\n",
       "      <td>1.000319</td>\n",
       "    </tr>\n",
       "    <tr>\n",
       "      <th>994</th>\n",
       "      <td>0.052838</td>\n",
       "      <td>706.17</td>\n",
       "      <td>ask</td>\n",
       "      <td>37.312497</td>\n",
       "      <td>2275.127669</td>\n",
       "      <td>1.001340</td>\n",
       "    </tr>\n",
       "    <tr>\n",
       "      <th>995</th>\n",
       "      <td>0.645323</td>\n",
       "      <td>706.19</td>\n",
       "      <td>ask</td>\n",
       "      <td>455.720409</td>\n",
       "      <td>2730.848078</td>\n",
       "      <td>1.001368</td>\n",
       "    </tr>\n",
       "    <tr>\n",
       "      <th>996</th>\n",
       "      <td>0.105160</td>\n",
       "      <td>706.89</td>\n",
       "      <td>ask</td>\n",
       "      <td>74.336899</td>\n",
       "      <td>2805.184977</td>\n",
       "      <td>1.002361</td>\n",
       "    </tr>\n",
       "    <tr>\n",
       "      <th>997</th>\n",
       "      <td>7.988556</td>\n",
       "      <td>707.18</td>\n",
       "      <td>ask</td>\n",
       "      <td>5649.346841</td>\n",
       "      <td>8454.531818</td>\n",
       "      <td>1.002772</td>\n",
       "    </tr>\n",
       "  </tbody>\n",
       "</table>\n",
       "</div>"
      ],
      "text/plain": [
       "       Amount   Price Type       Volume    VolumeAcc  norm_Price\n",
       "993  3.172181  705.45  ask  2237.815171  2237.815171    1.000319\n",
       "994  0.052838  706.17  ask    37.312497  2275.127669    1.001340\n",
       "995  0.645323  706.19  ask   455.720409  2730.848078    1.001368\n",
       "996  0.105160  706.89  ask    74.336899  2805.184977    1.002361\n",
       "997  7.988556  707.18  ask  5649.346841  8454.531818    1.002772"
      ]
     },
     "metadata": {},
     "output_type": "display_data"
    },
    {
     "name": "stdout",
     "output_type": "stream",
     "text": [
      "\n",
      "trade_vol: -9.8418, center: 704.6247, limit: 704\n",
      "Sold 0.0000/-9.8418 shares for 0\n",
      "\n",
      "trade_vol: -9.8418, center: 704.6247, limit: 704\n",
      "Sold 0.0000/-9.8418 shares for 0\n",
      "\n",
      "trade_vol: -9.8418, center: 704.6247, limit: 704\n",
      "Sold 0.0000/-9.8418 shares for 0\n",
      "\n",
      "trade_vol: -9.8418, center: 704.6247, limit: 704\n",
      "Sold 0.0000/-9.8418 shares for 0\n",
      "\n",
      "trade_vol: -9.8418, center: 704.6247, limit: 704\n",
      "Sold 0.0000/-9.8418 shares for 0\n",
      "\n",
      "trade_vol: -9.8418, center: 704.6247, limit: 704\n",
      "Sold 0.0000/-9.8418 shares for 0\n",
      "\n",
      "trade_vol: -9.8418, center: 704.5549, limit: 704\n",
      "Sold -6.4076/-9.8418 shares for 4511.5261836\n",
      "\n",
      "trade_vol: -3.4342, center: 704.5549, limit: 704\n",
      "Sold -3.4342/-3.4342 shares for 2418.05611104\n",
      "\n",
      "trade_vol: 0.0000, center: 704.5549, limit: 704\n",
      "minutes: 9\n"
     ]
    }
   ],
   "source": [
    "center = orderbooks[0][orderbooks[0].Type=='center'].Price.values[0]\n",
    "bid = orderbooks[0][orderbooks[0].Type=='bid'].Price.values[-1]\n",
    "ask = orderbooks[0][orderbooks[0].Type=='ask'].Price.values[0]\n",
    "print(\"Bid:    {}\".format(bid))\n",
    "print(\"Center: {}\".format(center))\n",
    "print(\"Ask:    {}\\n\".format(ask))\n",
    "\n",
    "result = 0\n",
    "trade_vol = -10\n",
    "limit=704\n",
    "trade_info = place_order(orderbooks[0], trade_vol, limit=limit)\n",
    "display(trade_info['trade_summary'])\n",
    "display(orderbooks[0][orderbooks[0].Type == 'bid'].tail())\n",
    "display(orderbooks[0][orderbooks[0].Type == 'ask'].head())\n",
    "\n",
    "minute = 0\n",
    "for ob in orderbooks[1:]:\n",
    "    print(\"\")\n",
    "\n",
    "    trade_vol -= trade_info['amount_fulfilled']\n",
    "    print(\"trade_vol: {:1.4f}, center: {:1.4f}, limit: {}\".format(trade_vol, ob[ob.Type=='center'].Price.values[0], limit))\n",
    "    if trade_vol != 0:\n",
    "        trade_info = place_order(ob,  trade_vol, limit=limit, trade_history=trade_info['trade_history'])\n",
    "    minute += 1\n",
    "    \n",
    "    if trade_vol == 0:\n",
    "        break\n",
    "print(\"minutes: {}\".format(minute))\n"
   ]
  },
  {
   "cell_type": "code",
   "execution_count": 9,
   "metadata": {
    "collapsed": false,
    "scrolled": false
   },
   "outputs": [
    {
     "name": "stdout",
     "output_type": "stream",
     "text": [
      "100\n",
      "(0, u'2016-11-08T10:00:01.739243')\n"
     ]
    },
    {
     "data": {
      "text/html": [
       "<div>\n",
       "<table border=\"1\" class=\"dataframe\">\n",
       "  <thead>\n",
       "    <tr style=\"text-align: right;\">\n",
       "      <th></th>\n",
       "      <th>Amount</th>\n",
       "      <th>Price</th>\n",
       "      <th>Type</th>\n",
       "      <th>Volume</th>\n",
       "      <th>VolumeAcc</th>\n",
       "      <th>norm_Price</th>\n",
       "    </tr>\n",
       "  </thead>\n",
       "  <tbody>\n",
       "    <tr>\n",
       "      <th>987</th>\n",
       "      <td>0.913410</td>\n",
       "      <td>702.98</td>\n",
       "      <td>bid</td>\n",
       "      <td>642.109018</td>\n",
       "      <td>2978.529586</td>\n",
       "      <td>0.996817</td>\n",
       "    </tr>\n",
       "    <tr>\n",
       "      <th>988</th>\n",
       "      <td>1.700000</td>\n",
       "      <td>703.36</td>\n",
       "      <td>bid</td>\n",
       "      <td>1195.712000</td>\n",
       "      <td>2336.420568</td>\n",
       "      <td>0.997355</td>\n",
       "    </tr>\n",
       "    <tr>\n",
       "      <th>989</th>\n",
       "      <td>1.461657</td>\n",
       "      <td>703.50</td>\n",
       "      <td>bid</td>\n",
       "      <td>1028.275411</td>\n",
       "      <td>1140.708568</td>\n",
       "      <td>0.997554</td>\n",
       "    </tr>\n",
       "    <tr>\n",
       "      <th>990</th>\n",
       "      <td>0.001250</td>\n",
       "      <td>703.70</td>\n",
       "      <td>bid</td>\n",
       "      <td>0.879625</td>\n",
       "      <td>112.433157</td>\n",
       "      <td>0.997838</td>\n",
       "    </tr>\n",
       "    <tr>\n",
       "      <th>991</th>\n",
       "      <td>0.158232</td>\n",
       "      <td>705.00</td>\n",
       "      <td>bid</td>\n",
       "      <td>111.553532</td>\n",
       "      <td>111.553532</td>\n",
       "      <td>0.999681</td>\n",
       "    </tr>\n",
       "  </tbody>\n",
       "</table>\n",
       "</div>"
      ],
      "text/plain": [
       "       Amount   Price Type       Volume    VolumeAcc  norm_Price\n",
       "987  0.913410  702.98  bid   642.109018  2978.529586    0.996817\n",
       "988  1.700000  703.36  bid  1195.712000  2336.420568    0.997355\n",
       "989  1.461657  703.50  bid  1028.275411  1140.708568    0.997554\n",
       "990  0.001250  703.70  bid     0.879625   112.433157    0.997838\n",
       "991  0.158232  705.00  bid   111.553532   111.553532    0.999681"
      ]
     },
     "metadata": {},
     "output_type": "display_data"
    },
    {
     "data": {
      "text/html": [
       "<div>\n",
       "<table border=\"1\" class=\"dataframe\">\n",
       "  <thead>\n",
       "    <tr style=\"text-align: right;\">\n",
       "      <th></th>\n",
       "      <th>Amount</th>\n",
       "      <th>Price</th>\n",
       "      <th>Type</th>\n",
       "      <th>Volume</th>\n",
       "      <th>VolumeAcc</th>\n",
       "      <th>norm_Price</th>\n",
       "    </tr>\n",
       "  </thead>\n",
       "  <tbody>\n",
       "    <tr>\n",
       "      <th>993</th>\n",
       "      <td>3.172181</td>\n",
       "      <td>705.45</td>\n",
       "      <td>ask</td>\n",
       "      <td>2237.815171</td>\n",
       "      <td>2237.815171</td>\n",
       "      <td>1.000319</td>\n",
       "    </tr>\n",
       "    <tr>\n",
       "      <th>994</th>\n",
       "      <td>0.052838</td>\n",
       "      <td>706.17</td>\n",
       "      <td>ask</td>\n",
       "      <td>37.312497</td>\n",
       "      <td>2275.127669</td>\n",
       "      <td>1.001340</td>\n",
       "    </tr>\n",
       "    <tr>\n",
       "      <th>995</th>\n",
       "      <td>0.645323</td>\n",
       "      <td>706.19</td>\n",
       "      <td>ask</td>\n",
       "      <td>455.720409</td>\n",
       "      <td>2730.848078</td>\n",
       "      <td>1.001368</td>\n",
       "    </tr>\n",
       "    <tr>\n",
       "      <th>996</th>\n",
       "      <td>0.105160</td>\n",
       "      <td>706.89</td>\n",
       "      <td>ask</td>\n",
       "      <td>74.336899</td>\n",
       "      <td>2805.184977</td>\n",
       "      <td>1.002361</td>\n",
       "    </tr>\n",
       "    <tr>\n",
       "      <th>997</th>\n",
       "      <td>7.988556</td>\n",
       "      <td>707.18</td>\n",
       "      <td>ask</td>\n",
       "      <td>5649.346841</td>\n",
       "      <td>8454.531818</td>\n",
       "      <td>1.002772</td>\n",
       "    </tr>\n",
       "  </tbody>\n",
       "</table>\n",
       "</div>"
      ],
      "text/plain": [
       "       Amount   Price Type       Volume    VolumeAcc  norm_Price\n",
       "993  3.172181  705.45  ask  2237.815171  2237.815171    1.000319\n",
       "994  0.052838  706.17  ask    37.312497  2275.127669    1.001340\n",
       "995  0.645323  706.19  ask   455.720409  2730.848078    1.001368\n",
       "996  0.105160  706.89  ask    74.336899  2805.184977    1.002361\n",
       "997  7.988556  707.18  ask  5649.346841  8454.531818    1.002772"
      ]
     },
     "metadata": {},
     "output_type": "display_data"
    },
    {
     "data": {
      "image/png": "[encoded data removed]",
      "text/plain": [
       "<matplotlib.figure.Figure at 0x40d23d0>"
      ]
     },
     "metadata": {},
     "output_type": "display_data"
    },
    {
     "name": "stdout",
     "output_type": "stream",
     "text": [
      "(1, u'2016-11-08T10:01:01.720136')\n"
     ]
    },
    {
     "data": {
      "text/html": [
       "<div>\n",
       "<table border=\"1\" class=\"dataframe\">\n",
       "  <thead>\n",
       "    <tr style=\"text-align: right;\">\n",
       "      <th></th>\n",
       "      <th>Amount</th>\n",
       "      <th>Price</th>\n",
       "      <th>Type</th>\n",
       "      <th>Volume</th>\n",
       "      <th>VolumeAcc</th>\n",
       "      <th>norm_Price</th>\n",
       "    </tr>\n",
       "  </thead>\n",
       "  <tbody>\n",
       "    <tr>\n",
       "      <th>987</th>\n",
       "      <td>0.913410</td>\n",
       "      <td>702.98</td>\n",
       "      <td>bid</td>\n",
       "      <td>642.109018</td>\n",
       "      <td>2978.529586</td>\n",
       "      <td>0.996817</td>\n",
       "    </tr>\n",
       "    <tr>\n",
       "      <th>988</th>\n",
       "      <td>1.700000</td>\n",
       "      <td>703.36</td>\n",
       "      <td>bid</td>\n",
       "      <td>1195.712000</td>\n",
       "      <td>2336.420568</td>\n",
       "      <td>0.997355</td>\n",
       "    </tr>\n",
       "    <tr>\n",
       "      <th>989</th>\n",
       "      <td>1.461657</td>\n",
       "      <td>703.50</td>\n",
       "      <td>bid</td>\n",
       "      <td>1028.275411</td>\n",
       "      <td>1140.708568</td>\n",
       "      <td>0.997554</td>\n",
       "    </tr>\n",
       "    <tr>\n",
       "      <th>990</th>\n",
       "      <td>0.001250</td>\n",
       "      <td>703.70</td>\n",
       "      <td>bid</td>\n",
       "      <td>0.879625</td>\n",
       "      <td>112.433157</td>\n",
       "      <td>0.997838</td>\n",
       "    </tr>\n",
       "    <tr>\n",
       "      <th>991</th>\n",
       "      <td>0.158232</td>\n",
       "      <td>705.00</td>\n",
       "      <td>bid</td>\n",
       "      <td>111.553532</td>\n",
       "      <td>111.553532</td>\n",
       "      <td>0.999681</td>\n",
       "    </tr>\n",
       "  </tbody>\n",
       "</table>\n",
       "</div>"
      ],
      "text/plain": [
       "       Amount   Price Type       Volume    VolumeAcc  norm_Price\n",
       "987  0.913410  702.98  bid   642.109018  2978.529586    0.996817\n",
       "988  1.700000  703.36  bid  1195.712000  2336.420568    0.997355\n",
       "989  1.461657  703.50  bid  1028.275411  1140.708568    0.997554\n",
       "990  0.001250  703.70  bid     0.879625   112.433157    0.997838\n",
       "991  0.158232  705.00  bid   111.553532   111.553532    0.999681"
      ]
     },
     "metadata": {},
     "output_type": "display_data"
    },
    {
     "data": {
      "text/html": [
       "<div>\n",
       "<table border=\"1\" class=\"dataframe\">\n",
       "  <thead>\n",
       "    <tr style=\"text-align: right;\">\n",
       "      <th></th>\n",
       "      <th>Amount</th>\n",
       "      <th>Price</th>\n",
       "      <th>Type</th>\n",
       "      <th>Volume</th>\n",
       "      <th>VolumeAcc</th>\n",
       "      <th>norm_Price</th>\n",
       "    </tr>\n",
       "  </thead>\n",
       "  <tbody>\n",
       "    <tr>\n",
       "      <th>993</th>\n",
       "      <td>3.172181</td>\n",
       "      <td>705.45</td>\n",
       "      <td>ask</td>\n",
       "      <td>2237.815171</td>\n",
       "      <td>2237.815171</td>\n",
       "      <td>1.000319</td>\n",
       "    </tr>\n",
       "    <tr>\n",
       "      <th>994</th>\n",
       "      <td>0.052838</td>\n",
       "      <td>706.17</td>\n",
       "      <td>ask</td>\n",
       "      <td>37.312497</td>\n",
       "      <td>2275.127669</td>\n",
       "      <td>1.001340</td>\n",
       "    </tr>\n",
       "    <tr>\n",
       "      <th>995</th>\n",
       "      <td>0.645323</td>\n",
       "      <td>706.19</td>\n",
       "      <td>ask</td>\n",
       "      <td>455.720409</td>\n",
       "      <td>2730.848078</td>\n",
       "      <td>1.001368</td>\n",
       "    </tr>\n",
       "    <tr>\n",
       "      <th>996</th>\n",
       "      <td>0.105160</td>\n",
       "      <td>706.89</td>\n",
       "      <td>ask</td>\n",
       "      <td>74.336899</td>\n",
       "      <td>2805.184977</td>\n",
       "      <td>1.002361</td>\n",
       "    </tr>\n",
       "    <tr>\n",
       "      <th>997</th>\n",
       "      <td>7.988556</td>\n",
       "      <td>707.18</td>\n",
       "      <td>ask</td>\n",
       "      <td>5649.346841</td>\n",
       "      <td>8454.531818</td>\n",
       "      <td>1.002772</td>\n",
       "    </tr>\n",
       "  </tbody>\n",
       "</table>\n",
       "</div>"
      ],
      "text/plain": [
       "       Amount   Price Type       Volume    VolumeAcc  norm_Price\n",
       "993  3.172181  705.45  ask  2237.815171  2237.815171    1.000319\n",
       "994  0.052838  706.17  ask    37.312497  2275.127669    1.001340\n",
       "995  0.645323  706.19  ask   455.720409  2730.848078    1.001368\n",
       "996  0.105160  706.89  ask    74.336899  2805.184977    1.002361\n",
       "997  7.988556  707.18  ask  5649.346841  8454.531818    1.002772"
      ]
     },
     "metadata": {},
     "output_type": "display_data"
    },
    {
     "data": {
      "image/png": "[encoded data removed]",
      "text/plain": [
       "<matplotlib.figure.Figure at 0x8cdb2d0>"
      ]
     },
     "metadata": {},
     "output_type": "display_data"
    },
    {
     "name": "stdout",
     "output_type": "stream",
     "text": [
      "(50, u'2016-11-08T10:50:01.325842')\n"
     ]
    },
    {
     "data": {
      "text/html": [
       "<div>\n",
       "<table border=\"1\" class=\"dataframe\">\n",
       "  <thead>\n",
       "    <tr style=\"text-align: right;\">\n",
       "      <th></th>\n",
       "      <th>Amount</th>\n",
       "      <th>Price</th>\n",
       "      <th>Type</th>\n",
       "      <th>Volume</th>\n",
       "      <th>VolumeAcc</th>\n",
       "      <th>norm_Price</th>\n",
       "    </tr>\n",
       "  </thead>\n",
       "  <tbody>\n",
       "    <tr>\n",
       "      <th>987</th>\n",
       "      <td>0.913410</td>\n",
       "      <td>702.98</td>\n",
       "      <td>bid</td>\n",
       "      <td>642.109018</td>\n",
       "      <td>2978.529586</td>\n",
       "      <td>0.996817</td>\n",
       "    </tr>\n",
       "    <tr>\n",
       "      <th>988</th>\n",
       "      <td>1.700000</td>\n",
       "      <td>703.36</td>\n",
       "      <td>bid</td>\n",
       "      <td>1195.712000</td>\n",
       "      <td>2336.420568</td>\n",
       "      <td>0.997355</td>\n",
       "    </tr>\n",
       "    <tr>\n",
       "      <th>989</th>\n",
       "      <td>1.461657</td>\n",
       "      <td>703.50</td>\n",
       "      <td>bid</td>\n",
       "      <td>1028.275411</td>\n",
       "      <td>1140.708568</td>\n",
       "      <td>0.997554</td>\n",
       "    </tr>\n",
       "    <tr>\n",
       "      <th>990</th>\n",
       "      <td>0.001250</td>\n",
       "      <td>703.70</td>\n",
       "      <td>bid</td>\n",
       "      <td>0.879625</td>\n",
       "      <td>112.433157</td>\n",
       "      <td>0.997838</td>\n",
       "    </tr>\n",
       "    <tr>\n",
       "      <th>991</th>\n",
       "      <td>0.158232</td>\n",
       "      <td>705.00</td>\n",
       "      <td>bid</td>\n",
       "      <td>111.553532</td>\n",
       "      <td>111.553532</td>\n",
       "      <td>0.999681</td>\n",
       "    </tr>\n",
       "  </tbody>\n",
       "</table>\n",
       "</div>"
      ],
      "text/plain": [
       "       Amount   Price Type       Volume    VolumeAcc  norm_Price\n",
       "987  0.913410  702.98  bid   642.109018  2978.529586    0.996817\n",
       "988  1.700000  703.36  bid  1195.712000  2336.420568    0.997355\n",
       "989  1.461657  703.50  bid  1028.275411  1140.708568    0.997554\n",
       "990  0.001250  703.70  bid     0.879625   112.433157    0.997838\n",
       "991  0.158232  705.00  bid   111.553532   111.553532    0.999681"
      ]
     },
     "metadata": {},
     "output_type": "display_data"
    },
    {
     "data": {
      "text/html": [
       "<div>\n",
       "<table border=\"1\" class=\"dataframe\">\n",
       "  <thead>\n",
       "    <tr style=\"text-align: right;\">\n",
       "      <th></th>\n",
       "      <th>Amount</th>\n",
       "      <th>Price</th>\n",
       "      <th>Type</th>\n",
       "      <th>Volume</th>\n",
       "      <th>VolumeAcc</th>\n",
       "      <th>norm_Price</th>\n",
       "    </tr>\n",
       "  </thead>\n",
       "  <tbody>\n",
       "    <tr>\n",
       "      <th>993</th>\n",
       "      <td>3.172181</td>\n",
       "      <td>705.45</td>\n",
       "      <td>ask</td>\n",
       "      <td>2237.815171</td>\n",
       "      <td>2237.815171</td>\n",
       "      <td>1.000319</td>\n",
       "    </tr>\n",
       "    <tr>\n",
       "      <th>994</th>\n",
       "      <td>0.052838</td>\n",
       "      <td>706.17</td>\n",
       "      <td>ask</td>\n",
       "      <td>37.312497</td>\n",
       "      <td>2275.127669</td>\n",
       "      <td>1.001340</td>\n",
       "    </tr>\n",
       "    <tr>\n",
       "      <th>995</th>\n",
       "      <td>0.645323</td>\n",
       "      <td>706.19</td>\n",
       "      <td>ask</td>\n",
       "      <td>455.720409</td>\n",
       "      <td>2730.848078</td>\n",
       "      <td>1.001368</td>\n",
       "    </tr>\n",
       "    <tr>\n",
       "      <th>996</th>\n",
       "      <td>0.105160</td>\n",
       "      <td>706.89</td>\n",
       "      <td>ask</td>\n",
       "      <td>74.336899</td>\n",
       "      <td>2805.184977</td>\n",
       "      <td>1.002361</td>\n",
       "    </tr>\n",
       "    <tr>\n",
       "      <th>997</th>\n",
       "      <td>7.988556</td>\n",
       "      <td>707.18</td>\n",
       "      <td>ask</td>\n",
       "      <td>5649.346841</td>\n",
       "      <td>8454.531818</td>\n",
       "      <td>1.002772</td>\n",
       "    </tr>\n",
       "  </tbody>\n",
       "</table>\n",
       "</div>"
      ],
      "text/plain": [
       "       Amount   Price Type       Volume    VolumeAcc  norm_Price\n",
       "993  3.172181  705.45  ask  2237.815171  2237.815171    1.000319\n",
       "994  0.052838  706.17  ask    37.312497  2275.127669    1.001340\n",
       "995  0.645323  706.19  ask   455.720409  2730.848078    1.001368\n",
       "996  0.105160  706.89  ask    74.336899  2805.184977    1.002361\n",
       "997  7.988556  707.18  ask  5649.346841  8454.531818    1.002772"
      ]
     },
     "metadata": {},
     "output_type": "display_data"
    },
    {
     "data": {
      "image/png": "[encoded data removed]",
      "text/plain": [
       "<matplotlib.figure.Figure at 0x8cf5550>"
      ]
     },
     "metadata": {},
     "output_type": "display_data"
    },
    {
     "name": "stdout",
     "output_type": "stream",
     "text": [
      "(99, u'2016-11-08T11:40:01.440536')\n"
     ]
    },
    {
     "data": {
      "text/html": [
       "<div>\n",
       "<table border=\"1\" class=\"dataframe\">\n",
       "  <thead>\n",
       "    <tr style=\"text-align: right;\">\n",
       "      <th></th>\n",
       "      <th>Amount</th>\n",
       "      <th>Price</th>\n",
       "      <th>Type</th>\n",
       "      <th>Volume</th>\n",
       "      <th>VolumeAcc</th>\n",
       "      <th>norm_Price</th>\n",
       "    </tr>\n",
       "  </thead>\n",
       "  <tbody>\n",
       "    <tr>\n",
       "      <th>987</th>\n",
       "      <td>0.913410</td>\n",
       "      <td>702.98</td>\n",
       "      <td>bid</td>\n",
       "      <td>642.109018</td>\n",
       "      <td>2978.529586</td>\n",
       "      <td>0.996817</td>\n",
       "    </tr>\n",
       "    <tr>\n",
       "      <th>988</th>\n",
       "      <td>1.700000</td>\n",
       "      <td>703.36</td>\n",
       "      <td>bid</td>\n",
       "      <td>1195.712000</td>\n",
       "      <td>2336.420568</td>\n",
       "      <td>0.997355</td>\n",
       "    </tr>\n",
       "    <tr>\n",
       "      <th>989</th>\n",
       "      <td>1.461657</td>\n",
       "      <td>703.50</td>\n",
       "      <td>bid</td>\n",
       "      <td>1028.275411</td>\n",
       "      <td>1140.708568</td>\n",
       "      <td>0.997554</td>\n",
       "    </tr>\n",
       "    <tr>\n",
       "      <th>990</th>\n",
       "      <td>0.001250</td>\n",
       "      <td>703.70</td>\n",
       "      <td>bid</td>\n",
       "      <td>0.879625</td>\n",
       "      <td>112.433157</td>\n",
       "      <td>0.997838</td>\n",
       "    </tr>\n",
       "    <tr>\n",
       "      <th>991</th>\n",
       "      <td>0.158232</td>\n",
       "      <td>705.00</td>\n",
       "      <td>bid</td>\n",
       "      <td>111.553532</td>\n",
       "      <td>111.553532</td>\n",
       "      <td>0.999681</td>\n",
       "    </tr>\n",
       "  </tbody>\n",
       "</table>\n",
       "</div>"
      ],
      "text/plain": [
       "       Amount   Price Type       Volume    VolumeAcc  norm_Price\n",
       "987  0.913410  702.98  bid   642.109018  2978.529586    0.996817\n",
       "988  1.700000  703.36  bid  1195.712000  2336.420568    0.997355\n",
       "989  1.461657  703.50  bid  1028.275411  1140.708568    0.997554\n",
       "990  0.001250  703.70  bid     0.879625   112.433157    0.997838\n",
       "991  0.158232  705.00  bid   111.553532   111.553532    0.999681"
      ]
     },
     "metadata": {},
     "output_type": "display_data"
    },
    {
     "data": {
      "text/html": [
       "<div>\n",
       "<table border=\"1\" class=\"dataframe\">\n",
       "  <thead>\n",
       "    <tr style=\"text-align: right;\">\n",
       "      <th></th>\n",
       "      <th>Amount</th>\n",
       "      <th>Price</th>\n",
       "      <th>Type</th>\n",
       "      <th>Volume</th>\n",
       "      <th>VolumeAcc</th>\n",
       "      <th>norm_Price</th>\n",
       "    </tr>\n",
       "  </thead>\n",
       "  <tbody>\n",
       "    <tr>\n",
       "      <th>993</th>\n",
       "      <td>3.172181</td>\n",
       "      <td>705.45</td>\n",
       "      <td>ask</td>\n",
       "      <td>2237.815171</td>\n",
       "      <td>2237.815171</td>\n",
       "      <td>1.000319</td>\n",
       "    </tr>\n",
       "    <tr>\n",
       "      <th>994</th>\n",
       "      <td>0.052838</td>\n",
       "      <td>706.17</td>\n",
       "      <td>ask</td>\n",
       "      <td>37.312497</td>\n",
       "      <td>2275.127669</td>\n",
       "      <td>1.001340</td>\n",
       "    </tr>\n",
       "    <tr>\n",
       "      <th>995</th>\n",
       "      <td>0.645323</td>\n",
       "      <td>706.19</td>\n",
       "      <td>ask</td>\n",
       "      <td>455.720409</td>\n",
       "      <td>2730.848078</td>\n",
       "      <td>1.001368</td>\n",
       "    </tr>\n",
       "    <tr>\n",
       "      <th>996</th>\n",
       "      <td>0.105160</td>\n",
       "      <td>706.89</td>\n",
       "      <td>ask</td>\n",
       "      <td>74.336899</td>\n",
       "      <td>2805.184977</td>\n",
       "      <td>1.002361</td>\n",
       "    </tr>\n",
       "    <tr>\n",
       "      <th>997</th>\n",
       "      <td>7.988556</td>\n",
       "      <td>707.18</td>\n",
       "      <td>ask</td>\n",
       "      <td>5649.346841</td>\n",
       "      <td>8454.531818</td>\n",
       "      <td>1.002772</td>\n",
       "    </tr>\n",
       "  </tbody>\n",
       "</table>\n",
       "</div>"
      ],
      "text/plain": [
       "       Amount   Price Type       Volume    VolumeAcc  norm_Price\n",
       "993  3.172181  705.45  ask  2237.815171  2237.815171    1.000319\n",
       "994  0.052838  706.17  ask    37.312497  2275.127669    1.001340\n",
       "995  0.645323  706.19  ask   455.720409  2730.848078    1.001368\n",
       "996  0.105160  706.89  ask    74.336899  2805.184977    1.002361\n",
       "997  7.988556  707.18  ask  5649.346841  8454.531818    1.002772"
      ]
     },
     "metadata": {},
     "output_type": "display_data"
    },
    {
     "data": {
      "image/png": "[encoded data removed]",
      "text/plain": [
       "<matplotlib.figure.Figure at 0x846d550>"
      ]
     },
     "metadata": {},
     "output_type": "display_data"
    }
   ],
   "source": [
    "\n",
    "range_factor = 1.02\n",
    "# plot_orderbook(data[0], normalized=True, range_factor=range_factor)\n",
    "print(len(orderbooks))\n",
    "for idx in [0, 1, 50, 99]:\n",
    "    print(idx, timestamps[idx])\n",
    "    display(orderbooks[0][orderbooks[0].Type == 'bid'].tail(5))\n",
    "    display(orderbooks[0][orderbooks[0].Type == 'ask'].head(5))\n",
    "    plot_orderbook(orderbooks[idx], title=timestamps[idx], normalized=False, range_factor=range_factor)"
   ]
  },
  {
   "cell_type": "code",
   "execution_count": null,
   "metadata": {
    "collapsed": true
   },
   "outputs": [],
   "source": []
  }
 ],
 "metadata": {
  "kernelspec": {
   "display_name": "Python 2",
   "language": "python",
   "name": "python2"
  },
  "language_info": {
   "codemirror_mode": {
    "name": "ipython",
    "version": 2
   },
   "file_extension": ".py",
   "mimetype": "text/x-python",
   "name": "python",
   "nbconvert_exporter": "python",
   "pygments_lexer": "ipython2",
   "version": "2.7.5"
  },
  "widgets": {
   "state": {},
   "version": "1.1.2"
  }
 },
 "nbformat": 4,
 "nbformat_minor": 0
}
