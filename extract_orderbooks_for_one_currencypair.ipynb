{
 "cells": [
  {
   "cell_type": "code",
   "execution_count": null,
   "metadata": {
    "collapsed": true
   },
   "outputs": [],
   "source": [
    "%load_ext autoreload\n",
    "%autoreload 2\n",
    "\n",
    "from tqdm import tqdm\n",
    "import pandas as pd\n",
    "import numpy as np\n",
    "import gzip\n",
    "import json\n",
    "import math\n",
    "from datetime import datetime\n",
    "from IPython.display import display"
   ]
  },
  {
   "cell_type": "code",
   "execution_count": null,
   "metadata": {
    "collapsed": true
   },
   "outputs": [],
   "source": [
    "currency_pairs = ['USDT_BTC', 'BTC_ETH', 'BTC_XMR', 'BTC_XRP', 'BTC_FCT', 'BTC_NAV', 'BTC_DASH', 'BTC_MAID', 'BTC_ZEC']\n",
    "currency_pair = currency_pairs[0]"
   ]
  },
  {
   "cell_type": "code",
   "execution_count": 1,
   "metadata": {
    "collapsed": false,
    "scrolled": true
   },
   "outputs": [
    {
     "name": "stdout",
     "output_type": "stream",
     "text": [
      "Number of datafiles to extract from: 34785\n"
     ]
    }
   ],
   "source": [
    "folder = '../data/'\n",
    "files = [os.path.join(dp, f) for dp, dn, fn in os.walk(os.path.expanduser(folder)) for f in fn]\n",
    "datafiles = sorted([f for f in files if f.endswith('.log.gz')])\n",
    "print(\"Number of datafiles to extract from: {}\".format(len(datafiles)))"
   ]
  },
  {
   "cell_type": "code",
   "execution_count": null,
   "metadata": {
    "collapsed": false
   },
   "outputs": [],
   "source": [
    "from manage_orderbooks import *"
   ]
  },
  {
   "cell_type": "code",
   "execution_count": null,
   "metadata": {
    "collapsed": false,
    "scrolled": true
   },
   "outputs": [],
   "source": [
    "num_samples = None\n",
    "range_factor = None\n",
    "\n",
    "filename = \"../data/snapshots/orderbooks_{}_range{}_samples{}_snapshot{}.dict\".format(\n",
    "    currency_pair, range_factor, num_samples, str(datetime.now().isoformat())[:-10])\n",
    "print(filename)"
   ]
  },
  {
   "cell_type": "code",
   "execution_count": null,
   "metadata": {
    "collapsed": true
   },
   "outputs": [],
   "source": [
    "extract_orderbooks_for_one_currencypair(datafiles[:200], currency_pair='USDT_BTC',\n",
    "                                        outfile=filename,\n",
    "                                        range_factor=range_factor, num_samples=num_samples)"
   ]
  },
  {
   "cell_type": "code",
   "execution_count": null,
   "metadata": {
    "collapsed": false
   },
   "outputs": [],
   "source": [
    "orderbooks, timestamps = load_orderbook_snapshot(infile=filename)\n",
    "display(timestamps)"
   ]
  },
  {
   "cell_type": "code",
   "execution_count": null,
   "metadata": {
    "collapsed": false,
    "scrolled": false
   },
   "outputs": [],
   "source": [
    "color = {'ask': 'green',\n",
    "        'center': 'black', \n",
    "         'bid': 'red',\n",
    "        }\n",
    "\n",
    "range_factor = 1.04\n",
    "# plot_orderbook(data[0], normalized=True, range_factor=range_factor)\n",
    "print(len(orderbooks))\n",
    "idx = 0\n",
    "plot_orderbook(orderbooks[idx], title=timestamps[idx], normalized=True, range_factor=range_factor)\n",
    "#plot_orderbook(orderbooks[idx], title=timestamps[idx], normalized=True, range_factor=range_factor)\n",
    "\n",
    "idx = 0\n",
    "plot_orderbook(orderbooks[idx], title=timestamps[idx], normalized=False, range_factor=range_factor, outfile=\"test2\")\n",
    "#plot_orderbook(orderbooks[idx], title=timestamps[idx], normalized=True, range_factor=range_factor)\n",
    "\n",
    "# plot_orderbook(df2, normalized=True, range_factor=3)\n",
    "\n",
    "\n",
    "# df2_sub.plot(x='Price', y=['VolumeAcc', 'Amount', 'Volume'], xlim=((center_log/2, center_log*2)))\n"
   ]
  },
  {
   "cell_type": "code",
   "execution_count": null,
   "metadata": {
    "collapsed": false
   },
   "outputs": [],
   "source": [
    "df2_sub.plot(x='Price', y=['VolumeAcc', 'Amount', 'Volume'], xlim=((center_log/2, center_log*2)))"
   ]
  },
  {
   "cell_type": "code",
   "execution_count": null,
   "metadata": {
    "collapsed": true
   },
   "outputs": [],
   "source": []
  }
 ],
 "metadata": {
  "kernelspec": {
   "display_name": "Python 2",
   "language": "python",
   "name": "python2"
  },
  "language_info": {
   "codemirror_mode": {
    "name": "ipython",
    "version": 2
   },
   "file_extension": ".py",
   "mimetype": "text/x-python",
   "name": "python",
   "nbconvert_exporter": "python",
   "pygments_lexer": "ipython2",
   "version": "2.7.5"
  },
  "widgets": {
   "state": {},
   "version": "1.1.2"
  }
 },
 "nbformat": 4,
 "nbformat_minor": 0
}
