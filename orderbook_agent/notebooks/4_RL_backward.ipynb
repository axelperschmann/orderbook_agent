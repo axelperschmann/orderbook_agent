{
 "cells": [
  {
   "cell_type": "code",
   "execution_count": null,
   "metadata": {
    "collapsed": false
   },
   "outputs": [],
   "source": [
    "%load_ext autoreload\n",
    "%autoreload 2\n",
    "\n",
    "import sys\n",
    "import numpy as np\n",
    "import pandas as pd\n",
    "%matplotlib inline\n",
    "from IPython.display import display\n",
    "\n",
    "sys.path.append('../Runs')\n",
    "from train_QTable import optimal_strategy, run\n",
    "from helper.Q_learning import QLearn, round_custombase\n",
    "from helper.manage_orderbooks_v2 import OrderbookEpisodesGenerator\n",
    "from helper.orderbook_trader import OrderbookTradingSimulator"
   ]
  },
  {
   "cell_type": "code",
   "execution_count": null,
   "metadata": {
    "collapsed": false,
    "scrolled": false
   },
   "outputs": [
    {
     "name": "stderr",
     "output_type": "stream",
     "text": [
      "  0%|          | 0/4 [00:00<?, ?it/s]\n",
      "0it [00:00, ?it/s]"
     ]
    },
    {
     "name": "stdout",
     "output_type": "stream",
     "text": [
      "RL-Type: <class 'agents.QTable_Agent.QTable_Agent'>\n"
     ]
    },
    {
     "name": "stderr",
     "output_type": "stream",
     "text": [
      "\u001b[A\n",
      "1it [00:40, 40.03s/it]\u001b[A\n",
      " 25%|██▌       | 1/4 [00:40<02:00, 40.03s/it]\n",
      "0it [00:00, ?it/s]"
     ]
    },
    {
     "name": "stdout",
     "output_type": "stream",
     "text": [
      "Saved: 'q.json'\n"
     ]
    },
    {
     "name": "stderr",
     "output_type": "stream",
     "text": [
      "\u001b[A\n",
      "1it [00:28, 28.43s/it]\u001b[A\n",
      " 50%|█████     | 2/4 [01:08<01:13, 36.56s/it]\n",
      "0it [00:00, ?it/s]"
     ]
    },
    {
     "name": "stdout",
     "output_type": "stream",
     "text": [
      "Saved: 'q.json'\n"
     ]
    },
    {
     "name": "stderr",
     "output_type": "stream",
     "text": [
      "\u001b[A"
     ]
    }
   ],
   "source": [
    "experiment_name='1611_USDTBTC_Qtable_100vol10_60T4___1datapoint'\n",
    "inputfile='/home/axel/data/small/obs_2016-11_USDT_BTC_maxVol100.dict'\n",
    "outputfile_model='q.json'\n",
    "volume=100\n",
    "volume_intervals=10\n",
    "decision_points=4\n",
    "period_length=15\n",
    "action_min=-0.4\n",
    "action_max=1.0\n",
    "action_count=15\n",
    "folder='experiments'\n",
    "plotQ=False\n",
    "state_variables=['volume','time']\n",
    "actions = list(np.linspace(action_min, action_max, num=action_count))\n",
    "\n",
    "episodes_train = OrderbookEpisodesGenerator(filename=inputfile,\n",
    "                                                episode_length=decision_points*period_length)\n",
    "\n",
    "agent = optimal_strategy(traingdata=episodes_train[:1], V=volume, T=decision_points,\n",
    "                          period_length=period_length, vol_intervals=volume_intervals,\n",
    "                          actions=actions, outputfolder=folder, experiment_name=experiment_name,\n",
    "                          state_variables=state_variables, plotQ=plotQ, outputfile_model=outputfile_model)"
   ]
  },
  {
   "cell_type": "code",
   "execution_count": null,
   "metadata": {
    "collapsed": false,
    "scrolled": false
   },
   "outputs": [],
   "source": [
    "print(\"trained on 10 windows\")\n",
    "agent.heatmap_Q()\n",
    "costs = agent.evaluate(testdata=episodes_train[:3], verbose=False)\n",
    "\n",
    "display(costs)\n",
    "display(costs.mean())"
   ]
  },
  {
   "cell_type": "code",
   "execution_count": null,
   "metadata": {
    "collapsed": true
   },
   "outputs": [],
   "source": []
  }
 ],
 "metadata": {
  "kernelspec": {
   "display_name": "Python 3",
   "language": "python",
   "name": "python3"
  },
  "language_info": {
   "codemirror_mode": {
    "name": "ipython",
    "version": 3
   },
   "file_extension": ".py",
   "mimetype": "text/x-python",
   "name": "python",
   "nbconvert_exporter": "python",
   "pygments_lexer": "ipython3",
   "version": "3.6.0"
  }
 },
 "nbformat": 4,
 "nbformat_minor": 2
}
