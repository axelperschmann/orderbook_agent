{
 "cells": [
  {
   "cell_type": "code",
   "execution_count": 1,
   "metadata": {
    "collapsed": false
   },
   "outputs": [],
   "source": [
    "%load_ext autoreload\n",
    "%autoreload 2\n",
    "\n",
    "import sys\n",
    "import numpy as np\n",
    "import pandas as pd\n",
    "import pickle\n",
    "import matplotlib.pyplot as plt\n",
    "%matplotlib inline\n",
    "from IPython.display import display\n",
    "\n",
    "sys.path.append('../Runs')\n",
    "from train_QTable import optimal_strategy, run\n",
    "# from helper.Q_learning import QLearn, round_custombase\n",
    "from helper.manage_orderbooks import OrderbookEpisodesGenerator, plot_episode\n",
    "from helper.orderbook_trader import OrderbookTradingSimulator\n",
    "from agents.QTable_Agent import QTable_Agent"
   ]
  },
  {
   "cell_type": "code",
   "execution_count": 4,
   "metadata": {
    "collapsed": false,
    "scrolled": false
   },
   "outputs": [
    {
     "name": "stderr",
     "output_type": "stream",
     "text": [
      "\n",
      "  0%|          | 0/4 [00:00<?, ?it/s]\u001b[A\n",
      "\n",
      "0it [00:00, ?it/s]"
     ]
    },
    {
     "name": "stdout",
     "output_type": "stream",
     "text": [
      "2016-11-08T10:00\n",
      "RL-Type: <class 'agents.QTable_Agent.QTable_Agent'>\n"
     ]
    },
    {
     "name": "stderr",
     "output_type": "stream",
     "text": [
      "\u001b[A\u001b[A\n",
      "\n",
      "1it [00:24, 24.54s/it]\u001b[A\n",
      " 25%|██▌       | 1/4 [00:24<01:13, 24.54s/it]\n",
      "0it [00:00, ?it/s]"
     ]
    },
    {
     "name": "stdout",
     "output_type": "stream",
     "text": [
      "Saved: 'q_10_aggr.json'\n",
      "Saved: 'q_10_aggr.csv'\n"
     ]
    },
    {
     "name": "stderr",
     "output_type": "stream",
     "text": [
      "\u001b[A\n",
      "1it [00:20, 20.47s/it]\u001b[A\n",
      " 50%|█████     | 2/4 [00:45<00:46, 23.32s/it]\n",
      "0it [00:00, ?it/s]"
     ]
    },
    {
     "name": "stdout",
     "output_type": "stream",
     "text": [
      "Saved: 'q_10_aggr.json'\n",
      "Saved: 'q_10_aggr.csv'\n"
     ]
    },
    {
     "name": "stderr",
     "output_type": "stream",
     "text": [
      "\u001b[A\n",
      "1it [00:21, 21.54s/it]\u001b[A\n",
      " 75%|███████▌  | 3/4 [01:06<00:22, 22.79s/it]\n",
      "0it [00:00, ?it/s]"
     ]
    },
    {
     "name": "stdout",
     "output_type": "stream",
     "text": [
      "Saved: 'q_10_aggr.json'\n",
      "Saved: 'q_10_aggr.csv'\n"
     ]
    },
    {
     "name": "stderr",
     "output_type": "stream",
     "text": [
      "\u001b[A\n",
      "1it [00:03,  3.68s/it]\u001b[A\n",
      "100%|██████████| 4/4 [01:10<00:00, 17.06s/it]"
     ]
    },
    {
     "name": "stdout",
     "output_type": "stream",
     "text": [
      "Saved: 'q_10_aggr.json'\n",
      "Saved: 'q_10_aggr.csv'\n"
     ]
    },
    {
     "name": "stderr",
     "output_type": "stream",
     "text": [
      "\n"
     ]
    }
   ],
   "source": [
    "inputfile='/home/axel/data/small/obs_2016-11_USDT_BTC_maxVol100.dict'\n",
    "# experiment_name='1611_USDTBTC_Qtable_100vol10_60T4___1datapoint'\n",
    "# outputfolder='experiments'\n",
    "# outputfile_model=os.path.join(outputfolder, experiment_name, 'model', experiment_name)\n",
    "outfile_agent='q_10_aggr.json'\n",
    "outfile_samples='q_10_aggr.csv'\n",
    "volume=100\n",
    "volume_intervals=10\n",
    "decision_points=4\n",
    "period_length=15\n",
    "action_min=-0.4\n",
    "action_max=1.0\n",
    "action_count=15\n",
    "\n",
    "state_variables=['volume','time']\n",
    "actions = list(np.linspace(action_min, action_max, num=action_count))\n",
    "\n",
    "episodes_train = OrderbookEpisodesGenerator(filename=inputfile,\n",
    "                                            episode_length=decision_points*period_length)\n",
    "# data = list(episodes_train[:20])\n",
    "# pickle.dump( data, open( \"cached_episodes.p\", \"wb\" ) )\n",
    "data = pickle.load( open( \"cached_episodes.p\", \"rb\" ) )\n",
    "print(data[0][0].timestamp)\n",
    "\n",
    "agent = optimal_strategy(traingdata=data[:1], V=volume, T=decision_points,\n",
    "                          period_length=period_length, vol_intervals=volume_intervals,\n",
    "                          actions=actions, state_variables=state_variables,\n",
    "                          outfile_agent=outfile_agent, outfile_samples=outfile_samples)"
   ]
  },
  {
   "cell_type": "code",
   "execution_count": null,
   "metadata": {
    "collapsed": true
   },
   "outputs": [],
   "source": []
  },
  {
   "cell_type": "code",
   "execution_count": 5,
   "metadata": {
    "collapsed": false
   },
   "outputs": [],
   "source": [
    "test = QTable_Agent.load(infile_agent='q_10_aggr.json', infile_samples=\"q_10_aggr.csv\")\n"
   ]
  },
  {
   "cell_type": "code",
   "execution_count": 7,
   "metadata": {
    "collapsed": false
   },
   "outputs": [
    {
     "name": "stdout",
     "output_type": "stream",
     "text": [
      "<class 'pandas.core.frame.DataFrame'>\n",
      "Int64Index: 465 entries, 0 to 464\n",
      "Data columns (total 10 columns):\n",
      "volume            465 non-null float64\n",
      "time              465 non-null float64\n",
      "action            465 non-null float64\n",
      "action_idx        465 non-null int64\n",
      "cost              465 non-null float64\n",
      "avg               465 non-null float64\n",
      "initial_center    465 non-null float64\n",
      "timestamp         465 non-null object\n",
      "volume_n          465 non-null float64\n",
      "time_n            465 non-null float64\n",
      "dtypes: float64(8), int64(1), object(1)\n",
      "memory usage: 40.0+ KB\n"
     ]
    }
   ],
   "source": [
    "test.samples.info()"
   ]
  },
  {
   "cell_type": "code",
   "execution_count": null,
   "metadata": {
    "collapsed": false,
    "scrolled": false
   },
   "outputs": [],
   "source": [
    "agent.samples"
   ]
  },
  {
   "cell_type": "code",
   "execution_count": null,
   "metadata": {
    "collapsed": false
   },
   "outputs": [],
   "source": [
    "agent.heatmap_Q(show_traces=True, show_minima_count=False)"
   ]
  },
  {
   "cell_type": "code",
   "execution_count": null,
   "metadata": {
    "collapsed": false
   },
   "outputs": [],
   "source": [
    "models = ['q_10.json', 'q_10_aggr.json', 'q_10_interp.json', 'q_5.json', 'q_5_interp.json']\n",
    "costs_insample = None\n",
    "for m, file in enumerate(models):\n",
    "    agent = QTable_Agent.load(file)\n",
    "    print(m, file[:-5])\n",
    "    if m < len(models)-1:\n",
    "        costs_insample = agent.evaluate(testdata=data[:10], name=file[:-5], verbose=False, costs=costs_insample)\n",
    "    else:\n",
    "        costs_insample = agent.evaluate(testdata=data[:10], name=file[:-5], verbose=False, costs=costs_insample, evaluate_actions=[0.1, 0.2, 0.3, 0.4, 0.5])\n",
    "\n",
    "display(costs_insample)\n",
    "display(costs_insample.mean())\n",
    "best_static_action = costs_insample.mean()[len(models):].argmin()\n",
    "print(\"Best S&L action: {}\".format(best_static_action))"
   ]
  },
  {
   "cell_type": "code",
   "execution_count": null,
   "metadata": {
    "collapsed": false,
    "scrolled": false
   },
   "outputs": [],
   "source": [
    "models = ['q_10.json', 'q_10_aggr.json', 'q_10_interp.json', 'q_5.json', 'q_5_interp.json']\n",
    "costs = None\n",
    "for m, file in enumerate(models):\n",
    "    agent = QTable_Agent.load(file)\n",
    "    print(m, file[:-5])\n",
    "    agent.heatmap_Q()\n",
    "    if m < len(models)-1:\n",
    "        costs = agent.evaluate(testdata=data[10:20], name=file[:-5], verbose=False, costs=costs)\n",
    "    else:\n",
    "        costs = agent.evaluate(testdata=data[10:20], name=file[:-5], verbose=False, costs=costs, evaluate_actions=[best_static_action])\n",
    "\n",
    "display(costs)\n",
    "display(costs.mean())\n",
    "print(\"Best S&L action: {}\".format(best_static_action))"
   ]
  },
  {
   "cell_type": "code",
   "execution_count": null,
   "metadata": {
    "collapsed": false,
    "scrolled": false
   },
   "outputs": [],
   "source": [
    "costs_insample = agent.evaluate(testdata=data[:10], verbose=False, costs=costs_insample, name='v10')  # , evaluate_actions=[0.1, 0.2, 0.3, 0.4, 0.5])\n",
    "\n",
    "display(costs_insample)\n",
    "display(costs_insample.mean())\n",
    "best_static_action = costs_insample.mean()[2:].argmin()\n",
    "print(\"Best S&L action: {}\".format(best_static_action))"
   ]
  },
  {
   "cell_type": "code",
   "execution_count": null,
   "metadata": {
    "collapsed": false
   },
   "outputs": [],
   "source": [
    "#costs = None\n",
    "costs = agent.evaluate(testdata=data[10:20], verbose=False, name='v10', costs=costs)  # , evaluate_actions=[best_static_action])\n",
    "\n",
    "display(costs)\n",
    "display(costs.mean())"
   ]
  },
  {
   "cell_type": "code",
   "execution_count": null,
   "metadata": {
    "collapsed": false,
    "scrolled": false
   },
   "outputs": [],
   "source": [
    "idx = 4\n",
    "plot_episode(data[idx], volume=100, limits=[0.2])\n",
    "plot_episode(data[idx], volume=100, limits=[0.4]*4, intervals=5)"
   ]
  },
  {
   "cell_type": "code",
   "execution_count": null,
   "metadata": {
    "collapsed": false
   },
   "outputs": [],
   "source": [
    "display(costs.iloc[:8,:])\n",
    "display(costs.iloc[:8,:].mean())"
   ]
  },
  {
   "cell_type": "code",
   "execution_count": null,
   "metadata": {
    "collapsed": false
   },
   "outputs": [],
   "source": [
    "\n",
    "plot_experiment_results(costs_insample.iloc[:,:], showfliers=True, hline='q_10', ylim=(0, 0.5))"
   ]
  },
  {
   "cell_type": "code",
   "execution_count": null,
   "metadata": {
    "collapsed": false
   },
   "outputs": [],
   "source": [
    "plot_experiment_results(costs.iloc[:8,:], showfliers=True, hline='v10_interp')"
   ]
  },
  {
   "cell_type": "code",
   "execution_count": null,
   "metadata": {
    "collapsed": true
   },
   "outputs": [],
   "source": []
  }
 ],
 "metadata": {
  "kernelspec": {
   "display_name": "Python 3",
   "language": "python",
   "name": "python3"
  },
  "language_info": {
   "codemirror_mode": {
    "name": "ipython",
    "version": 3
   },
   "file_extension": ".py",
   "mimetype": "text/x-python",
   "name": "python",
   "nbconvert_exporter": "python",
   "pygments_lexer": "ipython3",
   "version": "3.6.0"
  }
 },
 "nbformat": 4,
 "nbformat_minor": 2
}
