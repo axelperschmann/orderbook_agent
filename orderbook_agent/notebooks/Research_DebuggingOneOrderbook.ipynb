{
 "cells": [
  {
   "cell_type": "code",
   "execution_count": 8,
   "metadata": {
    "collapsed": false
   },
   "outputs": [
    {
     "name": "stdout",
     "output_type": "stream",
     "text": [
      "The autoreload extension is already loaded. To reload it, use:\n",
      "  %reload_ext autoreload\n"
     ]
    }
   ],
   "source": [
    "%load_ext autoreload\n",
    "%autoreload 2\n",
    "\n",
    "import sys\n",
    "import os\n",
    "import numpy as np\n",
    "import pandas as pd\n",
    "import pickle\n",
    "import matplotlib.pyplot as plt\n",
    "%matplotlib inline\n",
    "from IPython.display import display\n",
    "from tqdm import tqdm\n",
    "from sklearn import preprocessing\n",
    "import talib\n",
    "\n",
    "sys.path.append('../Runs')\n",
    "from train_QTable import optimal_strategy, optimal_strategy_fixedStepsize, run\n",
    "from train_fromSamples import train_BatchTree_fromSamples, train_Qtable_fromSamples\n",
    "from helper.Q_learning import round_custombase\n",
    "from helper.manage_orderbooks import OrderbookEpisodesGenerator, plot_episode\n",
    "from helper.orderbook_trader import OrderbookTradingSimulator\n",
    "from agents.QTable_Agent import QTable_Agent\n",
    "from agents.BatchTree_Agent import RLAgent_BatchTree"
   ]
  },
  {
   "cell_type": "code",
   "execution_count": 9,
   "metadata": {
    "collapsed": false
   },
   "outputs": [
    {
     "data": {
      "text/html": [
       "<div>\n",
       "<table border=\"1\" class=\"dataframe\">\n",
       "  <thead>\n",
       "    <tr style=\"text-align: right;\">\n",
       "      <th></th>\n",
       "      <th>baseVolume</th>\n",
       "      <th>high24hr</th>\n",
       "      <th>highestBid</th>\n",
       "      <th>last</th>\n",
       "      <th>low24hr</th>\n",
       "      <th>lowestAsk</th>\n",
       "      <th>percentChange</th>\n",
       "      <th>quoteVolume</th>\n",
       "      <th>spread</th>\n",
       "      <th>future15</th>\n",
       "      <th>future30</th>\n",
       "      <th>future45</th>\n",
       "      <th>future15_disc</th>\n",
       "      <th>future30_disc</th>\n",
       "      <th>future45_disc</th>\n",
       "    </tr>\n",
       "  </thead>\n",
       "  <tbody>\n",
       "    <tr>\n",
       "      <th>2016-11-09 03:01:00</th>\n",
       "      <td>417050.045093</td>\n",
       "      <td>716.0</td>\n",
       "      <td>709.740242</td>\n",
       "      <td>709.740241</td>\n",
       "      <td>702.680396</td>\n",
       "      <td>711.419498</td>\n",
       "      <td>0.004009</td>\n",
       "      <td>586.622061</td>\n",
       "      <td>1.679256</td>\n",
       "      <td>0.002366</td>\n",
       "      <td>0.004593</td>\n",
       "      <td>0.013399</td>\n",
       "      <td>3.0</td>\n",
       "      <td>3.0</td>\n",
       "      <td>4.0</td>\n",
       "    </tr>\n",
       "    <tr>\n",
       "      <th>2016-11-09 03:02:00</th>\n",
       "      <td>417128.134302</td>\n",
       "      <td>716.0</td>\n",
       "      <td>709.768994</td>\n",
       "      <td>711.419498</td>\n",
       "      <td>702.680396</td>\n",
       "      <td>711.419498</td>\n",
       "      <td>0.006251</td>\n",
       "      <td>586.731342</td>\n",
       "      <td>1.650504</td>\n",
       "      <td>0.002019</td>\n",
       "      <td>0.003802</td>\n",
       "      <td>0.008926</td>\n",
       "      <td>3.0</td>\n",
       "      <td>3.0</td>\n",
       "      <td>4.0</td>\n",
       "    </tr>\n",
       "    <tr>\n",
       "      <th>2016-11-09 03:03:00</th>\n",
       "      <td>417086.272705</td>\n",
       "      <td>716.0</td>\n",
       "      <td>709.723616</td>\n",
       "      <td>711.419498</td>\n",
       "      <td>702.680396</td>\n",
       "      <td>711.419498</td>\n",
       "      <td>0.006251</td>\n",
       "      <td>586.672174</td>\n",
       "      <td>1.695882</td>\n",
       "      <td>0.002019</td>\n",
       "      <td>0.003802</td>\n",
       "      <td>0.010514</td>\n",
       "      <td>3.0</td>\n",
       "      <td>3.0</td>\n",
       "      <td>4.0</td>\n",
       "    </tr>\n",
       "    <tr>\n",
       "      <th>2016-11-09 03:04:00</th>\n",
       "      <td>417050.431869</td>\n",
       "      <td>716.0</td>\n",
       "      <td>710.000001</td>\n",
       "      <td>710.000000</td>\n",
       "      <td>702.680396</td>\n",
       "      <td>711.419498</td>\n",
       "      <td>0.003144</td>\n",
       "      <td>586.621473</td>\n",
       "      <td>1.419497</td>\n",
       "      <td>0.003122</td>\n",
       "      <td>0.005845</td>\n",
       "      <td>0.013099</td>\n",
       "      <td>3.0</td>\n",
       "      <td>4.0</td>\n",
       "      <td>4.0</td>\n",
       "    </tr>\n",
       "  </tbody>\n",
       "</table>\n",
       "</div>"
      ],
      "text/plain": [
       "                        baseVolume  high24hr  highestBid        last  \\\n",
       "2016-11-09 03:01:00  417050.045093     716.0  709.740242  709.740241   \n",
       "2016-11-09 03:02:00  417128.134302     716.0  709.768994  711.419498   \n",
       "2016-11-09 03:03:00  417086.272705     716.0  709.723616  711.419498   \n",
       "2016-11-09 03:04:00  417050.431869     716.0  710.000001  710.000000   \n",
       "\n",
       "                        low24hr   lowestAsk  percentChange  quoteVolume  \\\n",
       "2016-11-09 03:01:00  702.680396  711.419498       0.004009   586.622061   \n",
       "2016-11-09 03:02:00  702.680396  711.419498       0.006251   586.731342   \n",
       "2016-11-09 03:03:00  702.680396  711.419498       0.006251   586.672174   \n",
       "2016-11-09 03:04:00  702.680396  711.419498       0.003144   586.621473   \n",
       "\n",
       "                       spread  future15  future30  future45  future15_disc  \\\n",
       "2016-11-09 03:01:00  1.679256  0.002366  0.004593  0.013399            3.0   \n",
       "2016-11-09 03:02:00  1.650504  0.002019  0.003802  0.008926            3.0   \n",
       "2016-11-09 03:03:00  1.695882  0.002019  0.003802  0.010514            3.0   \n",
       "2016-11-09 03:04:00  1.419497  0.003122  0.005845  0.013099            3.0   \n",
       "\n",
       "                     future30_disc  future45_disc  \n",
       "2016-11-09 03:01:00            3.0            4.0  \n",
       "2016-11-09 03:02:00            3.0            4.0  \n",
       "2016-11-09 03:03:00            3.0            4.0  \n",
       "2016-11-09 03:04:00            4.0            4.0  "
      ]
     },
     "metadata": {},
     "output_type": "display_data"
    }
   ],
   "source": [
    "def load_and_preprocess_historyfiles(files):\n",
    "    hist = pd.DataFrame()\n",
    "    for file in histfiles:\n",
    "        data = pd.read_csv(file, index_col=0)\n",
    "        hist = pd.concat([hist, data])\n",
    "    hist.set_index(keys=pd.to_datetime(hist.index), inplace=True)\n",
    "\n",
    "    # remove dublicates and unneeded columns\n",
    "    hist = hist[~hist.index.duplicated(keep='first')]\n",
    "    hist.drop([\"id\", 'isFrozen'], axis=1, inplace=True)\n",
    "\n",
    "    # fill gaps with last observation\n",
    "    idx = pd.date_range(hist.index[0], hist.index[-1], freq=\"1min\")\n",
    "    hist = hist.sort_index().reindex(index=idx.sort_values(), method='ffill')\n",
    "    \n",
    "    # add more features\n",
    "    hist['spread'] = hist.lowestAsk - hist.highestBid\n",
    "\n",
    "    #market_features = hist.loc[ts_prev:ts, :]\n",
    "\n",
    "    #for timeperiod in [10, 60]:\n",
    "    #    featurename = \"EMA{}\".format(timeperiod)\n",
    "    #    hist[featurename] = talib.EMA(\n",
    "    #                                np.array(hist['last']),\n",
    "    #                                timeperiod=timeperiod\n",
    "    #                                ) / hist['last']\n",
    "    for lookahead in [15, 30, 45]:\n",
    "        hist[\"future{}\".format(lookahead)] = (hist['last'].shift(-lookahead) / hist['last']) - 1.\n",
    "\n",
    "    return hist\n",
    "\n",
    "histfiles = [\n",
    "    \"../../../../data/history/history_2016-11_USDT_BTC.csv\",\n",
    "    \"../../../../data/history/history_2017-02_USDT_BTC.csv\",\n",
    "]\n",
    "\n",
    "hist = load_and_preprocess_historyfiles(files=histfiles)\n",
    "hist['future15_disc'] = pd.cut(hist.future15, bins=[-np.inf, -0.005, -0.001, 0.001, 0.005, np.inf], labels=False)\n",
    "hist['future30_disc'] = pd.cut(hist.future30, bins=[-np.inf, -0.005, -0.001, 0.001, 0.005, np.inf], labels=False)\n",
    "hist['future45_disc'] = pd.cut(hist.future45, bins=[-np.inf, -0.005, -0.001, 0.001, 0.005, np.inf], labels=False)\n",
    "display(hist.iloc[1021:1025,:])"
   ]
  },
  {
   "cell_type": "raw",
   "metadata": {
    "collapsed": false
   },
   "source": [
    "def addMarketFeatures_toSamples(samples_df, hist, state_variables,\n",
    "                                market_features, period_length=15):\n",
    "    df = samples_df.copy()\n",
    "    \n",
    "    for i, f in tqdm(enumerate(market_features)):\n",
    "        #\n",
    "        f_n = \"{}_n\".format(f)\n",
    "        if f in df.columns:\n",
    "            df.drop(f, inplace=True, axis=1)\n",
    "        if f_n in df.columns:\n",
    "            df.drop(f_n, inplace=True, axis=1)\n",
    "        \n",
    "        df.insert(loc=2+i, column=f, value=df.timestamp.map(hist[f]),\n",
    "                 allow_duplicates=True)\n",
    "        df.insert(loc=df.shape[1],\n",
    "                  column=f_n,\n",
    "                  allow_duplicates=True,\n",
    "                  value=(df.timestamp+pd.Timedelta(minutes=period_length)).map(hist[f]))\n",
    "        if f not in state_variables:\n",
    "            state_variables.append(f)\n",
    "\n",
    "        if f in ['high24hr', 'low24hr', 'spread']:\n",
    "            df[f] = df[f] / df.initial_center\n",
    "            df[f_n] = df[f_n] / df.initial_center\n",
    "\n",
    "    return df\n",
    "\n",
    "df2 = addMarketFeatures_toSamples(samples_df=df2, hist=hist, state_variables=state_variables,\n",
    "                                 market_features=['future15', 'future15_disc', 'future30_disc', 'future45_disc'])\n",
    "print(df2.shape)\n",
    "display(df2.describe())"
   ]
  },
  {
   "cell_type": "code",
   "execution_count": 4,
   "metadata": {
    "collapsed": false
   },
   "outputs": [
    {
     "name": "stderr",
     "output_type": "stream",
     "text": [
      "  5%|▌         | 1/20 [00:00<00:02,  7.78it/s]"
     ]
    },
    {
     "name": "stdout",
     "output_type": "stream",
     "text": [
      "loaded\n"
     ]
    },
    {
     "name": "stderr",
     "output_type": "stream",
     "text": [
      "100%|██████████| 20/20 [00:02<00:00,  8.39it/s]\n"
     ]
    },
    {
     "data": {
      "text/plain": [
       "670"
      ]
     },
     "metadata": {},
     "output_type": "display_data"
    },
    {
     "data": {
      "text/plain": [
       "OrderbookContainer from 2017-02-01T00:00 (factor: 1.0)\n",
       "  139 bids (best: 965.8666755)\n",
       "  113 asks (best: 965.99)\n",
       "price: 965.928336437291\n",
       "  kind: 'orderbook'\n",
       "  -spread: 0.12332449999996697\n",
       "  -future15: 0.001425825042782991\n",
       "  -future15_disc: 3.0\n",
       "  -future30: 0.002989831786579078\n",
       "  -future30_disc: 3.0\n",
       "  -future45: 0.00272120465321124\n",
       "  -future45_disc: 3.0"
      ]
     },
     "metadata": {},
     "output_type": "display_data"
    }
   ],
   "source": [
    "data_feb = pickle.load( open( \"cached_windows/tradingwindows_1702_USTD_BTC.p\", \"rb\" ) )\n",
    "print(\"loaded\")\n",
    "for window in tqdm(data_feb[:20]):\n",
    "    for ob in window:\n",
    "        ob.norm_factor = 1.\n",
    "        ob.features = {'spread': ob.asks.index[0]-ob.bids.index[0]}\n",
    "        \n",
    "        ts = pd.to_datetime(ob.timestamp)        \n",
    "        ts_prev = pd.to_datetime(ob.timestamp) - pd.Timedelta('60Min')\n",
    "\n",
    "        market_features = hist.loc[ts_prev:ts, :]\n",
    "        \n",
    "        for lookahead in [15,30,45]:\n",
    "            ob.features[\"future{}\".format(lookahead)] = market_features['future{}'.format(lookahead)][-1]\n",
    "            ob.features[\"future{}_disc\".format(lookahead)] = market_features['future{}_disc'.format(lookahead)][-1]\n",
    "display(len(data_feb), data_feb[0][0])"
   ]
  },
  {
   "cell_type": "code",
   "execution_count": 5,
   "metadata": {
    "collapsed": false
   },
   "outputs": [
    {
     "data": {
      "text/plain": [
       "20"
      ]
     },
     "metadata": {},
     "output_type": "display_data"
    },
    {
     "data": {
      "text/plain": [
       "OrderbookContainer from 2016-11-08T10:00 (factor: 1.0)\n",
       "  107 bids (best: 705.0)\n",
       "  110 asks (best: 705.450997)\n",
       "price: 705.2254744655137\n",
       "  kind: 'orderbook'\n",
       "  -spread: 0.4509970000000294\n",
       "  -future15: -3.246150348523713e-08\n",
       "  -future15_disc: 2.0\n",
       "  -future30: -0.0006393032568402512\n",
       "  -future30_disc: 2.0\n",
       "  -future45: -0.0025756666407984463\n",
       "  -future45_disc: 1.0"
      ]
     },
     "metadata": {},
     "output_type": "display_data"
    }
   ],
   "source": [
    "data_nov_orig = pickle.load( open( \"cached_windows/tradingwindows_1611_USTD_BTC_20.p\", \"rb\" ) )\n",
    "for window in data_nov_orig:\n",
    "    for ob in window:\n",
    "        ob.norm_factor = 1.\n",
    "        ob.features = {'spread': ob.asks.index[0]-ob.bids.index[0]}\n",
    "        \n",
    "        ts = pd.to_datetime(ob.timestamp)        \n",
    "        ts_prev = pd.to_datetime(ob.timestamp) - pd.Timedelta('60Min')\n",
    "\n",
    "        market_features = hist.loc[ts_prev:ts, :]\n",
    "        \n",
    "        for lookahead in [15,30,45]:\n",
    "            ob.features[\"future{}\".format(lookahead)] = market_features['future{}'.format(lookahead)][-1]\n",
    "            ob.features[\"future{}_disc\".format(lookahead)] = market_features['future{}_disc'.format(lookahead)][-1]\n",
    "display(len(data_nov_orig), data_nov_orig[0][0])"
   ]
  },
  {
   "cell_type": "code",
   "execution_count": 6,
   "metadata": {
    "collapsed": false,
    "scrolled": false
   },
   "outputs": [
    {
     "name": "stdout",
     "output_type": "stream",
     "text": [
      "20\n"
     ]
    },
    {
     "data": {
      "text/plain": [
       "OrderbookContainer from 2016-11-08T10:00 (factor: 705.2254744655137)\n",
       "  107 bids (best: 0.9996802803164696)\n",
       "  110 asks (best: 1.000319787844671)\n",
       "price: 0.9999999999997474\n",
       "  kind: 'orderbook'\n",
       "  -spread: 0.0006395075282014107\n",
       "  -future15: -3.246150348523713e-08\n",
       "  -future15_disc: 2.0\n",
       "  -future30: -0.0006393032568402512\n",
       "  -future30_disc: 2.0\n",
       "  -future45: -0.0025756666407984463\n",
       "  -future45_disc: 1.0"
      ]
     },
     "metadata": {},
     "output_type": "display_data"
    }
   ],
   "source": [
    "data_nov = pickle.load( open( \"cached_windows/tradingwindows_1611_USTD_BTC_20.p\", \"rb\" ) )\n",
    "for window in data_nov:\n",
    "    center = window[0].get_center()\n",
    "\n",
    "    for o, ob in enumerate(window):\n",
    "        # ob.asks['norm'] = ob.asks.index / center\n",
    "        new_idx = ob.asks.index / center\n",
    "        ob.asks.index = new_idx\n",
    "\n",
    "        ob.bids.set_index([ob.bids.index / center], inplace=True)\n",
    "        ob.norm_factor = center\n",
    "        ob.features = {'spread': ob.asks.index[0]-ob.bids.index[0]}\n",
    "        \n",
    "        ts = pd.to_datetime(ob.timestamp)        \n",
    "        ts_prev = pd.to_datetime(ob.timestamp) - pd.Timedelta('60Min')\n",
    "\n",
    "        market_features = hist.loc[ts_prev:ts, :]\n",
    "        \n",
    "        for lookahead in [15,30,45]:\n",
    "            ob.features[\"future{}\".format(lookahead)] = market_features['future{}'.format(lookahead)][-1]\n",
    "            ob.features[\"future{}_disc\".format(lookahead)] = market_features['future{}_disc'.format(lookahead)][-1]\n",
    "        \n",
    "print(len(data_nov))\n",
    "display(data_nov[0][0])\n",
    "#display(data_nov[17][0])"
   ]
  },
  {
   "cell_type": "code",
   "execution_count": null,
   "metadata": {
    "collapsed": true
   },
   "outputs": [],
   "source": []
  },
  {
   "cell_type": "code",
   "execution_count": 7,
   "metadata": {
    "collapsed": false
   },
   "outputs": [
    {
     "name": "stdout",
     "output_type": "stream",
     "text": [
      "2\n",
      "OrderbookContainer from 2016-11-08T10:00 (factor: 1.0)\n",
      "  107 bids (best: 705.0)\n",
      "  110 asks (best: 705.450997)\n",
      "price: 705.2254744655137\n",
      "  kind: 'orderbook'\n",
      "  -spread: 0.4509970000000294\n",
      "  -future15: -3.246150348523713e-08\n",
      "  -future15_disc: 2.0\n",
      "  -future30: -0.0006393032568402512\n",
      "  -future30_disc: 2.0\n",
      "  -future45: -0.0025756666407984463\n",
      "  -future45_disc: 1.0\n",
      "OrderbookContainer from 2016-11-09T03:01 (factor: 1.0)\n",
      "  108 bids (best: 709.7402417)\n",
      "  153 asks (best: 711.4194982)\n",
      "price: 710.5795392453285\n",
      "  kind: 'orderbook'\n",
      "  -spread: 1.679256500000065\n",
      "  -future15: 0.0023660177939859306\n",
      "  -future15_disc: 3.0\n",
      "  -future30: 0.004592889793137767\n",
      "  -future30_disc: 3.0\n",
      "  -future45: 0.013398928448407288\n",
      "  -future45_disc: 4.0\n"
     ]
    }
   ],
   "source": [
    "data_selection = [data_nov_orig[x] for x in [0,17]]\n",
    "print(len(data_selection))\n",
    "print(data_selection[0][0])\n",
    "print(data_selection[1][0])"
   ]
  },
  {
   "cell_type": "code",
   "execution_count": null,
   "metadata": {
    "collapsed": false,
    "scrolled": false
   },
   "outputs": [],
   "source": [
    "for idx in [0, 6, 17]:\n",
    "    print(\"idx:\", idx)\n",
    "    plot_episode(data_nov[idx], volume=100, vlines=[0, 15, 30, 45])\n",
    "    #plot_episode(data_nov_orig[idx], volume=100)\n",
    "    print(data_nov[idx][0])"
   ]
  },
  {
   "cell_type": "code",
   "execution_count": 11,
   "metadata": {
    "collapsed": false,
    "scrolled": false
   },
   "outputs": [
    {
     "name": "stderr",
     "output_type": "stream",
     "text": [
      "\n",
      "  0%|          | 0/4 [00:00<?, ?it/s]\u001b[A\n",
      "\n",
      "0it [00:00, ?it/s]"
     ]
    },
    {
     "name": "stdout",
     "output_type": "stream",
     "text": [
      "[0.0, 0.10000000000000001, 0.20000000000000001, 0.29999999999999999, 0.40000000000000002, 0.5, 0.59999999999999998, 0.69999999999999996, 0.80000000000000004, 0.90000000000000002, 1.0]\n",
      "2\n",
      "RL-Type: <class 'agents.QTable_Agent.QTable_Agent'>\n",
      "time_left 1\n"
     ]
    },
    {
     "name": "stderr",
     "output_type": "stream",
     "text": [
      "\u001b[A\u001b[A"
     ]
    },
    {
     "name": "stdout",
     "output_type": "stream",
     "text": [
      "lim_increments 0.705225474466\n",
      "\n"
     ]
    },
    {
     "name": "stderr",
     "output_type": "stream",
     "text": [
      "\n"
     ]
    },
    {
     "name": "stdout",
     "output_type": "stream",
     "text": [
      "\n",
      "\n"
     ]
    },
    {
     "name": "stderr",
     "output_type": "stream",
     "text": [
      "\n",
      "1it [00:12, 12.32s/it]\u001b[A\n",
      " 25%|██▌       | 1/4 [00:12<00:36, 12.32s/it]\n",
      "0it [00:00, ?it/s]"
     ]
    },
    {
     "name": "stdout",
     "output_type": "stream",
     "text": [
      "\n",
      "Saved agent: 'q.json'\n",
      "Saved samples: 'q.csv'\n",
      "time_left 2\n"
     ]
    },
    {
     "name": "stderr",
     "output_type": "stream",
     "text": [
      "\u001b[A"
     ]
    },
    {
     "name": "stdout",
     "output_type": "stream",
     "text": [
      "lim_increments 0.705225474466\n",
      "\n",
      "\n",
      "\n"
     ]
    },
    {
     "name": "stderr",
     "output_type": "stream",
     "text": [
      "\n",
      "1it [00:12, 12.08s/it]\u001b[A\n",
      " 50%|█████     | 2/4 [00:24<00:24, 12.25s/it]\n",
      "0it [00:00, ?it/s]"
     ]
    },
    {
     "name": "stdout",
     "output_type": "stream",
     "text": [
      "\n",
      "Saved agent: 'q.json'\n",
      "Saved samples: 'q.csv'\n",
      "time_left 3\n"
     ]
    },
    {
     "name": "stderr",
     "output_type": "stream",
     "text": [
      "\u001b[A"
     ]
    },
    {
     "name": "stdout",
     "output_type": "stream",
     "text": [
      "lim_increments 0.705225474466\n",
      "\n",
      "\n",
      "\n"
     ]
    },
    {
     "name": "stderr",
     "output_type": "stream",
     "text": [
      "\n",
      "1it [00:11, 11.48s/it]\u001b[A\n",
      " 75%|███████▌  | 3/4 [00:35<00:12, 12.02s/it]\n",
      "0it [00:00, ?it/s]"
     ]
    },
    {
     "name": "stdout",
     "output_type": "stream",
     "text": [
      "\n",
      "Saved agent: 'q.json'\n",
      "Saved samples: 'q.csv'\n",
      "time_left 4\n"
     ]
    },
    {
     "name": "stderr",
     "output_type": "stream",
     "text": [
      "\u001b[A"
     ]
    },
    {
     "name": "stdout",
     "output_type": "stream",
     "text": [
      "lim_increments 0.705225474466\n",
      "\n",
      "\n",
      "\n"
     ]
    },
    {
     "name": "stderr",
     "output_type": "stream",
     "text": [
      "\n",
      "1it [00:11, 11.81s/it]\u001b[A\n",
      "100%|██████████| 4/4 [00:47<00:00, 11.96s/it]\n",
      "  0%|          | 0/4 [00:00<?, ?it/s]\n",
      "0it [00:00, ?it/s]"
     ]
    },
    {
     "name": "stdout",
     "output_type": "stream",
     "text": [
      "\n",
      "Saved agent: 'q.json'\n",
      "Saved samples: 'q.csv'\n",
      "RL-Type: <class 'agents.QTable_Agent.QTable_Agent'>\n",
      "time_left 1\n"
     ]
    },
    {
     "name": "stderr",
     "output_type": "stream",
     "text": [
      "\u001b[A"
     ]
    },
    {
     "name": "stdout",
     "output_type": "stream",
     "text": [
      "lim_increments 0.710579539245\n",
      "\n",
      "\n",
      "\n"
     ]
    },
    {
     "name": "stderr",
     "output_type": "stream",
     "text": [
      "\n",
      "1it [00:09,  9.08s/it]\u001b[A\n",
      " 25%|██▌       | 1/4 [00:09<00:27,  9.09s/it]\n",
      "0it [00:00, ?it/s]"
     ]
    },
    {
     "name": "stdout",
     "output_type": "stream",
     "text": [
      "\n",
      "Saved agent: 'q.json'\n",
      "Saved samples: 'q.csv'\n",
      "time_left 2\n"
     ]
    },
    {
     "name": "stderr",
     "output_type": "stream",
     "text": [
      "\u001b[A"
     ]
    },
    {
     "name": "stdout",
     "output_type": "stream",
     "text": [
      "lim_increments 0.710579539245\n",
      "\n",
      "\n",
      "\n"
     ]
    },
    {
     "name": "stderr",
     "output_type": "stream",
     "text": [
      "\n",
      "1it [00:13, 13.28s/it]\u001b[A\n",
      " 50%|█████     | 2/4 [00:22<00:20, 10.35s/it]\n",
      "0it [00:00, ?it/s]"
     ]
    },
    {
     "name": "stdout",
     "output_type": "stream",
     "text": [
      "\n",
      "Saved agent: 'q.json'\n",
      "Saved samples: 'q.csv'\n",
      "time_left 3\n"
     ]
    },
    {
     "name": "stderr",
     "output_type": "stream",
     "text": [
      "\u001b[A"
     ]
    },
    {
     "name": "stdout",
     "output_type": "stream",
     "text": [
      "lim_increments 0.710579539245\n",
      "\n",
      "\n",
      "\n"
     ]
    },
    {
     "name": "stderr",
     "output_type": "stream",
     "text": [
      "\n",
      "1it [00:13, 13.65s/it]\u001b[A\n",
      " 75%|███████▌  | 3/4 [00:36<00:11, 11.34s/it]\n",
      "0it [00:00, ?it/s]"
     ]
    },
    {
     "name": "stdout",
     "output_type": "stream",
     "text": [
      "\n",
      "Saved agent: 'q.json'\n",
      "Saved samples: 'q.csv'\n",
      "time_left 4\n"
     ]
    },
    {
     "name": "stderr",
     "output_type": "stream",
     "text": [
      "\u001b[A"
     ]
    },
    {
     "name": "stdout",
     "output_type": "stream",
     "text": [
      "lim_increments 0.710579539245\n",
      "\n",
      "\n",
      "\n"
     ]
    },
    {
     "name": "stderr",
     "output_type": "stream",
     "text": [
      "\n",
      "1it [00:12, 12.55s/it]\u001b[A\n",
      "100%|██████████| 4/4 [00:48<00:00, 11.71s/it]\n",
      "  0%|          | 0/4 [00:00<?, ?it/s]\n",
      "0it [00:00, ?it/s]"
     ]
    },
    {
     "name": "stdout",
     "output_type": "stream",
     "text": [
      "\n",
      "Saved agent: 'q.json'\n",
      "Saved samples: 'q.csv'\n",
      "RL-Type: <class 'agents.QTable_Agent.QTable_Agent'>\n",
      "time_left 1\n"
     ]
    },
    {
     "name": "stderr",
     "output_type": "stream",
     "text": [
      "\u001b[A"
     ]
    },
    {
     "name": "stdout",
     "output_type": "stream",
     "text": [
      "lim_increments 0.705225474466\n",
      "\n",
      "\n",
      "\n"
     ]
    },
    {
     "name": "stderr",
     "output_type": "stream",
     "text": [
      "\n",
      "\r",
      "1it [00:13, 13.17s/it]"
     ]
    },
    {
     "name": "stdout",
     "output_type": "stream",
     "text": [
      "\n",
      "Saved agent: 'q.json'\n",
      "Saved samples: 'q.csv'\n"
     ]
    },
    {
     "name": "stderr",
     "output_type": "stream",
     "text": [
      "\u001b[A"
     ]
    },
    {
     "name": "stdout",
     "output_type": "stream",
     "text": [
      "lim_increments 0.710579539245\n",
      "\n",
      "\n",
      "\n"
     ]
    },
    {
     "name": "stderr",
     "output_type": "stream",
     "text": [
      "\n",
      "2it [00:22, 11.92s/it]\u001b[A\n",
      " 25%|██▌       | 1/4 [00:22<01:06, 22.19s/it]\n",
      "0it [00:00, ?it/s]"
     ]
    },
    {
     "name": "stdout",
     "output_type": "stream",
     "text": [
      "\n",
      "Saved agent: 'q.json'\n",
      "Saved samples: 'q.csv'\n",
      "time_left 2\n"
     ]
    },
    {
     "name": "stderr",
     "output_type": "stream",
     "text": [
      "\u001b[A"
     ]
    },
    {
     "name": "stdout",
     "output_type": "stream",
     "text": [
      "lim_increments 0.705225474466\n",
      "\n",
      "\n",
      "\n"
     ]
    },
    {
     "name": "stderr",
     "output_type": "stream",
     "text": [
      "\n",
      "\r",
      "1it [00:11, 11.83s/it]"
     ]
    },
    {
     "name": "stdout",
     "output_type": "stream",
     "text": [
      "\n",
      "Saved agent: 'q.json'\n",
      "Saved samples: 'q.csv'\n"
     ]
    },
    {
     "name": "stderr",
     "output_type": "stream",
     "text": [
      "\u001b[A"
     ]
    },
    {
     "name": "stdout",
     "output_type": "stream",
     "text": [
      "lim_increments 0.710579539245\n",
      "\n",
      "\n",
      "\n"
     ]
    },
    {
     "name": "stderr",
     "output_type": "stream",
     "text": [
      "\n",
      "2it [00:24, 12.14s/it]\u001b[A\n",
      " 50%|█████     | 2/4 [00:46<00:45, 22.94s/it]\n",
      "0it [00:00, ?it/s]"
     ]
    },
    {
     "name": "stdout",
     "output_type": "stream",
     "text": [
      "\n",
      "Saved agent: 'q.json'\n",
      "Saved samples: 'q.csv'\n",
      "time_left 3\n"
     ]
    },
    {
     "name": "stderr",
     "output_type": "stream",
     "text": [
      "\u001b[A"
     ]
    },
    {
     "name": "stdout",
     "output_type": "stream",
     "text": [
      "lim_increments 0.705225474466\n",
      "\n",
      "\n",
      "\n"
     ]
    },
    {
     "name": "stderr",
     "output_type": "stream",
     "text": [
      "\n",
      "\r",
      "1it [00:10, 10.28s/it]"
     ]
    },
    {
     "name": "stdout",
     "output_type": "stream",
     "text": [
      "\n",
      "Saved agent: 'q.json'\n",
      "Saved samples: 'q.csv'\n"
     ]
    },
    {
     "name": "stderr",
     "output_type": "stream",
     "text": [
      "\u001b[A"
     ]
    },
    {
     "name": "stdout",
     "output_type": "stream",
     "text": [
      "lim_increments 0.710579539245\n",
      "\n",
      "\n",
      "\n"
     ]
    },
    {
     "name": "stderr",
     "output_type": "stream",
     "text": [
      "\n",
      "2it [00:23, 11.17s/it]\u001b[A\n",
      " 75%|███████▌  | 3/4 [01:10<00:23, 23.12s/it]\n",
      "0it [00:00, ?it/s]"
     ]
    },
    {
     "name": "stdout",
     "output_type": "stream",
     "text": [
      "\n",
      "Saved agent: 'q.json'\n",
      "Saved samples: 'q.csv'\n",
      "time_left 4\n"
     ]
    },
    {
     "name": "stderr",
     "output_type": "stream",
     "text": [
      "\u001b[A"
     ]
    },
    {
     "name": "stdout",
     "output_type": "stream",
     "text": [
      "lim_increments 0.705225474466\n",
      "\n",
      "\n",
      "\n"
     ]
    },
    {
     "name": "stderr",
     "output_type": "stream",
     "text": [
      "\n",
      "\r",
      "1it [00:10, 10.47s/it]"
     ]
    },
    {
     "name": "stdout",
     "output_type": "stream",
     "text": [
      "\n",
      "Saved agent: 'q.json'\n",
      "Saved samples: 'q.csv'\n"
     ]
    },
    {
     "name": "stderr",
     "output_type": "stream",
     "text": [
      "\u001b[A"
     ]
    },
    {
     "name": "stdout",
     "output_type": "stream",
     "text": [
      "lim_increments 0.710579539245\n",
      "\n",
      "\n",
      "\n"
     ]
    },
    {
     "name": "stderr",
     "output_type": "stream",
     "text": [
      "\n",
      "2it [00:24, 11.41s/it]\u001b[A\n",
      "100%|██████████| 4/4 [01:34<00:00, 23.41s/it]"
     ]
    },
    {
     "name": "stdout",
     "output_type": "stream",
     "text": [
      "\n",
      "Saved agent: 'q.json'\n",
      "Saved samples: 'q.csv'\n"
     ]
    },
    {
     "name": "stderr",
     "output_type": "stream",
     "text": [
      "\n"
     ]
    },
    {
     "data": {
      "image/png": "[encoded data removed]",
      "text/plain": [
       "<matplotlib.figure.Figure at 0x7f489a8d8160>"
      ]
     },
     "metadata": {},
     "output_type": "display_data"
    },
    {
     "data": {
      "image/png": "[encoded data removed]",
      "text/plain": [
       "<matplotlib.figure.Figure at 0x7f489a353828>"
      ]
     },
     "metadata": {},
     "output_type": "display_data"
    },
    {
     "data": {
      "image/png": "[encoded data removed]",
      "text/plain": [
       "<matplotlib.figure.Figure at 0x7f489aa71978>"
      ]
     },
     "metadata": {},
     "output_type": "display_data"
    }
   ],
   "source": [
    "experiment_name='individual_window'\n",
    "folder='experiments'\n",
    "outputfile_agent=os.path.join(folder, experiment_name, 'model', experiment_name)\n",
    "outputfile_agent='q.json'\n",
    "outputfile_samples='q.csv'\n",
    "volume=100\n",
    "volume_intervals=4\n",
    "decision_points=4\n",
    "period_length=15\n",
    "action_min=0\n",
    "action_max=1\n",
    "action_count=11\n",
    "actions = list(round(a,1) for a in np.linspace(action_min, action_max, num=action_count))\n",
    "print(actions)\n",
    "state_variables=['volume','time']\n",
    "limit_base = 'curr_ask' # 'curr_ask', 'init_center'\n",
    "\n",
    "episodes_train = data_selection  # data_nov[17:18]\n",
    "print(len(episodes_train))\n",
    "#ql_even = optimal_strategy(traingdata=episodes_train[:1], V=volume, T=decision_points,\n",
    "#                          period_length=period_length, vol_intervals=volume_intervals,\n",
    "#                          actions=actions, state_variables=state_variables, \n",
    "#                          outfile_agent=outputfile_agent, outfile_samples=outputfile_samples,\n",
    "#                          limit_base=limit_base)\n",
    "#plot_episode(episodes_train[0], vlines=[0,15,30,45])\n",
    "#ql_even.heatmap_Q(show_minima_count=True)\n",
    "\n",
    "#ql_cresc, limits = optimal_strategy(traingdata=episodes_train[1:2], V=volume, T=decision_points,\n",
    "#                          period_length=period_length, vol_intervals=volume_intervals,\n",
    "#                          actions=actions,  state_variables=state_variables, \n",
    "#                          outfile_agent=outputfile_agent, outfile_samples=outputfile_samples,\n",
    "#                          limit_base=limit_base)\n",
    "ql_even, limits = optimal_strategy_fixedStepsize(traingdata=episodes_train[0:1], V=volume, T=decision_points,\n",
    "                          period_length=period_length, vol_intervals=volume_intervals,\n",
    "                          actions=list(range(-4,11)), lim_stepsize=0.1, state_variables=state_variables, \n",
    "                          outfile_agent=outputfile_agent, outfile_samples=outputfile_samples,\n",
    "                          limit_base=limit_base)\n",
    "ql_cresc, limits = optimal_strategy_fixedStepsize(traingdata=episodes_train[1:2], V=volume, T=decision_points,\n",
    "                          period_length=period_length, vol_intervals=volume_intervals,\n",
    "                          actions=list(range(-4,11)), lim_stepsize=0.1, state_variables=state_variables, \n",
    "                          outfile_agent=outputfile_agent, outfile_samples=outputfile_samples,\n",
    "                          limit_base=limit_base)\n",
    "ql, limits = optimal_strategy_fixedStepsize(traingdata=episodes_train[:], V=volume, T=decision_points,\n",
    "                          period_length=period_length, vol_intervals=volume_intervals,\n",
    "                          actions=list(range(-4,11)), lim_stepsize=0.1, state_variables=state_variables, \n",
    "                          outfile_agent=outputfile_agent, outfile_samples=outputfile_samples,\n",
    "                          limit_base=limit_base)\n",
    "\n",
    "hlines = [episodes_train[1][0].get_center() * (1. + (a/100.)) for a in actions]\n",
    "\n",
    "plot_episode(episodes_train[1], vlines=[0,15,30,45], hlines=hlines)\n",
    "hlines = [episodes_train[1][0].get_center() + (a*0.710579539245) for a in range(-4,11)]\n",
    "plot_episode(episodes_train[1], vlines=[0,15,30,45], hlines=hlines)\n",
    "ql_cresc.heatmap_Q(show_minima_count=True)\n",
    "\n",
    "#ql = optimal_strategy(traingdata=episodes_train[:2], V=volume, T=decision_points,\n",
    "#                          period_length=period_length, vol_intervals=volume_intervals,\n",
    "#                          actions=actions, state_variables=state_variables, \n",
    "#                          outfile_agent=outputfile_agent, outfile_samples=outputfile_samples,\n",
    "#                          limit_base=limit_base)\n",
    "#ql.heatmap_Q(show_minima_count=True)"
   ]
  },
  {
   "cell_type": "code",
   "execution_count": null,
   "metadata": {
    "collapsed": false
   },
   "outputs": [],
   "source": [
    "plot_episode(episodes_train[1], vlines=[0,15,30,45], hlines=list(np.unique(limits)))"
   ]
  },
  {
   "cell_type": "code",
   "execution_count": null,
   "metadata": {
    "collapsed": false
   },
   "outputs": [],
   "source": [
    "plot_episode(episodes_train[1], vlines=[0,15,30,45], hlines=list(np.unique(limits)), limits=[episodes_train[1][0].get_center()*1.002])"
   ]
  },
  {
   "cell_type": "code",
   "execution_count": 12,
   "metadata": {
    "collapsed": false
   },
   "outputs": [
    {
     "name": "stdout",
     "output_type": "stream",
     "text": [
      "both\n"
     ]
    },
    {
     "data": {
      "image/png": "[encoded data removed]",
      "text/plain": [
       "<matplotlib.figure.Figure at 0x7f489ad2e6d8>"
      ]
     },
     "metadata": {},
     "output_type": "display_data"
    },
    {
     "name": "stdout",
     "output_type": "stream",
     "text": [
      "even\n"
     ]
    },
    {
     "data": {
      "image/png": "[encoded data removed]",
      "text/plain": [
       "<matplotlib.figure.Figure at 0x7f48992c29e8>"
      ]
     },
     "metadata": {},
     "output_type": "display_data"
    },
    {
     "name": "stdout",
     "output_type": "stream",
     "text": [
      "cresc\n"
     ]
    },
    {
     "data": {
      "image/png": "[encoded data removed]",
      "text/plain": [
       "<matplotlib.figure.Figure at 0x7f4898c33898>"
      ]
     },
     "metadata": {},
     "output_type": "display_data"
    }
   ],
   "source": [
    "print(\"both\")\n",
    "ql.heatmap_Q(show_minima_count=True)\n",
    "print(\"even\")\n",
    "ql_even.heatmap_Q(show_minima_count=True)\n",
    "print(\"cresc\")\n",
    "ql_cresc.heatmap_Q(show_minima_count=True)\n",
    "\n"
   ]
  },
  {
   "cell_type": "code",
   "execution_count": null,
   "metadata": {
    "collapsed": false
   },
   "outputs": [],
   "source": [
    "agent_BatchTree['VolTime_20samples'].samples"
   ]
  },
  {
   "cell_type": "code",
   "execution_count": 13,
   "metadata": {
    "collapsed": false,
    "scrolled": false
   },
   "outputs": [
    {
     "name": "stdout",
     "output_type": "stream",
     "text": [
      "0\n",
      "2 1000 1.002\n",
      "2 1002 1.004\n",
      "3 1003 1.006\n",
      "5 1010 1.015\n"
     ]
    },
    {
     "data": {
      "text/plain": [
       "'QTable_Agent'"
      ]
     },
     "metadata": {},
     "output_type": "display_data"
    },
    {
     "data": {
      "text/plain": [
       "'incStepUnits'"
      ]
     },
     "metadata": {},
     "output_type": "display_data"
    },
    {
     "data": {
      "text/html": [
       "<div>\n",
       "<table border=\"1\" class=\"dataframe\">\n",
       "  <thead>\n",
       "    <tr style=\"text-align: right;\">\n",
       "      <th></th>\n",
       "      <th>ACTION</th>\n",
       "      <th>ASK</th>\n",
       "      <th>Aa_InitialMarketAvg</th>\n",
       "      <th>BID</th>\n",
       "      <th>CENTER</th>\n",
       "      <th>LIMIT</th>\n",
       "      <th>SPREAD</th>\n",
       "      <th>T</th>\n",
       "      <th>VOLUME</th>\n",
       "      <th>avg</th>\n",
       "      <th>cash</th>\n",
       "      <th>cost</th>\n",
       "      <th>forced</th>\n",
       "      <th>high</th>\n",
       "      <th>initialMarketAvg</th>\n",
       "      <th>low</th>\n",
       "      <th>volume_traded</th>\n",
       "    </tr>\n",
       "  </thead>\n",
       "  <tbody>\n",
       "    <tr>\n",
       "      <th>2016-11-09T03:01</th>\n",
       "      <td>2</td>\n",
       "      <td>1.001182</td>\n",
       "      <td>1.011038</td>\n",
       "      <td>0.998819</td>\n",
       "      <td>1.000000</td>\n",
       "      <td>1.002</td>\n",
       "      <td>0.002363</td>\n",
       "      <td>15</td>\n",
       "      <td>100.000000</td>\n",
       "      <td>1.00118</td>\n",
       "      <td>-43.369833</td>\n",
       "      <td>4.631051</td>\n",
       "      <td>False</td>\n",
       "      <td>1.001389</td>\n",
       "      <td>1.011038</td>\n",
       "      <td>1.001182</td>\n",
       "      <td>43.318547</td>\n",
       "    </tr>\n",
       "    <tr>\n",
       "      <th>2016-11-09T03:16</th>\n",
       "      <td>2</td>\n",
       "      <td>1.002730</td>\n",
       "      <td>1.011038</td>\n",
       "      <td>1.001796</td>\n",
       "      <td>1.002263</td>\n",
       "      <td>1.004</td>\n",
       "      <td>0.000934</td>\n",
       "      <td>15</td>\n",
       "      <td>56.681453</td>\n",
       "      <td>1.00325</td>\n",
       "      <td>-12.617692</td>\n",
       "      <td>3.703208</td>\n",
       "      <td>False</td>\n",
       "      <td>1.003992</td>\n",
       "      <td>1.011038</td>\n",
       "      <td>1.002730</td>\n",
       "      <td>12.576828</td>\n",
       "    </tr>\n",
       "    <tr>\n",
       "      <th>2016-11-09T03:31</th>\n",
       "      <td>3</td>\n",
       "      <td>1.004077</td>\n",
       "      <td>1.011038</td>\n",
       "      <td>1.003376</td>\n",
       "      <td>1.003726</td>\n",
       "      <td>1.006</td>\n",
       "      <td>0.000702</td>\n",
       "      <td>15</td>\n",
       "      <td>44.104625</td>\n",
       "      <td>1.00503</td>\n",
       "      <td>-2.971675</td>\n",
       "      <td>1.347459</td>\n",
       "      <td>False</td>\n",
       "      <td>1.005939</td>\n",
       "      <td>1.011038</td>\n",
       "      <td>1.004077</td>\n",
       "      <td>2.956814</td>\n",
       "    </tr>\n",
       "    <tr>\n",
       "      <th>2016-11-09T03:46</th>\n",
       "      <td>5</td>\n",
       "      <td>1.011282</td>\n",
       "      <td>1.011038</td>\n",
       "      <td>1.010119</td>\n",
       "      <td>1.010700</td>\n",
       "      <td>1.015</td>\n",
       "      <td>0.001164</td>\n",
       "      <td>15</td>\n",
       "      <td>41.147811</td>\n",
       "      <td>1.01410</td>\n",
       "      <td>-41.728035</td>\n",
       "      <td>52.564134</td>\n",
       "      <td>False</td>\n",
       "      <td>1.014817</td>\n",
       "      <td>1.011038</td>\n",
       "      <td>1.011282</td>\n",
       "      <td>41.147811</td>\n",
       "    </tr>\n",
       "  </tbody>\n",
       "</table>\n",
       "</div>"
      ],
      "text/plain": [
       "                  ACTION       ASK  Aa_InitialMarketAvg       BID    CENTER  \\\n",
       "2016-11-09T03:01       2  1.001182             1.011038  0.998819  1.000000   \n",
       "2016-11-09T03:16       2  1.002730             1.011038  1.001796  1.002263   \n",
       "2016-11-09T03:31       3  1.004077             1.011038  1.003376  1.003726   \n",
       "2016-11-09T03:46       5  1.011282             1.011038  1.010119  1.010700   \n",
       "\n",
       "                  LIMIT    SPREAD   T      VOLUME      avg       cash  \\\n",
       "2016-11-09T03:01  1.002  0.002363  15  100.000000  1.00118 -43.369833   \n",
       "2016-11-09T03:16  1.004  0.000934  15   56.681453  1.00325 -12.617692   \n",
       "2016-11-09T03:31  1.006  0.000702  15   44.104625  1.00503  -2.971675   \n",
       "2016-11-09T03:46  1.015  0.001164  15   41.147811  1.01410 -41.728035   \n",
       "\n",
       "                       cost forced      high  initialMarketAvg       low  \\\n",
       "2016-11-09T03:01   4.631051  False  1.001389          1.011038  1.001182   \n",
       "2016-11-09T03:16   3.703208  False  1.003992          1.011038  1.002730   \n",
       "2016-11-09T03:31   1.347459  False  1.005939          1.011038  1.004077   \n",
       "2016-11-09T03:46  52.564134  False  1.014817          1.011038  1.011282   \n",
       "\n",
       "                  volume_traded  \n",
       "2016-11-09T03:01      43.318547  \n",
       "2016-11-09T03:16      12.576828  \n",
       "2016-11-09T03:31       2.956814  \n",
       "2016-11-09T03:46      41.147811  "
      ]
     },
     "metadata": {},
     "output_type": "display_data"
    },
    {
     "name": "stdout",
     "output_type": "stream",
     "text": [
      "1 1000 1.001\n",
      "-4 1002 0.998\n",
      "3 1003 1.006\n",
      "5 1010 1.015\n"
     ]
    },
    {
     "data": {
      "text/plain": [
       "'ql_even'"
      ]
     },
     "metadata": {},
     "output_type": "display_data"
    },
    {
     "data": {
      "text/plain": [
       "'incStepUnits'"
      ]
     },
     "metadata": {},
     "output_type": "display_data"
    },
    {
     "data": {
      "text/html": [
       "<div>\n",
       "<table border=\"1\" class=\"dataframe\">\n",
       "  <thead>\n",
       "    <tr style=\"text-align: right;\">\n",
       "      <th></th>\n",
       "      <th>ACTION</th>\n",
       "      <th>ASK</th>\n",
       "      <th>Aa_InitialMarketAvg</th>\n",
       "      <th>BID</th>\n",
       "      <th>CENTER</th>\n",
       "      <th>LIMIT</th>\n",
       "      <th>SPREAD</th>\n",
       "      <th>T</th>\n",
       "      <th>VOLUME</th>\n",
       "      <th>avg</th>\n",
       "      <th>cash</th>\n",
       "      <th>cost</th>\n",
       "      <th>forced</th>\n",
       "      <th>high</th>\n",
       "      <th>initialMarketAvg</th>\n",
       "      <th>low</th>\n",
       "      <th>volume_traded</th>\n",
       "    </tr>\n",
       "  </thead>\n",
       "  <tbody>\n",
       "    <tr>\n",
       "      <th>2016-11-09T03:01</th>\n",
       "      <td>1</td>\n",
       "      <td>1.001182</td>\n",
       "      <td>1.011038</td>\n",
       "      <td>0.998819</td>\n",
       "      <td>1.000000</td>\n",
       "      <td>1.001</td>\n",
       "      <td>0.002363</td>\n",
       "      <td>15</td>\n",
       "      <td>100.000000</td>\n",
       "      <td>0.00000</td>\n",
       "      <td>0.000000</td>\n",
       "      <td>0.000000</td>\n",
       "      <td>False</td>\n",
       "      <td>0.000000</td>\n",
       "      <td>1.011038</td>\n",
       "      <td>inf</td>\n",
       "      <td>0.000000</td>\n",
       "    </tr>\n",
       "    <tr>\n",
       "      <th>2016-11-09T03:16</th>\n",
       "      <td>-4</td>\n",
       "      <td>1.002730</td>\n",
       "      <td>1.011038</td>\n",
       "      <td>1.001796</td>\n",
       "      <td>1.002263</td>\n",
       "      <td>0.998</td>\n",
       "      <td>0.000934</td>\n",
       "      <td>15</td>\n",
       "      <td>100.000000</td>\n",
       "      <td>0.00000</td>\n",
       "      <td>0.000000</td>\n",
       "      <td>0.000000</td>\n",
       "      <td>False</td>\n",
       "      <td>0.000000</td>\n",
       "      <td>1.011038</td>\n",
       "      <td>inf</td>\n",
       "      <td>0.000000</td>\n",
       "    </tr>\n",
       "    <tr>\n",
       "      <th>2016-11-09T03:31</th>\n",
       "      <td>3</td>\n",
       "      <td>1.003406</td>\n",
       "      <td>1.011038</td>\n",
       "      <td>1.003376</td>\n",
       "      <td>1.003391</td>\n",
       "      <td>1.006</td>\n",
       "      <td>0.000031</td>\n",
       "      <td>15</td>\n",
       "      <td>100.000000</td>\n",
       "      <td>1.00503</td>\n",
       "      <td>-2.973345</td>\n",
       "      <td>1.348218</td>\n",
       "      <td>False</td>\n",
       "      <td>1.005939</td>\n",
       "      <td>1.011038</td>\n",
       "      <td>1.003406</td>\n",
       "      <td>2.958478</td>\n",
       "    </tr>\n",
       "    <tr>\n",
       "      <th>2016-11-09T03:46</th>\n",
       "      <td>5</td>\n",
       "      <td>1.011282</td>\n",
       "      <td>1.011038</td>\n",
       "      <td>1.010119</td>\n",
       "      <td>1.010700</td>\n",
       "      <td>1.015</td>\n",
       "      <td>0.001164</td>\n",
       "      <td>15</td>\n",
       "      <td>97.041522</td>\n",
       "      <td>1.01526</td>\n",
       "      <td>-98.522770</td>\n",
       "      <td>134.163938</td>\n",
       "      <td>True</td>\n",
       "      <td>1.020734</td>\n",
       "      <td>1.011038</td>\n",
       "      <td>1.011282</td>\n",
       "      <td>97.041522</td>\n",
       "    </tr>\n",
       "  </tbody>\n",
       "</table>\n",
       "</div>"
      ],
      "text/plain": [
       "                  ACTION       ASK  Aa_InitialMarketAvg       BID    CENTER  \\\n",
       "2016-11-09T03:01       1  1.001182             1.011038  0.998819  1.000000   \n",
       "2016-11-09T03:16      -4  1.002730             1.011038  1.001796  1.002263   \n",
       "2016-11-09T03:31       3  1.003406             1.011038  1.003376  1.003391   \n",
       "2016-11-09T03:46       5  1.011282             1.011038  1.010119  1.010700   \n",
       "\n",
       "                  LIMIT    SPREAD   T      VOLUME      avg       cash  \\\n",
       "2016-11-09T03:01  1.001  0.002363  15  100.000000  0.00000   0.000000   \n",
       "2016-11-09T03:16  0.998  0.000934  15  100.000000  0.00000   0.000000   \n",
       "2016-11-09T03:31  1.006  0.000031  15  100.000000  1.00503  -2.973345   \n",
       "2016-11-09T03:46  1.015  0.001164  15   97.041522  1.01526 -98.522770   \n",
       "\n",
       "                        cost forced      high  initialMarketAvg       low  \\\n",
       "2016-11-09T03:01    0.000000  False  0.000000          1.011038       inf   \n",
       "2016-11-09T03:16    0.000000  False  0.000000          1.011038       inf   \n",
       "2016-11-09T03:31    1.348218  False  1.005939          1.011038  1.003406   \n",
       "2016-11-09T03:46  134.163938   True  1.020734          1.011038  1.011282   \n",
       "\n",
       "                  volume_traded  \n",
       "2016-11-09T03:01       0.000000  \n",
       "2016-11-09T03:16       0.000000  \n",
       "2016-11-09T03:31       2.958478  \n",
       "2016-11-09T03:46      97.041522  "
      ]
     },
     "metadata": {},
     "output_type": "display_data"
    },
    {
     "name": "stdout",
     "output_type": "stream",
     "text": [
      "2 1000 1.002\n",
      "2 1002 1.004\n",
      "2 1003 1.005\n",
      "2 1010 1.012\n"
     ]
    },
    {
     "data": {
      "text/plain": [
       "'ql_cresc'"
      ]
     },
     "metadata": {},
     "output_type": "display_data"
    },
    {
     "data": {
      "text/plain": [
       "'incStepUnits'"
      ]
     },
     "metadata": {},
     "output_type": "display_data"
    },
    {
     "data": {
      "text/html": [
       "<div>\n",
       "<table border=\"1\" class=\"dataframe\">\n",
       "  <thead>\n",
       "    <tr style=\"text-align: right;\">\n",
       "      <th></th>\n",
       "      <th>ACTION</th>\n",
       "      <th>ASK</th>\n",
       "      <th>Aa_InitialMarketAvg</th>\n",
       "      <th>BID</th>\n",
       "      <th>CENTER</th>\n",
       "      <th>LIMIT</th>\n",
       "      <th>SPREAD</th>\n",
       "      <th>T</th>\n",
       "      <th>VOLUME</th>\n",
       "      <th>avg</th>\n",
       "      <th>cash</th>\n",
       "      <th>cost</th>\n",
       "      <th>forced</th>\n",
       "      <th>high</th>\n",
       "      <th>initialMarketAvg</th>\n",
       "      <th>low</th>\n",
       "      <th>volume_traded</th>\n",
       "    </tr>\n",
       "  </thead>\n",
       "  <tbody>\n",
       "    <tr>\n",
       "      <th>2016-11-09T03:01</th>\n",
       "      <td>2</td>\n",
       "      <td>1.001182</td>\n",
       "      <td>1.011038</td>\n",
       "      <td>0.998819</td>\n",
       "      <td>1.000000</td>\n",
       "      <td>1.002</td>\n",
       "      <td>0.002363</td>\n",
       "      <td>15</td>\n",
       "      <td>100.000000</td>\n",
       "      <td>1.00118</td>\n",
       "      <td>-43.369833</td>\n",
       "      <td>4.631051</td>\n",
       "      <td>False</td>\n",
       "      <td>1.001389</td>\n",
       "      <td>1.011038</td>\n",
       "      <td>1.001182</td>\n",
       "      <td>43.318547</td>\n",
       "    </tr>\n",
       "    <tr>\n",
       "      <th>2016-11-09T03:16</th>\n",
       "      <td>2</td>\n",
       "      <td>1.002730</td>\n",
       "      <td>1.011038</td>\n",
       "      <td>1.001796</td>\n",
       "      <td>1.002263</td>\n",
       "      <td>1.004</td>\n",
       "      <td>0.000934</td>\n",
       "      <td>15</td>\n",
       "      <td>56.681453</td>\n",
       "      <td>1.00325</td>\n",
       "      <td>-12.617692</td>\n",
       "      <td>3.703208</td>\n",
       "      <td>False</td>\n",
       "      <td>1.003992</td>\n",
       "      <td>1.011038</td>\n",
       "      <td>1.002730</td>\n",
       "      <td>12.576828</td>\n",
       "    </tr>\n",
       "    <tr>\n",
       "      <th>2016-11-09T03:31</th>\n",
       "      <td>2</td>\n",
       "      <td>1.004077</td>\n",
       "      <td>1.011038</td>\n",
       "      <td>1.003376</td>\n",
       "      <td>1.003726</td>\n",
       "      <td>1.005</td>\n",
       "      <td>0.000702</td>\n",
       "      <td>15</td>\n",
       "      <td>44.104625</td>\n",
       "      <td>1.00478</td>\n",
       "      <td>-0.004539</td>\n",
       "      <td>0.001956</td>\n",
       "      <td>False</td>\n",
       "      <td>1.004954</td>\n",
       "      <td>1.011038</td>\n",
       "      <td>1.004077</td>\n",
       "      <td>0.004517</td>\n",
       "    </tr>\n",
       "    <tr>\n",
       "      <th>2016-11-09T03:46</th>\n",
       "      <td>2</td>\n",
       "      <td>1.011282</td>\n",
       "      <td>1.011038</td>\n",
       "      <td>1.010119</td>\n",
       "      <td>1.010700</td>\n",
       "      <td>1.012</td>\n",
       "      <td>0.001164</td>\n",
       "      <td>15</td>\n",
       "      <td>44.100108</td>\n",
       "      <td>1.01753</td>\n",
       "      <td>-44.873321</td>\n",
       "      <td>70.039854</td>\n",
       "      <td>True</td>\n",
       "      <td>1.020734</td>\n",
       "      <td>1.011038</td>\n",
       "      <td>1.011282</td>\n",
       "      <td>44.100108</td>\n",
       "    </tr>\n",
       "  </tbody>\n",
       "</table>\n",
       "</div>"
      ],
      "text/plain": [
       "                  ACTION       ASK  Aa_InitialMarketAvg       BID    CENTER  \\\n",
       "2016-11-09T03:01       2  1.001182             1.011038  0.998819  1.000000   \n",
       "2016-11-09T03:16       2  1.002730             1.011038  1.001796  1.002263   \n",
       "2016-11-09T03:31       2  1.004077             1.011038  1.003376  1.003726   \n",
       "2016-11-09T03:46       2  1.011282             1.011038  1.010119  1.010700   \n",
       "\n",
       "                  LIMIT    SPREAD   T      VOLUME      avg       cash  \\\n",
       "2016-11-09T03:01  1.002  0.002363  15  100.000000  1.00118 -43.369833   \n",
       "2016-11-09T03:16  1.004  0.000934  15   56.681453  1.00325 -12.617692   \n",
       "2016-11-09T03:31  1.005  0.000702  15   44.104625  1.00478  -0.004539   \n",
       "2016-11-09T03:46  1.012  0.001164  15   44.100108  1.01753 -44.873321   \n",
       "\n",
       "                       cost forced      high  initialMarketAvg       low  \\\n",
       "2016-11-09T03:01   4.631051  False  1.001389          1.011038  1.001182   \n",
       "2016-11-09T03:16   3.703208  False  1.003992          1.011038  1.002730   \n",
       "2016-11-09T03:31   0.001956  False  1.004954          1.011038  1.004077   \n",
       "2016-11-09T03:46  70.039854   True  1.020734          1.011038  1.011282   \n",
       "\n",
       "                  volume_traded  \n",
       "2016-11-09T03:01      43.318547  \n",
       "2016-11-09T03:16      12.576828  \n",
       "2016-11-09T03:31       0.004517  \n",
       "2016-11-09T03:46      44.100108  "
      ]
     },
     "metadata": {},
     "output_type": "display_data"
    },
    {
     "data": {
      "image/png": "[encoded data removed]",
      "text/plain": [
       "<matplotlib.figure.Figure at 0x7f48981f1b38>"
      ]
     },
     "metadata": {},
     "output_type": "display_data"
    },
    {
     "data": {
      "text/html": [
       "<div>\n",
       "<table border=\"1\" class=\"dataframe\">\n",
       "  <thead>\n",
       "    <tr style=\"text-align: right;\">\n",
       "      <th></th>\n",
       "      <th>QTable_Agent</th>\n",
       "      <th>ql_even</th>\n",
       "      <th>ql_cresc</th>\n",
       "      <th>0.4</th>\n",
       "      <th>0.5</th>\n",
       "      <th>0.6</th>\n",
       "      <th>0.7</th>\n",
       "      <th>0.8</th>\n",
       "    </tr>\n",
       "  </thead>\n",
       "  <tbody>\n",
       "    <tr>\n",
       "      <th>count</th>\n",
       "      <td>1.000000</td>\n",
       "      <td>1.000000</td>\n",
       "      <td>1.000000</td>\n",
       "      <td>1.000000</td>\n",
       "      <td>1.000000</td>\n",
       "      <td>1.000000</td>\n",
       "      <td>1.000000</td>\n",
       "      <td>1.000000</td>\n",
       "    </tr>\n",
       "    <tr>\n",
       "      <th>mean</th>\n",
       "      <td>62.245853</td>\n",
       "      <td>135.512156</td>\n",
       "      <td>78.376069</td>\n",
       "      <td>197.596538</td>\n",
       "      <td>197.596538</td>\n",
       "      <td>197.596538</td>\n",
       "      <td>197.596538</td>\n",
       "      <td>197.596538</td>\n",
       "    </tr>\n",
       "    <tr>\n",
       "      <th>std</th>\n",
       "      <td>NaN</td>\n",
       "      <td>NaN</td>\n",
       "      <td>NaN</td>\n",
       "      <td>NaN</td>\n",
       "      <td>NaN</td>\n",
       "      <td>NaN</td>\n",
       "      <td>NaN</td>\n",
       "      <td>NaN</td>\n",
       "    </tr>\n",
       "    <tr>\n",
       "      <th>min</th>\n",
       "      <td>62.245853</td>\n",
       "      <td>135.512156</td>\n",
       "      <td>78.376069</td>\n",
       "      <td>197.596538</td>\n",
       "      <td>197.596538</td>\n",
       "      <td>197.596538</td>\n",
       "      <td>197.596538</td>\n",
       "      <td>197.596538</td>\n",
       "    </tr>\n",
       "    <tr>\n",
       "      <th>25%</th>\n",
       "      <td>62.245853</td>\n",
       "      <td>135.512156</td>\n",
       "      <td>78.376069</td>\n",
       "      <td>197.596538</td>\n",
       "      <td>197.596538</td>\n",
       "      <td>197.596538</td>\n",
       "      <td>197.596538</td>\n",
       "      <td>197.596538</td>\n",
       "    </tr>\n",
       "    <tr>\n",
       "      <th>50%</th>\n",
       "      <td>62.245853</td>\n",
       "      <td>135.512156</td>\n",
       "      <td>78.376069</td>\n",
       "      <td>197.596538</td>\n",
       "      <td>197.596538</td>\n",
       "      <td>197.596538</td>\n",
       "      <td>197.596538</td>\n",
       "      <td>197.596538</td>\n",
       "    </tr>\n",
       "    <tr>\n",
       "      <th>75%</th>\n",
       "      <td>62.245853</td>\n",
       "      <td>135.512156</td>\n",
       "      <td>78.376069</td>\n",
       "      <td>197.596538</td>\n",
       "      <td>197.596538</td>\n",
       "      <td>197.596538</td>\n",
       "      <td>197.596538</td>\n",
       "      <td>197.596538</td>\n",
       "    </tr>\n",
       "    <tr>\n",
       "      <th>max</th>\n",
       "      <td>62.245853</td>\n",
       "      <td>135.512156</td>\n",
       "      <td>78.376069</td>\n",
       "      <td>197.596538</td>\n",
       "      <td>197.596538</td>\n",
       "      <td>197.596538</td>\n",
       "      <td>197.596538</td>\n",
       "      <td>197.596538</td>\n",
       "    </tr>\n",
       "    <tr>\n",
       "      <th>rel_mean</th>\n",
       "      <td>1.000000</td>\n",
       "      <td>2.177047</td>\n",
       "      <td>1.259137</td>\n",
       "      <td>3.174453</td>\n",
       "      <td>3.174453</td>\n",
       "      <td>3.174453</td>\n",
       "      <td>3.174453</td>\n",
       "      <td>3.174453</td>\n",
       "    </tr>\n",
       "    <tr>\n",
       "      <th>rel_median</th>\n",
       "      <td>1.000000</td>\n",
       "      <td>2.177047</td>\n",
       "      <td>1.259137</td>\n",
       "      <td>3.174453</td>\n",
       "      <td>3.174453</td>\n",
       "      <td>3.174453</td>\n",
       "      <td>3.174453</td>\n",
       "      <td>3.174453</td>\n",
       "    </tr>\n",
       "  </tbody>\n",
       "</table>\n",
       "</div>"
      ],
      "text/plain": [
       "            QTable_Agent     ql_even   ql_cresc         0.4         0.5  \\\n",
       "count           1.000000    1.000000   1.000000    1.000000    1.000000   \n",
       "mean           62.245853  135.512156  78.376069  197.596538  197.596538   \n",
       "std                  NaN         NaN        NaN         NaN         NaN   \n",
       "min            62.245853  135.512156  78.376069  197.596538  197.596538   \n",
       "25%            62.245853  135.512156  78.376069  197.596538  197.596538   \n",
       "50%            62.245853  135.512156  78.376069  197.596538  197.596538   \n",
       "75%            62.245853  135.512156  78.376069  197.596538  197.596538   \n",
       "max            62.245853  135.512156  78.376069  197.596538  197.596538   \n",
       "rel_mean        1.000000    2.177047   1.259137    3.174453    3.174453   \n",
       "rel_median      1.000000    2.177047   1.259137    3.174453    3.174453   \n",
       "\n",
       "                   0.6         0.7         0.8  \n",
       "count         1.000000    1.000000    1.000000  \n",
       "mean        197.596538  197.596538  197.596538  \n",
       "std                NaN         NaN         NaN  \n",
       "min         197.596538  197.596538  197.596538  \n",
       "25%         197.596538  197.596538  197.596538  \n",
       "50%         197.596538  197.596538  197.596538  \n",
       "75%         197.596538  197.596538  197.596538  \n",
       "max         197.596538  197.596538  197.596538  \n",
       "rel_mean      3.174453    3.174453    3.174453  \n",
       "rel_median    3.174453    3.174453    3.174453  "
      ]
     },
     "metadata": {},
     "output_type": "display_data"
    },
    {
     "data": {
      "text/html": [
       "<div>\n",
       "<table border=\"1\" class=\"dataframe\">\n",
       "  <thead>\n",
       "    <tr style=\"text-align: right;\">\n",
       "      <th></th>\n",
       "      <th>QTable_Agent</th>\n",
       "      <th>ql_even</th>\n",
       "      <th>ql_cresc</th>\n",
       "      <th>0.4</th>\n",
       "      <th>0.5</th>\n",
       "      <th>0.6</th>\n",
       "      <th>0.7</th>\n",
       "      <th>0.8</th>\n",
       "    </tr>\n",
       "  </thead>\n",
       "  <tbody>\n",
       "    <tr>\n",
       "      <th>2016-11-09T03:01</th>\n",
       "      <td>62.245853</td>\n",
       "      <td>135.512156</td>\n",
       "      <td>78.376069</td>\n",
       "      <td>197.596538</td>\n",
       "      <td>197.596538</td>\n",
       "      <td>197.596538</td>\n",
       "      <td>197.596538</td>\n",
       "      <td>197.596538</td>\n",
       "    </tr>\n",
       "  </tbody>\n",
       "</table>\n",
       "</div>"
      ],
      "text/plain": [
       "                  QTable_Agent     ql_even   ql_cresc         0.4         0.5  \\\n",
       "2016-11-09T03:01     62.245853  135.512156  78.376069  197.596538  197.596538   \n",
       "\n",
       "                         0.6         0.7         0.8  \n",
       "2016-11-09T03:01  197.596538  197.596538  197.596538  "
      ]
     },
     "metadata": {},
     "output_type": "display_data"
    },
    {
     "data": {
      "text/html": [
       "<div>\n",
       "<table border=\"1\" class=\"dataframe\">\n",
       "  <thead>\n",
       "    <tr style=\"text-align: right;\">\n",
       "      <th></th>\n",
       "      <th>QTable_Agent</th>\n",
       "      <th>ql_even</th>\n",
       "      <th>ql_cresc</th>\n",
       "      <th>0.4</th>\n",
       "      <th>0.5</th>\n",
       "      <th>0.6</th>\n",
       "      <th>0.7</th>\n",
       "      <th>0.8</th>\n",
       "    </tr>\n",
       "  </thead>\n",
       "  <tbody>\n",
       "    <tr>\n",
       "      <th>0</th>\n",
       "      <td>62.245853</td>\n",
       "      <td>135.512156</td>\n",
       "      <td>78.376069</td>\n",
       "      <td>197.596538</td>\n",
       "      <td>197.596538</td>\n",
       "      <td>197.596538</td>\n",
       "      <td>197.596538</td>\n",
       "      <td>197.596538</td>\n",
       "    </tr>\n",
       "  </tbody>\n",
       "</table>\n",
       "</div>"
      ],
      "text/plain": [
       "   QTable_Agent     ql_even   ql_cresc         0.4         0.5         0.6  \\\n",
       "0     62.245853  135.512156  78.376069  197.596538  197.596538  197.596538   \n",
       "\n",
       "          0.7         0.8  \n",
       "0  197.596538  197.596538  "
      ]
     },
     "metadata": {},
     "output_type": "display_data"
    }
   ],
   "source": [
    "ql.limit_base = 'incStepUnits'\n",
    "ql_even.limit_base = 'incStepUnits'\n",
    "ql_cresc.limit_base = 'incStepUnits'\n",
    "evaluation = ql.evaluate(data_nov[17:18],\n",
    "                      additional_agents={\n",
    "                          'ql_even': ql_even,\n",
    "                          'ql_cresc':ql_cresc},\n",
    "                      evaluate_actions=[0.4, 0.5, 0.6, 0.7, 0.8], verbose=True,\n",
    "                      show_plot=True,\n",
    "                      )\n",
    "display(evaluation)\n",
    "display(pd.DataFrame(evaluation.mean()).T)"
   ]
  },
  {
   "cell_type": "code",
   "execution_count": null,
   "metadata": {
    "collapsed": false,
    "scrolled": false
   },
   "outputs": [],
   "source": [
    "ql.volumes = ql.volumes[:4]\n",
    "print(ql.volumes)\n",
    "\n",
    "ql.heatmap_Q(vol_intervals=10)\n",
    "ql.interpolate_vol = True\n",
    "ql.heatmap_Q(vol_intervals=10)\n",
    "ql.interpolate_vol = False\n",
    "\n",
    "agent_BatchTree['VolTime_4I'].heatmap_Q()"
   ]
  },
  {
   "cell_type": "code",
   "execution_count": null,
   "metadata": {
    "collapsed": false
   },
   "outputs": [],
   "source": [
    "ql.interpolate_vol = True\n",
    "evaluation = ql.evaluate(data_feb[:20],\n",
    "                      additional_agents={\n",
    "                          'rl_4I':agent_BatchTree['VolTime_4I'],\n",
    "                          'rl_4I_3vars':agent_BatchTree['VolTime_4I_3vars']\n",
    "                      },\n",
    "                      evaluate_actions=[0.0, 0.1, 0.2, 0.3, 0.4, 0.5, 0.6, 0.7, 0.8], verbose=False)\n",
    "display(evaluation)\n",
    "display(pd.DataFrame(evaluation.mean()).T)"
   ]
  },
  {
   "cell_type": "code",
   "execution_count": null,
   "metadata": {
    "collapsed": false
   },
   "outputs": [],
   "source": [
    "ql.interpolate_vol = False\n",
    "evaluation = ql.evaluate(data_feb[:20],\n",
    "                      additional_agents={\n",
    "                          'rl_4I':agent_BatchTree['VolTime_4I'],\n",
    "                          'rl_4I_3vars':agent_BatchTree['VolTime_4I_3vars']\n",
    "                      },\n",
    "                      evaluate_actions=[0.0, 0.1, 0.2, 0.3, 0.4, 0.5, 0.6, 0.7, 0.8], \n",
    "                      verbose=False)\n",
    "#display(evaluation)\n",
    "display(pd.DataFrame(evaluation.mean()).T)"
   ]
  },
  {
   "cell_type": "code",
   "execution_count": null,
   "metadata": {
    "collapsed": false
   },
   "outputs": [],
   "source": [
    "display((evaluation / 52.069724).mean())\n",
    "ql.plot_evaluation_costs(evaluation.iloc[10:,:], hline='0.4', showfliers=False, ylim=(0,80))"
   ]
  },
  {
   "cell_type": "code",
   "execution_count": null,
   "metadata": {
    "collapsed": false
   },
   "outputs": [],
   "source": [
    "#df2 = ql.samples\n",
    "actions = list(np.linspace(action_min, action_max, num=action_count))\n",
    "actions = [round(a, 2) for a in actions]\n",
    "print(actions)\n",
    "state_variables = ['volume', 'time'] #, 'spread', 'high24hr', 'low24hr']\n",
    "\n",
    "experiments = {\n",
    "    'VolTime_4I': ['volume', 'time'],\n",
    "    'VolTime_4I_3vars': ['volume', 'time', 'future15_disc'],\n",
    "    # 'VolTimeSpread': ['volume', 'time', 'spread_disc'],\n",
    "#    'VolTimeEMA': ['volume', 'time', 'EMA10', 'EMA60'],\n",
    "    # 'VolTimeFuturedisc': ['volume', 'time', 'future15_disc', 'future30_disc', 'future45_disc']\n",
    "    #'VolTimeFuturedisc15_20samples': ['volume', 'time', 'future15_disc']\n",
    "}\n",
    "\n",
    "#agent_BatchTree = {}\n",
    "for i, key in enumerate(experiments.keys()):\n",
    "    print(\"\\n##### Experiment {}/{}: {} #####\".format(i+1, len(experiments.keys()), key))\n",
    "    state_variables_experiment = experiments[key]\n",
    "    \n",
    "    agent_BatchTree[key] = train_BatchTree_fromSamples(\n",
    "        df=df2, V=volume, T=decision_points,\n",
    "        period_length=period_length, vol_intervals=volume_intervals,\n",
    "        actions=actions,\n",
    "        state_variables=state_variables_experiment,\n",
    "        n_estimators=100, max_depth=10\n",
    "    )\n",
    "    \n",
    "    print(\"Feature importances:\")\n",
    "    print(agent_BatchTree[key].model.feature_importances_)"
   ]
  },
  {
   "cell_type": "code",
   "execution_count": null,
   "metadata": {
    "collapsed": false,
    "scrolled": false
   },
   "outputs": [],
   "source": [
    "plot_episode(data_nov_orig[0], kind='worst')\n",
    "plot_episode(data_nov_orig[0], kind='avg')\n",
    "plot_episode(data_nov_orig[17], kind='worst')\n",
    "plot_episode(data_nov_orig[17], kind='avg')\n",
    "\n",
    "# plot_episode(data_nov_orig[17], limits=[1.003992, 1.006207, 1.009890, np.nan], intervals=4, kind='worst')\n",
    "# plot_episode(data_nov_orig[17], limits=[1.003992, 1.006207, 1.009890, np.nan], intervals=4, kind='avg')\n",
    "# plot_episode(data_nov_orig[17], limits=[1.005], intervals=4)\n",
    "# #plot_episode(data_nov[17], limits=[1.005, 1.005, 1.005, 1.005], intervals=4)"
   ]
  },
  {
   "cell_type": "code",
   "execution_count": null,
   "metadata": {
    "collapsed": false
   },
   "outputs": [],
   "source": [
    "ql17_60decisions.limit_base = 'init_center'\n",
    "ql17_60decisions.heatmap_Q()\n",
    "display(ql17_60decisions.evaluate(data_nov[17:18]))\n",
    "ql17_60decisions.limit_base = 'curr_ask'\n",
    "display(ql17_60decisions.evaluate(data_nov[17:18]))\n",
    "\n",
    "ql17.heatmap_Q()\n",
    "display(ql17.evaluate(data_nov[17:18]), limit_base='curr_ask')"
   ]
  },
  {
   "cell_type": "code",
   "execution_count": null,
   "metadata": {
    "collapsed": false
   },
   "outputs": [],
   "source": [
    "for val in ql17_spread.samples.spread.unique():\n",
    "    print(\"{:1.6f}\".format(val))"
   ]
  },
  {
   "cell_type": "code",
   "execution_count": null,
   "metadata": {
    "collapsed": false,
    "scrolled": false
   },
   "outputs": [],
   "source": [
    "agent = ql17\n",
    "display(agent.samples.shape, agent.samples.iloc[302:315,:])\n",
    "agent.heatmap_Q()\n",
    "\n",
    "agent = ql17_\n",
    "display(agent.samples.shape, agent.samples.iloc[302:315,:])\n",
    "agent.heatmap_Q(show_minima_count=True)\n",
    "\n",
    "agent = ql17_15decisions\n",
    "display(agent.samples.shape, agent.samples.iloc[302:315,:])\n",
    "agent.heatmap_Q(show_minima_count=True)\n",
    "\n",
    "agent = ql17_60decisions\n",
    "display(agent.samples.shape, agent.samples.iloc[302:315,:])\n",
    "agent.heatmap_Q(show_minima_count=True)"
   ]
  },
  {
   "cell_type": "code",
   "execution_count": null,
   "metadata": {
    "collapsed": false
   },
   "outputs": [],
   "source": [
    "eval_costs = ql.evaluate(data_nov[17:18], additional_agents={'ql17_':ql17_, 'ql17_15decisions':ql17_15decisions}, show_plot=True)\n",
    "display(eval_costs)\n",
    "display(eval_costs.mean())"
   ]
  },
  {
   "cell_type": "code",
   "execution_count": null,
   "metadata": {
    "collapsed": true
   },
   "outputs": [],
   "source": []
  },
  {
   "cell_type": "code",
   "execution_count": null,
   "metadata": {
    "collapsed": false
   },
   "outputs": [],
   "source": [
    "def load_and_preprocess_historyfiles(files):\n",
    "    hist = pd.DataFrame()\n",
    "    for file in histfiles:\n",
    "        data = pd.read_csv(file, index_col=0)\n",
    "        hist = pd.concat([hist, data])\n",
    "    hist.set_index(keys=pd.to_datetime(hist.index), inplace=True)\n",
    "\n",
    "    # remove dublicates and unneeded columns\n",
    "    hist = hist[~hist.index.duplicated(keep='first')]\n",
    "    hist.drop([\"id\", 'isFrozen'], axis=1, inplace=True)\n",
    "\n",
    "    # fill gaps with last observation\n",
    "    idx = pd.date_range(hist.index[0], hist.index[-1], freq=\"1min\")\n",
    "    hist = hist.sort_index().reindex(index=idx.sort_values(), method='ffill')\n",
    "    \n",
    "    # add more features\n",
    "    hist['spread'] = hist.lowestAsk - hist.highestBid\n",
    "\n",
    "    for lookahead in [15, 30, 45]:\n",
    "        hist[\"future{}\".format(lookahead)] = (hist['last'].shift(-lookahead) / hist['last']) - 1\n",
    "\n",
    "    return hist\n",
    "\n",
    "histfiles = [\n",
    "    \"../../../../data/history/history_2016-11_USDT_BTC.csv\",\n",
    "    # \"../../../../data/history/history_2016-12_USDT_BTC.csv\",\n",
    "    # \"../../../../data/history/history_2017-01_USDT_BTC.csv\",\n",
    "    # \"../../../../data/history/history_2017-02_USDT_BTC.csv\"\n",
    "]\n",
    "\n",
    "hist = load_and_preprocess_historyfiles(files=histfiles)\n",
    "display(hist.describe())\n",
    "display(hist.head())"
   ]
  },
  {
   "cell_type": "code",
   "execution_count": null,
   "metadata": {
    "collapsed": false
   },
   "outputs": [],
   "source": [
    "state_variables = ['volume', 'time', 'spread', 'future15', 'future30', 'future45']\n",
    "print(\"state_variables\", state_variables)\n",
    "# add features to orderbooks\n",
    "\n",
    "for window in tqdm(data_nov):\n",
    "    for ob_idx, ob in enumerate(window):\n",
    "        ob.features = {}\n",
    "        # queue.append(ob)\n",
    "        # if len(queue) == period_length:\n",
    "        #     \n",
    "        #     diffs = list(map(lambda t: queue[t].compare_with(queue[t-1]), range(1,len(queue))))\n",
    "        #     \n",
    "        #     neg = np.array([d.asks[d.asks<0].sum() for d in diffs]).sum()\n",
    "        #     pos = np.array([d.asks[d.asks>0].sum() for d in diffs]).sum()\n",
    "        #     \n",
    "        #     ob.features['act15neg'] = neg\n",
    "        #     ob.features['act15pos'] = pos\n",
    "        \n",
    "        ts = pd.to_datetime(ob.timestamp)        \n",
    "        ts_prev = pd.to_datetime(ob.timestamp) - pd.Timedelta('60Min')\n",
    "\n",
    "        \n",
    "        \n",
    "        market_features = hist.loc[ts_prev:ts, :]\n",
    "\n",
    "       \n",
    "        for lookahead in [15,30,45]:\n",
    "            ob.features[\"future{}\".format(lookahead)] = market_features['future{}'.format(lookahead)][-1]\n",
    "        \n",
    "        for var in state_variables[2:]:\n",
    "            ob.features[var] = market_features[var][-1]\n",
    "            \n",
    "print(data_nov[0][0])\n",
    "print(data_nov[10][0])"
   ]
  },
  {
   "cell_type": "code",
   "execution_count": null,
   "metadata": {
    "collapsed": true
   },
   "outputs": [],
   "source": []
  }
 ],
 "metadata": {
  "kernelspec": {
   "display_name": "Python 3",
   "language": "python",
   "name": "python3"
  },
  "language_info": {
   "codemirror_mode": {
    "name": "ipython",
    "version": 3
   },
   "file_extension": ".py",
   "mimetype": "text/x-python",
   "name": "python",
   "nbconvert_exporter": "python",
   "pygments_lexer": "ipython3",
   "version": "3.6.0"
  }
 },
 "nbformat": 4,
 "nbformat_minor": 2
}
