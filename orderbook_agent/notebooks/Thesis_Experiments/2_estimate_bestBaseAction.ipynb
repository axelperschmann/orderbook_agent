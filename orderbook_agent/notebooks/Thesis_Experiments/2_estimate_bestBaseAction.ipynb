{
 "cells": [
  {
   "cell_type": "code",
   "execution_count": 1,
   "metadata": {},
   "outputs": [],
   "source": [
    "%load_ext autoreload\n",
    "%autoreload 2\n",
    "\n",
    "from joblib import Parallel, delayed\n",
    "import multiprocessing\n",
    "\n",
    "from tqdm import tqdm, tqdm_notebook\n",
    "from IPython.display import display\n",
    "from tqdm import tqdm\n",
    "import pandas as pd\n",
    "import numpy as np\n",
    "import matplotlib.pyplot as plt\n",
    "%matplotlib inline\n",
    "import json\n",
    "import pickle\n",
    "import os\n",
    "import sys\n",
    "sys.path.append('../..')\n",
    "from helper.orderbook_trader import OrderbookTradingSimulator\n",
    "from helper.manage_orderbooks import *\n",
    "from helper.evaluation import evaluate, plot_evaluation_costs\n",
    "from helper.general_helpers import add_features_to_orderbooks, load_and_preprocess_historyfiles, discretize_hist_feature\n",
    "\n",
    "from agents.RL_Agent_Base import RLAgent_Base\n",
    "from agents.BatchTree_Agent import RLAgent_BatchTree\n",
    "from agents.QTable_Agent import QTable_Agent"
   ]
  },
  {
   "cell_type": "markdown",
   "metadata": {
    "collapsed": true
   },
   "source": [
    "### Load data"
   ]
  },
  {
   "cell_type": "code",
   "execution_count": 4,
   "metadata": {},
   "outputs": [
    {
     "name": "stdout",
     "output_type": "stream",
     "text": [
      "541\n",
      "OrderbookContainer from 2016-11-08T10:00 (factor: 1.0)\n",
      "  107 bids (best: 705.0)\n",
      "  110 asks (best: 705.450997)\n",
      "price: 705.2254744655137\n",
      "  kind: 'orderbook'\n"
     ]
    },
    {
     "data": {
      "text/plain": [
       "OrderbookContainer from 2016-11-08T10:00 (factor: 1.0)\n",
       "  107 bids (best: 705.0)\n",
       "  110 asks (best: 705.450997)\n",
       "price: 705.2254744655137\n",
       "  kind: 'orderbook'"
      ]
     },
     "execution_count": 4,
     "metadata": {},
     "output_type": "execute_result"
    }
   ],
   "source": [
    "data_nov = pickle.load( open( '../../cached_windows_60mins/obs_2016-11_USDT_BTC_maxVol100.p', \"rb\" ) )\n",
    "print(len(data_nov))\n",
    "print(data_nov[0][0])\n",
    "data_nov[0][0]"
   ]
  },
  {
   "cell_type": "code",
   "execution_count": null,
   "metadata": {
    "collapsed": true
   },
   "outputs": [],
   "source": [
    "data_dec = pickle.load( open( '../../cached_windows_60mins/obs_2016-12_USDT_BTC_maxVol100.p', \"rb\" ) )\n",
    "print(len(data_dec))\n",
    "print(data_dec[0][0])\n",
    "data_dec[0][0]"
   ]
  },
  {
   "cell_type": "code",
   "execution_count": null,
   "metadata": {
    "collapsed": true
   },
   "outputs": [],
   "source": [
    "data_mar = pickle.load( open( '../cached_windows_60mins_V200/obs_2017-03_USDT_BTC_maxVol200.p', \"rb\" ) )\n",
    "print(len(data_mar))\n",
    "print(data_mar[0][0])"
   ]
  },
  {
   "cell_type": "markdown",
   "metadata": {},
   "source": [
    "### Evaluate"
   ]
  },
  {
   "cell_type": "code",
   "execution_count": 14,
   "metadata": {},
   "outputs": [],
   "source": [
    "agent_collection = {'VolTime': RLAgent_Base.load(agent_name='QTable_1611-1704_T4_I8_VolTime', path='../trainedAgents/longterm_1611_1704/', ignore_samples=True)}"
   ]
  },
  {
   "cell_type": "code",
   "execution_count": 17,
   "metadata": {
    "scrolled": false
   },
   "outputs": [
    {
     "name": "stdout",
     "output_type": "stream",
     "text": [
      "Start parallel evalutions of 17 strategies over 24 tradingperiods. (num_cores=24)\n"
     ]
    },
    {
     "name": "stderr",
     "output_type": "stream",
     "text": [
      "[Parallel(n_jobs=24)]: Done   2 out of  24 | elapsed:  1.1min remaining: 12.6min\n",
      "[Parallel(n_jobs=24)]: Done   7 out of  24 | elapsed:  1.3min remaining:  3.0min\n",
      "[Parallel(n_jobs=24)]: Done  12 out of  24 | elapsed:  1.4min remaining:  1.4min\n",
      "[Parallel(n_jobs=24)]: Done  17 out of  24 | elapsed:  1.5min remaining:   37.4s\n",
      "[Parallel(n_jobs=24)]: Done  22 out of  24 | elapsed:  1.7min remaining:    9.2s\n",
      "[Parallel(n_jobs=24)]: Done  24 out of  24 | elapsed:  1.8min finished\n"
     ]
    },
    {
     "name": "stdout",
     "output_type": "stream",
     "text": [
      "done\n"
     ]
    },
    {
     "data": {
      "text/html": [
       "<div>\n",
       "<table border=\"1\" class=\"dataframe\">\n",
       "  <thead>\n",
       "    <tr style=\"text-align: right;\">\n",
       "      <th></th>\n",
       "      <th>VolTime</th>\n",
       "      <th>-4</th>\n",
       "      <th>-3</th>\n",
       "      <th>-2</th>\n",
       "      <th>-1</th>\n",
       "      <th>0</th>\n",
       "      <th>1</th>\n",
       "      <th>2</th>\n",
       "      <th>3</th>\n",
       "      <th>4</th>\n",
       "      <th>5</th>\n",
       "      <th>6</th>\n",
       "      <th>7</th>\n",
       "      <th>8</th>\n",
       "      <th>9</th>\n",
       "      <th>10</th>\n",
       "      <th>MarketOrder</th>\n",
       "    </tr>\n",
       "  </thead>\n",
       "  <tbody>\n",
       "    <tr>\n",
       "      <th>count</th>\n",
       "      <td>24.000000</td>\n",
       "      <td>24.000000</td>\n",
       "      <td>24.000000</td>\n",
       "      <td>24.000000</td>\n",
       "      <td>24.000000</td>\n",
       "      <td>24.000000</td>\n",
       "      <td>24.000000</td>\n",
       "      <td>24.000000</td>\n",
       "      <td>24.000000</td>\n",
       "      <td>24.000000</td>\n",
       "      <td>24.000000</td>\n",
       "      <td>24.000000</td>\n",
       "      <td>24.000000</td>\n",
       "      <td>24.000000</td>\n",
       "      <td>24.000000</td>\n",
       "      <td>24.000000</td>\n",
       "      <td>24.000000</td>\n",
       "    </tr>\n",
       "    <tr>\n",
       "      <th>mean</th>\n",
       "      <td>254.548793</td>\n",
       "      <td>723.491572</td>\n",
       "      <td>715.693091</td>\n",
       "      <td>694.063728</td>\n",
       "      <td>666.676756</td>\n",
       "      <td>591.285145</td>\n",
       "      <td>481.199908</td>\n",
       "      <td>343.528788</td>\n",
       "      <td>285.155575</td>\n",
       "      <td>244.842430</td>\n",
       "      <td>239.348656</td>\n",
       "      <td>237.368271</td>\n",
       "      <td>254.430829</td>\n",
       "      <td>284.365451</td>\n",
       "      <td>311.152655</td>\n",
       "      <td>338.276571</td>\n",
       "      <td>616.402103</td>\n",
       "    </tr>\n",
       "    <tr>\n",
       "      <th>std</th>\n",
       "      <td>266.006142</td>\n",
       "      <td>426.774790</td>\n",
       "      <td>433.551988</td>\n",
       "      <td>440.303913</td>\n",
       "      <td>447.052485</td>\n",
       "      <td>476.182691</td>\n",
       "      <td>501.609441</td>\n",
       "      <td>448.473116</td>\n",
       "      <td>384.517624</td>\n",
       "      <td>336.408012</td>\n",
       "      <td>284.203615</td>\n",
       "      <td>230.846263</td>\n",
       "      <td>203.154074</td>\n",
       "      <td>171.124526</td>\n",
       "      <td>155.850873</td>\n",
       "      <td>82.838865</td>\n",
       "      <td>102.776842</td>\n",
       "    </tr>\n",
       "    <tr>\n",
       "      <th>min</th>\n",
       "      <td>-24.588896</td>\n",
       "      <td>-242.131830</td>\n",
       "      <td>-323.264484</td>\n",
       "      <td>-314.099013</td>\n",
       "      <td>-237.350783</td>\n",
       "      <td>-167.517105</td>\n",
       "      <td>-114.633213</td>\n",
       "      <td>-16.426607</td>\n",
       "      <td>-2.826947</td>\n",
       "      <td>8.394920</td>\n",
       "      <td>24.676496</td>\n",
       "      <td>94.524332</td>\n",
       "      <td>108.782728</td>\n",
       "      <td>140.271163</td>\n",
       "      <td>153.775419</td>\n",
       "      <td>163.166543</td>\n",
       "      <td>437.470574</td>\n",
       "    </tr>\n",
       "    <tr>\n",
       "      <th>25%</th>\n",
       "      <td>86.782023</td>\n",
       "      <td>580.023348</td>\n",
       "      <td>580.023348</td>\n",
       "      <td>580.023348</td>\n",
       "      <td>579.132187</td>\n",
       "      <td>387.332801</td>\n",
       "      <td>52.654548</td>\n",
       "      <td>63.586772</td>\n",
       "      <td>84.882392</td>\n",
       "      <td>106.979827</td>\n",
       "      <td>118.267090</td>\n",
       "      <td>138.271384</td>\n",
       "      <td>163.023507</td>\n",
       "      <td>221.450191</td>\n",
       "      <td>247.501991</td>\n",
       "      <td>285.234448</td>\n",
       "      <td>559.434093</td>\n",
       "    </tr>\n",
       "    <tr>\n",
       "      <th>50%</th>\n",
       "      <td>170.313931</td>\n",
       "      <td>667.102892</td>\n",
       "      <td>667.102892</td>\n",
       "      <td>667.081131</td>\n",
       "      <td>642.037669</td>\n",
       "      <td>622.473552</td>\n",
       "      <td>408.510925</td>\n",
       "      <td>110.657475</td>\n",
       "      <td>130.245627</td>\n",
       "      <td>141.611238</td>\n",
       "      <td>185.252361</td>\n",
       "      <td>194.550876</td>\n",
       "      <td>221.533861</td>\n",
       "      <td>254.223808</td>\n",
       "      <td>286.873275</td>\n",
       "      <td>330.097750</td>\n",
       "      <td>612.490052</td>\n",
       "    </tr>\n",
       "    <tr>\n",
       "      <th>75%</th>\n",
       "      <td>296.129223</td>\n",
       "      <td>774.495614</td>\n",
       "      <td>774.495614</td>\n",
       "      <td>772.344397</td>\n",
       "      <td>731.254562</td>\n",
       "      <td>721.555984</td>\n",
       "      <td>717.665354</td>\n",
       "      <td>537.445070</td>\n",
       "      <td>366.541030</td>\n",
       "      <td>214.275733</td>\n",
       "      <td>247.862340</td>\n",
       "      <td>223.747029</td>\n",
       "      <td>263.957144</td>\n",
       "      <td>292.722036</td>\n",
       "      <td>340.879018</td>\n",
       "      <td>397.744302</td>\n",
       "      <td>656.167134</td>\n",
       "    </tr>\n",
       "    <tr>\n",
       "      <th>max</th>\n",
       "      <td>961.936000</td>\n",
       "      <td>1953.394991</td>\n",
       "      <td>1953.394991</td>\n",
       "      <td>1953.394991</td>\n",
       "      <td>1953.394991</td>\n",
       "      <td>1953.394991</td>\n",
       "      <td>1953.394991</td>\n",
       "      <td>1953.303688</td>\n",
       "      <td>1816.322370</td>\n",
       "      <td>1696.797574</td>\n",
       "      <td>1499.715791</td>\n",
       "      <td>1268.307361</td>\n",
       "      <td>1156.598823</td>\n",
       "      <td>1035.487043</td>\n",
       "      <td>960.536661</td>\n",
       "      <td>514.868693</td>\n",
       "      <td>910.253532</td>\n",
       "    </tr>\n",
       "  </tbody>\n",
       "</table>\n",
       "</div>"
      ],
      "text/plain": [
       "          VolTime           -4           -3           -2           -1  \\\n",
       "count   24.000000    24.000000    24.000000    24.000000    24.000000   \n",
       "mean   254.548793   723.491572   715.693091   694.063728   666.676756   \n",
       "std    266.006142   426.774790   433.551988   440.303913   447.052485   \n",
       "min    -24.588896  -242.131830  -323.264484  -314.099013  -237.350783   \n",
       "25%     86.782023   580.023348   580.023348   580.023348   579.132187   \n",
       "50%    170.313931   667.102892   667.102892   667.081131   642.037669   \n",
       "75%    296.129223   774.495614   774.495614   772.344397   731.254562   \n",
       "max    961.936000  1953.394991  1953.394991  1953.394991  1953.394991   \n",
       "\n",
       "                 0            1            2            3            4  \\\n",
       "count    24.000000    24.000000    24.000000    24.000000    24.000000   \n",
       "mean    591.285145   481.199908   343.528788   285.155575   244.842430   \n",
       "std     476.182691   501.609441   448.473116   384.517624   336.408012   \n",
       "min    -167.517105  -114.633213   -16.426607    -2.826947     8.394920   \n",
       "25%     387.332801    52.654548    63.586772    84.882392   106.979827   \n",
       "50%     622.473552   408.510925   110.657475   130.245627   141.611238   \n",
       "75%     721.555984   717.665354   537.445070   366.541030   214.275733   \n",
       "max    1953.394991  1953.394991  1953.303688  1816.322370  1696.797574   \n",
       "\n",
       "                 5            6            7            8           9  \\\n",
       "count    24.000000    24.000000    24.000000    24.000000   24.000000   \n",
       "mean    239.348656   237.368271   254.430829   284.365451  311.152655   \n",
       "std     284.203615   230.846263   203.154074   171.124526  155.850873   \n",
       "min      24.676496    94.524332   108.782728   140.271163  153.775419   \n",
       "25%     118.267090   138.271384   163.023507   221.450191  247.501991   \n",
       "50%     185.252361   194.550876   221.533861   254.223808  286.873275   \n",
       "75%     247.862340   223.747029   263.957144   292.722036  340.879018   \n",
       "max    1499.715791  1268.307361  1156.598823  1035.487043  960.536661   \n",
       "\n",
       "               10  MarketOrder  \n",
       "count   24.000000    24.000000  \n",
       "mean   338.276571   616.402103  \n",
       "std     82.838865   102.776842  \n",
       "min    163.166543   437.470574  \n",
       "25%    285.234448   559.434093  \n",
       "50%    330.097750   612.490052  \n",
       "75%    397.744302   656.167134  \n",
       "max    514.868693   910.253532  "
      ]
     },
     "metadata": {},
     "output_type": "display_data"
    },
    {
     "data": {
      "image/png": "[encoded data removed]",
      "text/plain": [
       "<matplotlib.figure.Figure at 0x7fc72cbe90f0>"
      ]
     },
     "metadata": {},
     "output_type": "display_data"
    }
   ],
   "source": [
    "data = data_nov[:24]\n",
    "baseline='VolTime'\n",
    "# baseline = list(agent_collection.keys())[0]\n",
    "costs, slippage = evaluate(\n",
    "    testdata=data,\n",
    "    agents=agent_collection,\n",
    "    baseline=baseline,\n",
    "    evaluate_actions=[-4,-3,-2,-1,0,1,2,3,4,5,6,7,8,9,10, 'MarketOrder'],\n",
    "    verbose=False\n",
    ")\n",
    "\n",
    "# display(costs.describe())\n",
    "# plot_evaluation_costs(costs, hline=baseline)\n",
    "display(slippage.describe())\n",
    "plot_evaluation_costs(slippage, hline=baseline, showfliers=False)"
   ]
  },
  {
   "cell_type": "code",
   "execution_count": 21,
   "metadata": {},
   "outputs": [
    {
     "data": {
      "text/plain": [
       "'6'"
      ]
     },
     "execution_count": 21,
     "metadata": {},
     "output_type": "execute_result"
    }
   ],
   "source": []
  },
  {
   "cell_type": "code",
   "execution_count": 28,
   "metadata": {},
   "outputs": [
    {
     "data": {
      "text/plain": [
       "VolTime        254.548793\n",
       "-4             723.491572\n",
       "-3             715.693091\n",
       "-2             694.063728\n",
       "-1             666.676756\n",
       "0              591.285145\n",
       "1              481.199908\n",
       "2              343.528788\n",
       "3              285.155575\n",
       "4              244.842430\n",
       "5              239.348656\n",
       "6              237.368271\n",
       "7              254.430829\n",
       "8              284.365451\n",
       "9              311.152655\n",
       "10             338.276571\n",
       "MarketOrder    616.402103\n",
       "dtype: float64"
      ]
     },
     "metadata": {},
     "output_type": "display_data"
    },
    {
     "data": {
      "image/png": "[encoded data removed]",
      "text/plain": [
       "<matplotlib.figure.Figure at 0x7fc72a3eb6d8>"
      ]
     },
     "metadata": {},
     "output_type": "display_data"
    }
   ],
   "source": [
    "mean = slippage.mean()\n",
    "display(mean)\n",
    "plot_evaluation_costs(slippage.iloc[:,1:], hline=mean.argmin(), showfliers=False, vlines=) #, ylim=(100,300))"
   ]
  },
  {
   "cell_type": "code",
   "execution_count": null,
   "metadata": {
    "collapsed": true
   },
   "outputs": [],
   "source": [
    "data = data_nov[:]\n",
    "costs = None\n",
    "baseline = 'QTable_1612-1702_T4_I8_VolTime'\n",
    "# baseline = list(agent_collection.keys())[0]\n",
    "costs, slippage = evaluate(\n",
    "    testdata=data,\n",
    "    agents=agent_collection,\n",
    "    baseline=baseline,\n",
    "    evaluate_actions=[5],\n",
    "    costs=costs,\n",
    "    verbose=False\n",
    ")\n",
    "\n",
    "# display(costs.describe())\n",
    "# plot_evaluation_costs(costs, hline=baseline)\n",
    "display(slippage.describe())\n",
    "plot_evaluation_costs(slippage, hline=baseline, showfliers=False)"
   ]
  },
  {
   "cell_type": "code",
   "execution_count": null,
   "metadata": {
    "collapsed": true
   },
   "outputs": [],
   "source": [
    "data = data_dec[:96]\n",
    "costs = None\n",
    "baseline = 'QTable_1612-1702_T4_I8'\n",
    "costs, slippage = evaluate(\n",
    "    testdata=data,\n",
    "    agents=agent_collection,\n",
    "    baseline=baseline,\n",
    "    evaluate_actions=[5],\n",
    "    costs=costs,\n",
    "    verbose=False\n",
    ")\n",
    "\n",
    "# display(costs.describe())\n",
    "# plot_evaluation_costs(costs, hline=baseline)\n",
    "display(slippage.describe())\n",
    "plot_evaluation_costs(slippage, hline=baseline)"
   ]
  },
  {
   "cell_type": "code",
   "execution_count": null,
   "metadata": {
    "collapsed": true,
    "scrolled": false
   },
   "outputs": [],
   "source": [
    "slippage"
   ]
  },
  {
   "cell_type": "code",
   "execution_count": null,
   "metadata": {
    "collapsed": true,
    "scrolled": false
   },
   "outputs": [],
   "source": [
    "plot_episode(data_dec[62], limits=[765.527563, 767.819562, 769.347561, 770.875560], consume='volume', volume=100)\n",
    "#plot_episode(data_dec[62], limits=[765.527563, 767.819562, 769.347561, 770.875560], consume='cash', volume=70000)"
   ]
  },
  {
   "cell_type": "code",
   "execution_count": null,
   "metadata": {
    "collapsed": true
   },
   "outputs": [],
   "source": [
    "start = 0\n",
    "end = 100\n",
    "\n",
    "print(slippage.shape)\n",
    "slippage.iloc[start:end,:].plot(figsize=(12,8))\n",
    "plt.plot(slippage.iloc[start:end,:].mean(axis=1).values, color='black', linestyle='--')\n",
    "\n",
    "tmp = slippage.subtract(slippage.mean(axis=1).values, axis=0)\n",
    "tmp.iloc[start:end,:].plot(figsize=(12,8))\n",
    "plt.plot(tmp.iloc[start:end,:].mean(axis=1).values, color='black', linestyle='--')"
   ]
  },
  {
   "cell_type": "code",
   "execution_count": null,
   "metadata": {
    "collapsed": true
   },
   "outputs": [],
   "source": []
  },
  {
   "cell_type": "code",
   "execution_count": null,
   "metadata": {
    "collapsed": true
   },
   "outputs": [],
   "source": [
    "name = '1611-1701_USDTBTC_Qtable_100vol10_60T4'\n",
    "\n",
    "modelpath = os.path.join(\"../Runs/evaluation/models/{}.json\".format(name))\n",
    "ql = QLearn.load(infile=modelpath)\n",
    "ql.plot_Q(z_represents=\"action\")\n",
    "ql.plot_Q(z_represents=\"Q\")\n",
    "ql.heatmap_Q()"
   ]
  },
  {
   "cell_type": "code",
   "execution_count": null,
   "metadata": {
    "collapsed": true,
    "scrolled": false
   },
   "outputs": [],
   "source": [
    "ql = QLearn.load(infile=modelpath)\n",
    "\n",
    "T = ql.T\n",
    "V = ql.V\n",
    "period_length = ql.period_length\n",
    "actions = ql.actions\n",
    "\n",
    "filename_train = '/home/axel/data/obs_2016-12_USDT_BTC_range1.2.dict'\n",
    "filename_test = '/home/axel/data/obs_2017-02_USDT_BTC_range1.2.dict'\n",
    "\n",
    "episodes_train = OrderbookEpisodesGenerator(filename=filename_train, episode_length=T*period_length)\n",
    "print(\"Length of episodes_train: {}\".format(len(episodes_train)))\n",
    "\n",
    "episodes_test = OrderbookEpisodesGenerator(filename=filename_test, episode_length=T*period_length)\n",
    "print(\"Length of episodes_test: {}\".format(len(episodes_test)))"
   ]
  },
  {
   "cell_type": "code",
   "execution_count": null,
   "metadata": {
    "collapsed": true
   },
   "outputs": [],
   "source": [
    "def plot_experiment_results(experiments, name=None, ylim=None, showfliers=False, hline=None):\n",
    "    assert isinstance(hline, str) or hline is None\n",
    "    \n",
    "    experiments.plot.box(showmeans=True, color={'medians':'green'}, figsize=(12, 8), showfliers=showfliers)\n",
    "\n",
    "    plt.axvline(2.5, color='black')\n",
    "    plt.axvline(3.5, color='black')\n",
    "    plt.axhline(0, color='black')\n",
    "    \n",
    "    if hline is not None:\n",
    "        plt.axhline(experiments[hline].mean(), color='red', alpha=0.5, linewidth=2, linestyle='--', label='min mean')\n",
    "        plt.axhline(experiments[hline].median(), color='green', alpha=0.5, linewidth=2, linestyle='--', label='min median')\n",
    "    \n",
    "    title = \"{} samples  \\n{} - {}\".format(len(experiments), experiments.index[0], experiments.index[-1])\n",
    "    if name is not None:\n",
    "        title = \"{}: {}\".format(name, title)\n",
    "    print(title)\n",
    "    #plt.suptitle(title)\n",
    "    plt.xlabel(\"Strategies\")\n",
    "    plt.ylabel(\"Occured costs\")\n",
    "    plt.savefig(\"boxplot_train.pdf\")\n",
    "    plt.xticks(rotation=70)\n",
    "    if ylim is not None:\n",
    "        plt.ylim(ylim)    \n",
    "    plt.legend(loc='best')\n",
    "    \n",
    "    plt.show()"
   ]
  },
  {
   "cell_type": "code",
   "execution_count": null,
   "metadata": {
    "collapsed": true
   },
   "outputs": [],
   "source": [
    "def run_Q(V, H, T, ql, episode_windows, actions, costs=None):\n",
    "    costs = pd.DataFrame([])\n",
    "    period_length = int(H/T)\n",
    "\n",
    "    for e, episode in tqdm(enumerate(episode_windows)):\n",
    "        index = episode[0].timestamp\n",
    "        \n",
    "        volume = V\n",
    "        \n",
    "        ## Learned strategy\n",
    "        ots = OrderbookTradingSimulator(orderbooks=episode, volume=volume, tradingperiods=T,\n",
    "                                         period_length=period_length)\n",
    "        for tt in range(1, T+1, 1)[::-1]:\n",
    "            new_vol = round_custombase(ots.volume, base=ql.vol_intervals)  \n",
    "        \n",
    "            if new_vol > 0:\n",
    "                idx = (T-tt)*period_length\n",
    "                state = ql.state_as_string(time_left=tt, volume_left=new_vol/V)\n",
    "                # print(idx, state)\n",
    "                action = ql.chooseAction(state)\n",
    "        \n",
    "                # print(state, action)\n",
    "                obs = episode[period_length * (T-tt)].copy()\n",
    "                # obs = [elem.copy() for elem in obs_]\n",
    "            \n",
    "                ask = obs.get_ask()\n",
    "                # center = ots.masterbook.get_center()\n",
    "                limit = ask * (1. + (action/100.))\n",
    "            else:\n",
    "                # theoreticall done\n",
    "                limit == None\n",
    "            ots.trade(limit = limit, extrainfo={'ACTION':action})\n",
    "        costs.loc[index, 'Learned_1611-1701'] = ots.history.cost.sum()\n",
    "\n",
    "    \n",
    "        ## market order\n",
    "        ots = OrderbookTradingSimulator(orderbooks=episode, volume=volume, tradingperiods=T,\n",
    "                                        period_length=period_length)\n",
    "        ots.trade(limit = None)\n",
    "        costs.loc[index, 'Market'] = ots.history.cost.sum()\n",
    "        \n",
    "        # for a in actions:\n",
    "        a = 0.4\n",
    "        lim = episode[0].get_ask() * (1. + (a/100.))\n",
    "        # print(\"\\n### Fixed limit at: {} (ASK+4) ###\".format(lim))\n",
    "        ots = OrderbookTradingSimulator(orderbooks=episode, volume=volume, tradingperiods=1,\n",
    "                                        period_length=period_length*T)\n",
    "        ots.trade(limit = lim)\n",
    "        key = 'ask*{:1.3f}'.format((1. + (a/100.)))\n",
    "        costs.loc[index, key] = ots.history.cost.sum()\n",
    "\n",
    "        \n",
    "        if e%5==0 or e==len(episode_windows)-1:\n",
    "            display.clear_output(wait=True)\n",
    "            plot_experiment_results(costs, name='Testset (USDT-BTC, Feb 2017):')\n",
    "            \n",
    "            # costs.to_csv(\"../Runs/evaluation/Evaluation_obs_TESTSET_2016-12_USDT_BTC_LEARNED_.csv\")\n",
    "            mean = costs.mean()\n",
    "            print(mean)\n",
    "            print(\"Minimal costs reached by S&L strategy: '{}': {:1.4f}\".format(mean.argmin(), mean.min()))\n",
    "        \n",
    "    return costs"
   ]
  },
  {
   "cell_type": "markdown",
   "metadata": {},
   "source": [
    "## Check for best S&L Strategy over training data (Nov16-Jan17)"
   ]
  },
  {
   "cell_type": "code",
   "execution_count": null,
   "metadata": {
    "collapsed": true,
    "scrolled": false
   },
   "outputs": [],
   "source": [
    "costs_list_train = pd.concat([\n",
    "    pd.read_csv(\"../Runs/evaluation/Evaluation_obs_TRAINSET_2016-11_USDT_BTC.csv\", index_col=0),\n",
    "    pd.read_csv(\"../Runs/evaluation/Evaluation_obs_TRAINSET_2016-12_USDT_BTC.csv\", index_col=0),\n",
    "    pd.read_csv(\"../Runs/evaluation/Evaluation_obs_TRAINSET_2017-01_USDT_BTC.csv\", index_col=0)])\n",
    "\n",
    "plot_experiment_results(costs_list_train, name='Trainset (USDT-BTC)', ylim=(-1.5, 1.5))\n",
    "\n",
    "mean = costs_list_train.mean()\n",
    "print(\"Minimal costs reached by S&L strategy: '{}': {:1.4f}\".format(mean.argmin(), mean.min()))"
   ]
  },
  {
   "cell_type": "markdown",
   "metadata": {},
   "source": [
    "### Compare strategies on Testset (Feb2017)"
   ]
  },
  {
   "cell_type": "code",
   "execution_count": null,
   "metadata": {
    "collapsed": true
   },
   "outputs": [],
   "source": [
    "T = ql.T\n",
    "V = ql.V\n",
    "period_length = ql.period_length\n",
    "print(\"V={}, T={}, period_length={}\".format(V, T, period_length))\n",
    "\n",
    "costs_list = run_Q(V=100, H=T*period_length, T=T, ql=ql,\n",
    "                   episode_windows=episodes_test[:5], actions=actions)"
   ]
  },
  {
   "cell_type": "code",
   "execution_count": null,
   "metadata": {
    "collapsed": true
   },
   "outputs": [],
   "source": [
    "plot_experiment_results(costs_list, name='Trainset (USDT-BTC)')  #, ylim=(-1.5, 1.5))\n",
    "mean = costs_list_train.mean()\n",
    "print(\"Minimal costs reached by S&L strategy: '{}': {:1.4f}\".format(mean.argmin(), mean.min()))"
   ]
  },
  {
   "cell_type": "code",
   "execution_count": null,
   "metadata": {
    "collapsed": true
   },
   "outputs": [],
   "source": []
  }
 ],
 "metadata": {
  "kernelspec": {
   "display_name": "Python 3",
   "language": "python",
   "name": "python3"
  },
  "language_info": {
   "codemirror_mode": {
    "name": "ipython",
    "version": 3
   },
   "file_extension": ".py",
   "mimetype": "text/x-python",
   "name": "python",
   "nbconvert_exporter": "python",
   "pygments_lexer": "ipython3",
   "version": "3.6.0"
  }
 },
 "nbformat": 4,
 "nbformat_minor": 1
}
