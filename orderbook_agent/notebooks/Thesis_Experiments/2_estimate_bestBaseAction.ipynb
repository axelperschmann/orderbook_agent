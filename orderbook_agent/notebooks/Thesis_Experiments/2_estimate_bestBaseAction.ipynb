{
 "cells": [
  {
   "cell_type": "code",
   "execution_count": 295,
   "metadata": {},
   "outputs": [
    {
     "name": "stdout",
     "output_type": "stream",
     "text": [
      "The autoreload extension is already loaded. To reload it, use:\n",
      "  %reload_ext autoreload\n"
     ]
    }
   ],
   "source": [
    "%load_ext autoreload\n",
    "%autoreload 2\n",
    "\n",
    "from joblib import Parallel, delayed\n",
    "import multiprocessing\n",
    "\n",
    "from tqdm import tqdm, tqdm_notebook\n",
    "from IPython.display import display\n",
    "from tqdm import tqdm\n",
    "import pandas as pd\n",
    "import numpy as np\n",
    "import matplotlib.pyplot as plt\n",
    "import matplotlib.dates as dates\n",
    "%matplotlib inline\n",
    "import json\n",
    "import pickle\n",
    "import os\n",
    "import sys\n",
    "sys.path.append('../..')\n",
    "from helper.orderbook_trader import OrderbookTradingSimulator\n",
    "from helper.manage_orderbooks import *\n",
    "from helper.evaluation import evaluate, plot_evaluation_costs\n",
    "from helper.general_helpers import add_features_to_orderbooks, load_and_preprocess_historyfiles, discretize_hist_feature\n",
    "\n",
    "from agents.RL_Agent_Base import RLAgent_Base\n",
    "from agents.BatchTree_Agent import RLAgent_BatchTree\n",
    "from agents.QTable_Agent import QTable_Agent"
   ]
  },
  {
   "cell_type": "markdown",
   "metadata": {
    "collapsed": true
   },
   "source": [
    "### Load data"
   ]
  },
  {
   "cell_type": "code",
   "execution_count": 296,
   "metadata": {},
   "outputs": [
    {
     "ename": "KeyboardInterrupt",
     "evalue": "",
     "output_type": "error",
     "traceback": [
      "\u001b[0;31m---------------------------------------------------------------------------\u001b[0m",
      "\u001b[0;31mKeyboardInterrupt\u001b[0m                         Traceback (most recent call last)",
      "\u001b[0;32m<ipython-input-296-f3300483972a>\u001b[0m in \u001b[0;36m<module>\u001b[0;34m()\u001b[0m\n\u001b[0;32m----> 1\u001b[0;31m \u001b[0mdata_nov\u001b[0m \u001b[0;34m=\u001b[0m \u001b[0mpickle\u001b[0m\u001b[0;34m.\u001b[0m\u001b[0mload\u001b[0m\u001b[0;34m(\u001b[0m \u001b[0mopen\u001b[0m\u001b[0;34m(\u001b[0m \u001b[0;34m'../../cached_windows_60mins/obs_2016-11_USDT_BTC_maxVol100.p'\u001b[0m\u001b[0;34m,\u001b[0m \u001b[0;34m\"rb\"\u001b[0m \u001b[0;34m)\u001b[0m \u001b[0;34m)\u001b[0m\u001b[0;34m\u001b[0m\u001b[0m\n\u001b[0m\u001b[1;32m      2\u001b[0m \u001b[0mprint\u001b[0m\u001b[0;34m(\u001b[0m\u001b[0mlen\u001b[0m\u001b[0;34m(\u001b[0m\u001b[0mdata_nov\u001b[0m\u001b[0;34m)\u001b[0m\u001b[0;34m)\u001b[0m\u001b[0;34m\u001b[0m\u001b[0m\n\u001b[1;32m      3\u001b[0m \u001b[0mprint\u001b[0m\u001b[0;34m(\u001b[0m\u001b[0mdata_nov\u001b[0m\u001b[0;34m[\u001b[0m\u001b[0;36m0\u001b[0m\u001b[0;34m]\u001b[0m\u001b[0;34m[\u001b[0m\u001b[0;36m0\u001b[0m\u001b[0;34m]\u001b[0m\u001b[0;34m)\u001b[0m\u001b[0;34m\u001b[0m\u001b[0m\n\u001b[1;32m      4\u001b[0m \u001b[0mdata_nov\u001b[0m\u001b[0;34m[\u001b[0m\u001b[0;36m0\u001b[0m\u001b[0;34m]\u001b[0m\u001b[0;34m[\u001b[0m\u001b[0;36m0\u001b[0m\u001b[0;34m]\u001b[0m\u001b[0;34m\u001b[0m\u001b[0m\n",
      "\u001b[0;32m~/anaconda3/lib/python3.6/site-packages/pandas/core/generic.py\u001b[0m in \u001b[0;36m__setstate__\u001b[0;34m(self, state)\u001b[0m\n\u001b[1;32m    984\u001b[0m                 \u001b[0;31m# e.g. say fill_value needing _data to be\u001b[0m\u001b[0;34m\u001b[0m\u001b[0;34m\u001b[0m\u001b[0m\n\u001b[1;32m    985\u001b[0m                 \u001b[0;31m# defined\u001b[0m\u001b[0;34m\u001b[0m\u001b[0;34m\u001b[0m\u001b[0m\n\u001b[0;32m--> 986\u001b[0;31m                 \u001b[0mmeta\u001b[0m \u001b[0;34m=\u001b[0m \u001b[0mset\u001b[0m\u001b[0;34m(\u001b[0m\u001b[0mself\u001b[0m\u001b[0;34m.\u001b[0m\u001b[0m_internal_names\u001b[0m \u001b[0;34m+\u001b[0m \u001b[0mself\u001b[0m\u001b[0;34m.\u001b[0m\u001b[0m_metadata\u001b[0m\u001b[0;34m)\u001b[0m\u001b[0;34m\u001b[0m\u001b[0m\n\u001b[0m\u001b[1;32m    987\u001b[0m                 \u001b[0;32mfor\u001b[0m \u001b[0mk\u001b[0m \u001b[0;32min\u001b[0m \u001b[0mlist\u001b[0m\u001b[0;34m(\u001b[0m\u001b[0mmeta\u001b[0m\u001b[0;34m)\u001b[0m\u001b[0;34m:\u001b[0m\u001b[0;34m\u001b[0m\u001b[0m\n\u001b[1;32m    988\u001b[0m                     \u001b[0;32mif\u001b[0m \u001b[0mk\u001b[0m \u001b[0;32min\u001b[0m \u001b[0mstate\u001b[0m\u001b[0;34m:\u001b[0m\u001b[0;34m\u001b[0m\u001b[0m\n",
      "\u001b[0;31mKeyboardInterrupt\u001b[0m: "
     ]
    }
   ],
   "source": [
    "data_nov = pickle.load( open( '../../cached_windows_60mins/obs_2016-11_USDT_BTC_maxVol100.p', \"rb\" ) )\n",
    "print(len(data_nov))\n",
    "print(data_nov[0][0])\n",
    "data_nov[0][0]"
   ]
  },
  {
   "cell_type": "code",
   "execution_count": 44,
   "metadata": {},
   "outputs": [
    {
     "name": "stdout",
     "output_type": "stream",
     "text": [
      "743\n",
      "OrderbookContainer from 2016-12-01T00:00 (factor: 1.0)\n",
      "  185 bids (best: 738.1524754)\n",
      "  247 asks (best: 741.0)\n",
      "price: 739.5753240682233\n",
      "  kind: 'orderbook'\n"
     ]
    },
    {
     "data": {
      "text/plain": [
       "OrderbookContainer from 2016-12-01T00:00 (factor: 1.0)\n",
       "  185 bids (best: 738.1524754)\n",
       "  247 asks (best: 741.0)\n",
       "price: 739.5753240682233\n",
       "  kind: 'orderbook'"
      ]
     },
     "execution_count": 44,
     "metadata": {},
     "output_type": "execute_result"
    }
   ],
   "source": [
    "data_dec = pickle.load( open( '../../cached_windows_60mins/obs_2016-12_USDT_BTC_maxVol100.p', \"rb\" ) )\n",
    "print(len(data_dec))\n",
    "print(data_dec[0][0])\n",
    "data_dec[0][0]"
   ]
  },
  {
   "cell_type": "markdown",
   "metadata": {},
   "source": [
    "### Evaluate"
   ]
  },
  {
   "cell_type": "code",
   "execution_count": null,
   "metadata": {
    "collapsed": true
   },
   "outputs": [],
   "source": [
    "agent_collection = {'VolTime': RLAgent_Base.load(agent_name='QTable_1611-1704_T4_I8_VolTime', path='../trainedAgents/longterm_1611_1704/', ignore_samples=True)}\n",
    "print(agent_collection['VolTime'].limit_base)"
   ]
  },
  {
   "cell_type": "code",
   "execution_count": null,
   "metadata": {
    "collapsed": true,
    "scrolled": true
   },
   "outputs": [],
   "source": [
    "exp = {\n",
    "    'jan': '../../cached_windows_60mins/obs_2017-01_USDT_BTC_maxVol100.p',\n",
    "    'feb': '../../cached_windows_60mins/obs_2017-02_USDT_BTC_maxVol100.p',\n",
    "    'mar': '../../cached_windows_60mins_V200/obs_2017-03_USDT_BTC_maxVol200.p',\n",
    "    'apr': '../../cached_windows_60mins_V200/obs_2017-04_USDT_BTC_maxVol200.p',\n",
    "    'may': '../../cached_windows_60mins_V200/obs_2017-05_USDT_BTC_maxVol200.p',\n",
    "}\n",
    "\n",
    "for month, file in exp.items():\n",
    "    data = pickle.load( open( file, \"rb\" ) )\n",
    "    print(month, file)\n",
    "    baseline='VolTime'\n",
    "    # baseline = list(agent_collection.keys())[0]\n",
    "    costs, slippage = evaluate(\n",
    "        testdata=data,\n",
    "        agents=agent_collection,\n",
    "        baseline=baseline,\n",
    "        evaluate_actions=[-4,-3,-2,-1,0,1,2,3,4,5,6,7,8,9,10, 'MarketOrder'],\n",
    "        verbose=False\n",
    "    )\n",
    "\n",
    "    # display(costs.describe())\n",
    "    # plot_evaluation_costs(costs, hline=baseline)\n",
    "    display(slippage.describe())\n",
    "    plot_evaluation_costs(slippage, hline=baseline, showfliers=False)\n",
    "    slippage.to_csv('actions_slippage_{}.csv'.format(month))\n",
    "    del(data)\n"
   ]
  },
  {
   "cell_type": "markdown",
   "metadata": {},
   "source": [
    "## Check for best S&L Strategy over training data (Nov16-Jan17)"
   ]
  },
  {
   "cell_type": "code",
   "execution_count": null,
   "metadata": {
    "collapsed": true
   },
   "outputs": [],
   "source": [
    "[elem for elem in [1,2,3]]"
   ]
  },
  {
   "cell_type": "code",
   "execution_count": 172,
   "metadata": {},
   "outputs": [
    {
     "data": {
      "text/plain": [
       "'2017-05-01T00:00'"
      ]
     },
     "execution_count": 172,
     "metadata": {},
     "output_type": "execute_result"
    }
   ],
   "source": [
    "costs_list_train.index[4109]"
   ]
  },
  {
   "cell_type": "code",
   "execution_count": 176,
   "metadata": {},
   "outputs": [
    {
     "data": {
      "text/plain": [
       "Timestamp('2017-05-01 00:00:00')"
      ]
     },
     "execution_count": 176,
     "metadata": {},
     "output_type": "execute_result"
    }
   ],
   "source": [
    "pd.to_datetime('2017-05-01T00:00')"
   ]
  },
  {
   "cell_type": "code",
   "execution_count": 292,
   "metadata": {},
   "outputs": [
    {
     "ename": "IndexError",
     "evalue": "index 0 is out of bounds for axis 0 with size 0",
     "output_type": "error",
     "traceback": [
      "\u001b[0;31m---------------------------------------------------------------------------\u001b[0m",
      "\u001b[0;31mIndexError\u001b[0m                                Traceback (most recent call last)",
      "\u001b[0;32m<ipython-input-292-3c45c00916ee>\u001b[0m in \u001b[0;36m<module>\u001b[0;34m()\u001b[0m\n\u001b[1;32m      1\u001b[0m \u001b[0mtmp\u001b[0m \u001b[0;34m=\u001b[0m \u001b[0mpd\u001b[0m\u001b[0;34m.\u001b[0m\u001b[0mDataFrame\u001b[0m\u001b[0;34m(\u001b[0m\u001b[0mcosts_list_train\u001b[0m\u001b[0;34m.\u001b[0m\u001b[0mindex\u001b[0m \u001b[0;34m>=\u001b[0m \u001b[0;34m\"2017-05\"\u001b[0m\u001b[0;34m)\u001b[0m\u001b[0;34m\u001b[0m\u001b[0m\n\u001b[0;32m----> 2\u001b[0;31m \u001b[0mtmp\u001b[0m\u001b[0;34m[\u001b[0m\u001b[0mtmp\u001b[0m\u001b[0;34m]\u001b[0m\u001b[0;34m.\u001b[0m\u001b[0mdropna\u001b[0m\u001b[0;34m(\u001b[0m\u001b[0;34m)\u001b[0m\u001b[0;34m.\u001b[0m\u001b[0mindex\u001b[0m\u001b[0;34m[\u001b[0m\u001b[0;36m0\u001b[0m\u001b[0;34m]\u001b[0m\u001b[0;34m\u001b[0m\u001b[0m\n\u001b[0m",
      "\u001b[0;32m~/anaconda3/lib/python3.6/site-packages/pandas/indexes/base.py\u001b[0m in \u001b[0;36m__getitem__\u001b[0;34m(self, key)\u001b[0m\n\u001b[1;32m   1421\u001b[0m \u001b[0;34m\u001b[0m\u001b[0m\n\u001b[1;32m   1422\u001b[0m         \u001b[0;32mif\u001b[0m \u001b[0mis_scalar\u001b[0m\u001b[0;34m(\u001b[0m\u001b[0mkey\u001b[0m\u001b[0;34m)\u001b[0m\u001b[0;34m:\u001b[0m\u001b[0;34m\u001b[0m\u001b[0m\n\u001b[0;32m-> 1423\u001b[0;31m             \u001b[0;32mreturn\u001b[0m \u001b[0mgetitem\u001b[0m\u001b[0;34m(\u001b[0m\u001b[0mkey\u001b[0m\u001b[0;34m)\u001b[0m\u001b[0;34m\u001b[0m\u001b[0m\n\u001b[0m\u001b[1;32m   1424\u001b[0m \u001b[0;34m\u001b[0m\u001b[0m\n\u001b[1;32m   1425\u001b[0m         \u001b[0;32mif\u001b[0m \u001b[0misinstance\u001b[0m\u001b[0;34m(\u001b[0m\u001b[0mkey\u001b[0m\u001b[0;34m,\u001b[0m \u001b[0mslice\u001b[0m\u001b[0;34m)\u001b[0m\u001b[0;34m:\u001b[0m\u001b[0;34m\u001b[0m\u001b[0m\n",
      "\u001b[0;31mIndexError\u001b[0m: index 0 is out of bounds for axis 0 with size 0"
     ]
    }
   ],
   "source": [
    "tmp = pd.DataFrame(costs_list_train.index >= \"2017-05\")\n",
    "tmp[tmp].dropna().index[0]"
   ]
  },
  {
   "cell_type": "code",
   "execution_count": 293,
   "metadata": {},
   "outputs": [
    {
     "data": {
      "text/plain": [
       "(4109, 17)"
      ]
     },
     "execution_count": 293,
     "metadata": {},
     "output_type": "execute_result"
    }
   ],
   "source": [
    "costs_list_train.shape"
   ]
  },
  {
   "cell_type": "code",
   "execution_count": 241,
   "metadata": {
    "collapsed": true
   },
   "outputs": [],
   "source": [
    "d = pd.DataFrame(costs_list_train.iloc[:,1:].min(axis=1), columns=['Min'])\n",
    "d['Market'] = costs_list_train.iloc[:,0]"
   ]
  },
  {
   "cell_type": "code",
   "execution_count": 245,
   "metadata": {},
   "outputs": [
    {
     "data": {
      "text/html": [
       "<div>\n",
       "<table border=\"1\" class=\"dataframe\">\n",
       "  <thead>\n",
       "    <tr style=\"text-align: right;\">\n",
       "      <th></th>\n",
       "      <th>Min</th>\n",
       "      <th>Market</th>\n",
       "      <th>ratio</th>\n",
       "    </tr>\n",
       "  </thead>\n",
       "  <tbody>\n",
       "    <tr>\n",
       "      <th>2016-11-08T10:00</th>\n",
       "      <td>36.652548</td>\n",
       "      <td>87.927483</td>\n",
       "      <td>0.416850</td>\n",
       "    </tr>\n",
       "    <tr>\n",
       "      <th>2016-11-08T11:01</th>\n",
       "      <td>98.261807</td>\n",
       "      <td>281.145470</td>\n",
       "      <td>0.349505</td>\n",
       "    </tr>\n",
       "    <tr>\n",
       "      <th>2016-11-08T12:01</th>\n",
       "      <td>87.210660</td>\n",
       "      <td>207.526948</td>\n",
       "      <td>0.420238</td>\n",
       "    </tr>\n",
       "    <tr>\n",
       "      <th>2016-11-08T13:01</th>\n",
       "      <td>202.594267</td>\n",
       "      <td>540.818581</td>\n",
       "      <td>0.374607</td>\n",
       "    </tr>\n",
       "    <tr>\n",
       "      <th>2016-11-08T14:01</th>\n",
       "      <td>383.467557</td>\n",
       "      <td>607.039635</td>\n",
       "      <td>0.631701</td>\n",
       "    </tr>\n",
       "  </tbody>\n",
       "</table>\n",
       "</div>"
      ],
      "text/plain": [
       "                         Min      Market     ratio\n",
       "2016-11-08T10:00   36.652548   87.927483  0.416850\n",
       "2016-11-08T11:01   98.261807  281.145470  0.349505\n",
       "2016-11-08T12:01   87.210660  207.526948  0.420238\n",
       "2016-11-08T13:01  202.594267  540.818581  0.374607\n",
       "2016-11-08T14:01  383.467557  607.039635  0.631701"
      ]
     },
     "metadata": {},
     "output_type": "display_data"
    }
   ],
   "source": [
    "d['ratio'] = d.Min / d.Market\n",
    "display(d.head())"
   ]
  },
  {
   "cell_type": "code",
   "execution_count": 300,
   "metadata": {
    "scrolled": false
   },
   "outputs": [
    {
     "name": "stderr",
     "output_type": "stream",
     "text": [
      "/home/axel/anaconda3/lib/python3.6/site-packages/ipykernel_launcher.py:3: FutureWarning: pd.rolling_mean is deprecated for Series and will be removed in a future version, replace with \n",
      "\tSeries.rolling(window=240,center=False).mean()\n",
      "  This is separate from the ipykernel package so we can avoid doing imports until\n"
     ]
    },
    {
     "name": "stdout",
     "output_type": "stream",
     "text": [
      "(0.0, 4832.0)\n"
     ]
    },
    {
     "data": {
      "image/png": "[encoded data removed]",
      "text/plain": [
       "<matplotlib.figure.Figure at 0x7fc72910a160>"
      ]
     },
     "metadata": {},
     "output_type": "display_data"
    },
    {
     "name": "stderr",
     "output_type": "stream",
     "text": [
      "/home/axel/anaconda3/lib/python3.6/site-packages/ipykernel_launcher.py:22: FutureWarning: pd.rolling_mean is deprecated for DataFrame and will be removed in a future version, replace with \n",
      "\tDataFrame.rolling(window=240,center=False).mean()\n"
     ]
    },
    {
     "name": "stdout",
     "output_type": "stream",
     "text": [
      "(0.0, 4832.0)\n"
     ]
    },
    {
     "data": {
      "image/png": "[encoded data removed]",
      "text/plain": [
       "<matplotlib.figure.Figure at 0x7fc72913da90>"
      ]
     },
     "metadata": {},
     "output_type": "display_data"
    }
   ],
   "source": [
    "import datetime\n",
    "fig, ax = plt.subplots()\n",
    "df = pd.rolling_mean(costs_list_train.loc[:,'MarketOrder'], 240)\n",
    "df.plot(rot=15, ax=ax)\n",
    "ax.xaxis.set_minor_formatter(dates.DateFormatter('%d\\n%a'))\n",
    "#plt.axhline(costs_list_train.loc[:'2017-05-01','MarketOrder'].mean(), label='avg (TRAIN)', color='green', linestyle='--')\n",
    "mean_train = float(costs_list_train.loc[:'2017-05-01','MarketOrder'].mean())\n",
    "mean_test = float(costs_list_train.loc['2017-05-01':,'MarketOrder'].mean())\n",
    "plt.plot([0, 4109], [mean_train]*2, label='avg (TRAIN)', color='green', linestyle='--')\n",
    "plt.plot([4109, len(df)], [mean_test]*2, label='avg (TEST)', color='red', linestyle='--')\n",
    "plt.ylabel(\"slippage\")\n",
    "plt.axvline(4109, color='black', linestyle='--')\n",
    "plt.text(3550, 760, 'TRAIN')\n",
    "plt.text(4200, 760, 'TEST')\n",
    "plt.legend(loc='best')\n",
    "plt.title('Running Mean over 240 orderbook windows')\n",
    "plt.savefig(\"runningMean240_MarketPrice.pdf\")\n",
    "print(ax.get_xlim())\n",
    "plt.show()\n",
    "\n",
    "fig, ax = plt.subplots()\n",
    "df = pd.rolling_mean(costs_list_train.iloc[:,1:], 240).T.idxmin().astype(float)\n",
    "df.plot(rot=15, ax=ax, label='Best S&L action')\n",
    "mean_train = float(costs_list_train.iloc[:4109,1:].mean().idxmin())\n",
    "mean_test = float(costs_list_train.iloc[4109:,1:].mean().idxmin())\n",
    "plt.plot([0, 4109], [mean_train]*2, label='avg (TRAIN)', color='green', linestyle='--')\n",
    "plt.plot([4109, len(df)], [mean_test]*2, label='avg (TEST)', color='red', linestyle='--')\n",
    "plt.axvline(4109, color='black', linestyle='--')\n",
    "plt.text(3550, 5.6, 'TRAIN')\n",
    "plt.text(4200, 5.6, 'TEST')\n",
    "plt.ylabel(\"optimal action\")\n",
    "\n",
    "plt.legend(loc='best')\n",
    "plt.title('Running Mean over 240 orderbook windows')\n",
    "print(ax.get_xlim())\n",
    "#ax.set_xlim((0,4593.0))\n",
    "plt.savefig(\"runningMean240_bestAction.pdf\")\n",
    "plt.show()"
   ]
  },
  {
   "cell_type": "code",
   "execution_count": 314,
   "metadata": {
    "scrolled": false
   },
   "outputs": [
    {
     "data": {
      "text/plain": [
       "VolTime        180.018247\n",
       "-4             439.786858\n",
       "-3             430.497977\n",
       "-2             415.588242\n",
       "-1             391.459631\n",
       "0              353.553192\n",
       "1              287.688035\n",
       "2              232.331553\n",
       "3              204.383688\n",
       "4              202.187817\n",
       "5              214.728379\n",
       "6              234.953244\n",
       "7              258.822262\n",
       "8              282.159118\n",
       "9              304.104059\n",
       "10             324.274586\n",
       "MarketOrder    497.470882\n",
       "dtype: float64"
      ]
     },
     "metadata": {},
     "output_type": "display_data"
    },
    {
     "name": "stdout",
     "output_type": "stream",
     "text": [
      "Saved figure to 'bestActionTrain.pdf'\n"
     ]
    }
   ],
   "source": [
    "costs_list = [pd.read_csv(\"actions_slippage_nov.csv\", index_col=0),\n",
    "    pd.read_csv(\"actions_slippage_dec.csv\", index_col=0),\n",
    "    pd.read_csv(\"actions_slippage_jan.csv\", index_col=0),\n",
    "    pd.read_csv(\"actions_slippage_feb.csv\", index_col=0),\n",
    "    pd.read_csv(\"actions_slippage_mar.csv\", index_col=0),\n",
    "    pd.read_csv(\"actions_slippage_apr.csv\", index_col=0),\n",
    "#    pd.read_csv(\"actions_slippage_may.csv\", index_col=0)\n",
    "             ]\n",
    "\n",
    "costs_list_train = pd.concat(\n",
    "    costs_list\n",
    ")\n",
    "\n",
    "display(costs_list_train.mean())\n",
    "plot_evaluation_costs(costs_list_train.iloc[:,:], name='Trainset (USDT-BTC)', hline='4', ylim=(-100,600), outfile='bestActionTrain.pdf', vlines=[1, 16])\n",
    "\n",
    "# plot_evaluation_costs(pd.read_csv(\"actions_slippage_nov.csv\", index_col=0).iloc[:,1:], name='Trainset (USDT-BTC)', hline='min', ylim=(-100, 600), vlines=[])\n",
    "\n",
    "# for costs in costs_list:\n",
    "#     plot_evaluation_costs(costs.iloc[:,1:], name='Trainset (USDT-BTC)', hline='min')"
   ]
  },
  {
   "cell_type": "code",
   "execution_count": null,
   "metadata": {
    "collapsed": true
   },
   "outputs": [],
   "source": []
  }
 ],
 "metadata": {
  "kernelspec": {
   "display_name": "Python 3",
   "language": "python",
   "name": "python3"
  },
  "language_info": {
   "codemirror_mode": {
    "name": "ipython",
    "version": 3
   },
   "file_extension": ".py",
   "mimetype": "text/x-python",
   "name": "python",
   "nbconvert_exporter": "python",
   "pygments_lexer": "ipython3",
   "version": "3.6.0"
  }
 },
 "nbformat": 4,
 "nbformat_minor": 1
}
