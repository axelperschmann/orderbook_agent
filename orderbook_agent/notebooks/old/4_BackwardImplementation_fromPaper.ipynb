{
 "cells": [
  {
   "cell_type": "code",
   "execution_count": 2,
   "metadata": {
    "collapsed": false
   },
   "outputs": [
    {
     "name": "stdout",
     "output_type": "stream",
     "text": [
      "The autoreload extension is already loaded. To reload it, use:\n",
      "  %reload_ext autoreload\n"
     ]
    }
   ],
   "source": [
    "%load_ext autoreload\n",
    "%autoreload 2\n",
    "\n",
    "from tqdm import tqdm\n",
    "import pandas as pd\n",
    "import numpy as np\n",
    "import gzip\n",
    "import json\n",
    "import math\n",
    "from datetime import datetime\n",
    "import matplotlib.dates as mdates\n",
    "from mpl_toolkits.mplot3d import Axes3D\n",
    "from IPython.display import display\n",
    "%matplotlib inline\n",
    "\n",
    "\n",
    "import sys\n",
    "sys.path.append('..')\n",
    "from helper.rl_framework import *\n",
    "from helper.orderbook_container import OrderbookContainer\n",
    "from helper.manage_orderbooks import *\n",
    "from helper.orderbook_trader import *\n",
    "from helper.Q_learning import QLearn"
   ]
  },
  {
   "cell_type": "code",
   "execution_count": 6,
   "metadata": {
    "collapsed": false,
    "scrolled": false
   },
   "outputs": [
    {
     "name": "stdout",
     "output_type": "stream",
     "text": [
      "# Load Training Set\n"
     ]
    },
    {
     "name": "stderr",
     "output_type": "stream",
     "text": [
      "100%|██████████| 120/120 [00:10<00:00, 10.96it/s]\n"
     ]
    },
    {
     "name": "stdout",
     "output_type": "stream",
     "text": [
      "Loaded 120 orderbooks from file '/home/axel/data/obs_2016-11_USDT_BTC_range1.2.dict'.\n",
      "OrderbookContainer from 2016-11-08T10:00\n",
      "  663 bids (best: 705.0)\n",
      "  475 asks (best: 705.450997)\n",
      "  kind: 'orderbook'\n",
      "\n",
      "# Load Validation Set\n"
     ]
    },
    {
     "name": "stderr",
     "output_type": "stream",
     "text": [
      "100%|██████████| 120/120 [00:09<00:00, 13.17it/s]"
     ]
    },
    {
     "name": "stdout",
     "output_type": "stream",
     "text": [
      "Loaded 120 orderbooks from file '/home/axel/data/obs_2016-11_USDT_BTC_range1.2.dict'.\n",
      "OrderbookContainer from 2016-11-08T12:01\n",
      "  679 bids (best: 705.5)\n",
      "  473 asks (best: 707.823093)\n",
      "  kind: 'orderbook'\n"
     ]
    },
    {
     "name": "stderr",
     "output_type": "stream",
     "text": [
      "\n"
     ]
    }
   ],
   "source": [
    "filename = '/home/axel/data/obs_2016-11_USDT_BTC_range1.2.dict'\n",
    "# filename = '../../data/3000orderbooks'\n",
    "currency_pair = 'USDT_BTC'\n",
    "\n",
    "samples = 120\n",
    "print(\"# Load Training Set\")\n",
    "orderbooks_train = load_orderbook_snapshot(infile=filename, first_line=0, last_line=samples)\n",
    "print(orderbooks_train[0])\n",
    "\n",
    "print(\"\")\n",
    "print(\"# Load Validation Set\")\n",
    "orderbooks_val = load_orderbook_snapshot(infile=filename, first_line=samples, last_line=2*samples)\n",
    "print(orderbooks_val[0])"
   ]
  },
  {
   "cell_type": "markdown",
   "metadata": {},
   "source": [
    "### Settings"
   ]
  },
  {
   "cell_type": "code",
   "execution_count": 9,
   "metadata": {
    "collapsed": false
   },
   "outputs": [
    {
     "name": "stdout",
     "output_type": "stream",
     "text": [
      "T=4, P=15\n"
     ]
    }
   ],
   "source": [
    "T = 4  # Time horizon: 10 periods -> P*T = 20 minutes\n",
    "P = 15  # period length\n",
    "print(\"T={}, P={}\".format(T, P))"
   ]
  },
  {
   "cell_type": "markdown",
   "metadata": {},
   "source": [
    "#### Split orderbook array into non-overlapping episodes"
   ]
  },
  {
   "cell_type": "code",
   "execution_count": 10,
   "metadata": {
    "collapsed": false,
    "scrolled": false
   },
   "outputs": [
    {
     "name": "stdout",
     "output_type": "stream",
     "text": [
      "Training Episodes  : 2, episode length: 60, start at: 2016-11-08T10:00\n",
      "Validation Episodes: 2, episode length: 60, start at: 2016-11-08T12:01\n"
     ]
    }
   ],
   "source": [
    "def create_episodes(orderbooks, episode_length):\n",
    "    episode_windows = []\n",
    "    for e in range(0, int(len(orderbooks) / episode_length)):\n",
    "        window = [ob.copy() for ob in orderbooks[e*episode_length:(e+1)*episode_length]]\n",
    "\n",
    "        # plot_episode(window, volume=V, outfile='graphs/episode_window{}'.format(e))\n",
    "        episode_windows.append(window)\n",
    "    return episode_windows\n",
    "\n",
    "episode_windows_train = create_episodes(orderbooks_train, episode_length=T*P)\n",
    "episode_windows_val = create_episodes(orderbooks_val, episode_length=T*P)\n",
    "\n",
    "print(\"Training Episodes  : {}, episode length: {}, start at: {}\".format(len(episode_windows_train), len(episode_windows_train[0]), episode_windows_train[0][0].timestamp))\n",
    "print(\"Validation Episodes: {}, episode length: {}, start at: {}\".format(len(episode_windows_val), len(episode_windows_val[0]), episode_windows_val[0][0].timestamp))\n",
    "# plot_episode(episode_windows_val[0], volume=10)\n",
    "# plot_episode(episode_windows_val[0], volume=100)"
   ]
  },
  {
   "cell_type": "code",
   "execution_count": 11,
   "metadata": {
    "collapsed": false
   },
   "outputs": [
    {
     "name": "stdout",
     "output_type": "stream",
     "text": [
      "available actions: [-1.0, -0.40000000000000002, 0.19999999999999996, 0.79999999999999982, 1.3999999999999999, 2.0, 2.5999999999999996, 3.2000000000000002, 3.7999999999999998, 4.3999999999999995, 5.0]\n"
     ]
    }
   ],
   "source": [
    "# STATE_DIM = 2\n",
    "NUM_ACTIONS = 11\n",
    "actions = list(np.linspace(-1, 5, num=NUM_ACTIONS))\n",
    "print(\"available actions: {}\".format(actions))"
   ]
  },
  {
   "cell_type": "code",
   "execution_count": 12,
   "metadata": {
    "collapsed": false
   },
   "outputs": [
    {
     "name": "stdout",
     "output_type": "stream",
     "text": [
      "<class 'float'> 10.0\n"
     ]
    }
   ],
   "source": [
    "def round_custombase(val, *, base):\n",
    "    return float(round(float(val) / base) * base)\n",
    "\n",
    "test = round_custombase(12.43, base=5)\n",
    "print(type(test), test)"
   ]
  },
  {
   "cell_type": "code",
   "execution_count": 18,
   "metadata": {
    "collapsed": false,
    "scrolled": false
   },
   "outputs": [],
   "source": [
    "def optimal_strategy(V, T, period_length, vol_intervals, actions, verbose=True):\n",
    "    timestamp = datetime.now()\n",
    "\n",
    "    print(\"V: {}, T: {}, period_length: {}, vol_intervals: {}, num_actions: {}\".format(V, T, period_length, vol_intervals, len(actions)))\n",
    "    print(\"actions: {}\".format(actions))\n",
    "    volumes = np.linspace(0, 1, num=vol_intervals+1)[1:][::-1] # skip volumes=0\n",
    "    \n",
    "    volumes_base = float(V)/vol_intervals\n",
    "    print(\"volumes_base: {}\".format(volumes_base))\n",
    "    print(\"volumes: {}\".format(volumes))\n",
    "    ql = QLearn(actions=actions, vol_intervals=vol_intervals, V=V, T=T, period_length=period_length)\n",
    "    print(\"V: \", ql.V)\n",
    "\n",
    "    H = T*period_length\n",
    "\n",
    "    for tt in tqdm(range(T)[::-1]):\n",
    "        trading_startpoint = period_length*tt\n",
    "        time_left = T-tt\n",
    "\n",
    "        for episode in tqdm(episode_windows_train):\n",
    "            center = episode[trading_startpoint].get_center()\n",
    "            # ask = episode[trading_startpoint].get_ask()\n",
    "            initial_center = episode[0].get_center()\n",
    "            \n",
    "            for vol in volumes:\n",
    "                if tt == 0:\n",
    "                    if vol != 1.:\n",
    "                        # at t=0 we always have 100% of the volume left.\n",
    "                        print(\"x\", vol)\n",
    "                        break\n",
    "                \n",
    "                for a in actions:\n",
    "                    state = ql.state_as_string(time_left=time_left, volume_left=vol)  #, orderbook=episode[trading_startpoint])\n",
    "                    \n",
    "                    if vol == 0:\n",
    "                        volume_left = 0\n",
    "                        cost = 0\n",
    "                    else:\n",
    "                        ots = OrderbookTradingSimulator(orderbooks=episode[trading_startpoint:], volume=vol*V, tradingperiods=T-tt,\n",
    "                                                        period_length=period_length)\n",
    "                        limit = center + a\n",
    "\n",
    "                        ots.trade(limit = limit)  # agression_factor=a)\n",
    "                    \n",
    "                        volume_left = ots.volume\n",
    "                        volume_left_rounded = round_custombase(volume_left, base=volumes_base)\n",
    "                        \n",
    "                        volume_traded = ots.history.volume_traded.values[-1]\n",
    "                        volume_traded_rounded = round_custombase(volume_traded, base=volumes_base)\n",
    "                        \n",
    "                        assert volume_left_rounded + volume_traded_rounded - vol*V <= 1.e-8, \"{} {} {} {}\".format(\n",
    "                            volume_left_rounded, volume_traded_rounded, vol, V)\n",
    "                        \n",
    "                        cashflow = ots.history.cashflow[-1]\n",
    "                        \n",
    "                        avg = ots.history.avg[-1]\n",
    "                        \n",
    "                        # manually compute costs, since we have to think in discrete volume steps (rounding ...)\n",
    "                        cost = volume_traded_rounded * (avg - initial_center) / initial_center\n",
    "                    \n",
    "                    new_state = ql.state_as_string(time_left=time_left-1, volume_left=volume_left_rounded/V)  #, orderbook=ots.masterbook)\n",
    "                    \n",
    "                    print(state, a, cost, new_state)\n",
    "                    \n",
    "                    ql.learn(state, a, cost, new_state)\n",
    "                    \n",
    "            ql.plot_Q(outfile=\"../graphs/Q_function_{}_action\".format(T-tt), outformat='pdf', z_represents='action', verbose=verbose)\n",
    "            ql.plot_Q(outfile=\"../graphs/Q_function_{}_Q\".format(T-tt), outformat='pdf', z_represents='Q', verbose=verbose)\n",
    "        ql.save(\"../pickles/Q_function_{}\".format(timestamp))\n",
    "    plot_episode(episode, volume=V)\n",
    "    return ql"
   ]
  },
  {
   "cell_type": "code",
   "execution_count": 19,
   "metadata": {
    "collapsed": false,
    "scrolled": true
   },
   "outputs": [
    {
     "name": "stderr",
     "output_type": "stream",
     "text": [
      "  0%|          | 0/4 [00:00<?, ?it/s]\n",
      "  0%|          | 0/2 [00:00<?, ?it/s]"
     ]
    },
    {
     "name": "stdout",
     "output_type": "stream",
     "text": [
      "V=100, T=4, P=15\n",
      "V: 100, T: 4, period_length: 15, vol_intervals: 10, num_actions: 11\n",
      "actions: [-1.0, -0.40000000000000002, 0.19999999999999996, 0.79999999999999982, 1.3999999999999999, 2.0, 2.5999999999999996, 3.2000000000000002, 3.7999999999999998, 4.3999999999999995, 5.0]\n",
      "volumes_base: 10.0\n",
      "volumes: [ 1.   0.9  0.8  0.7  0.6  0.5  0.4  0.3  0.2  0.1]\n",
      "V:  100\n"
     ]
    },
    {
     "name": "stderr",
     "output_type": "stream",
     "text": [
      "\u001b[A"
     ]
    },
    {
     "name": "stdout",
     "output_type": "stream",
     "text": [
      "['1.00', 1] -1.0 0.938119193652 ['0.00', 0]\n",
      "['1.00', 1] -0.4 0.938119193652 ['0.00', 0]\n",
      "['1.00', 1] 0.2 0.938119193652 ['0.00', 0]\n",
      "['1.00', 1] 0.8 0.938119193652 ['0.00', 0]\n",
      "['1.00', 1] 1.4 0.938119193652 ['0.00', 0]\n"
     ]
    },
    {
     "name": "stderr",
     "output_type": "stream",
     "text": [
      "../helper/orderbook_container.py:21: SettingWithCopyWarning: \n",
      "A value is trying to be set on a copy of a slice from a DataFrame\n",
      "\n",
      "See the caveats in the documentation: http://pandas.pydata.org/pandas-docs/stable/indexing.html#indexing-view-versus-copy\n",
      "  self.bids.sort_index(inplace=True, ascending=False)\n"
     ]
    },
    {
     "name": "stdout",
     "output_type": "stream",
     "text": [
      "['1.00', 1] 2.0 0.938119193652 ['0.00', 0]\n",
      "['1.00', 1] 2.6 0.424431000136 ['0.00', 0]\n",
      "['1.00', 1] 3.2 0.263732040578 ['0.00', 0]\n",
      "['1.00', 1] 3.8 0.186049083874 ['0.00', 0]\n",
      "['1.00', 1] 4.4 0.198646473392 ['0.00', 0]\n",
      "['1.00', 1] 5.0 0.199439127685 ['0.00', 0]\n",
      "['0.90', 1] -1.0 0.799518194562 ['0.00', 0]\n",
      "['0.90', 1] -0.4 0.799518194562 ['0.00', 0]\n",
      "['0.90', 1] 0.2 0.799518194562 ['0.00', 0]\n"
     ]
    },
    {
     "name": "stderr",
     "output_type": "stream",
     "text": [
      "\n"
     ]
    },
    {
     "ename": "KeyboardInterrupt",
     "evalue": "",
     "output_type": "error",
     "traceback": [
      "\u001b[0;31m---------------------------------------------------------------------------\u001b[0m",
      "\u001b[0;31mKeyboardInterrupt\u001b[0m                         Traceback (most recent call last)",
      "\u001b[0;32m<ipython-input-19-ceff233f807f>\u001b[0m in \u001b[0;36m<module>\u001b[0;34m()\u001b[0m\n\u001b[1;32m      1\u001b[0m \u001b[0mV\u001b[0m \u001b[0;34m=\u001b[0m \u001b[0;36m100\u001b[0m\u001b[0;34m\u001b[0m\u001b[0m\n\u001b[1;32m      2\u001b[0m \u001b[0mprint\u001b[0m\u001b[0;34m(\u001b[0m\u001b[0;34m\"V={}, T={}, P={}\"\u001b[0m\u001b[0;34m.\u001b[0m\u001b[0mformat\u001b[0m\u001b[0;34m(\u001b[0m\u001b[0mV\u001b[0m\u001b[0;34m,\u001b[0m \u001b[0mT\u001b[0m\u001b[0;34m,\u001b[0m \u001b[0mP\u001b[0m\u001b[0;34m)\u001b[0m\u001b[0;34m)\u001b[0m\u001b[0;34m\u001b[0m\u001b[0m\n\u001b[0;32m----> 3\u001b[0;31m \u001b[0mql\u001b[0m \u001b[0;34m=\u001b[0m \u001b[0moptimal_strategy\u001b[0m\u001b[0;34m(\u001b[0m\u001b[0mV\u001b[0m\u001b[0;34m=\u001b[0m\u001b[0mV\u001b[0m\u001b[0;34m,\u001b[0m \u001b[0mT\u001b[0m\u001b[0;34m=\u001b[0m\u001b[0mT\u001b[0m\u001b[0;34m,\u001b[0m \u001b[0mperiod_length\u001b[0m\u001b[0;34m=\u001b[0m\u001b[0mP\u001b[0m\u001b[0;34m,\u001b[0m \u001b[0mvol_intervals\u001b[0m\u001b[0;34m=\u001b[0m\u001b[0;36m10\u001b[0m\u001b[0;34m,\u001b[0m \u001b[0mactions\u001b[0m\u001b[0;34m=\u001b[0m\u001b[0mactions\u001b[0m\u001b[0;34m)\u001b[0m\u001b[0;34m\u001b[0m\u001b[0m\n\u001b[0m\u001b[1;32m      4\u001b[0m \u001b[0mql\u001b[0m\u001b[0;34m.\u001b[0m\u001b[0mplot_Q\u001b[0m\u001b[0;34m(\u001b[0m\u001b[0mz_represents\u001b[0m\u001b[0;34m=\u001b[0m\u001b[0;34m'action'\u001b[0m\u001b[0;34m)\u001b[0m\u001b[0;34m\u001b[0m\u001b[0m\n\u001b[1;32m      5\u001b[0m \u001b[0mql\u001b[0m\u001b[0;34m.\u001b[0m\u001b[0mplot_Q\u001b[0m\u001b[0;34m(\u001b[0m\u001b[0mz_represents\u001b[0m\u001b[0;34m=\u001b[0m\u001b[0;34m'Q'\u001b[0m\u001b[0;34m)\u001b[0m\u001b[0;34m\u001b[0m\u001b[0m\n",
      "\u001b[0;32m<ipython-input-18-90e9adda92cf>\u001b[0m in \u001b[0;36moptimal_strategy\u001b[0;34m(V, T, period_length, vol_intervals, actions, verbose)\u001b[0m\n\u001b[1;32m     41\u001b[0m                         \u001b[0mlimit\u001b[0m \u001b[0;34m=\u001b[0m \u001b[0mcenter\u001b[0m \u001b[0;34m+\u001b[0m \u001b[0ma\u001b[0m\u001b[0;34m\u001b[0m\u001b[0m\n\u001b[1;32m     42\u001b[0m \u001b[0;34m\u001b[0m\u001b[0m\n\u001b[0;32m---> 43\u001b[0;31m                         \u001b[0mots\u001b[0m\u001b[0;34m.\u001b[0m\u001b[0mtrade\u001b[0m\u001b[0;34m(\u001b[0m\u001b[0mlimit\u001b[0m \u001b[0;34m=\u001b[0m \u001b[0mlimit\u001b[0m\u001b[0;34m)\u001b[0m  \u001b[0;31m# agression_factor=a)\u001b[0m\u001b[0;34m\u001b[0m\u001b[0m\n\u001b[0m\u001b[1;32m     44\u001b[0m \u001b[0;34m\u001b[0m\u001b[0m\n\u001b[1;32m     45\u001b[0m                         \u001b[0mvolume_left\u001b[0m \u001b[0;34m=\u001b[0m \u001b[0mots\u001b[0m\u001b[0;34m.\u001b[0m\u001b[0mvolume\u001b[0m\u001b[0;34m\u001b[0m\u001b[0m\n",
      "\u001b[0;32m/home/axel/notebooks/orderbook_agent/1_version2/helper/orderbook_trader.py\u001b[0m in \u001b[0;36mtrade\u001b[0;34m(self, limit, agression_factor, verbose, extrainfo)\u001b[0m\n\u001b[1;32m    178\u001b[0m \u001b[0;34m\u001b[0m\u001b[0m\n\u001b[1;32m    179\u001b[0m             \u001b[0;31m# perform trade\u001b[0m\u001b[0;34m\u001b[0m\u001b[0;34m\u001b[0m\u001b[0m\n\u001b[0;32m--> 180\u001b[0;31m             \u001b[0mtrade_result\u001b[0m \u001b[0;34m=\u001b[0m \u001b[0mself\u001b[0m\u001b[0;34m.\u001b[0m\u001b[0m__perform_trade\u001b[0m\u001b[0;34m(\u001b[0m\u001b[0mob\u001b[0m\u001b[0;34m,\u001b[0m \u001b[0mlimit\u001b[0m\u001b[0;34m=\u001b[0m\u001b[0mlimit\u001b[0m\u001b[0;34m)\u001b[0m\u001b[0;34m\u001b[0m\u001b[0m\n\u001b[0m\u001b[1;32m    181\u001b[0m \u001b[0;34m\u001b[0m\u001b[0m\n\u001b[1;32m    182\u001b[0m             \u001b[0minfo\u001b[0m\u001b[0;34m.\u001b[0m\u001b[0mcashflow\u001b[0m \u001b[0;34m+=\u001b[0m \u001b[0mtrade_result\u001b[0m\u001b[0;34m[\u001b[0m\u001b[0;34m'cashflow'\u001b[0m\u001b[0;34m]\u001b[0m\u001b[0;34m\u001b[0m\u001b[0m\n",
      "\u001b[0;32m/home/axel/notebooks/orderbook_agent/1_version2/helper/orderbook_trader.py\u001b[0m in \u001b[0;36m__perform_trade\u001b[0;34m(self, orderbook, limit, simulation)\u001b[0m\n\u001b[1;32m    262\u001b[0m \u001b[0;34m\u001b[0m\u001b[0m\n\u001b[1;32m    263\u001b[0m             \u001b[0;31m# remember trade activity\u001b[0m\u001b[0;34m\u001b[0m\u001b[0;34m\u001b[0m\u001b[0m\n\u001b[0;32m--> 264\u001b[0;31m             \u001b[0minfo\u001b[0m\u001b[0;34m[\u001b[0m\u001b[0;34m'trade_summary'\u001b[0m\u001b[0;34m]\u001b[0m \u001b[0;34m=\u001b[0m \u001b[0minfo\u001b[0m\u001b[0;34m[\u001b[0m\u001b[0;34m'trade_summary'\u001b[0m\u001b[0;34m]\u001b[0m\u001b[0;34m.\u001b[0m\u001b[0mappend\u001b[0m\u001b[0;34m(\u001b[0m\u001b[0mpd\u001b[0m\u001b[0;34m.\u001b[0m\u001b[0mDataFrame\u001b[0m\u001b[0;34m(\u001b[0m\u001b[0;34m{\u001b[0m\u001b[0;34m'Amount'\u001b[0m\u001b[0;34m:\u001b[0m \u001b[0mcurrent_order_volume\u001b[0m\u001b[0;34m}\u001b[0m\u001b[0;34m,\u001b[0m \u001b[0mindex\u001b[0m\u001b[0;34m=\u001b[0m\u001b[0;34m[\u001b[0m\u001b[0mprice\u001b[0m\u001b[0;34m]\u001b[0m\u001b[0;34m)\u001b[0m\u001b[0;34m)\u001b[0m\u001b[0;34m\u001b[0m\u001b[0m\n\u001b[0m\u001b[1;32m    265\u001b[0m \u001b[0;34m\u001b[0m\u001b[0m\n\u001b[1;32m    266\u001b[0m             \u001b[0minfo\u001b[0m\u001b[0;34m[\u001b[0m\u001b[0;34m'cashflow'\u001b[0m\u001b[0;34m]\u001b[0m \u001b[0;34m+=\u001b[0m \u001b[0mcurrent_order_volume\u001b[0m \u001b[0;34m*\u001b[0m \u001b[0mprice\u001b[0m \u001b[0;34m*\u001b[0m \u001b[0mself\u001b[0m\u001b[0;34m.\u001b[0m\u001b[0morder_direction\u001b[0m\u001b[0;34m\u001b[0m\u001b[0m\n",
      "\u001b[0;32m/home/axel/anaconda3/lib/python3.6/site-packages/pandas/core/frame.py\u001b[0m in \u001b[0;36mappend\u001b[0;34m(self, other, ignore_index, verify_integrity)\u001b[0m\n\u001b[1;32m   4433\u001b[0m             \u001b[0mto_concat\u001b[0m \u001b[0;34m=\u001b[0m \u001b[0;34m[\u001b[0m\u001b[0mself\u001b[0m\u001b[0;34m,\u001b[0m \u001b[0mother\u001b[0m\u001b[0;34m]\u001b[0m\u001b[0;34m\u001b[0m\u001b[0m\n\u001b[1;32m   4434\u001b[0m         return concat(to_concat, ignore_index=ignore_index,\n\u001b[0;32m-> 4435\u001b[0;31m                       verify_integrity=verify_integrity)\n\u001b[0m\u001b[1;32m   4436\u001b[0m \u001b[0;34m\u001b[0m\u001b[0m\n\u001b[1;32m   4437\u001b[0m     def join(self, other, on=None, how='left', lsuffix='', rsuffix='',\n",
      "\u001b[0;32m/home/axel/anaconda3/lib/python3.6/site-packages/pandas/tools/merge.py\u001b[0m in \u001b[0;36mconcat\u001b[0;34m(objs, axis, join, join_axes, ignore_index, keys, levels, names, verify_integrity, copy)\u001b[0m\n\u001b[1;32m   1450\u001b[0m                        \u001b[0mverify_integrity\u001b[0m\u001b[0;34m=\u001b[0m\u001b[0mverify_integrity\u001b[0m\u001b[0;34m,\u001b[0m\u001b[0;34m\u001b[0m\u001b[0m\n\u001b[1;32m   1451\u001b[0m                        copy=copy)\n\u001b[0;32m-> 1452\u001b[0;31m     \u001b[0;32mreturn\u001b[0m \u001b[0mop\u001b[0m\u001b[0;34m.\u001b[0m\u001b[0mget_result\u001b[0m\u001b[0;34m(\u001b[0m\u001b[0;34m)\u001b[0m\u001b[0;34m\u001b[0m\u001b[0m\n\u001b[0m\u001b[1;32m   1453\u001b[0m \u001b[0;34m\u001b[0m\u001b[0m\n\u001b[1;32m   1454\u001b[0m \u001b[0;34m\u001b[0m\u001b[0m\n",
      "\u001b[0;32m/home/axel/anaconda3/lib/python3.6/site-packages/pandas/tools/merge.py\u001b[0m in \u001b[0;36mget_result\u001b[0;34m(self)\u001b[0m\n\u001b[1;32m   1641\u001b[0m \u001b[0;34m\u001b[0m\u001b[0m\n\u001b[1;32m   1642\u001b[0m                     \u001b[0mobj_labels\u001b[0m \u001b[0;34m=\u001b[0m \u001b[0mmgr\u001b[0m\u001b[0;34m.\u001b[0m\u001b[0maxes\u001b[0m\u001b[0;34m[\u001b[0m\u001b[0max\u001b[0m\u001b[0;34m]\u001b[0m\u001b[0;34m\u001b[0m\u001b[0m\n\u001b[0;32m-> 1643\u001b[0;31m                     \u001b[0;32mif\u001b[0m \u001b[0;32mnot\u001b[0m \u001b[0mnew_labels\u001b[0m\u001b[0;34m.\u001b[0m\u001b[0mequals\u001b[0m\u001b[0;34m(\u001b[0m\u001b[0mobj_labels\u001b[0m\u001b[0;34m)\u001b[0m\u001b[0;34m:\u001b[0m\u001b[0;34m\u001b[0m\u001b[0m\n\u001b[0m\u001b[1;32m   1644\u001b[0m                         \u001b[0mindexers\u001b[0m\u001b[0;34m[\u001b[0m\u001b[0max\u001b[0m\u001b[0;34m]\u001b[0m \u001b[0;34m=\u001b[0m \u001b[0mobj_labels\u001b[0m\u001b[0;34m.\u001b[0m\u001b[0mreindex\u001b[0m\u001b[0;34m(\u001b[0m\u001b[0mnew_labels\u001b[0m\u001b[0;34m)\u001b[0m\u001b[0;34m[\u001b[0m\u001b[0;36m1\u001b[0m\u001b[0;34m]\u001b[0m\u001b[0;34m\u001b[0m\u001b[0m\n\u001b[1;32m   1645\u001b[0m \u001b[0;34m\u001b[0m\u001b[0m\n",
      "\u001b[0;32m/home/axel/anaconda3/lib/python3.6/site-packages/pandas/indexes/base.py\u001b[0m in \u001b[0;36mequals\u001b[0;34m(self, other)\u001b[0m\n\u001b[1;32m   1651\u001b[0m             \u001b[0;32mreturn\u001b[0m \u001b[0;32mFalse\u001b[0m\u001b[0;34m\u001b[0m\u001b[0m\n\u001b[1;32m   1652\u001b[0m \u001b[0;34m\u001b[0m\u001b[0m\n\u001b[0;32m-> 1653\u001b[0;31m         \u001b[0;32mif\u001b[0m \u001b[0mis_object_dtype\u001b[0m\u001b[0;34m(\u001b[0m\u001b[0mself\u001b[0m\u001b[0;34m)\u001b[0m \u001b[0;32mand\u001b[0m \u001b[0;32mnot\u001b[0m \u001b[0mis_object_dtype\u001b[0m\u001b[0;34m(\u001b[0m\u001b[0mother\u001b[0m\u001b[0;34m)\u001b[0m\u001b[0;34m:\u001b[0m\u001b[0;34m\u001b[0m\u001b[0m\n\u001b[0m\u001b[1;32m   1654\u001b[0m             \u001b[0;31m# if other is not object, use other's logic for coercion\u001b[0m\u001b[0;34m\u001b[0m\u001b[0;34m\u001b[0m\u001b[0m\n\u001b[1;32m   1655\u001b[0m             \u001b[0;32mreturn\u001b[0m \u001b[0mother\u001b[0m\u001b[0;34m.\u001b[0m\u001b[0mequals\u001b[0m\u001b[0;34m(\u001b[0m\u001b[0mself\u001b[0m\u001b[0;34m)\u001b[0m\u001b[0;34m\u001b[0m\u001b[0m\n",
      "\u001b[0;31mKeyboardInterrupt\u001b[0m: "
     ]
    }
   ],
   "source": [
    "V = 100\n",
    "print(\"V={}, T={}, P={}\".format(V, T, P))\n",
    "ql = optimal_strategy(V=V, T=T, period_length=P, vol_intervals=10, actions=actions)\n",
    "ql.plot_Q(z_represents='action')\n",
    "ql.plot_Q(z_represents='Q')"
   ]
  },
  {
   "cell_type": "code",
   "execution_count": 20,
   "metadata": {
    "collapsed": false
   },
   "outputs": [
    {
     "ename": "NameError",
     "evalue": "name 'ql' is not defined",
     "output_type": "error",
     "traceback": [
      "\u001b[0;31m---------------------------------------------------------------------------\u001b[0m",
      "\u001b[0;31mNameError\u001b[0m                                 Traceback (most recent call last)",
      "\u001b[0;32m<ipython-input-20-944a8a755dbd>\u001b[0m in \u001b[0;36m<module>\u001b[0;34m()\u001b[0m\n\u001b[0;32m----> 1\u001b[0;31m \u001b[0mql\u001b[0m\u001b[0;34m.\u001b[0m\u001b[0mplot_Q\u001b[0m\u001b[0;34m(\u001b[0m\u001b[0mz_represents\u001b[0m\u001b[0;34m=\u001b[0m\u001b[0;34m'action'\u001b[0m\u001b[0;34m)\u001b[0m\u001b[0;34m\u001b[0m\u001b[0m\n\u001b[0m\u001b[1;32m      2\u001b[0m \u001b[0mql\u001b[0m\u001b[0;34m.\u001b[0m\u001b[0mplot_Q\u001b[0m\u001b[0;34m(\u001b[0m\u001b[0mz_represents\u001b[0m\u001b[0;34m=\u001b[0m\u001b[0;34m'Q'\u001b[0m\u001b[0;34m)\u001b[0m\u001b[0;34m\u001b[0m\u001b[0m\n",
      "\u001b[0;31mNameError\u001b[0m: name 'ql' is not defined"
     ]
    }
   ],
   "source": [
    "ql.plot_Q(z_represents='action')\n",
    "ql.plot_Q(z_represents='Q')"
   ]
  },
  {
   "cell_type": "code",
   "execution_count": 21,
   "metadata": {
    "collapsed": false,
    "scrolled": false
   },
   "outputs": [
    {
     "ename": "TypeError",
     "evalue": "load() takes 1 positional argument but 2 were given",
     "output_type": "error",
     "traceback": [
      "\u001b[0;31m---------------------------------------------------------------------------\u001b[0m",
      "\u001b[0;31mTypeError\u001b[0m                                 Traceback (most recent call last)",
      "\u001b[0;32m<ipython-input-21-d7a913716513>\u001b[0m in \u001b[0;36m<module>\u001b[0;34m()\u001b[0m\n\u001b[1;32m      4\u001b[0m \u001b[0mql\u001b[0m \u001b[0;34m=\u001b[0m \u001b[0mQLearn\u001b[0m\u001b[0;34m(\u001b[0m\u001b[0mactions\u001b[0m \u001b[0;34m=\u001b[0m \u001b[0mactions\u001b[0m\u001b[0;34m,\u001b[0m \u001b[0mvol_intervals\u001b[0m\u001b[0;34m=\u001b[0m\u001b[0;36m10\u001b[0m\u001b[0;34m)\u001b[0m\u001b[0;34m\u001b[0m\u001b[0m\n\u001b[1;32m      5\u001b[0m \u001b[0;31m# ql = ql.load(\"pickles/Q_function_e375_T4_P2_V200\")\u001b[0m\u001b[0;34m\u001b[0m\u001b[0;34m\u001b[0m\u001b[0m\n\u001b[0;32m----> 6\u001b[0;31m \u001b[0mql\u001b[0m \u001b[0;34m=\u001b[0m \u001b[0mql\u001b[0m\u001b[0;34m.\u001b[0m\u001b[0mload\u001b[0m\u001b[0;34m(\u001b[0m\u001b[0;34m\"pickles/Q_function_e12_T4_P15_V100_I10\"\u001b[0m\u001b[0;34m)\u001b[0m\u001b[0;34m\u001b[0m\u001b[0m\n\u001b[0m\u001b[1;32m      7\u001b[0m \u001b[0mql\u001b[0m\u001b[0;34m.\u001b[0m\u001b[0mplot_Q\u001b[0m\u001b[0;34m(\u001b[0m\u001b[0mV\u001b[0m\u001b[0;34m,\u001b[0m \u001b[0mT\u001b[0m\u001b[0;34m,\u001b[0m \u001b[0mz_represents\u001b[0m\u001b[0;34m=\u001b[0m\u001b[0;34m'action'\u001b[0m\u001b[0;34m)\u001b[0m\u001b[0;34m\u001b[0m\u001b[0m\n\u001b[1;32m      8\u001b[0m \u001b[0mql\u001b[0m\u001b[0;34m.\u001b[0m\u001b[0mplot_Q\u001b[0m\u001b[0;34m(\u001b[0m\u001b[0mV\u001b[0m\u001b[0;34m,\u001b[0m \u001b[0mT\u001b[0m\u001b[0;34m,\u001b[0m \u001b[0mz_represents\u001b[0m\u001b[0;34m=\u001b[0m\u001b[0;34m'Q'\u001b[0m\u001b[0;34m)\u001b[0m\u001b[0;34m\u001b[0m\u001b[0m\n",
      "\u001b[0;31mTypeError\u001b[0m: load() takes 1 positional argument but 2 were given"
     ]
    }
   ],
   "source": [
    "V=100\n",
    "T=4\n",
    "# P=15\n",
    "ql = QLearn(actions = actions, vol_intervals=10)\n",
    "# ql = ql.load(\"pickles/Q_function_e375_T4_P2_V200\")\n",
    "ql = ql.load(\"pickles/Q_function_e12_T4_P15_V100_I10\")\n",
    "ql.plot_Q(V, T, z_represents='action')\n",
    "ql.plot_Q(V, T, z_represents='Q')\n",
    "\n",
    "print(ql)\n",
    "# ql.plot_Q(V, T, z_represents='both')\n",
    "\n",
    "# for key in sorted(ql.q)[::-1]:\n",
    "#     print(\"\")\n",
    "#     print(key)\n",
    "#     print(ql.q[key])"
   ]
  },
  {
   "cell_type": "code",
   "execution_count": null,
   "metadata": {
    "collapsed": false,
    "scrolled": false
   },
   "outputs": [],
   "source": [
    "def run_Q(V, H, T, ql, episode_windows):\n",
    "    costs_list = []\n",
    "    period_length = int(H/T)\n",
    "\n",
    "    for episode in tqdm(episode_windows):\n",
    "        costs = {}\n",
    "        volume = V\n",
    "        \n",
    "        ## Learned strategy\n",
    "        ots = OrderbookTradingSimulator(orderbooks=episode, volume=volume, tradingperiods=T,\n",
    "                                        period_length=period_length)\n",
    "        for tt in range(1, T+1, 1)[::-1]:\n",
    "            new_vol = round_custombase(ots.volume, base=ql.vol_intervals)    \n",
    "            if new_vol > 0:\n",
    "                state = state_as_string(time_left=tt, volume_left=new_vol/V)  #, orderbook=ots.get_next_masterbook())\n",
    "                action = ql.chooseAction(state)\n",
    "\n",
    "                # print(state, action)\n",
    "                obs = episode[period_length * (T-tt)].copy()\n",
    "                # obs = [elem.copy() for elem in obs_]\n",
    "            \n",
    "                ask = obs.get_ask()\n",
    "                # center = ots.masterbook.get_center()\n",
    "                limit = ask * (1. + (action/100.))\n",
    "            else:\n",
    "                # theoreticall done\n",
    "                limit == None\n",
    "            ots.trade(limit = limit, extrainfo={'ACTION':action})\n",
    "        costs['learned'] = ots.history.cost.sum()\n",
    "        # print(\"learned\")\n",
    "        # display(ots.history)\n",
    "        \n",
    "        ## limit + 1\n",
    "        a=0.1\n",
    "        lim = episode[0].get_ask() * (1. + (a/100.))\n",
    "        # print(\"\\n### Fixed limit at: {} (ASK+4) ###\".format(lim))\n",
    "        ots = OrderbookTradingSimulator(orderbooks=episode, volume=volume, tradingperiods=T,\n",
    "                                        period_length=period_length)\n",
    "        for i in range(T):\n",
    "            ots.trade(limit = lim)\n",
    "        costs['ask*1.001'] = ots.history.cost.sum()\n",
    "        \n",
    "        \n",
    "        ## limit + 2.5\n",
    "        a=0.2\n",
    "        lim = episode[0].get_ask() * (1. + (a/100.))\n",
    "        ots = OrderbookTradingSimulator(orderbooks=episode, volume=volume, tradingperiods=T,\n",
    "                                        period_length=period_length)\n",
    "        for i in range(T):\n",
    "            ots.trade(limit = lim)\n",
    "        costs['ask*1.002'] = ots.history.cost.sum()\n",
    "        # print(\"1.002\")\n",
    "        # display(ots.history)\n",
    "        \n",
    "        \n",
    "        ## limit + 3\n",
    "        lim = episode[0].get_ask()\n",
    "        ots = OrderbookTradingSimulator(orderbooks=episode, volume=volume, tradingperiods=T,\n",
    "                                        period_length=period_length)\n",
    "        for i in range(T):\n",
    "            ots.trade(limit = lim)\n",
    "        costs['ask*1'] = ots.history.cost.sum()\n",
    "        \n",
    "        ## limit + 4\n",
    "        a=0.5\n",
    "        lim = episode[0].get_ask() * (1. + (a/100.))\n",
    "        # print(\"\\n### Fixed limit at: {} (ASK+4) ###\".format(lim))\n",
    "        ots = OrderbookTradingSimulator(orderbooks=episode, volume=volume, tradingperiods=T,\n",
    "                                        period_length=period_length)\n",
    "        for i in range(T):\n",
    "            ots.trade(limit = lim)\n",
    "        costs['ask*1.005'] = ots.history.cost.sum()\n",
    "        \n",
    "        \n",
    "        ## market order\n",
    "        ots = OrderbookTradingSimulator(orderbooks=episode, volume=volume, tradingperiods=T,\n",
    "                                        period_length=period_length)\n",
    "        ots.trade(limit = None)\n",
    "        costs['market'] = ots.history.cost.sum()\n",
    "        \n",
    "        \n",
    "        costs_list.append(costs)\n",
    "        \n",
    "    return costs_list\n",
    "        \n",
    "print(\"T={}, P={}\".format(T, P))\n",
    "print(ql.q.keys())\n",
    "costs_list_val = run_Q(V=100, H=T*P, T=T, ql=ql, episode_windows = episode_windows_val)\n",
    "costs_list_train = run_Q(V=100, H=T*P, T=T, ql=ql, episode_windows = episode_windows_train)"
   ]
  },
  {
   "cell_type": "code",
   "execution_count": null,
   "metadata": {
    "collapsed": false,
    "scrolled": false
   },
   "outputs": [],
   "source": [
    "V=30\n",
    "T=5\n",
    "P=2\n",
    "\n",
    "train_RL(V=V, T=T, P=P, epochs=300, verbose=False, log=True)"
   ]
  },
  {
   "cell_type": "code",
   "execution_count": null,
   "metadata": {
    "collapsed": false
   },
   "outputs": [],
   "source": [
    "visualize_Q(model, actions, V, T)"
   ]
  },
  {
   "cell_type": "code",
   "execution_count": null,
   "metadata": {
    "collapsed": false,
    "scrolled": false
   },
   "outputs": [],
   "source": [
    "def run(V, T, P, epochs=1, overwrite_actions=None):\n",
    "    for i_episode in range(epochs):\n",
    "        obs = episode_windows[0]  # episode_windows[i]  # Testcase with always the same, identical episode_window\n",
    "\n",
    "        ots = OrderbookTradingSimulator(volume=V, tradingperiods=T, period_length=P)\n",
    "\n",
    "        time_left = P*T\n",
    "        volume = V\n",
    "\n",
    "        state = np.array([time_left, volume])  # , volume])\n",
    "        # state = discretize_state(state)\n",
    "\n",
    "        acc_cost = 0\n",
    "        for step in range(T):\n",
    "            qval = model.predict(state.reshape(1, STATE_DIM))\n",
    "            \n",
    "            action = actions[np.argmin(qval)]\n",
    "            \n",
    "            if overwrite_actions and step < len(overwrite_actions):\n",
    "                action = overwrite_actions[step]\n",
    "\n",
    "            ob = obs[step*P]\n",
    "\n",
    "            orderbooks = obs[step*P:(step+1)*P]\n",
    "            # info = ots.trade(orderbooks, limit=lim, verbose=False)\n",
    "            info = ots.trade(orderbooks, agression_factor=action, verbose=False, extrainfo={'ACTION':action})\n",
    "\n",
    "            time_left -= 1\n",
    "            volume = ots.volume\n",
    "            new_state = np.array([time_left, volume])  # , volume])\n",
    "            cost = ots.history.cost.values[-1]\n",
    "\n",
    "            acc_cost += cost\n",
    "\n",
    "            state = new_state\n",
    "            if volume == 0:\n",
    "                break\n",
    "\n",
    "        info = \"{:4d}/{}: acc_cost: {:0.5f}, steps: {} (t={})\"\\\n",
    "                .format(i_episode+1, epochs, acc_cost, step, ots.t)\n",
    "        print(info)\n",
    "    return ots.history\n",
    "hist = run(V=V, T=T, P=P)  #, overwrite_actions=[0,0,0,0,0,0,0,0,0])\n",
    "display(hist)\n",
    "hist = run(V=V, T=T, P=P, overwrite_actions=[0.24]*10)\n",
    "display(hist)"
   ]
  },
  {
   "cell_type": "code",
   "execution_count": null,
   "metadata": {
    "collapsed": false
   },
   "outputs": [],
   "source": [
    "plot_episode(episode_windows[3], volume=50, figsize=(5,3))\n",
    "episode_windows[3][90].plot(range_factor=1.015, figsize=(5,3))"
   ]
  },
  {
   "cell_type": "code",
   "execution_count": null,
   "metadata": {
    "collapsed": false
   },
   "outputs": [],
   "source": [
    "def show_plots(x):\n",
    "    # episode_windows[3][x].plot(range_factor=1.015, figsize=(5,3))\n",
    "    return x\n",
    "\n",
    "from ipywidgets import interact\n",
    "interact(show_plots, x=5)"
   ]
  },
  {
   "cell_type": "code",
   "execution_count": null,
   "metadata": {
    "collapsed": false
   },
   "outputs": [],
   "source": [
    "print(len(obs))\n",
    "for vol in [1, 50, 100]:\n",
    "    market_order_price = []\n",
    "    ask_price = []\n",
    "    for i, ob in enumerate(obs):\n",
    "        market_order_price.append(ob.get_current_price(volume=vol))\n",
    "        ask_price.append(vol*ob.get_ask())\n",
    "\n",
    "    plt.plot(market_order_price, color='blue', marker='o', label='market order price')\n",
    "    plt.plot(ask_price, color='red', marker='*', label='ask price')\n",
    "                         \n",
    "                         \n",
    "    \n",
    "    plt.title(\"Market order price for {} shares\".format(vol))\n",
    "    plt.ylabel(\"price\")\n",
    "    plt.xlabel(\"time\")\n",
    "    plt.legend(loc='best')\n",
    "    plt.xlim((-1,21))\n",
    "    plt.show()"
   ]
  },
  {
   "cell_type": "code",
   "execution_count": null,
   "metadata": {
    "collapsed": true
   },
   "outputs": [],
   "source": []
  }
 ],
 "metadata": {
  "kernelspec": {
   "display_name": "Python 3",
   "language": "python",
   "name": "python3"
  },
  "language_info": {
   "codemirror_mode": {
    "name": "ipython",
    "version": 3
   },
   "file_extension": ".py",
   "mimetype": "text/x-python",
   "name": "python",
   "nbconvert_exporter": "python",
   "pygments_lexer": "ipython3",
   "version": "3.6.0"
  }
 },
 "nbformat": 4,
 "nbformat_minor": 0
}
