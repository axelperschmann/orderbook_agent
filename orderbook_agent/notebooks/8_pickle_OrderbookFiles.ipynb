{
 "cells": [
  {
   "cell_type": "code",
   "execution_count": 7,
   "metadata": {
    "collapsed": false
   },
   "outputs": [
    {
     "name": "stdout",
     "output_type": "stream",
     "text": [
      "The autoreload extension is already loaded. To reload it, use:\n",
      "  %reload_ext autoreload\n"
     ]
    }
   ],
   "source": [
    "%load_ext autoreload\n",
    "%autoreload 2\n",
    "\n",
    "import sys\n",
    "import numpy as np\n",
    "import pandas as pd\n",
    "import pickle\n",
    "import matplotlib.pyplot as plt\n",
    "%matplotlib inline\n",
    "from IPython.display import display\n",
    "import os\n",
    "from tqdm import tqdm\n",
    "\n",
    "sys.path.append('../Runs')\n",
    "from train_QTable import optimal_strategy, run\n",
    "# from helper.Q_learning import QLearn, round_custombase\n",
    "from helper.manage_orderbooks import OrderbookEpisodesGenerator, plot_episode\n",
    "from helper.orderbook_trader import OrderbookTradingSimulator\n",
    "from agents.QTable_Agent import QTable_Agent"
   ]
  },
  {
   "cell_type": "code",
   "execution_count": 8,
   "metadata": {
    "collapsed": true
   },
   "outputs": [],
   "source": [
    "decision_points = 4\n",
    "period_length = 15"
   ]
  },
  {
   "cell_type": "markdown",
   "metadata": {},
   "source": [
    "### Single file"
   ]
  },
  {
   "cell_type": "code",
   "execution_count": 10,
   "metadata": {
    "collapsed": false
   },
   "outputs": [
    {
     "data": {
      "text/plain": [
       "743"
      ]
     },
     "execution_count": 10,
     "metadata": {},
     "output_type": "execute_result"
    }
   ],
   "source": [
    "inputfile='/home/axel/data/small/obs_2017-01_USDT_BTC_maxVol100.dict'\n",
    "episodes_train = OrderbookEpisodesGenerator(filename=inputfile,\n",
    "                                            episode_length=decision_points*period_length)\n",
    "len(episodes_train)"
   ]
  },
  {
   "cell_type": "code",
   "execution_count": null,
   "metadata": {
    "collapsed": false
   },
   "outputs": [],
   "source": [
    "data = list(episodes_train)"
   ]
  },
  {
   "cell_type": "code",
   "execution_count": 5,
   "metadata": {
    "collapsed": true
   },
   "outputs": [],
   "source": [
    "pickle.dump( data, open( \"cached_episodes_jan17.p\", \"wb\" ) )"
   ]
  },
  {
   "cell_type": "markdown",
   "metadata": {},
   "source": [
    "### Multiple files"
   ]
  },
  {
   "cell_type": "code",
   "execution_count": null,
   "metadata": {
    "collapsed": false
   },
   "outputs": [],
   "source": [
    "path = \"/home/axel/data/small\"\n",
    "data_files = [f for f in os.listdir(path) if f.endswith('.dict')]\n",
    "display(data_files)"
   ]
  },
  {
   "cell_type": "code",
   "execution_count": null,
   "metadata": {
    "collapsed": false
   },
   "outputs": [],
   "source": [
    "for inputfile in tqdm(data_files):\n",
    "    episodes_train = OrderbookEpisodesGenerator(filename=os.path.join(path, inputfile),\n",
    "                                            episode_length=decision_points*period_length)\n",
    "    \n",
    "    data = list(episodes_train)\n",
    "    \n",
    "    outputfile = \"{}.p\".format(inputfile.split(\".\")[0])\n",
    "    print(inputfile, outputfile)\n",
    "    pickle.dump( data, open( os.path.join(path, outputfile), \"wb\" ) )"
   ]
  },
  {
   "cell_type": "code",
   "execution_count": null,
   "metadata": {
    "collapsed": true
   },
   "outputs": [],
   "source": []
  }
 ],
 "metadata": {
  "kernelspec": {
   "display_name": "Python 3",
   "language": "python",
   "name": "python3"
  },
  "language_info": {
   "codemirror_mode": {
    "name": "ipython",
    "version": 3
   },
   "file_extension": ".py",
   "mimetype": "text/x-python",
   "name": "python",
   "nbconvert_exporter": "python",
   "pygments_lexer": "ipython3",
   "version": "3.6.0"
  }
 },
 "nbformat": 4,
 "nbformat_minor": 2
}
