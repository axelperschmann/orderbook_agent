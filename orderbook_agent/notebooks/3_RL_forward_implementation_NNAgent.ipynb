{
 "cells": [
  {
   "cell_type": "code",
   "execution_count": 33,
   "metadata": {},
   "outputs": [
    {
     "name": "stdout",
     "output_type": "stream",
     "text": [
      "The autoreload extension is already loaded. To reload it, use:\n",
      "  %reload_ext autoreload\n"
     ]
    }
   ],
   "source": [
    "%load_ext autoreload\n",
    "%autoreload 2\n",
    "\n",
    "import joblib\n",
    "from joblib import Parallel, delayed\n",
    "import multiprocessing\n",
    "\n",
    "from tqdm import tqdm, tqdm_notebook\n",
    "\n",
    "import pandas as pd\n",
    "import numpy as np\n",
    "import gzip\n",
    "import json\n",
    "import math\n",
    "from datetime import datetime\n",
    "import seaborn as sns\n",
    "import matplotlib.dates as mdates\n",
    "from mpl_toolkits.mplot3d import Axes3D\n",
    "from IPython.display import display\n",
    "%matplotlib inline\n",
    "import pickle, dill\n",
    "\n",
    "import sys\n",
    "sys.path.append('..')\n",
    "from helper.rl_framework import *\n",
    "from helper.orderbook_container import OrderbookContainer\n",
    "from helper.manage_orderbooks import *\n",
    "from helper.orderbook_trader import *\n",
    "from helper.evaluation import evaluate, plot_evaluation_costs\n",
    "from helper.general_helpers import add_features_to_orderbooks, load_and_preprocess_historyfiles\n",
    "\n",
    "from agents.RL_Agent_Base import RLAgent_Base\n",
    "from agents.NN_Agent import RLAgent_NN\n",
    "from agents.QTable_Agent import QTable_Agent\n",
    "from Runs.train_agents import trainer_BatchTree, trainer_NNAgent, trainer_QTable\n",
    "# from Runs.train_fromSamples import train_BatchTree_fromSamples, train_Qtable_fromSamples"
   ]
  },
  {
   "cell_type": "markdown",
   "metadata": {},
   "source": [
    "### Preprocess Data"
   ]
  },
  {
   "cell_type": "code",
   "execution_count": null,
   "metadata": {
    "collapsed": true
   },
   "outputs": [],
   "source": [
    "hist = pd.read_csv('ob_features70000_1611_1705.csv', index_col=0, parse_dates=[0])\n",
    "features = hist.columns.drop('center_orig')\n",
    "features"
   ]
  },
  {
   "cell_type": "code",
   "execution_count": 34,
   "metadata": {
    "collapsed": true
   },
   "outputs": [],
   "source": [
    "data_mini = pickle.load( open( \"cached_windows/tradingwindows_1611_USTD_BTC_20.p\", \"rb\" ) )\n",
    "for window in data_mini:\n",
    "    for ob in window:\n",
    "        ob.features = {}\n",
    "# num_cores = multiprocessing.cpu_count()\n",
    "# data_mini = joblib.Parallel(n_jobs=num_cores, verbose=10)(joblib.delayed(add_features_to_orderbooks)(\n",
    "#     orderbooks=window, hist=hist,\n",
    "#     features=features\n",
    "# ) for window in data_mini[:])\n",
    "# print(len(data_mini), len(data_mini[0]))\n",
    "# data = data_mini"
   ]
  },
  {
   "cell_type": "code",
   "execution_count": null,
   "metadata": {
    "collapsed": true
   },
   "outputs": [],
   "source": [
    "# data_nov = pickle.load( open( \"../cached_windows_60mins/obs_2016-11_USDT_BTC_maxVol100.p\", \"rb\" ) )\n",
    "# num_cores = multiprocessing.cpu_count()\n",
    "# data_nov = joblib.Parallel(n_jobs=num_cores, verbose=10)(joblib.delayed(add_features_to_orderbooks)(\n",
    "#     orderbooks=window, hist=hist,\n",
    "#     features=features\n",
    "# ) for window in data_nov[:])\n",
    "# print(len(data_nov), len(data_nov[0]))\n",
    "# data = data_nov"
   ]
  },
  {
   "cell_type": "markdown",
   "metadata": {},
   "source": [
    "### Train agents"
   ]
  },
  {
   "cell_type": "code",
   "execution_count": 31,
   "metadata": {
    "collapsed": true
   },
   "outputs": [],
   "source": [
    "data_apr = pickle.load( open( '../cached_windows_60mins_V200/obs_2017-04_USDT_BTC_maxVol200.p', \"rb\" ) )"
   ]
  },
  {
   "cell_type": "code",
   "execution_count": 35,
   "metadata": {
    "collapsed": true
   },
   "outputs": [],
   "source": [
    "data_may = pickle.load( open( '../cached_windows_60mins_V200/obs_2017-05_USDT_BTC_maxVol200.p', \"rb\" ) )"
   ]
  },
  {
   "cell_type": "code",
   "execution_count": 32,
   "metadata": {},
   "outputs": [
    {
     "name": "stdout",
     "output_type": "stream",
     "text": [
      "T: 4, P: 15, V: 70000, consume: 'cash'\n",
      "['volume', 'time', 'level2data']\n",
      "10\n",
      "Trading windows: 719 (each one: 60 minutes)\n"
     ]
    },
    {
     "name": "stderr",
     "output_type": "stream",
     "text": [
      "[Parallel(n_jobs=24)]: Done   3 out of  20 | elapsed:  3.1min remaining: 17.8min\n"
     ]
    }
   ],
   "source": [
    "T=4\n",
    "P=15\n",
    "V=70000\n",
    "consume='cash'\n",
    "state_variables = ['volume', 'time', 'level2data'] # + ['_a_{}'.format(a) for a in actions]\n",
    "print(\"T: {}, P: {}, V: {}, consume: '{}'\".format(T, P, V, consume))\n",
    "print(state_variables)\n",
    "actions = np.linspace(-0.4, 1.0, num=15)\n",
    "actions = range(-4,11)\n",
    "# actions = [0, 3, 5, 7]\n",
    "print(actions[-1])\n",
    "\n",
    "data = data_apr\n",
    "print(\"Trading windows: {} (each one: {} minutes)\".format(len(data), len(data[0])))"
   ]
  },
  {
   "cell_type": "code",
   "execution_count": null,
   "metadata": {
    "scrolled": false
   },
   "outputs": [],
   "source": [
    "agent = trainer_BatchTree(orderbooks=data[-96:], V=V, T=T, consume=consume, actions=actions,\n",
    "                    lim_stepsize=0.1, limit_base='currAsk',\n",
    "                    period_length=P, epochs=60, agent_name='BT_Agent',\n",
    "                    random_start=False, state_variables=state_variables, mode='forward', retraining=48)\n"
   ]
  },
  {
   "cell_type": "code",
   "execution_count": null,
   "metadata": {
    "collapsed": true
   },
   "outputs": [],
   "source": [
    "agent.save(path='BT_Test')"
   ]
  },
  {
   "cell_type": "code",
   "execution_count": null,
   "metadata": {
    "collapsed": true
   },
   "outputs": [],
   "source": [
    "agent.heatmap_Q(vol_intervals=5)"
   ]
  },
  {
   "cell_type": "code",
   "execution_count": null,
   "metadata": {
    "collapsed": true,
    "scrolled": false
   },
   "outputs": [],
   "source": [
    "agent.learn_fromSamples(nb_it=T+1, verbose=True, n_estimators=400, max_depth=15)"
   ]
  },
  {
   "cell_type": "code",
   "execution_count": null,
   "metadata": {
    "collapsed": true
   },
   "outputs": [],
   "source": [
    "data_may = pickle.load( open( '../cached_windows_60mins_V200/obs_2017-05_USDT_BTC_maxVol200.p', \"rb\" ) )"
   ]
  },
  {
   "cell_type": "code",
   "execution_count": null,
   "metadata": {
    "collapsed": true
   },
   "outputs": [],
   "source": [
    "agent_collection = {'BT': agent,\n",
    "                    'VolTime': RLAgent_Base.load(agent_name='QTable_1611-1704_T4_I8_VolTime', path=\"trainedAgents/longterm_1611_1704_currAsk\", ignore_samples=True)}\n",
    "\n"
   ]
  },
  {
   "cell_type": "code",
   "execution_count": null,
   "metadata": {
    "collapsed": true
   },
   "outputs": [],
   "source": [
    "data = data_may[-24:]\n",
    "# baseline = 'test_Dec24_VolTime'\n",
    "baseline = list(agent_collection.keys())[0]\n",
    "costs, slippage = evaluate(\n",
    "    testdata=data,\n",
    "    agents=agent_collection,\n",
    "    baseline=baseline,\n",
    "    evaluate_actions=[2, 4, 5, 6],\n",
    "    verbose=False\n",
    ")\n",
    "# slippage.to_csv('slippage_may_manyVars3Bins_fixedMarketVar.csv')   # slippage_apr_manyVars3Bins_simulatedTrades, fixedMarketVar\n",
    "# display(costs.describe())\n",
    "# plot_evaluation_costs(costs, hline=baseline)\n",
    "display(slippage.describe())\n",
    "#plot_evaluation_costs(slippage, hline=\"2\", showfliers=False)"
   ]
  },
  {
   "cell_type": "code",
   "execution_count": null,
   "metadata": {
    "collapsed": true
   },
   "outputs": [],
   "source": [
    "slippage.plot()"
   ]
  },
  {
   "cell_type": "code",
   "execution_count": null,
   "metadata": {
    "collapsed": true
   },
   "outputs": [],
   "source": [
    "plot_evaluation_costs(slippage.iloc[:,:], hline=\"VolTime\", showfliers=False, ylim=(0,350))"
   ]
  },
  {
   "cell_type": "code",
   "execution_count": null,
   "metadata": {
    "collapsed": true
   },
   "outputs": [],
   "source": [
    "data_may = pickle.load(open(\"data_may_fixedMarketVar.p\", \"rb\"))"
   ]
  },
  {
   "cell_type": "code",
   "execution_count": null,
   "metadata": {
    "collapsed": true
   },
   "outputs": [],
   "source": [
    "data = data_may[:]\n",
    "# baseline = 'test_Dec24_VolTime'\n",
    "baseline = list(agent_collection.keys())[0]\n",
    "costs, slippage = evaluate(\n",
    "    testdata=data[:24],\n",
    "    agents=agent_collection,\n",
    "    baseline=baseline,\n",
    "    evaluate_actions=[2, 4],\n",
    "    verbose=False\n",
    ")\n",
    "display(slippage.describe())\n"
   ]
  },
  {
   "cell_type": "markdown",
   "metadata": {},
   "source": [
    "##### QTable Agent"
   ]
  },
  {
   "cell_type": "code",
   "execution_count": null,
   "metadata": {
    "collapsed": true,
    "scrolled": false
   },
   "outputs": [],
   "source": [
    "### QTable Agent\n",
    "data = data_dec\n",
    "T=4\n",
    "P=15\n",
    "agent = trainer_QTable(orderbooks=data[:24], V=V, T=T, consume=consume, actions=[round(a, 2) for a in actions],\n",
    "                    limit_base='incStepUnits', vol_intervals=4,\n",
    "                    period_length=P, agent_name='test2_Dec24_VolTime',\n",
    "                    state_variables=['volume', 'time'], mode='backward')\n",
    "agent.save(path=\"trainedAgents\", overwrite=True)"
   ]
  },
  {
   "cell_type": "code",
   "execution_count": null,
   "metadata": {
    "collapsed": true
   },
   "outputs": [],
   "source": [
    "agent.heatmap_Q()"
   ]
  },
  {
   "cell_type": "code",
   "execution_count": null,
   "metadata": {
    "collapsed": true
   },
   "outputs": [],
   "source": [
    "### QTable Agent\n",
    "# agent_VolTime = trainer_QTable(orderbooks=data[:1], V=V, T=T, consume=consume, actions=[round(a, 2) for a in actions],\n",
    "#                     limit_base='incStepUnits', vol_intervals=4,\n",
    "#                     period_length=P, agent_name='VolTime_Dec0:96_I4',\n",
    "#                     state_variables=['volume', 'time'], mode='backward')\n",
    "agent_VolTime.samples = agent.samples\n",
    "agent_VolTime.learn_fromSamples(reset_brain=True)\n",
    "agent_VolTime.save(path=\"trainedAgents\", overwrite=True)"
   ]
  },
  {
   "cell_type": "code",
   "execution_count": null,
   "metadata": {
    "collapsed": true,
    "scrolled": false
   },
   "outputs": [],
   "source": [
    "### BatchTree Agent\n",
    "random.seed(13)\n",
    "np.random.seed(13)\n",
    "agent = trainer_BatchTree(orderbooks=data[:1], V=V, T=T, consume=consume, actions=actions,\n",
    "                    lim_stepsize=0.1, limit_base='incStepUnits',\n",
    "                    period_length=P, epochs=40, agent_name='BT_60min_VolTimeDir_Dec0:96_nogauss', guiding_agent=None,\n",
    "                    random_start=False, state_variables=['volume', 'time', 'direction'], mode='forward')\n",
    "agent.save(path=\"trainedAgents\", overwrite=True)"
   ]
  },
  {
   "cell_type": "code",
   "execution_count": null,
   "metadata": {
    "collapsed": true,
    "scrolled": false
   },
   "outputs": [],
   "source": [
    "random.seed(13)\n",
    "np.random.seed(13)\n",
    "data[0][0].timestamp\n",
    "\n",
    "actions = np.linspace(-0.4, 1.0, num=15)\n",
    "actions = range(-4,11)\n",
    "\n",
    "experiments = {\n",
    "    # 'VolTime_noGuide': ['volume', 'time'],\n",
    "    'VolTime': ['volume', 'time', 'direction'],\n",
    "    # 'VolTime_45actions': ['volume', 'time'],\n",
    "    # 'VolTime_400est20depth_incStepUnits_noGuide': ['volume', 'time'],\n",
    "    # 'VolTimeSpread': ['volume', 'time', 'spread'],\n",
    "    #'fut15_market_100est': ['volume', 'time', 'future15_market', 'shares', 'spread', 'future15'],\n",
    "    #'fut15_market_400est20depth': ['volume', 'time', 'future15_market', 'shares', 'spread', 'future15'],\n",
    "    # 'fut15_ob': ['volume', 'time', 'future15_ob'],\n",
    "    #'fut15': ['volume', 'time', 'future15'],\n",
    "    # 'manySamplesVolTime': ['volume', 'time']\n",
    "}\n",
    "\n",
    "try:\n",
    "    agent_collection\n",
    "    print(\"agent_collection contains: {}\".format(list(agent_collection.keys())))\n",
    "except NameError:\n",
    "    agent_collection = {}\n",
    "    \n",
    "    \n",
    "for delete in ['VolTimeShares_400est20depth_currAsk']:\n",
    "    if delete in agent_collection.keys():\n",
    "        del(agent_collection[delete])\n",
    "\n",
    "for agent_name in tqdm(experiments.keys()):\n",
    "    if agent_name in agent_collection.keys():\n",
    "        # skip training agent again\n",
    "        continue\n",
    "        \n",
    "    random.seed(13)\n",
    "    np.random.seed(13)\n",
    "\n",
    "    state_variables = experiments[agent_name]\n",
    "    print(agent_name, state_variables)\n",
    "    # limit_base = 'currAsk',  'agression',   'init_center',   'incStepUnits'\n",
    "    agent = trainer_BatchTree(orderbooks=data[:1], V=V, T=T, consume=consume, actions=actions,\n",
    "                    lim_stepsize=0.1, limit_base='incStepUnits',\n",
    "                    period_length=P, epochs=4, agent_name=agent_name, guiding_agent=None,\n",
    "                    random_start=False, state_variables=state_variables, mode='forward')\n",
    "    \n",
    "    agent_collection[agent_name] = agent\n",
    "    print(\"\")"
   ]
  },
  {
   "cell_type": "code",
   "execution_count": null,
   "metadata": {
    "collapsed": true
   },
   "outputs": [],
   "source": [
    "agent.model"
   ]
  },
  {
   "cell_type": "code",
   "execution_count": null,
   "metadata": {
    "collapsed": true
   },
   "outputs": [],
   "source": [
    "agent.agent_name = 'BT_VolTime'"
   ]
  },
  {
   "cell_type": "code",
   "execution_count": null,
   "metadata": {
    "collapsed": true
   },
   "outputs": [],
   "source": [
    "agent.save(path=\"trainedAgents\", overwrite=True)"
   ]
  },
  {
   "cell_type": "code",
   "execution_count": null,
   "metadata": {
    "collapsed": true
   },
   "outputs": [],
   "source": [
    "agent.load(agent_name=\"VolTime\", path=\"test\")"
   ]
  },
  {
   "cell_type": "code",
   "execution_count": null,
   "metadata": {
    "collapsed": true
   },
   "outputs": [],
   "source": [
    "ag = RLAgent_Base.load(agent_name='VolTime', path='test')\n",
    "ag"
   ]
  },
  {
   "cell_type": "code",
   "execution_count": null,
   "metadata": {
    "collapsed": true
   },
   "outputs": [],
   "source": []
  },
  {
   "cell_type": "code",
   "execution_count": null,
   "metadata": {
    "collapsed": true
   },
   "outputs": [],
   "source": [
    "agent.actions"
   ]
  },
  {
   "cell_type": "code",
   "execution_count": null,
   "metadata": {
    "collapsed": true
   },
   "outputs": [],
   "source": [
    "epochs=5\n",
    "for e in range(epochs):\n",
    "    exploration =1.0/20**(e/epochs)\n",
    "    print(\"{}: exploration = {}\".format(e, exploration))"
   ]
  },
  {
   "cell_type": "code",
   "execution_count": null,
   "metadata": {
    "collapsed": true
   },
   "outputs": [],
   "source": [
    "agent_QTable_dec.heatmap_Q()"
   ]
  }
 ],
 "metadata": {
  "kernelspec": {
   "display_name": "Python 3",
   "language": "python",
   "name": "python3"
  },
  "language_info": {
   "codemirror_mode": {
    "name": "ipython",
    "version": 3
   },
   "file_extension": ".py",
   "mimetype": "text/x-python",
   "name": "python",
   "nbconvert_exporter": "python",
   "pygments_lexer": "ipython3",
   "version": "3.6.0"
  }
 },
 "nbformat": 4,
 "nbformat_minor": 2
}
