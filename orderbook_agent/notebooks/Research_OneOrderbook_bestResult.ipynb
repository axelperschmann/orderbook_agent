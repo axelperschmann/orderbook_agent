{
 "cells": [
  {
   "cell_type": "code",
   "execution_count": 111,
   "metadata": {
    "collapsed": false
   },
   "outputs": [
    {
     "name": "stdout",
     "output_type": "stream",
     "text": [
      "The autoreload extension is already loaded. To reload it, use:\n",
      "  %reload_ext autoreload\n"
     ]
    }
   ],
   "source": [
    "%load_ext autoreload\n",
    "%autoreload 2\n",
    "\n",
    "import sys\n",
    "import os\n",
    "import numpy as np\n",
    "import pandas as pd\n",
    "import pickle\n",
    "import matplotlib.pyplot as plt\n",
    "%matplotlib inline\n",
    "from IPython.display import display\n",
    "from tqdm import tqdm\n",
    "from sklearn import preprocessing\n",
    "import talib\n",
    "\n",
    "sys.path.append('../Runs')\n",
    "from train_QTable import optimal_strategy, optimal_strategy_fixedStepsize, run\n",
    "from train_fromSamples import train_BatchTree_fromSamples, train_Qtable_fromSamples\n",
    "from helper.Q_learning import round_custombase\n",
    "from helper.manage_orderbooks import OrderbookEpisodesGenerator, plot_episode, convert_actions_to_limit\n",
    "from helper.orderbook_trader import OrderbookTradingSimulator\n",
    "from agents.QTable_Agent import QTable_Agent\n",
    "from agents.BatchTree_Agent import RLAgent_BatchTree"
   ]
  },
  {
   "cell_type": "code",
   "execution_count": null,
   "metadata": {
    "collapsed": true
   },
   "outputs": [],
   "source": []
  },
  {
   "cell_type": "code",
   "execution_count": 3,
   "metadata": {
    "collapsed": false
   },
   "outputs": [
    {
     "data": {
      "text/html": [
       "<div>\n",
       "<table border=\"1\" class=\"dataframe\">\n",
       "  <thead>\n",
       "    <tr style=\"text-align: right;\">\n",
       "      <th></th>\n",
       "      <th>baseVolume</th>\n",
       "      <th>high24hr</th>\n",
       "      <th>highestBid</th>\n",
       "      <th>last</th>\n",
       "      <th>low24hr</th>\n",
       "      <th>lowestAsk</th>\n",
       "      <th>percentChange</th>\n",
       "      <th>quoteVolume</th>\n",
       "      <th>spread</th>\n",
       "      <th>future15</th>\n",
       "      <th>future30</th>\n",
       "      <th>future45</th>\n",
       "      <th>future15_disc</th>\n",
       "      <th>future30_disc</th>\n",
       "      <th>future45_disc</th>\n",
       "    </tr>\n",
       "  </thead>\n",
       "  <tbody>\n",
       "    <tr>\n",
       "      <th>2016-11-09 03:01:00</th>\n",
       "      <td>417050.045093</td>\n",
       "      <td>716.0</td>\n",
       "      <td>709.740242</td>\n",
       "      <td>709.740241</td>\n",
       "      <td>702.680396</td>\n",
       "      <td>711.419498</td>\n",
       "      <td>0.004009</td>\n",
       "      <td>586.622061</td>\n",
       "      <td>1.679256</td>\n",
       "      <td>0.002366</td>\n",
       "      <td>0.004593</td>\n",
       "      <td>0.013399</td>\n",
       "      <td>3.0</td>\n",
       "      <td>3.0</td>\n",
       "      <td>4.0</td>\n",
       "    </tr>\n",
       "    <tr>\n",
       "      <th>2016-11-09 03:02:00</th>\n",
       "      <td>417128.134302</td>\n",
       "      <td>716.0</td>\n",
       "      <td>709.768994</td>\n",
       "      <td>711.419498</td>\n",
       "      <td>702.680396</td>\n",
       "      <td>711.419498</td>\n",
       "      <td>0.006251</td>\n",
       "      <td>586.731342</td>\n",
       "      <td>1.650504</td>\n",
       "      <td>0.002019</td>\n",
       "      <td>0.003802</td>\n",
       "      <td>0.008926</td>\n",
       "      <td>3.0</td>\n",
       "      <td>3.0</td>\n",
       "      <td>4.0</td>\n",
       "    </tr>\n",
       "    <tr>\n",
       "      <th>2016-11-09 03:03:00</th>\n",
       "      <td>417086.272705</td>\n",
       "      <td>716.0</td>\n",
       "      <td>709.723616</td>\n",
       "      <td>711.419498</td>\n",
       "      <td>702.680396</td>\n",
       "      <td>711.419498</td>\n",
       "      <td>0.006251</td>\n",
       "      <td>586.672174</td>\n",
       "      <td>1.695882</td>\n",
       "      <td>0.002019</td>\n",
       "      <td>0.003802</td>\n",
       "      <td>0.010514</td>\n",
       "      <td>3.0</td>\n",
       "      <td>3.0</td>\n",
       "      <td>4.0</td>\n",
       "    </tr>\n",
       "    <tr>\n",
       "      <th>2016-11-09 03:04:00</th>\n",
       "      <td>417050.431869</td>\n",
       "      <td>716.0</td>\n",
       "      <td>710.000001</td>\n",
       "      <td>710.000000</td>\n",
       "      <td>702.680396</td>\n",
       "      <td>711.419498</td>\n",
       "      <td>0.003144</td>\n",
       "      <td>586.621473</td>\n",
       "      <td>1.419497</td>\n",
       "      <td>0.003122</td>\n",
       "      <td>0.005845</td>\n",
       "      <td>0.013099</td>\n",
       "      <td>3.0</td>\n",
       "      <td>4.0</td>\n",
       "      <td>4.0</td>\n",
       "    </tr>\n",
       "  </tbody>\n",
       "</table>\n",
       "</div>"
      ],
      "text/plain": [
       "                        baseVolume  high24hr  highestBid        last  \\\n",
       "2016-11-09 03:01:00  417050.045093     716.0  709.740242  709.740241   \n",
       "2016-11-09 03:02:00  417128.134302     716.0  709.768994  711.419498   \n",
       "2016-11-09 03:03:00  417086.272705     716.0  709.723616  711.419498   \n",
       "2016-11-09 03:04:00  417050.431869     716.0  710.000001  710.000000   \n",
       "\n",
       "                        low24hr   lowestAsk  percentChange  quoteVolume  \\\n",
       "2016-11-09 03:01:00  702.680396  711.419498       0.004009   586.622061   \n",
       "2016-11-09 03:02:00  702.680396  711.419498       0.006251   586.731342   \n",
       "2016-11-09 03:03:00  702.680396  711.419498       0.006251   586.672174   \n",
       "2016-11-09 03:04:00  702.680396  711.419498       0.003144   586.621473   \n",
       "\n",
       "                       spread  future15  future30  future45  future15_disc  \\\n",
       "2016-11-09 03:01:00  1.679256  0.002366  0.004593  0.013399            3.0   \n",
       "2016-11-09 03:02:00  1.650504  0.002019  0.003802  0.008926            3.0   \n",
       "2016-11-09 03:03:00  1.695882  0.002019  0.003802  0.010514            3.0   \n",
       "2016-11-09 03:04:00  1.419497  0.003122  0.005845  0.013099            3.0   \n",
       "\n",
       "                     future30_disc  future45_disc  \n",
       "2016-11-09 03:01:00            3.0            4.0  \n",
       "2016-11-09 03:02:00            3.0            4.0  \n",
       "2016-11-09 03:03:00            3.0            4.0  \n",
       "2016-11-09 03:04:00            4.0            4.0  "
      ]
     },
     "metadata": {},
     "output_type": "display_data"
    }
   ],
   "source": [
    "def load_and_preprocess_historyfiles(files):\n",
    "    hist = pd.DataFrame()\n",
    "    for file in histfiles:\n",
    "        data = pd.read_csv(file, index_col=0)\n",
    "        hist = pd.concat([hist, data])\n",
    "    hist.set_index(keys=pd.to_datetime(hist.index), inplace=True)\n",
    "\n",
    "    # remove dublicates and unneeded columns\n",
    "    hist = hist[~hist.index.duplicated(keep='first')]\n",
    "    hist.drop([\"id\", 'isFrozen'], axis=1, inplace=True)\n",
    "\n",
    "    # fill gaps with last observation\n",
    "    idx = pd.date_range(hist.index[0], hist.index[-1], freq=\"1min\")\n",
    "    hist = hist.sort_index().reindex(index=idx.sort_values(), method='ffill')\n",
    "    \n",
    "    # add more features\n",
    "    hist['spread'] = hist.lowestAsk - hist.highestBid\n",
    "\n",
    "    for lookahead in [15, 30, 45]:\n",
    "        hist[\"future{}\".format(lookahead)] = (hist['last'].shift(-lookahead) / hist['last']) - 1.\n",
    "\n",
    "    return hist\n",
    "\n",
    "histfiles = [\n",
    "    \"../../../../data/history/history_2016-11_USDT_BTC.csv\",\n",
    "    \"../../../../data/history/history_2017-02_USDT_BTC.csv\",\n",
    "]\n",
    "\n",
    "hist = load_and_preprocess_historyfiles(files=histfiles)\n",
    "hist['future15_disc'] = pd.cut(hist.future15, bins=[-np.inf, -0.005, -0.001, 0.001, 0.005, np.inf], labels=False)\n",
    "hist['future30_disc'] = pd.cut(hist.future30, bins=[-np.inf, -0.005, -0.001, 0.001, 0.005, np.inf], labels=False)\n",
    "hist['future45_disc'] = pd.cut(hist.future45, bins=[-np.inf, -0.005, -0.001, 0.001, 0.005, np.inf], labels=False)\n",
    "display(hist.iloc[1021:1025,:])"
   ]
  },
  {
   "cell_type": "raw",
   "metadata": {
    "collapsed": false
   },
   "source": [
    "def addMarketFeatures_toSamples(samples_df, hist, state_variables,\n",
    "                                market_features, period_length=15):\n",
    "    df = samples_df.copy()\n",
    "    \n",
    "    for i, f in tqdm(enumerate(market_features)):\n",
    "        #\n",
    "        f_n = \"{}_n\".format(f)\n",
    "        if f in df.columns:\n",
    "            df.drop(f, inplace=True, axis=1)\n",
    "        if f_n in df.columns:\n",
    "            df.drop(f_n, inplace=True, axis=1)\n",
    "        \n",
    "        df.insert(loc=2+i, column=f, value=df.timestamp.map(hist[f]),\n",
    "                 allow_duplicates=True)\n",
    "        df.insert(loc=df.shape[1],\n",
    "                  column=f_n,\n",
    "                  allow_duplicates=True,\n",
    "                  value=(df.timestamp+pd.Timedelta(minutes=period_length)).map(hist[f]))\n",
    "        if f not in state_variables:\n",
    "            state_variables.append(f)\n",
    "\n",
    "        if f in ['high24hr', 'low24hr', 'spread']:\n",
    "            df[f] = df[f] / df.initial_center\n",
    "            df[f_n] = df[f_n] / df.initial_center\n",
    "\n",
    "    return df\n",
    "\n",
    "df2 = addMarketFeatures_toSamples(samples_df=df2, hist=hist, state_variables=state_variables,\n",
    "                                 market_features=['future15', 'future15_disc', 'future30_disc', 'future45_disc'])\n",
    "print(df2.shape)\n",
    "display(df2.describe())"
   ]
  },
  {
   "cell_type": "code",
   "execution_count": 4,
   "metadata": {
    "collapsed": false
   },
   "outputs": [
    {
     "data": {
      "text/plain": [
       "20"
      ]
     },
     "metadata": {},
     "output_type": "display_data"
    },
    {
     "data": {
      "text/plain": [
       "OrderbookContainer from 2016-11-08T10:00 (factor: 1.0)\n",
       "  107 bids (best: 705.0)\n",
       "  110 asks (best: 705.450997)\n",
       "price: 705.2254744655137\n",
       "  kind: 'orderbook'\n",
       "  -spread: 0.4509970000000294\n",
       "  -future15: -3.246150348523713e-08\n",
       "  -future15_disc: 2.0\n",
       "  -future30: -0.0006393032568402512\n",
       "  -future30_disc: 2.0\n",
       "  -future45: -0.0025756666407984463\n",
       "  -future45_disc: 1.0"
      ]
     },
     "metadata": {},
     "output_type": "display_data"
    }
   ],
   "source": [
    "data_nov_orig = pickle.load( open( \"cached_windows/tradingwindows_1611_USTD_BTC_20.p\", \"rb\" ) )\n",
    "for window in data_nov_orig:\n",
    "    for ob in window:\n",
    "        ob.norm_factor = 1.\n",
    "        ob.features = {'spread': ob.asks.index[0]-ob.bids.index[0]}\n",
    "        \n",
    "        ts = pd.to_datetime(ob.timestamp)        \n",
    "        ts_prev = pd.to_datetime(ob.timestamp) - pd.Timedelta('60Min')\n",
    "\n",
    "        market_features = hist.loc[ts_prev:ts, :]\n",
    "        \n",
    "        for lookahead in [15,30,45]:\n",
    "            ob.features[\"future{}\".format(lookahead)] = market_features['future{}'.format(lookahead)][-1]\n",
    "            ob.features[\"future{}_disc\".format(lookahead)] = market_features['future{}_disc'.format(lookahead)][-1]\n",
    "display(len(data_nov_orig), data_nov_orig[0][0])"
   ]
  },
  {
   "cell_type": "code",
   "execution_count": 5,
   "metadata": {
    "collapsed": false
   },
   "outputs": [
    {
     "name": "stderr",
     "output_type": "stream",
     "text": [
      "  5%|▌         | 1/20 [00:00<00:02,  6.67it/s]"
     ]
    },
    {
     "name": "stdout",
     "output_type": "stream",
     "text": [
      "loaded\n"
     ]
    },
    {
     "name": "stderr",
     "output_type": "stream",
     "text": [
      "100%|██████████| 20/20 [00:03<00:00,  6.07it/s]\n"
     ]
    },
    {
     "data": {
      "text/plain": [
       "670"
      ]
     },
     "metadata": {},
     "output_type": "display_data"
    },
    {
     "data": {
      "text/plain": [
       "OrderbookContainer from 2017-02-01T00:00 (factor: 1.0)\n",
       "  139 bids (best: 965.8666755)\n",
       "  113 asks (best: 965.99)\n",
       "price: 965.928336437291\n",
       "  kind: 'orderbook'\n",
       "  -spread: 0.12332449999996697\n",
       "  -future15: 0.001425825042782991\n",
       "  -future15_disc: 3.0\n",
       "  -future30: 0.002989831786579078\n",
       "  -future30_disc: 3.0\n",
       "  -future45: 0.00272120465321124\n",
       "  -future45_disc: 3.0"
      ]
     },
     "metadata": {},
     "output_type": "display_data"
    }
   ],
   "source": [
    "data_feb = pickle.load( open( \"cached_windows/tradingwindows_1702_USTD_BTC.p\", \"rb\" ) )\n",
    "print(\"loaded\")\n",
    "for window in tqdm(data_feb[:20]):\n",
    "    for ob in window:\n",
    "        ob.norm_factor = 1.\n",
    "        ob.features = {'spread': ob.asks.index[0]-ob.bids.index[0]}\n",
    "        \n",
    "        ts = pd.to_datetime(ob.timestamp)        \n",
    "        ts_prev = pd.to_datetime(ob.timestamp) - pd.Timedelta('60Min')\n",
    "\n",
    "        market_features = hist.loc[ts_prev:ts, :]\n",
    "        \n",
    "        for lookahead in [15,30,45]:\n",
    "            ob.features[\"future{}\".format(lookahead)] = market_features['future{}'.format(lookahead)][-1]\n",
    "            ob.features[\"future{}_disc\".format(lookahead)] = market_features['future{}_disc'.format(lookahead)][-1]\n",
    "display(len(data_feb), data_feb[0][0])"
   ]
  },
  {
   "cell_type": "code",
   "execution_count": 53,
   "metadata": {
    "collapsed": false
   },
   "outputs": [
    {
     "name": "stdout",
     "output_type": "stream",
     "text": [
      "2\n",
      "2016-11-08T10:00\n",
      "2016-11-09T03:01\n"
     ]
    }
   ],
   "source": [
    "data_selection = [data_nov_orig[x] for x in [0,17]]\n",
    "print(len(data_selection))\n",
    "print(data_selection[0][0].timestamp)\n",
    "print(data_selection[1][0].timestamp)"
   ]
  },
  {
   "cell_type": "code",
   "execution_count": 116,
   "metadata": {
    "collapsed": false
   },
   "outputs": [
    {
     "name": "stdout",
     "output_type": "stream",
     "text": [
      "dp [0, 20, 40]\n",
      "0 1000\n",
      "20 1000\n",
      "40 999\n"
     ]
    },
    {
     "data": {
      "text/plain": [
       "[705.93069993997915, 706.63592541444473, 706.63592541444473]"
      ]
     },
     "execution_count": 116,
     "metadata": {},
     "output_type": "execute_result"
    }
   ],
   "source": [
    "convert_actions_to_limit(data_selection[0], actions=[1,2,3])"
   ]
  },
  {
   "cell_type": "code",
   "execution_count": 122,
   "metadata": {
    "collapsed": false
   },
   "outputs": [
    {
     "data": {
      "image/png": "[encoded data removed]",
      "text/plain": [
       "<matplotlib.figure.Figure at 0x7f08728514e0>"
      ]
     },
     "metadata": {},
     "output_type": "display_data"
    },
    {
     "data": {
      "image/png": "[encoded data removed]",
      "text/plain": [
       "<matplotlib.figure.Figure at 0x7f0873cb7438>"
      ]
     },
     "metadata": {},
     "output_type": "display_data"
    }
   ],
   "source": [
    "plot_episode(data_selection[0], actions=[1, 3])\n",
    "plot_episode(data_selection[0], actions=[1, 3, 4])\n"
   ]
  },
  {
   "cell_type": "code",
   "execution_count": 205,
   "metadata": {
    "collapsed": false,
    "scrolled": false
   },
   "outputs": [
    {
     "name": "stdout",
     "output_type": "stream",
     "text": [
      "2016-11-09 04:01:00 2016-11-09 04:00:00 0 days 00:01:00\n"
     ]
    },
    {
     "data": {
      "image/png": "[encoded data removed]",
      "text/plain": [
       "<matplotlib.figure.Figure at 0x7f08733f5e80>"
      ]
     },
     "metadata": {},
     "output_type": "display_data"
    },
    {
     "name": "stdout",
     "output_type": "stream",
     "text": [
      "2016-11-09 04:01:00 2016-11-09 04:00:00 0 days 00:01:00\n"
     ]
    },
    {
     "data": {
      "image/png": "[encoded data removed]",
      "text/plain": [
       "<matplotlib.figure.Figure at 0x7f08733f5438>"
      ]
     },
     "metadata": {},
     "output_type": "display_data"
    }
   ],
   "source": [
    "#plot_episode(data_selection[1], limits=[714.843016, 714.843016, 719.106494])\n",
    "plot_episode(data_selection[1], actions=[6,4,6])\n",
    "plot_episode(data_selection[1], actions=[5,4,6])\n"
   ]
  },
  {
   "cell_type": "code",
   "execution_count": null,
   "metadata": {
    "collapsed": true
   },
   "outputs": [],
   "source": []
  },
  {
   "cell_type": "code",
   "execution_count": null,
   "metadata": {
    "collapsed": false,
    "scrolled": false
   },
   "outputs": [],
   "source": [
    "experiment_name='individual_window'\n",
    "folder='experiments'\n",
    "outputfile_agent=os.path.join(folder, experiment_name, 'model', experiment_name)\n",
    "outputfile_agent='q.json'\n",
    "outputfile_samples='q.csv'\n",
    "volume=100\n",
    "volume_intervals=10\n",
    "decision_points=3\n",
    "period_length=20\n",
    "actions = list(range(-4,11))\n",
    "\n",
    "state_variables=['volume','time']\n",
    "limit_base = 'incStepUnits' # 'curr_ask', 'init_center', 'incStepUnits'\n",
    "\n",
    "# crescending\n",
    "episodes_train = data_nov_orig[17:18]\n",
    "print(actions)\n",
    "print(\"Window len\", len(episodes_train), episodes_train[0][0].timestamp)\n",
    "ql_cresc, limits = optimal_strategy_fixedStepsize(traingdata=episodes_train[:], V=volume, T=decision_points,\n",
    "                              period_length=period_length, vol_intervals=volume_intervals,\n",
    "                              actions=list(range(-4,11)), lim_stepsize=0.1, state_variables=state_variables, \n",
    "                              outfile_agent=outputfile_agent, outfile_samples=outputfile_samples,\n",
    "                              limit_base=limit_base, interpolate_vol=False)\n",
    "\n",
    "# # hlines = [episodes_train[0][0].get_center() + (a*0.710579539245) for a in range(-4,11)]\n",
    "# # #plot_episode(episodes_train[0], vlines=[0,15,30,45], hlines=hlines)\n",
    "# # plot_episode(episodes_train[0], vlines=[0,15,30,45], hlines=limits)\n",
    "# # ql.heatmap_Q(show_minima_count=True)\n",
    "# # \n",
    "# # \n",
    "# # # even\n",
    "# episodes_train = data_nov_orig[0:1]\n",
    "# print(\"Window len\", len(episodes_train), episodes_train[0][0].timestamp)\n",
    "# \n",
    "# ql_even, limits_even = optimal_strategy_fixedStepsize(traingdata=episodes_train[:], V=volume, T=decision_points,\n",
    "#                           period_length=period_length, vol_intervals=volume_intervals,\n",
    "#                           actions=actions, lim_stepsize=0.1, state_variables=state_variables, \n",
    "#                           outfile_agent=outputfile_agent, outfile_samples=outputfile_samples,\n",
    "#                           limit_base=limit_base, interpolate_vol=False)\n",
    "# \n",
    "# episodes_train = data_selection\n",
    "# print(\"Window len\", len(episodes_train), episodes_train[0][0].timestamp)\n",
    "# ql_both, limits_both = optimal_strategy_fixedStepsize(traingdata=episodes_train[:], V=volume, T=decision_points,\n",
    "#                           period_length=period_length, vol_intervals=volume_intervals,\n",
    "#                           actions=actions, lim_stepsize=0.1, state_variables=state_variables, \n",
    "#                           outfile_agent=outputfile_agent, outfile_samples=outputfile_samples,\n",
    "#                           limit_base=limit_base, interpolate_vol=False)"
   ]
  },
  {
   "cell_type": "code",
   "execution_count": null,
   "metadata": {
    "collapsed": false,
    "scrolled": true
   },
   "outputs": [],
   "source": [
    "print(volume_intervals)\n",
    "episodes_train = data_nov_orig\n",
    "print(\"Window len\", len(episodes_train), episodes_train[0][0].timestamp)\n",
    "ql_20_cheat, limits_both = optimal_strategy_fixedStepsize(traingdata=episodes_train[:], V=volume, T=decision_points,\n",
    "                          period_length=period_length, vol_intervals=volume_intervals,\n",
    "                          actions=list(range(-4,11)), lim_stepsize=0.1, state_variables=state_variables + ['future15_disc'], \n",
    "                          outfile_agent=outputfile_agent, outfile_samples=outputfile_samples,\n",
    "                          limit_base=limit_base, interpolate_vol=False)"
   ]
  },
  {
   "cell_type": "code",
   "execution_count": null,
   "metadata": {
    "collapsed": false
   },
   "outputs": [],
   "source": [
    "print(len(ql_cresc.q.keys()))\n",
    "ql_cresc.heatmap_Q(show_minima_count=True)\n",
    "print(len(ql_even.q.keys()))\n",
    "ql_even.heatmap_Q(show_minima_count=True)\n",
    "print(len(ql_both.q.keys()))\n",
    "ql_both.heatmap_Q(show_minima_count=True)\n",
    "print(len(ql_20.q.keys()))\n",
    "ql_20.heatmap_Q(show_minima_count=True)"
   ]
  },
  {
   "cell_type": "code",
   "execution_count": null,
   "metadata": {
    "collapsed": false,
    "scrolled": false
   },
   "outputs": [],
   "source": [
    "print(\"### cresc ###\")\n",
    "result_cresc = ql['volInt_4'].evaluate(data_nov_orig[17:18],\n",
    "            additional_agents=ql,\n",
    "            evaluate_actions=range(-4,9),  # [0.0, 0.1, 0.2, 0.3, 0.4, 0.5, 0.6, 0.7, 0.8],\n",
    "            verbose=False)\n",
    "display(result_cresc)"
   ]
  },
  {
   "cell_type": "code",
   "execution_count": null,
   "metadata": {
    "collapsed": false,
    "scrolled": false
   },
   "outputs": [],
   "source": [
    "print(\"### cresc ###\")\n",
    "result_cresc2 = ql_cresc.evaluate(data_selection[:2],\n",
    "            evaluate_actions=range(-4,9),  # [0.0, 0.1, 0.2, 0.3, 0.4, 0.5, 0.6, 0.7, 0.8],\n",
    "            custom_strategies={'4,6,4': [4,6,4],\n",
    "                               '5,6,4': [5,6,4],\n",
    "                              '6,4,6': [6,4,6],\n",
    "                              '6,5,6': [6,5,6],\n",
    "                              '7,4,6': [7,4,6]},\n",
    "            verbose=True,\n",
    "            show_plot=True)\n",
    "display(result_cresc)\n",
    "display(result_cresc2)\n",
    "\n",
    "# print(\"### even ###\")\n",
    "# results_even = ql_even.evaluate(data_nov_orig[0:1],\n",
    "#             evaluate_actions=range(-4,9),  # [0.0, 0.1, 0.2, 0.3, 0.4, 0.5, 0.6, 0.7, 0.8],\n",
    "#             verbose=True)\n",
    "# display(results_even)"
   ]
  },
  {
   "cell_type": "code",
   "execution_count": null,
   "metadata": {
    "collapsed": false
   },
   "outputs": [],
   "source": [
    "plot_episode(data_selection[1], limits=[714.843016, 714.843016, 719.106494])\n",
    "#plot_episode(data_selection[1], limits=[715.553596])\n",
    "\n"
   ]
  },
  {
   "cell_type": "code",
   "execution_count": null,
   "metadata": {
    "collapsed": false,
    "scrolled": false
   },
   "outputs": [],
   "source": [
    "print(\"### both ###\")\n",
    "results_all = ql_both.evaluate(data_nov_orig[:],\n",
    "            evaluate_actions=range(-1,9),  # [0.0, 0.1, 0.2, 0.3, 0.4, 0.5, 0.6, 0.7, 0.8],\n",
    "            additional_agents={'ql_cresc': ql_cresc,\n",
    "                               'ql_even': ql_even,\n",
    "                               'ql_20': ql_20,\n",
    "                               'ql_20_cheat': ql_20_cheat,\n",
    "                               'VolTime': agent_BatchTree['VolTime'],\n",
    "                               'VolTimeFuturedisc15': agent_BatchTree['VolTimeFuturedisc15']},\n",
    "            verbose=False,\n",
    "           show_plot=True)\n",
    "#display(results_all)"
   ]
  },
  {
   "cell_type": "code",
   "execution_count": null,
   "metadata": {
    "collapsed": false,
    "scrolled": true
   },
   "outputs": [],
   "source": [
    "print(\"### both ###\")\n",
    "results_all_feb = ql_both.evaluate(data_feb[:20],\n",
    "            evaluate_actions=[6],  # [0.0, 0.1, 0.2, 0.3, 0.4, 0.5, 0.6, 0.7, 0.8],\n",
    "            additional_agents={'ql_cresc': ql_cresc,\n",
    "                               'ql_even': ql_even,\n",
    "                               'ql_20': ql_20,\n",
    "                               'ql_20_cheat': ql_20_cheat,\n",
    "                               'VolTime': agent_BatchTree['VolTime'],\n",
    "                               'VolTimeFuturedisc15': agent_BatchTree['VolTimeFuturedisc15']},\n",
    "            verbose=False,\n",
    "           show_plot=True)\n",
    "#display(results_all)"
   ]
  },
  {
   "cell_type": "code",
   "execution_count": null,
   "metadata": {
    "collapsed": false
   },
   "outputs": [],
   "source": [
    "df = ql_20.samples\n",
    "def addMarketFeatures_toSamples(samples_df, hist, state_variables,\n",
    "                                market_features, period_length=15):\n",
    "    df = samples_df.copy()\n",
    "    \n",
    "    for i, f in tqdm(enumerate(market_features)):\n",
    "        #\n",
    "        f_n = \"{}_n\".format(f)\n",
    "        if f in df.columns:\n",
    "            df.drop(f, inplace=True, axis=1)\n",
    "        if f_n in df.columns:\n",
    "            df.drop(f_n, inplace=True, axis=1)\n",
    "        \n",
    "        df.insert(loc=2+i, column=f, value=df.timestamp.map(hist[f]),\n",
    "                 allow_duplicates=True)\n",
    "        df.insert(loc=df.shape[1],\n",
    "                  column=f_n,\n",
    "                  allow_duplicates=True,\n",
    "                  value=(df.timestamp+pd.Timedelta(minutes=period_length)).map(hist[f]))\n",
    "        if f not in state_variables:\n",
    "            state_variables.append(f)\n",
    "\n",
    "        if f in ['high24hr', 'low24hr', 'spread']:\n",
    "            df[f] = df[f] / df.initial_center\n",
    "            df[f_n] = df[f_n] / df.initial_center\n",
    "\n",
    "    return df\n",
    "\n",
    "df2 = addMarketFeatures_toSamples(samples_df=df, hist=hist, state_variables=state_variables,\n",
    "                                 market_features=['future15', 'future15_disc', 'future30_disc', 'future45_disc'])\n",
    "print(df2.shape)\n",
    "display(df2.describe())"
   ]
  },
  {
   "cell_type": "code",
   "execution_count": null,
   "metadata": {
    "collapsed": false
   },
   "outputs": [],
   "source": [
    "actions = list(np.linspace(action_min, action_max, num=action_count))\n",
    "actions = [round(a, 2) for a in actions]\n",
    "print(actions)\n",
    "state_variables = ['volume', 'time'] #, 'spread', 'high24hr', 'low24hr']\n",
    "\n",
    "experiments = {\n",
    "    'VolTime': ['volume', 'time'],\n",
    "    # 'VolTimeSpread': ['volume', 'time', 'spread_disc'],\n",
    "#    'VolTimeEMA': ['volume', 'time', 'EMA10', 'EMA60'],\n",
    "    # 'VolTimeFuturedisc': ['volume', 'time', 'future15_disc', 'future30_disc', 'future45_disc']\n",
    "    'VolTimeFuturedisc15': ['volume', 'time', 'future15_disc']\n",
    "}\n",
    "\n",
    "agent_BatchTree = {}\n",
    "for i, key in enumerate(experiments.keys()):\n",
    "    print(\"\\n##### Experiment {}/{}: {} #####\".format(i+1, len(experiments.keys()), key))\n",
    "    state_variables_experiment = experiments[key]\n",
    "    \n",
    "    agent_BatchTree[key] = train_BatchTree_fromSamples(\n",
    "        df=df2, V=volume, T=decision_points,\n",
    "        period_length=period_length, vol_intervals=volume_intervals,\n",
    "        actions=actions,\n",
    "        state_variables=state_variables_experiment,\n",
    "        n_estimators=100, max_depth=10\n",
    "    )\n",
    "    \n",
    "    print(\"Feature importances:\")\n",
    "    print(agent_BatchTree[key].model.feature_importances_)"
   ]
  },
  {
   "cell_type": "code",
   "execution_count": null,
   "metadata": {
    "collapsed": false
   },
   "outputs": [],
   "source": [
    "plot_episode(episodes_train[1], vlines=[0,15,30,45], hlines=list(np.unique(limits)))"
   ]
  },
  {
   "cell_type": "code",
   "execution_count": null,
   "metadata": {
    "collapsed": false
   },
   "outputs": [],
   "source": [
    "plot_episode(episodes_train[1], vlines=[0,15,30,45], hlines=list(np.unique(limits)), limits=[episodes_train[1][0].get_center()*1.002])"
   ]
  },
  {
   "cell_type": "code",
   "execution_count": null,
   "metadata": {
    "collapsed": false
   },
   "outputs": [],
   "source": [
    "print(\"both\")\n",
    "ql.heatmap_Q(show_minima_count=True)\n",
    "print(\"even\")\n",
    "ql_even.heatmap_Q(show_minima_count=True)\n",
    "print(\"cresc\")\n",
    "ql_cresc.heatmap_Q(show_minima_count=True)\n",
    "\n"
   ]
  },
  {
   "cell_type": "code",
   "execution_count": null,
   "metadata": {
    "collapsed": false
   },
   "outputs": [],
   "source": [
    "agent_BatchTree['VolTime_20samples'].samples"
   ]
  },
  {
   "cell_type": "code",
   "execution_count": null,
   "metadata": {
    "collapsed": false,
    "scrolled": false
   },
   "outputs": [],
   "source": [
    "ql.limit_base = 'incStepUnits'\n",
    "ql_even.limit_base = 'incStepUnits'\n",
    "ql_cresc.limit_base = 'incStepUnits'\n",
    "evaluation = ql.evaluate(data_nov[17:18],\n",
    "                      additional_agents={\n",
    "                          'ql_even': ql_even,\n",
    "                          'ql_cresc':ql_cresc},\n",
    "                      evaluate_actions=[0.4, 0.5, 0.6, 0.7, 0.8], verbose=True,\n",
    "                      show_plot=True,\n",
    "                      )\n",
    "display(evaluation)\n",
    "display(pd.DataFrame(evaluation.mean()).T)"
   ]
  },
  {
   "cell_type": "code",
   "execution_count": null,
   "metadata": {
    "collapsed": false,
    "scrolled": false
   },
   "outputs": [],
   "source": [
    "ql.volumes = ql.volumes[:4]\n",
    "print(ql.volumes)\n",
    "\n",
    "ql.heatmap_Q(vol_intervals=10)\n",
    "ql.interpolate_vol = True\n",
    "ql.heatmap_Q(vol_intervals=10)\n",
    "ql.interpolate_vol = False\n",
    "\n",
    "agent_BatchTree['VolTime_4I'].heatmap_Q()"
   ]
  },
  {
   "cell_type": "code",
   "execution_count": null,
   "metadata": {
    "collapsed": false
   },
   "outputs": [],
   "source": [
    "ql.interpolate_vol = True\n",
    "evaluation = ql.evaluate(data_feb[:20],\n",
    "                      additional_agents={\n",
    "                          'rl_4I':agent_BatchTree['VolTime_4I'],\n",
    "                          'rl_4I_3vars':agent_BatchTree['VolTime_4I_3vars']\n",
    "                      },\n",
    "                      evaluate_actions=[0.0, 0.1, 0.2, 0.3, 0.4, 0.5, 0.6, 0.7, 0.8], verbose=False)\n",
    "display(evaluation)\n",
    "display(pd.DataFrame(evaluation.mean()).T)"
   ]
  },
  {
   "cell_type": "code",
   "execution_count": null,
   "metadata": {
    "collapsed": false
   },
   "outputs": [],
   "source": [
    "ql.interpolate_vol = False\n",
    "evaluation = ql.evaluate(data_feb[:20],\n",
    "                      additional_agents={\n",
    "                          'rl_4I':agent_BatchTree['VolTime_4I'],\n",
    "                          'rl_4I_3vars':agent_BatchTree['VolTime_4I_3vars']\n",
    "                      },\n",
    "                      evaluate_actions=[0.0, 0.1, 0.2, 0.3, 0.4, 0.5, 0.6, 0.7, 0.8], \n",
    "                      verbose=False)\n",
    "#display(evaluation)\n",
    "display(pd.DataFrame(evaluation.mean()).T)"
   ]
  },
  {
   "cell_type": "code",
   "execution_count": null,
   "metadata": {
    "collapsed": false
   },
   "outputs": [],
   "source": [
    "display((evaluation / 52.069724).mean())\n",
    "ql.plot_evaluation_costs(evaluation.iloc[10:,:], hline='0.4', showfliers=False, ylim=(0,80))"
   ]
  },
  {
   "cell_type": "code",
   "execution_count": null,
   "metadata": {
    "collapsed": false
   },
   "outputs": [],
   "source": [
    "#df2 = ql.samples\n",
    "actions = list(np.linspace(action_min, action_max, num=action_count))\n",
    "actions = [round(a, 2) for a in actions]\n",
    "print(actions)\n",
    "state_variables = ['volume', 'time'] #, 'spread', 'high24hr', 'low24hr']\n",
    "\n",
    "experiments = {\n",
    "    'VolTime_4I': ['volume', 'time'],\n",
    "    'VolTime_4I_3vars': ['volume', 'time', 'future15_disc'],\n",
    "    # 'VolTimeSpread': ['volume', 'time', 'spread_disc'],\n",
    "#    'VolTimeEMA': ['volume', 'time', 'EMA10', 'EMA60'],\n",
    "    # 'VolTimeFuturedisc': ['volume', 'time', 'future15_disc', 'future30_disc', 'future45_disc']\n",
    "    #'VolTimeFuturedisc15_20samples': ['volume', 'time', 'future15_disc']\n",
    "}\n",
    "\n",
    "#agent_BatchTree = {}\n",
    "for i, key in enumerate(experiments.keys()):\n",
    "    print(\"\\n##### Experiment {}/{}: {} #####\".format(i+1, len(experiments.keys()), key))\n",
    "    state_variables_experiment = experiments[key]\n",
    "    \n",
    "    agent_BatchTree[key] = train_BatchTree_fromSamples(\n",
    "        df=df2, V=volume, T=decision_points,\n",
    "        period_length=period_length, vol_intervals=volume_intervals,\n",
    "        actions=actions,\n",
    "        state_variables=state_variables_experiment,\n",
    "        n_estimators=100, max_depth=10\n",
    "    )\n",
    "    \n",
    "    print(\"Feature importances:\")\n",
    "    print(agent_BatchTree[key].model.feature_importances_)"
   ]
  },
  {
   "cell_type": "code",
   "execution_count": null,
   "metadata": {
    "collapsed": false,
    "scrolled": false
   },
   "outputs": [],
   "source": [
    "plot_episode(data_nov_orig[0], kind='worst')\n",
    "plot_episode(data_nov_orig[0], kind='avg')\n",
    "plot_episode(data_nov_orig[17], kind='worst')\n",
    "plot_episode(data_nov_orig[17], kind='avg')\n",
    "\n",
    "# plot_episode(data_nov_orig[17], limits=[1.003992, 1.006207, 1.009890, np.nan], intervals=4, kind='worst')\n",
    "# plot_episode(data_nov_orig[17], limits=[1.003992, 1.006207, 1.009890, np.nan], intervals=4, kind='avg')\n",
    "# plot_episode(data_nov_orig[17], limits=[1.005], intervals=4)\n",
    "# #plot_episode(data_nov[17], limits=[1.005, 1.005, 1.005, 1.005], intervals=4)"
   ]
  },
  {
   "cell_type": "code",
   "execution_count": null,
   "metadata": {
    "collapsed": false
   },
   "outputs": [],
   "source": [
    "ql17_60decisions.limit_base = 'init_center'\n",
    "ql17_60decisions.heatmap_Q()\n",
    "display(ql17_60decisions.evaluate(data_nov[17:18]))\n",
    "ql17_60decisions.limit_base = 'curr_ask'\n",
    "display(ql17_60decisions.evaluate(data_nov[17:18]))\n",
    "\n",
    "ql17.heatmap_Q()\n",
    "display(ql17.evaluate(data_nov[17:18]), limit_base='curr_ask')"
   ]
  },
  {
   "cell_type": "code",
   "execution_count": null,
   "metadata": {
    "collapsed": false
   },
   "outputs": [],
   "source": [
    "for val in ql17_spread.samples.spread.unique():\n",
    "    print(\"{:1.6f}\".format(val))"
   ]
  },
  {
   "cell_type": "code",
   "execution_count": null,
   "metadata": {
    "collapsed": false,
    "scrolled": false
   },
   "outputs": [],
   "source": [
    "agent = ql17\n",
    "display(agent.samples.shape, agent.samples.iloc[302:315,:])\n",
    "agent.heatmap_Q()\n",
    "\n",
    "agent = ql17_\n",
    "display(agent.samples.shape, agent.samples.iloc[302:315,:])\n",
    "agent.heatmap_Q(show_minima_count=True)\n",
    "\n",
    "agent = ql17_15decisions\n",
    "display(agent.samples.shape, agent.samples.iloc[302:315,:])\n",
    "agent.heatmap_Q(show_minima_count=True)\n",
    "\n",
    "agent = ql17_60decisions\n",
    "display(agent.samples.shape, agent.samples.iloc[302:315,:])\n",
    "agent.heatmap_Q(show_minima_count=True)"
   ]
  },
  {
   "cell_type": "code",
   "execution_count": null,
   "metadata": {
    "collapsed": false
   },
   "outputs": [],
   "source": [
    "eval_costs = ql.evaluate(data_nov[17:18], additional_agents={'ql17_':ql17_, 'ql17_15decisions':ql17_15decisions}, show_plot=True)\n",
    "display(eval_costs)\n",
    "display(eval_costs.mean())"
   ]
  },
  {
   "cell_type": "code",
   "execution_count": null,
   "metadata": {
    "collapsed": true
   },
   "outputs": [],
   "source": []
  },
  {
   "cell_type": "code",
   "execution_count": null,
   "metadata": {
    "collapsed": false
   },
   "outputs": [],
   "source": [
    "def load_and_preprocess_historyfiles(files):\n",
    "    hist = pd.DataFrame()\n",
    "    for file in histfiles:\n",
    "        data = pd.read_csv(file, index_col=0)\n",
    "        hist = pd.concat([hist, data])\n",
    "    hist.set_index(keys=pd.to_datetime(hist.index), inplace=True)\n",
    "\n",
    "    # remove dublicates and unneeded columns\n",
    "    hist = hist[~hist.index.duplicated(keep='first')]\n",
    "    hist.drop([\"id\", 'isFrozen'], axis=1, inplace=True)\n",
    "\n",
    "    # fill gaps with last observation\n",
    "    idx = pd.date_range(hist.index[0], hist.index[-1], freq=\"1min\")\n",
    "    hist = hist.sort_index().reindex(index=idx.sort_values(), method='ffill')\n",
    "    \n",
    "    # add more features\n",
    "    hist['spread'] = hist.lowestAsk - hist.highestBid\n",
    "\n",
    "    for lookahead in [15, 30, 45]:\n",
    "        hist[\"future{}\".format(lookahead)] = (hist['last'].shift(-lookahead) / hist['last']) - 1\n",
    "\n",
    "    return hist\n",
    "\n",
    "histfiles = [\n",
    "    \"../../../../data/history/history_2016-11_USDT_BTC.csv\",\n",
    "    # \"../../../../data/history/history_2016-12_USDT_BTC.csv\",\n",
    "    # \"../../../../data/history/history_2017-01_USDT_BTC.csv\",\n",
    "    # \"../../../../data/history/history_2017-02_USDT_BTC.csv\"\n",
    "]\n",
    "\n",
    "hist = load_and_preprocess_historyfiles(files=histfiles)\n",
    "display(hist.describe())\n",
    "display(hist.head())"
   ]
  },
  {
   "cell_type": "code",
   "execution_count": null,
   "metadata": {
    "collapsed": false
   },
   "outputs": [],
   "source": [
    "state_variables = ['volume', 'time', 'spread', 'future15', 'future30', 'future45']\n",
    "print(\"state_variables\", state_variables)\n",
    "# add features to orderbooks\n",
    "\n",
    "for window in tqdm(data_nov):\n",
    "    for ob_idx, ob in enumerate(window):\n",
    "        ob.features = {}\n",
    "        # queue.append(ob)\n",
    "        # if len(queue) == period_length:\n",
    "        #     \n",
    "        #     diffs = list(map(lambda t: queue[t].compare_with(queue[t-1]), range(1,len(queue))))\n",
    "        #     \n",
    "        #     neg = np.array([d.asks[d.asks<0].sum() for d in diffs]).sum()\n",
    "        #     pos = np.array([d.asks[d.asks>0].sum() for d in diffs]).sum()\n",
    "        #     \n",
    "        #     ob.features['act15neg'] = neg\n",
    "        #     ob.features['act15pos'] = pos\n",
    "        \n",
    "        ts = pd.to_datetime(ob.timestamp)        \n",
    "        ts_prev = pd.to_datetime(ob.timestamp) - pd.Timedelta('60Min')\n",
    "\n",
    "        \n",
    "        \n",
    "        market_features = hist.loc[ts_prev:ts, :]\n",
    "\n",
    "       \n",
    "        for lookahead in [15,30,45]:\n",
    "            ob.features[\"future{}\".format(lookahead)] = market_features['future{}'.format(lookahead)][-1]\n",
    "        \n",
    "        for var in state_variables[2:]:\n",
    "            ob.features[var] = market_features[var][-1]\n",
    "            \n",
    "print(data_nov[0][0])\n",
    "print(data_nov[10][0])"
   ]
  },
  {
   "cell_type": "code",
   "execution_count": null,
   "metadata": {
    "collapsed": true
   },
   "outputs": [],
   "source": []
  }
 ],
 "metadata": {
  "kernelspec": {
   "display_name": "Python 3",
   "language": "python",
   "name": "python3"
  },
  "language_info": {
   "codemirror_mode": {
    "name": "ipython",
    "version": 3
   },
   "file_extension": ".py",
   "mimetype": "text/x-python",
   "name": "python",
   "nbconvert_exporter": "python",
   "pygments_lexer": "ipython3",
   "version": "3.6.0"
  }
 },
 "nbformat": 4,
 "nbformat_minor": 2
}
