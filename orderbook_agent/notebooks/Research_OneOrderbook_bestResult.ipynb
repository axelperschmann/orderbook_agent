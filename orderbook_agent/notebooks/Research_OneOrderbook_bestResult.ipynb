{
 "cells": [
  {
   "cell_type": "code",
   "execution_count": 155,
   "metadata": {
    "collapsed": false
   },
   "outputs": [
    {
     "name": "stdout",
     "output_type": "stream",
     "text": [
      "The autoreload extension is already loaded. To reload it, use:\n",
      "  %reload_ext autoreload\n"
     ]
    }
   ],
   "source": [
    "%load_ext autoreload\n",
    "%autoreload 2\n",
    "\n",
    "import sys\n",
    "import os\n",
    "import numpy as np\n",
    "import pandas as pd\n",
    "import pickle\n",
    "import matplotlib.pyplot as plt\n",
    "%matplotlib inline\n",
    "from IPython.display import display\n",
    "from tqdm import tqdm\n",
    "from sklearn import preprocessing\n",
    "import talib\n",
    "\n",
    "sys.path.append('../Runs')\n",
    "from train_QTable import optimal_strategy, optimal_strategy_fixedStepsize, run\n",
    "from train_fromSamples import train_BatchTree_fromSamples, train_Qtable_fromSamples\n",
    "from helper.Q_learning import round_custombase\n",
    "from helper.manage_orderbooks import OrderbookEpisodesGenerator, plot_episode, convert_actions_to_limit\n",
    "from helper.orderbook_trader import OrderbookTradingSimulator\n",
    "from agents.QTable_Agent import QTable_Agent\n",
    "from agents.BatchTree_Agent import RLAgent_BatchTree"
   ]
  },
  {
   "cell_type": "code",
   "execution_count": null,
   "metadata": {
    "collapsed": true
   },
   "outputs": [],
   "source": []
  },
  {
   "cell_type": "code",
   "execution_count": 3,
   "metadata": {
    "collapsed": false
   },
   "outputs": [
    {
     "data": {
      "text/html": [
       "<div>\n",
       "<table border=\"1\" class=\"dataframe\">\n",
       "  <thead>\n",
       "    <tr style=\"text-align: right;\">\n",
       "      <th></th>\n",
       "      <th>baseVolume</th>\n",
       "      <th>high24hr</th>\n",
       "      <th>highestBid</th>\n",
       "      <th>last</th>\n",
       "      <th>low24hr</th>\n",
       "      <th>lowestAsk</th>\n",
       "      <th>percentChange</th>\n",
       "      <th>quoteVolume</th>\n",
       "      <th>spread</th>\n",
       "      <th>future15</th>\n",
       "      <th>future30</th>\n",
       "      <th>future45</th>\n",
       "      <th>future15_disc</th>\n",
       "      <th>future30_disc</th>\n",
       "      <th>future45_disc</th>\n",
       "    </tr>\n",
       "  </thead>\n",
       "  <tbody>\n",
       "    <tr>\n",
       "      <th>2016-11-09 03:01:00</th>\n",
       "      <td>417050.045093</td>\n",
       "      <td>716.0</td>\n",
       "      <td>709.740242</td>\n",
       "      <td>709.740241</td>\n",
       "      <td>702.680396</td>\n",
       "      <td>711.419498</td>\n",
       "      <td>0.004009</td>\n",
       "      <td>586.622061</td>\n",
       "      <td>1.679256</td>\n",
       "      <td>0.002366</td>\n",
       "      <td>0.004593</td>\n",
       "      <td>0.013399</td>\n",
       "      <td>3.0</td>\n",
       "      <td>3.0</td>\n",
       "      <td>4.0</td>\n",
       "    </tr>\n",
       "    <tr>\n",
       "      <th>2016-11-09 03:02:00</th>\n",
       "      <td>417128.134302</td>\n",
       "      <td>716.0</td>\n",
       "      <td>709.768994</td>\n",
       "      <td>711.419498</td>\n",
       "      <td>702.680396</td>\n",
       "      <td>711.419498</td>\n",
       "      <td>0.006251</td>\n",
       "      <td>586.731342</td>\n",
       "      <td>1.650504</td>\n",
       "      <td>0.002019</td>\n",
       "      <td>0.003802</td>\n",
       "      <td>0.008926</td>\n",
       "      <td>3.0</td>\n",
       "      <td>3.0</td>\n",
       "      <td>4.0</td>\n",
       "    </tr>\n",
       "    <tr>\n",
       "      <th>2016-11-09 03:03:00</th>\n",
       "      <td>417086.272705</td>\n",
       "      <td>716.0</td>\n",
       "      <td>709.723616</td>\n",
       "      <td>711.419498</td>\n",
       "      <td>702.680396</td>\n",
       "      <td>711.419498</td>\n",
       "      <td>0.006251</td>\n",
       "      <td>586.672174</td>\n",
       "      <td>1.695882</td>\n",
       "      <td>0.002019</td>\n",
       "      <td>0.003802</td>\n",
       "      <td>0.010514</td>\n",
       "      <td>3.0</td>\n",
       "      <td>3.0</td>\n",
       "      <td>4.0</td>\n",
       "    </tr>\n",
       "    <tr>\n",
       "      <th>2016-11-09 03:04:00</th>\n",
       "      <td>417050.431869</td>\n",
       "      <td>716.0</td>\n",
       "      <td>710.000001</td>\n",
       "      <td>710.000000</td>\n",
       "      <td>702.680396</td>\n",
       "      <td>711.419498</td>\n",
       "      <td>0.003144</td>\n",
       "      <td>586.621473</td>\n",
       "      <td>1.419497</td>\n",
       "      <td>0.003122</td>\n",
       "      <td>0.005845</td>\n",
       "      <td>0.013099</td>\n",
       "      <td>3.0</td>\n",
       "      <td>4.0</td>\n",
       "      <td>4.0</td>\n",
       "    </tr>\n",
       "  </tbody>\n",
       "</table>\n",
       "</div>"
      ],
      "text/plain": [
       "                        baseVolume  high24hr  highestBid        last  \\\n",
       "2016-11-09 03:01:00  417050.045093     716.0  709.740242  709.740241   \n",
       "2016-11-09 03:02:00  417128.134302     716.0  709.768994  711.419498   \n",
       "2016-11-09 03:03:00  417086.272705     716.0  709.723616  711.419498   \n",
       "2016-11-09 03:04:00  417050.431869     716.0  710.000001  710.000000   \n",
       "\n",
       "                        low24hr   lowestAsk  percentChange  quoteVolume  \\\n",
       "2016-11-09 03:01:00  702.680396  711.419498       0.004009   586.622061   \n",
       "2016-11-09 03:02:00  702.680396  711.419498       0.006251   586.731342   \n",
       "2016-11-09 03:03:00  702.680396  711.419498       0.006251   586.672174   \n",
       "2016-11-09 03:04:00  702.680396  711.419498       0.003144   586.621473   \n",
       "\n",
       "                       spread  future15  future30  future45  future15_disc  \\\n",
       "2016-11-09 03:01:00  1.679256  0.002366  0.004593  0.013399            3.0   \n",
       "2016-11-09 03:02:00  1.650504  0.002019  0.003802  0.008926            3.0   \n",
       "2016-11-09 03:03:00  1.695882  0.002019  0.003802  0.010514            3.0   \n",
       "2016-11-09 03:04:00  1.419497  0.003122  0.005845  0.013099            3.0   \n",
       "\n",
       "                     future30_disc  future45_disc  \n",
       "2016-11-09 03:01:00            3.0            4.0  \n",
       "2016-11-09 03:02:00            3.0            4.0  \n",
       "2016-11-09 03:03:00            3.0            4.0  \n",
       "2016-11-09 03:04:00            4.0            4.0  "
      ]
     },
     "metadata": {},
     "output_type": "display_data"
    }
   ],
   "source": [
    "def load_and_preprocess_historyfiles(files):\n",
    "    hist = pd.DataFrame()\n",
    "    for file in histfiles:\n",
    "        data = pd.read_csv(file, index_col=0)\n",
    "        hist = pd.concat([hist, data])\n",
    "    hist.set_index(keys=pd.to_datetime(hist.index), inplace=True)\n",
    "\n",
    "    # remove dublicates and unneeded columns\n",
    "    hist = hist[~hist.index.duplicated(keep='first')]\n",
    "    hist.drop([\"id\", 'isFrozen'], axis=1, inplace=True)\n",
    "\n",
    "    # fill gaps with last observation\n",
    "    idx = pd.date_range(hist.index[0], hist.index[-1], freq=\"1min\")\n",
    "    hist = hist.sort_index().reindex(index=idx.sort_values(), method='ffill')\n",
    "    \n",
    "    # add more features\n",
    "    hist['spread'] = hist.lowestAsk - hist.highestBid\n",
    "\n",
    "    for lookahead in [15, 30, 45]:\n",
    "        hist[\"future{}\".format(lookahead)] = (hist['last'].shift(-lookahead) / hist['last']) - 1.\n",
    "\n",
    "    return hist\n",
    "\n",
    "histfiles = [\n",
    "    \"../../../../data/history/history_2016-11_USDT_BTC.csv\",\n",
    "    \"../../../../data/history/history_2017-02_USDT_BTC.csv\",\n",
    "]\n",
    "\n",
    "hist = load_and_preprocess_historyfiles(files=histfiles)\n",
    "hist['future15_disc'] = pd.cut(hist.future15, bins=[-np.inf, -0.005, -0.001, 0.001, 0.005, np.inf], labels=False)\n",
    "hist['future30_disc'] = pd.cut(hist.future30, bins=[-np.inf, -0.005, -0.001, 0.001, 0.005, np.inf], labels=False)\n",
    "hist['future45_disc'] = pd.cut(hist.future45, bins=[-np.inf, -0.005, -0.001, 0.001, 0.005, np.inf], labels=False)\n",
    "display(hist.iloc[1021:1025,:])"
   ]
  },
  {
   "cell_type": "raw",
   "metadata": {
    "collapsed": false
   },
   "source": [
    "def addMarketFeatures_toSamples(samples_df, hist, state_variables,\n",
    "                                market_features, period_length=15):\n",
    "    df = samples_df.copy()\n",
    "    \n",
    "    for i, f in tqdm(enumerate(market_features)):\n",
    "        #\n",
    "        f_n = \"{}_n\".format(f)\n",
    "        if f in df.columns:\n",
    "            df.drop(f, inplace=True, axis=1)\n",
    "        if f_n in df.columns:\n",
    "            df.drop(f_n, inplace=True, axis=1)\n",
    "        \n",
    "        df.insert(loc=2+i, column=f, value=df.timestamp.map(hist[f]),\n",
    "                 allow_duplicates=True)\n",
    "        df.insert(loc=df.shape[1],\n",
    "                  column=f_n,\n",
    "                  allow_duplicates=True,\n",
    "                  value=(df.timestamp+pd.Timedelta(minutes=period_length)).map(hist[f]))\n",
    "        if f not in state_variables:\n",
    "            state_variables.append(f)\n",
    "\n",
    "        if f in ['high24hr', 'low24hr', 'spread']:\n",
    "            df[f] = df[f] / df.initial_center\n",
    "            df[f_n] = df[f_n] / df.initial_center\n",
    "\n",
    "    return df\n",
    "\n",
    "df2 = addMarketFeatures_toSamples(samples_df=df2, hist=hist, state_variables=state_variables,\n",
    "                                 market_features=['future15', 'future15_disc', 'future30_disc', 'future45_disc'])\n",
    "print(df2.shape)\n",
    "display(df2.describe())"
   ]
  },
  {
   "cell_type": "code",
   "execution_count": 4,
   "metadata": {
    "collapsed": false
   },
   "outputs": [
    {
     "data": {
      "text/plain": [
       "20"
      ]
     },
     "metadata": {},
     "output_type": "display_data"
    },
    {
     "data": {
      "text/plain": [
       "OrderbookContainer from 2016-11-08T10:00 (factor: 1.0)\n",
       "  107 bids (best: 705.0)\n",
       "  110 asks (best: 705.450997)\n",
       "price: 705.2254744655137\n",
       "  kind: 'orderbook'\n",
       "  -spread: 0.4509970000000294\n",
       "  -future15: -3.246150348523713e-08\n",
       "  -future15_disc: 2.0\n",
       "  -future30: -0.0006393032568402512\n",
       "  -future30_disc: 2.0\n",
       "  -future45: -0.0025756666407984463\n",
       "  -future45_disc: 1.0"
      ]
     },
     "metadata": {},
     "output_type": "display_data"
    }
   ],
   "source": [
    "data_nov_orig = pickle.load( open( \"cached_windows/tradingwindows_1611_USTD_BTC_20.p\", \"rb\" ) )\n",
    "for window in data_nov_orig:\n",
    "    for ob in window:\n",
    "        ob.norm_factor = 1.\n",
    "        ob.features = {'spread': ob.asks.index[0]-ob.bids.index[0]}\n",
    "        \n",
    "        ts = pd.to_datetime(ob.timestamp)        \n",
    "        ts_prev = pd.to_datetime(ob.timestamp) - pd.Timedelta('60Min')\n",
    "\n",
    "        market_features = hist.loc[ts_prev:ts, :]\n",
    "        \n",
    "        for lookahead in [15,30,45]:\n",
    "            ob.features[\"future{}\".format(lookahead)] = market_features['future{}'.format(lookahead)][-1]\n",
    "            ob.features[\"future{}_disc\".format(lookahead)] = market_features['future{}_disc'.format(lookahead)][-1]\n",
    "display(len(data_nov_orig), data_nov_orig[0][0])"
   ]
  },
  {
   "cell_type": "code",
   "execution_count": null,
   "metadata": {
    "collapsed": false
   },
   "outputs": [],
   "source": [
    "data_feb = pickle.load( open( \"cached_windows/tradingwindows_1702_USTD_BTC.p\", \"rb\" ) )\n",
    "print(\"loaded\")\n",
    "for window in tqdm(data_feb[:20]):\n",
    "    for ob in window:\n",
    "        ob.norm_factor = 1.\n",
    "        ob.features = {'spread': ob.asks.index[0]-ob.bids.index[0]}\n",
    "        \n",
    "        ts = pd.to_datetime(ob.timestamp)        \n",
    "        ts_prev = pd.to_datetime(ob.timestamp) - pd.Timedelta('60Min')\n",
    "\n",
    "        market_features = hist.loc[ts_prev:ts, :]\n",
    "        \n",
    "        for lookahead in [15,30,45]:\n",
    "            ob.features[\"future{}\".format(lookahead)] = market_features['future{}'.format(lookahead)][-1]\n",
    "            ob.features[\"future{}_disc\".format(lookahead)] = market_features['future{}_disc'.format(lookahead)][-1]\n",
    "display(len(data_feb), data_feb[0][0])"
   ]
  },
  {
   "cell_type": "code",
   "execution_count": 5,
   "metadata": {
    "collapsed": false
   },
   "outputs": [
    {
     "name": "stdout",
     "output_type": "stream",
     "text": [
      "2\n",
      "2016-11-08T10:00\n",
      "2016-11-09T03:01\n"
     ]
    }
   ],
   "source": [
    "data_selection = [data_nov_orig[x] for x in [0,17]]\n",
    "print(len(data_selection))\n",
    "print(data_selection[0][0].timestamp)\n",
    "print(data_selection[1][0].timestamp)"
   ]
  },
  {
   "cell_type": "code",
   "execution_count": 6,
   "metadata": {
    "collapsed": false
   },
   "outputs": [
    {
     "name": "stdout",
     "output_type": "stream",
     "text": [
      "limits [705.93069993997915, 706.63592541444473, 706.63592541444473]\n"
     ]
    },
    {
     "data": {
      "text/plain": [
       "[705.93069993997915, 706.63592541444473, 706.63592541444473]"
      ]
     },
     "execution_count": 6,
     "metadata": {},
     "output_type": "execute_result"
    }
   ],
   "source": [
    "convert_actions_to_limit(data_selection[0], actions=[1,2,3])"
   ]
  },
  {
   "cell_type": "code",
   "execution_count": null,
   "metadata": {
    "collapsed": false
   },
   "outputs": [],
   "source": [
    "plot_episode(data_selection[0], actions=[1, 3])\n",
    "plot_episode(data_selection[0], actions=[1, 3, 4])\n"
   ]
  },
  {
   "cell_type": "code",
   "execution_count": null,
   "metadata": {
    "collapsed": false,
    "scrolled": false
   },
   "outputs": [],
   "source": [
    "#plot_episode(data_selection[1], limits=[714.843016, 714.843016, 719.106494])\n",
    "plot_episode(data_selection[1], actions=[6,4,6])\n",
    "plot_episode(data_selection[1], actions=[5,4,6])\n"
   ]
  },
  {
   "cell_type": "code",
   "execution_count": null,
   "metadata": {
    "collapsed": true
   },
   "outputs": [],
   "source": []
  },
  {
   "cell_type": "code",
   "execution_count": 157,
   "metadata": {
    "collapsed": false,
    "scrolled": true
   },
   "outputs": [
    {
     "name": "stdout",
     "output_type": "stream",
     "text": [
      "Window len 20 2016-11-08T10:00\n",
      "RL-Type: <class 'agents.QTable_Agent.QTable_Agent'>\n",
      "time_left 1\n"
     ]
    },
    {
     "name": "stderr",
     "output_type": "stream",
     "text": [
      "The installed widget Javascript is the wrong version.\n",
      "The installed widget Javascript is the wrong version.\n",
      "The installed widget Javascript is the wrong version.\n",
      "The installed widget Javascript is the wrong version.\n"
     ]
    },
    {
     "name": "stdout",
     "output_type": "stream",
     "text": [
      "cash, volume 70000 0\n",
      "\n"
     ]
    },
    {
     "name": "stderr",
     "output_type": "stream",
     "text": [
      "The installed widget Javascript is the wrong version.\n",
      "The installed widget Javascript is the wrong version.\n",
      "The installed widget Javascript is the wrong version.\n",
      "The installed widget Javascript is the wrong version.\n",
      "The installed widget Javascript is the wrong version.\n",
      "The installed widget Javascript is the wrong version.\n",
      "The installed widget Javascript is the wrong version.\n",
      "The installed widget Javascript is the wrong version.\n",
      "The installed widget Javascript is the wrong version.\n"
     ]
    },
    {
     "name": "stdout",
     "output_type": "stream",
     "text": [
      "Saved agent: 'q.json'\n",
      "Saved samples: 'q.csv'\n",
      "cash, volume 70000 0\n"
     ]
    },
    {
     "name": "stderr",
     "output_type": "stream",
     "text": [
      "The installed widget Javascript is the wrong version.\n",
      "The installed widget Javascript is the wrong version.\n",
      "The installed widget Javascript is the wrong version.\n",
      "The installed widget Javascript is the wrong version.\n",
      "The installed widget Javascript is the wrong version.\n",
      "The installed widget Javascript is the wrong version.\n",
      "The installed widget Javascript is the wrong version.\n",
      "The installed widget Javascript is the wrong version.\n",
      "The installed widget Javascript is the wrong version.\n",
      "The installed widget Javascript is the wrong version.\n",
      "The installed widget Javascript is the wrong version.\n"
     ]
    },
    {
     "name": "stdout",
     "output_type": "stream",
     "text": [
      "cash, volume 70000 0\n"
     ]
    },
    {
     "name": "stderr",
     "output_type": "stream",
     "text": [
      "The installed widget Javascript is the wrong version.\n",
      "The installed widget Javascript is the wrong version.\n",
      "The installed widget Javascript is the wrong version.\n",
      "The installed widget Javascript is the wrong version.\n",
      "The installed widget Javascript is the wrong version.\n",
      "The installed widget Javascript is the wrong version.\n",
      "The installed widget Javascript is the wrong version.\n",
      "The installed widget Javascript is the wrong version.\n",
      "The installed widget Javascript is the wrong version.\n",
      "The installed widget Javascript is the wrong version.\n",
      "The installed widget Javascript is the wrong version.\n"
     ]
    },
    {
     "name": "stdout",
     "output_type": "stream",
     "text": [
      "cash, volume 70000 0\n"
     ]
    },
    {
     "name": "stderr",
     "output_type": "stream",
     "text": [
      "The installed widget Javascript is the wrong version.\n",
      "The installed widget Javascript is the wrong version.\n",
      "The installed widget Javascript is the wrong version.\n",
      "The installed widget Javascript is the wrong version.\n",
      "The installed widget Javascript is the wrong version.\n",
      "The installed widget Javascript is the wrong version.\n",
      "The installed widget Javascript is the wrong version.\n",
      "The installed widget Javascript is the wrong version.\n",
      "The installed widget Javascript is the wrong version.\n",
      "The installed widget Javascript is the wrong version.\n",
      "The installed widget Javascript is the wrong version.\n"
     ]
    },
    {
     "name": "stdout",
     "output_type": "stream",
     "text": [
      "cash, volume 70000 0\n"
     ]
    },
    {
     "name": "stderr",
     "output_type": "stream",
     "text": [
      "The installed widget Javascript is the wrong version.\n",
      "The installed widget Javascript is the wrong version.\n",
      "The installed widget Javascript is the wrong version.\n",
      "The installed widget Javascript is the wrong version.\n",
      "The installed widget Javascript is the wrong version.\n",
      "The installed widget Javascript is the wrong version.\n",
      "The installed widget Javascript is the wrong version.\n",
      "The installed widget Javascript is the wrong version.\n",
      "The installed widget Javascript is the wrong version.\n",
      "The installed widget Javascript is the wrong version.\n",
      "The installed widget Javascript is the wrong version.\n"
     ]
    },
    {
     "name": "stdout",
     "output_type": "stream",
     "text": [
      "cash, volume 70000 0\n"
     ]
    },
    {
     "name": "stderr",
     "output_type": "stream",
     "text": [
      "The installed widget Javascript is the wrong version.\n",
      "The installed widget Javascript is the wrong version.\n",
      "The installed widget Javascript is the wrong version.\n",
      "The installed widget Javascript is the wrong version.\n",
      "The installed widget Javascript is the wrong version.\n",
      "The installed widget Javascript is the wrong version.\n",
      "The installed widget Javascript is the wrong version.\n",
      "The installed widget Javascript is the wrong version.\n",
      "The installed widget Javascript is the wrong version.\n",
      "The installed widget Javascript is the wrong version.\n",
      "The installed widget Javascript is the wrong version.\n"
     ]
    },
    {
     "name": "stdout",
     "output_type": "stream",
     "text": [
      "Saved agent: 'q.json'\n",
      "Saved samples: 'q.csv'\n",
      "cash, volume 70000 0\n"
     ]
    },
    {
     "name": "stderr",
     "output_type": "stream",
     "text": [
      "The installed widget Javascript is the wrong version.\n",
      "The installed widget Javascript is the wrong version.\n",
      "The installed widget Javascript is the wrong version.\n",
      "The installed widget Javascript is the wrong version.\n",
      "The installed widget Javascript is the wrong version.\n",
      "The installed widget Javascript is the wrong version.\n",
      "The installed widget Javascript is the wrong version.\n",
      "The installed widget Javascript is the wrong version.\n",
      "The installed widget Javascript is the wrong version.\n",
      "The installed widget Javascript is the wrong version.\n",
      "The installed widget Javascript is the wrong version.\n"
     ]
    },
    {
     "name": "stdout",
     "output_type": "stream",
     "text": [
      "cash, volume 70000 0\n"
     ]
    },
    {
     "name": "stderr",
     "output_type": "stream",
     "text": [
      "The installed widget Javascript is the wrong version.\n",
      "The installed widget Javascript is the wrong version.\n",
      "The installed widget Javascript is the wrong version.\n",
      "The installed widget Javascript is the wrong version.\n",
      "The installed widget Javascript is the wrong version.\n",
      "The installed widget Javascript is the wrong version.\n",
      "The installed widget Javascript is the wrong version.\n",
      "The installed widget Javascript is the wrong version.\n",
      "The installed widget Javascript is the wrong version.\n",
      "The installed widget Javascript is the wrong version.\n",
      "The installed widget Javascript is the wrong version.\n"
     ]
    },
    {
     "name": "stdout",
     "output_type": "stream",
     "text": [
      "cash, volume 70000 0\n"
     ]
    },
    {
     "name": "stderr",
     "output_type": "stream",
     "text": [
      "The installed widget Javascript is the wrong version.\n",
      "The installed widget Javascript is the wrong version.\n",
      "The installed widget Javascript is the wrong version.\n",
      "The installed widget Javascript is the wrong version.\n",
      "The installed widget Javascript is the wrong version.\n",
      "The installed widget Javascript is the wrong version.\n",
      "The installed widget Javascript is the wrong version.\n",
      "The installed widget Javascript is the wrong version.\n",
      "The installed widget Javascript is the wrong version.\n",
      "The installed widget Javascript is the wrong version.\n",
      "The installed widget Javascript is the wrong version.\n"
     ]
    },
    {
     "name": "stdout",
     "output_type": "stream",
     "text": [
      "cash, volume 70000 0\n"
     ]
    },
    {
     "name": "stderr",
     "output_type": "stream",
     "text": [
      "The installed widget Javascript is the wrong version.\n",
      "The installed widget Javascript is the wrong version.\n",
      "The installed widget Javascript is the wrong version.\n",
      "The installed widget Javascript is the wrong version.\n",
      "The installed widget Javascript is the wrong version.\n",
      "The installed widget Javascript is the wrong version.\n",
      "The installed widget Javascript is the wrong version.\n",
      "The installed widget Javascript is the wrong version.\n",
      "The installed widget Javascript is the wrong version.\n",
      "The installed widget Javascript is the wrong version.\n",
      "The installed widget Javascript is the wrong version.\n"
     ]
    },
    {
     "name": "stdout",
     "output_type": "stream",
     "text": [
      "cash, volume 70000 0\n"
     ]
    },
    {
     "name": "stderr",
     "output_type": "stream",
     "text": [
      "The installed widget Javascript is the wrong version.\n",
      "The installed widget Javascript is the wrong version.\n",
      "The installed widget Javascript is the wrong version.\n",
      "The installed widget Javascript is the wrong version.\n",
      "The installed widget Javascript is the wrong version.\n",
      "The installed widget Javascript is the wrong version.\n",
      "The installed widget Javascript is the wrong version.\n",
      "The installed widget Javascript is the wrong version.\n",
      "The installed widget Javascript is the wrong version.\n",
      "The installed widget Javascript is the wrong version.\n",
      "The installed widget Javascript is the wrong version.\n"
     ]
    },
    {
     "name": "stdout",
     "output_type": "stream",
     "text": [
      "Saved agent: 'q.json'\n",
      "Saved samples: 'q.csv'\n",
      "cash, volume 70000 0\n"
     ]
    },
    {
     "name": "stderr",
     "output_type": "stream",
     "text": [
      "The installed widget Javascript is the wrong version.\n",
      "The installed widget Javascript is the wrong version.\n",
      "The installed widget Javascript is the wrong version.\n",
      "The installed widget Javascript is the wrong version.\n",
      "The installed widget Javascript is the wrong version.\n",
      "The installed widget Javascript is the wrong version.\n",
      "The installed widget Javascript is the wrong version.\n",
      "The installed widget Javascript is the wrong version.\n",
      "The installed widget Javascript is the wrong version.\n",
      "The installed widget Javascript is the wrong version.\n",
      "The installed widget Javascript is the wrong version.\n"
     ]
    },
    {
     "name": "stdout",
     "output_type": "stream",
     "text": [
      "cash, volume 70000 0\n"
     ]
    },
    {
     "name": "stderr",
     "output_type": "stream",
     "text": [
      "The installed widget Javascript is the wrong version.\n",
      "The installed widget Javascript is the wrong version.\n",
      "The installed widget Javascript is the wrong version.\n",
      "The installed widget Javascript is the wrong version.\n",
      "The installed widget Javascript is the wrong version.\n",
      "The installed widget Javascript is the wrong version.\n",
      "The installed widget Javascript is the wrong version.\n",
      "The installed widget Javascript is the wrong version.\n",
      "The installed widget Javascript is the wrong version.\n",
      "The installed widget Javascript is the wrong version.\n",
      "The installed widget Javascript is the wrong version.\n"
     ]
    },
    {
     "name": "stdout",
     "output_type": "stream",
     "text": [
      "cash, volume 70000 0\n"
     ]
    },
    {
     "name": "stderr",
     "output_type": "stream",
     "text": [
      "The installed widget Javascript is the wrong version.\n",
      "The installed widget Javascript is the wrong version.\n",
      "The installed widget Javascript is the wrong version.\n",
      "The installed widget Javascript is the wrong version.\n",
      "The installed widget Javascript is the wrong version.\n",
      "The installed widget Javascript is the wrong version.\n",
      "The installed widget Javascript is the wrong version.\n",
      "The installed widget Javascript is the wrong version.\n",
      "The installed widget Javascript is the wrong version.\n",
      "The installed widget Javascript is the wrong version.\n",
      "The installed widget Javascript is the wrong version.\n"
     ]
    },
    {
     "name": "stdout",
     "output_type": "stream",
     "text": [
      "cash, volume 70000 0\n"
     ]
    },
    {
     "name": "stderr",
     "output_type": "stream",
     "text": [
      "The installed widget Javascript is the wrong version.\n",
      "The installed widget Javascript is the wrong version.\n",
      "The installed widget Javascript is the wrong version.\n",
      "The installed widget Javascript is the wrong version.\n",
      "The installed widget Javascript is the wrong version.\n",
      "The installed widget Javascript is the wrong version.\n",
      "The installed widget Javascript is the wrong version.\n",
      "The installed widget Javascript is the wrong version.\n",
      "The installed widget Javascript is the wrong version.\n",
      "The installed widget Javascript is the wrong version.\n",
      "The installed widget Javascript is the wrong version.\n"
     ]
    },
    {
     "name": "stdout",
     "output_type": "stream",
     "text": [
      "cash, volume 70000 0\n"
     ]
    },
    {
     "name": "stderr",
     "output_type": "stream",
     "text": [
      "The installed widget Javascript is the wrong version.\n",
      "The installed widget Javascript is the wrong version.\n",
      "The installed widget Javascript is the wrong version.\n",
      "The installed widget Javascript is the wrong version.\n",
      "The installed widget Javascript is the wrong version.\n",
      "The installed widget Javascript is the wrong version.\n",
      "The installed widget Javascript is the wrong version.\n",
      "The installed widget Javascript is the wrong version.\n",
      "The installed widget Javascript is the wrong version.\n",
      "The installed widget Javascript is the wrong version.\n",
      "The installed widget Javascript is the wrong version.\n"
     ]
    },
    {
     "name": "stdout",
     "output_type": "stream",
     "text": [
      "Saved agent: 'q.json'\n",
      "Saved samples: 'q.csv'\n",
      "cash, volume 70000 0\n"
     ]
    },
    {
     "name": "stderr",
     "output_type": "stream",
     "text": [
      "The installed widget Javascript is the wrong version.\n",
      "The installed widget Javascript is the wrong version.\n",
      "The installed widget Javascript is the wrong version.\n",
      "The installed widget Javascript is the wrong version.\n",
      "The installed widget Javascript is the wrong version.\n",
      "The installed widget Javascript is the wrong version.\n",
      "The installed widget Javascript is the wrong version.\n",
      "The installed widget Javascript is the wrong version.\n",
      "The installed widget Javascript is the wrong version.\n",
      "The installed widget Javascript is the wrong version.\n",
      "The installed widget Javascript is the wrong version.\n"
     ]
    },
    {
     "name": "stdout",
     "output_type": "stream",
     "text": [
      "cash, volume 70000 0\n"
     ]
    },
    {
     "name": "stderr",
     "output_type": "stream",
     "text": [
      "The installed widget Javascript is the wrong version.\n",
      "The installed widget Javascript is the wrong version.\n",
      "The installed widget Javascript is the wrong version.\n",
      "The installed widget Javascript is the wrong version.\n",
      "The installed widget Javascript is the wrong version.\n",
      "The installed widget Javascript is the wrong version.\n",
      "The installed widget Javascript is the wrong version.\n",
      "The installed widget Javascript is the wrong version.\n",
      "The installed widget Javascript is the wrong version.\n",
      "The installed widget Javascript is the wrong version.\n",
      "The installed widget Javascript is the wrong version.\n"
     ]
    },
    {
     "name": "stdout",
     "output_type": "stream",
     "text": [
      "cash, volume 70000 0\n"
     ]
    },
    {
     "name": "stderr",
     "output_type": "stream",
     "text": [
      "The installed widget Javascript is the wrong version.\n",
      "The installed widget Javascript is the wrong version.\n",
      "The installed widget Javascript is the wrong version.\n",
      "The installed widget Javascript is the wrong version.\n",
      "The installed widget Javascript is the wrong version.\n",
      "The installed widget Javascript is the wrong version.\n",
      "The installed widget Javascript is the wrong version.\n",
      "The installed widget Javascript is the wrong version.\n",
      "The installed widget Javascript is the wrong version.\n",
      "The installed widget Javascript is the wrong version.\n",
      "The installed widget Javascript is the wrong version.\n"
     ]
    },
    {
     "name": "stdout",
     "output_type": "stream",
     "text": [
      "cash, volume 70000 0\n"
     ]
    },
    {
     "name": "stderr",
     "output_type": "stream",
     "text": [
      "The installed widget Javascript is the wrong version.\n",
      "The installed widget Javascript is the wrong version.\n",
      "The installed widget Javascript is the wrong version.\n",
      "The installed widget Javascript is the wrong version.\n",
      "The installed widget Javascript is the wrong version.\n",
      "The installed widget Javascript is the wrong version.\n",
      "The installed widget Javascript is the wrong version.\n",
      "The installed widget Javascript is the wrong version.\n",
      "The installed widget Javascript is the wrong version.\n",
      "The installed widget Javascript is the wrong version.\n",
      "The installed widget Javascript is the wrong version.\n"
     ]
    },
    {
     "name": "stdout",
     "output_type": "stream",
     "text": [
      "Saved agent: 'q.json'\n",
      "Saved samples: 'q.csv'\n",
      "time_left 2\n",
      "cash, volume 70000 0\n"
     ]
    },
    {
     "name": "stderr",
     "output_type": "stream",
     "text": [
      "The installed widget Javascript is the wrong version.\n",
      "The installed widget Javascript is the wrong version.\n",
      "The installed widget Javascript is the wrong version.\n",
      "The installed widget Javascript is the wrong version.\n",
      "The installed widget Javascript is the wrong version.\n",
      "The installed widget Javascript is the wrong version.\n",
      "The installed widget Javascript is the wrong version.\n",
      "The installed widget Javascript is the wrong version.\n",
      "The installed widget Javascript is the wrong version.\n",
      "The installed widget Javascript is the wrong version.\n",
      "The installed widget Javascript is the wrong version.\n",
      "The installed widget Javascript is the wrong version.\n"
     ]
    },
    {
     "name": "stdout",
     "output_type": "stream",
     "text": [
      "Saved agent: 'q.json'\n",
      "Saved samples: 'q.csv'\n",
      "cash, volume 70000 0\n"
     ]
    },
    {
     "name": "stderr",
     "output_type": "stream",
     "text": [
      "The installed widget Javascript is the wrong version.\n",
      "The installed widget Javascript is the wrong version.\n",
      "The installed widget Javascript is the wrong version.\n",
      "The installed widget Javascript is the wrong version.\n",
      "The installed widget Javascript is the wrong version.\n",
      "The installed widget Javascript is the wrong version.\n",
      "The installed widget Javascript is the wrong version.\n",
      "The installed widget Javascript is the wrong version.\n",
      "The installed widget Javascript is the wrong version.\n",
      "The installed widget Javascript is the wrong version.\n",
      "The installed widget Javascript is the wrong version.\n"
     ]
    },
    {
     "name": "stdout",
     "output_type": "stream",
     "text": [
      "cash, volume 70000 0\n"
     ]
    },
    {
     "name": "stderr",
     "output_type": "stream",
     "text": [
      "The installed widget Javascript is the wrong version.\n",
      "The installed widget Javascript is the wrong version.\n",
      "The installed widget Javascript is the wrong version.\n",
      "The installed widget Javascript is the wrong version.\n",
      "The installed widget Javascript is the wrong version.\n",
      "The installed widget Javascript is the wrong version.\n",
      "The installed widget Javascript is the wrong version.\n",
      "The installed widget Javascript is the wrong version.\n",
      "The installed widget Javascript is the wrong version.\n",
      "The installed widget Javascript is the wrong version.\n",
      "The installed widget Javascript is the wrong version.\n"
     ]
    },
    {
     "name": "stdout",
     "output_type": "stream",
     "text": [
      "cash, volume 70000 0\n"
     ]
    },
    {
     "name": "stderr",
     "output_type": "stream",
     "text": [
      "The installed widget Javascript is the wrong version.\n",
      "The installed widget Javascript is the wrong version.\n",
      "The installed widget Javascript is the wrong version.\n",
      "The installed widget Javascript is the wrong version.\n",
      "The installed widget Javascript is the wrong version.\n",
      "The installed widget Javascript is the wrong version.\n",
      "The installed widget Javascript is the wrong version.\n",
      "The installed widget Javascript is the wrong version.\n",
      "The installed widget Javascript is the wrong version.\n",
      "The installed widget Javascript is the wrong version.\n",
      "The installed widget Javascript is the wrong version.\n"
     ]
    },
    {
     "name": "stdout",
     "output_type": "stream",
     "text": [
      "cash, volume 70000 0\n"
     ]
    },
    {
     "name": "stderr",
     "output_type": "stream",
     "text": [
      "The installed widget Javascript is the wrong version.\n",
      "The installed widget Javascript is the wrong version.\n",
      "The installed widget Javascript is the wrong version.\n",
      "The installed widget Javascript is the wrong version.\n",
      "The installed widget Javascript is the wrong version.\n",
      "The installed widget Javascript is the wrong version.\n",
      "The installed widget Javascript is the wrong version.\n",
      "The installed widget Javascript is the wrong version.\n",
      "The installed widget Javascript is the wrong version.\n",
      "The installed widget Javascript is the wrong version.\n",
      "The installed widget Javascript is the wrong version.\n"
     ]
    },
    {
     "name": "stdout",
     "output_type": "stream",
     "text": [
      "cash, volume 70000 0\n"
     ]
    },
    {
     "name": "stderr",
     "output_type": "stream",
     "text": [
      "The installed widget Javascript is the wrong version.\n",
      "The installed widget Javascript is the wrong version.\n",
      "The installed widget Javascript is the wrong version.\n",
      "The installed widget Javascript is the wrong version.\n",
      "The installed widget Javascript is the wrong version.\n",
      "The installed widget Javascript is the wrong version.\n",
      "The installed widget Javascript is the wrong version.\n",
      "The installed widget Javascript is the wrong version.\n",
      "The installed widget Javascript is the wrong version.\n",
      "The installed widget Javascript is the wrong version.\n",
      "The installed widget Javascript is the wrong version.\n"
     ]
    },
    {
     "name": "stdout",
     "output_type": "stream",
     "text": [
      "Saved agent: 'q.json'\n",
      "Saved samples: 'q.csv'\n",
      "cash, volume 70000 0\n"
     ]
    },
    {
     "name": "stderr",
     "output_type": "stream",
     "text": [
      "The installed widget Javascript is the wrong version.\n",
      "The installed widget Javascript is the wrong version.\n",
      "The installed widget Javascript is the wrong version.\n",
      "The installed widget Javascript is the wrong version.\n",
      "The installed widget Javascript is the wrong version.\n",
      "The installed widget Javascript is the wrong version.\n",
      "The installed widget Javascript is the wrong version.\n",
      "The installed widget Javascript is the wrong version.\n",
      "The installed widget Javascript is the wrong version.\n",
      "The installed widget Javascript is the wrong version.\n",
      "The installed widget Javascript is the wrong version.\n"
     ]
    },
    {
     "name": "stdout",
     "output_type": "stream",
     "text": [
      "cash, volume 70000 0\n"
     ]
    },
    {
     "name": "stderr",
     "output_type": "stream",
     "text": [
      "The installed widget Javascript is the wrong version.\n",
      "The installed widget Javascript is the wrong version.\n",
      "The installed widget Javascript is the wrong version.\n",
      "The installed widget Javascript is the wrong version.\n",
      "The installed widget Javascript is the wrong version.\n",
      "The installed widget Javascript is the wrong version.\n",
      "The installed widget Javascript is the wrong version.\n",
      "The installed widget Javascript is the wrong version.\n",
      "The installed widget Javascript is the wrong version.\n",
      "The installed widget Javascript is the wrong version.\n",
      "The installed widget Javascript is the wrong version.\n"
     ]
    },
    {
     "name": "stdout",
     "output_type": "stream",
     "text": [
      "cash, volume 70000 0\n"
     ]
    },
    {
     "name": "stderr",
     "output_type": "stream",
     "text": [
      "The installed widget Javascript is the wrong version.\n",
      "The installed widget Javascript is the wrong version.\n",
      "The installed widget Javascript is the wrong version.\n",
      "The installed widget Javascript is the wrong version.\n",
      "The installed widget Javascript is the wrong version.\n",
      "The installed widget Javascript is the wrong version.\n",
      "The installed widget Javascript is the wrong version.\n",
      "The installed widget Javascript is the wrong version.\n",
      "The installed widget Javascript is the wrong version.\n",
      "The installed widget Javascript is the wrong version.\n",
      "The installed widget Javascript is the wrong version.\n"
     ]
    },
    {
     "name": "stdout",
     "output_type": "stream",
     "text": [
      "cash, volume 70000 0\n"
     ]
    },
    {
     "name": "stderr",
     "output_type": "stream",
     "text": [
      "The installed widget Javascript is the wrong version.\n",
      "The installed widget Javascript is the wrong version.\n",
      "The installed widget Javascript is the wrong version.\n",
      "The installed widget Javascript is the wrong version.\n",
      "The installed widget Javascript is the wrong version.\n",
      "The installed widget Javascript is the wrong version.\n",
      "The installed widget Javascript is the wrong version.\n",
      "The installed widget Javascript is the wrong version.\n",
      "The installed widget Javascript is the wrong version.\n",
      "The installed widget Javascript is the wrong version.\n",
      "The installed widget Javascript is the wrong version.\n"
     ]
    },
    {
     "name": "stdout",
     "output_type": "stream",
     "text": [
      "cash, volume 70000 0\n"
     ]
    },
    {
     "name": "stderr",
     "output_type": "stream",
     "text": [
      "The installed widget Javascript is the wrong version.\n",
      "The installed widget Javascript is the wrong version.\n",
      "The installed widget Javascript is the wrong version.\n",
      "The installed widget Javascript is the wrong version.\n",
      "The installed widget Javascript is the wrong version.\n",
      "The installed widget Javascript is the wrong version.\n",
      "The installed widget Javascript is the wrong version.\n",
      "The installed widget Javascript is the wrong version.\n",
      "The installed widget Javascript is the wrong version.\n",
      "The installed widget Javascript is the wrong version.\n",
      "The installed widget Javascript is the wrong version.\n"
     ]
    },
    {
     "name": "stdout",
     "output_type": "stream",
     "text": [
      "Saved agent: 'q.json'\n",
      "Saved samples: 'q.csv'\n",
      "cash, volume 70000 0\n"
     ]
    },
    {
     "name": "stderr",
     "output_type": "stream",
     "text": [
      "The installed widget Javascript is the wrong version.\n",
      "The installed widget Javascript is the wrong version.\n",
      "The installed widget Javascript is the wrong version.\n",
      "The installed widget Javascript is the wrong version.\n",
      "The installed widget Javascript is the wrong version.\n",
      "The installed widget Javascript is the wrong version.\n",
      "The installed widget Javascript is the wrong version.\n",
      "The installed widget Javascript is the wrong version.\n",
      "The installed widget Javascript is the wrong version.\n",
      "The installed widget Javascript is the wrong version.\n",
      "The installed widget Javascript is the wrong version.\n"
     ]
    },
    {
     "name": "stdout",
     "output_type": "stream",
     "text": [
      "cash, volume 70000 0\n"
     ]
    },
    {
     "name": "stderr",
     "output_type": "stream",
     "text": [
      "The installed widget Javascript is the wrong version.\n",
      "The installed widget Javascript is the wrong version.\n",
      "The installed widget Javascript is the wrong version.\n",
      "The installed widget Javascript is the wrong version.\n",
      "The installed widget Javascript is the wrong version.\n",
      "The installed widget Javascript is the wrong version.\n",
      "The installed widget Javascript is the wrong version.\n",
      "The installed widget Javascript is the wrong version.\n",
      "The installed widget Javascript is the wrong version.\n",
      "The installed widget Javascript is the wrong version.\n",
      "The installed widget Javascript is the wrong version.\n"
     ]
    },
    {
     "name": "stdout",
     "output_type": "stream",
     "text": [
      "cash, volume 70000 0\n"
     ]
    },
    {
     "name": "stderr",
     "output_type": "stream",
     "text": [
      "The installed widget Javascript is the wrong version.\n",
      "The installed widget Javascript is the wrong version.\n",
      "The installed widget Javascript is the wrong version.\n",
      "The installed widget Javascript is the wrong version.\n",
      "The installed widget Javascript is the wrong version.\n",
      "The installed widget Javascript is the wrong version.\n",
      "The installed widget Javascript is the wrong version.\n",
      "The installed widget Javascript is the wrong version.\n",
      "The installed widget Javascript is the wrong version.\n",
      "The installed widget Javascript is the wrong version.\n",
      "The installed widget Javascript is the wrong version.\n"
     ]
    },
    {
     "name": "stdout",
     "output_type": "stream",
     "text": [
      "cash, volume 70000 0\n"
     ]
    },
    {
     "name": "stderr",
     "output_type": "stream",
     "text": [
      "The installed widget Javascript is the wrong version.\n",
      "The installed widget Javascript is the wrong version.\n",
      "The installed widget Javascript is the wrong version.\n",
      "The installed widget Javascript is the wrong version.\n",
      "The installed widget Javascript is the wrong version.\n",
      "The installed widget Javascript is the wrong version.\n",
      "The installed widget Javascript is the wrong version.\n",
      "The installed widget Javascript is the wrong version.\n",
      "The installed widget Javascript is the wrong version.\n",
      "The installed widget Javascript is the wrong version.\n",
      "The installed widget Javascript is the wrong version.\n"
     ]
    },
    {
     "name": "stdout",
     "output_type": "stream",
     "text": [
      "cash, volume 70000 0\n"
     ]
    },
    {
     "name": "stderr",
     "output_type": "stream",
     "text": [
      "The installed widget Javascript is the wrong version.\n",
      "The installed widget Javascript is the wrong version.\n",
      "The installed widget Javascript is the wrong version.\n",
      "The installed widget Javascript is the wrong version.\n",
      "The installed widget Javascript is the wrong version.\n",
      "The installed widget Javascript is the wrong version.\n",
      "The installed widget Javascript is the wrong version.\n",
      "The installed widget Javascript is the wrong version.\n",
      "The installed widget Javascript is the wrong version.\n",
      "The installed widget Javascript is the wrong version.\n",
      "The installed widget Javascript is the wrong version.\n"
     ]
    },
    {
     "name": "stdout",
     "output_type": "stream",
     "text": [
      "Saved agent: 'q.json'\n",
      "Saved samples: 'q.csv'\n",
      "cash, volume 70000 0\n"
     ]
    },
    {
     "name": "stderr",
     "output_type": "stream",
     "text": [
      "The installed widget Javascript is the wrong version.\n",
      "The installed widget Javascript is the wrong version.\n",
      "The installed widget Javascript is the wrong version.\n",
      "The installed widget Javascript is the wrong version.\n",
      "The installed widget Javascript is the wrong version.\n",
      "The installed widget Javascript is the wrong version.\n",
      "The installed widget Javascript is the wrong version.\n",
      "The installed widget Javascript is the wrong version.\n",
      "The installed widget Javascript is the wrong version.\n",
      "The installed widget Javascript is the wrong version.\n",
      "The installed widget Javascript is the wrong version.\n"
     ]
    },
    {
     "name": "stdout",
     "output_type": "stream",
     "text": [
      "cash, volume 70000 0\n"
     ]
    },
    {
     "name": "stderr",
     "output_type": "stream",
     "text": [
      "The installed widget Javascript is the wrong version.\n",
      "The installed widget Javascript is the wrong version.\n",
      "The installed widget Javascript is the wrong version.\n",
      "The installed widget Javascript is the wrong version.\n",
      "The installed widget Javascript is the wrong version.\n",
      "The installed widget Javascript is the wrong version.\n",
      "The installed widget Javascript is the wrong version.\n",
      "The installed widget Javascript is the wrong version.\n",
      "The installed widget Javascript is the wrong version.\n",
      "The installed widget Javascript is the wrong version.\n",
      "The installed widget Javascript is the wrong version.\n"
     ]
    },
    {
     "name": "stdout",
     "output_type": "stream",
     "text": [
      "cash, volume 70000 0\n"
     ]
    },
    {
     "name": "stderr",
     "output_type": "stream",
     "text": [
      "The installed widget Javascript is the wrong version.\n",
      "The installed widget Javascript is the wrong version.\n",
      "The installed widget Javascript is the wrong version.\n",
      "The installed widget Javascript is the wrong version.\n",
      "The installed widget Javascript is the wrong version.\n",
      "The installed widget Javascript is the wrong version.\n",
      "The installed widget Javascript is the wrong version.\n",
      "The installed widget Javascript is the wrong version.\n",
      "The installed widget Javascript is the wrong version.\n",
      "The installed widget Javascript is the wrong version.\n",
      "The installed widget Javascript is the wrong version.\n"
     ]
    },
    {
     "name": "stdout",
     "output_type": "stream",
     "text": [
      "cash, volume 70000 0\n"
     ]
    },
    {
     "name": "stderr",
     "output_type": "stream",
     "text": [
      "The installed widget Javascript is the wrong version.\n",
      "The installed widget Javascript is the wrong version.\n",
      "The installed widget Javascript is the wrong version.\n",
      "The installed widget Javascript is the wrong version.\n",
      "The installed widget Javascript is the wrong version.\n",
      "The installed widget Javascript is the wrong version.\n",
      "The installed widget Javascript is the wrong version.\n",
      "The installed widget Javascript is the wrong version.\n",
      "The installed widget Javascript is the wrong version.\n",
      "The installed widget Javascript is the wrong version.\n",
      "The installed widget Javascript is the wrong version.\n"
     ]
    },
    {
     "name": "stdout",
     "output_type": "stream",
     "text": [
      "Saved agent: 'q.json'\n",
      "Saved samples: 'q.csv'\n"
     ]
    },
    {
     "name": "stderr",
     "output_type": "stream",
     "text": [
      "The installed widget Javascript is the wrong version.\n",
      "The installed widget Javascript is the wrong version.\n",
      "The installed widget Javascript is the wrong version.\n"
     ]
    },
    {
     "name": "stdout",
     "output_type": "stream",
     "text": [
      "time_left 3\n",
      "cash, volume 70000 0\n",
      "Saved agent: 'q.json'\n",
      "Saved samples: 'q.csv'\n",
      "cash, volume 70000 0\n"
     ]
    },
    {
     "name": "stderr",
     "output_type": "stream",
     "text": [
      "The installed widget Javascript is the wrong version.\n",
      "The installed widget Javascript is the wrong version.\n"
     ]
    },
    {
     "name": "stdout",
     "output_type": "stream",
     "text": [
      "cash, volume 70000 0\n"
     ]
    },
    {
     "name": "stderr",
     "output_type": "stream",
     "text": [
      "The installed widget Javascript is the wrong version.\n",
      "The installed widget Javascript is the wrong version.\n"
     ]
    },
    {
     "name": "stdout",
     "output_type": "stream",
     "text": [
      "cash, volume 70000 0\n"
     ]
    },
    {
     "name": "stderr",
     "output_type": "stream",
     "text": [
      "The installed widget Javascript is the wrong version.\n",
      "The installed widget Javascript is the wrong version.\n"
     ]
    },
    {
     "name": "stdout",
     "output_type": "stream",
     "text": [
      "cash, volume 70000 0\n"
     ]
    },
    {
     "name": "stderr",
     "output_type": "stream",
     "text": [
      "The installed widget Javascript is the wrong version.\n",
      "The installed widget Javascript is the wrong version.\n"
     ]
    },
    {
     "name": "stdout",
     "output_type": "stream",
     "text": [
      "cash, volume 70000 0\n"
     ]
    },
    {
     "name": "stderr",
     "output_type": "stream",
     "text": [
      "The installed widget Javascript is the wrong version.\n",
      "The installed widget Javascript is the wrong version.\n"
     ]
    },
    {
     "name": "stdout",
     "output_type": "stream",
     "text": [
      "Saved agent: 'q.json'\n",
      "Saved samples: 'q.csv'\n",
      "cash, volume 70000 0\n"
     ]
    },
    {
     "name": "stderr",
     "output_type": "stream",
     "text": [
      "The installed widget Javascript is the wrong version.\n",
      "The installed widget Javascript is the wrong version.\n"
     ]
    },
    {
     "name": "stdout",
     "output_type": "stream",
     "text": [
      "cash, volume 70000 0\n"
     ]
    },
    {
     "name": "stderr",
     "output_type": "stream",
     "text": [
      "The installed widget Javascript is the wrong version.\n",
      "The installed widget Javascript is the wrong version.\n"
     ]
    },
    {
     "name": "stdout",
     "output_type": "stream",
     "text": [
      "cash, volume 70000 0\n"
     ]
    },
    {
     "name": "stderr",
     "output_type": "stream",
     "text": [
      "The installed widget Javascript is the wrong version.\n",
      "The installed widget Javascript is the wrong version.\n"
     ]
    },
    {
     "name": "stdout",
     "output_type": "stream",
     "text": [
      "cash, volume 70000 0\n"
     ]
    },
    {
     "name": "stderr",
     "output_type": "stream",
     "text": [
      "The installed widget Javascript is the wrong version.\n",
      "The installed widget Javascript is the wrong version.\n"
     ]
    },
    {
     "name": "stdout",
     "output_type": "stream",
     "text": [
      "cash, volume 70000 0\n"
     ]
    },
    {
     "name": "stderr",
     "output_type": "stream",
     "text": [
      "The installed widget Javascript is the wrong version.\n",
      "The installed widget Javascript is the wrong version.\n"
     ]
    },
    {
     "name": "stdout",
     "output_type": "stream",
     "text": [
      "Saved agent: 'q.json'\n",
      "Saved samples: 'q.csv'\n",
      "cash, volume 70000 0\n"
     ]
    },
    {
     "name": "stderr",
     "output_type": "stream",
     "text": [
      "The installed widget Javascript is the wrong version.\n",
      "The installed widget Javascript is the wrong version.\n"
     ]
    },
    {
     "name": "stdout",
     "output_type": "stream",
     "text": [
      "cash, volume 70000 0\n"
     ]
    },
    {
     "name": "stderr",
     "output_type": "stream",
     "text": [
      "The installed widget Javascript is the wrong version.\n",
      "The installed widget Javascript is the wrong version.\n"
     ]
    },
    {
     "name": "stdout",
     "output_type": "stream",
     "text": [
      "cash, volume 70000 0\n"
     ]
    },
    {
     "name": "stderr",
     "output_type": "stream",
     "text": [
      "The installed widget Javascript is the wrong version.\n",
      "The installed widget Javascript is the wrong version.\n"
     ]
    },
    {
     "name": "stdout",
     "output_type": "stream",
     "text": [
      "cash, volume 70000 0\n"
     ]
    },
    {
     "name": "stderr",
     "output_type": "stream",
     "text": [
      "The installed widget Javascript is the wrong version.\n",
      "The installed widget Javascript is the wrong version.\n"
     ]
    },
    {
     "name": "stdout",
     "output_type": "stream",
     "text": [
      "cash, volume 70000 0\n"
     ]
    },
    {
     "name": "stderr",
     "output_type": "stream",
     "text": [
      "The installed widget Javascript is the wrong version.\n",
      "The installed widget Javascript is the wrong version.\n"
     ]
    },
    {
     "name": "stdout",
     "output_type": "stream",
     "text": [
      "Saved agent: 'q.json'\n",
      "Saved samples: 'q.csv'\n",
      "cash, volume 70000 0\n"
     ]
    },
    {
     "name": "stderr",
     "output_type": "stream",
     "text": [
      "The installed widget Javascript is the wrong version.\n",
      "The installed widget Javascript is the wrong version.\n"
     ]
    },
    {
     "name": "stdout",
     "output_type": "stream",
     "text": [
      "cash, volume 70000 0\n"
     ]
    },
    {
     "name": "stderr",
     "output_type": "stream",
     "text": [
      "The installed widget Javascript is the wrong version.\n",
      "The installed widget Javascript is the wrong version.\n"
     ]
    },
    {
     "name": "stdout",
     "output_type": "stream",
     "text": [
      "cash, volume 70000 0\n"
     ]
    },
    {
     "name": "stderr",
     "output_type": "stream",
     "text": [
      "The installed widget Javascript is the wrong version.\n",
      "The installed widget Javascript is the wrong version.\n"
     ]
    },
    {
     "name": "stdout",
     "output_type": "stream",
     "text": [
      "cash, volume 70000 0\n"
     ]
    },
    {
     "name": "stderr",
     "output_type": "stream",
     "text": [
      "The installed widget Javascript is the wrong version.\n",
      "The installed widget Javascript is the wrong version.\n"
     ]
    },
    {
     "name": "stdout",
     "output_type": "stream",
     "text": [
      "Saved agent: 'q.json'\n",
      "Saved samples: 'q.csv'\n",
      "\n"
     ]
    }
   ],
   "source": [
    "experiment_name='individual_window'\n",
    "folder='experiments'\n",
    "outputfile_agent=os.path.join(folder, experiment_name, 'model', experiment_name)\n",
    "outputfile_agent='q.json'\n",
    "outputfile_samples='q.csv'\n",
    "volume=70000\n",
    "consume='cash'\n",
    "volume_intervals=10\n",
    "decision_points=3\n",
    "period_length=20\n",
    "actions = list(range(-4,11))\n",
    "\n",
    "state_variables=['volume','time']\n",
    "limit_base = 'incStepUnits' # 'curr_ask', 'init_center', 'incStepUnits'\n",
    "#\n",
    "## crescending\n",
    "#episodes_train = data_nov_orig[17:18]\n",
    "#print(actions)\n",
    "#print(\"Window len\", len(episodes_train), episodes_train[0][0].timestamp)\n",
    "#ql_cresc, limits = optimal_strategy_fixedStepsize(traingdata=episodes_train[:], V=volume, T=decision_points,\n",
    "#                                                  consume=consume, period_length=period_length,\n",
    "#                                                  vol_intervals=volume_intervals,\n",
    "#                              actions=list(range(-4,11)), lim_stepsize=0.1, state_variables=state_variables, \n",
    "#                              outfile_agent=outputfile_agent, outfile_samples=outputfile_samples,\n",
    "#                              limit_base=limit_base, interpolate_vol=False)\n",
    "\n",
    "# # # even\n",
    "# episodes_train = data_nov_orig[0:1]\n",
    "# print(\"Window len\", len(episodes_train), episodes_train[0][0].timestamp)\n",
    "# \n",
    "# ql_even, limits_even = optimal_strategy_fixedStepsize(traingdata=episodes_train[:], V=volume, T=decision_points,\n",
    "#                                                       consume=consume, period_length=period_length, \n",
    "#                                                       vol_intervals=volume_intervals,\n",
    "#                           actions=actions, lim_stepsize=0.1, state_variables=state_variables, \n",
    "#                           outfile_agent=outputfile_agent, outfile_samples=outputfile_samples,\n",
    "#                           limit_base=limit_base, interpolate_vol=False)\n",
    "\n",
    "# episodes_train = data_selection\n",
    "# print(\"Window len\", len(episodes_train), episodes_train[0][0].timestamp)\n",
    "# ql_both, limits_both = optimal_strategy_fixedStepsize(traingdata=episodes_train[:], V=volume, T=decision_points,\n",
    "#                                                       consume=consume, period_length=period_length,\n",
    "#                                                       vol_intervals=volume_intervals,\n",
    "#                           actions=actions, lim_stepsize=0.1, state_variables=state_variables, \n",
    "#                           outfile_agent=outputfile_agent, outfile_samples=outputfile_samples,\n",
    "#                           limit_base=limit_base, interpolate_vol=False)\n",
    "\n",
    "episodes_train = data_nov_orig\n",
    "print(\"Window len\", len(episodes_train), episodes_train[0][0].timestamp)\n",
    "ql_all, limits_both = optimal_strategy_fixedStepsize(traingdata=episodes_train[:], V=volume, T=decision_points,\n",
    "                                                      consume=consume, period_length=period_length,\n",
    "                                                      vol_intervals=volume_intervals,\n",
    "                          actions=actions, lim_stepsize=0.1, state_variables=state_variables, \n",
    "                          outfile_agent=outputfile_agent, outfile_samples=outputfile_samples,\n",
    "                          limit_base=limit_base, interpolate_vol=False)"
   ]
  },
  {
   "cell_type": "code",
   "execution_count": 162,
   "metadata": {
    "collapsed": false
   },
   "outputs": [
    {
     "name": "stdout",
     "output_type": "stream",
     "text": [
      "Saved agent: 'ql_all.json'\n",
      "Saved samples: 'ql_all.csv'\n"
     ]
    }
   ],
   "source": [
    "ql_all.save(outfile_agent='ql_all.json', outfile_samples='ql_all.csv')"
   ]
  },
  {
   "cell_type": "code",
   "execution_count": null,
   "metadata": {
    "collapsed": false,
    "scrolled": true
   },
   "outputs": [],
   "source": [
    "print(volume_intervals)\n",
    "episodes_train = data_nov_orig\n",
    "print(\"Window len\", len(episodes_train), episodes_train[0][0].timestamp)\n",
    "ql_20_cheat, limits_both = optimal_strategy_fixedStepsize(traingdata=episodes_train[:], V=volume, T=decision_points,\n",
    "                          period_length=period_length, vol_intervals=volume_intervals,\n",
    "                          actions=list(range(-4,11)), lim_stepsize=0.1, state_variables=state_variables + ['future15_disc'], \n",
    "                          outfile_agent=outputfile_agent, outfile_samples=outputfile_samples,\n",
    "                          limit_base=limit_base, interpolate_vol=False)"
   ]
  },
  {
   "cell_type": "code",
   "execution_count": 114,
   "metadata": {
    "collapsed": false
   },
   "outputs": [
    {
     "name": "stdout",
     "output_type": "stream",
     "text": [
      "dict_keys(['[  5.00000000e+04   1.00000000e+00]', '[  4.50000000e+04   1.00000000e+00]', '[  4.00000000e+04   1.00000000e+00]', '[  3.50000000e+04   1.00000000e+00]', '[  3.00000000e+04   1.00000000e+00]', '[  2.50000000e+04   1.00000000e+00]', '[  2.00000000e+04   1.00000000e+00]', '[  1.50000000e+04   1.00000000e+00]', '[  1.00000000e+04   1.00000000e+00]', '[  5.00000000e+03   1.00000000e+00]', '[  5.00000000e+04   2.00000000e+00]', '[  4.50000000e+04   2.00000000e+00]', '[  4.00000000e+04   2.00000000e+00]', '[  3.50000000e+04   2.00000000e+00]', '[  3.00000000e+04   2.00000000e+00]', '[  2.50000000e+04   2.00000000e+00]', '[  2.00000000e+04   2.00000000e+00]', '[  1.50000000e+04   2.00000000e+00]', '[  1.00000000e+04   2.00000000e+00]', '[  5.00000000e+03   2.00000000e+00]', '[  5.00000000e+04   3.00000000e+00]'])\n",
      "[          nan           nan           nan           nan           nan\n",
      "           nan  209.63369217  209.63369217  168.06641061   97.26929062\n",
      "   68.82769498   37.57162357   14.08375583   -8.4712147     6.13345092]\n"
     ]
    }
   ],
   "source": [
    "print(ql_cresc.q.keys())\n",
    "#print(ql_cresc.q.get('[  5.00000000e+04   1.00000000e+00]'))\n",
    "print(ql_cresc.q.get('[  5.00000000e+04   2.00000000e+00]'))"
   ]
  },
  {
   "cell_type": "code",
   "execution_count": 160,
   "metadata": {
    "collapsed": false
   },
   "outputs": [
    {
     "name": "stdout",
     "output_type": "stream",
     "text": [
      "21\n"
     ]
    },
    {
     "data": {
      "image/png": "[encoded data removed]",
      "text/plain": [
       "<matplotlib.figure.Figure at 0x7f5e1b9eeac8>"
      ]
     },
     "metadata": {},
     "output_type": "display_data"
    },
    {
     "name": "stdout",
     "output_type": "stream",
     "text": [
      "21\n"
     ]
    },
    {
     "data": {
      "image/png": "[encoded data removed]",
      "text/plain": [
       "<matplotlib.figure.Figure at 0x7f5e5a465a90>"
      ]
     },
     "metadata": {},
     "output_type": "display_data"
    },
    {
     "name": "stdout",
     "output_type": "stream",
     "text": [
      "21\n"
     ]
    },
    {
     "data": {
      "image/png": "[encoded data removed]",
      "text/plain": [
       "<matplotlib.figure.Figure at 0x7f5e1bceb710>"
      ]
     },
     "metadata": {},
     "output_type": "display_data"
    },
    {
     "name": "stdout",
     "output_type": "stream",
     "text": [
      "21\n"
     ]
    },
    {
     "data": {
      "image/png": "[encoded data removed]",
      "text/plain": [
       "<matplotlib.figure.Figure at 0x7f5e21b883c8>"
      ]
     },
     "metadata": {},
     "output_type": "display_data"
    }
   ],
   "source": [
    "print(len(ql_cresc.q.keys()))\n",
    "ql_cresc.heatmap_Q(show_minima_count=True)\n",
    "print(len(ql_even.q.keys()))\n",
    "ql_even.heatmap_Q(show_minima_count=True)\n",
    "print(len(ql_both.q.keys()))\n",
    "ql_both.heatmap_Q(show_minima_count=True)\n",
    "print(len(ql_all.q.keys()))\n",
    "ql_all.heatmap_Q(show_minima_count=True)"
   ]
  },
  {
   "cell_type": "code",
   "execution_count": 145,
   "metadata": {
    "collapsed": false
   },
   "outputs": [
    {
     "name": "stdout",
     "output_type": "stream",
     "text": [
      "limits [706.63592541444473, nan, nan]\n"
     ]
    },
    {
     "data": {
      "image/png": "[encoded data removed]",
      "text/plain": [
       "<matplotlib.figure.Figure at 0x7f5e21beecf8>"
      ]
     },
     "metadata": {},
     "output_type": "display_data"
    },
    {
     "name": "stdout",
     "output_type": "stream",
     "text": [
      "limits [709.4568273123067, nan, nan]\n"
     ]
    },
    {
     "data": {
      "image/png": "[encoded data removed]",
      "text/plain": [
       "<matplotlib.figure.Figure at 0x7f5e5a7422b0>"
      ]
     },
     "metadata": {},
     "output_type": "display_data"
    }
   ],
   "source": [
    "plot_episode(data_nov_orig[0], actions=[2, np.nan, np.nan], volume=99.932485)\n",
    "plot_episode(data_nov_orig[0], actions=[6, np.nan, np.nan], volume=99.932485)"
   ]
  },
  {
   "cell_type": "code",
   "execution_count": 161,
   "metadata": {
    "collapsed": false
   },
   "outputs": [
    {
     "data": {
      "text/html": [
       "<div>\n",
       "<table border=\"1\" class=\"dataframe\">\n",
       "  <thead>\n",
       "    <tr style=\"text-align: right;\">\n",
       "      <th></th>\n",
       "      <th>volume</th>\n",
       "      <th>time</th>\n",
       "      <th>action</th>\n",
       "      <th>action_idx</th>\n",
       "      <th>cost</th>\n",
       "      <th>avg</th>\n",
       "      <th>initial_center</th>\n",
       "      <th>timestamp</th>\n",
       "      <th>volume_n</th>\n",
       "      <th>time_n</th>\n",
       "    </tr>\n",
       "  </thead>\n",
       "  <tbody>\n",
       "    <tr>\n",
       "      <th>0</th>\n",
       "      <td>70000.0</td>\n",
       "      <td>1.0</td>\n",
       "      <td>-4.0</td>\n",
       "      <td>0</td>\n",
       "      <td>2.055560</td>\n",
       "      <td>711.78814</td>\n",
       "      <td>705.225474</td>\n",
       "      <td>2016-11-08 10:40:00</td>\n",
       "      <td>0.00</td>\n",
       "      <td>0.0</td>\n",
       "    </tr>\n",
       "    <tr>\n",
       "      <th>1</th>\n",
       "      <td>70000.0</td>\n",
       "      <td>1.0</td>\n",
       "      <td>-3.0</td>\n",
       "      <td>1</td>\n",
       "      <td>2.055560</td>\n",
       "      <td>711.78814</td>\n",
       "      <td>705.225474</td>\n",
       "      <td>2016-11-08 10:40:00</td>\n",
       "      <td>0.00</td>\n",
       "      <td>0.0</td>\n",
       "    </tr>\n",
       "    <tr>\n",
       "      <th>2</th>\n",
       "      <td>70000.0</td>\n",
       "      <td>1.0</td>\n",
       "      <td>-2.0</td>\n",
       "      <td>2</td>\n",
       "      <td>2.055560</td>\n",
       "      <td>711.78814</td>\n",
       "      <td>705.225474</td>\n",
       "      <td>2016-11-08 10:40:00</td>\n",
       "      <td>0.00</td>\n",
       "      <td>0.0</td>\n",
       "    </tr>\n",
       "    <tr>\n",
       "      <th>3</th>\n",
       "      <td>70000.0</td>\n",
       "      <td>1.0</td>\n",
       "      <td>-1.0</td>\n",
       "      <td>3</td>\n",
       "      <td>2.055553</td>\n",
       "      <td>711.78814</td>\n",
       "      <td>705.225474</td>\n",
       "      <td>2016-11-08 10:40:00</td>\n",
       "      <td>0.00</td>\n",
       "      <td>0.0</td>\n",
       "    </tr>\n",
       "    <tr>\n",
       "      <th>4</th>\n",
       "      <td>70000.0</td>\n",
       "      <td>1.0</td>\n",
       "      <td>0.0</td>\n",
       "      <td>4</td>\n",
       "      <td>2.055553</td>\n",
       "      <td>711.78814</td>\n",
       "      <td>705.225474</td>\n",
       "      <td>2016-11-08 10:40:00</td>\n",
       "      <td>0.00</td>\n",
       "      <td>0.0</td>\n",
       "    </tr>\n",
       "    <tr>\n",
       "      <th>5</th>\n",
       "      <td>70000.0</td>\n",
       "      <td>1.0</td>\n",
       "      <td>1.0</td>\n",
       "      <td>5</td>\n",
       "      <td>2.055553</td>\n",
       "      <td>711.78814</td>\n",
       "      <td>705.225474</td>\n",
       "      <td>2016-11-08 10:40:00</td>\n",
       "      <td>0.00</td>\n",
       "      <td>0.0</td>\n",
       "    </tr>\n",
       "    <tr>\n",
       "      <th>6</th>\n",
       "      <td>70000.0</td>\n",
       "      <td>1.0</td>\n",
       "      <td>2.0</td>\n",
       "      <td>6</td>\n",
       "      <td>2.055553</td>\n",
       "      <td>711.78814</td>\n",
       "      <td>705.225474</td>\n",
       "      <td>2016-11-08 10:40:00</td>\n",
       "      <td>0.00</td>\n",
       "      <td>0.0</td>\n",
       "    </tr>\n",
       "    <tr>\n",
       "      <th>7</th>\n",
       "      <td>70000.0</td>\n",
       "      <td>1.0</td>\n",
       "      <td>3.0</td>\n",
       "      <td>7</td>\n",
       "      <td>-551.487842</td>\n",
       "      <td>706.15966</td>\n",
       "      <td>705.225474</td>\n",
       "      <td>2016-11-08 10:40:00</td>\n",
       "      <td>0.00</td>\n",
       "      <td>0.0</td>\n",
       "    </tr>\n",
       "    <tr>\n",
       "      <th>8</th>\n",
       "      <td>70000.0</td>\n",
       "      <td>1.0</td>\n",
       "      <td>4.0</td>\n",
       "      <td>8</td>\n",
       "      <td>-510.918049</td>\n",
       "      <td>706.57217</td>\n",
       "      <td>705.225474</td>\n",
       "      <td>2016-11-08 10:40:00</td>\n",
       "      <td>0.00</td>\n",
       "      <td>0.0</td>\n",
       "    </tr>\n",
       "    <tr>\n",
       "      <th>9</th>\n",
       "      <td>70000.0</td>\n",
       "      <td>1.0</td>\n",
       "      <td>5.0</td>\n",
       "      <td>9</td>\n",
       "      <td>-489.426946</td>\n",
       "      <td>706.79070</td>\n",
       "      <td>705.225474</td>\n",
       "      <td>2016-11-08 10:40:00</td>\n",
       "      <td>0.00</td>\n",
       "      <td>0.0</td>\n",
       "    </tr>\n",
       "    <tr>\n",
       "      <th>10</th>\n",
       "      <td>70000.0</td>\n",
       "      <td>1.0</td>\n",
       "      <td>6.0</td>\n",
       "      <td>10</td>\n",
       "      <td>-484.469009</td>\n",
       "      <td>706.84111</td>\n",
       "      <td>705.225474</td>\n",
       "      <td>2016-11-08 10:40:00</td>\n",
       "      <td>0.00</td>\n",
       "      <td>0.0</td>\n",
       "    </tr>\n",
       "    <tr>\n",
       "      <th>11</th>\n",
       "      <td>70000.0</td>\n",
       "      <td>1.0</td>\n",
       "      <td>7.0</td>\n",
       "      <td>11</td>\n",
       "      <td>-477.085647</td>\n",
       "      <td>706.91618</td>\n",
       "      <td>705.225474</td>\n",
       "      <td>2016-11-08 10:40:00</td>\n",
       "      <td>0.00</td>\n",
       "      <td>0.0</td>\n",
       "    </tr>\n",
       "    <tr>\n",
       "      <th>12</th>\n",
       "      <td>70000.0</td>\n",
       "      <td>1.0</td>\n",
       "      <td>8.0</td>\n",
       "      <td>12</td>\n",
       "      <td>-461.315252</td>\n",
       "      <td>707.07654</td>\n",
       "      <td>705.225474</td>\n",
       "      <td>2016-11-08 10:40:00</td>\n",
       "      <td>0.00</td>\n",
       "      <td>0.0</td>\n",
       "    </tr>\n",
       "    <tr>\n",
       "      <th>13</th>\n",
       "      <td>70000.0</td>\n",
       "      <td>1.0</td>\n",
       "      <td>9.0</td>\n",
       "      <td>13</td>\n",
       "      <td>-449.825401</td>\n",
       "      <td>707.19337</td>\n",
       "      <td>705.225474</td>\n",
       "      <td>2016-11-08 10:40:00</td>\n",
       "      <td>0.00</td>\n",
       "      <td>0.0</td>\n",
       "    </tr>\n",
       "    <tr>\n",
       "      <th>14</th>\n",
       "      <td>70000.0</td>\n",
       "      <td>1.0</td>\n",
       "      <td>10.0</td>\n",
       "      <td>14</td>\n",
       "      <td>-430.654004</td>\n",
       "      <td>707.38831</td>\n",
       "      <td>705.225474</td>\n",
       "      <td>2016-11-08 10:40:00</td>\n",
       "      <td>0.00</td>\n",
       "      <td>0.0</td>\n",
       "    </tr>\n",
       "    <tr>\n",
       "      <th>15</th>\n",
       "      <td>63000.0</td>\n",
       "      <td>1.0</td>\n",
       "      <td>-4.0</td>\n",
       "      <td>0</td>\n",
       "      <td>-29.579992</td>\n",
       "      <td>711.43305</td>\n",
       "      <td>705.225474</td>\n",
       "      <td>2016-11-08 10:40:00</td>\n",
       "      <td>0.00</td>\n",
       "      <td>0.0</td>\n",
       "    </tr>\n",
       "    <tr>\n",
       "      <th>16</th>\n",
       "      <td>63000.0</td>\n",
       "      <td>1.0</td>\n",
       "      <td>-3.0</td>\n",
       "      <td>1</td>\n",
       "      <td>-29.579992</td>\n",
       "      <td>711.43305</td>\n",
       "      <td>705.225474</td>\n",
       "      <td>2016-11-08 10:40:00</td>\n",
       "      <td>0.00</td>\n",
       "      <td>0.0</td>\n",
       "    </tr>\n",
       "    <tr>\n",
       "      <th>17</th>\n",
       "      <td>63000.0</td>\n",
       "      <td>1.0</td>\n",
       "      <td>-2.0</td>\n",
       "      <td>2</td>\n",
       "      <td>-29.579992</td>\n",
       "      <td>711.43305</td>\n",
       "      <td>705.225474</td>\n",
       "      <td>2016-11-08 10:40:00</td>\n",
       "      <td>0.00</td>\n",
       "      <td>0.0</td>\n",
       "    </tr>\n",
       "    <tr>\n",
       "      <th>18</th>\n",
       "      <td>63000.0</td>\n",
       "      <td>1.0</td>\n",
       "      <td>-1.0</td>\n",
       "      <td>3</td>\n",
       "      <td>-29.579999</td>\n",
       "      <td>711.43305</td>\n",
       "      <td>705.225474</td>\n",
       "      <td>2016-11-08 10:40:00</td>\n",
       "      <td>0.00</td>\n",
       "      <td>0.0</td>\n",
       "    </tr>\n",
       "    <tr>\n",
       "      <th>19</th>\n",
       "      <td>63000.0</td>\n",
       "      <td>1.0</td>\n",
       "      <td>0.0</td>\n",
       "      <td>4</td>\n",
       "      <td>-29.579999</td>\n",
       "      <td>711.43305</td>\n",
       "      <td>705.225474</td>\n",
       "      <td>2016-11-08 10:40:00</td>\n",
       "      <td>0.00</td>\n",
       "      <td>0.0</td>\n",
       "    </tr>\n",
       "    <tr>\n",
       "      <th>20</th>\n",
       "      <td>63000.0</td>\n",
       "      <td>1.0</td>\n",
       "      <td>1.0</td>\n",
       "      <td>5</td>\n",
       "      <td>-29.579999</td>\n",
       "      <td>711.43305</td>\n",
       "      <td>705.225474</td>\n",
       "      <td>2016-11-08 10:40:00</td>\n",
       "      <td>0.00</td>\n",
       "      <td>0.0</td>\n",
       "    </tr>\n",
       "    <tr>\n",
       "      <th>21</th>\n",
       "      <td>63000.0</td>\n",
       "      <td>1.0</td>\n",
       "      <td>2.0</td>\n",
       "      <td>6</td>\n",
       "      <td>-29.579999</td>\n",
       "      <td>711.43305</td>\n",
       "      <td>705.225474</td>\n",
       "      <td>2016-11-08 10:40:00</td>\n",
       "      <td>0.00</td>\n",
       "      <td>0.0</td>\n",
       "    </tr>\n",
       "    <tr>\n",
       "      <th>22</th>\n",
       "      <td>63000.0</td>\n",
       "      <td>1.0</td>\n",
       "      <td>3.0</td>\n",
       "      <td>7</td>\n",
       "      <td>-495.564921</td>\n",
       "      <td>706.16840</td>\n",
       "      <td>705.225474</td>\n",
       "      <td>2016-11-08 10:40:00</td>\n",
       "      <td>0.00</td>\n",
       "      <td>0.0</td>\n",
       "    </tr>\n",
       "    <tr>\n",
       "      <th>23</th>\n",
       "      <td>63000.0</td>\n",
       "      <td>1.0</td>\n",
       "      <td>4.0</td>\n",
       "      <td>8</td>\n",
       "      <td>-457.095618</td>\n",
       "      <td>706.60302</td>\n",
       "      <td>705.225474</td>\n",
       "      <td>2016-11-08 10:40:00</td>\n",
       "      <td>0.00</td>\n",
       "      <td>0.0</td>\n",
       "    </tr>\n",
       "    <tr>\n",
       "      <th>24</th>\n",
       "      <td>63000.0</td>\n",
       "      <td>1.0</td>\n",
       "      <td>5.0</td>\n",
       "      <td>9</td>\n",
       "      <td>-436.714917</td>\n",
       "      <td>706.83328</td>\n",
       "      <td>705.225474</td>\n",
       "      <td>2016-11-08 10:40:00</td>\n",
       "      <td>0.00</td>\n",
       "      <td>0.0</td>\n",
       "    </tr>\n",
       "    <tr>\n",
       "      <th>25</th>\n",
       "      <td>63000.0</td>\n",
       "      <td>1.0</td>\n",
       "      <td>6.0</td>\n",
       "      <td>10</td>\n",
       "      <td>-433.300379</td>\n",
       "      <td>706.87186</td>\n",
       "      <td>705.225474</td>\n",
       "      <td>2016-11-08 10:40:00</td>\n",
       "      <td>0.00</td>\n",
       "      <td>0.0</td>\n",
       "    </tr>\n",
       "    <tr>\n",
       "      <th>26</th>\n",
       "      <td>63000.0</td>\n",
       "      <td>1.0</td>\n",
       "      <td>7.0</td>\n",
       "      <td>11</td>\n",
       "      <td>-426.216693</td>\n",
       "      <td>706.95189</td>\n",
       "      <td>705.225474</td>\n",
       "      <td>2016-11-08 10:40:00</td>\n",
       "      <td>0.00</td>\n",
       "      <td>0.0</td>\n",
       "    </tr>\n",
       "    <tr>\n",
       "      <th>27</th>\n",
       "      <td>63000.0</td>\n",
       "      <td>1.0</td>\n",
       "      <td>8.0</td>\n",
       "      <td>12</td>\n",
       "      <td>-411.333978</td>\n",
       "      <td>707.12003</td>\n",
       "      <td>705.225474</td>\n",
       "      <td>2016-11-08 10:40:00</td>\n",
       "      <td>0.00</td>\n",
       "      <td>0.0</td>\n",
       "    </tr>\n",
       "    <tr>\n",
       "      <th>28</th>\n",
       "      <td>63000.0</td>\n",
       "      <td>1.0</td>\n",
       "      <td>9.0</td>\n",
       "      <td>13</td>\n",
       "      <td>-401.754217</td>\n",
       "      <td>707.22827</td>\n",
       "      <td>705.225474</td>\n",
       "      <td>2016-11-08 10:40:00</td>\n",
       "      <td>0.00</td>\n",
       "      <td>0.0</td>\n",
       "    </tr>\n",
       "    <tr>\n",
       "      <th>29</th>\n",
       "      <td>63000.0</td>\n",
       "      <td>1.0</td>\n",
       "      <td>10.0</td>\n",
       "      <td>14</td>\n",
       "      <td>-383.042321</td>\n",
       "      <td>707.43967</td>\n",
       "      <td>705.225474</td>\n",
       "      <td>2016-11-08 10:40:00</td>\n",
       "      <td>0.00</td>\n",
       "      <td>0.0</td>\n",
       "    </tr>\n",
       "    <tr>\n",
       "      <th>...</th>\n",
       "      <td>...</td>\n",
       "      <td>...</td>\n",
       "      <td>...</td>\n",
       "      <td>...</td>\n",
       "      <td>...</td>\n",
       "      <td>...</td>\n",
       "      <td>...</td>\n",
       "      <td>...</td>\n",
       "      <td>...</td>\n",
       "      <td>...</td>\n",
       "    </tr>\n",
       "    <tr>\n",
       "      <th>6270</th>\n",
       "      <td>70000.0</td>\n",
       "      <td>3.0</td>\n",
       "      <td>-4.0</td>\n",
       "      <td>0</td>\n",
       "      <td>0.000000</td>\n",
       "      <td>0.00000</td>\n",
       "      <td>717.970889</td>\n",
       "      <td>2016-11-09 04:01:00</td>\n",
       "      <td>70000.00</td>\n",
       "      <td>2.0</td>\n",
       "    </tr>\n",
       "    <tr>\n",
       "      <th>6271</th>\n",
       "      <td>70000.0</td>\n",
       "      <td>3.0</td>\n",
       "      <td>-3.0</td>\n",
       "      <td>1</td>\n",
       "      <td>0.000000</td>\n",
       "      <td>0.00000</td>\n",
       "      <td>717.970889</td>\n",
       "      <td>2016-11-09 04:01:00</td>\n",
       "      <td>70000.00</td>\n",
       "      <td>2.0</td>\n",
       "    </tr>\n",
       "    <tr>\n",
       "      <th>6272</th>\n",
       "      <td>70000.0</td>\n",
       "      <td>3.0</td>\n",
       "      <td>-2.0</td>\n",
       "      <td>2</td>\n",
       "      <td>0.000000</td>\n",
       "      <td>0.00000</td>\n",
       "      <td>717.970889</td>\n",
       "      <td>2016-11-09 04:01:00</td>\n",
       "      <td>70000.00</td>\n",
       "      <td>2.0</td>\n",
       "    </tr>\n",
       "    <tr>\n",
       "      <th>6273</th>\n",
       "      <td>70000.0</td>\n",
       "      <td>3.0</td>\n",
       "      <td>-1.0</td>\n",
       "      <td>3</td>\n",
       "      <td>0.000000</td>\n",
       "      <td>0.00000</td>\n",
       "      <td>717.970889</td>\n",
       "      <td>2016-11-09 04:01:00</td>\n",
       "      <td>70000.00</td>\n",
       "      <td>2.0</td>\n",
       "    </tr>\n",
       "    <tr>\n",
       "      <th>6274</th>\n",
       "      <td>70000.0</td>\n",
       "      <td>3.0</td>\n",
       "      <td>0.0</td>\n",
       "      <td>4</td>\n",
       "      <td>0.000000</td>\n",
       "      <td>0.00000</td>\n",
       "      <td>717.970889</td>\n",
       "      <td>2016-11-09 04:01:00</td>\n",
       "      <td>70000.00</td>\n",
       "      <td>2.0</td>\n",
       "    </tr>\n",
       "    <tr>\n",
       "      <th>6275</th>\n",
       "      <td>70000.0</td>\n",
       "      <td>3.0</td>\n",
       "      <td>1.0</td>\n",
       "      <td>5</td>\n",
       "      <td>0.000000</td>\n",
       "      <td>0.00000</td>\n",
       "      <td>717.970889</td>\n",
       "      <td>2016-11-09 04:01:00</td>\n",
       "      <td>70000.00</td>\n",
       "      <td>2.0</td>\n",
       "    </tr>\n",
       "    <tr>\n",
       "      <th>6276</th>\n",
       "      <td>70000.0</td>\n",
       "      <td>3.0</td>\n",
       "      <td>2.0</td>\n",
       "      <td>6</td>\n",
       "      <td>-0.028068</td>\n",
       "      <td>717.94901</td>\n",
       "      <td>717.970889</td>\n",
       "      <td>2016-11-09 04:01:00</td>\n",
       "      <td>69997.49</td>\n",
       "      <td>2.0</td>\n",
       "    </tr>\n",
       "    <tr>\n",
       "      <th>6277</th>\n",
       "      <td>70000.0</td>\n",
       "      <td>3.0</td>\n",
       "      <td>3.0</td>\n",
       "      <td>7</td>\n",
       "      <td>-35.340273</td>\n",
       "      <td>719.67855</td>\n",
       "      <td>717.970889</td>\n",
       "      <td>2016-11-09 04:01:00</td>\n",
       "      <td>65984.33</td>\n",
       "      <td>2.0</td>\n",
       "    </tr>\n",
       "    <tr>\n",
       "      <th>6278</th>\n",
       "      <td>70000.0</td>\n",
       "      <td>3.0</td>\n",
       "      <td>4.0</td>\n",
       "      <td>8</td>\n",
       "      <td>-54.177079</td>\n",
       "      <td>720.04797</td>\n",
       "      <td>717.970889</td>\n",
       "      <td>2016-11-09 04:01:00</td>\n",
       "      <td>63466.18</td>\n",
       "      <td>2.0</td>\n",
       "    </tr>\n",
       "    <tr>\n",
       "      <th>6279</th>\n",
       "      <td>70000.0</td>\n",
       "      <td>3.0</td>\n",
       "      <td>5.0</td>\n",
       "      <td>9</td>\n",
       "      <td>-96.664324</td>\n",
       "      <td>720.53919</td>\n",
       "      <td>717.970889</td>\n",
       "      <td>2016-11-09 04:01:00</td>\n",
       "      <td>57306.47</td>\n",
       "      <td>2.0</td>\n",
       "    </tr>\n",
       "    <tr>\n",
       "      <th>6280</th>\n",
       "      <td>70000.0</td>\n",
       "      <td>3.0</td>\n",
       "      <td>6.0</td>\n",
       "      <td>10</td>\n",
       "      <td>-144.969093</td>\n",
       "      <td>721.05816</td>\n",
       "      <td>717.970889</td>\n",
       "      <td>2016-11-09 04:01:00</td>\n",
       "      <td>48991.43</td>\n",
       "      <td>2.0</td>\n",
       "    </tr>\n",
       "    <tr>\n",
       "      <th>6281</th>\n",
       "      <td>70000.0</td>\n",
       "      <td>3.0</td>\n",
       "      <td>7.0</td>\n",
       "      <td>11</td>\n",
       "      <td>-163.925838</td>\n",
       "      <td>721.33114</td>\n",
       "      <td>717.970889</td>\n",
       "      <td>2016-11-09 04:01:00</td>\n",
       "      <td>44875.36</td>\n",
       "      <td>2.0</td>\n",
       "    </tr>\n",
       "    <tr>\n",
       "      <th>6282</th>\n",
       "      <td>70000.0</td>\n",
       "      <td>3.0</td>\n",
       "      <td>8.0</td>\n",
       "      <td>12</td>\n",
       "      <td>-185.249140</td>\n",
       "      <td>721.67060</td>\n",
       "      <td>717.970889</td>\n",
       "      <td>2016-11-09 04:01:00</td>\n",
       "      <td>39415.54</td>\n",
       "      <td>2.0</td>\n",
       "    </tr>\n",
       "    <tr>\n",
       "      <th>6283</th>\n",
       "      <td>70000.0</td>\n",
       "      <td>3.0</td>\n",
       "      <td>9.0</td>\n",
       "      <td>13</td>\n",
       "      <td>-193.492681</td>\n",
       "      <td>721.89818</td>\n",
       "      <td>717.970889</td>\n",
       "      <td>2016-11-09 04:01:00</td>\n",
       "      <td>36311.21</td>\n",
       "      <td>2.0</td>\n",
       "    </tr>\n",
       "    <tr>\n",
       "      <th>6284</th>\n",
       "      <td>70000.0</td>\n",
       "      <td>3.0</td>\n",
       "      <td>10.0</td>\n",
       "      <td>14</td>\n",
       "      <td>-248.512465</td>\n",
       "      <td>723.24912</td>\n",
       "      <td>717.970889</td>\n",
       "      <td>2016-11-09 04:01:00</td>\n",
       "      <td>5998.50</td>\n",
       "      <td>2.0</td>\n",
       "    </tr>\n",
       "    <tr>\n",
       "      <th>6285</th>\n",
       "      <td>70000.0</td>\n",
       "      <td>3.0</td>\n",
       "      <td>-4.0</td>\n",
       "      <td>0</td>\n",
       "      <td>-11.815079</td>\n",
       "      <td>726.20957</td>\n",
       "      <td>729.482963</td>\n",
       "      <td>2016-11-09 05:01:00</td>\n",
       "      <td>69322.24</td>\n",
       "      <td>2.0</td>\n",
       "    </tr>\n",
       "    <tr>\n",
       "      <th>6286</th>\n",
       "      <td>70000.0</td>\n",
       "      <td>3.0</td>\n",
       "      <td>-3.0</td>\n",
       "      <td>1</td>\n",
       "      <td>-56.084268</td>\n",
       "      <td>726.88406</td>\n",
       "      <td>729.482963</td>\n",
       "      <td>2016-11-09 05:01:00</td>\n",
       "      <td>66605.06</td>\n",
       "      <td>2.0</td>\n",
       "    </tr>\n",
       "    <tr>\n",
       "      <th>6287</th>\n",
       "      <td>70000.0</td>\n",
       "      <td>3.0</td>\n",
       "      <td>-2.0</td>\n",
       "      <td>2</td>\n",
       "      <td>-240.786727</td>\n",
       "      <td>727.52550</td>\n",
       "      <td>729.482963</td>\n",
       "      <td>2016-11-09 05:01:00</td>\n",
       "      <td>54616.31</td>\n",
       "      <td>2.0</td>\n",
       "    </tr>\n",
       "    <tr>\n",
       "      <th>6288</th>\n",
       "      <td>70000.0</td>\n",
       "      <td>3.0</td>\n",
       "      <td>-1.0</td>\n",
       "      <td>3</td>\n",
       "      <td>-395.020397</td>\n",
       "      <td>727.86122</td>\n",
       "      <td>729.482963</td>\n",
       "      <td>2016-11-09 05:01:00</td>\n",
       "      <td>44008.14</td>\n",
       "      <td>2.0</td>\n",
       "    </tr>\n",
       "    <tr>\n",
       "      <th>6289</th>\n",
       "      <td>70000.0</td>\n",
       "      <td>3.0</td>\n",
       "      <td>0.0</td>\n",
       "      <td>4</td>\n",
       "      <td>-470.440612</td>\n",
       "      <td>728.08276</td>\n",
       "      <td>729.482963</td>\n",
       "      <td>2016-11-09 05:01:00</td>\n",
       "      <td>38422.78</td>\n",
       "      <td>2.0</td>\n",
       "    </tr>\n",
       "    <tr>\n",
       "      <th>6290</th>\n",
       "      <td>70000.0</td>\n",
       "      <td>3.0</td>\n",
       "      <td>1.0</td>\n",
       "      <td>5</td>\n",
       "      <td>-645.187986</td>\n",
       "      <td>728.64877</td>\n",
       "      <td>729.482963</td>\n",
       "      <td>2016-11-09 05:01:00</td>\n",
       "      <td>24346.51</td>\n",
       "      <td>2.0</td>\n",
       "    </tr>\n",
       "    <tr>\n",
       "      <th>6291</th>\n",
       "      <td>70000.0</td>\n",
       "      <td>3.0</td>\n",
       "      <td>2.0</td>\n",
       "      <td>6</td>\n",
       "      <td>-706.277263</td>\n",
       "      <td>728.85388</td>\n",
       "      <td>729.482963</td>\n",
       "      <td>2016-11-09 05:01:00</td>\n",
       "      <td>19022.83</td>\n",
       "      <td>2.0</td>\n",
       "    </tr>\n",
       "    <tr>\n",
       "      <th>6292</th>\n",
       "      <td>70000.0</td>\n",
       "      <td>3.0</td>\n",
       "      <td>3.0</td>\n",
       "      <td>7</td>\n",
       "      <td>-908.382113</td>\n",
       "      <td>729.45053</td>\n",
       "      <td>729.482963</td>\n",
       "      <td>2016-11-09 05:01:00</td>\n",
       "      <td>378.84</td>\n",
       "      <td>2.0</td>\n",
       "    </tr>\n",
       "    <tr>\n",
       "      <th>6293</th>\n",
       "      <td>70000.0</td>\n",
       "      <td>3.0</td>\n",
       "      <td>4.0</td>\n",
       "      <td>8</td>\n",
       "      <td>-901.966186</td>\n",
       "      <td>729.57046</td>\n",
       "      <td>729.482963</td>\n",
       "      <td>2016-11-09 05:01:00</td>\n",
       "      <td>0.00</td>\n",
       "      <td>2.0</td>\n",
       "    </tr>\n",
       "    <tr>\n",
       "      <th>6294</th>\n",
       "      <td>70000.0</td>\n",
       "      <td>3.0</td>\n",
       "      <td>5.0</td>\n",
       "      <td>9</td>\n",
       "      <td>-893.478073</td>\n",
       "      <td>729.66008</td>\n",
       "      <td>729.482963</td>\n",
       "      <td>2016-11-09 05:01:00</td>\n",
       "      <td>0.00</td>\n",
       "      <td>2.0</td>\n",
       "    </tr>\n",
       "    <tr>\n",
       "      <th>6295</th>\n",
       "      <td>70000.0</td>\n",
       "      <td>3.0</td>\n",
       "      <td>6.0</td>\n",
       "      <td>10</td>\n",
       "      <td>-812.480530</td>\n",
       "      <td>730.51529</td>\n",
       "      <td>729.482963</td>\n",
       "      <td>2016-11-09 05:01:00</td>\n",
       "      <td>0.00</td>\n",
       "      <td>2.0</td>\n",
       "    </tr>\n",
       "    <tr>\n",
       "      <th>6296</th>\n",
       "      <td>70000.0</td>\n",
       "      <td>3.0</td>\n",
       "      <td>7.0</td>\n",
       "      <td>11</td>\n",
       "      <td>-776.954441</td>\n",
       "      <td>730.89040</td>\n",
       "      <td>729.482963</td>\n",
       "      <td>2016-11-09 05:01:00</td>\n",
       "      <td>0.00</td>\n",
       "      <td>2.0</td>\n",
       "    </tr>\n",
       "    <tr>\n",
       "      <th>6297</th>\n",
       "      <td>70000.0</td>\n",
       "      <td>3.0</td>\n",
       "      <td>8.0</td>\n",
       "      <td>12</td>\n",
       "      <td>-650.064057</td>\n",
       "      <td>732.23017</td>\n",
       "      <td>729.482963</td>\n",
       "      <td>2016-11-09 05:01:00</td>\n",
       "      <td>0.00</td>\n",
       "      <td>2.0</td>\n",
       "    </tr>\n",
       "    <tr>\n",
       "      <th>6298</th>\n",
       "      <td>70000.0</td>\n",
       "      <td>3.0</td>\n",
       "      <td>9.0</td>\n",
       "      <td>13</td>\n",
       "      <td>-634.602216</td>\n",
       "      <td>732.39342</td>\n",
       "      <td>729.482963</td>\n",
       "      <td>2016-11-09 05:01:00</td>\n",
       "      <td>0.00</td>\n",
       "      <td>2.0</td>\n",
       "    </tr>\n",
       "    <tr>\n",
       "      <th>6299</th>\n",
       "      <td>70000.0</td>\n",
       "      <td>3.0</td>\n",
       "      <td>10.0</td>\n",
       "      <td>14</td>\n",
       "      <td>-622.082023</td>\n",
       "      <td>732.52561</td>\n",
       "      <td>729.482963</td>\n",
       "      <td>2016-11-09 05:01:00</td>\n",
       "      <td>0.00</td>\n",
       "      <td>2.0</td>\n",
       "    </tr>\n",
       "  </tbody>\n",
       "</table>\n",
       "<p>6300 rows × 10 columns</p>\n",
       "</div>"
      ],
      "text/plain": [
       "       volume  time  action  action_idx        cost        avg  \\\n",
       "0     70000.0   1.0    -4.0           0    2.055560  711.78814   \n",
       "1     70000.0   1.0    -3.0           1    2.055560  711.78814   \n",
       "2     70000.0   1.0    -2.0           2    2.055560  711.78814   \n",
       "3     70000.0   1.0    -1.0           3    2.055553  711.78814   \n",
       "4     70000.0   1.0     0.0           4    2.055553  711.78814   \n",
       "5     70000.0   1.0     1.0           5    2.055553  711.78814   \n",
       "6     70000.0   1.0     2.0           6    2.055553  711.78814   \n",
       "7     70000.0   1.0     3.0           7 -551.487842  706.15966   \n",
       "8     70000.0   1.0     4.0           8 -510.918049  706.57217   \n",
       "9     70000.0   1.0     5.0           9 -489.426946  706.79070   \n",
       "10    70000.0   1.0     6.0          10 -484.469009  706.84111   \n",
       "11    70000.0   1.0     7.0          11 -477.085647  706.91618   \n",
       "12    70000.0   1.0     8.0          12 -461.315252  707.07654   \n",
       "13    70000.0   1.0     9.0          13 -449.825401  707.19337   \n",
       "14    70000.0   1.0    10.0          14 -430.654004  707.38831   \n",
       "15    63000.0   1.0    -4.0           0  -29.579992  711.43305   \n",
       "16    63000.0   1.0    -3.0           1  -29.579992  711.43305   \n",
       "17    63000.0   1.0    -2.0           2  -29.579992  711.43305   \n",
       "18    63000.0   1.0    -1.0           3  -29.579999  711.43305   \n",
       "19    63000.0   1.0     0.0           4  -29.579999  711.43305   \n",
       "20    63000.0   1.0     1.0           5  -29.579999  711.43305   \n",
       "21    63000.0   1.0     2.0           6  -29.579999  711.43305   \n",
       "22    63000.0   1.0     3.0           7 -495.564921  706.16840   \n",
       "23    63000.0   1.0     4.0           8 -457.095618  706.60302   \n",
       "24    63000.0   1.0     5.0           9 -436.714917  706.83328   \n",
       "25    63000.0   1.0     6.0          10 -433.300379  706.87186   \n",
       "26    63000.0   1.0     7.0          11 -426.216693  706.95189   \n",
       "27    63000.0   1.0     8.0          12 -411.333978  707.12003   \n",
       "28    63000.0   1.0     9.0          13 -401.754217  707.22827   \n",
       "29    63000.0   1.0    10.0          14 -383.042321  707.43967   \n",
       "...       ...   ...     ...         ...         ...        ...   \n",
       "6270  70000.0   3.0    -4.0           0    0.000000    0.00000   \n",
       "6271  70000.0   3.0    -3.0           1    0.000000    0.00000   \n",
       "6272  70000.0   3.0    -2.0           2    0.000000    0.00000   \n",
       "6273  70000.0   3.0    -1.0           3    0.000000    0.00000   \n",
       "6274  70000.0   3.0     0.0           4    0.000000    0.00000   \n",
       "6275  70000.0   3.0     1.0           5    0.000000    0.00000   \n",
       "6276  70000.0   3.0     2.0           6   -0.028068  717.94901   \n",
       "6277  70000.0   3.0     3.0           7  -35.340273  719.67855   \n",
       "6278  70000.0   3.0     4.0           8  -54.177079  720.04797   \n",
       "6279  70000.0   3.0     5.0           9  -96.664324  720.53919   \n",
       "6280  70000.0   3.0     6.0          10 -144.969093  721.05816   \n",
       "6281  70000.0   3.0     7.0          11 -163.925838  721.33114   \n",
       "6282  70000.0   3.0     8.0          12 -185.249140  721.67060   \n",
       "6283  70000.0   3.0     9.0          13 -193.492681  721.89818   \n",
       "6284  70000.0   3.0    10.0          14 -248.512465  723.24912   \n",
       "6285  70000.0   3.0    -4.0           0  -11.815079  726.20957   \n",
       "6286  70000.0   3.0    -3.0           1  -56.084268  726.88406   \n",
       "6287  70000.0   3.0    -2.0           2 -240.786727  727.52550   \n",
       "6288  70000.0   3.0    -1.0           3 -395.020397  727.86122   \n",
       "6289  70000.0   3.0     0.0           4 -470.440612  728.08276   \n",
       "6290  70000.0   3.0     1.0           5 -645.187986  728.64877   \n",
       "6291  70000.0   3.0     2.0           6 -706.277263  728.85388   \n",
       "6292  70000.0   3.0     3.0           7 -908.382113  729.45053   \n",
       "6293  70000.0   3.0     4.0           8 -901.966186  729.57046   \n",
       "6294  70000.0   3.0     5.0           9 -893.478073  729.66008   \n",
       "6295  70000.0   3.0     6.0          10 -812.480530  730.51529   \n",
       "6296  70000.0   3.0     7.0          11 -776.954441  730.89040   \n",
       "6297  70000.0   3.0     8.0          12 -650.064057  732.23017   \n",
       "6298  70000.0   3.0     9.0          13 -634.602216  732.39342   \n",
       "6299  70000.0   3.0    10.0          14 -622.082023  732.52561   \n",
       "\n",
       "      initial_center           timestamp  volume_n  time_n  \n",
       "0         705.225474 2016-11-08 10:40:00      0.00     0.0  \n",
       "1         705.225474 2016-11-08 10:40:00      0.00     0.0  \n",
       "2         705.225474 2016-11-08 10:40:00      0.00     0.0  \n",
       "3         705.225474 2016-11-08 10:40:00      0.00     0.0  \n",
       "4         705.225474 2016-11-08 10:40:00      0.00     0.0  \n",
       "5         705.225474 2016-11-08 10:40:00      0.00     0.0  \n",
       "6         705.225474 2016-11-08 10:40:00      0.00     0.0  \n",
       "7         705.225474 2016-11-08 10:40:00      0.00     0.0  \n",
       "8         705.225474 2016-11-08 10:40:00      0.00     0.0  \n",
       "9         705.225474 2016-11-08 10:40:00      0.00     0.0  \n",
       "10        705.225474 2016-11-08 10:40:00      0.00     0.0  \n",
       "11        705.225474 2016-11-08 10:40:00      0.00     0.0  \n",
       "12        705.225474 2016-11-08 10:40:00      0.00     0.0  \n",
       "13        705.225474 2016-11-08 10:40:00      0.00     0.0  \n",
       "14        705.225474 2016-11-08 10:40:00      0.00     0.0  \n",
       "15        705.225474 2016-11-08 10:40:00      0.00     0.0  \n",
       "16        705.225474 2016-11-08 10:40:00      0.00     0.0  \n",
       "17        705.225474 2016-11-08 10:40:00      0.00     0.0  \n",
       "18        705.225474 2016-11-08 10:40:00      0.00     0.0  \n",
       "19        705.225474 2016-11-08 10:40:00      0.00     0.0  \n",
       "20        705.225474 2016-11-08 10:40:00      0.00     0.0  \n",
       "21        705.225474 2016-11-08 10:40:00      0.00     0.0  \n",
       "22        705.225474 2016-11-08 10:40:00      0.00     0.0  \n",
       "23        705.225474 2016-11-08 10:40:00      0.00     0.0  \n",
       "24        705.225474 2016-11-08 10:40:00      0.00     0.0  \n",
       "25        705.225474 2016-11-08 10:40:00      0.00     0.0  \n",
       "26        705.225474 2016-11-08 10:40:00      0.00     0.0  \n",
       "27        705.225474 2016-11-08 10:40:00      0.00     0.0  \n",
       "28        705.225474 2016-11-08 10:40:00      0.00     0.0  \n",
       "29        705.225474 2016-11-08 10:40:00      0.00     0.0  \n",
       "...              ...                 ...       ...     ...  \n",
       "6270      717.970889 2016-11-09 04:01:00  70000.00     2.0  \n",
       "6271      717.970889 2016-11-09 04:01:00  70000.00     2.0  \n",
       "6272      717.970889 2016-11-09 04:01:00  70000.00     2.0  \n",
       "6273      717.970889 2016-11-09 04:01:00  70000.00     2.0  \n",
       "6274      717.970889 2016-11-09 04:01:00  70000.00     2.0  \n",
       "6275      717.970889 2016-11-09 04:01:00  70000.00     2.0  \n",
       "6276      717.970889 2016-11-09 04:01:00  69997.49     2.0  \n",
       "6277      717.970889 2016-11-09 04:01:00  65984.33     2.0  \n",
       "6278      717.970889 2016-11-09 04:01:00  63466.18     2.0  \n",
       "6279      717.970889 2016-11-09 04:01:00  57306.47     2.0  \n",
       "6280      717.970889 2016-11-09 04:01:00  48991.43     2.0  \n",
       "6281      717.970889 2016-11-09 04:01:00  44875.36     2.0  \n",
       "6282      717.970889 2016-11-09 04:01:00  39415.54     2.0  \n",
       "6283      717.970889 2016-11-09 04:01:00  36311.21     2.0  \n",
       "6284      717.970889 2016-11-09 04:01:00   5998.50     2.0  \n",
       "6285      729.482963 2016-11-09 05:01:00  69322.24     2.0  \n",
       "6286      729.482963 2016-11-09 05:01:00  66605.06     2.0  \n",
       "6287      729.482963 2016-11-09 05:01:00  54616.31     2.0  \n",
       "6288      729.482963 2016-11-09 05:01:00  44008.14     2.0  \n",
       "6289      729.482963 2016-11-09 05:01:00  38422.78     2.0  \n",
       "6290      729.482963 2016-11-09 05:01:00  24346.51     2.0  \n",
       "6291      729.482963 2016-11-09 05:01:00  19022.83     2.0  \n",
       "6292      729.482963 2016-11-09 05:01:00    378.84     2.0  \n",
       "6293      729.482963 2016-11-09 05:01:00      0.00     2.0  \n",
       "6294      729.482963 2016-11-09 05:01:00      0.00     2.0  \n",
       "6295      729.482963 2016-11-09 05:01:00      0.00     2.0  \n",
       "6296      729.482963 2016-11-09 05:01:00      0.00     2.0  \n",
       "6297      729.482963 2016-11-09 05:01:00      0.00     2.0  \n",
       "6298      729.482963 2016-11-09 05:01:00      0.00     2.0  \n",
       "6299      729.482963 2016-11-09 05:01:00      0.00     2.0  \n",
       "\n",
       "[6300 rows x 10 columns]"
      ]
     },
     "execution_count": 161,
     "metadata": {},
     "output_type": "execute_result"
    }
   ],
   "source": [
    "ql_all.samples"
   ]
  },
  {
   "cell_type": "code",
   "execution_count": 159,
   "metadata": {
    "collapsed": false,
    "scrolled": false
   },
   "outputs": [
    {
     "data": {
      "image/png": "[encoded data removed]",
      "text/plain": [
       "<matplotlib.figure.Figure at 0x7f5e22076630>"
      ]
     },
     "metadata": {},
     "output_type": "display_data"
    },
    {
     "data": {
      "text/html": [
       "<div>\n",
       "<table border=\"1\" class=\"dataframe\">\n",
       "  <thead>\n",
       "    <tr style=\"text-align: right;\">\n",
       "      <th></th>\n",
       "      <th>QTable_Agent</th>\n",
       "      <th>ql_even</th>\n",
       "      <th>ql_both</th>\n",
       "      <th>ql_all</th>\n",
       "      <th>-4</th>\n",
       "      <th>-3</th>\n",
       "      <th>-2</th>\n",
       "      <th>-1</th>\n",
       "      <th>0</th>\n",
       "      <th>1</th>\n",
       "      <th>2</th>\n",
       "      <th>3</th>\n",
       "      <th>4</th>\n",
       "      <th>5</th>\n",
       "      <th>6</th>\n",
       "      <th>7</th>\n",
       "      <th>8</th>\n",
       "    </tr>\n",
       "  </thead>\n",
       "  <tbody>\n",
       "    <tr>\n",
       "      <th>count</th>\n",
       "      <td>20.000000</td>\n",
       "      <td>20.000000</td>\n",
       "      <td>20.000000</td>\n",
       "      <td>20.000000</td>\n",
       "      <td>20.000000</td>\n",
       "      <td>20.000000</td>\n",
       "      <td>20.000000</td>\n",
       "      <td>20.000000</td>\n",
       "      <td>20.000000</td>\n",
       "      <td>20.000000</td>\n",
       "      <td>20.000000</td>\n",
       "      <td>20.000000</td>\n",
       "      <td>20.000000</td>\n",
       "      <td>20.000000</td>\n",
       "      <td>20.000000</td>\n",
       "      <td>20.000000</td>\n",
       "      <td>20.000000</td>\n",
       "    </tr>\n",
       "    <tr>\n",
       "      <th>mean</th>\n",
       "      <td>-395.888389</td>\n",
       "      <td>-262.402276</td>\n",
       "      <td>-403.238536</td>\n",
       "      <td>-388.028133</td>\n",
       "      <td>148.464101</td>\n",
       "      <td>143.088219</td>\n",
       "      <td>118.333449</td>\n",
       "      <td>104.352090</td>\n",
       "      <td>38.996701</td>\n",
       "      <td>-81.587884</td>\n",
       "      <td>-255.194472</td>\n",
       "      <td>-315.509165</td>\n",
       "      <td>-362.426952</td>\n",
       "      <td>-370.021050</td>\n",
       "      <td>-375.536924</td>\n",
       "      <td>-359.495944</td>\n",
       "      <td>-333.053969</td>\n",
       "    </tr>\n",
       "    <tr>\n",
       "      <th>std</th>\n",
       "      <td>166.775923</td>\n",
       "      <td>370.822038</td>\n",
       "      <td>206.743831</td>\n",
       "      <td>248.898304</td>\n",
       "      <td>332.169345</td>\n",
       "      <td>333.381219</td>\n",
       "      <td>354.695083</td>\n",
       "      <td>369.196521</td>\n",
       "      <td>408.097646</td>\n",
       "      <td>474.315779</td>\n",
       "      <td>452.168200</td>\n",
       "      <td>403.512993</td>\n",
       "      <td>362.398866</td>\n",
       "      <td>312.285713</td>\n",
       "      <td>254.742529</td>\n",
       "      <td>229.711079</td>\n",
       "      <td>194.306194</td>\n",
       "    </tr>\n",
       "    <tr>\n",
       "      <th>min</th>\n",
       "      <td>-826.361474</td>\n",
       "      <td>-805.132825</td>\n",
       "      <td>-905.332913</td>\n",
       "      <td>-925.211217</td>\n",
       "      <td>-361.930377</td>\n",
       "      <td>-392.155481</td>\n",
       "      <td>-585.168354</td>\n",
       "      <td>-620.277305</td>\n",
       "      <td>-559.560870</td>\n",
       "      <td>-769.044814</td>\n",
       "      <td>-853.219425</td>\n",
       "      <td>-925.211217</td>\n",
       "      <td>-915.490004</td>\n",
       "      <td>-905.332913</td>\n",
       "      <td>-826.361474</td>\n",
       "      <td>-790.968543</td>\n",
       "      <td>-661.439861</td>\n",
       "    </tr>\n",
       "    <tr>\n",
       "      <th>25%</th>\n",
       "      <td>-467.535175</td>\n",
       "      <td>-522.481783</td>\n",
       "      <td>-475.336601</td>\n",
       "      <td>-529.041865</td>\n",
       "      <td>-28.809186</td>\n",
       "      <td>-28.809186</td>\n",
       "      <td>-55.263277</td>\n",
       "      <td>-55.263277</td>\n",
       "      <td>-122.569477</td>\n",
       "      <td>-391.886770</td>\n",
       "      <td>-556.352271</td>\n",
       "      <td>-538.599323</td>\n",
       "      <td>-514.433867</td>\n",
       "      <td>-475.336601</td>\n",
       "      <td>-488.255591</td>\n",
       "      <td>-461.791366</td>\n",
       "      <td>-418.584242</td>\n",
       "    </tr>\n",
       "    <tr>\n",
       "      <th>50%</th>\n",
       "      <td>-388.901371</td>\n",
       "      <td>-386.048944</td>\n",
       "      <td>-408.074238</td>\n",
       "      <td>-404.868364</td>\n",
       "      <td>90.768894</td>\n",
       "      <td>90.768894</td>\n",
       "      <td>55.636272</td>\n",
       "      <td>55.209733</td>\n",
       "      <td>28.092329</td>\n",
       "      <td>-86.769795</td>\n",
       "      <td>-418.554317</td>\n",
       "      <td>-408.590288</td>\n",
       "      <td>-397.746659</td>\n",
       "      <td>-411.346581</td>\n",
       "      <td>-399.962507</td>\n",
       "      <td>-375.632513</td>\n",
       "      <td>-351.795373</td>\n",
       "    </tr>\n",
       "    <tr>\n",
       "      <th>75%</th>\n",
       "      <td>-344.576670</td>\n",
       "      <td>-55.583140</td>\n",
       "      <td>-352.973198</td>\n",
       "      <td>-300.597911</td>\n",
       "      <td>194.685149</td>\n",
       "      <td>193.250147</td>\n",
       "      <td>171.731781</td>\n",
       "      <td>171.731781</td>\n",
       "      <td>135.457928</td>\n",
       "      <td>127.428139</td>\n",
       "      <td>-64.212748</td>\n",
       "      <td>-202.060265</td>\n",
       "      <td>-369.809926</td>\n",
       "      <td>-352.973198</td>\n",
       "      <td>-344.576670</td>\n",
       "      <td>-330.945203</td>\n",
       "      <td>-307.233705</td>\n",
       "    </tr>\n",
       "    <tr>\n",
       "      <th>max</th>\n",
       "      <td>8.803629</td>\n",
       "      <td>673.169858</td>\n",
       "      <td>221.892800</td>\n",
       "      <td>356.808148</td>\n",
       "      <td>1218.789144</td>\n",
       "      <td>1218.789144</td>\n",
       "      <td>1218.789144</td>\n",
       "      <td>1218.789144</td>\n",
       "      <td>1218.789144</td>\n",
       "      <td>1218.789144</td>\n",
       "      <td>1218.695428</td>\n",
       "      <td>1078.443414</td>\n",
       "      <td>994.126825</td>\n",
       "      <td>791.658786</td>\n",
       "      <td>546.385944</td>\n",
       "      <td>443.805337</td>\n",
       "      <td>316.032640</td>\n",
       "    </tr>\n",
       "    <tr>\n",
       "      <th>rel_mean</th>\n",
       "      <td>1.000000</td>\n",
       "      <td>0.662819</td>\n",
       "      <td>1.018566</td>\n",
       "      <td>0.980145</td>\n",
       "      <td>-0.375015</td>\n",
       "      <td>-0.361436</td>\n",
       "      <td>-0.298906</td>\n",
       "      <td>-0.263590</td>\n",
       "      <td>-0.098504</td>\n",
       "      <td>0.206088</td>\n",
       "      <td>0.644612</td>\n",
       "      <td>0.796965</td>\n",
       "      <td>0.915478</td>\n",
       "      <td>0.934660</td>\n",
       "      <td>0.948593</td>\n",
       "      <td>0.908074</td>\n",
       "      <td>0.841282</td>\n",
       "    </tr>\n",
       "    <tr>\n",
       "      <th>rel_median</th>\n",
       "      <td>1.000000</td>\n",
       "      <td>0.992665</td>\n",
       "      <td>1.049300</td>\n",
       "      <td>1.041057</td>\n",
       "      <td>-0.233398</td>\n",
       "      <td>-0.233398</td>\n",
       "      <td>-0.143060</td>\n",
       "      <td>-0.141963</td>\n",
       "      <td>-0.072235</td>\n",
       "      <td>0.223115</td>\n",
       "      <td>1.076248</td>\n",
       "      <td>1.050627</td>\n",
       "      <td>1.022744</td>\n",
       "      <td>1.057714</td>\n",
       "      <td>1.028442</td>\n",
       "      <td>0.965881</td>\n",
       "      <td>0.904588</td>\n",
       "    </tr>\n",
       "  </tbody>\n",
       "</table>\n",
       "</div>"
      ],
      "text/plain": [
       "            QTable_Agent     ql_even     ql_both      ql_all           -4  \\\n",
       "count          20.000000   20.000000   20.000000   20.000000    20.000000   \n",
       "mean         -395.888389 -262.402276 -403.238536 -388.028133   148.464101   \n",
       "std           166.775923  370.822038  206.743831  248.898304   332.169345   \n",
       "min          -826.361474 -805.132825 -905.332913 -925.211217  -361.930377   \n",
       "25%          -467.535175 -522.481783 -475.336601 -529.041865   -28.809186   \n",
       "50%          -388.901371 -386.048944 -408.074238 -404.868364    90.768894   \n",
       "75%          -344.576670  -55.583140 -352.973198 -300.597911   194.685149   \n",
       "max             8.803629  673.169858  221.892800  356.808148  1218.789144   \n",
       "rel_mean        1.000000    0.662819    1.018566    0.980145    -0.375015   \n",
       "rel_median      1.000000    0.992665    1.049300    1.041057    -0.233398   \n",
       "\n",
       "                     -3           -2           -1            0            1  \\\n",
       "count         20.000000    20.000000    20.000000    20.000000    20.000000   \n",
       "mean         143.088219   118.333449   104.352090    38.996701   -81.587884   \n",
       "std          333.381219   354.695083   369.196521   408.097646   474.315779   \n",
       "min         -392.155481  -585.168354  -620.277305  -559.560870  -769.044814   \n",
       "25%          -28.809186   -55.263277   -55.263277  -122.569477  -391.886770   \n",
       "50%           90.768894    55.636272    55.209733    28.092329   -86.769795   \n",
       "75%          193.250147   171.731781   171.731781   135.457928   127.428139   \n",
       "max         1218.789144  1218.789144  1218.789144  1218.789144  1218.789144   \n",
       "rel_mean      -0.361436    -0.298906    -0.263590    -0.098504     0.206088   \n",
       "rel_median    -0.233398    -0.143060    -0.141963    -0.072235     0.223115   \n",
       "\n",
       "                      2            3           4           5           6  \\\n",
       "count         20.000000    20.000000   20.000000   20.000000   20.000000   \n",
       "mean        -255.194472  -315.509165 -362.426952 -370.021050 -375.536924   \n",
       "std          452.168200   403.512993  362.398866  312.285713  254.742529   \n",
       "min         -853.219425  -925.211217 -915.490004 -905.332913 -826.361474   \n",
       "25%         -556.352271  -538.599323 -514.433867 -475.336601 -488.255591   \n",
       "50%         -418.554317  -408.590288 -397.746659 -411.346581 -399.962507   \n",
       "75%          -64.212748  -202.060265 -369.809926 -352.973198 -344.576670   \n",
       "max         1218.695428  1078.443414  994.126825  791.658786  546.385944   \n",
       "rel_mean       0.644612     0.796965    0.915478    0.934660    0.948593   \n",
       "rel_median     1.076248     1.050627    1.022744    1.057714    1.028442   \n",
       "\n",
       "                     7           8  \n",
       "count        20.000000   20.000000  \n",
       "mean       -359.495944 -333.053969  \n",
       "std         229.711079  194.306194  \n",
       "min        -790.968543 -661.439861  \n",
       "25%        -461.791366 -418.584242  \n",
       "50%        -375.632513 -351.795373  \n",
       "75%        -330.945203 -307.233705  \n",
       "max         443.805337  316.032640  \n",
       "rel_mean      0.908074    0.841282  \n",
       "rel_median    0.965881    0.904588  "
      ]
     },
     "metadata": {},
     "output_type": "display_data"
    },
    {
     "name": "stdout",
     "output_type": "stream",
     "text": [
      "\n"
     ]
    },
    {
     "data": {
      "text/html": [
       "<div>\n",
       "<table border=\"1\" class=\"dataframe\">\n",
       "  <thead>\n",
       "    <tr style=\"text-align: right;\">\n",
       "      <th></th>\n",
       "      <th>QTable_Agent</th>\n",
       "      <th>ql_even</th>\n",
       "      <th>ql_both</th>\n",
       "      <th>ql_all</th>\n",
       "      <th>-4</th>\n",
       "      <th>-3</th>\n",
       "      <th>-2</th>\n",
       "      <th>-1</th>\n",
       "      <th>0</th>\n",
       "      <th>1</th>\n",
       "      <th>2</th>\n",
       "      <th>3</th>\n",
       "      <th>4</th>\n",
       "      <th>5</th>\n",
       "      <th>6</th>\n",
       "      <th>7</th>\n",
       "      <th>8</th>\n",
       "    </tr>\n",
       "  </thead>\n",
       "  <tbody>\n",
       "    <tr>\n",
       "      <th>2016-11-08T10:00</th>\n",
       "      <td>-527.432247</td>\n",
       "      <td>-610.924004</td>\n",
       "      <td>-531.348637</td>\n",
       "      <td>-573.931847</td>\n",
       "      <td>2.055639</td>\n",
       "      <td>2.055639</td>\n",
       "      <td>-8.171375</td>\n",
       "      <td>-8.171375</td>\n",
       "      <td>-8.169712</td>\n",
       "      <td>-574.301591</td>\n",
       "      <td>-610.924493</td>\n",
       "      <td>-573.931847</td>\n",
       "      <td>-553.970285</td>\n",
       "      <td>-531.348637</td>\n",
       "      <td>-527.432247</td>\n",
       "      <td>-516.087460</td>\n",
       "      <td>-419.688737</td>\n",
       "    </tr>\n",
       "    <tr>\n",
       "      <th>2016-11-08T11:01</th>\n",
       "      <td>-502.258444</td>\n",
       "      <td>-110.329232</td>\n",
       "      <td>-505.701301</td>\n",
       "      <td>-527.855281</td>\n",
       "      <td>131.970586</td>\n",
       "      <td>131.970586</td>\n",
       "      <td>131.970586</td>\n",
       "      <td>131.970586</td>\n",
       "      <td>131.948822</td>\n",
       "      <td>131.948822</td>\n",
       "      <td>-434.708361</td>\n",
       "      <td>-527.855281</td>\n",
       "      <td>-509.647693</td>\n",
       "      <td>-505.701301</td>\n",
       "      <td>-502.258444</td>\n",
       "      <td>-489.871283</td>\n",
       "      <td>-482.664940</td>\n",
       "    </tr>\n",
       "    <tr>\n",
       "      <th>2016-11-08T12:01</th>\n",
       "      <td>-435.102448</td>\n",
       "      <td>-78.109386</td>\n",
       "      <td>-454.432326</td>\n",
       "      <td>-532.601619</td>\n",
       "      <td>25.598432</td>\n",
       "      <td>25.598432</td>\n",
       "      <td>22.381852</td>\n",
       "      <td>22.381852</td>\n",
       "      <td>22.381852</td>\n",
       "      <td>22.371354</td>\n",
       "      <td>-549.695628</td>\n",
       "      <td>-532.601619</td>\n",
       "      <td>-528.792389</td>\n",
       "      <td>-454.432326</td>\n",
       "      <td>-435.102448</td>\n",
       "      <td>-386.877472</td>\n",
       "      <td>-381.091140</td>\n",
       "    </tr>\n",
       "    <tr>\n",
       "      <th>2016-11-08T13:01</th>\n",
       "      <td>-423.955622</td>\n",
       "      <td>11.995598</td>\n",
       "      <td>-413.364327</td>\n",
       "      <td>-289.079507</td>\n",
       "      <td>218.182942</td>\n",
       "      <td>218.182942</td>\n",
       "      <td>218.182942</td>\n",
       "      <td>218.182942</td>\n",
       "      <td>104.429604</td>\n",
       "      <td>104.429604</td>\n",
       "      <td>-94.249810</td>\n",
       "      <td>-125.362420</td>\n",
       "      <td>-390.683583</td>\n",
       "      <td>-422.394031</td>\n",
       "      <td>-454.629721</td>\n",
       "      <td>-423.895800</td>\n",
       "      <td>-406.583181</td>\n",
       "    </tr>\n",
       "    <tr>\n",
       "      <th>2016-11-08T14:01</th>\n",
       "      <td>-136.883944</td>\n",
       "      <td>28.130571</td>\n",
       "      <td>-184.422249</td>\n",
       "      <td>-150.622672</td>\n",
       "      <td>166.691524</td>\n",
       "      <td>166.691524</td>\n",
       "      <td>166.691524</td>\n",
       "      <td>166.691524</td>\n",
       "      <td>166.691524</td>\n",
       "      <td>155.418976</td>\n",
       "      <td>80.497932</td>\n",
       "      <td>62.874823</td>\n",
       "      <td>-11.870325</td>\n",
       "      <td>-117.487257</td>\n",
       "      <td>-174.433582</td>\n",
       "      <td>-211.751681</td>\n",
       "      <td>-215.880877</td>\n",
       "    </tr>\n",
       "    <tr>\n",
       "      <th>2016-11-08T15:01</th>\n",
       "      <td>-246.100012</td>\n",
       "      <td>-195.071004</td>\n",
       "      <td>-248.152554</td>\n",
       "      <td>-246.253479</td>\n",
       "      <td>279.297745</td>\n",
       "      <td>279.297745</td>\n",
       "      <td>279.297745</td>\n",
       "      <td>279.297745</td>\n",
       "      <td>279.297745</td>\n",
       "      <td>275.042590</td>\n",
       "      <td>251.845741</td>\n",
       "      <td>-105.481713</td>\n",
       "      <td>-258.333800</td>\n",
       "      <td>-250.843264</td>\n",
       "      <td>-246.100012</td>\n",
       "      <td>-173.611930</td>\n",
       "      <td>-165.273068</td>\n",
       "    </tr>\n",
       "    <tr>\n",
       "      <th>2016-11-08T16:01</th>\n",
       "      <td>-320.032092</td>\n",
       "      <td>-512.632583</td>\n",
       "      <td>-335.635077</td>\n",
       "      <td>-371.504248</td>\n",
       "      <td>-361.930377</td>\n",
       "      <td>-392.155481</td>\n",
       "      <td>-585.168354</td>\n",
       "      <td>-620.277305</td>\n",
       "      <td>-559.560870</td>\n",
       "      <td>-484.244498</td>\n",
       "      <td>-388.266962</td>\n",
       "      <td>-371.504248</td>\n",
       "      <td>-353.277717</td>\n",
       "      <td>-335.635077</td>\n",
       "      <td>-320.032092</td>\n",
       "      <td>-303.142721</td>\n",
       "      <td>-142.211435</td>\n",
       "    </tr>\n",
       "    <tr>\n",
       "      <th>2016-11-08T17:01</th>\n",
       "      <td>-337.118587</td>\n",
       "      <td>-365.338138</td>\n",
       "      <td>-352.773423</td>\n",
       "      <td>-304.437378</td>\n",
       "      <td>33.802805</td>\n",
       "      <td>33.802805</td>\n",
       "      <td>33.802805</td>\n",
       "      <td>33.802805</td>\n",
       "      <td>33.802805</td>\n",
       "      <td>-101.346292</td>\n",
       "      <td>-112.717162</td>\n",
       "      <td>-231.641233</td>\n",
       "      <td>-390.681304</td>\n",
       "      <td>-352.773423</td>\n",
       "      <td>-337.118587</td>\n",
       "      <td>-334.425404</td>\n",
       "      <td>-316.585063</td>\n",
       "    </tr>\n",
       "    <tr>\n",
       "      <th>2016-11-08T18:01</th>\n",
       "      <td>-347.062698</td>\n",
       "      <td>-334.788984</td>\n",
       "      <td>-353.039789</td>\n",
       "      <td>-353.918206</td>\n",
       "      <td>-62.340231</td>\n",
       "      <td>-62.340231</td>\n",
       "      <td>-62.340231</td>\n",
       "      <td>-62.340231</td>\n",
       "      <td>-62.344194</td>\n",
       "      <td>-72.193298</td>\n",
       "      <td>-73.347815</td>\n",
       "      <td>-227.626213</td>\n",
       "      <td>-385.371373</td>\n",
       "      <td>-353.039789</td>\n",
       "      <td>-347.062698</td>\n",
       "      <td>-337.946757</td>\n",
       "      <td>-315.741966</td>\n",
       "    </tr>\n",
       "    <tr>\n",
       "      <th>2016-11-08T19:01</th>\n",
       "      <td>-356.502234</td>\n",
       "      <td>100.324401</td>\n",
       "      <td>-365.008408</td>\n",
       "      <td>-402.042235</td>\n",
       "      <td>146.004841</td>\n",
       "      <td>146.004841</td>\n",
       "      <td>146.004841</td>\n",
       "      <td>146.004841</td>\n",
       "      <td>145.985246</td>\n",
       "      <td>125.921245</td>\n",
       "      <td>-36.807547</td>\n",
       "      <td>-401.643979</td>\n",
       "      <td>-375.320663</td>\n",
       "      <td>-365.008408</td>\n",
       "      <td>-356.502234</td>\n",
       "      <td>-320.504600</td>\n",
       "      <td>-307.405756</td>\n",
       "    </tr>\n",
       "    <tr>\n",
       "      <th>2016-11-08T20:01</th>\n",
       "      <td>-364.141715</td>\n",
       "      <td>-471.035846</td>\n",
       "      <td>-391.441316</td>\n",
       "      <td>-407.694492</td>\n",
       "      <td>-60.389424</td>\n",
       "      <td>-60.389424</td>\n",
       "      <td>-60.422135</td>\n",
       "      <td>-60.422135</td>\n",
       "      <td>-268.054565</td>\n",
       "      <td>-495.950870</td>\n",
       "      <td>-448.224561</td>\n",
       "      <td>-407.694492</td>\n",
       "      <td>-399.050678</td>\n",
       "      <td>-391.441316</td>\n",
       "      <td>-364.141715</td>\n",
       "      <td>-338.590025</td>\n",
       "      <td>-306.717553</td>\n",
       "    </tr>\n",
       "    <tr>\n",
       "      <th>2016-11-08T21:01</th>\n",
       "      <td>-375.681133</td>\n",
       "      <td>-429.408892</td>\n",
       "      <td>-377.637232</td>\n",
       "      <td>-398.760325</td>\n",
       "      <td>77.469740</td>\n",
       "      <td>77.469740</td>\n",
       "      <td>77.469740</td>\n",
       "      <td>76.616661</td>\n",
       "      <td>76.616661</td>\n",
       "      <td>-298.697646</td>\n",
       "      <td>-402.400274</td>\n",
       "      <td>-409.486085</td>\n",
       "      <td>-396.442639</td>\n",
       "      <td>-389.875855</td>\n",
       "      <td>-375.681133</td>\n",
       "      <td>-369.347399</td>\n",
       "      <td>-339.397479</td>\n",
       "    </tr>\n",
       "    <tr>\n",
       "      <th>2016-11-08T22:01</th>\n",
       "      <td>-370.037269</td>\n",
       "      <td>-406.759750</td>\n",
       "      <td>-402.784148</td>\n",
       "      <td>-427.639956</td>\n",
       "      <td>186.852551</td>\n",
       "      <td>186.852551</td>\n",
       "      <td>186.852551</td>\n",
       "      <td>186.852551</td>\n",
       "      <td>101.796059</td>\n",
       "      <td>-227.290806</td>\n",
       "      <td>-437.970453</td>\n",
       "      <td>-427.639956</td>\n",
       "      <td>-416.931071</td>\n",
       "      <td>-402.784148</td>\n",
       "      <td>-370.037269</td>\n",
       "      <td>-345.113030</td>\n",
       "      <td>-322.891287</td>\n",
       "    </tr>\n",
       "    <tr>\n",
       "      <th>2016-11-08T23:01</th>\n",
       "      <td>-430.096656</td>\n",
       "      <td>-552.029384</td>\n",
       "      <td>-460.620297</td>\n",
       "      <td>-546.186453</td>\n",
       "      <td>-53.543657</td>\n",
       "      <td>-53.543657</td>\n",
       "      <td>-53.543657</td>\n",
       "      <td>-53.543657</td>\n",
       "      <td>-53.543657</td>\n",
       "      <td>-53.543657</td>\n",
       "      <td>-588.499456</td>\n",
       "      <td>-561.060457</td>\n",
       "      <td>-544.696564</td>\n",
       "      <td>-512.088455</td>\n",
       "      <td>-483.587973</td>\n",
       "      <td>-452.431393</td>\n",
       "      <td>-418.216077</td>\n",
       "    </tr>\n",
       "    <tr>\n",
       "      <th>2016-11-09T00:01</th>\n",
       "      <td>-455.960752</td>\n",
       "      <td>-430.670398</td>\n",
       "      <td>-465.215035</td>\n",
       "      <td>-479.288144</td>\n",
       "      <td>-20.564362</td>\n",
       "      <td>-20.564362</td>\n",
       "      <td>-20.564550</td>\n",
       "      <td>-20.564550</td>\n",
       "      <td>-159.308990</td>\n",
       "      <td>-361.100861</td>\n",
       "      <td>-506.680128</td>\n",
       "      <td>-486.955897</td>\n",
       "      <td>-472.451399</td>\n",
       "      <td>-465.215035</td>\n",
       "      <td>-455.960752</td>\n",
       "      <td>-429.597428</td>\n",
       "      <td>-410.254871</td>\n",
       "    </tr>\n",
       "    <tr>\n",
       "      <th>2016-11-09T01:01</th>\n",
       "      <td>-402.121610</td>\n",
       "      <td>-557.607086</td>\n",
       "      <td>-427.709587</td>\n",
       "      <td>-470.291464</td>\n",
       "      <td>-106.750766</td>\n",
       "      <td>-106.750766</td>\n",
       "      <td>-106.750766</td>\n",
       "      <td>-110.322972</td>\n",
       "      <td>-110.322972</td>\n",
       "      <td>-358.721425</td>\n",
       "      <td>-576.322203</td>\n",
       "      <td>-556.592434</td>\n",
       "      <td>-479.618466</td>\n",
       "      <td>-434.754457</td>\n",
       "      <td>-424.243880</td>\n",
       "      <td>-381.917627</td>\n",
       "      <td>-364.193268</td>\n",
       "    </tr>\n",
       "    <tr>\n",
       "      <th>2016-11-09T02:01</th>\n",
       "      <td>-546.066267</td>\n",
       "      <td>-623.525027</td>\n",
       "      <td>-582.015072</td>\n",
       "      <td>-599.428786</td>\n",
       "      <td>104.068049</td>\n",
       "      <td>104.068049</td>\n",
       "      <td>104.068049</td>\n",
       "      <td>104.068049</td>\n",
       "      <td>-551.604243</td>\n",
       "      <td>-623.525027</td>\n",
       "      <td>-605.459059</td>\n",
       "      <td>-599.428786</td>\n",
       "      <td>-593.423288</td>\n",
       "      <td>-582.015072</td>\n",
       "      <td>-546.066267</td>\n",
       "      <td>-520.932307</td>\n",
       "      <td>-498.765507</td>\n",
       "    </tr>\n",
       "    <tr>\n",
       "      <th>2016-11-09T03:01</th>\n",
       "      <td>-523.656211</td>\n",
       "      <td>673.169858</td>\n",
       "      <td>-530.029831</td>\n",
       "      <td>-110.623491</td>\n",
       "      <td>754.281359</td>\n",
       "      <td>754.281359</td>\n",
       "      <td>754.281359</td>\n",
       "      <td>754.281359</td>\n",
       "      <td>754.281359</td>\n",
       "      <td>754.281359</td>\n",
       "      <td>64.564802</td>\n",
       "      <td>20.216348</td>\n",
       "      <td>-266.612630</td>\n",
       "      <td>-419.909014</td>\n",
       "      <td>-510.371903</td>\n",
       "      <td>-506.711355</td>\n",
       "      <td>-502.109948</td>\n",
       "    </tr>\n",
       "    <tr>\n",
       "      <th>2016-11-09T04:01</th>\n",
       "      <td>8.803629</td>\n",
       "      <td>421.696582</td>\n",
       "      <td>221.892800</td>\n",
       "      <td>356.808148</td>\n",
       "      <td>1218.789144</td>\n",
       "      <td>1218.789144</td>\n",
       "      <td>1218.789144</td>\n",
       "      <td>1218.789144</td>\n",
       "      <td>1218.789144</td>\n",
       "      <td>1218.789144</td>\n",
       "      <td>1218.695428</td>\n",
       "      <td>1078.443414</td>\n",
       "      <td>994.126825</td>\n",
       "      <td>791.658786</td>\n",
       "      <td>546.385944</td>\n",
       "      <td>443.805337</td>\n",
       "      <td>316.032640</td>\n",
       "    </tr>\n",
       "    <tr>\n",
       "      <th>2016-11-09T05:01</th>\n",
       "      <td>-826.361474</td>\n",
       "      <td>-805.132825</td>\n",
       "      <td>-905.332913</td>\n",
       "      <td>-925.211217</td>\n",
       "      <td>289.735477</td>\n",
       "      <td>212.442937</td>\n",
       "      <td>-76.163081</td>\n",
       "      <td>-316.256037</td>\n",
       "      <td>-483.177608</td>\n",
       "      <td>-769.044814</td>\n",
       "      <td>-853.219425</td>\n",
       "      <td>-925.211217</td>\n",
       "      <td>-915.490004</td>\n",
       "      <td>-905.332913</td>\n",
       "      <td>-826.361474</td>\n",
       "      <td>-790.968543</td>\n",
       "      <td>-661.439861</td>\n",
       "    </tr>\n",
       "  </tbody>\n",
       "</table>\n",
       "</div>"
      ],
      "text/plain": [
       "                  QTable_Agent     ql_even     ql_both      ql_all  \\\n",
       "2016-11-08T10:00   -527.432247 -610.924004 -531.348637 -573.931847   \n",
       "2016-11-08T11:01   -502.258444 -110.329232 -505.701301 -527.855281   \n",
       "2016-11-08T12:01   -435.102448  -78.109386 -454.432326 -532.601619   \n",
       "2016-11-08T13:01   -423.955622   11.995598 -413.364327 -289.079507   \n",
       "2016-11-08T14:01   -136.883944   28.130571 -184.422249 -150.622672   \n",
       "2016-11-08T15:01   -246.100012 -195.071004 -248.152554 -246.253479   \n",
       "2016-11-08T16:01   -320.032092 -512.632583 -335.635077 -371.504248   \n",
       "2016-11-08T17:01   -337.118587 -365.338138 -352.773423 -304.437378   \n",
       "2016-11-08T18:01   -347.062698 -334.788984 -353.039789 -353.918206   \n",
       "2016-11-08T19:01   -356.502234  100.324401 -365.008408 -402.042235   \n",
       "2016-11-08T20:01   -364.141715 -471.035846 -391.441316 -407.694492   \n",
       "2016-11-08T21:01   -375.681133 -429.408892 -377.637232 -398.760325   \n",
       "2016-11-08T22:01   -370.037269 -406.759750 -402.784148 -427.639956   \n",
       "2016-11-08T23:01   -430.096656 -552.029384 -460.620297 -546.186453   \n",
       "2016-11-09T00:01   -455.960752 -430.670398 -465.215035 -479.288144   \n",
       "2016-11-09T01:01   -402.121610 -557.607086 -427.709587 -470.291464   \n",
       "2016-11-09T02:01   -546.066267 -623.525027 -582.015072 -599.428786   \n",
       "2016-11-09T03:01   -523.656211  673.169858 -530.029831 -110.623491   \n",
       "2016-11-09T04:01      8.803629  421.696582  221.892800  356.808148   \n",
       "2016-11-09T05:01   -826.361474 -805.132825 -905.332913 -925.211217   \n",
       "\n",
       "                           -4           -3           -2           -1  \\\n",
       "2016-11-08T10:00     2.055639     2.055639    -8.171375    -8.171375   \n",
       "2016-11-08T11:01   131.970586   131.970586   131.970586   131.970586   \n",
       "2016-11-08T12:01    25.598432    25.598432    22.381852    22.381852   \n",
       "2016-11-08T13:01   218.182942   218.182942   218.182942   218.182942   \n",
       "2016-11-08T14:01   166.691524   166.691524   166.691524   166.691524   \n",
       "2016-11-08T15:01   279.297745   279.297745   279.297745   279.297745   \n",
       "2016-11-08T16:01  -361.930377  -392.155481  -585.168354  -620.277305   \n",
       "2016-11-08T17:01    33.802805    33.802805    33.802805    33.802805   \n",
       "2016-11-08T18:01   -62.340231   -62.340231   -62.340231   -62.340231   \n",
       "2016-11-08T19:01   146.004841   146.004841   146.004841   146.004841   \n",
       "2016-11-08T20:01   -60.389424   -60.389424   -60.422135   -60.422135   \n",
       "2016-11-08T21:01    77.469740    77.469740    77.469740    76.616661   \n",
       "2016-11-08T22:01   186.852551   186.852551   186.852551   186.852551   \n",
       "2016-11-08T23:01   -53.543657   -53.543657   -53.543657   -53.543657   \n",
       "2016-11-09T00:01   -20.564362   -20.564362   -20.564550   -20.564550   \n",
       "2016-11-09T01:01  -106.750766  -106.750766  -106.750766  -110.322972   \n",
       "2016-11-09T02:01   104.068049   104.068049   104.068049   104.068049   \n",
       "2016-11-09T03:01   754.281359   754.281359   754.281359   754.281359   \n",
       "2016-11-09T04:01  1218.789144  1218.789144  1218.789144  1218.789144   \n",
       "2016-11-09T05:01   289.735477   212.442937   -76.163081  -316.256037   \n",
       "\n",
       "                            0            1            2            3  \\\n",
       "2016-11-08T10:00    -8.169712  -574.301591  -610.924493  -573.931847   \n",
       "2016-11-08T11:01   131.948822   131.948822  -434.708361  -527.855281   \n",
       "2016-11-08T12:01    22.381852    22.371354  -549.695628  -532.601619   \n",
       "2016-11-08T13:01   104.429604   104.429604   -94.249810  -125.362420   \n",
       "2016-11-08T14:01   166.691524   155.418976    80.497932    62.874823   \n",
       "2016-11-08T15:01   279.297745   275.042590   251.845741  -105.481713   \n",
       "2016-11-08T16:01  -559.560870  -484.244498  -388.266962  -371.504248   \n",
       "2016-11-08T17:01    33.802805  -101.346292  -112.717162  -231.641233   \n",
       "2016-11-08T18:01   -62.344194   -72.193298   -73.347815  -227.626213   \n",
       "2016-11-08T19:01   145.985246   125.921245   -36.807547  -401.643979   \n",
       "2016-11-08T20:01  -268.054565  -495.950870  -448.224561  -407.694492   \n",
       "2016-11-08T21:01    76.616661  -298.697646  -402.400274  -409.486085   \n",
       "2016-11-08T22:01   101.796059  -227.290806  -437.970453  -427.639956   \n",
       "2016-11-08T23:01   -53.543657   -53.543657  -588.499456  -561.060457   \n",
       "2016-11-09T00:01  -159.308990  -361.100861  -506.680128  -486.955897   \n",
       "2016-11-09T01:01  -110.322972  -358.721425  -576.322203  -556.592434   \n",
       "2016-11-09T02:01  -551.604243  -623.525027  -605.459059  -599.428786   \n",
       "2016-11-09T03:01   754.281359   754.281359    64.564802    20.216348   \n",
       "2016-11-09T04:01  1218.789144  1218.789144  1218.695428  1078.443414   \n",
       "2016-11-09T05:01  -483.177608  -769.044814  -853.219425  -925.211217   \n",
       "\n",
       "                           4           5           6           7           8  \n",
       "2016-11-08T10:00 -553.970285 -531.348637 -527.432247 -516.087460 -419.688737  \n",
       "2016-11-08T11:01 -509.647693 -505.701301 -502.258444 -489.871283 -482.664940  \n",
       "2016-11-08T12:01 -528.792389 -454.432326 -435.102448 -386.877472 -381.091140  \n",
       "2016-11-08T13:01 -390.683583 -422.394031 -454.629721 -423.895800 -406.583181  \n",
       "2016-11-08T14:01  -11.870325 -117.487257 -174.433582 -211.751681 -215.880877  \n",
       "2016-11-08T15:01 -258.333800 -250.843264 -246.100012 -173.611930 -165.273068  \n",
       "2016-11-08T16:01 -353.277717 -335.635077 -320.032092 -303.142721 -142.211435  \n",
       "2016-11-08T17:01 -390.681304 -352.773423 -337.118587 -334.425404 -316.585063  \n",
       "2016-11-08T18:01 -385.371373 -353.039789 -347.062698 -337.946757 -315.741966  \n",
       "2016-11-08T19:01 -375.320663 -365.008408 -356.502234 -320.504600 -307.405756  \n",
       "2016-11-08T20:01 -399.050678 -391.441316 -364.141715 -338.590025 -306.717553  \n",
       "2016-11-08T21:01 -396.442639 -389.875855 -375.681133 -369.347399 -339.397479  \n",
       "2016-11-08T22:01 -416.931071 -402.784148 -370.037269 -345.113030 -322.891287  \n",
       "2016-11-08T23:01 -544.696564 -512.088455 -483.587973 -452.431393 -418.216077  \n",
       "2016-11-09T00:01 -472.451399 -465.215035 -455.960752 -429.597428 -410.254871  \n",
       "2016-11-09T01:01 -479.618466 -434.754457 -424.243880 -381.917627 -364.193268  \n",
       "2016-11-09T02:01 -593.423288 -582.015072 -546.066267 -520.932307 -498.765507  \n",
       "2016-11-09T03:01 -266.612630 -419.909014 -510.371903 -506.711355 -502.109948  \n",
       "2016-11-09T04:01  994.126825  791.658786  546.385944  443.805337  316.032640  \n",
       "2016-11-09T05:01 -915.490004 -905.332913 -826.361474 -790.968543 -661.439861  "
      ]
     },
     "metadata": {},
     "output_type": "display_data"
    }
   ],
   "source": [
    "print(\"### cresc ###\")\n",
    "result_cresc = ql_cresc.evaluate(data_nov_orig,\n",
    "            additional_agents={'ql_even': ql_even,\n",
    "                               'ql_both': ql_both,\n",
    "                               'ql_all': ql_all},\n",
    "            evaluate_actions=range(-4,9),  # [0.0, 0.1, 0.2, 0.3, 0.4, 0.5, 0.6, 0.7, 0.8],\n",
    "            verbose=True,\n",
    "            show_plot=True)\n",
    "display(result_cresc)"
   ]
  },
  {
   "cell_type": "code",
   "execution_count": null,
   "metadata": {
    "collapsed": false,
    "scrolled": false
   },
   "outputs": [],
   "source": [
    "print(\"### cresc ###\")\n",
    "result_cresc2 = ql_cresc.evaluate(data_selection[:2],\n",
    "            evaluate_actions=range(-4,9),  # [0.0, 0.1, 0.2, 0.3, 0.4, 0.5, 0.6, 0.7, 0.8],\n",
    "            custom_strategies={'4,6,4': [4,6,4],\n",
    "                               '5,6,4': [5,6,4],\n",
    "                              '6,4,6': [6,4,6],\n",
    "                              '6,5,6': [6,5,6],\n",
    "                              '7,4,6': [7,4,6]},\n",
    "            verbose=True,\n",
    "            show_plot=True)\n",
    "display(result_cresc)\n",
    "display(result_cresc2)\n",
    "\n",
    "# print(\"### even ###\")\n",
    "# results_even = ql_even.evaluate(data_nov_orig[0:1],\n",
    "#             evaluate_actions=range(-4,9),  # [0.0, 0.1, 0.2, 0.3, 0.4, 0.5, 0.6, 0.7, 0.8],\n",
    "#             verbose=True)\n",
    "# display(results_even)"
   ]
  },
  {
   "cell_type": "code",
   "execution_count": null,
   "metadata": {
    "collapsed": false
   },
   "outputs": [],
   "source": [
    "plot_episode(data_selection[1], limits=[714.843016, 714.843016, 719.106494])\n",
    "#plot_episode(data_selection[1], limits=[715.553596])\n",
    "\n"
   ]
  },
  {
   "cell_type": "code",
   "execution_count": null,
   "metadata": {
    "collapsed": false,
    "scrolled": false
   },
   "outputs": [],
   "source": [
    "print(\"### both ###\")\n",
    "results_all = ql_both.evaluate(data_nov_orig[:],\n",
    "            evaluate_actions=range(-1,9),  # [0.0, 0.1, 0.2, 0.3, 0.4, 0.5, 0.6, 0.7, 0.8],\n",
    "            additional_agents={'ql_cresc': ql_cresc,\n",
    "                               'ql_even': ql_even,\n",
    "                               'ql_20': ql_20,\n",
    "                               'ql_20_cheat': ql_20_cheat,\n",
    "                               'VolTime': agent_BatchTree['VolTime'],\n",
    "                               'VolTimeFuturedisc15': agent_BatchTree['VolTimeFuturedisc15']},\n",
    "            verbose=False,\n",
    "           show_plot=True)\n",
    "#display(results_all)"
   ]
  },
  {
   "cell_type": "code",
   "execution_count": null,
   "metadata": {
    "collapsed": false,
    "scrolled": true
   },
   "outputs": [],
   "source": [
    "print(\"### both ###\")\n",
    "results_all_feb = ql_both.evaluate(data_feb[:20],\n",
    "            evaluate_actions=[6],  # [0.0, 0.1, 0.2, 0.3, 0.4, 0.5, 0.6, 0.7, 0.8],\n",
    "            additional_agents={'ql_cresc': ql_cresc,\n",
    "                               'ql_even': ql_even,\n",
    "                               'ql_20': ql_20,\n",
    "                               'ql_20_cheat': ql_20_cheat,\n",
    "                               'VolTime': agent_BatchTree['VolTime'],\n",
    "                               'VolTimeFuturedisc15': agent_BatchTree['VolTimeFuturedisc15']},\n",
    "            verbose=False,\n",
    "           show_plot=True)\n",
    "#display(results_all)"
   ]
  },
  {
   "cell_type": "code",
   "execution_count": null,
   "metadata": {
    "collapsed": false
   },
   "outputs": [],
   "source": [
    "df = ql_20.samples\n",
    "def addMarketFeatures_toSamples(samples_df, hist, state_variables,\n",
    "                                market_features, period_length=15):\n",
    "    df = samples_df.copy()\n",
    "    \n",
    "    for i, f in tqdm(enumerate(market_features)):\n",
    "        #\n",
    "        f_n = \"{}_n\".format(f)\n",
    "        if f in df.columns:\n",
    "            df.drop(f, inplace=True, axis=1)\n",
    "        if f_n in df.columns:\n",
    "            df.drop(f_n, inplace=True, axis=1)\n",
    "        \n",
    "        df.insert(loc=2+i, column=f, value=df.timestamp.map(hist[f]),\n",
    "                 allow_duplicates=True)\n",
    "        df.insert(loc=df.shape[1],\n",
    "                  column=f_n,\n",
    "                  allow_duplicates=True,\n",
    "                  value=(df.timestamp+pd.Timedelta(minutes=period_length)).map(hist[f]))\n",
    "        if f not in state_variables:\n",
    "            state_variables.append(f)\n",
    "\n",
    "        if f in ['high24hr', 'low24hr', 'spread']:\n",
    "            df[f] = df[f] / df.initial_center\n",
    "            df[f_n] = df[f_n] / df.initial_center\n",
    "\n",
    "    return df\n",
    "\n",
    "df2 = addMarketFeatures_toSamples(samples_df=df, hist=hist, state_variables=state_variables,\n",
    "                                 market_features=['future15', 'future15_disc', 'future30_disc', 'future45_disc'])\n",
    "print(df2.shape)\n",
    "display(df2.describe())"
   ]
  },
  {
   "cell_type": "code",
   "execution_count": null,
   "metadata": {
    "collapsed": false
   },
   "outputs": [],
   "source": [
    "actions = list(np.linspace(action_min, action_max, num=action_count))\n",
    "actions = [round(a, 2) for a in actions]\n",
    "print(actions)\n",
    "state_variables = ['volume', 'time'] #, 'spread', 'high24hr', 'low24hr']\n",
    "\n",
    "experiments = {\n",
    "    'VolTime': ['volume', 'time'],\n",
    "    # 'VolTimeSpread': ['volume', 'time', 'spread_disc'],\n",
    "#    'VolTimeEMA': ['volume', 'time', 'EMA10', 'EMA60'],\n",
    "    # 'VolTimeFuturedisc': ['volume', 'time', 'future15_disc', 'future30_disc', 'future45_disc']\n",
    "    'VolTimeFuturedisc15': ['volume', 'time', 'future15_disc']\n",
    "}\n",
    "\n",
    "agent_BatchTree = {}\n",
    "for i, key in enumerate(experiments.keys()):\n",
    "    print(\"\\n##### Experiment {}/{}: {} #####\".format(i+1, len(experiments.keys()), key))\n",
    "    state_variables_experiment = experiments[key]\n",
    "    \n",
    "    agent_BatchTree[key] = train_BatchTree_fromSamples(\n",
    "        df=df2, V=volume, T=decision_points,\n",
    "        period_length=period_length, vol_intervals=volume_intervals,\n",
    "        actions=actions,\n",
    "        state_variables=state_variables_experiment,\n",
    "        n_estimators=100, max_depth=10\n",
    "    )\n",
    "    \n",
    "    print(\"Feature importances:\")\n",
    "    print(agent_BatchTree[key].model.feature_importances_)"
   ]
  },
  {
   "cell_type": "code",
   "execution_count": null,
   "metadata": {
    "collapsed": false
   },
   "outputs": [],
   "source": [
    "plot_episode(episodes_train[1], vlines=[0,15,30,45], hlines=list(np.unique(limits)))"
   ]
  },
  {
   "cell_type": "code",
   "execution_count": null,
   "metadata": {
    "collapsed": false
   },
   "outputs": [],
   "source": [
    "plot_episode(episodes_train[1], vlines=[0,15,30,45], hlines=list(np.unique(limits)), limits=[episodes_train[1][0].get_center()*1.002])"
   ]
  },
  {
   "cell_type": "code",
   "execution_count": null,
   "metadata": {
    "collapsed": false
   },
   "outputs": [],
   "source": [
    "print(\"both\")\n",
    "ql.heatmap_Q(show_minima_count=True)\n",
    "print(\"even\")\n",
    "ql_even.heatmap_Q(show_minima_count=True)\n",
    "print(\"cresc\")\n",
    "ql_cresc.heatmap_Q(show_minima_count=True)\n",
    "\n"
   ]
  },
  {
   "cell_type": "code",
   "execution_count": null,
   "metadata": {
    "collapsed": false
   },
   "outputs": [],
   "source": [
    "agent_BatchTree['VolTime_20samples'].samples"
   ]
  },
  {
   "cell_type": "code",
   "execution_count": null,
   "metadata": {
    "collapsed": false,
    "scrolled": false
   },
   "outputs": [],
   "source": [
    "ql.limit_base = 'incStepUnits'\n",
    "ql_even.limit_base = 'incStepUnits'\n",
    "ql_cresc.limit_base = 'incStepUnits'\n",
    "evaluation = ql.evaluate(data_nov[17:18],\n",
    "                      additional_agents={\n",
    "                          'ql_even': ql_even,\n",
    "                          'ql_cresc':ql_cresc},\n",
    "                      evaluate_actions=[0.4, 0.5, 0.6, 0.7, 0.8], verbose=True,\n",
    "                      show_plot=True,\n",
    "                      )\n",
    "display(evaluation)\n",
    "display(pd.DataFrame(evaluation.mean()).T)"
   ]
  },
  {
   "cell_type": "code",
   "execution_count": null,
   "metadata": {
    "collapsed": false,
    "scrolled": false
   },
   "outputs": [],
   "source": [
    "ql.volumes = ql.volumes[:4]\n",
    "print(ql.volumes)\n",
    "\n",
    "ql.heatmap_Q(vol_intervals=10)\n",
    "ql.interpolate_vol = True\n",
    "ql.heatmap_Q(vol_intervals=10)\n",
    "ql.interpolate_vol = False\n",
    "\n",
    "agent_BatchTree['VolTime_4I'].heatmap_Q()"
   ]
  },
  {
   "cell_type": "code",
   "execution_count": null,
   "metadata": {
    "collapsed": false
   },
   "outputs": [],
   "source": [
    "ql.interpolate_vol = True\n",
    "evaluation = ql.evaluate(data_feb[:20],\n",
    "                      additional_agents={\n",
    "                          'rl_4I':agent_BatchTree['VolTime_4I'],\n",
    "                          'rl_4I_3vars':agent_BatchTree['VolTime_4I_3vars']\n",
    "                      },\n",
    "                      evaluate_actions=[0.0, 0.1, 0.2, 0.3, 0.4, 0.5, 0.6, 0.7, 0.8], verbose=False)\n",
    "display(evaluation)\n",
    "display(pd.DataFrame(evaluation.mean()).T)"
   ]
  },
  {
   "cell_type": "code",
   "execution_count": null,
   "metadata": {
    "collapsed": false
   },
   "outputs": [],
   "source": [
    "ql.interpolate_vol = False\n",
    "evaluation = ql.evaluate(data_feb[:20],\n",
    "                      additional_agents={\n",
    "                          'rl_4I':agent_BatchTree['VolTime_4I'],\n",
    "                          'rl_4I_3vars':agent_BatchTree['VolTime_4I_3vars']\n",
    "                      },\n",
    "                      evaluate_actions=[0.0, 0.1, 0.2, 0.3, 0.4, 0.5, 0.6, 0.7, 0.8], \n",
    "                      verbose=False)\n",
    "#display(evaluation)\n",
    "display(pd.DataFrame(evaluation.mean()).T)"
   ]
  },
  {
   "cell_type": "code",
   "execution_count": null,
   "metadata": {
    "collapsed": false
   },
   "outputs": [],
   "source": [
    "display((evaluation / 52.069724).mean())\n",
    "ql.plot_evaluation_costs(evaluation.iloc[10:,:], hline='0.4', showfliers=False, ylim=(0,80))"
   ]
  },
  {
   "cell_type": "code",
   "execution_count": null,
   "metadata": {
    "collapsed": false
   },
   "outputs": [],
   "source": [
    "#df2 = ql.samples\n",
    "actions = list(np.linspace(action_min, action_max, num=action_count))\n",
    "actions = [round(a, 2) for a in actions]\n",
    "print(actions)\n",
    "state_variables = ['volume', 'time'] #, 'spread', 'high24hr', 'low24hr']\n",
    "\n",
    "experiments = {\n",
    "    'VolTime_4I': ['volume', 'time'],\n",
    "    'VolTime_4I_3vars': ['volume', 'time', 'future15_disc'],\n",
    "    # 'VolTimeSpread': ['volume', 'time', 'spread_disc'],\n",
    "#    'VolTimeEMA': ['volume', 'time', 'EMA10', 'EMA60'],\n",
    "    # 'VolTimeFuturedisc': ['volume', 'time', 'future15_disc', 'future30_disc', 'future45_disc']\n",
    "    #'VolTimeFuturedisc15_20samples': ['volume', 'time', 'future15_disc']\n",
    "}\n",
    "\n",
    "#agent_BatchTree = {}\n",
    "for i, key in enumerate(experiments.keys()):\n",
    "    print(\"\\n##### Experiment {}/{}: {} #####\".format(i+1, len(experiments.keys()), key))\n",
    "    state_variables_experiment = experiments[key]\n",
    "    \n",
    "    agent_BatchTree[key] = train_BatchTree_fromSamples(\n",
    "        df=df2, V=volume, T=decision_points,\n",
    "        period_length=period_length, vol_intervals=volume_intervals,\n",
    "        actions=actions,\n",
    "        state_variables=state_variables_experiment,\n",
    "        n_estimators=100, max_depth=10\n",
    "    )\n",
    "    \n",
    "    print(\"Feature importances:\")\n",
    "    print(agent_BatchTree[key].model.feature_importances_)"
   ]
  },
  {
   "cell_type": "code",
   "execution_count": null,
   "metadata": {
    "collapsed": false,
    "scrolled": false
   },
   "outputs": [],
   "source": [
    "plot_episode(data_nov_orig[0], kind='worst')\n",
    "plot_episode(data_nov_orig[0], kind='avg')\n",
    "plot_episode(data_nov_orig[17], kind='worst')\n",
    "plot_episode(data_nov_orig[17], kind='avg')\n",
    "\n",
    "# plot_episode(data_nov_orig[17], limits=[1.003992, 1.006207, 1.009890, np.nan], intervals=4, kind='worst')\n",
    "# plot_episode(data_nov_orig[17], limits=[1.003992, 1.006207, 1.009890, np.nan], intervals=4, kind='avg')\n",
    "# plot_episode(data_nov_orig[17], limits=[1.005], intervals=4)\n",
    "# #plot_episode(data_nov[17], limits=[1.005, 1.005, 1.005, 1.005], intervals=4)"
   ]
  },
  {
   "cell_type": "code",
   "execution_count": null,
   "metadata": {
    "collapsed": false
   },
   "outputs": [],
   "source": [
    "ql17_60decisions.limit_base = 'init_center'\n",
    "ql17_60decisions.heatmap_Q()\n",
    "display(ql17_60decisions.evaluate(data_nov[17:18]))\n",
    "ql17_60decisions.limit_base = 'curr_ask'\n",
    "display(ql17_60decisions.evaluate(data_nov[17:18]))\n",
    "\n",
    "ql17.heatmap_Q()\n",
    "display(ql17.evaluate(data_nov[17:18]), limit_base='curr_ask')"
   ]
  },
  {
   "cell_type": "code",
   "execution_count": null,
   "metadata": {
    "collapsed": false
   },
   "outputs": [],
   "source": [
    "for val in ql17_spread.samples.spread.unique():\n",
    "    print(\"{:1.6f}\".format(val))"
   ]
  },
  {
   "cell_type": "code",
   "execution_count": null,
   "metadata": {
    "collapsed": false,
    "scrolled": false
   },
   "outputs": [],
   "source": [
    "agent = ql17\n",
    "display(agent.samples.shape, agent.samples.iloc[302:315,:])\n",
    "agent.heatmap_Q()\n",
    "\n",
    "agent = ql17_\n",
    "display(agent.samples.shape, agent.samples.iloc[302:315,:])\n",
    "agent.heatmap_Q(show_minima_count=True)\n",
    "\n",
    "agent = ql17_15decisions\n",
    "display(agent.samples.shape, agent.samples.iloc[302:315,:])\n",
    "agent.heatmap_Q(show_minima_count=True)\n",
    "\n",
    "agent = ql17_60decisions\n",
    "display(agent.samples.shape, agent.samples.iloc[302:315,:])\n",
    "agent.heatmap_Q(show_minima_count=True)"
   ]
  },
  {
   "cell_type": "code",
   "execution_count": null,
   "metadata": {
    "collapsed": false
   },
   "outputs": [],
   "source": [
    "eval_costs = ql.evaluate(data_nov[17:18], additional_agents={'ql17_':ql17_, 'ql17_15decisions':ql17_15decisions}, show_plot=True)\n",
    "display(eval_costs)\n",
    "display(eval_costs.mean())"
   ]
  },
  {
   "cell_type": "code",
   "execution_count": null,
   "metadata": {
    "collapsed": true
   },
   "outputs": [],
   "source": []
  },
  {
   "cell_type": "code",
   "execution_count": null,
   "metadata": {
    "collapsed": false
   },
   "outputs": [],
   "source": [
    "def load_and_preprocess_historyfiles(files):\n",
    "    hist = pd.DataFrame()\n",
    "    for file in histfiles:\n",
    "        data = pd.read_csv(file, index_col=0)\n",
    "        hist = pd.concat([hist, data])\n",
    "    hist.set_index(keys=pd.to_datetime(hist.index), inplace=True)\n",
    "\n",
    "    # remove dublicates and unneeded columns\n",
    "    hist = hist[~hist.index.duplicated(keep='first')]\n",
    "    hist.drop([\"id\", 'isFrozen'], axis=1, inplace=True)\n",
    "\n",
    "    # fill gaps with last observation\n",
    "    idx = pd.date_range(hist.index[0], hist.index[-1], freq=\"1min\")\n",
    "    hist = hist.sort_index().reindex(index=idx.sort_values(), method='ffill')\n",
    "    \n",
    "    # add more features\n",
    "    hist['spread'] = hist.lowestAsk - hist.highestBid\n",
    "\n",
    "    for lookahead in [15, 30, 45]:\n",
    "        hist[\"future{}\".format(lookahead)] = (hist['last'].shift(-lookahead) / hist['last']) - 1\n",
    "\n",
    "    return hist\n",
    "\n",
    "histfiles = [\n",
    "    \"../../../../data/history/history_2016-11_USDT_BTC.csv\",\n",
    "    # \"../../../../data/history/history_2016-12_USDT_BTC.csv\",\n",
    "    # \"../../../../data/history/history_2017-01_USDT_BTC.csv\",\n",
    "    # \"../../../../data/history/history_2017-02_USDT_BTC.csv\"\n",
    "]\n",
    "\n",
    "hist = load_and_preprocess_historyfiles(files=histfiles)\n",
    "display(hist.describe())\n",
    "display(hist.head())"
   ]
  },
  {
   "cell_type": "code",
   "execution_count": null,
   "metadata": {
    "collapsed": false
   },
   "outputs": [],
   "source": [
    "state_variables = ['volume', 'time', 'spread', 'future15', 'future30', 'future45']\n",
    "print(\"state_variables\", state_variables)\n",
    "# add features to orderbooks\n",
    "\n",
    "for window in tqdm(data_nov):\n",
    "    for ob_idx, ob in enumerate(window):\n",
    "        ob.features = {}\n",
    "        # queue.append(ob)\n",
    "        # if len(queue) == period_length:\n",
    "        #     \n",
    "        #     diffs = list(map(lambda t: queue[t].compare_with(queue[t-1]), range(1,len(queue))))\n",
    "        #     \n",
    "        #     neg = np.array([d.asks[d.asks<0].sum() for d in diffs]).sum()\n",
    "        #     pos = np.array([d.asks[d.asks>0].sum() for d in diffs]).sum()\n",
    "        #     \n",
    "        #     ob.features['act15neg'] = neg\n",
    "        #     ob.features['act15pos'] = pos\n",
    "        \n",
    "        ts = pd.to_datetime(ob.timestamp)        \n",
    "        ts_prev = pd.to_datetime(ob.timestamp) - pd.Timedelta('60Min')\n",
    "\n",
    "        market_features = hist.loc[ts_prev:ts, :]\n",
    "       \n",
    "        for lookahead in [15,30,45]:\n",
    "            ob.features[\"future{}\".format(lookahead)] = market_features['future{}'.format(lookahead)][-1]\n",
    "        \n",
    "        for var in state_variables[2:]:\n",
    "            ob.features[var] = market_features[var][-1]\n",
    "            \n",
    "print(data_nov[0][0])\n",
    "print(data_nov[10][0])"
   ]
  },
  {
   "cell_type": "code",
   "execution_count": null,
   "metadata": {
    "collapsed": true
   },
   "outputs": [],
   "source": []
  }
 ],
 "metadata": {
  "kernelspec": {
   "display_name": "Python 3",
   "language": "python",
   "name": "python3"
  },
  "language_info": {
   "codemirror_mode": {
    "name": "ipython",
    "version": 3
   },
   "file_extension": ".py",
   "mimetype": "text/x-python",
   "name": "python",
   "nbconvert_exporter": "python",
   "pygments_lexer": "ipython3",
   "version": "3.6.0"
  }
 },
 "nbformat": 4,
 "nbformat_minor": 2
}
