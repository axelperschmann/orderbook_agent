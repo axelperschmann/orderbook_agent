{
 "cells": [
  {
   "cell_type": "code",
   "execution_count": 1,
   "metadata": {
    "collapsed": false
   },
   "outputs": [],
   "source": [
    "%load_ext autoreload\n",
    "%autoreload 2\n",
    "\n",
    "from tqdm import tqdm\n",
    "import pandas as pd\n",
    "import numpy as np\n",
    "import gzip\n",
    "import json\n",
    "import math\n",
    "from datetime import datetime\n",
    "from IPython.display import display\n",
    "import matplotlib.pyplot as plt\n",
    "import matplotlib.dates as mdates\n",
    "%matplotlib inline"
   ]
  },
  {
   "cell_type": "code",
   "execution_count": 2,
   "metadata": {
    "collapsed": false
   },
   "outputs": [],
   "source": [
    "import sys\n",
    "sys.path.append('..')\n",
    "from helper.manage_orderbooks import extract_orderbooks_for_one_currencypair, load_orderbook_snapshot, plot_episode, OrderbookEpisodesGenerator\n",
    "from helper.orderbook_container import OrderbookContainer\n",
    "from helper.orderbook_trader import OrderbookTradingSimulator"
   ]
  },
  {
   "cell_type": "code",
   "execution_count": 3,
   "metadata": {
    "collapsed": false,
    "scrolled": false
   },
   "outputs": [
    {
     "name": "stdout",
     "output_type": "stream",
     "text": [
      "Length of episode_windows: 541\n",
      "60\n"
     ]
    }
   ],
   "source": [
    "filename = '/home/axel/data/small/obs_2016-11_USDT_BTC_maxVol100.dict'\n",
    "\n",
    "# data = load_orderbook_snapshot(filename, last_line=120)\n",
    "\n",
    "T = 4\n",
    "period_length = 15\n",
    "episode_windows = OrderbookEpisodesGenerator(filename=filename, episode_length=T*period_length)\n",
    "print(\"Length of episode_windows: {}\".format(len(episode_windows)))\n",
    "print(len(episode_windows[0]))"
   ]
  },
  {
   "cell_type": "code",
   "execution_count": 4,
   "metadata": {
    "collapsed": true
   },
   "outputs": [],
   "source": [
    "data = list(episode_windows[:2])\n",
    "data_cresc = list(episode_windows[17:18])"
   ]
  },
  {
   "cell_type": "code",
   "execution_count": 5,
   "metadata": {
    "collapsed": false,
    "scrolled": true
   },
   "outputs": [
    {
     "data": {
      "text/plain": [
       "OrderbookContainer from 2016-11-08T10:00 (factor: 1.0)\n",
       "  107 bids (best: 705.0)\n",
       "  110 asks (best: 705.450997)\n",
       "price: 705.2254744655137\n",
       "  kind: 'orderbook'\n",
       "  -spread: 0.4509970000000294"
      ]
     },
     "execution_count": 5,
     "metadata": {},
     "output_type": "execute_result"
    }
   ],
   "source": [
    "data[0][0]"
   ]
  },
  {
   "cell_type": "code",
   "execution_count": null,
   "metadata": {
    "collapsed": false
   },
   "outputs": [],
   "source": [
    "episode_windows[1][0]"
   ]
  },
  {
   "cell_type": "code",
   "execution_count": null,
   "metadata": {
    "collapsed": false,
    "scrolled": false
   },
   "outputs": [],
   "source": [
    "plot_episode(episode_windows[0], volume=100, intervals=4)\n",
    "plot_episode(episode_windows[1], volume=100, intervals=4)"
   ]
  },
  {
   "cell_type": "markdown",
   "metadata": {},
   "source": [
    "#### Test Orderbook plot, print and compare_with"
   ]
  },
  {
   "cell_type": "code",
   "execution_count": null,
   "metadata": {
    "collapsed": false,
    "scrolled": false
   },
   "outputs": [],
   "source": [
    "orderbook = data[0][0]\n",
    "orderbook2 = data[0][1]\n",
    "\n",
    "display(orderbook.head(2))\n",
    "orderbook.plot(range_factor=1.02)  # outfile='sample.pdf')\n",
    "print(orderbook)\n",
    "print(orderbook2)"
   ]
  },
  {
   "cell_type": "code",
   "execution_count": null,
   "metadata": {
    "collapsed": false
   },
   "outputs": [],
   "source": [
    "orderbook = data[0][0]\n",
    "orderbook2 = data[0][1]\n",
    "\n",
    "display(orderbook.head())\n",
    "display(orderbook2.head())\n",
    "\n",
    "print(\"\\nCompare two orderbooks:\")\n",
    "diff = orderbook2.compare_with(other=orderbook)\n",
    "\n",
    "display(diff.head(10))\n",
    "print(diff)"
   ]
  },
  {
   "cell_type": "markdown",
   "metadata": {},
   "source": [
    "#### Test get_current_price()"
   ]
  },
  {
   "cell_type": "code",
   "execution_count": null,
   "metadata": {
    "collapsed": false
   },
   "outputs": [],
   "source": [
    "display(orderbook.head(3))\n",
    "vol = 10\n",
    "\n",
    "for factor in [0.25, 0.5, 0.75, 1.]:\n",
    "    res = orderbook.get_current_price(vol*factor)\n",
    "    print(\"MarketOrderPrice for {} shares: {:1.4f} (worst price: {})\".format(vol*factor, res[0], res[1]))"
   ]
  },
  {
   "cell_type": "markdown",
   "metadata": {},
   "source": [
    "#### Test orderbook.head and tail"
   ]
  },
  {
   "cell_type": "code",
   "execution_count": null,
   "metadata": {
    "collapsed": false
   },
   "outputs": [],
   "source": [
    "display(orderbook.head(2))\n",
    "display(orderbook.tail(2))"
   ]
  },
  {
   "cell_type": "markdown",
   "metadata": {},
   "source": [
    "#### Test parameter limit"
   ]
  },
  {
   "cell_type": "code",
   "execution_count": null,
   "metadata": {
    "collapsed": false
   },
   "outputs": [],
   "source": [
    "len(episode_windows[0])\n",
    "from time import sleep, perf_counter as pc"
   ]
  },
  {
   "cell_type": "code",
   "execution_count": null,
   "metadata": {
    "collapsed": false
   },
   "outputs": [],
   "source": [
    "import time\n",
    "def timefunc(f):\n",
    "    def f_timer(*args, **kwargs):\n",
    "        start = time.time()\n",
    "        result = f(*args, **kwargs)\n",
    "        end = time.time()\n",
    "        print(f.__name__, 'took', end - start, 'time')\n",
    "        return result\n",
    "    return f_timer"
   ]
  },
  {
   "cell_type": "code",
   "execution_count": null,
   "metadata": {
    "collapsed": false
   },
   "outputs": [],
   "source": [
    "from functools import wraps\n",
    "from time import time\n",
    "\n",
    "def timing(f):\n",
    "    @wraps(f)\n",
    "    def wrap(*args, **kw):\n",
    "        ts = time()\n",
    "        result = f(*args, **kw)\n",
    "        te = time()\n",
    "        print('func:%r args:[%r, %r] took: %2.4f sec' % \\\n",
    "          (f.__name__, args, kw, te-ts))\n",
    "        return result\n",
    "    return wrap\n",
    "\n",
    "@timing\n",
    "def f(a):\n",
    "    for _ in range(a):\n",
    "        i = 0\n",
    "    return -1\n",
    "\n",
    "f(100)"
   ]
  },
  {
   "cell_type": "code",
   "execution_count": null,
   "metadata": {
    "collapsed": true
   },
   "outputs": [],
   "source": []
  },
  {
   "cell_type": "code",
   "execution_count": null,
   "metadata": {
    "collapsed": false
   },
   "outputs": [],
   "source": [
    "plot_episode(data[1], limits=[710, 710], volume=100, intervals=4)"
   ]
  },
  {
   "cell_type": "code",
   "execution_count": null,
   "metadata": {
    "collapsed": false
   },
   "outputs": [],
   "source": [
    "plot_episode(data_cresc[0], limits=[712], volume=69.820083702999995)\n",
    "plot_episode(data[0], limits=[707], volume=70.875702212199997)"
   ]
  },
  {
   "cell_type": "code",
   "execution_count": 21,
   "metadata": {
    "collapsed": false,
    "scrolled": false
   },
   "outputs": [
    {
     "name": "stdout",
     "output_type": "stream",
     "text": [
      "units: 70000.0\n",
      "units: 27139.54\n",
      "units: 18560.41\n",
      "units: 18560.41\n",
      "units: 0.0\n"
     ]
    },
    {
     "data": {
      "text/html": [
       "<div>\n",
       "<table border=\"1\" class=\"dataframe\">\n",
       "  <thead>\n",
       "    <tr style=\"text-align: right;\">\n",
       "      <th></th>\n",
       "      <th>ASK</th>\n",
       "      <th>BID</th>\n",
       "      <th>CASH</th>\n",
       "      <th>CENTER</th>\n",
       "      <th>LIMIT</th>\n",
       "      <th>SPREAD</th>\n",
       "      <th>T</th>\n",
       "      <th>VOLUME</th>\n",
       "      <th>avg</th>\n",
       "      <th>cash_traded</th>\n",
       "      <th>cost</th>\n",
       "      <th>extra_shares</th>\n",
       "      <th>forced</th>\n",
       "      <th>high</th>\n",
       "      <th>initial_marketShares</th>\n",
       "      <th>low</th>\n",
       "      <th>slippage</th>\n",
       "      <th>volume_traded</th>\n",
       "    </tr>\n",
       "  </thead>\n",
       "  <tbody>\n",
       "    <tr>\n",
       "      <th>2016-11-09T03:01</th>\n",
       "      <td>711.419498</td>\n",
       "      <td>709.740242</td>\n",
       "      <td>70000.00</td>\n",
       "      <td>710.579539</td>\n",
       "      <td>713.5</td>\n",
       "      <td>1.679257</td>\n",
       "      <td>15</td>\n",
       "      <td>0.000000</td>\n",
       "      <td>712.08015</td>\n",
       "      <td>-42860.46</td>\n",
       "      <td>-365.931420</td>\n",
       "      <td>0.514976</td>\n",
       "      <td>False</td>\n",
       "      <td>713.476643</td>\n",
       "      <td>97.462479</td>\n",
       "      <td>711.419497</td>\n",
       "      <td>90.322511</td>\n",
       "      <td>60.190500</td>\n",
       "    </tr>\n",
       "    <tr>\n",
       "      <th>2016-11-09T03:16</th>\n",
       "      <td>712.519499</td>\n",
       "      <td>711.855642</td>\n",
       "      <td>27139.54</td>\n",
       "      <td>712.187519</td>\n",
       "      <td>713.5</td>\n",
       "      <td>0.663858</td>\n",
       "      <td>15</td>\n",
       "      <td>-60.190500</td>\n",
       "      <td>712.90490</td>\n",
       "      <td>-8579.13</td>\n",
       "      <td>-63.342213</td>\n",
       "      <td>0.089142</td>\n",
       "      <td>False</td>\n",
       "      <td>713.415999</td>\n",
       "      <td>97.462479</td>\n",
       "      <td>712.519499</td>\n",
       "      <td>27.983497</td>\n",
       "      <td>12.034046</td>\n",
       "    </tr>\n",
       "    <tr>\n",
       "      <th>2016-11-09T03:31</th>\n",
       "      <td>713.800000</td>\n",
       "      <td>712.978158</td>\n",
       "      <td>18560.41</td>\n",
       "      <td>713.389000</td>\n",
       "      <td>713.5</td>\n",
       "      <td>0.821842</td>\n",
       "      <td>15</td>\n",
       "      <td>-72.224545</td>\n",
       "      <td>0.00000</td>\n",
       "      <td>0.00</td>\n",
       "      <td>0.000000</td>\n",
       "      <td>0.000000</td>\n",
       "      <td>False</td>\n",
       "      <td>0.000000</td>\n",
       "      <td>97.462479</td>\n",
       "      <td>inf</td>\n",
       "      <td>NaN</td>\n",
       "      <td>0.000000</td>\n",
       "    </tr>\n",
       "    <tr>\n",
       "      <th>2016-11-09T03:46</th>\n",
       "      <td>713.857091</td>\n",
       "      <td>717.769723</td>\n",
       "      <td>18560.41</td>\n",
       "      <td>715.811625</td>\n",
       "      <td>713.5</td>\n",
       "      <td>-3.912632</td>\n",
       "      <td>15</td>\n",
       "      <td>-72.224545</td>\n",
       "      <td>721.53289</td>\n",
       "      <td>-18560.41</td>\n",
       "      <td>84.181928</td>\n",
       "      <td>-0.118469</td>\n",
       "      <td>True</td>\n",
       "      <td>724.384442</td>\n",
       "      <td>97.462479</td>\n",
       "      <td>713.857091</td>\n",
       "      <td>281.759411</td>\n",
       "      <td>25.723581</td>\n",
       "    </tr>\n",
       "  </tbody>\n",
       "</table>\n",
       "</div>"
      ],
      "text/plain": [
       "                         ASK         BID      CASH      CENTER  LIMIT  \\\n",
       "2016-11-09T03:01  711.419498  709.740242  70000.00  710.579539  713.5   \n",
       "2016-11-09T03:16  712.519499  711.855642  27139.54  712.187519  713.5   \n",
       "2016-11-09T03:31  713.800000  712.978158  18560.41  713.389000  713.5   \n",
       "2016-11-09T03:46  713.857091  717.769723  18560.41  715.811625  713.5   \n",
       "\n",
       "                    SPREAD   T     VOLUME        avg  cash_traded        cost  \\\n",
       "2016-11-09T03:01  1.679257  15   0.000000  712.08015    -42860.46 -365.931420   \n",
       "2016-11-09T03:16  0.663858  15 -60.190500  712.90490     -8579.13  -63.342213   \n",
       "2016-11-09T03:31  0.821842  15 -72.224545    0.00000         0.00    0.000000   \n",
       "2016-11-09T03:46 -3.912632  15 -72.224545  721.53289    -18560.41   84.181928   \n",
       "\n",
       "                  extra_shares forced        high  initial_marketShares  \\\n",
       "2016-11-09T03:01      0.514976  False  713.476643             97.462479   \n",
       "2016-11-09T03:16      0.089142  False  713.415999             97.462479   \n",
       "2016-11-09T03:31      0.000000  False    0.000000             97.462479   \n",
       "2016-11-09T03:46     -0.118469   True  724.384442             97.462479   \n",
       "\n",
       "                         low    slippage  volume_traded  \n",
       "2016-11-09T03:01  711.419497   90.322511      60.190500  \n",
       "2016-11-09T03:16  712.519499   27.983497      12.034046  \n",
       "2016-11-09T03:31         inf         NaN       0.000000  \n",
       "2016-11-09T03:46  713.857091  281.759411      25.723581  "
      ]
     },
     "metadata": {},
     "output_type": "display_data"
    },
    {
     "data": {
      "text/plain": [
       "{'cash_traded': -70000.0,\n",
       " 'cost': -345.0917053857649,\n",
       " 'done': True,\n",
       " 'extra_shares': 0.48564824389999994,\n",
       " 'slippage': 400.06541909173262,\n",
       " 'volume_traded': 97.948126779600017}"
      ]
     },
     "metadata": {},
     "output_type": "display_data"
    }
   ],
   "source": [
    "def test_trade(data, vol, consume, limit):\n",
    "    P = 15\n",
    "    T = 4 \n",
    "    \n",
    "    ots = OrderbookTradingSimulator(orderbooks=data, volume=vol,\n",
    "                                    tradingperiods=T, consume=consume, period_length=P)\n",
    "    print(\"units:\", ots.get_units_left())\n",
    "    #init_shares = datasub[0].get_current_sharecount(cash=cash)\n",
    "    for i in range(4):\n",
    "        summary = ots.trade(limit=limit)\n",
    "        print(\"units:\", ots.get_units_left())\n",
    "    \n",
    "    display(ots.history)\n",
    "    display(summary)\n",
    "    #print(init_shares, init_shares-summary['traded'])\n",
    "\n",
    "    return ots.history\n",
    "\n",
    "# test = test_trade(data=data_cresc[0], vol=100, consume='volume', limit=712)\n",
    "test = test_trade(data=data_cresc[0], vol=70000., consume='cash', limit=713.5)\n",
    "#test_trade(data=data_cresc[0], vol=100, cash=0, consume='volume')"
   ]
  },
  {
   "cell_type": "code",
   "execution_count": null,
   "metadata": {
    "collapsed": false
   },
   "outputs": [],
   "source": [
    "test = test_trade(data=data_cresc[0], vol=71904.78, consume='cash', limit=712)"
   ]
  },
  {
   "cell_type": "code",
   "execution_count": null,
   "metadata": {
    "collapsed": false,
    "scrolled": false
   },
   "outputs": [],
   "source": [
    "data[1][0].get_current_sharecount(cash=50000)"
   ]
  },
  {
   "cell_type": "code",
   "execution_count": null,
   "metadata": {
    "collapsed": false
   },
   "outputs": [],
   "source": [
    "print(hist[['ASK', 'BID', 'CENTER', 'LIMIT', 'VOLUME', 'avg', 'cost', 'forced', 'high', 'volume_traded']].to_latex(float_format=\"%.3f\"))"
   ]
  },
  {
   "cell_type": "code",
   "execution_count": null,
   "metadata": {
    "collapsed": false,
    "scrolled": false
   },
   "outputs": [],
   "source": [
    "P = 2\n",
    "vol=100\n",
    "T = 4\n",
    "ots = OrderbookTradingSimulator(orderbooks=episode_windows[0][:T*P], volume=vol, tradingperiods=T,\n",
    "                                period_length=P)\n",
    "\n",
    "for e in tqdm(range(T)):\n",
    "    summary = ots.trade(limit=706, verbose=True)\n",
    "\n",
    "display(ots.history)\n",
    "display(summary)\n"
   ]
  },
  {
   "cell_type": "markdown",
   "metadata": {},
   "source": [
    "#### Test parameter aggression_factor"
   ]
  },
  {
   "cell_type": "code",
   "execution_count": null,
   "metadata": {
    "collapsed": false
   },
   "outputs": [],
   "source": [
    "P = 2\n",
    "vol=100\n",
    "T = 4\n",
    "ots = OrderbookTradingSimulator(orderbooks=episode_windows[0][:T*P], volume=vol, tradingperiods=T,\n",
    "                                period_length=P)\n",
    "\n",
    "for e in tqdm(range(T)):\n",
    "    action=0.9\n",
    "    summary = ots.trade(agression_factor=action, verbose=True, extrainfo={'ACTION':action})\n",
    "display(ots.history)"
   ]
  },
  {
   "cell_type": "code",
   "execution_count": null,
   "metadata": {
    "collapsed": true
   },
   "outputs": [],
   "source": []
  }
 ],
 "metadata": {
  "kernelspec": {
   "display_name": "Python 3",
   "language": "python",
   "name": "python3"
  },
  "language_info": {
   "codemirror_mode": {
    "name": "ipython",
    "version": 3
   },
   "file_extension": ".py",
   "mimetype": "text/x-python",
   "name": "python",
   "nbconvert_exporter": "python",
   "pygments_lexer": "ipython3",
   "version": "3.6.0"
  }
 },
 "nbformat": 4,
 "nbformat_minor": 0
}
