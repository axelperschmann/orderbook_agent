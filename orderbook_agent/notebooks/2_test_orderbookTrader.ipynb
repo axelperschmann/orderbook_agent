{
 "cells": [
  {
   "cell_type": "code",
   "execution_count": 1,
   "metadata": {
    "collapsed": false
   },
   "outputs": [],
   "source": [
    "%load_ext autoreload\n",
    "%autoreload 2\n",
    "\n",
    "from tqdm import tqdm\n",
    "import pandas as pd\n",
    "import numpy as np\n",
    "import gzip\n",
    "import json\n",
    "import math\n",
    "from datetime import datetime\n",
    "from IPython.display import display\n",
    "import matplotlib.pyplot as plt\n",
    "import matplotlib.dates as mdates\n",
    "%matplotlib inline"
   ]
  },
  {
   "cell_type": "code",
   "execution_count": 2,
   "metadata": {
    "collapsed": false
   },
   "outputs": [],
   "source": [
    "import sys\n",
    "sys.path.append('..')\n",
    "from helper.manage_orderbooks import extract_orderbooks_for_one_currencypair, load_orderbook_snapshot, plot_episode, OrderbookEpisodesGenerator\n",
    "from helper.orderbook_container import OrderbookContainer\n",
    "from helper.orderbook_trader import OrderbookTradingSimulator"
   ]
  },
  {
   "cell_type": "code",
   "execution_count": 3,
   "metadata": {
    "collapsed": false,
    "scrolled": false
   },
   "outputs": [
    {
     "name": "stdout",
     "output_type": "stream",
     "text": [
      "Length of episode_windows: 541\n",
      "60\n"
     ]
    }
   ],
   "source": [
    "filename = '/home/axel/data/small/obs_2016-11_USDT_BTC_maxVol100.dict'\n",
    "\n",
    "# data = load_orderbook_snapshot(filename, last_line=120)\n",
    "\n",
    "T = 4\n",
    "period_length = 15\n",
    "episode_windows = OrderbookEpisodesGenerator(filename=filename, episode_length=T*period_length)\n",
    "print(\"Length of episode_windows: {}\".format(len(episode_windows)))\n",
    "print(len(episode_windows[0]))"
   ]
  },
  {
   "cell_type": "code",
   "execution_count": 4,
   "metadata": {
    "collapsed": true
   },
   "outputs": [],
   "source": [
    "data = list(episode_windows[:2])\n",
    "data_cresc = list(episode_windows[17:18])"
   ]
  },
  {
   "cell_type": "code",
   "execution_count": 5,
   "metadata": {
    "collapsed": false,
    "scrolled": true
   },
   "outputs": [
    {
     "data": {
      "text/plain": [
       "OrderbookContainer from 2016-11-08T10:00 (factor: 1.0)\n",
       "  107 bids (best: 705.0)\n",
       "  110 asks (best: 705.450997)\n",
       "price: 705.2254744655137\n",
       "  kind: 'orderbook'"
      ]
     },
     "execution_count": 5,
     "metadata": {},
     "output_type": "execute_result"
    }
   ],
   "source": [
    "data[0][0]"
   ]
  },
  {
   "cell_type": "code",
   "execution_count": null,
   "metadata": {
    "collapsed": false
   },
   "outputs": [],
   "source": [
    "episode_windows[1][0]"
   ]
  },
  {
   "cell_type": "code",
   "execution_count": null,
   "metadata": {
    "collapsed": false,
    "scrolled": false
   },
   "outputs": [],
   "source": [
    "plot_episode(episode_windows[0], volume=100, intervals=4)\n",
    "plot_episode(episode_windows[1], volume=100, intervals=4)"
   ]
  },
  {
   "cell_type": "markdown",
   "metadata": {},
   "source": [
    "#### Test Orderbook plot, print and compare_with"
   ]
  },
  {
   "cell_type": "code",
   "execution_count": null,
   "metadata": {
    "collapsed": false,
    "scrolled": false
   },
   "outputs": [],
   "source": [
    "orderbook = data[0][0]\n",
    "orderbook2 = data[0][1]\n",
    "\n",
    "display(orderbook.head(2))\n",
    "orderbook.plot(range_factor=1.02)  # outfile='sample.pdf')\n",
    "print(orderbook)\n",
    "print(orderbook2)"
   ]
  },
  {
   "cell_type": "code",
   "execution_count": null,
   "metadata": {
    "collapsed": false
   },
   "outputs": [],
   "source": [
    "orderbook = data[0][0]\n",
    "orderbook2 = data[0][1]\n",
    "\n",
    "display(orderbook.head())\n",
    "display(orderbook2.head())\n",
    "\n",
    "print(\"\\nCompare two orderbooks:\")\n",
    "diff = orderbook2.compare_with(other=orderbook)\n",
    "\n",
    "display(diff.head(10))\n",
    "print(diff)"
   ]
  },
  {
   "cell_type": "markdown",
   "metadata": {},
   "source": [
    "#### Test get_current_price()"
   ]
  },
  {
   "cell_type": "code",
   "execution_count": null,
   "metadata": {
    "collapsed": false
   },
   "outputs": [],
   "source": [
    "display(orderbook.head(3))\n",
    "vol = 10\n",
    "\n",
    "for factor in [0.25, 0.5, 0.75, 1.]:\n",
    "    res = orderbook.get_current_price(vol*factor)\n",
    "    print(\"MarketOrderPrice for {} shares: {:1.4f} (worst price: {})\".format(vol*factor, res[0], res[1]))"
   ]
  },
  {
   "cell_type": "markdown",
   "metadata": {},
   "source": [
    "#### Test orderbook.head and tail"
   ]
  },
  {
   "cell_type": "code",
   "execution_count": null,
   "metadata": {
    "collapsed": false
   },
   "outputs": [],
   "source": [
    "display(orderbook.head(2))\n",
    "display(orderbook.tail(2))"
   ]
  },
  {
   "cell_type": "markdown",
   "metadata": {},
   "source": [
    "#### Test parameter limit"
   ]
  },
  {
   "cell_type": "code",
   "execution_count": null,
   "metadata": {
    "collapsed": false
   },
   "outputs": [],
   "source": [
    "len(episode_windows[0])\n",
    "from time import sleep, perf_counter as pc"
   ]
  },
  {
   "cell_type": "code",
   "execution_count": null,
   "metadata": {
    "collapsed": false
   },
   "outputs": [],
   "source": [
    "import time\n",
    "def timefunc(f):\n",
    "    def f_timer(*args, **kwargs):\n",
    "        start = time.time()\n",
    "        result = f(*args, **kwargs)\n",
    "        end = time.time()\n",
    "        print(f.__name__, 'took', end - start, 'time')\n",
    "        return result\n",
    "    return f_timer"
   ]
  },
  {
   "cell_type": "code",
   "execution_count": null,
   "metadata": {
    "collapsed": false
   },
   "outputs": [],
   "source": [
    "from functools import wraps\n",
    "from time import time\n",
    "\n",
    "def timing(f):\n",
    "    @wraps(f)\n",
    "    def wrap(*args, **kw):\n",
    "        ts = time()\n",
    "        result = f(*args, **kw)\n",
    "        te = time()\n",
    "        print('func:%r args:[%r, %r] took: %2.4f sec' % \\\n",
    "          (f.__name__, args, kw, te-ts))\n",
    "        return result\n",
    "    return wrap\n",
    "\n",
    "@timing\n",
    "def f(a):\n",
    "    for _ in range(a):\n",
    "        i = 0\n",
    "    return -1\n",
    "\n",
    "f(100)"
   ]
  },
  {
   "cell_type": "code",
   "execution_count": null,
   "metadata": {
    "collapsed": true
   },
   "outputs": [],
   "source": []
  },
  {
   "cell_type": "code",
   "execution_count": null,
   "metadata": {
    "collapsed": false
   },
   "outputs": [],
   "source": [
    "plot_episode(data[1], limits=[710, 710], volume=100, intervals=4)"
   ]
  },
  {
   "cell_type": "code",
   "execution_count": null,
   "metadata": {
    "collapsed": false
   },
   "outputs": [],
   "source": [
    "plot_episode(data_cresc[0], limits=[712], volume=69.820083702999995)\n",
    "plot_episode(data[0], limits=[707], volume=70.875702212199997)"
   ]
  },
  {
   "cell_type": "code",
   "execution_count": 33,
   "metadata": {
    "collapsed": false,
    "scrolled": false
   },
   "outputs": [
    {
     "name": "stdout",
     "output_type": "stream",
     "text": [
      "units: 71904.78\n",
      "units: 44158.05\n",
      "units: 44158.05\n",
      "units: 44158.05\n",
      "units: 0.0\n"
     ]
    },
    {
     "data": {
      "text/html": [
       "<div>\n",
       "<table border=\"1\" class=\"dataframe\">\n",
       "  <thead>\n",
       "    <tr style=\"text-align: right;\">\n",
       "      <th></th>\n",
       "      <th>ASK</th>\n",
       "      <th>BID</th>\n",
       "      <th>CASH</th>\n",
       "      <th>CENTER</th>\n",
       "      <th>LIMIT</th>\n",
       "      <th>SPREAD</th>\n",
       "      <th>T</th>\n",
       "      <th>VOLUME</th>\n",
       "      <th>avg</th>\n",
       "      <th>cash_traded</th>\n",
       "      <th>cost</th>\n",
       "      <th>forced</th>\n",
       "      <th>high</th>\n",
       "      <th>low</th>\n",
       "      <th>volume_traded</th>\n",
       "      <th>initial_marketShares</th>\n",
       "      <th>extra_shares</th>\n",
       "    </tr>\n",
       "  </thead>\n",
       "  <tbody>\n",
       "    <tr>\n",
       "      <th>2016-11-09T03:01</th>\n",
       "      <td>711.419498</td>\n",
       "      <td>709.740242</td>\n",
       "      <td>71904.78</td>\n",
       "      <td>710.579539</td>\n",
       "      <td>712</td>\n",
       "      <td>1.679257</td>\n",
       "      <td>15</td>\n",
       "      <td>0.000000</td>\n",
       "      <td>711.42127</td>\n",
       "      <td>-27746.73</td>\n",
       "      <td>-270.655716</td>\n",
       "      <td>False</td>\n",
       "      <td>711.566564</td>\n",
       "      <td>711.419497</td>\n",
       "      <td>39.001828</td>\n",
       "      <td>100.086106</td>\n",
       "      <td>0.380444</td>\n",
       "    </tr>\n",
       "    <tr>\n",
       "      <th>2016-11-09T03:16</th>\n",
       "      <td>712.519499</td>\n",
       "      <td>711.855642</td>\n",
       "      <td>44158.05</td>\n",
       "      <td>712.187519</td>\n",
       "      <td>712</td>\n",
       "      <td>0.663858</td>\n",
       "      <td>15</td>\n",
       "      <td>-39.001828</td>\n",
       "      <td>0.00000</td>\n",
       "      <td>0.00</td>\n",
       "      <td>0.000000</td>\n",
       "      <td>False</td>\n",
       "      <td>0.000000</td>\n",
       "      <td>inf</td>\n",
       "      <td>0.000000</td>\n",
       "      <td>100.086106</td>\n",
       "      <td>0.000000</td>\n",
       "    </tr>\n",
       "    <tr>\n",
       "      <th>2016-11-09T03:31</th>\n",
       "      <td>713.000000</td>\n",
       "      <td>712.978158</td>\n",
       "      <td>44158.05</td>\n",
       "      <td>712.989079</td>\n",
       "      <td>712</td>\n",
       "      <td>0.021842</td>\n",
       "      <td>15</td>\n",
       "      <td>-39.001828</td>\n",
       "      <td>0.00000</td>\n",
       "      <td>0.00</td>\n",
       "      <td>0.000000</td>\n",
       "      <td>False</td>\n",
       "      <td>0.000000</td>\n",
       "      <td>inf</td>\n",
       "      <td>0.000000</td>\n",
       "      <td>100.086106</td>\n",
       "      <td>0.000000</td>\n",
       "    </tr>\n",
       "    <tr>\n",
       "      <th>2016-11-09T03:46</th>\n",
       "      <td>713.476643</td>\n",
       "      <td>717.769723</td>\n",
       "      <td>44158.05</td>\n",
       "      <td>715.621037</td>\n",
       "      <td>712</td>\n",
       "      <td>-4.293081</td>\n",
       "      <td>15</td>\n",
       "      <td>-39.001828</td>\n",
       "      <td>723.92415</td>\n",
       "      <td>-44158.05</td>\n",
       "      <td>337.746317</td>\n",
       "      <td>True</td>\n",
       "      <td>727.643420</td>\n",
       "      <td>713.476643</td>\n",
       "      <td>60.998172</td>\n",
       "      <td>100.086106</td>\n",
       "      <td>-0.466549</td>\n",
       "    </tr>\n",
       "  </tbody>\n",
       "</table>\n",
       "</div>"
      ],
      "text/plain": [
       "                         ASK         BID      CASH      CENTER  LIMIT  \\\n",
       "2016-11-09T03:01  711.419498  709.740242  71904.78  710.579539    712   \n",
       "2016-11-09T03:16  712.519499  711.855642  44158.05  712.187519    712   \n",
       "2016-11-09T03:31  713.000000  712.978158  44158.05  712.989079    712   \n",
       "2016-11-09T03:46  713.476643  717.769723  44158.05  715.621037    712   \n",
       "\n",
       "                    SPREAD   T     VOLUME        avg  cash_traded        cost  \\\n",
       "2016-11-09T03:01  1.679257  15   0.000000  711.42127    -27746.73 -270.655716   \n",
       "2016-11-09T03:16  0.663858  15 -39.001828    0.00000         0.00    0.000000   \n",
       "2016-11-09T03:31  0.021842  15 -39.001828    0.00000         0.00    0.000000   \n",
       "2016-11-09T03:46 -4.293081  15 -39.001828  723.92415    -44158.05  337.746317   \n",
       "\n",
       "                 forced        high         low  volume_traded  \\\n",
       "2016-11-09T03:01  False  711.566564  711.419497      39.001828   \n",
       "2016-11-09T03:16  False    0.000000         inf       0.000000   \n",
       "2016-11-09T03:31  False    0.000000         inf       0.000000   \n",
       "2016-11-09T03:46   True  727.643420  713.476643      60.998172   \n",
       "\n",
       "                  initial_marketShares  extra_shares  \n",
       "2016-11-09T03:01            100.086106      0.380444  \n",
       "2016-11-09T03:16            100.086106      0.000000  \n",
       "2016-11-09T03:31            100.086106      0.000000  \n",
       "2016-11-09T03:46            100.086106     -0.466549  "
      ]
     },
     "metadata": {},
     "output_type": "display_data"
    },
    {
     "data": {
      "text/plain": [
       "{'cash_traded': -71904.779999999999,\n",
       " 'cost': 67.090601207633142,\n",
       " 'done': True,\n",
       " 'extra_shares': -0.086105650300000003,\n",
       " 'volume_traded': 100.00000026160001}"
      ]
     },
     "metadata": {},
     "output_type": "display_data"
    }
   ],
   "source": [
    "def test_trade(data, vol, consume, limit):\n",
    "    P = 15\n",
    "    T = 4 \n",
    "    \n",
    "    ots = OrderbookTradingSimulator(orderbooks=data, volume=vol,\n",
    "                                    tradingperiods=T, consume=consume, period_length=P)\n",
    "    print(\"units:\", ots.get_units_left())\n",
    "    #init_shares = datasub[0].get_current_sharecount(cash=cash)\n",
    "    for i in range(4):\n",
    "        summary = ots.trade(limit=limit)\n",
    "        print(\"units:\", ots.get_units_left())\n",
    "    \n",
    "    display(ots.history)\n",
    "    display(summary)\n",
    "    #print(init_shares, init_shares-summary['traded'])\n",
    "\n",
    "    return ots.history\n",
    "\n",
    "# test = test_trade(data=data_cresc[0], vol=100, consume='volume', limit=712)\n",
    "test = test_trade(data=data_cresc[0], vol=71904.78, consume='cash', limit=712)\n",
    "#test_trade(data=data_cresc[0], vol=100, cash=0, consume='volume')"
   ]
  },
  {
   "cell_type": "code",
   "execution_count": 34,
   "metadata": {
    "collapsed": false
   },
   "outputs": [
    {
     "name": "stdout",
     "output_type": "stream",
     "text": [
      "units: 71904.78\n",
      "units: 44158.05\n",
      "units: 44158.05\n",
      "units: 44158.05\n",
      "units: 0.0\n"
     ]
    },
    {
     "data": {
      "text/html": [
       "<div>\n",
       "<table border=\"1\" class=\"dataframe\">\n",
       "  <thead>\n",
       "    <tr style=\"text-align: right;\">\n",
       "      <th></th>\n",
       "      <th>ASK</th>\n",
       "      <th>BID</th>\n",
       "      <th>CASH</th>\n",
       "      <th>CENTER</th>\n",
       "      <th>LIMIT</th>\n",
       "      <th>SPREAD</th>\n",
       "      <th>T</th>\n",
       "      <th>VOLUME</th>\n",
       "      <th>avg</th>\n",
       "      <th>cash_traded</th>\n",
       "      <th>cost</th>\n",
       "      <th>forced</th>\n",
       "      <th>high</th>\n",
       "      <th>low</th>\n",
       "      <th>volume_traded</th>\n",
       "      <th>initial_marketShares</th>\n",
       "      <th>extra_shares</th>\n",
       "    </tr>\n",
       "  </thead>\n",
       "  <tbody>\n",
       "    <tr>\n",
       "      <th>2016-11-09T03:01</th>\n",
       "      <td>711.419498</td>\n",
       "      <td>709.740242</td>\n",
       "      <td>71904.78</td>\n",
       "      <td>710.579539</td>\n",
       "      <td>712</td>\n",
       "      <td>1.679257</td>\n",
       "      <td>15</td>\n",
       "      <td>0.000000</td>\n",
       "      <td>711.42127</td>\n",
       "      <td>-27746.73</td>\n",
       "      <td>-270.335485</td>\n",
       "      <td>False</td>\n",
       "      <td>711.566564</td>\n",
       "      <td>711.419497</td>\n",
       "      <td>39.001828</td>\n",
       "      <td>100.086106</td>\n",
       "      <td>0.380444</td>\n",
       "    </tr>\n",
       "    <tr>\n",
       "      <th>2016-11-09T03:16</th>\n",
       "      <td>712.519499</td>\n",
       "      <td>711.855642</td>\n",
       "      <td>44158.05</td>\n",
       "      <td>712.187519</td>\n",
       "      <td>712</td>\n",
       "      <td>0.663858</td>\n",
       "      <td>15</td>\n",
       "      <td>-39.001828</td>\n",
       "      <td>0.00000</td>\n",
       "      <td>0.00</td>\n",
       "      <td>0.000000</td>\n",
       "      <td>False</td>\n",
       "      <td>0.000000</td>\n",
       "      <td>inf</td>\n",
       "      <td>0.000000</td>\n",
       "      <td>100.086106</td>\n",
       "      <td>0.000000</td>\n",
       "    </tr>\n",
       "    <tr>\n",
       "      <th>2016-11-09T03:31</th>\n",
       "      <td>713.000000</td>\n",
       "      <td>712.978158</td>\n",
       "      <td>44158.05</td>\n",
       "      <td>712.989079</td>\n",
       "      <td>712</td>\n",
       "      <td>0.021842</td>\n",
       "      <td>15</td>\n",
       "      <td>-39.001828</td>\n",
       "      <td>0.00000</td>\n",
       "      <td>0.00</td>\n",
       "      <td>0.000000</td>\n",
       "      <td>False</td>\n",
       "      <td>0.000000</td>\n",
       "      <td>inf</td>\n",
       "      <td>0.000000</td>\n",
       "      <td>100.086106</td>\n",
       "      <td>0.000000</td>\n",
       "    </tr>\n",
       "    <tr>\n",
       "      <th>2016-11-09T03:46</th>\n",
       "      <td>713.476643</td>\n",
       "      <td>717.769723</td>\n",
       "      <td>44158.05</td>\n",
       "      <td>715.621037</td>\n",
       "      <td>712</td>\n",
       "      <td>-4.293081</td>\n",
       "      <td>15</td>\n",
       "      <td>-39.001828</td>\n",
       "      <td>723.92415</td>\n",
       "      <td>-44158.05</td>\n",
       "      <td>331.520398</td>\n",
       "      <td>True</td>\n",
       "      <td>727.643420</td>\n",
       "      <td>713.476643</td>\n",
       "      <td>60.998172</td>\n",
       "      <td>100.086106</td>\n",
       "      <td>-0.466549</td>\n",
       "    </tr>\n",
       "  </tbody>\n",
       "</table>\n",
       "</div>"
      ],
      "text/plain": [
       "                         ASK         BID      CASH      CENTER  LIMIT  \\\n",
       "2016-11-09T03:01  711.419498  709.740242  71904.78  710.579539    712   \n",
       "2016-11-09T03:16  712.519499  711.855642  44158.05  712.187519    712   \n",
       "2016-11-09T03:31  713.000000  712.978158  44158.05  712.989079    712   \n",
       "2016-11-09T03:46  713.476643  717.769723  44158.05  715.621037    712   \n",
       "\n",
       "                    SPREAD   T     VOLUME        avg  cash_traded        cost  \\\n",
       "2016-11-09T03:01  1.679257  15   0.000000  711.42127    -27746.73 -270.335485   \n",
       "2016-11-09T03:16  0.663858  15 -39.001828    0.00000         0.00    0.000000   \n",
       "2016-11-09T03:31  0.021842  15 -39.001828    0.00000         0.00    0.000000   \n",
       "2016-11-09T03:46 -4.293081  15 -39.001828  723.92415    -44158.05  331.520398   \n",
       "\n",
       "                 forced        high         low  volume_traded  \\\n",
       "2016-11-09T03:01  False  711.566564  711.419497      39.001828   \n",
       "2016-11-09T03:16  False    0.000000         inf       0.000000   \n",
       "2016-11-09T03:31  False    0.000000         inf       0.000000   \n",
       "2016-11-09T03:46   True  727.643420  713.476643      60.998172   \n",
       "\n",
       "                  initial_marketShares  extra_shares  \n",
       "2016-11-09T03:01            100.086106      0.380444  \n",
       "2016-11-09T03:16            100.086106      0.000000  \n",
       "2016-11-09T03:31            100.086106      0.000000  \n",
       "2016-11-09T03:46            100.086106     -0.466549  "
      ]
     },
     "metadata": {},
     "output_type": "display_data"
    },
    {
     "data": {
      "text/plain": [
       "{'cash_traded': -71904.779999999999,\n",
       " 'cost': 61.184913316593395,\n",
       " 'done': True,\n",
       " 'extra_shares': -0.086105650300000003,\n",
       " 'volume_traded': 100.00000026160001}"
      ]
     },
     "metadata": {},
     "output_type": "display_data"
    }
   ],
   "source": [
    "test = test_trade(data=data_cresc[0], vol=71904.78, consume='cash', limit=712)"
   ]
  },
  {
   "cell_type": "code",
   "execution_count": null,
   "metadata": {
    "collapsed": false,
    "scrolled": false
   },
   "outputs": [],
   "source": [
    "data[1][0].get_current_sharecount(cash=50000)"
   ]
  },
  {
   "cell_type": "code",
   "execution_count": null,
   "metadata": {
    "collapsed": false
   },
   "outputs": [],
   "source": [
    "print(hist[['ASK', 'BID', 'CENTER', 'LIMIT', 'VOLUME', 'avg', 'cost', 'forced', 'high', 'volume_traded']].to_latex(float_format=\"%.3f\"))"
   ]
  },
  {
   "cell_type": "code",
   "execution_count": null,
   "metadata": {
    "collapsed": false,
    "scrolled": false
   },
   "outputs": [],
   "source": [
    "P = 2\n",
    "vol=100\n",
    "T = 4\n",
    "ots = OrderbookTradingSimulator(orderbooks=episode_windows[0][:T*P], volume=vol, tradingperiods=T,\n",
    "                                period_length=P)\n",
    "\n",
    "for e in tqdm(range(T)):\n",
    "    summary = ots.trade(limit=706, verbose=True)\n",
    "\n",
    "display(ots.history)\n",
    "display(summary)\n"
   ]
  },
  {
   "cell_type": "markdown",
   "metadata": {},
   "source": [
    "#### Test parameter aggression_factor"
   ]
  },
  {
   "cell_type": "code",
   "execution_count": null,
   "metadata": {
    "collapsed": false
   },
   "outputs": [],
   "source": [
    "P = 2\n",
    "vol=100\n",
    "T = 4\n",
    "ots = OrderbookTradingSimulator(orderbooks=episode_windows[0][:T*P], volume=vol, tradingperiods=T,\n",
    "                                period_length=P)\n",
    "\n",
    "for e in tqdm(range(T)):\n",
    "    action=0.9\n",
    "    summary = ots.trade(agression_factor=action, verbose=True, extrainfo={'ACTION':action})\n",
    "display(ots.history)"
   ]
  },
  {
   "cell_type": "code",
   "execution_count": null,
   "metadata": {
    "collapsed": true
   },
   "outputs": [],
   "source": []
  }
 ],
 "metadata": {
  "kernelspec": {
   "display_name": "Python 3",
   "language": "python",
   "name": "python3"
  },
  "language_info": {
   "codemirror_mode": {
    "name": "ipython",
    "version": 3
   },
   "file_extension": ".py",
   "mimetype": "text/x-python",
   "name": "python",
   "nbconvert_exporter": "python",
   "pygments_lexer": "ipython3",
   "version": "3.6.0"
  }
 },
 "nbformat": 4,
 "nbformat_minor": 0
}
