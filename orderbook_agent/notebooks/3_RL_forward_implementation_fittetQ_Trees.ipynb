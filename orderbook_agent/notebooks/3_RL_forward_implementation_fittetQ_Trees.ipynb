{
 "cells": [
  {
   "cell_type": "code",
   "execution_count": 1,
   "metadata": {
    "collapsed": false
   },
   "outputs": [],
   "source": [
    "%load_ext autoreload\n",
    "%autoreload 2\n",
    "\n",
    "from joblib import Parallel, delayed\n",
    "import multiprocessing\n",
    "\n",
    "from tqdm import tqdm, tqdm_notebook\n",
    "import pandas as pd\n",
    "import numpy as np\n",
    "import gzip\n",
    "import json\n",
    "import math\n",
    "from datetime import datetime\n",
    "import seaborn as sns\n",
    "import matplotlib.dates as mdates\n",
    "from mpl_toolkits.mplot3d import Axes3D\n",
    "from IPython.display import display\n",
    "%matplotlib inline\n",
    "import pickle\n",
    "\n",
    "import sys\n",
    "sys.path.append('..')\n",
    "from helper.rl_framework import *\n",
    "from helper.orderbook_container import OrderbookContainer\n",
    "from helper.manage_orderbooks import *\n",
    "from helper.orderbook_trader import *\n",
    "from helper.evaluation import evaluate, plot_evaluation_costs\n",
    "from helper.general_helpers import add_features_to_orderbooks, load_and_preprocess_historyfiles\n",
    "\n",
    "from agents.BatchTree_Agent import RLAgent_BatchTree\n",
    "from agents.QTable_Agent import QTable_Agent\n",
    "from Runs.train_agents import trainer_BatchTree, trainer_QTable\n",
    "# from Runs.train_fromSamples import train_BatchTree_fromSamples, train_Qtable_fromSamples"
   ]
  },
  {
   "cell_type": "markdown",
   "metadata": {},
   "source": [
    "### Preprocess Data"
   ]
  },
  {
   "cell_type": "code",
   "execution_count": 2,
   "metadata": {
    "collapsed": false
   },
   "outputs": [],
   "source": [
    "histfiles = [\n",
    "    \"../../../../data/history/history_2016-11_USDT_BTC.csv\",\n",
    "    \"../../../../data/history/history_2016-12_USDT_BTC.csv\",\n",
    "    \"../../../../data/history/history_2017-01_USDT_BTC.csv\",\n",
    "    \"../../../../data/history/history_2017-02_USDT_BTC.csv\",\n",
    "]\n",
    "\n",
    "hist = load_and_preprocess_historyfiles(histfiles)\n",
    "\n",
    "hist['future15_disc'] = pd.cut(hist.future15, bins=[-np.inf, -0.005, -0.001, 0.001, 0.005, np.inf], labels=False)\n",
    "hist['future30_disc'] = pd.cut(hist.future30, bins=[-np.inf, -0.005, -0.001, 0.001, 0.005, np.inf], labels=False)\n",
    "hist['future45_disc'] = pd.cut(hist.future45, bins=[-np.inf, -0.005, -0.001, 0.001, 0.005, np.inf], labels=False)\n",
    "hist['spread_disc'] = pd.cut(hist.spread, bins=[0, 1, 2, np.inf], labels=False)\n",
    "# display(hist.iloc[1021:1025,:])"
   ]
  },
  {
   "cell_type": "code",
   "execution_count": 3,
   "metadata": {
    "collapsed": false
   },
   "outputs": [
    {
     "name": "stdout",
     "output_type": "stream",
     "text": [
      "2016-11-08T10:00\n",
      "20\n"
     ]
    },
    {
     "name": "stderr",
     "output_type": "stream",
     "text": [
      "[Parallel(n_jobs=24)]: Done   3 out of  20 | elapsed:    0.9s remaining:    4.9s\n",
      "[Parallel(n_jobs=24)]: Done   6 out of  20 | elapsed:    1.5s remaining:    3.6s\n",
      "[Parallel(n_jobs=24)]: Done   9 out of  20 | elapsed:    2.1s remaining:    2.5s\n",
      "[Parallel(n_jobs=24)]: Done  12 out of  20 | elapsed:    2.5s remaining:    1.7s\n",
      "[Parallel(n_jobs=24)]: Done  15 out of  20 | elapsed:    3.1s remaining:    1.0s\n",
      "[Parallel(n_jobs=24)]: Done  18 out of  20 | elapsed:    3.6s remaining:    0.4s\n"
     ]
    },
    {
     "name": "stdout",
     "output_type": "stream",
     "text": [
      "OrderbookContainer from 2016-11-08T10:00 (factor: 1)\n",
      "  107 bids (best: 705.0)\n",
      "  110 asks (best: 705.450997)\n",
      "price: 705.2254744655137\n",
      "  kind: 'orderbook'\n",
      "  -spread: 0.4509970000000294\n",
      "  -future15: -3.246150348523713e-08\n",
      "  -future15_disc: 2.0\n",
      "  -future30: -0.0006393032568402512\n",
      "  -future30_disc: 2.0\n",
      "  -future45: -0.0025756666407984463\n",
      "  -future45_disc: 1.0\n",
      "  -spread_disc: 0\n",
      "  -direction: 0.0\n",
      "  -direction_float: 1.000147010565701\n",
      "OrderbookContainer from 2016-11-09T03:01 (factor: 1)\n",
      "  108 bids (best: 709.7402417)\n",
      "  153 asks (best: 711.4194982)\n",
      "price: 710.5795392453285\n",
      "  kind: 'orderbook'\n",
      "  -spread: 1.679256500000065\n",
      "  -future15: 0.0023660177939859306\n",
      "  -future15_disc: 3.0\n",
      "  -future30: 0.004592889793137767\n",
      "  -future30_disc: 3.0\n",
      "  -future45: 0.013398928448407288\n",
      "  -future45_disc: 4.0\n",
      "  -spread_disc: 1\n",
      "  -direction: 2.0\n",
      "  -direction_float: 1.010794206633247\n",
      "OrderbookContainer from 2016-11-09T04:01 (factor: 1)\n",
      "  90 bids (best: 717.1623583)\n",
      "  111 asks (best: 718.7800273)\n",
      "price: 717.9708890676377\n",
      "  kind: 'orderbook'\n",
      "  -spread: 1.617668999999978\n",
      "  -future15: 0.008093523928335067\n",
      "  -future15_disc: 4.0\n",
      "  -future30: 0.014347395571110866\n",
      "  -future30_disc: 4.0\n",
      "  -future45: 0.018134851032695964\n",
      "  -future45_disc: 4.0\n",
      "  -spread_disc: 1\n",
      "  -direction: 2.0\n",
      "  -direction_float: 1.0157027112296653\n"
     ]
    },
    {
     "name": "stderr",
     "output_type": "stream",
     "text": [
      "[Parallel(n_jobs=24)]: Done  20 out of  20 | elapsed:    4.0s finished\n"
     ]
    }
   ],
   "source": [
    "# cached_episodes = list(episodes_train[:20])\n",
    "# pickle.dump( cached_episodes, open( \"cached_episodes.p\", \"wb\" ) )\n",
    "data = pickle.load( open( \"cached_windows/tradingwindows_1611_USTD_BTC_20.p\", \"rb\" ) )\n",
    "print(data[0][0].timestamp)\n",
    "print(len(data))\n",
    "num_cores = multiprocessing.cpu_count()\n",
    "data = Parallel(n_jobs=num_cores, verbose=10)(delayed(add_features_to_orderbooks)(orderbooks=window, hist=hist) \n",
    "                                                 for window in data[:20])\n",
    "print(data[0][0])\n",
    "print(data[17][0])\n",
    "print(data[18][0])"
   ]
  },
  {
   "cell_type": "code",
   "execution_count": 4,
   "metadata": {
    "collapsed": false
   },
   "outputs": [
    {
     "name": "stdout",
     "output_type": "stream",
     "text": [
      "743\n"
     ]
    },
    {
     "name": "stderr",
     "output_type": "stream",
     "text": [
      "[Parallel(n_jobs=24)]: Done   2 tasks      | elapsed:    0.7s\n",
      "[Parallel(n_jobs=24)]: Done  13 tasks      | elapsed:    2.8s\n",
      "[Parallel(n_jobs=24)]: Done  24 tasks      | elapsed:    5.1s\n",
      "[Parallel(n_jobs=24)]: Done  37 tasks      | elapsed:    7.5s\n",
      "[Parallel(n_jobs=24)]: Done  50 tasks      | elapsed:    9.9s\n",
      "[Parallel(n_jobs=24)]: Done  65 tasks      | elapsed:   12.6s\n",
      "[Parallel(n_jobs=24)]: Done  80 tasks      | elapsed:   15.4s\n",
      "[Parallel(n_jobs=24)]: Done  97 tasks      | elapsed:   18.7s\n",
      "[Parallel(n_jobs=24)]: Done 114 tasks      | elapsed:   23.4s\n",
      "[Parallel(n_jobs=24)]: Done 133 tasks      | elapsed:   26.9s\n",
      "[Parallel(n_jobs=24)]: Done 152 tasks      | elapsed:   30.5s\n",
      "[Parallel(n_jobs=24)]: Done 174 out of 200 | elapsed:   34.4s remaining:    5.1s\n",
      "[Parallel(n_jobs=24)]: Done 195 out of 200 | elapsed:   38.5s remaining:    1.0s\n",
      "[Parallel(n_jobs=24)]: Done 200 out of 200 | elapsed:   39.5s finished\n"
     ]
    },
    {
     "name": "stdout",
     "output_type": "stream",
     "text": [
      "200\n"
     ]
    }
   ],
   "source": [
    "data_dec = pickle.load( open( '/home/axel/notebooks/orderbook_agent/orderbook_agent/cached_windows/obs_2016-12_USDT_BTC_maxVol100.p', \"rb\" ) )\n",
    "print(len(data_dec))\n",
    "num_cores = multiprocessing.cpu_count()\n",
    "data_dec = Parallel(n_jobs=num_cores, verbose=10)(delayed(add_features_to_orderbooks)(orderbooks=window, hist=hist) \n",
    "                                                 for window in data_dec[:200])\n",
    "print(len(data_dec))"
   ]
  },
  {
   "cell_type": "code",
   "execution_count": null,
   "metadata": {
    "collapsed": false,
    "scrolled": true
   },
   "outputs": [],
   "source": [
    "data_feb = pickle.load( open( \"cached_windows/tradingwindows_1702_USTD_BTC.p\", \"rb\" ) )\n",
    "print(data_feb[0][0].timestamp)\n",
    "print(len(data_feb))\n",
    "num_cores = multiprocessing.cpu_count()\n",
    "data_feb = Parallel(n_jobs=num_cores, verbose=10)(delayed(add_features_to_orderbooks)(orderbooks=window) \n",
    "                                                 for window in data_feb[:100])\n",
    "print(len(data_feb))"
   ]
  },
  {
   "cell_type": "markdown",
   "metadata": {},
   "source": [
    "### Train agents"
   ]
  },
  {
   "cell_type": "code",
   "execution_count": 5,
   "metadata": {
    "collapsed": false
   },
   "outputs": [
    {
     "name": "stdout",
     "output_type": "stream",
     "text": [
      "T: 4, P: 15, V: 70000, consume: 'cash'\n"
     ]
    }
   ],
   "source": [
    "T=4\n",
    "P=15\n",
    "V=70000\n",
    "consume='cash'\n",
    "print(\"T: {}, P: {}, V: {}, consume: '{}'\".format(T, P, V, consume))\n",
    "\n",
    "actions = np.linspace(-0.4, 1.0, num=15)\n",
    "actions = range(-4,11)"
   ]
  },
  {
   "cell_type": "code",
   "execution_count": null,
   "metadata": {
    "collapsed": false,
    "scrolled": false
   },
   "outputs": [],
   "source": [
    "agent = trainer_QTable(orderbooks=data_dec[:96], V=V, T=T, consume=consume, actions=[round(a, 2) for a in actions],\n",
    "                    limit_base='incStepUnits', vol_intervals=4,\n",
    "                    period_length=P, agent_name='VolTimeDir_Dec0:96_I4',\n",
    "                    state_variables=['volume', 'time', 'direction'], mode='backward')\n",
    "agent.save(path=\"trainedAgents\", overwrite=True)\n"
   ]
  },
  {
   "cell_type": "code",
   "execution_count": null,
   "metadata": {
    "collapsed": false
   },
   "outputs": [],
   "source": [
    "agent.samples"
   ]
  },
  {
   "cell_type": "code",
   "execution_count": null,
   "metadata": {
    "collapsed": false
   },
   "outputs": [],
   "source": [
    "agent.heatmap_Q()"
   ]
  },
  {
   "cell_type": "code",
   "execution_count": null,
   "metadata": {
    "collapsed": false
   },
   "outputs": [],
   "source": [
    "display(agent.samples)"
   ]
  },
  {
   "cell_type": "code",
   "execution_count": null,
   "metadata": {
    "collapsed": false
   },
   "outputs": [],
   "source": [
    "agent.learn_fromSamples()"
   ]
  },
  {
   "cell_type": "code",
   "execution_count": null,
   "metadata": {
    "collapsed": true
   },
   "outputs": [],
   "source": [
    "### "
   ]
  },
  {
   "cell_type": "code",
   "execution_count": 6,
   "metadata": {
    "collapsed": false,
    "scrolled": false
   },
   "outputs": [
    {
     "name": "stderr",
     "output_type": "stream",
     "text": [
      "  0%|          | 0/1 [00:00<?, ?it/s]\n",
      "  0%|          | 0/1 [00:00<?, ?it/s]"
     ]
    },
    {
     "name": "stdout",
     "output_type": "stream",
     "text": [
      "T: 4, P: 15, V: 70000, consume: 'cash'\n",
      "\n",
      "VolTime ['volume', 'time']\n",
      "RL-Type: <class 'agents.BatchTree_Agent.RLAgent_BatchTree'>\n",
      "Number of orderbook windows: 1\n",
      "Splitpoint: 0/1\n",
      "Start parallel collection of samples in 'forward' mode (num_cores=24)\n"
     ]
    },
    {
     "name": "stderr",
     "output_type": "stream",
     "text": [
      "\u001b[A[Parallel(n_jobs=24)]: Done   1 tasks      | elapsed:   37.7s\n",
      "[Parallel(n_jobs=24)]: Done   1 out of   1 | elapsed:   37.7s finished\n",
      "\n",
      "\n",
      "  0%|          | 0/8 [00:00<?, ?it/s]"
     ]
    },
    {
     "name": "stdout",
     "output_type": "stream",
     "text": [
      "brain.fitted_Q_iteration_tree() - 141 samples\n"
     ]
    },
    {
     "name": "stderr",
     "output_type": "stream",
     "text": [
      "\u001b[A\u001b[A\n",
      "\n",
      " 25%|██▌       | 2/8 [00:00<00:00,  9.40it/s]\u001b[A\u001b[A\n",
      "\n",
      " 38%|███▊      | 3/8 [00:00<00:00,  8.48it/s]\u001b[A\u001b[A\n",
      "\n",
      " 50%|█████     | 4/8 [00:00<00:00,  8.22it/s]\u001b[A\u001b[A\n",
      "\n",
      " 62%|██████▎   | 5/8 [00:00<00:00,  8.02it/s]\u001b[A\u001b[A\n",
      "\n",
      " 75%|███████▌  | 6/8 [00:00<00:00,  7.89it/s]\u001b[A\u001b[A\n",
      "\n",
      " 88%|████████▊ | 7/8 [00:00<00:00,  7.78it/s]\u001b[A\u001b[A\n",
      "\n",
      "100%|██████████| 8/8 [00:01<00:00,  7.63it/s]\u001b[A\u001b[A\n",
      "\n",
      "\u001b[A\u001b[A\n",
      "100%|██████████| 1/1 [00:39<00:00, 40.00s/it]\u001b[A\n",
      "100%|██████████| 1/1 [00:40<00:00, 40.01s/it]"
     ]
    },
    {
     "name": "stdout",
     "output_type": "stream",
     "text": [
      "brain.samples.shape (141, 10)\n",
      "\n"
     ]
    },
    {
     "name": "stderr",
     "output_type": "stream",
     "text": [
      "\n"
     ]
    }
   ],
   "source": [
    "T=4\n",
    "P=15\n",
    "V=70000\n",
    "consume='cash'\n",
    "print(\"T: {}, P: {}, V: {}, consume: '{}'\".format(T, P, V, consume))\n",
    "print(\"\")\n",
    "\n",
    "random.seed(13)\n",
    "np.random.seed(13)\n",
    "# plot_episode(episodes_train[1], volume=100)\n",
    "data[0][0].timestamp\n",
    "# actions = range(-4,11)\n",
    "actions = np.linspace(-0.4, 1.0, num=15)\n",
    "actions = range(-4,11)\n",
    "\n",
    "experiments = {\n",
    "    # 'VolTime_noGuide': ['volume', 'time'],\n",
    "    'VolTime': ['volume', 'time'],\n",
    "    # 'VolTime_45actions': ['volume', 'time'],\n",
    "    # 'VolTime_400est20depth_incStepUnits_noGuide': ['volume', 'time'],\n",
    "    # 'VolTimeSpread': ['volume', 'time', 'spread'],\n",
    "    #'fut15_market_100est': ['volume', 'time', 'future15_market', 'shares', 'spread', 'future15'],\n",
    "    #'fut15_market_400est20depth': ['volume', 'time', 'future15_market', 'shares', 'spread', 'future15'],\n",
    "    # 'fut15_ob': ['volume', 'time', 'future15_ob'],\n",
    "    #'fut15': ['volume', 'time', 'future15'],\n",
    "    # 'manySamplesVolTime': ['volume', 'time']\n",
    "}\n",
    "\n",
    "try:\n",
    "    agent_collection\n",
    "    print(\"agent_collection contains: {}\".format(list(agent_collection.keys())))\n",
    "except NameError:\n",
    "    agent_collection = {}\n",
    "    \n",
    "    \n",
    "for delete in ['VolTimeShares_400est20depth_currAsk']:\n",
    "    if delete in agent_collection.keys():\n",
    "        del(agent_collection[delete])\n",
    "\n",
    "for agent_name in tqdm(experiments.keys()):\n",
    "    if agent_name in agent_collection.keys():\n",
    "        # skip training agent again\n",
    "        continue\n",
    "        \n",
    "    random.seed(13)\n",
    "    np.random.seed(13)\n",
    "\n",
    "    state_variables = experiments[agent_name]\n",
    "    print(agent_name, state_variables)\n",
    "    # limit_base = 'currAsk',  'agression',   'init_center',   'incStepUnits'\n",
    "    agent = trainer_BatchTree(orderbooks=data_dec[:1], V=V, T=T, consume=consume, actions=actions,\n",
    "                    lim_stepsize=0.1, limit_base='incStepUnits',\n",
    "                    period_length=P, epochs=40, agent_name=agent_name, guiding_agent=None,\n",
    "                    random_start=False, state_variables=state_variables, mode='forward')\n",
    "    \n",
    "    agent_collection[agent_name] = agent\n",
    "    print(\"\")"
   ]
  },
  {
   "cell_type": "code",
   "execution_count": null,
   "metadata": {
    "collapsed": false
   },
   "outputs": [],
   "source": [
    "epochs=5\n",
    "for e in range(epochs):\n",
    "    exploration =1.0/20**(e/epochs)\n",
    "    print(\"{}: exploration = {}\".format(e, exploration))"
   ]
  },
  {
   "cell_type": "code",
   "execution_count": null,
   "metadata": {
    "collapsed": false
   },
   "outputs": [],
   "source": [
    "agent_QTable_dec.heatmap_Q()"
   ]
  },
  {
   "cell_type": "markdown",
   "metadata": {},
   "source": [
    "# agent_QTable_dec.heatmap_Q()"
   ]
  },
  {
   "cell_type": "code",
   "execution_count": null,
   "metadata": {
    "collapsed": false
   },
   "outputs": [],
   "source": [
    "# agent_collection['agent_QTable_nov'] = agent_QTable_nov\n",
    "agent_collection['agent_QTable_dec'] = agent_QTable_dec\n",
    "agent_collection['agent_QTable_dec_currAsk'] = agent_QTable_dec_currAsk\n",
    "agent_collection['agent_QTable_dec_incStepUnits'] = agent_QTable_dec_incStepUnits\n",
    "agent_collection['agent_QTable_dec_incStepUnits_direction'] = agent_QTable_dec_incStepUnits_direction\n",
    "agent_collection['agent_QTable_dec_incStepUnits_direction_sub'] = agent_QTable_dec_incStepUnits_direction_sub\n",
    "agent_collection['agent_QTable_dec_incStepUnits_direction_sub3'] = agent_QTable_dec_incStepUnits_direction_sub3\n",
    "for agentname in agent_collection.keys():\n",
    "    print(\"{}: {}\".format(agentname, agent_collection[agentname].samples.shape))"
   ]
  },
  {
   "cell_type": "code",
   "execution_count": null,
   "metadata": {
    "collapsed": false
   },
   "outputs": [],
   "source": [
    "def addMarketFeatures_toSamples(samples_df, hist, state_variables,\n",
    "                                market_features, period_length=15):\n",
    "    df = samples_df.copy()\n",
    "    \n",
    "    for i, f in tqdm(enumerate(market_features)):\n",
    "        #\n",
    "        f_n = \"{}_n\".format(f)\n",
    "        if f in df.columns:\n",
    "            df.drop(f, inplace=True, axis=1)\n",
    "        if f_n in df.columns:\n",
    "            df.drop(f_n, inplace=True, axis=1)\n",
    "        \n",
    "        df.insert(loc=2+i, column=f, value=df.timestamp.map(hist[f]),\n",
    "                 allow_duplicates=True)\n",
    "        df.insert(loc=df.shape[1],\n",
    "                  column=f_n,\n",
    "                  allow_duplicates=True,\n",
    "                  value=(df.timestamp+pd.Timedelta(minutes=period_length)).map(hist[f]))\n",
    "        if f not in state_variables:\n",
    "            state_variables.append(f)\n",
    "\n",
    "        if f in ['high24hr', 'low24hr', 'spread']:\n",
    "            df[f] = df[f] / df.initial_center\n",
    "            df[f_n] = df[f_n] / df.initial_center\n",
    "\n",
    "    return df\n",
    "\n",
    "df2 = addMarketFeatures_toSamples(samples_df=agent.samples, hist=hist, state_variables=['time', 'volume'],\n",
    "                                 market_features=['future15', 'future15_disc', 'future30_disc', 'future45_disc', 'spread', 'spread_disc'])\n",
    "print(df2.shape)\n",
    "display(df2.describe())"
   ]
  },
  {
   "cell_type": "code",
   "execution_count": null,
   "metadata": {
    "collapsed": false
   },
   "outputs": [],
   "source": [
    "for ag in agent_collection.keys():\n",
    "    print(ag, agent_collection[ag].state_variables)"
   ]
  },
  {
   "cell_type": "code",
   "execution_count": null,
   "metadata": {
    "collapsed": false
   },
   "outputs": [],
   "source": [
    "agent_collection['VolTime_400est20depth_incStepUnits_noGuide'].heatmap_Q()\n",
    "agent_collection['VolTime_400est20depth_incStepUnits'].heatmap_Q()"
   ]
  },
  {
   "cell_type": "code",
   "execution_count": null,
   "metadata": {
    "collapsed": false,
    "scrolled": true
   },
   "outputs": [],
   "source": [
    "agent_collection['agent_QTable_dec'].heatmap_Q(show_minima_count=True)\n",
    "agent_collection['agent_QTable_dec_currAsk'].heatmap_Q(show_minima_count=True)\n",
    "agent_collection['agent_QTable_dec_incStepUnits'].heatmap_Q(show_minima_count=True)"
   ]
  },
  {
   "cell_type": "code",
   "execution_count": null,
   "metadata": {
    "collapsed": false
   },
   "outputs": [],
   "source": [
    "from helper.general_helpers import gauss_window\n",
    "gauss = gauss_window(agent_QTable_dec.actions, a_idx=4, std=2)\n",
    "plt.plot(gauss)\n",
    "plt.show()"
   ]
  },
  {
   "cell_type": "code",
   "execution_count": null,
   "metadata": {
    "collapsed": false
   },
   "outputs": [],
   "source": [
    "agent_QTable_dec_incStepUnits_direction.q.keys()"
   ]
  },
  {
   "cell_type": "code",
   "execution_count": null,
   "metadata": {
    "collapsed": false,
    "scrolled": true
   },
   "outputs": [],
   "source": [
    "costs = None\n",
    "costs, slippage = evaluate(\n",
    "    testdata=data_dec[:96],\n",
    "    agents=agent_collection,\n",
    "    baseline='agent_QTable_dec',\n",
    "    evaluate_actions=[5],\n",
    "    costs=costs,\n",
    "    verbose=False\n",
    ")\n",
    "\n",
    "display(costs.describe())\n",
    "plot_evaluation_costs(costs, hline='agent_QTable_dec')\n",
    "plot_evaluation_costs(slippage, hline='agent_QTable_dec')"
   ]
  },
  {
   "cell_type": "code",
   "execution_count": null,
   "metadata": {
    "collapsed": true
   },
   "outputs": [],
   "source": []
  },
  {
   "cell_type": "code",
   "execution_count": null,
   "metadata": {
    "collapsed": false,
    "scrolled": false
   },
   "outputs": [],
   "source": [
    "costs = None\n",
    "baseline = 'agent_QTable_dec'\n",
    "costs, slippage = evaluate(\n",
    "    testdata=data_dec[156:164],\n",
    "    agents=agent_collection,\n",
    "    baseline=baseline,\n",
    "    evaluate_actions=[5],\n",
    "    costs=costs,\n",
    "    verbose=False\n",
    ")\n",
    "\n",
    "display(costs.describe())\n",
    "plot_evaluation_costs(costs, hline=baseline)\n",
    "plot_evaluation_costs(slippage, hline=baseline)\n",
    "\n",
    "plt.figure(figsize=(12,8))\n",
    "tmp = costs.subtract(costs[baseline].values, axis=0)\n",
    "tmp.plot()\n",
    "tmp.mean()"
   ]
  },
  {
   "cell_type": "code",
   "execution_count": null,
   "metadata": {
    "collapsed": false
   },
   "outputs": [],
   "source": [
    "costs.plot(figsize=(16,12))\n",
    "plt.fill_between(range(len(costs)), 0, costs['agent_QTable_dec'].values, alpha=0.5)"
   ]
  },
  {
   "cell_type": "code",
   "execution_count": null,
   "metadata": {
    "collapsed": false
   },
   "outputs": [],
   "source": [
    "for e, elem in enumerate(data_dec[156:164]):\n",
    "    print(e, elem[0].timestamp, elem[0].features['direction'])"
   ]
  },
  {
   "cell_type": "code",
   "execution_count": null,
   "metadata": {
    "collapsed": false,
    "scrolled": false
   },
   "outputs": [],
   "source": [
    "agent_collection['VolTime'].heatmap_Q(vol_intervals=10)\n",
    "agent_collection['agent_QTable_dec'].heatmap_Q(vol_intervals=10)\n",
    "agent_collection['agent_QTable_dec'].interpolate_vol = True\n",
    "agent_collection['agent_QTable_dec'].heatmap_Q(vol_intervals=10)"
   ]
  },
  {
   "cell_type": "code",
   "execution_count": null,
   "metadata": {
    "collapsed": false
   },
   "outputs": [],
   "source": [
    "costs_oos = None\n",
    "costs_oos = evaluate(\n",
    "    testdata=data_dec[20:40],\n",
    "    agents=agent_collection,\n",
    "    baseline='agent_QTable_dec',\n",
    "    evaluate_actions=[5],\n",
    "    costs=costs_oos,\n",
    "    verbose=False\n",
    ")\n",
    "\n",
    "display(costs_oos.describe())\n",
    "plot_evaluation_costs(costs_oos, hline='agent_QTable_dec')"
   ]
  },
  {
   "cell_type": "code",
   "execution_count": null,
   "metadata": {
    "collapsed": false
   },
   "outputs": [],
   "source": [
    "plt.figure(figsize=(14, 8))\n",
    "orient = 'v'\n",
    "bp = sns.boxplot(orient=orient, data=costs, showfliers=False)\n",
    "ax = sns.swarmplot(data=costs, orient=orient, color=\".25\", alpha=0.4)\n",
    "ax.axhline(0)"
   ]
  },
  {
   "cell_type": "code",
   "execution_count": null,
   "metadata": {
    "collapsed": false
   },
   "outputs": [],
   "source": []
  },
  {
   "cell_type": "code",
   "execution_count": null,
   "metadata": {
    "collapsed": true
   },
   "outputs": [],
   "source": []
  }
 ],
 "metadata": {
  "kernelspec": {
   "display_name": "Python 3",
   "language": "python",
   "name": "python3"
  },
  "language_info": {
   "codemirror_mode": {
    "name": "ipython",
    "version": 3
   },
   "file_extension": ".py",
   "mimetype": "text/x-python",
   "name": "python",
   "nbconvert_exporter": "python",
   "pygments_lexer": "ipython3",
   "version": "3.6.0"
  }
 },
 "nbformat": 4,
 "nbformat_minor": 2
}
