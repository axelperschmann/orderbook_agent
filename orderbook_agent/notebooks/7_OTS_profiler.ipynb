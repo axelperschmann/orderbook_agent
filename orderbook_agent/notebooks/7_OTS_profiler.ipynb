{
 "cells": [
  {
   "cell_type": "code",
   "execution_count": 1,
   "metadata": {
    "collapsed": false
   },
   "outputs": [],
   "source": [
    "%load_ext autoreload\n",
    "%autoreload 2\n",
    "\n",
    "from tqdm import tqdm\n",
    "import pandas as pd\n",
    "import numpy as np\n",
    "import gzip\n",
    "import json\n",
    "import math\n",
    "from datetime import datetime\n",
    "from IPython.display import display\n",
    "import matplotlib.pyplot as plt\n",
    "import matplotlib.dates as mdates\n",
    "%matplotlib inline\n",
    "\n",
    "import sys\n",
    "sys.path.append('..')\n",
    "from helper.manage_orderbooks import extract_orderbooks_for_one_currencypair, load_orderbook_snapshot, plot_episode, OrderbookEpisodesGenerator\n",
    "from helper.orderbook_container import OrderbookContainer\n",
    "from helper.orderbook_trader import OrderbookTradingSimulator\n",
    "\n",
    "from functools import wraps\n",
    "from time import time"
   ]
  },
  {
   "cell_type": "code",
   "execution_count": 2,
   "metadata": {
    "collapsed": false,
    "scrolled": true
   },
   "outputs": [
    {
     "name": "stderr",
     "output_type": "stream",
     "text": [
      "100%|██████████| 60/60 [00:03<00:00, 15.72it/s]\n"
     ]
    },
    {
     "name": "stdout",
     "output_type": "stream",
     "text": [
      "Loaded 60 orderbooks from file '/home/axel/data/small/obs_2016-11_USDT_BTC_maxVol100.dict'.\n",
      "2016-11-22T07:22\n"
     ]
    }
   ],
   "source": [
    "filename = '/home/axel/data/small/obs_2016-11_USDT_BTC_maxVol100.dict'\n",
    "# filename = '/home/axel/data/obs_2017-02_USDT_BTC_range1.2.dict'\n",
    "\n",
    "data = load_orderbook_snapshot(filename, first_line=20000, last_line=20060)\n",
    "print(data[0].timestamp)\n",
    "\n",
    "T = 4\n",
    "period_length = 15\n",
    "vol=100\n",
    "# episode_windows = OrderbookEpisodesGenerator(filename=filename, episode_length=T*period_length)\n",
    "# print(\"Length of episode_windows: {}\".format(len(episode_windows)))"
   ]
  },
  {
   "cell_type": "code",
   "execution_count": 3,
   "metadata": {
    "collapsed": false
   },
   "outputs": [],
   "source": [
    "def timing(f):\n",
    "        @wraps(f)\n",
    "        def wrap(*args, **kw):\n",
    "            ts = time()\n",
    "            result = f(*args, **kw)\n",
    "            te = time()\n",
    "            print('func:%r  took: %2.4f sec' % \\\n",
    "              (f.__name__, te-ts))\n",
    "            return result\n",
    "        return wrap"
   ]
  },
  {
   "cell_type": "code",
   "execution_count": 9,
   "metadata": {
    "collapsed": false,
    "scrolled": false
   },
   "outputs": [
    {
     "name": "stdout",
     "output_type": "stream",
     "text": [
      "func:'__init__'  took: 0.4537 sec\n",
      "init: 0.4540\n",
      "0\n",
      "func:'trade'  took: 0.3046 sec\n",
      "1\n",
      "func:'trade'  took: 0.3083 sec\n",
      "2\n",
      "func:'trade'  took: 0.1111 sec\n",
      "3\n",
      "already done, nothing to do here!\n",
      "func:'trade'  took: 0.0040 sec\n",
      "loop: 0.7291\n",
      "726.514641337\n",
      "0\n",
      "func:'trade'  took: 0.2941 sec\n",
      "1\n",
      "func:'trade'  took: 0.2620 sec\n",
      "2\n",
      "func:'trade'  took: 0.0867 sec\n",
      "3\n",
      "already done, nothing to do here!\n",
      "func:'trade'  took: 0.0027 sec\n",
      "loop: 0.6469\n",
      "726.514641337\n",
      "0\n",
      "func:'trade'  took: 0.2381 sec\n",
      "1\n",
      "func:'trade'  took: 0.2374 sec\n",
      "2\n",
      "func:'trade'  took: 0.0872 sec\n",
      "3\n",
      "already done, nothing to do here!\n",
      "func:'trade'  took: 0.0026 sec\n",
      "loop: 0.5671\n",
      "726.514641337\n",
      "0\n",
      "func:'trade'  took: 0.2327 sec\n",
      "1\n",
      "func:'trade'  took: 0.2371 sec\n",
      "2\n",
      "func:'trade'  took: 0.0881 sec\n",
      "3\n",
      "already done, nothing to do here!\n",
      "func:'trade'  took: 0.0027 sec\n",
      "loop: 0.5617\n",
      "726.514641337\n",
      "0\n",
      "func:'trade'  took: 0.2325 sec\n",
      "1\n",
      "func:'trade'  took: 0.2364 sec\n",
      "2\n",
      "func:'trade'  took: 0.0871 sec\n",
      "3\n",
      "already done, nothing to do here!\n",
      "func:'trade'  took: 0.0026 sec\n",
      "loop: 0.5596\n",
      "726.514641337\n",
      "func:'test_trade'  took: 3.5311 sec\n"
     ]
    }
   ],
   "source": [
    "@timing\n",
    "def test_trade():\n",
    "    vol = 100\n",
    "    datasub = data\n",
    "    #plot_episode(datasub, volume=vol, intervals=10)\n",
    "    \n",
    "    t0 = time()\n",
    "    ots = OrderbookTradingSimulator(orderbooks=datasub, volume=vol, tradingperiods=T, period_length=period_length)\n",
    "    print(\"init: {:1.4f}\".format(time()-t0))\n",
    "    for t in range(5):\n",
    "        ots.reset()\n",
    "        t0 = time()\n",
    "        for i in range(4):\n",
    "            print(i)\n",
    "            summary = ots.trade(limit=740.5)\n",
    "\n",
    "        print(\"loop: {:1.4f}\".format(time()-t0))\n",
    "\n",
    "        print(summary['cash']/100.)\n",
    "    \n",
    "    return ots.history\n",
    "\n",
    "test = test_trade()"
   ]
  },
  {
   "cell_type": "code",
   "execution_count": null,
   "metadata": {
    "collapsed": true
   },
   "outputs": [],
   "source": []
  }
 ],
 "metadata": {
  "kernelspec": {
   "display_name": "Python 3",
   "language": "python",
   "name": "python3"
  },
  "language_info": {
   "codemirror_mode": {
    "name": "ipython",
    "version": 3
   },
   "file_extension": ".py",
   "mimetype": "text/x-python",
   "name": "python",
   "nbconvert_exporter": "python",
   "pygments_lexer": "ipython3",
   "version": "3.6.0"
  }
 },
 "nbformat": 4,
 "nbformat_minor": 2
}
