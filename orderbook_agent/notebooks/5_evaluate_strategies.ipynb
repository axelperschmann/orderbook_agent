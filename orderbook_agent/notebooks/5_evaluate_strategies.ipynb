{
 "cells": [
  {
   "cell_type": "code",
   "execution_count": 188,
   "metadata": {},
   "outputs": [
    {
     "name": "stdout",
     "output_type": "stream",
     "text": [
      "The autoreload extension is already loaded. To reload it, use:\n",
      "  %reload_ext autoreload\n"
     ]
    }
   ],
   "source": [
    "%load_ext autoreload\n",
    "%autoreload 2\n",
    "\n",
    "from joblib import Parallel, delayed\n",
    "import multiprocessing\n",
    "\n",
    "from tqdm import tqdm, tqdm_notebook\n",
    "from IPython.display import display\n",
    "from tqdm import tqdm\n",
    "import pandas as pd\n",
    "import numpy as np\n",
    "import matplotlib.pyplot as plt\n",
    "%matplotlib inline\n",
    "import json\n",
    "import pickle\n",
    "import os\n",
    "import sys\n",
    "sys.path.append('..')\n",
    "from helper.orderbook_trader import OrderbookTradingSimulator\n",
    "from helper.manage_orderbooks import *\n",
    "from helper.evaluation import evaluate, plot_evaluation_costs\n",
    "from helper.general_helpers import add_features_to_orderbooks, load_and_preprocess_historyfiles, discretize_hist_feature\n",
    "\n",
    "from agents.RL_Agent_Base import RLAgent_Base\n",
    "from agents.BatchTree_Agent import RLAgent_BatchTree\n",
    "from agents.QTable_Agent import QTable_Agent"
   ]
  },
  {
   "cell_type": "markdown",
   "metadata": {},
   "source": [
    "#### Load pretrained Agents"
   ]
  },
  {
   "cell_type": "code",
   "execution_count": 2,
   "metadata": {},
   "outputs": [
    {
     "name": "stdout",
     "output_type": "stream",
     "text": [
      "[('BT_Agent_samples20196.json', 'trainedAgents/longterm_apr_BT/'), ('BT_Agent_samples36973.json', 'trainedAgents/longterm_apr_BT/'), ('BT_Agent_samples43268.json', 'trainedAgents/longterm_apr_BT/'), ('BT_Agent_shuffle_samples116008.json', 'trainedAgents/longterm_apr_BT/'), ('BT_Agent_shuffle_samples134011.json', 'trainedAgents/longterm_apr_BT/'), ('BT_Agent_shuffle_samples152352.json', 'trainedAgents/longterm_apr_BT/'), ('BT_Agent_shuffle_samples170605.json', 'trainedAgents/longterm_apr_BT/'), ('BT_Agent_shuffle_samples188224.json', 'trainedAgents/longterm_apr_BT/'), ('BT_Agent_shuffle_samples206409.json', 'trainedAgents/longterm_apr_BT/'), ('BT_Agent_shuffle_samples224083.json', 'trainedAgents/longterm_apr_BT/'), ('BT_Agent_shuffle_samples242342.json', 'trainedAgents/longterm_apr_BT/'), ('BT_Agent_shuffle_samples25078.json', 'trainedAgents/longterm_apr_BT/'), ('BT_Agent_shuffle_samples261018.json', 'trainedAgents/longterm_apr_BT/'), ('BT_Agent_shuffle_samples279347.json', 'trainedAgents/longterm_apr_BT/'), ('BT_Agent_shuffle_samples298020.json', 'trainedAgents/longterm_apr_BT/'), ('BT_Agent_shuffle_samples304406.json', 'trainedAgents/longterm_apr_BT/'), ('BT_Agent_shuffle_samples43334.json', 'trainedAgents/longterm_apr_BT/'), ('BT_Agent_shuffle_samples61103.json', 'trainedAgents/longterm_apr_BT/'), ('BT_Agent_shuffle_samples79809.json', 'trainedAgents/longterm_apr_BT/'), ('BT_Agent_shuffle_samples97615.json', 'trainedAgents/longterm_apr_BT/')]\n"
     ]
    }
   ],
   "source": [
    "folder = 'trainedAgents/longterm_apr_BT/'\n",
    "agent_files = sorted([(f, folder) for f in os.listdir(folder) if f.endswith('.json')])\n",
    "# agent_files = [(f, folder) for (f, folder) in agent_files if '_a_' in f]\n",
    "\n",
    "# agent_files.append( ('QTable_1611-1704_T4_I8_VolTime.json', 'trainedAgents/longterm_1611_1704_simulate_preceeding_trades') )\n",
    "\n",
    "print(agent_files)\n",
    "\n",
    "#agent_files = [('BT_Agent_samples36892.json', 'trainedAgents/longterm_BT')]"
   ]
  },
  {
   "cell_type": "code",
   "execution_count": 5,
   "metadata": {
    "collapsed": true
   },
   "outputs": [],
   "source": [
    "# agent = RLAgent_Base.load(agent_name='BT_Agent_samples36973', path=folder, ignore_samples=False)\n",
    "agent = RLAgent_Base.load(agent_name='BT_Agent_shuffle_samples61103', path=folder, ignore_samples=False)"
   ]
  },
  {
   "cell_type": "code",
   "execution_count": null,
   "metadata": {
    "collapsed": true
   },
   "outputs": [],
   "source": [
    "agent.heatmap_Q(extra_variables={'orderbook': data_may[-1][0]})"
   ]
  },
  {
   "cell_type": "code",
   "execution_count": null,
   "metadata": {
    "collapsed": true
   },
   "outputs": [],
   "source": [
    "agent.heatmap_Q(extra_variables={'orderbook': data_may[0][0]})"
   ]
  },
  {
   "cell_type": "code",
   "execution_count": null,
   "metadata": {
    "collapsed": true
   },
   "outputs": [],
   "source": [
    "agent.heatmap_Q(extra_variables={'orderbook': data_may[-1][0]})"
   ]
  },
  {
   "cell_type": "code",
   "execution_count": null,
   "metadata": {
    "collapsed": true
   },
   "outputs": [],
   "source": [
    "agent.heatmap_Q(extra_variables={'orderbook': data_may[0][0]})"
   ]
  },
  {
   "cell_type": "code",
   "execution_count": 6,
   "metadata": {},
   "outputs": [
    {
     "name": "stdout",
     "output_type": "stream",
     "text": [
      "RL-Type: <class 'agents.BatchTree_Agent.RLAgent_BatchTree'>, Name: 'BT_Agent_samples20196', state_variables: '['volume', 'time', 'level2data']'\n",
      "RL-Type: <class 'agents.BatchTree_Agent.RLAgent_BatchTree'>, Name: 'BT_Agent_samples36973', state_variables: '['volume', 'time', 'level2data']'\n",
      "RL-Type: <class 'agents.BatchTree_Agent.RLAgent_BatchTree'>, Name: 'BT_Agent_samples43268', state_variables: '['volume', 'time', 'level2data']'\n",
      "RL-Type: <class 'agents.BatchTree_Agent.RLAgent_BatchTree'>, Name: 'BT_Agent_shuffle_samples116008', state_variables: '['volume', 'time', 'level2data']'\n",
      "RL-Type: <class 'agents.BatchTree_Agent.RLAgent_BatchTree'>, Name: 'BT_Agent_shuffle_samples134011', state_variables: '['volume', 'time', 'level2data']'\n",
      "RL-Type: <class 'agents.BatchTree_Agent.RLAgent_BatchTree'>, Name: 'BT_Agent_shuffle_samples152352', state_variables: '['volume', 'time', 'level2data']'\n",
      "RL-Type: <class 'agents.BatchTree_Agent.RLAgent_BatchTree'>, Name: 'BT_Agent_shuffle_samples170605', state_variables: '['volume', 'time', 'level2data']'\n",
      "RL-Type: <class 'agents.BatchTree_Agent.RLAgent_BatchTree'>, Name: 'BT_Agent_shuffle_samples188224', state_variables: '['volume', 'time', 'level2data']'\n",
      "RL-Type: <class 'agents.BatchTree_Agent.RLAgent_BatchTree'>, Name: 'BT_Agent_shuffle_samples206409', state_variables: '['volume', 'time', 'level2data']'\n",
      "RL-Type: <class 'agents.BatchTree_Agent.RLAgent_BatchTree'>, Name: 'BT_Agent_shuffle_samples224083', state_variables: '['volume', 'time', 'level2data']'\n",
      "RL-Type: <class 'agents.BatchTree_Agent.RLAgent_BatchTree'>, Name: 'BT_Agent_shuffle_samples242342', state_variables: '['volume', 'time', 'level2data']'\n",
      "RL-Type: <class 'agents.BatchTree_Agent.RLAgent_BatchTree'>, Name: 'BT_Agent_shuffle_samples25078', state_variables: '['volume', 'time', 'level2data']'\n",
      "RL-Type: <class 'agents.BatchTree_Agent.RLAgent_BatchTree'>, Name: 'BT_Agent_shuffle_samples261018', state_variables: '['volume', 'time', 'level2data']'\n",
      "RL-Type: <class 'agents.BatchTree_Agent.RLAgent_BatchTree'>, Name: 'BT_Agent_shuffle_samples279347', state_variables: '['volume', 'time', 'level2data']'\n",
      "RL-Type: <class 'agents.BatchTree_Agent.RLAgent_BatchTree'>, Name: 'BT_Agent_shuffle_samples298020', state_variables: '['volume', 'time', 'level2data']'\n",
      "RL-Type: <class 'agents.BatchTree_Agent.RLAgent_BatchTree'>, Name: 'BT_Agent_shuffle_samples304406', state_variables: '['volume', 'time', 'level2data']'\n",
      "RL-Type: <class 'agents.BatchTree_Agent.RLAgent_BatchTree'>, Name: 'BT_Agent_shuffle_samples43334', state_variables: '['volume', 'time', 'level2data']'\n",
      "RL-Type: <class 'agents.BatchTree_Agent.RLAgent_BatchTree'>, Name: 'BT_Agent_shuffle_samples61103', state_variables: '['volume', 'time', 'level2data']'\n",
      "RL-Type: <class 'agents.BatchTree_Agent.RLAgent_BatchTree'>, Name: 'BT_Agent_shuffle_samples79809', state_variables: '['volume', 'time', 'level2data']'\n",
      "RL-Type: <class 'agents.BatchTree_Agent.RLAgent_BatchTree'>, Name: 'BT_Agent_shuffle_samples97615', state_variables: '['volume', 'time', 'level2data']'\n",
      "agent_collection contains 20 elements:\n",
      "['BT_Agent_samples20196', 'BT_Agent_samples36973', 'BT_Agent_samples43268', 'BT_Agent_shuffle_samples116008', 'BT_Agent_shuffle_samples134011', 'BT_Agent_shuffle_samples152352', 'BT_Agent_shuffle_samples170605', 'BT_Agent_shuffle_samples188224', 'BT_Agent_shuffle_samples206409', 'BT_Agent_shuffle_samples224083', 'BT_Agent_shuffle_samples242342', 'BT_Agent_shuffle_samples25078', 'BT_Agent_shuffle_samples261018', 'BT_Agent_shuffle_samples279347', 'BT_Agent_shuffle_samples298020', 'BT_Agent_shuffle_samples304406', 'BT_Agent_shuffle_samples43334', 'BT_Agent_shuffle_samples61103', 'BT_Agent_shuffle_samples79809', 'BT_Agent_shuffle_samples97615']\n"
     ]
    }
   ],
   "source": [
    "agent_collection = {}\n",
    "try:\n",
    "    agent_collection\n",
    "except NameError:\n",
    "    agent_collection = {}\n",
    "    \n",
    "for elem, folder in agent_files:\n",
    "    name = elem[:-5]\n",
    "    agent_collection[name] = RLAgent_Base.load(agent_name=name, path=folder, ignore_samples=True)\n",
    "    print(agent_collection[name])\n",
    "#agent_collection['VolTime'] = RLAgent_Base.load(agent_name='QTable_1611-1704_T4_I8_VolTime', path=folder_orig, ignore_samples=True)\n",
    "print(\"agent_collection contains {} elements:\\n{}\".format(len(agent_collection), list(agent_collection.keys())))\n"
   ]
  },
  {
   "cell_type": "code",
   "execution_count": null,
   "metadata": {
    "collapsed": true
   },
   "outputs": [],
   "source": [
    "agent_source = agent_collection['BT_Agent_samples36892']"
   ]
  },
  {
   "cell_type": "code",
   "execution_count": null,
   "metadata": {
    "collapsed": true
   },
   "outputs": [],
   "source": [
    "agent_collection['BT_VolTime'].heatmap_Q(outfile='BT_VolTimeSpread_3_vol24', vol_intervals=24)\n",
    "agent_collection['BT_VolTime'].heatmap_Q(outfile='BT_VolTimeSpread_3_vol08', vol_intervals=8)\n",
    "agent_collection['BT_VolTime'].heatmap_Q(outfile='BT_VolTimeSpread_3_vol4', vol_intervals=4)"
   ]
  },
  {
   "cell_type": "code",
   "execution_count": null,
   "metadata": {
    "collapsed": true
   },
   "outputs": [],
   "source": [
    "agent_new = agent_source.copy(new_name='BT_Agent_copy')\n",
    "agent_new.samples.head()"
   ]
  },
  {
   "cell_type": "code",
   "execution_count": null,
   "metadata": {
    "collapsed": true
   },
   "outputs": [],
   "source": [
    "# source_agent = agent_collection['QTable_1612-1702_T4_I8']\n",
    "# print(\"Samples:\", source_agent.samples.shape)\n",
    "# tet = source_agent.convert_to_BatchTreeAgent(new_name=\"te\", train=True)\n",
    "# print(tet)\n",
    "# print(source_agent.state_variables)\n",
    "# agent_collection = {\n",
    "#     'source_agent': source_agent,\n",
    "#     'converted_agent': tet\n",
    "# }"
   ]
  },
  {
   "cell_type": "code",
   "execution_count": null,
   "metadata": {
    "collapsed": true
   },
   "outputs": [],
   "source": [
    "hist = pd.read_csv('ob_features70000_1611_1705_level2data.csv', index_col=0, parse_dates=[0])\n",
    "hist.spread.describe()"
   ]
  },
  {
   "cell_type": "code",
   "execution_count": null,
   "metadata": {
    "collapsed": true,
    "scrolled": false
   },
   "outputs": [],
   "source": [
    "agent = agent_collection['BT_VolTimeSpread']\n",
    "for d in 1.435976e-03, 1.605005e-03, 2.617836e-03:\n",
    "    print(d)\n",
    "    agent.heatmap_Q(extra_variables={'spread': 0.0012})"
   ]
  },
  {
   "cell_type": "code",
   "execution_count": null,
   "metadata": {
    "collapsed": true
   },
   "outputs": [],
   "source": [
    "agent.model.feature_importances_"
   ]
  },
  {
   "cell_type": "markdown",
   "metadata": {
    "collapsed": true
   },
   "source": [
    "### Load data"
   ]
  },
  {
   "cell_type": "code",
   "execution_count": null,
   "metadata": {
    "collapsed": true
   },
   "outputs": [],
   "source": [
    "variables = []\n",
    "for ag in agent_collection.values():\n",
    "    print(ag, ag.state_variables)\n",
    "    variables += ag.state_variables\n",
    "variables = set(variables)\n",
    "variables.remove('time')\n",
    "variables.remove('volume')\n",
    "#variables = [v[:-5] for v in variables]\n",
    "variables"
   ]
  },
  {
   "cell_type": "code",
   "execution_count": null,
   "metadata": {
    "collapsed": true
   },
   "outputs": [],
   "source": [
    "hist._a_4"
   ]
  },
  {
   "cell_type": "code",
   "execution_count": null,
   "metadata": {
    "collapsed": true
   },
   "outputs": [],
   "source": [
    "hist.columns"
   ]
  },
  {
   "cell_type": "code",
   "execution_count": null,
   "metadata": {
    "collapsed": true
   },
   "outputs": [],
   "source": [
    "hist = pd.read_csv('ob_features70000_1611_1705_level2data.csv', index_col=0, parse_dates=[0])\n",
    "variables_disc = [(v[:-6], v[-1]) for v in variables if '_disc' in v]\n",
    "\n",
    "for feat, bins in tqdm(variables_disc):\n",
    "    hist = discretize_hist_feature(hist, feature=feat, test_start_date='2017-05-01', bins=int(bins))\n",
    "display(hist.head(3))"
   ]
  },
  {
   "cell_type": "code",
   "execution_count": null,
   "metadata": {
    "collapsed": true
   },
   "outputs": [],
   "source": [
    "data_mini = pickle.load( open( \"cached_windows/tradingwindows_1611_USTD_BTC_20.p\", \"rb\" ) )\n",
    "num_cores = multiprocessing.cpu_count()\n",
    "data_mini = Parallel(n_jobs=num_cores, verbose=10)(delayed(add_features_to_orderbooks)(orderbooks=window, hist=hist,\n",
    "                                                                                      features=variables,\n",
    "                                                                                      fixedMarketVariables=True) \n",
    "                                                 for window in data_mini[:])\n",
    "print(len(data_mini), len(data_mini[0]))\n",
    "data = data_mini"
   ]
  },
  {
   "cell_type": "code",
   "execution_count": null,
   "metadata": {
    "collapsed": true
   },
   "outputs": [],
   "source": [
    "data_nov = pickle.load( open( '../cached_windows_60mins/obs_2016-11_USDT_BTC_maxVol100.p', \"rb\" ) )\n",
    "print(len(data_nov))\n",
    "print(data_nov[0][0])\n",
    "num_cores = multiprocessing.cpu_count()\n",
    "data_nov = Parallel(n_jobs=num_cores, verbose=10)(delayed(add_features_to_orderbooks)(\n",
    "    orderbooks=window, \n",
    "    hist=hist,\n",
    "    features=variables) \n",
    "                                                  for window in data_nov[:192])\n",
    "print(len(data_nov))\n",
    "data_nov[0][0]"
   ]
  },
  {
   "cell_type": "code",
   "execution_count": null,
   "metadata": {
    "collapsed": true
   },
   "outputs": [],
   "source": [
    "data_dec = pickle.load( open( '../cached_windows_60mins/obs_2016-12_USDT_BTC_maxVol100.p', \"rb\" ) )\n",
    "print(len(data_dec))\n",
    "print(data_dec[0][0])\n",
    "num_cores = multiprocessing.cpu_count()\n",
    "data_dec = Parallel(n_jobs=num_cores, verbose=10)(delayed(add_features_to_orderbooks)(\n",
    "    orderbooks=window, \n",
    "    hist=hist,\n",
    "    features=[\"{}_disc\".format(v) for v in variables]) \n",
    "                                                 for window in data_dec[:192])\n",
    "print(len(data_dec))\n",
    "data_dec[0][0]"
   ]
  },
  {
   "cell_type": "code",
   "execution_count": null,
   "metadata": {
    "collapsed": true
   },
   "outputs": [],
   "source": [
    "data_apr = pickle.load( open( '../cached_windows_60mins_V200/obs_2017-04_USDT_BTC_maxVol200.p', \"rb\" ) )\n",
    "print(len(data_apr))\n",
    "print(data_apr[0][0])\n",
    "num_cores = multiprocessing.cpu_count()\n",
    "data_apr = Parallel(n_jobs=num_cores, verbose=10)(delayed(add_features_to_orderbooks)(\n",
    "    orderbooks=window, \n",
    "    hist=hist,\n",
    "    features=variables) \n",
    "                                                 for window in data_apr[:])\n",
    "pickle.dump(data_apr, open(\"data_apr_enriched.p\", \"wb\"))"
   ]
  },
  {
   "cell_type": "code",
   "execution_count": null,
   "metadata": {
    "collapsed": true
   },
   "outputs": [],
   "source": [
    "pickle.dump(data_apr1 + data_apr2, open(\"data_apr_enriched.p\", \"wb\"))"
   ]
  },
  {
   "cell_type": "code",
   "execution_count": null,
   "metadata": {
    "collapsed": true
   },
   "outputs": [],
   "source": [
    "print(\"x\")"
   ]
  },
  {
   "cell_type": "code",
   "execution_count": null,
   "metadata": {
    "collapsed": true
   },
   "outputs": [],
   "source": [
    "variables"
   ]
  },
  {
   "cell_type": "code",
   "execution_count": null,
   "metadata": {
    "collapsed": true
   },
   "outputs": [],
   "source": [
    "data_may = pickle.load( open( '../cached_windows_60mins_V200/obs_2017-05_USDT_BTC_maxVol200.p', \"rb\" ) )\n",
    "print(len(data_may))\n",
    "print(data_may[0][0])\n",
    "num_cores = multiprocessing.cpu_count()\n",
    "data_may = Parallel(n_jobs=num_cores, verbose=10)(delayed(add_features_to_orderbooks)(\n",
    "    orderbooks=window, \n",
    "    hist=hist,\n",
    "    features=variables,\n",
    "    fixedMarketVariables=False) \n",
    "                                                 for window in data_may[:])\n",
    "data_may[0][0]\n",
    "# pickle.dump(data_may, open(\"data_may_enriched.p\", \"wb\"))   # data_may_fixedMarketVar, data_may_enriched"
   ]
  },
  {
   "cell_type": "code",
   "execution_count": null,
   "metadata": {
    "collapsed": true
   },
   "outputs": [],
   "source": [
    "pickle.dump(data_may, open(\"data_may_SpreadLevel2.p\", \"wb\"))   # data_may_fixedMarketVar, data_may_enriched"
   ]
  },
  {
   "cell_type": "markdown",
   "metadata": {},
   "source": [
    "### Evaluate"
   ]
  },
  {
   "cell_type": "code",
   "execution_count": null,
   "metadata": {
    "collapsed": true
   },
   "outputs": [],
   "source": [
    "# data_may = pickle.load(open(\"data_may_enriched.p\", \"rb\"))\n",
    "# data_may = pickle.load(open(\"data_may_fixedMarketVar.p\", \"rb\"))\n",
    "data_may = pickle.load(open(\"data_may_SpreadLevel2.p\", \"rb\"))"
   ]
  },
  {
   "cell_type": "code",
   "execution_count": null,
   "metadata": {
    "collapsed": true
   },
   "outputs": [],
   "source": [
    "for ag in agent_collection:\n",
    "    print(ag, agent_collection[ag].agent_name)"
   ]
  },
  {
   "cell_type": "code",
   "execution_count": null,
   "metadata": {
    "collapsed": true
   },
   "outputs": [],
   "source": [
    "list(agent_collection.keys())[0]"
   ]
  },
  {
   "cell_type": "code",
   "execution_count": null,
   "metadata": {
    "collapsed": true
   },
   "outputs": [],
   "source": [
    "data = data_may\n",
    "baseline = list(agent_collection.keys())[0]\n",
    "\n",
    "costs, slippage = evaluate(\n",
    "    testdata=data,\n",
    "    agents=agent_collection,\n",
    "    baseline=baseline,\n",
    "    evaluate_actions=[2],\n",
    "    verbose=False,\n",
    ")\n",
    "slippage.to_csv('slippage_may_ForwardBT.csv')"
   ]
  },
  {
   "cell_type": "code",
   "execution_count": null,
   "metadata": {
    "collapsed": true
   },
   "outputs": [],
   "source": [
    "columns = [\n",
    "       'QTable_1611_T4_I8_VolTime_center_orig_disc3',\n",
    "       'QTable_1611_T4_I8_VolTime_center_orig_disc5',\n",
    "       'QTable_1611_T4_I8_VolTime_center_orig_disc9',\n",
    "#       'QTable_1611_T4_I8_VolTime_marketPrice_buy_worst',\n",
    "       'QTable_1611_T4_I8_VolTime_marketPrice_buy_worst_disc3',\n",
    "       'QTable_1611_T4_I8_VolTime_marketPrice_buy_worst_disc5',\n",
    "       'QTable_1611_T4_I8_VolTime_marketPrice_buy_worst_disc9',\n",
    "       'QTable_1611_T4_I8_VolTime_marketPrice_sell_worst_disc3',\n",
    "       'QTable_1611_T4_I8_VolTime_marketPrice_sell_worst_disc5',\n",
    "       'QTable_1611_T4_I8_VolTime_marketPrice_sell_worst_disc9',\n",
    "#       'QTable_1611_T4_I8_VolTime_marketPrice_spread',\n",
    "       'QTable_1611_T4_I8_VolTime_marketPrice_spread_disc3',\n",
    "       'QTable_1611_T4_I8_VolTime_marketPrice_spread_disc5',\n",
    "       'QTable_1611_T4_I8_VolTime_marketPrice_spread_disc9',\n",
    "       'QTable_1611_T4_I8_VolTime_maxSlip_imbalance_disc3',\n",
    "       'QTable_1611_T4_I8_VolTime_maxSlip_imbalance_disc5',\n",
    "       'QTable_1611_T4_I8_VolTime_maxSlip_imbalance_disc9',\n",
    "       'QTable_1611_T4_I8_VolTime_sharecount_buy_disc3',\n",
    "       'QTable_1611_T4_I8_VolTime_sharecount_buy_disc5',\n",
    "       'QTable_1611_T4_I8_VolTime_sharecount_buy_disc9',\n",
    "       'QTable_1611_T4_I8_VolTime_sharecount_imbalance_disc3',\n",
    "       'QTable_1611_T4_I8_VolTime_sharecount_imbalance_disc5',\n",
    "       'QTable_1611_T4_I8_VolTime_sharecount_imbalance_disc9',\n",
    "       'QTable_1611_T4_I8_VolTime_sharecount_sell_disc3',\n",
    "       'QTable_1611_T4_I8_VolTime_sharecount_sell_disc5',\n",
    "       'QTable_1611_T4_I8_VolTime_sharecount_sell_disc9',\n",
    "       'QTable_1611_T4_I8_VolTime_sharecount_spread_disc3',\n",
    "       'QTable_1611_T4_I8_VolTime_sharecount_spread_disc5',\n",
    "       'QTable_1611_T4_I8_VolTime_sharecount_spread_disc9',\n",
    "#       'QTable_1611_T4_I8_VolTime_spread',\n",
    "       'QTable_1611_T4_I8_VolTime_spread_disc3',\n",
    "       'QTable_1611_T4_I8_VolTime_spread_disc5',\n",
    "       'QTable_1611_T4_I8_VolTime_spread_disc9', \n",
    "        'QTable_1611_T4_I8_VolTime_ob_direction_disc3',\n",
    "       'QTable_1611_T4_I8_VolTime_ob_direction_disc5',\n",
    "       'QTable_1611_T4_I8_VolTime_ob_direction_disc9',\n",
    "#        'QTable_1611_T4_I8_VolTime_future_center5_disc3',\n",
    "#        'QTable_1611_T4_I8_VolTime_future_center5_disc5',\n",
    "# #       'QTable_1611_T4_I8_VolTime_future_center5_disc9',\n",
    "#         'QTable_1611_T4_I8_VolTime_future_center15_disc3',\n",
    "#        'QTable_1611_T4_I8_VolTime_future_center15_disc5',\n",
    "#        'QTable_1611_T4_I8_VolTime_future_center15_disc9',\n",
    "#        'QTable_1611_T4_I8_VolTime_future_center60_disc3',\n",
    "#        'QTable_1611_T4_I8_VolTime_future_center60_disc5',\n",
    "#        'QTable_1611_T4_I8_VolTime_future_center60_disc9',\n",
    "#    'VolTime_fixed'\n",
    "]\n",
    "\n",
    "#columns = [c for c in columns if 'disc5' in c] \n",
    "for i in range(len(columns)):\n",
    "    if 'QTable_1611' in columns[i]:\n",
    "         columns[i] = \"QTable_1611-1704\" + columns[i][11:]\n",
    "display(columns)\n",
    "#columns.remove('QTable_1611-1704_T4_I8_VolTime_ob_direction_disc3')\n",
    "# columns.remove('QTable_1611-1704_T4_I8_VolTime_ob_direction_disc3')\n",
    "#columns.remove('QTable_1611-1704_T4_I8_VolTime_ob_direction_disc9')"
   ]
  },
  {
   "cell_type": "code",
   "execution_count": null,
   "metadata": {
    "collapsed": true
   },
   "outputs": [],
   "source": [
    "agent_collection['BT_Agent_samples36973'].state_variables"
   ]
  },
  {
   "cell_type": "code",
   "execution_count": null,
   "metadata": {
    "collapsed": true
   },
   "outputs": [],
   "source": [
    "slippage.plot()"
   ]
  },
  {
   "cell_type": "code",
   "execution_count": null,
   "metadata": {
    "collapsed": true
   },
   "outputs": [],
   "source": [
    "slippage.columns"
   ]
  },
  {
   "cell_type": "code",
   "execution_count": 9,
   "metadata": {},
   "outputs": [
    {
     "data": {
      "text/plain": [
       "Index(['BT_Agent_shuffle_samples25078', 'BT_Agent_shuffle_samples43334',\n",
       "       'BT_Agent_shuffle_samples61103', 'BT_Agent_shuffle_samples79809',\n",
       "       'BT_Agent_shuffle_samples97615', 'BT_Agent_shuffle_samples116008',\n",
       "       'BT_Agent_shuffle_samples134011', 'BT_Agent_shuffle_samples152352',\n",
       "       'BT_Agent_shuffle_samples170605', 'BT_Agent_shuffle_samples188224',\n",
       "       'BT_Agent_shuffle_samples206409', 'BT_Agent_shuffle_samples224083',\n",
       "       'BT_Agent_shuffle_samples242342'],\n",
       "      dtype='object')"
      ]
     },
     "execution_count": 9,
     "metadata": {},
     "output_type": "execute_result"
    }
   ],
   "source": [
    "slippage.columns[:-4]"
   ]
  },
  {
   "cell_type": "code",
   "execution_count": null,
   "metadata": {
    "collapsed": true
   },
   "outputs": [],
   "source": []
  },
  {
   "cell_type": "code",
   "execution_count": 189,
   "metadata": {
    "scrolled": false
   },
   "outputs": [
    {
     "ename": "ValueError",
     "evalue": "cannot insert 2, already exists",
     "output_type": "error",
     "traceback": [
      "\u001b[0;31m---------------------------------------------------------------------------\u001b[0m",
      "\u001b[0;31mValueError\u001b[0m                                Traceback (most recent call last)",
      "\u001b[0;32m<ipython-input-189-0f12b8911cf2>\u001b[0m in \u001b[0;36m<module>\u001b[0;34m()\u001b[0m\n\u001b[1;32m     27\u001b[0m \u001b[0mslippage\u001b[0m\u001b[0;34m.\u001b[0m\u001b[0minsert\u001b[0m\u001b[0;34m(\u001b[0m\u001b[0mslippage\u001b[0m\u001b[0;34m.\u001b[0m\u001b[0mshape\u001b[0m\u001b[0;34m[\u001b[0m\u001b[0;36m1\u001b[0m\u001b[0;34m]\u001b[0m\u001b[0;34m,\u001b[0m \u001b[0;34m'VolTime'\u001b[0m\u001b[0;34m,\u001b[0m \u001b[0mtmp\u001b[0m\u001b[0;34m[\u001b[0m\u001b[0;34m'VolTime'\u001b[0m\u001b[0;34m]\u001b[0m\u001b[0;34m)\u001b[0m\u001b[0;34m\u001b[0m\u001b[0m\n\u001b[1;32m     28\u001b[0m \u001b[0;31m#del(slippage['2'])\u001b[0m\u001b[0;34m\u001b[0m\u001b[0;34m\u001b[0m\u001b[0m\n\u001b[0;32m---> 29\u001b[0;31m \u001b[0mslippage\u001b[0m\u001b[0;34m.\u001b[0m\u001b[0minsert\u001b[0m\u001b[0;34m(\u001b[0m\u001b[0mslippage\u001b[0m\u001b[0;34m.\u001b[0m\u001b[0mshape\u001b[0m\u001b[0;34m[\u001b[0m\u001b[0;36m1\u001b[0m\u001b[0;34m]\u001b[0m\u001b[0;34m,\u001b[0m \u001b[0;34m'2'\u001b[0m\u001b[0;34m,\u001b[0m \u001b[0mtmp\u001b[0m\u001b[0;34m[\u001b[0m\u001b[0;34m'2'\u001b[0m\u001b[0;34m]\u001b[0m\u001b[0;34m)\u001b[0m\u001b[0;34m\u001b[0m\u001b[0m\n\u001b[0m\u001b[1;32m     30\u001b[0m \u001b[0mslippage\u001b[0m\u001b[0;34m.\u001b[0m\u001b[0minsert\u001b[0m\u001b[0;34m(\u001b[0m\u001b[0mslippage\u001b[0m\u001b[0;34m.\u001b[0m\u001b[0mshape\u001b[0m\u001b[0;34m[\u001b[0m\u001b[0;36m1\u001b[0m\u001b[0;34m]\u001b[0m\u001b[0;34m,\u001b[0m \u001b[0;34m'4'\u001b[0m\u001b[0;34m,\u001b[0m \u001b[0mtmp\u001b[0m\u001b[0;34m[\u001b[0m\u001b[0;34m'4'\u001b[0m\u001b[0;34m]\u001b[0m\u001b[0;34m)\u001b[0m\u001b[0;34m\u001b[0m\u001b[0m\n\u001b[1;32m     31\u001b[0m \u001b[0mslippage\u001b[0m\u001b[0;34m.\u001b[0m\u001b[0minsert\u001b[0m\u001b[0;34m(\u001b[0m\u001b[0mslippage\u001b[0m\u001b[0;34m.\u001b[0m\u001b[0mshape\u001b[0m\u001b[0;34m[\u001b[0m\u001b[0;36m1\u001b[0m\u001b[0;34m]\u001b[0m\u001b[0;34m,\u001b[0m \u001b[0;34m'MarketOrder'\u001b[0m\u001b[0;34m,\u001b[0m \u001b[0mtmp\u001b[0m\u001b[0;34m[\u001b[0m\u001b[0;34m'MarketOrder'\u001b[0m\u001b[0;34m]\u001b[0m\u001b[0;34m)\u001b[0m\u001b[0;34m\u001b[0m\u001b[0m\n",
      "\u001b[0;32m~/anaconda3/lib/python3.6/site-packages/pandas/core/frame.py\u001b[0m in \u001b[0;36minsert\u001b[0;34m(self, loc, column, value, allow_duplicates)\u001b[0m\n\u001b[1;32m   2509\u001b[0m         \u001b[0mvalue\u001b[0m \u001b[0;34m=\u001b[0m \u001b[0mself\u001b[0m\u001b[0;34m.\u001b[0m\u001b[0m_sanitize_column\u001b[0m\u001b[0;34m(\u001b[0m\u001b[0mcolumn\u001b[0m\u001b[0;34m,\u001b[0m \u001b[0mvalue\u001b[0m\u001b[0;34m,\u001b[0m \u001b[0mbroadcast\u001b[0m\u001b[0;34m=\u001b[0m\u001b[0;32mFalse\u001b[0m\u001b[0;34m)\u001b[0m\u001b[0;34m\u001b[0m\u001b[0m\n\u001b[1;32m   2510\u001b[0m         self._data.insert(loc, column, value,\n\u001b[0;32m-> 2511\u001b[0;31m                           allow_duplicates=allow_duplicates)\n\u001b[0m\u001b[1;32m   2512\u001b[0m \u001b[0;34m\u001b[0m\u001b[0m\n\u001b[1;32m   2513\u001b[0m     \u001b[0;32mdef\u001b[0m \u001b[0massign\u001b[0m\u001b[0;34m(\u001b[0m\u001b[0mself\u001b[0m\u001b[0;34m,\u001b[0m \u001b[0;34m**\u001b[0m\u001b[0mkwargs\u001b[0m\u001b[0;34m)\u001b[0m\u001b[0;34m:\u001b[0m\u001b[0;34m\u001b[0m\u001b[0m\n",
      "\u001b[0;32m~/anaconda3/lib/python3.6/site-packages/pandas/core/internals.py\u001b[0m in \u001b[0;36minsert\u001b[0;34m(self, loc, item, value, allow_duplicates)\u001b[0m\n\u001b[1;32m   3761\u001b[0m         \u001b[0;32mif\u001b[0m \u001b[0;32mnot\u001b[0m \u001b[0mallow_duplicates\u001b[0m \u001b[0;32mand\u001b[0m \u001b[0mitem\u001b[0m \u001b[0;32min\u001b[0m \u001b[0mself\u001b[0m\u001b[0;34m.\u001b[0m\u001b[0mitems\u001b[0m\u001b[0;34m:\u001b[0m\u001b[0;34m\u001b[0m\u001b[0m\n\u001b[1;32m   3762\u001b[0m             \u001b[0;31m# Should this be a different kind of error??\u001b[0m\u001b[0;34m\u001b[0m\u001b[0;34m\u001b[0m\u001b[0m\n\u001b[0;32m-> 3763\u001b[0;31m             \u001b[0;32mraise\u001b[0m \u001b[0mValueError\u001b[0m\u001b[0;34m(\u001b[0m\u001b[0;34m'cannot insert %s, already exists'\u001b[0m \u001b[0;34m%\u001b[0m \u001b[0mitem\u001b[0m\u001b[0;34m)\u001b[0m\u001b[0;34m\u001b[0m\u001b[0m\n\u001b[0m\u001b[1;32m   3764\u001b[0m \u001b[0;34m\u001b[0m\u001b[0m\n\u001b[1;32m   3765\u001b[0m         \u001b[0;32mif\u001b[0m \u001b[0;32mnot\u001b[0m \u001b[0misinstance\u001b[0m\u001b[0;34m(\u001b[0m\u001b[0mloc\u001b[0m\u001b[0;34m,\u001b[0m \u001b[0mint\u001b[0m\u001b[0;34m)\u001b[0m\u001b[0;34m:\u001b[0m\u001b[0;34m\u001b[0m\u001b[0m\n",
      "\u001b[0;31mValueError\u001b[0m: cannot insert 2, already exists"
     ]
    }
   ],
   "source": [
    "slippage = pd.read_csv('slippage_may_BT_shuffle.csv', index_col=0)  # slippage_may_manyVars3Bins, slippage_may_manyVars3Bins_fixedMarketVar\n",
    "slippage = slippage[[\n",
    "    'BT_Agent_shuffle_samples25078', \n",
    "    'BT_Agent_shuffle_samples43334',\n",
    "    'BT_Agent_shuffle_samples61103', \n",
    "    'BT_Agent_shuffle_samples79809',\n",
    "    'BT_Agent_shuffle_samples97615',\n",
    "    'BT_Agent_shuffle_samples116008', \n",
    "    'BT_Agent_shuffle_samples134011',\n",
    "    'BT_Agent_shuffle_samples152352', \n",
    "    'BT_Agent_shuffle_samples170605',\n",
    "    'BT_Agent_shuffle_samples188224', \n",
    "    'BT_Agent_shuffle_samples206409',\n",
    "    'BT_Agent_shuffle_samples224083', \n",
    "    'BT_Agent_shuffle_samples242342',\n",
    "    'BT_Agent_shuffle_samples261018',\n",
    "    'BT_Agent_shuffle_samples279347', \n",
    "    'BT_Agent_shuffle_samples298020',\n",
    "    'BT_Agent_shuffle_samples304406',\n",
    "]]\n",
    "#slippage = slippage[columns]\n",
    "tmp = pd.read_csv('slippage_may_BT36973apr.csv', index_col=0)\n",
    "slippage.insert(slippage.shape[1], 'BT_Agent_samples36973', tmp['BT_Agent_samples36973'])\n",
    "\n",
    "tmp = pd.read_csv('Thesis_Experiments/actions_slippage_may.csv', index_col=0)\n",
    "slippage.insert(slippage.shape[1], 'VolTime', tmp['VolTime'])\n",
    "#del(slippage['2'])\n",
    "slippage.insert(slippage.shape[1], '2', tmp['2'])\n",
    "slippage.insert(slippage.shape[1], '4', tmp['4'])\n",
    "slippage.insert(slippage.shape[1], 'MarketOrder', tmp['MarketOrder'])\n",
    "\n",
    "\n",
    "\n",
    "#print([slippage.columns[:2] + c[31:] for c in slippage.columns[2:]] + list(slippage.columns[-4:]))\n",
    "#slippage.columns = [c[31:] for c in slippage.columns[:-4]] + list(slippage.columns[-4:])\n",
    "\n",
    "plot_evaluation_costs(slippage.iloc[:,:], hline=\"VolTime\", showfliers=False, ylim=(0,350), verbose=True)"
   ]
  },
  {
   "cell_type": "code",
   "execution_count": null,
   "metadata": {
    "collapsed": true
   },
   "outputs": [],
   "source": [
    "len(data_may)"
   ]
  },
  {
   "cell_type": "code",
   "execution_count": null,
   "metadata": {
    "collapsed": true
   },
   "outputs": [],
   "source": [
    "slippage['2']"
   ]
  },
  {
   "cell_type": "code",
   "execution_count": null,
   "metadata": {
    "collapsed": true
   },
   "outputs": [],
   "source": [
    "slippage = pd.read_csv('slippage_apr_manyVars3Bins.csv', index_col=0)\n",
    "tmp = pd.read_csv('Thesis_Experiments/actions_slippage_apr.csv', index_col=0)\n",
    "slippage.insert(0, 'VolTime', tmp['VolTime'])\n",
    "slippage.insert(slippage.shape[1], 'MarketOrder', tmp['MarketOrder'])\n",
    "display(slippage.head())\n",
    "plot_evaluation_costs(slippage, hline=\"VolTime\", showfliers=False, ylim=(0,250))"
   ]
  },
  {
   "cell_type": "code",
   "execution_count": null,
   "metadata": {
    "collapsed": true,
    "scrolled": false
   },
   "outputs": [],
   "source": [
    "plot_episode(data_dec[62], limits=[765.527563, 767.819562, 769.347561, 770.875560], consume='volume', volume=100)\n",
    "#plot_episode(data_dec[62], limits=[765.527563, 767.819562, 769.347561, 770.875560], consume='cash', volume=70000)"
   ]
  },
  {
   "cell_type": "markdown",
   "metadata": {},
   "source": [
    "## Check for best S&L Strategy over training data (Nov16-Jan17)"
   ]
  },
  {
   "cell_type": "code",
   "execution_count": null,
   "metadata": {
    "collapsed": true,
    "scrolled": false
   },
   "outputs": [],
   "source": [
    "costs_list_train = pd.concat([\n",
    "    pd.read_csv(\"../Runs/evaluation/Evaluation_obs_TRAINSET_2016-11_USDT_BTC.csv\", index_col=0),\n",
    "    pd.read_csv(\"../Runs/evaluation/Evaluation_obs_TRAINSET_2016-12_USDT_BTC.csv\", index_col=0),\n",
    "    pd.read_csv(\"../Runs/evaluation/Evaluation_obs_TRAINSET_2017-01_USDT_BTC.csv\", index_col=0)])\n",
    "\n",
    "plot_experiment_results(costs_list_train, name='Trainset (USDT-BTC)', ylim=(-1.5, 1.5))\n",
    "\n",
    "mean = costs_list_train.mean()\n",
    "print(\"Minimal costs reached by S&L strategy: '{}': {:1.4f}\".format(mean.argmin(), mean.min()))"
   ]
  },
  {
   "cell_type": "markdown",
   "metadata": {},
   "source": [
    "### Compare strategies on Testset (Feb2017)"
   ]
  },
  {
   "cell_type": "code",
   "execution_count": null,
   "metadata": {
    "collapsed": true
   },
   "outputs": [],
   "source": [
    "T = ql.T\n",
    "V = ql.V\n",
    "period_length = ql.period_length\n",
    "print(\"V={}, T={}, period_length={}\".format(V, T, period_length))\n",
    "\n",
    "costs_list = run_Q(V=100, H=T*period_length, T=T, ql=ql,\n",
    "                   episode_windows=episodes_test[:5], actions=actions)"
   ]
  },
  {
   "cell_type": "code",
   "execution_count": null,
   "metadata": {
    "collapsed": true
   },
   "outputs": [],
   "source": [
    "plot_experiment_results(costs_list, name='Trainset (USDT-BTC)')  #, ylim=(-1.5, 1.5))\n",
    "mean = costs_list_train.mean()\n",
    "print(\"Minimal costs reached by S&L strategy: '{}': {:1.4f}\".format(mean.argmin(), mean.min()))"
   ]
  },
  {
   "cell_type": "code",
   "execution_count": 187,
   "metadata": {},
   "outputs": [
    {
     "name": "stdout",
     "output_type": "stream",
     "text": [
      "Float64Index([116008.0, 134011.0, 152352.0, 170605.0, 188224.0, 206409.0,\n",
      "              224083.0, 242342.0,  25078.0, 261018.0, 279347.0, 298020.0,\n",
      "              304406.0,  43334.0,  61103.0,  79809.0,  97615.0],\n",
      "             dtype='float64')\n"
     ]
    },
    {
     "data": {
      "image/png": "[encoded data removed]",
      "text/plain": [
       "<matplotlib.figure.Figure at 0x7f608f75fa90>"
      ]
     },
     "metadata": {},
     "output_type": "display_data"
    }
   ],
   "source": [
    "slippage = pd.read_csv('slippage_may_BT_shuffle.csv', index_col=0)\n",
    "slippage = slippage.iloc[:,:17]\n",
    "slippage.columns = [col[24:] for col in slippage.columns]\n",
    "slippage.columns = [float(col) for col in slippage.columns[:]]\n",
    "print(slippage.columns)\n",
    "slippage = slippage[[25078, 43334, 61103, 79809, 97615, 116008, 134011, 152352, 170605, 188224, 206409, 224083, 242342, 261018, 279347, 298020]].iloc[:640,:]\n",
    "\n",
    "\n",
    "f,(ax1,ax2) = plt.subplots(2,1,sharex=True, facecolor='w', gridspec_kw = {'height_ratios':[1, 5]})\n",
    "slippage.mean().plot(rot=30, label='BT-Forward-Agent', color='black')\n",
    "plt.ylabel(\"average slippage\")\n",
    "plt.xlabel(\"transition samples\")\n",
    "\n",
    "ax1.axhline(277.49, alpha=0.5, linestyle='--', color='black')\n",
    "ax2.axhline(154.9 , alpha=1,  color='green')\n",
    "ax2.axhline(150.63, alpha=0.5, linestyle='--', color='magenta')\n",
    "ax2.axhline(147.86, alpha=0.5, linestyle='--', color='blue')\n",
    "ax2.axhline(143.24, alpha=0.5, linestyle='--', color='purple')\n",
    "ax2.axhline(139.87, alpha=0.5, linestyle='--', color='red')\n",
    "ax2.axhline(147.41, alpha=0.5, linestyle='--', color='orange')\n",
    "ax2.axhline(137.23, alpha=0.5, linestyle='--', color='black')\n",
    "\n",
    "offset = 228000\n",
    "ax2.text(s=\"baseline: S&L '2'\", x=offset, y=155.2)\n",
    "ax2.text(s=\"0.00%\", x=300000, y=155.2)\n",
    "ax2.text(s=\"VolTime\", x=offset, y=151)\n",
    "ax2.text(s=\"-2.76%\", x=300000, y=151)\n",
    "ax2.text(s=\"VolTime_simTrades\", x=offset, y=148.2)\n",
    "ax2.text(s=\"-4.55%\", x=300000, y=148.2)\n",
    "ax2.text(s=\"BT_VolTime_a*\", x=offset, y=143.8)\n",
    "ax2.text(s=\"-7.53%\", x=300000, y=143.8)\n",
    "\n",
    "ax2.text(s=\"VolTimeSpread_disc3\", x=offset, y=146.2)\n",
    "ax2.text(s=\"-4.84%\", x=300000, y=146.2)\n",
    "\n",
    "ax2.text(s=\"VolTimeSpread_disc5  _    simTrades\", x=145000, y=140.3)\n",
    "ax2.text(s=\"-9.70%\", x=300000, y=140.3)\n",
    "\n",
    "ax1.text(s=\"baseline: MarketOrder\", x=offset, y=278)\n",
    "ax1.text(s=\"+79.14%\", x=300000, y=278)\n",
    "ax2.text(s=\"BT-Forward\", x=258000, y=135.5)\n",
    "ax2.text(s=\"-11.41%\", x=300000, y=137.5)\n",
    "plt.legend()\n",
    "\n",
    "ax1.set_ylim((275, 280))\n",
    "# hide the spines between ax and ax2\n",
    "#ax1.spines['right'].set_visible(False)\n",
    "#ax2.spines['left'].set_visible(False)\n",
    "#ax1.yaxis.tick_left()\n",
    "#ax1.tick_params(labelright='off')\n",
    "#ax2.yaxis.tick_right()\n",
    "\n",
    "d = .01 # how big to make the diagonal lines in axes coordinates\n",
    "# arguments to pass plot, just so we don't keep repeating them\n",
    "kwargs = dict(transform=ax2.transAxes, color='k', clip_on=False)\n",
    "#ax2.plot((-d,+d), (-d,+d), **kwargs)\n",
    "ax2.plot((-d,+d),(1-d,1+d), **kwargs)\n",
    "\n",
    "kwargs.update(transform=ax1.transAxes)  # switch to the bottom axes\n",
    "#ax1.plot((-d,+d), (1-d,1+d), **kwargs)\n",
    "ax1.plot((-d,+d), (-4.3*d,+4.3*d), **kwargs)\n",
    "#plt.title(\"x\")\n",
    "f.suptitle(\"Performance over test period\")\n",
    "plt.subplots_adjust(hspace = .05)\n",
    "plt.tight_layout()\n",
    "ax1.set_yticklabels([\"\", 277.5])\n",
    "plt.subplots_adjust(top=0.93)\n",
    "plt.subplots_adjust(right=0.89)\n",
    "plt.savefig(\"BT_Forward_Performance.pdf\")\n",
    "plt.show()"
   ]
  },
  {
   "cell_type": "markdown",
   "metadata": {
    "collapsed": true
   },
   "source": [
    "### USDT ETH"
   ]
  },
  {
   "cell_type": "code",
   "execution_count": 272,
   "metadata": {},
   "outputs": [
    {
     "name": "stdout",
     "output_type": "stream",
     "text": [
      "7\n"
     ]
    },
    {
     "data": {
      "text/html": [
       "<div>\n",
       "<table border=\"1\" class=\"dataframe\">\n",
       "  <thead>\n",
       "    <tr style=\"text-align: right;\">\n",
       "      <th></th>\n",
       "      <th>slippage</th>\n",
       "      <th>med</th>\n",
       "      <th>std</th>\n",
       "      <th>perf_5</th>\n",
       "      <th>perf_7</th>\n",
       "      <th>perf_M</th>\n",
       "    </tr>\n",
       "  </thead>\n",
       "  <tbody>\n",
       "    <tr>\n",
       "      <th>5</th>\n",
       "      <td>696.97</td>\n",
       "      <td>351.39</td>\n",
       "      <td>1665.40</td>\n",
       "      <td>0.00%</td>\n",
       "      <td>9.20%</td>\n",
       "      <td>-63.44%</td>\n",
       "    </tr>\n",
       "    <tr>\n",
       "      <th>7</th>\n",
       "      <td>638.27</td>\n",
       "      <td>514.63</td>\n",
       "      <td>1064.03</td>\n",
       "      <td>-8.42%</td>\n",
       "      <td>0.00%</td>\n",
       "      <td>-66.52%</td>\n",
       "    </tr>\n",
       "    <tr>\n",
       "      <th>BT_Agent_shuffle_samples10629</th>\n",
       "      <td>767.54</td>\n",
       "      <td>32.03</td>\n",
       "      <td>2673.78</td>\n",
       "      <td>10.12%</td>\n",
       "      <td>20.25%</td>\n",
       "      <td>-59.74%</td>\n",
       "    </tr>\n",
       "    <tr>\n",
       "      <th>BT_Agent_shuffle_samples11996</th>\n",
       "      <td>756.17</td>\n",
       "      <td>47.65</td>\n",
       "      <td>2684.58</td>\n",
       "      <td>8.49%</td>\n",
       "      <td>18.47%</td>\n",
       "      <td>-60.34%</td>\n",
       "    </tr>\n",
       "    <tr>\n",
       "      <th>BT_Agent_shuffle_samples13340</th>\n",
       "      <td>776.87</td>\n",
       "      <td>17.70</td>\n",
       "      <td>2520.65</td>\n",
       "      <td>11.46%</td>\n",
       "      <td>21.72%</td>\n",
       "      <td>-59.25%</td>\n",
       "    </tr>\n",
       "    <tr>\n",
       "      <th>BT_Agent_shuffle_samples14764</th>\n",
       "      <td>715.06</td>\n",
       "      <td>101.64</td>\n",
       "      <td>2305.79</td>\n",
       "      <td>2.59%</td>\n",
       "      <td>12.03%</td>\n",
       "      <td>-62.49%</td>\n",
       "    </tr>\n",
       "    <tr>\n",
       "      <th>BT_Agent_shuffle_samples16233</th>\n",
       "      <td>745.87</td>\n",
       "      <td>25.10</td>\n",
       "      <td>2463.12</td>\n",
       "      <td>7.01%</td>\n",
       "      <td>16.86%</td>\n",
       "      <td>-60.88%</td>\n",
       "    </tr>\n",
       "    <tr>\n",
       "      <th>BT_Agent_shuffle_samples17775</th>\n",
       "      <td>785.54</td>\n",
       "      <td>74.09</td>\n",
       "      <td>2227.42</td>\n",
       "      <td>12.71%</td>\n",
       "      <td>23.07%</td>\n",
       "      <td>-58.80%</td>\n",
       "    </tr>\n",
       "    <tr>\n",
       "      <th>BT_Agent_shuffle_samples1908</th>\n",
       "      <td>1035.62</td>\n",
       "      <td>-125.20</td>\n",
       "      <td>3165.01</td>\n",
       "      <td>48.59%</td>\n",
       "      <td>62.26%</td>\n",
       "      <td>-45.68%</td>\n",
       "    </tr>\n",
       "    <tr>\n",
       "      <th>BT_Agent_shuffle_samples19245</th>\n",
       "      <td>744.78</td>\n",
       "      <td>10.63</td>\n",
       "      <td>2420.80</td>\n",
       "      <td>6.86%</td>\n",
       "      <td>16.69%</td>\n",
       "      <td>-60.93%</td>\n",
       "    </tr>\n",
       "    <tr>\n",
       "      <th>BT_Agent_shuffle_samples20613</th>\n",
       "      <td>734.88</td>\n",
       "      <td>59.09</td>\n",
       "      <td>2163.33</td>\n",
       "      <td>5.44%</td>\n",
       "      <td>15.14%</td>\n",
       "      <td>-61.45%</td>\n",
       "    </tr>\n",
       "    <tr>\n",
       "      <th>BT_Agent_shuffle_samples22131</th>\n",
       "      <td>768.19</td>\n",
       "      <td>45.58</td>\n",
       "      <td>2291.51</td>\n",
       "      <td>10.22%</td>\n",
       "      <td>20.36%</td>\n",
       "      <td>-59.71%</td>\n",
       "    </tr>\n",
       "    <tr>\n",
       "      <th>BT_Agent_shuffle_samples23510</th>\n",
       "      <td>840.10</td>\n",
       "      <td>59.98</td>\n",
       "      <td>2376.16</td>\n",
       "      <td>20.54%</td>\n",
       "      <td>31.62%</td>\n",
       "      <td>-55.93%</td>\n",
       "    </tr>\n",
       "    <tr>\n",
       "      <th>BT_Agent_shuffle_samples25240</th>\n",
       "      <td>717.07</td>\n",
       "      <td>106.94</td>\n",
       "      <td>2115.14</td>\n",
       "      <td>2.88%</td>\n",
       "      <td>12.35%</td>\n",
       "      <td>-62.39%</td>\n",
       "    </tr>\n",
       "    <tr>\n",
       "      <th>BT_Agent_shuffle_samples26439</th>\n",
       "      <td>751.94</td>\n",
       "      <td>36.37</td>\n",
       "      <td>2312.76</td>\n",
       "      <td>7.89%</td>\n",
       "      <td>17.81%</td>\n",
       "      <td>-60.56%</td>\n",
       "    </tr>\n",
       "    <tr>\n",
       "      <th>BT_Agent_shuffle_samples27934</th>\n",
       "      <td>755.40</td>\n",
       "      <td>72.73</td>\n",
       "      <td>2359.08</td>\n",
       "      <td>8.38%</td>\n",
       "      <td>18.35%</td>\n",
       "      <td>-60.38%</td>\n",
       "    </tr>\n",
       "    <tr>\n",
       "      <th>BT_Agent_shuffle_samples29462</th>\n",
       "      <td>745.86</td>\n",
       "      <td>53.70</td>\n",
       "      <td>2257.80</td>\n",
       "      <td>7.01%</td>\n",
       "      <td>16.86%</td>\n",
       "      <td>-60.88%</td>\n",
       "    </tr>\n",
       "    <tr>\n",
       "      <th>BT_Agent_shuffle_samples31002</th>\n",
       "      <td>766.59</td>\n",
       "      <td>141.11</td>\n",
       "      <td>2334.79</td>\n",
       "      <td>9.99%</td>\n",
       "      <td>20.10%</td>\n",
       "      <td>-59.79%</td>\n",
       "    </tr>\n",
       "    <tr>\n",
       "      <th>BT_Agent_shuffle_samples32336</th>\n",
       "      <td>746.15</td>\n",
       "      <td>97.40</td>\n",
       "      <td>2165.74</td>\n",
       "      <td>7.06%</td>\n",
       "      <td>16.90%</td>\n",
       "      <td>-60.86%</td>\n",
       "    </tr>\n",
       "    <tr>\n",
       "      <th>BT_Agent_shuffle_samples3318</th>\n",
       "      <td>756.88</td>\n",
       "      <td>37.61</td>\n",
       "      <td>2755.51</td>\n",
       "      <td>8.60%</td>\n",
       "      <td>18.58%</td>\n",
       "      <td>-60.30%</td>\n",
       "    </tr>\n",
       "    <tr>\n",
       "      <th>BT_Agent_shuffle_samples4884</th>\n",
       "      <td>696.46</td>\n",
       "      <td>35.05</td>\n",
       "      <td>2476.38</td>\n",
       "      <td>-0.07%</td>\n",
       "      <td>9.12%</td>\n",
       "      <td>-63.47%</td>\n",
       "    </tr>\n",
       "    <tr>\n",
       "      <th>BT_Agent_shuffle_samples6230</th>\n",
       "      <td>651.21</td>\n",
       "      <td>-254.58</td>\n",
       "      <td>2536.24</td>\n",
       "      <td>-6.57%</td>\n",
       "      <td>2.03%</td>\n",
       "      <td>-65.84%</td>\n",
       "    </tr>\n",
       "    <tr>\n",
       "      <th>BT_Agent_shuffle_samples7889</th>\n",
       "      <td>705.71</td>\n",
       "      <td>37.61</td>\n",
       "      <td>2251.69</td>\n",
       "      <td>1.25%</td>\n",
       "      <td>10.57%</td>\n",
       "      <td>-62.98%</td>\n",
       "    </tr>\n",
       "    <tr>\n",
       "      <th>BT_Agent_shuffle_samples9280</th>\n",
       "      <td>671.37</td>\n",
       "      <td>37.61</td>\n",
       "      <td>2294.50</td>\n",
       "      <td>-3.67%</td>\n",
       "      <td>5.19%</td>\n",
       "      <td>-64.78%</td>\n",
       "    </tr>\n",
       "    <tr>\n",
       "      <th>MarketOrder</th>\n",
       "      <td>1906.48</td>\n",
       "      <td>1761.98</td>\n",
       "      <td>949.43</td>\n",
       "      <td>173.54%</td>\n",
       "      <td>198.70%</td>\n",
       "      <td>0.00%</td>\n",
       "    </tr>\n",
       "  </tbody>\n",
       "</table>\n",
       "</div>"
      ],
      "text/plain": [
       "                               slippage      med      std   perf_5   perf_7  \\\n",
       "5                                696.97   351.39  1665.40    0.00%    9.20%   \n",
       "7                                638.27   514.63  1064.03   -8.42%    0.00%   \n",
       "BT_Agent_shuffle_samples10629    767.54    32.03  2673.78   10.12%   20.25%   \n",
       "BT_Agent_shuffle_samples11996    756.17    47.65  2684.58    8.49%   18.47%   \n",
       "BT_Agent_shuffle_samples13340    776.87    17.70  2520.65   11.46%   21.72%   \n",
       "BT_Agent_shuffle_samples14764    715.06   101.64  2305.79    2.59%   12.03%   \n",
       "BT_Agent_shuffle_samples16233    745.87    25.10  2463.12    7.01%   16.86%   \n",
       "BT_Agent_shuffle_samples17775    785.54    74.09  2227.42   12.71%   23.07%   \n",
       "BT_Agent_shuffle_samples1908    1035.62  -125.20  3165.01   48.59%   62.26%   \n",
       "BT_Agent_shuffle_samples19245    744.78    10.63  2420.80    6.86%   16.69%   \n",
       "BT_Agent_shuffle_samples20613    734.88    59.09  2163.33    5.44%   15.14%   \n",
       "BT_Agent_shuffle_samples22131    768.19    45.58  2291.51   10.22%   20.36%   \n",
       "BT_Agent_shuffle_samples23510    840.10    59.98  2376.16   20.54%   31.62%   \n",
       "BT_Agent_shuffle_samples25240    717.07   106.94  2115.14    2.88%   12.35%   \n",
       "BT_Agent_shuffle_samples26439    751.94    36.37  2312.76    7.89%   17.81%   \n",
       "BT_Agent_shuffle_samples27934    755.40    72.73  2359.08    8.38%   18.35%   \n",
       "BT_Agent_shuffle_samples29462    745.86    53.70  2257.80    7.01%   16.86%   \n",
       "BT_Agent_shuffle_samples31002    766.59   141.11  2334.79    9.99%   20.10%   \n",
       "BT_Agent_shuffle_samples32336    746.15    97.40  2165.74    7.06%   16.90%   \n",
       "BT_Agent_shuffle_samples3318     756.88    37.61  2755.51    8.60%   18.58%   \n",
       "BT_Agent_shuffle_samples4884     696.46    35.05  2476.38   -0.07%    9.12%   \n",
       "BT_Agent_shuffle_samples6230     651.21  -254.58  2536.24   -6.57%    2.03%   \n",
       "BT_Agent_shuffle_samples7889     705.71    37.61  2251.69    1.25%   10.57%   \n",
       "BT_Agent_shuffle_samples9280     671.37    37.61  2294.50   -3.67%    5.19%   \n",
       "MarketOrder                     1906.48  1761.98   949.43  173.54%  198.70%   \n",
       "\n",
       "                                perf_M  \n",
       "5                              -63.44%  \n",
       "7                              -66.52%  \n",
       "BT_Agent_shuffle_samples10629  -59.74%  \n",
       "BT_Agent_shuffle_samples11996  -60.34%  \n",
       "BT_Agent_shuffle_samples13340  -59.25%  \n",
       "BT_Agent_shuffle_samples14764  -62.49%  \n",
       "BT_Agent_shuffle_samples16233  -60.88%  \n",
       "BT_Agent_shuffle_samples17775  -58.80%  \n",
       "BT_Agent_shuffle_samples1908   -45.68%  \n",
       "BT_Agent_shuffle_samples19245  -60.93%  \n",
       "BT_Agent_shuffle_samples20613  -61.45%  \n",
       "BT_Agent_shuffle_samples22131  -59.71%  \n",
       "BT_Agent_shuffle_samples23510  -55.93%  \n",
       "BT_Agent_shuffle_samples25240  -62.39%  \n",
       "BT_Agent_shuffle_samples26439  -60.56%  \n",
       "BT_Agent_shuffle_samples27934  -60.38%  \n",
       "BT_Agent_shuffle_samples29462  -60.88%  \n",
       "BT_Agent_shuffle_samples31002  -59.79%  \n",
       "BT_Agent_shuffle_samples32336  -60.86%  \n",
       "BT_Agent_shuffle_samples3318   -60.30%  \n",
       "BT_Agent_shuffle_samples4884   -63.47%  \n",
       "BT_Agent_shuffle_samples6230   -65.84%  \n",
       "BT_Agent_shuffle_samples7889   -62.98%  \n",
       "BT_Agent_shuffle_samples9280   -64.78%  \n",
       "MarketOrder                      0.00%  "
      ]
     },
     "metadata": {},
     "output_type": "display_data"
    },
    {
     "name": "stdout",
     "output_type": "stream",
     "text": [
      "\\begin{tabular}{lrrrlll}\n",
      "\\toprule\n",
      "{} &  slippage &      med &      std &   perf\\_5 &   perf\\_7 &   perf\\_M \\\\\n",
      "\\midrule\n",
      "5                             &    696.97 &   351.39 &  1665.40 &    0.00\\% &    9.20\\% &  -63.44\\% \\\\\n",
      "7                             &    638.27 &   514.63 &  1064.03 &   -8.42\\% &    0.00\\% &  -66.52\\% \\\\\n",
      "BT\\_Agent\\_shuffle\\_samples10629 &    767.54 &    32.03 &  2673.78 &   10.12\\% &   20.25\\% &  -59.74\\% \\\\\n",
      "BT\\_Agent\\_shuffle\\_samples11996 &    756.17 &    47.65 &  2684.58 &    8.49\\% &   18.47\\% &  -60.34\\% \\\\\n",
      "BT\\_Agent\\_shuffle\\_samples13340 &    776.87 &    17.70 &  2520.65 &   11.46\\% &   21.72\\% &  -59.25\\% \\\\\n",
      "BT\\_Agent\\_shuffle\\_samples14764 &    715.06 &   101.64 &  2305.79 &    2.59\\% &   12.03\\% &  -62.49\\% \\\\\n",
      "BT\\_Agent\\_shuffle\\_samples16233 &    745.87 &    25.10 &  2463.12 &    7.01\\% &   16.86\\% &  -60.88\\% \\\\\n",
      "BT\\_Agent\\_shuffle\\_samples17775 &    785.54 &    74.09 &  2227.42 &   12.71\\% &   23.07\\% &  -58.80\\% \\\\\n",
      "BT\\_Agent\\_shuffle\\_samples1908  &   1035.62 &  -125.20 &  3165.01 &   48.59\\% &   62.26\\% &  -45.68\\% \\\\\n",
      "BT\\_Agent\\_shuffle\\_samples19245 &    744.78 &    10.63 &  2420.80 &    6.86\\% &   16.69\\% &  -60.93\\% \\\\\n",
      "BT\\_Agent\\_shuffle\\_samples20613 &    734.88 &    59.09 &  2163.33 &    5.44\\% &   15.14\\% &  -61.45\\% \\\\\n",
      "BT\\_Agent\\_shuffle\\_samples22131 &    768.19 &    45.58 &  2291.51 &   10.22\\% &   20.36\\% &  -59.71\\% \\\\\n",
      "BT\\_Agent\\_shuffle\\_samples23510 &    840.10 &    59.98 &  2376.16 &   20.54\\% &   31.62\\% &  -55.93\\% \\\\\n",
      "BT\\_Agent\\_shuffle\\_samples25240 &    717.07 &   106.94 &  2115.14 &    2.88\\% &   12.35\\% &  -62.39\\% \\\\\n",
      "BT\\_Agent\\_shuffle\\_samples26439 &    751.94 &    36.37 &  2312.76 &    7.89\\% &   17.81\\% &  -60.56\\% \\\\\n",
      "BT\\_Agent\\_shuffle\\_samples27934 &    755.40 &    72.73 &  2359.08 &    8.38\\% &   18.35\\% &  -60.38\\% \\\\\n",
      "BT\\_Agent\\_shuffle\\_samples29462 &    745.86 &    53.70 &  2257.80 &    7.01\\% &   16.86\\% &  -60.88\\% \\\\\n",
      "BT\\_Agent\\_shuffle\\_samples31002 &    766.59 &   141.11 &  2334.79 &    9.99\\% &   20.10\\% &  -59.79\\% \\\\\n",
      "BT\\_Agent\\_shuffle\\_samples32336 &    746.15 &    97.40 &  2165.74 &    7.06\\% &   16.90\\% &  -60.86\\% \\\\\n",
      "BT\\_Agent\\_shuffle\\_samples3318  &    756.88 &    37.61 &  2755.51 &    8.60\\% &   18.58\\% &  -60.30\\% \\\\\n",
      "BT\\_Agent\\_shuffle\\_samples4884  &    696.46 &    35.05 &  2476.38 &   -0.07\\% &    9.12\\% &  -63.47\\% \\\\\n",
      "BT\\_Agent\\_shuffle\\_samples6230  &    651.21 &  -254.58 &  2536.24 &   -6.57\\% &    2.03\\% &  -65.84\\% \\\\\n",
      "BT\\_Agent\\_shuffle\\_samples7889  &    705.71 &    37.61 &  2251.69 &    1.25\\% &   10.57\\% &  -62.98\\% \\\\\n",
      "BT\\_Agent\\_shuffle\\_samples9280  &    671.37 &    37.61 &  2294.50 &   -3.67\\% &    5.19\\% &  -64.78\\% \\\\\n",
      "MarketOrder                   &   1906.48 &  1761.98 &   949.43 &  173.54\\% &  198.70\\% &    0.00\\% \\\\\n",
      "\\bottomrule\n",
      "\\end{tabular}\n",
      "\n"
     ]
    },
    {
     "data": {
      "image/png": "[encoded data removed]",
      "text/plain": [
       "<matplotlib.figure.Figure at 0x7f608dc8ca90>"
      ]
     },
     "metadata": {},
     "output_type": "display_data"
    }
   ],
   "source": [
    "slippage = pd.read_csv('slippage_USDTETH_shuffle.csv', index_col=0)  # slippage_may_manyVars3Bins, slippage_may_manyVars3Bins_fixedMarketVar\n",
    "slippage = slippage[sorted(slippage.columns)]\n",
    "plot_evaluation_costs(slippage.iloc[:,:], hline=\"7\", showfliers=False, verbose=True, ylim=(-1500, 2200))"
   ]
  },
  {
   "cell_type": "code",
   "execution_count": 280,
   "metadata": {},
   "outputs": [
    {
     "name": "stdout",
     "output_type": "stream",
     "text": [
      "Float64Index([ 1908.0,  3318.0,  4884.0, 10629.0, 11996.0, 13340.0, 14764.0,\n",
      "              16233.0, 17775.0, 19245.0, 20613.0, 22131.0, 23510.0, 25240.0,\n",
      "              26439.0, 27934.0, 29462.0, 31002.0, 32336.0, 33695.0, 35006.0,\n",
      "              36347.0, 37802.0, 39540.0, 40814.0, 42219.0, 43679.0, 45103.0,\n",
      "              46465.0, 47957.0],\n",
      "             dtype='float64')\n"
     ]
    },
    {
     "data": {
      "image/png": "[encoded data removed]",
      "text/plain": [
       "<matplotlib.figure.Figure at 0x7f608fb7aa20>"
      ]
     },
     "metadata": {},
     "output_type": "display_data"
    }
   ],
   "source": [
    "slippage = pd.read_csv('slippage_USDTETH_shuffle.csv', index_col=0)\n",
    "slippage = slippage.iloc[:,:30]\n",
    "\n",
    "slippage.columns = [col[24:] for col in slippage.columns]\n",
    "slippage.columns = [float(col) for col in slippage.columns[:]]\n",
    "\n",
    "slippage = slippage[sorted(slippage.columns)]\n",
    "print(slippage.columns)\n",
    "\n",
    "f,(ax1,ax2) = plt.subplots(2,1,sharex=True, facecolor='w', gridspec_kw = {'height_ratios':[1, 5]})\n",
    "slippage.mean().plot(rot=30, label='BT-Forward-Agent', color='black')\n",
    "\n",
    "\n",
    "plt.ylabel(\"average slippage\")\n",
    "plt.xlabel(\"transition samples\")\n",
    "\n",
    "ax1.axhline(1906.48, alpha=0.5, linestyle='--', color='black')\n",
    "ax2.axhline(696.97 , alpha=1,  color='green')\n",
    "ax2.axhline(638.27, alpha=0.5, linestyle='--', color='magenta')\n",
    "# ax2.axhline(147.86, alpha=0.5, linestyle='--', color='blue')\n",
    "# ax2.axhline(143.24, alpha=0.5, linestyle='--', color='purple')\n",
    "# ax2.axhline(139.87, alpha=0.5, linestyle='--', color='red')\n",
    "# ax2.axhline(147.41, alpha=0.5, linestyle='--', color='orange')\n",
    "# ax2.axhline(137.23, alpha=0.5, linestyle='--', color='black')\n",
    "# \n",
    "offset = 25000\n",
    "offset2 = 33000\n",
    "ax2.text(s=\"baseline: S&L '5'\", x=offset, y=705)\n",
    "ax2.text(s=\"+9.20%\", x=offset2, y=705)\n",
    "ax2.text(s=\"baseline: S&L '7'\", x=offset, y=647)\n",
    "ax2.text(s=\"0.00%\", x=offset2, y=647)\n",
    "\n",
    "ax1.text(s=\"baseline: MarketOrder\", x=offset, y=1906)\n",
    "ax1.text(s=\"+198.7%\", x=offset2, y=1906)\n",
    "# ax2.text(s=\"BT-Forward\", x=258000, y=135.5)\n",
    "# ax2.text(s=\"-11.41%\", x=300000, y=137.5)\n",
    "plt.legend()\n",
    "\n",
    "ax1.set_ylim((1905, 1907))\n",
    "\n",
    "d = .01 # how big to make the diagonal lines in axes coordinates\n",
    "# arguments to pass plot, just so we don't keep repeating them\n",
    "kwargs = dict(transform=ax2.transAxes, color='k', clip_on=False)\n",
    "#ax2.plot((-d,+d), (-d,+d), **kwargs)\n",
    "ax2.plot((-d,+d),(1-d,1+d), **kwargs)\n",
    "\n",
    "kwargs.update(transform=ax1.transAxes)  # switch to the bottom axes\n",
    "#ax1.plot((-d,+d), (1-d,1+d), **kwargs)\n",
    "ax1.plot((-d,+d), (-4.3*d,+4.3*d), **kwargs)\n",
    "#plt.title(\"x\")\n",
    "f.suptitle(\"Performance over test period\")\n",
    "plt.subplots_adjust(hspace = .05)\n",
    "\n",
    "ax1.set_yticklabels([\"\", 1906, 1907])\n",
    "plt.subplots_adjust(top=0.93)\n",
    "plt.subplots_adjust(right=0.89)\n",
    "plt.savefig(\"BT_Forward_Performance_USDTETH.pdf\")\n",
    "plt.show()"
   ]
  },
  {
   "cell_type": "code",
   "execution_count": null,
   "metadata": {
    "collapsed": true
   },
   "outputs": [],
   "source": []
  }
 ],
 "metadata": {
  "kernelspec": {
   "display_name": "Python 3",
   "language": "python",
   "name": "python3"
  },
  "language_info": {
   "codemirror_mode": {
    "name": "ipython",
    "version": 3
   },
   "file_extension": ".py",
   "mimetype": "text/x-python",
   "name": "python",
   "nbconvert_exporter": "python",
   "pygments_lexer": "ipython3",
   "version": "3.6.0"
  }
 },
 "nbformat": 4,
 "nbformat_minor": 1
}
