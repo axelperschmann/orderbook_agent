{
 "cells": [
  {
   "cell_type": "code",
   "execution_count": 1,
   "metadata": {
    "collapsed": true
   },
   "outputs": [],
   "source": [
    "%load_ext autoreload\n",
    "%autoreload 2\n",
    "import os,sys,inspect\n",
    "currentdir = os.path.dirname(os.path.abspath(inspect.getfile(inspect.currentframe())))\n",
    "parentdir = os.path.dirname(currentdir)\n",
    "sys.path.insert(0,parentdir) \n",
    "\n",
    "import pandas as pd\n",
    "import numpy as np\n",
    "from IPython.display import display\n",
    "%matplotlib inline"
   ]
  },
  {
   "cell_type": "code",
   "execution_count": 2,
   "metadata": {
    "collapsed": true
   },
   "outputs": [],
   "source": [
    "from helper.orderbook_container import OrderbookContainer"
   ]
  },
  {
   "cell_type": "markdown",
   "metadata": {},
   "source": [
    "Suppose you have 3000\\$ which you decide you want to invest in AIWC\\footnote{Acme Internet Widget Company}.\\\\\n",
    "You are willing to pay up to 30\\$ per share, preferably less.\n",
    "\n",
    "Place a limit order: BUY 100 AIWC @ 30\\$ (also called a \\emph{bid})\\\\\n",
    "Your order will sit around in the market until you get your 100 shares.\n",
    "\n",
    "Other persons are bidding too: One is bidding 31\\$/share for 200 shares, while another is bidding 29\\$/share for 300 shares.\n",
    "\n",
    " \\begin{lstlisting}[frame=single, breaklines=true, basicstyle=\\footnotesize]\n",
    "\"bids\":[[\"31\"  ,200], [\"30\",100], [\"29\",300]... ]\n",
    "\"asks\":[[\"31.5\", 50], [\"32\",125], [\"33\",300]... ]\\end{lstlisting}"
   ]
  },
  {
   "cell_type": "code",
   "execution_count": 50,
   "metadata": {
    "collapsed": false
   },
   "outputs": [],
   "source": [
    "ob = OrderbookContainer(timestamp=\"orderbook\",\n",
    "                        bids=pd.DataFrame([200,100,300, 100, 100, 100], columns=['Amount'], index=[28.7, 28.5, 28, 27.3, 27.0, 26]),\n",
    "                        asks=pd.DataFrame([25, 50, 200, 100, 75, 100], columns=['Amount'], index=[29, 30, 31, 31.5, 32, 33]))\n",
    "#ob = OrderbookContainer(timestamp=\"now\",\n",
    "#                        bids=pd.DataFrame([25, 200,100,300, 100, 100, 100], columns=['Amount'], index=[30, 28.7, 28.5, 28, 27.3, 27.0, 26]),\n",
    "#                        asks=pd.DataFrame([200, 100, 75, 100], columns=['Amount'], index=[31, 31.5, 32, 33]))\n",
    "ob.enrich()"
   ]
  },
  {
   "cell_type": "code",
   "execution_count": 54,
   "metadata": {
    "collapsed": false,
    "scrolled": false
   },
   "outputs": [
    {
     "data": {
      "text/html": [
       "<div>\n",
       "<table border=\"1\" class=\"dataframe\">\n",
       "  <thead>\n",
       "    <tr style=\"text-align: right;\">\n",
       "      <th></th>\n",
       "      <th>Amount</th>\n",
       "      <th>Type</th>\n",
       "      <th>Volume</th>\n",
       "      <th>VolumeAcc</th>\n",
       "      <th>norm_Price</th>\n",
       "    </tr>\n",
       "  </thead>\n",
       "  <tbody>\n",
       "    <tr>\n",
       "      <th>28.00000</th>\n",
       "      <td>300.0</td>\n",
       "      <td>bid</td>\n",
       "      <td>8400.0</td>\n",
       "      <td>16990.0</td>\n",
       "      <td>0.970546</td>\n",
       "    </tr>\n",
       "    <tr>\n",
       "      <th>28.50000</th>\n",
       "      <td>100.0</td>\n",
       "      <td>bid</td>\n",
       "      <td>2850.0</td>\n",
       "      <td>8590.0</td>\n",
       "      <td>0.987877</td>\n",
       "    </tr>\n",
       "    <tr>\n",
       "      <th>28.70000</th>\n",
       "      <td>200.0</td>\n",
       "      <td>bid</td>\n",
       "      <td>5740.0</td>\n",
       "      <td>5740.0</td>\n",
       "      <td>0.994810</td>\n",
       "    </tr>\n",
       "    <tr>\n",
       "      <th>28.84974</th>\n",
       "      <td>NaN</td>\n",
       "      <td>center</td>\n",
       "      <td>NaN</td>\n",
       "      <td>NaN</td>\n",
       "      <td>NaN</td>\n",
       "    </tr>\n",
       "    <tr>\n",
       "      <th>29.00000</th>\n",
       "      <td>25.0</td>\n",
       "      <td>ask</td>\n",
       "      <td>725.0</td>\n",
       "      <td>725.0</td>\n",
       "      <td>1.005208</td>\n",
       "    </tr>\n",
       "    <tr>\n",
       "      <th>30.00000</th>\n",
       "      <td>50.0</td>\n",
       "      <td>ask</td>\n",
       "      <td>1500.0</td>\n",
       "      <td>2225.0</td>\n",
       "      <td>1.039871</td>\n",
       "    </tr>\n",
       "    <tr>\n",
       "      <th>31.00000</th>\n",
       "      <td>200.0</td>\n",
       "      <td>ask</td>\n",
       "      <td>6200.0</td>\n",
       "      <td>8425.0</td>\n",
       "      <td>1.074533</td>\n",
       "    </tr>\n",
       "  </tbody>\n",
       "</table>\n",
       "</div>"
      ],
      "text/plain": [
       "          Amount    Type  Volume  VolumeAcc  norm_Price\n",
       "28.00000   300.0     bid  8400.0    16990.0    0.970546\n",
       "28.50000   100.0     bid  2850.0     8590.0    0.987877\n",
       "28.70000   200.0     bid  5740.0     5740.0    0.994810\n",
       "28.84974     NaN  center     NaN        NaN         NaN\n",
       "29.00000    25.0     ask   725.0      725.0    1.005208\n",
       "30.00000    50.0     ask  1500.0     2225.0    1.039871\n",
       "31.00000   200.0     ask  6200.0     8425.0    1.074533"
      ]
     },
     "metadata": {},
     "output_type": "display_data"
    },
    {
     "name": "stdout",
     "output_type": "stream",
     "text": [
      "Successfully saved 'intro_orderbook1.pdf'\n"
     ]
    }
   ],
   "source": [
    "display(ob.head())\n",
    "ob.plot(outfile='intro_orderbook1')\n",
    "\n",
    "# print(ob.head(3).to_latex())"
   ]
  },
  {
   "cell_type": "code",
   "execution_count": null,
   "metadata": {
    "collapsed": true
   },
   "outputs": [],
   "source": []
  }
 ],
 "metadata": {
  "kernelspec": {
   "display_name": "Python 2",
   "language": "python",
   "name": "python2"
  },
  "language_info": {
   "codemirror_mode": {
    "name": "ipython",
    "version": 2
   },
   "file_extension": ".py",
   "mimetype": "text/x-python",
   "name": "python",
   "nbconvert_exporter": "python",
   "pygments_lexer": "ipython2",
   "version": "2.7.5"
  },
  "widgets": {
   "state": {},
   "version": "1.1.2"
  }
 },
 "nbformat": 4,
 "nbformat_minor": 0
}
