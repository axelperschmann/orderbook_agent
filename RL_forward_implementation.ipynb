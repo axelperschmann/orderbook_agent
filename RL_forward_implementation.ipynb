{
 "cells": [
  {
   "cell_type": "code",
   "execution_count": 1,
   "metadata": {
    "collapsed": false
   },
   "outputs": [
    {
     "name": "stderr",
     "output_type": "stream",
     "text": [
      "Using TensorFlow backend.\n"
     ]
    }
   ],
   "source": [
    "%load_ext autoreload\n",
    "%autoreload 2\n",
    "\n",
    "from tqdm import tqdm\n",
    "import pandas as pd\n",
    "import numpy as np\n",
    "import gzip\n",
    "import json\n",
    "import math\n",
    "from datetime import datetime\n",
    "from IPython.display import display\n",
    "%matplotlib inline\n",
    "\n",
    "from rl_framework import *\n",
    "from manage_orderbooks import *\n",
    "from orderbook_trade_simulator import *\n",
    "\n",
    "# Neural Network\n",
    "from keras.models import Sequential\n",
    "from keras.layers.core import Dense, Dropout, Activation\n",
    "from keras.optimizers import RMSprop"
   ]
  },
  {
   "cell_type": "code",
   "execution_count": 2,
   "metadata": {
    "collapsed": false
   },
   "outputs": [
    {
     "name": "stderr",
     "output_type": "stream",
     "text": [
      "100%|██████████| 100/100 [00:01<00:00, 73.71it/s]"
     ]
    },
    {
     "name": "stdout",
     "output_type": "stream",
     "text": [
      "Loaded Orderbooks: 100\n",
      "(100, 100, 908)\n"
     ]
    },
    {
     "name": "stderr",
     "output_type": "stream",
     "text": [
      "\n"
     ]
    }
   ],
   "source": [
    "filename = '../data/snapshots/orderbooks_USDT_BTC_range1.15_samplesNone_snapshot2017-01-11T17:18.dict'\n",
    "currency_pair = 'USDT_BTC'\n",
    "offset = 0\n",
    "orderbooks, timestamps = load_orderbook_snapshot(infile=filename, first_line=offset+0, last_line=offset+100)\n",
    "# display(timestamps)\n",
    "print(len(orderbooks), len(timestamps), len(orderbooks[0]))\n",
    "# orderbooks = orderbooks[:1000]"
   ]
  },
  {
   "cell_type": "code",
   "execution_count": 3,
   "metadata": {
    "collapsed": true
   },
   "outputs": [],
   "source": [
    "V = 40  # trading volume\n",
    "T = 10  # Time horizon: 10 -> periods -> P*10 minutes\n",
    "P = 2  # period length\n",
    "episodes = 3"
   ]
  },
  {
   "cell_type": "code",
   "execution_count": 4,
   "metadata": {
    "collapsed": false
   },
   "outputs": [
    {
     "data": {
      "text/html": [
       "<div>\n",
       "<table border=\"1\" class=\"dataframe\">\n",
       "  <thead>\n",
       "    <tr style=\"text-align: right;\">\n",
       "      <th></th>\n",
       "      <th>Amount</th>\n",
       "      <th>Price</th>\n",
       "      <th>Type</th>\n",
       "    </tr>\n",
       "  </thead>\n",
       "  <tbody>\n",
       "    <tr>\n",
       "      <th>992</th>\n",
       "      <td>0.419626</td>\n",
       "      <td>702.680000</td>\n",
       "      <td>bid</td>\n",
       "    </tr>\n",
       "    <tr>\n",
       "      <th>993</th>\n",
       "      <td>3.637036</td>\n",
       "      <td>703.010000</td>\n",
       "      <td>bid</td>\n",
       "    </tr>\n",
       "    <tr>\n",
       "      <th>994</th>\n",
       "      <td>0.549537</td>\n",
       "      <td>703.230000</td>\n",
       "      <td>bid</td>\n",
       "    </tr>\n",
       "    <tr>\n",
       "      <th>995</th>\n",
       "      <td>0.000000</td>\n",
       "      <td>704.703971</td>\n",
       "      <td>center</td>\n",
       "    </tr>\n",
       "    <tr>\n",
       "      <th>996</th>\n",
       "      <td>4.398300</td>\n",
       "      <td>706.180000</td>\n",
       "      <td>ask</td>\n",
       "    </tr>\n",
       "    <tr>\n",
       "      <th>997</th>\n",
       "      <td>0.508136</td>\n",
       "      <td>706.190000</td>\n",
       "      <td>ask</td>\n",
       "    </tr>\n",
       "    <tr>\n",
       "      <th>998</th>\n",
       "      <td>2.870490</td>\n",
       "      <td>706.450000</td>\n",
       "      <td>ask</td>\n",
       "    </tr>\n",
       "  </tbody>\n",
       "</table>\n",
       "</div>"
      ],
      "text/plain": [
       "       Amount       Price    Type\n",
       "992  0.419626  702.680000     bid\n",
       "993  3.637036  703.010000     bid\n",
       "994  0.549537  703.230000     bid\n",
       "995  0.000000  704.703971  center\n",
       "996  4.398300  706.180000     ask\n",
       "997  0.508136  706.190000     ask\n",
       "998  2.870490  706.450000     ask"
      ]
     },
     "metadata": {},
     "output_type": "display_data"
    },
    {
     "name": "stderr",
     "output_type": "stream",
     "text": [
      "/usr/lib64/python2.7/site-packages/pandas/core/indexing.py:140: SettingWithCopyWarning: \n",
      "A value is trying to be set on a copy of a slice from a DataFrame\n",
      "\n",
      "See the caveats in the documentation: http://pandas.pydata.org/pandas-docs/stable/indexing.html#indexing-view-versus-copy\n",
      "  self._setitem_with_indexer(indexer, value)\n"
     ]
    },
    {
     "data": {
      "image/png": "[encoded data removed]",
      "text/plain": [
       "<matplotlib.figure.Figure at 0x3bf5310>"
      ]
     },
     "metadata": {},
     "output_type": "display_data"
    }
   ],
   "source": [
    "episode_windows = []\n",
    "for e in range(1,episodes):\n",
    "    window = {'orderbooks': [orderbooks[e*T*P + idx].copy() for idx in range(T*P)],\n",
    "              'timestamps': [timestamps[e*T*P + idx] for idx in range(T*P)]}\n",
    "    episode_windows.append(window)\n",
    "# display(orderbook_preview(orderbooks[0], 3))\n",
    "# display(orderbook_preview(orderbooks[1], 3))\n",
    "# display(orderbook_preview(orderbooks_episodes[0][1], 3))\n",
    "\n",
    "df = orderbooks[-50]\n",
    "display(orderbook_preview(df, 3))\n",
    "\n",
    "plot_orderbook(df, timestamps[-50], range_factor=1.17)"
   ]
  },
  {
   "cell_type": "code",
   "execution_count": 5,
   "metadata": {
    "collapsed": true
   },
   "outputs": [],
   "source": [
    "STATE_DIM = 2\n",
    "actions = [-2, -1, 0, 1, 2]\n",
    "NUM_ACTIONS = len(actions)"
   ]
  },
  {
   "cell_type": "code",
   "execution_count": 6,
   "metadata": {
    "collapsed": false
   },
   "outputs": [],
   "source": [
    "def base_model():\n",
    "    model = Sequential()\n",
    "    model.add(Dense(164, input_dim=STATE_DIM, activation='relu'))\n",
    "    model.add(Dense(32, activation='relu'))\n",
    "    # model.add(Dense(32, activation='relu'))\n",
    "    # model.add(Dense(64, activation='relu'))\n",
    "    # model.add(Dense(32, activation='relu'))\n",
    "    # model.add(Dense(16, activation='relu'))\n",
    "    model.add(Dense(NUM_ACTIONS, activation='linear'))\n",
    "    model.compile(loss='mse', optimizer='Adam')\n",
    "    return model\n",
    "\n",
    "model = base_model()"
   ]
  },
  {
   "cell_type": "code",
   "execution_count": 7,
   "metadata": {
    "collapsed": false,
    "scrolled": false
   },
   "outputs": [
    {
     "name": "stderr",
     "output_type": "stream",
     "text": [
      " 20%|██        | 2/10 [00:01<00:04,  1.74it/s]/usr/lib64/python2.7/site-packages/pandas/core/generic.py:5128: RuntimeWarning: invalid value encountered in absolute\n",
      "  return np.abs(self)\n",
      " 80%|████████  | 8/10 [00:05<00:01,  1.53it/s]"
     ]
    },
    {
     "name": "stdout",
     "output_type": "stream",
     "text": [
      "No shares left at t=0, Done!\n"
     ]
    },
    {
     "name": "stderr",
     "output_type": "stream",
     "text": [
      "\n",
      "\r",
      "  0%|          | 0/10 [00:00<?, ?it/s]"
     ]
    },
    {
     "name": "stdout",
     "output_type": "stream",
     "text": [
      "   0/2: epsilon=1.000, reward_acc: 75.35370, last_reward 16.3313480433, steps: 8\n"
     ]
    },
    {
     "name": "stderr",
     "output_type": "stream",
     "text": [
      " 50%|█████     | 5/10 [00:03<00:03,  1.48it/s]"
     ]
    },
    {
     "name": "stdout",
     "output_type": "stream",
     "text": [
      "No shares left at t=1, Done!\n",
      "   1/2: epsilon=0.995, reward_acc: 71.55438, last_reward 15.730125084, steps: 5\n"
     ]
    },
    {
     "name": "stderr",
     "output_type": "stream",
     "text": [
      "\n"
     ]
    }
   ],
   "source": [
    "max_steps = T\n",
    "epochs = 2\n",
    "gamma = 0.9\n",
    "\n",
    "MAX_EXPLORATION_RATE = 1.\n",
    "MIN_EXPLORATION_RATE = 0.05\n",
    "DECAY_RATE = 0.005\n",
    "epsilon = 1\n",
    "\n",
    "bufferSize = 3\n",
    "batchSize = 3\n",
    "replay = Memory(bufferSize)\n",
    "output = Memory(5)\n",
    "# stores tuples of (S, A, R, S')\n",
    "\n",
    "# acc_reward = 0\n",
    "for i_episode in range(epochs):\n",
    "    obs = episode_windows[i_episode]['orderbooks']\n",
    "    timestamps = episode_windows[i_episode]['timestamps']\n",
    "\n",
    "    ots = OrderbookTradingSimulator()\n",
    "    \n",
    "    volume = V\n",
    "    time_left = T\n",
    "    must_trade = False\n",
    "    \n",
    "    state = np.array([volume, time_left])\n",
    "    \n",
    "    # state = discretize_state(state)\n",
    "    \n",
    "    acc_reward = 0\n",
    "    for step in tqdm(range(max_steps)):\n",
    "        qval = model.predict(state.reshape(1, STATE_DIM))\n",
    "            \n",
    "        if random.random() < epsilon:\n",
    "            # choose random action\n",
    "            action = random.choice(actions)\n",
    "        else:\n",
    "            # choose best action from Q(s,a) values\n",
    "            action = np.argmax(qval)\n",
    "            \n",
    "        ob = obs[step*P]\n",
    "        # display(orderbook_preview(ob, 5))\n",
    "        # display(orderbook_statistics(ob, currency_pair, timestamps[step*P]))\n",
    "        \n",
    "        ask = get_ask(ob)\n",
    "        lim = ask + action\n",
    "            \n",
    "            \n",
    "        if step == max_steps-1:\n",
    "            must_trade = True\n",
    "\n",
    "        new_ob = ots.trade_timespan(obs[step*P:(step+1)*P],\n",
    "                                timestamps[step*P],\n",
    "                                timespan=P, must_trade=must_trade,\n",
    "                                volume=volume, limit=lim, verbose=False)\n",
    "        \n",
    "        volume = ots.history.volume_left.values[-1]\n",
    "        time_left -= 1\n",
    "        new_state = np.array([volume, time_left])\n",
    "        reward = ots.history.cost.values[-1]\n",
    "        \n",
    "        acc_reward += reward\n",
    "        \n",
    "        replay.add((state, action, reward, new_state))\n",
    "        if (replay.size() >= bufferSize):\n",
    "            # wait for buffer to be filled, before getting started with training\n",
    "            minibatch = replay.get_random_samples(batchSize)           \n",
    "            \n",
    "            X_train = []\n",
    "            y_train = []\n",
    "            for memory in minibatch:\n",
    "                state_m, action_m, reward_m, new_state_m = memory\n",
    "                \n",
    "                qval_old = model.predict(state_m.reshape(1, STATE_DIM))               \n",
    "                y = np.zeros((1, NUM_ACTIONS))\n",
    "                y[:] = qval_old[:]\n",
    "                \n",
    "                qval_new_m = model.predict(new_state_m.reshape(1, STATE_DIM), batch_size=1)\n",
    "                maxQ = np.max(qval_new_m)\n",
    "                \n",
    "                update = reward_m + (gamma*maxQ)\n",
    "                y[0][action_m] = update  # target output\n",
    "                \n",
    "                X_train.append(state_m.reshape(STATE_DIM,))\n",
    "                y_train.append(y.reshape(NUM_ACTIONS,))\n",
    "            X_train = np.array(X_train)\n",
    "            y_train = np.array(y_train)\n",
    "                        \n",
    "            # print(\"Game #: %s\" % (i_episode,))\n",
    "            model.fit(X_train, y_train, batch_size=batchSize, nb_epoch=1, verbose=0)\n",
    "        state = new_state\n",
    "        if volume == 0:\n",
    "            break\n",
    "       \n",
    "    # reduce exploration rate\n",
    "    if epsilon > MIN_EXPLORATION_RATE:\n",
    "        epsilon = MAX_EXPLORATION_RATE *   math.exp(- DECAY_RATE * i_episode)\n",
    "    info = \"{:4d}/{}: epsilon={:5.3f}, reward_acc: {:0.5f}, last_reward {}, steps: {}\"\\\n",
    "            .format(i_episode, epochs, epsilon,  acc_reward, reward, step)\n",
    "    # output.add(info)\n",
    "    # clear_output(wait=True)    \n",
    "    # for x in output.content:\n",
    "    #     print(x)\n",
    "    print(info)\n",
    "    # if epsilon > 0:\n",
    "    #     epsilon -= (1.5/epochs)\n",
    "        "
   ]
  },
  {
   "cell_type": "code",
   "execution_count": null,
   "metadata": {
    "collapsed": true
   },
   "outputs": [],
   "source": []
  },
  {
   "cell_type": "code",
   "execution_count": null,
   "metadata": {
    "collapsed": true
   },
   "outputs": [],
   "source": []
  }
 ],
 "metadata": {
  "kernelspec": {
   "display_name": "Python 2",
   "language": "python",
   "name": "python2"
  },
  "language_info": {
   "codemirror_mode": {
    "name": "ipython",
    "version": 2
   },
   "file_extension": ".py",
   "mimetype": "text/x-python",
   "name": "python",
   "nbconvert_exporter": "python",
   "pygments_lexer": "ipython2",
   "version": "2.7.5"
  },
  "widgets": {
   "state": {},
   "version": "1.1.2"
  }
 },
 "nbformat": 4,
 "nbformat_minor": 0
}
