{
 "cells": [
  {
   "cell_type": "code",
   "execution_count": 1,
   "metadata": {
    "collapsed": false
   },
   "outputs": [],
   "source": [
    "%load_ext autoreload\n",
    "%autoreload 2\n",
    "\n",
    "from tqdm import tqdm\n",
    "import pandas as pd\n",
    "import numpy as np\n",
    "import gzip\n",
    "import json\n",
    "import math\n",
    "from datetime import datetime\n",
    "from IPython.display import display\n",
    "import matplotlib.pyplot as plt\n",
    "import matplotlib.dates as mdates\n",
    "%matplotlib inline"
   ]
  },
  {
   "cell_type": "code",
   "execution_count": 2,
   "metadata": {
    "collapsed": false
   },
   "outputs": [],
   "source": [
    "from helper.manage_orderbooks_v2 import extract_orderbooks_for_one_currencypair, load_orderbook_snapshot, plot_episode\n",
    "from helper.orderbook_container import OrderbookContainer\n",
    "from helper.orderbook_trader import OrderbookTradingSimulator"
   ]
  },
  {
   "cell_type": "code",
   "execution_count": 3,
   "metadata": {
    "collapsed": false,
    "scrolled": false
   },
   "outputs": [
    {
     "name": "stderr",
     "output_type": "stream",
     "text": [
      "100%|██████████| 120/120 [00:03<00:00, 34.10it/s]"
     ]
    },
    {
     "name": "stdout",
     "output_type": "stream",
     "text": [
      "Loaded 120 orderbooks from file '3000orderbooks'.\n"
     ]
    },
    {
     "name": "stderr",
     "output_type": "stream",
     "text": [
      "\n"
     ]
    }
   ],
   "source": [
    "filename = '3000orderbooks'\n",
    "data = load_orderbook_snapshot(filename, last_line=120)"
   ]
  },
  {
   "cell_type": "markdown",
   "metadata": {},
   "source": [
    "#### Test Orderbook plot, print and compare_with"
   ]
  },
  {
   "cell_type": "code",
   "execution_count": 4,
   "metadata": {
    "collapsed": false,
    "scrolled": false
   },
   "outputs": [
    {
     "data": {
      "text/html": [
       "<div>\n",
       "<table border=\"1\" class=\"dataframe\">\n",
       "  <thead>\n",
       "    <tr style=\"text-align: right;\">\n",
       "      <th></th>\n",
       "      <th>Amount</th>\n",
       "      <th>Type</th>\n",
       "    </tr>\n",
       "  </thead>\n",
       "  <tbody>\n",
       "    <tr>\n",
       "      <th>703.500000</th>\n",
       "      <td>1.461657</td>\n",
       "      <td>bid</td>\n",
       "    </tr>\n",
       "    <tr>\n",
       "      <th>703.700000</th>\n",
       "      <td>0.001250</td>\n",
       "      <td>bid</td>\n",
       "    </tr>\n",
       "    <tr>\n",
       "      <th>705.000000</th>\n",
       "      <td>0.158232</td>\n",
       "      <td>bid</td>\n",
       "    </tr>\n",
       "    <tr>\n",
       "      <th>705.224976</th>\n",
       "      <td>NaN</td>\n",
       "      <td>center</td>\n",
       "    </tr>\n",
       "    <tr>\n",
       "      <th>705.450000</th>\n",
       "      <td>3.172181</td>\n",
       "      <td>ask</td>\n",
       "    </tr>\n",
       "    <tr>\n",
       "      <th>706.170000</th>\n",
       "      <td>0.052838</td>\n",
       "      <td>ask</td>\n",
       "    </tr>\n",
       "    <tr>\n",
       "      <th>706.190000</th>\n",
       "      <td>0.645323</td>\n",
       "      <td>ask</td>\n",
       "    </tr>\n",
       "  </tbody>\n",
       "</table>\n",
       "</div>"
      ],
      "text/plain": [
       "              Amount    Type\n",
       "703.500000  1.461657     bid\n",
       "703.700000  0.001250     bid\n",
       "705.000000  0.158232     bid\n",
       "705.224976       NaN  center\n",
       "705.450000  3.172181     ask\n",
       "706.170000  0.052838     ask\n",
       "706.190000  0.645323     ask"
      ]
     },
     "metadata": {},
     "output_type": "display_data"
    },
    {
     "data": {
      "image/png": "[encoded data removed]",
      "text/plain": [
       "<matplotlib.figure.Figure at 0x11643ca90>"
      ]
     },
     "metadata": {},
     "output_type": "display_data"
    },
    {
     "name": "stdout",
     "output_type": "stream",
     "text": [
      "OrderbookContainer from 2016-11-08T10:00\n",
      "  499 bids (best: 705.0)\n",
      "  407 asks (best: 705.45)\n",
      "  kind: 'orderbook'\n",
      "OrderbookContainer from 2016-11-08T10:01\n",
      "  499 bids (best: 703.8)\n",
      "  406 asks (best: 705.45)\n",
      "  kind: 'orderbook'\n"
     ]
    }
   ],
   "source": [
    "orderbook = data[0]\n",
    "orderbook2 = data[1]\n",
    "orderbook3 = data[2]\n",
    "\n",
    "display(orderbook.head(3))\n",
    "orderbook.plot(range_factor=1.02)  # outfile='sample.pdf')\n",
    "print(orderbook)\n",
    "print(orderbook2)"
   ]
  },
  {
   "cell_type": "code",
   "execution_count": 5,
   "metadata": {
    "collapsed": false
   },
   "outputs": [
    {
     "data": {
      "text/html": [
       "<div>\n",
       "<table border=\"1\" class=\"dataframe\">\n",
       "  <thead>\n",
       "    <tr style=\"text-align: right;\">\n",
       "      <th></th>\n",
       "      <th>Amount</th>\n",
       "      <th>Type</th>\n",
       "    </tr>\n",
       "  </thead>\n",
       "  <tbody>\n",
       "    <tr>\n",
       "      <th>703.500000</th>\n",
       "      <td>1.461657</td>\n",
       "      <td>bid</td>\n",
       "    </tr>\n",
       "    <tr>\n",
       "      <th>703.700000</th>\n",
       "      <td>0.001250</td>\n",
       "      <td>bid</td>\n",
       "    </tr>\n",
       "    <tr>\n",
       "      <th>705.000000</th>\n",
       "      <td>0.158232</td>\n",
       "      <td>bid</td>\n",
       "    </tr>\n",
       "    <tr>\n",
       "      <th>705.224976</th>\n",
       "      <td>NaN</td>\n",
       "      <td>center</td>\n",
       "    </tr>\n",
       "    <tr>\n",
       "      <th>705.450000</th>\n",
       "      <td>3.172181</td>\n",
       "      <td>ask</td>\n",
       "    </tr>\n",
       "    <tr>\n",
       "      <th>706.170000</th>\n",
       "      <td>0.052838</td>\n",
       "      <td>ask</td>\n",
       "    </tr>\n",
       "    <tr>\n",
       "      <th>706.190000</th>\n",
       "      <td>0.645323</td>\n",
       "      <td>ask</td>\n",
       "    </tr>\n",
       "  </tbody>\n",
       "</table>\n",
       "</div>"
      ],
      "text/plain": [
       "              Amount    Type\n",
       "703.500000  1.461657     bid\n",
       "703.700000  0.001250     bid\n",
       "705.000000  0.158232     bid\n",
       "705.224976       NaN  center\n",
       "705.450000  3.172181     ask\n",
       "706.170000  0.052838     ask\n",
       "706.190000  0.645323     ask"
      ]
     },
     "metadata": {},
     "output_type": "display_data"
    },
    {
     "data": {
      "text/html": [
       "<div>\n",
       "<table border=\"1\" class=\"dataframe\">\n",
       "  <thead>\n",
       "    <tr style=\"text-align: right;\">\n",
       "      <th></th>\n",
       "      <th>Amount</th>\n",
       "      <th>Type</th>\n",
       "    </tr>\n",
       "  </thead>\n",
       "  <tbody>\n",
       "    <tr>\n",
       "      <th>703.360000</th>\n",
       "      <td>1.700000</td>\n",
       "      <td>bid</td>\n",
       "    </tr>\n",
       "    <tr>\n",
       "      <th>703.700000</th>\n",
       "      <td>0.001250</td>\n",
       "      <td>bid</td>\n",
       "    </tr>\n",
       "    <tr>\n",
       "      <th>703.800000</th>\n",
       "      <td>5.276769</td>\n",
       "      <td>bid</td>\n",
       "    </tr>\n",
       "    <tr>\n",
       "      <th>704.624678</th>\n",
       "      <td>NaN</td>\n",
       "      <td>center</td>\n",
       "    </tr>\n",
       "    <tr>\n",
       "      <th>705.450000</th>\n",
       "      <td>5.049153</td>\n",
       "      <td>ask</td>\n",
       "    </tr>\n",
       "    <tr>\n",
       "      <th>706.170000</th>\n",
       "      <td>0.052838</td>\n",
       "      <td>ask</td>\n",
       "    </tr>\n",
       "    <tr>\n",
       "      <th>706.190000</th>\n",
       "      <td>0.645323</td>\n",
       "      <td>ask</td>\n",
       "    </tr>\n",
       "  </tbody>\n",
       "</table>\n",
       "</div>"
      ],
      "text/plain": [
       "              Amount    Type\n",
       "703.360000  1.700000     bid\n",
       "703.700000  0.001250     bid\n",
       "703.800000  5.276769     bid\n",
       "704.624678       NaN  center\n",
       "705.450000  5.049153     ask\n",
       "706.170000  0.052838     ask\n",
       "706.190000  0.645323     ask"
      ]
     },
     "metadata": {},
     "output_type": "display_data"
    },
    {
     "name": "stdout",
     "output_type": "stream",
     "text": [
      "\n",
      "Compare two orderbooks:\n"
     ]
    },
    {
     "data": {
      "text/html": [
       "<div>\n",
       "<table border=\"1\" class=\"dataframe\">\n",
       "  <thead>\n",
       "    <tr style=\"text-align: right;\">\n",
       "      <th></th>\n",
       "      <th>Amount</th>\n",
       "      <th>Type</th>\n",
       "    </tr>\n",
       "  </thead>\n",
       "  <tbody>\n",
       "    <tr>\n",
       "      <th>694.84</th>\n",
       "      <td>-0.334889</td>\n",
       "      <td>bid</td>\n",
       "    </tr>\n",
       "    <tr>\n",
       "      <th>694.01</th>\n",
       "      <td>-0.386696</td>\n",
       "      <td>bid</td>\n",
       "    </tr>\n",
       "    <tr>\n",
       "      <th>689.07</th>\n",
       "      <td>0.431199</td>\n",
       "      <td>bid</td>\n",
       "    </tr>\n",
       "    <tr>\n",
       "      <th>688.40</th>\n",
       "      <td>-0.432340</td>\n",
       "      <td>bid</td>\n",
       "    </tr>\n",
       "    <tr>\n",
       "      <th>685.11</th>\n",
       "      <td>-0.473604</td>\n",
       "      <td>bid</td>\n",
       "    </tr>\n",
       "    <tr>\n",
       "      <th>683.92</th>\n",
       "      <td>0.472354</td>\n",
       "      <td>bid</td>\n",
       "    </tr>\n",
       "    <tr>\n",
       "      <th>678.34</th>\n",
       "      <td>-0.511551</td>\n",
       "      <td>bid</td>\n",
       "    </tr>\n",
       "    <tr>\n",
       "      <th>678.31</th>\n",
       "      <td>0.510201</td>\n",
       "      <td>bid</td>\n",
       "    </tr>\n",
       "    <tr>\n",
       "      <th>674.59</th>\n",
       "      <td>-0.546871</td>\n",
       "      <td>bid</td>\n",
       "    </tr>\n",
       "    <tr>\n",
       "      <th>673.62</th>\n",
       "      <td>0.545428</td>\n",
       "      <td>bid</td>\n",
       "    </tr>\n",
       "    <tr>\n",
       "      <th>705.45</th>\n",
       "      <td>1.876972</td>\n",
       "      <td>ask</td>\n",
       "    </tr>\n",
       "    <tr>\n",
       "      <th>706.41</th>\n",
       "      <td>0.045817</td>\n",
       "      <td>ask</td>\n",
       "    </tr>\n",
       "    <tr>\n",
       "      <th>706.81</th>\n",
       "      <td>7.529719</td>\n",
       "      <td>ask</td>\n",
       "    </tr>\n",
       "    <tr>\n",
       "      <th>706.89</th>\n",
       "      <td>-0.105160</td>\n",
       "      <td>ask</td>\n",
       "    </tr>\n",
       "    <tr>\n",
       "      <th>707.18</th>\n",
       "      <td>-6.456261</td>\n",
       "      <td>ask</td>\n",
       "    </tr>\n",
       "    <tr>\n",
       "      <th>716.46</th>\n",
       "      <td>-1.188543</td>\n",
       "      <td>ask</td>\n",
       "    </tr>\n",
       "    <tr>\n",
       "      <th>716.75</th>\n",
       "      <td>0.011654</td>\n",
       "      <td>ask</td>\n",
       "    </tr>\n",
       "    <tr>\n",
       "      <th>716.89</th>\n",
       "      <td>0.011654</td>\n",
       "      <td>ask</td>\n",
       "    </tr>\n",
       "    <tr>\n",
       "      <th>716.95</th>\n",
       "      <td>-0.011654</td>\n",
       "      <td>ask</td>\n",
       "    </tr>\n",
       "    <tr>\n",
       "      <th>717.03</th>\n",
       "      <td>0.011654</td>\n",
       "      <td>ask</td>\n",
       "    </tr>\n",
       "  </tbody>\n",
       "</table>\n",
       "</div>"
      ],
      "text/plain": [
       "          Amount Type\n",
       "694.84 -0.334889  bid\n",
       "694.01 -0.386696  bid\n",
       "689.07  0.431199  bid\n",
       "688.40 -0.432340  bid\n",
       "685.11 -0.473604  bid\n",
       "683.92  0.472354  bid\n",
       "678.34 -0.511551  bid\n",
       "678.31  0.510201  bid\n",
       "674.59 -0.546871  bid\n",
       "673.62  0.545428  bid\n",
       "705.45  1.876972  ask\n",
       "706.41  0.045817  ask\n",
       "706.81  7.529719  ask\n",
       "706.89 -0.105160  ask\n",
       "707.18 -6.456261  ask\n",
       "716.46 -1.188543  ask\n",
       "716.75  0.011654  ask\n",
       "716.89  0.011654  ask\n",
       "716.95 -0.011654  ask\n",
       "717.03  0.011654  ask"
      ]
     },
     "metadata": {},
     "output_type": "display_data"
    },
    {
     "name": "stdout",
     "output_type": "stream",
     "text": [
      "OrderbookContainer from 2016-11-08T10:00\n",
      "  23 bids (best: 673.62)\n",
      "  27 asks (best: 705.45)\n",
      "  kind: 'diff'\n"
     ]
    }
   ],
   "source": [
    "orderbook = data[0]\n",
    "orderbook2 = data[1]\n",
    "\n",
    "display(orderbook.head())\n",
    "display(orderbook2.head())\n",
    "\n",
    "print(\"\\nCompare two orderbooks:\")\n",
    "diff = orderbook2.compare_with(other=orderbook)\n",
    "\n",
    "display(diff.head(10))\n",
    "print(diff)"
   ]
  },
  {
   "cell_type": "code",
   "execution_count": 6,
   "metadata": {
    "collapsed": false,
    "scrolled": false
   },
   "outputs": [
    {
     "name": "stdout",
     "output_type": "stream",
     "text": [
      "episode_length 120\n",
      "episode_windows[0] = orderbooks[0:120], length=120\n",
      "\n",
      "Episodes: 1, orderbooks per episode: 120\n"
     ]
    },
    {
     "data": {
      "text/html": [
       "<div>\n",
       "<table border=\"1\" class=\"dataframe\">\n",
       "  <thead>\n",
       "    <tr style=\"text-align: right;\">\n",
       "      <th></th>\n",
       "      <th>Amount</th>\n",
       "      <th>Type</th>\n",
       "    </tr>\n",
       "  </thead>\n",
       "  <tbody>\n",
       "    <tr>\n",
       "      <th>703.500000</th>\n",
       "      <td>1.461657</td>\n",
       "      <td>bid</td>\n",
       "    </tr>\n",
       "    <tr>\n",
       "      <th>703.700000</th>\n",
       "      <td>0.001250</td>\n",
       "      <td>bid</td>\n",
       "    </tr>\n",
       "    <tr>\n",
       "      <th>705.000000</th>\n",
       "      <td>0.158232</td>\n",
       "      <td>bid</td>\n",
       "    </tr>\n",
       "    <tr>\n",
       "      <th>705.224976</th>\n",
       "      <td>NaN</td>\n",
       "      <td>center</td>\n",
       "    </tr>\n",
       "    <tr>\n",
       "      <th>705.450000</th>\n",
       "      <td>3.172181</td>\n",
       "      <td>ask</td>\n",
       "    </tr>\n",
       "    <tr>\n",
       "      <th>706.170000</th>\n",
       "      <td>0.052838</td>\n",
       "      <td>ask</td>\n",
       "    </tr>\n",
       "    <tr>\n",
       "      <th>706.190000</th>\n",
       "      <td>0.645323</td>\n",
       "      <td>ask</td>\n",
       "    </tr>\n",
       "  </tbody>\n",
       "</table>\n",
       "</div>"
      ],
      "text/plain": [
       "              Amount    Type\n",
       "703.500000  1.461657     bid\n",
       "703.700000  0.001250     bid\n",
       "705.000000  0.158232     bid\n",
       "705.224976       NaN  center\n",
       "705.450000  3.172181     ask\n",
       "706.170000  0.052838     ask\n",
       "706.190000  0.645323     ask"
      ]
     },
     "metadata": {},
     "output_type": "display_data"
    },
    {
     "data": {
      "text/html": [
       "<div>\n",
       "<table border=\"1\" class=\"dataframe\">\n",
       "  <thead>\n",
       "    <tr style=\"text-align: right;\">\n",
       "      <th></th>\n",
       "      <th>Amount</th>\n",
       "      <th>Type</th>\n",
       "    </tr>\n",
       "  </thead>\n",
       "  <tbody>\n",
       "    <tr>\n",
       "      <th>705.09000</th>\n",
       "      <td>1.591694</td>\n",
       "      <td>bid</td>\n",
       "    </tr>\n",
       "    <tr>\n",
       "      <th>705.50000</th>\n",
       "      <td>3.009879</td>\n",
       "      <td>bid</td>\n",
       "    </tr>\n",
       "    <tr>\n",
       "      <th>706.00000</th>\n",
       "      <td>7.277076</td>\n",
       "      <td>bid</td>\n",
       "    </tr>\n",
       "    <tr>\n",
       "      <th>706.90961</th>\n",
       "      <td>NaN</td>\n",
       "      <td>center</td>\n",
       "    </tr>\n",
       "    <tr>\n",
       "      <th>707.82000</th>\n",
       "      <td>5.027350</td>\n",
       "      <td>ask</td>\n",
       "    </tr>\n",
       "    <tr>\n",
       "      <th>707.83000</th>\n",
       "      <td>0.006685</td>\n",
       "      <td>ask</td>\n",
       "    </tr>\n",
       "    <tr>\n",
       "      <th>707.86000</th>\n",
       "      <td>0.013980</td>\n",
       "      <td>ask</td>\n",
       "    </tr>\n",
       "  </tbody>\n",
       "</table>\n",
       "</div>"
      ],
      "text/plain": [
       "             Amount    Type\n",
       "705.09000  1.591694     bid\n",
       "705.50000  3.009879     bid\n",
       "706.00000  7.277076     bid\n",
       "706.90961       NaN  center\n",
       "707.82000  5.027350     ask\n",
       "707.83000  0.006685     ask\n",
       "707.86000  0.013980     ask"
      ]
     },
     "metadata": {},
     "output_type": "display_data"
    },
    {
     "data": {
      "image/png": "[encoded data removed]",
      "text/plain": [
       "<matplotlib.figure.Figure at 0x116416b38>"
      ]
     },
     "metadata": {},
     "output_type": "display_data"
    }
   ],
   "source": [
    "P = 10\n",
    "vol=30\n",
    "T = 12\n",
    "episode_length = T*P\n",
    "print(\"episode_length\", episode_length)\n",
    "episodes = int(len(data) / episode_length)\n",
    "\n",
    "episode_windows = []\n",
    "for e in range(0, episodes):\n",
    "    episode_start = e*episode_length\n",
    "    episode_end = (e+1)*episode_length\n",
    "    window = [ob.copy() for ob in data[episode_start:episode_end]]\n",
    "    print(\"episode_windows[{}] = orderbooks[{}:{}], length={}\".format(e, episode_start, episode_end, len(window)))\n",
    "    \n",
    "    # window = [orderbooks[e*episode_length + idx].copy() for idx in range(episode_length)]\n",
    "    episode_windows.append(window)\n",
    "    \n",
    "print(\"\\nEpisodes: {}, orderbooks per episode: {}\".format(len(episode_windows), len(episode_windows[0])))\n",
    "\n",
    "ob = episode_windows[0][0]\n",
    "ob2 = episode_windows[0][-1]\n",
    "display(ob.head(3))\n",
    "display(ob2.head(3))\n",
    "plot_episode(episode_windows[0], volume=vol)"
   ]
  },
  {
   "cell_type": "markdown",
   "metadata": {},
   "source": [
    "#### Test get_current_price()"
   ]
  },
  {
   "cell_type": "code",
   "execution_count": 7,
   "metadata": {
    "collapsed": false
   },
   "outputs": [
    {
     "data": {
      "text/html": [
       "<div>\n",
       "<table border=\"1\" class=\"dataframe\">\n",
       "  <thead>\n",
       "    <tr style=\"text-align: right;\">\n",
       "      <th></th>\n",
       "      <th>Amount</th>\n",
       "      <th>Type</th>\n",
       "    </tr>\n",
       "  </thead>\n",
       "  <tbody>\n",
       "    <tr>\n",
       "      <th>703.500000</th>\n",
       "      <td>1.461657</td>\n",
       "      <td>bid</td>\n",
       "    </tr>\n",
       "    <tr>\n",
       "      <th>703.700000</th>\n",
       "      <td>0.001250</td>\n",
       "      <td>bid</td>\n",
       "    </tr>\n",
       "    <tr>\n",
       "      <th>705.000000</th>\n",
       "      <td>0.158232</td>\n",
       "      <td>bid</td>\n",
       "    </tr>\n",
       "    <tr>\n",
       "      <th>705.224976</th>\n",
       "      <td>NaN</td>\n",
       "      <td>center</td>\n",
       "    </tr>\n",
       "    <tr>\n",
       "      <th>705.450000</th>\n",
       "      <td>3.172181</td>\n",
       "      <td>ask</td>\n",
       "    </tr>\n",
       "    <tr>\n",
       "      <th>706.170000</th>\n",
       "      <td>0.052838</td>\n",
       "      <td>ask</td>\n",
       "    </tr>\n",
       "    <tr>\n",
       "      <th>706.190000</th>\n",
       "      <td>0.645323</td>\n",
       "      <td>ask</td>\n",
       "    </tr>\n",
       "  </tbody>\n",
       "</table>\n",
       "</div>"
      ],
      "text/plain": [
       "              Amount    Type\n",
       "703.500000  1.461657     bid\n",
       "703.700000  0.001250     bid\n",
       "705.000000  0.158232     bid\n",
       "705.224976       NaN  center\n",
       "705.450000  3.172181     ask\n",
       "706.170000  0.052838     ask\n",
       "706.190000  0.645323     ask"
      ]
     },
     "metadata": {},
     "output_type": "display_data"
    },
    {
     "name": "stdout",
     "output_type": "stream",
     "text": [
      "MarketOrderPrice for 2.5 shares: 1763.6250 (worst price: 705.45)\n",
      "MarketOrderPrice for 5.0 shares: 3529.6894 (worst price: 707.18)\n",
      "MarketOrderPrice for 7.5 shares: 5297.6394 (worst price: 707.18)\n",
      "MarketOrderPrice for 10.0 shares: 7065.5894 (worst price: 707.18)\n"
     ]
    }
   ],
   "source": [
    "display(orderbook.head(3))\n",
    "vol = 10\n",
    "\n",
    "for factor in [0.25, 0.5, 0.75, 1.]:\n",
    "    res = orderbook.get_current_price(vol*factor)\n",
    "    print(\"MarketOrderPrice for {} shares: {:1.4f} (worst price: {})\".format(vol*factor, res[0], res[1]))"
   ]
  },
  {
   "cell_type": "markdown",
   "metadata": {},
   "source": [
    "#### Test orderbook.head and tail"
   ]
  },
  {
   "cell_type": "code",
   "execution_count": 8,
   "metadata": {
    "collapsed": false
   },
   "outputs": [
    {
     "data": {
      "text/html": [
       "<div>\n",
       "<table border=\"1\" class=\"dataframe\">\n",
       "  <thead>\n",
       "    <tr style=\"text-align: right;\">\n",
       "      <th></th>\n",
       "      <th>Amount</th>\n",
       "      <th>Type</th>\n",
       "    </tr>\n",
       "  </thead>\n",
       "  <tbody>\n",
       "    <tr>\n",
       "      <th>703.700000</th>\n",
       "      <td>0.001250</td>\n",
       "      <td>bid</td>\n",
       "    </tr>\n",
       "    <tr>\n",
       "      <th>705.000000</th>\n",
       "      <td>0.158232</td>\n",
       "      <td>bid</td>\n",
       "    </tr>\n",
       "    <tr>\n",
       "      <th>705.224976</th>\n",
       "      <td>NaN</td>\n",
       "      <td>center</td>\n",
       "    </tr>\n",
       "    <tr>\n",
       "      <th>705.450000</th>\n",
       "      <td>3.172181</td>\n",
       "      <td>ask</td>\n",
       "    </tr>\n",
       "    <tr>\n",
       "      <th>706.170000</th>\n",
       "      <td>0.052838</td>\n",
       "      <td>ask</td>\n",
       "    </tr>\n",
       "  </tbody>\n",
       "</table>\n",
       "</div>"
      ],
      "text/plain": [
       "              Amount    Type\n",
       "703.700000  0.001250     bid\n",
       "705.000000  0.158232     bid\n",
       "705.224976       NaN  center\n",
       "705.450000  3.172181     ask\n",
       "706.170000  0.052838     ask"
      ]
     },
     "metadata": {},
     "output_type": "display_data"
    },
    {
     "data": {
      "text/html": [
       "<div>\n",
       "<table border=\"1\" class=\"dataframe\">\n",
       "  <thead>\n",
       "    <tr style=\"text-align: right;\">\n",
       "      <th></th>\n",
       "      <th>Amount</th>\n",
       "      <th>Type</th>\n",
       "    </tr>\n",
       "  </thead>\n",
       "  <tbody>\n",
       "    <tr>\n",
       "      <th>614.000000</th>\n",
       "      <td>1.838163</td>\n",
       "      <td>bid</td>\n",
       "    </tr>\n",
       "    <tr>\n",
       "      <th>614.320000</th>\n",
       "      <td>0.034763</td>\n",
       "      <td>bid</td>\n",
       "    </tr>\n",
       "    <tr>\n",
       "      <th>705.224976</th>\n",
       "      <td>NaN</td>\n",
       "      <td>center</td>\n",
       "    </tr>\n",
       "    <tr>\n",
       "      <th>810.000000</th>\n",
       "      <td>0.286798</td>\n",
       "      <td>ask</td>\n",
       "    </tr>\n",
       "    <tr>\n",
       "      <th>811.000000</th>\n",
       "      <td>0.000100</td>\n",
       "      <td>ask</td>\n",
       "    </tr>\n",
       "  </tbody>\n",
       "</table>\n",
       "</div>"
      ],
      "text/plain": [
       "              Amount    Type\n",
       "614.000000  1.838163     bid\n",
       "614.320000  0.034763     bid\n",
       "705.224976       NaN  center\n",
       "810.000000  0.286798     ask\n",
       "811.000000  0.000100     ask"
      ]
     },
     "metadata": {},
     "output_type": "display_data"
    }
   ],
   "source": [
    "display(orderbook.head(2))\n",
    "display(orderbook.tail(2))"
   ]
  },
  {
   "cell_type": "markdown",
   "metadata": {},
   "source": [
    "#### Test parameter limit"
   ]
  },
  {
   "cell_type": "code",
   "execution_count": 9,
   "metadata": {
    "collapsed": false
   },
   "outputs": [
    {
     "data": {
      "text/plain": [
       "120"
      ]
     },
     "execution_count": 9,
     "metadata": {},
     "output_type": "execute_result"
    }
   ],
   "source": [
    "len(episode_windows[0])"
   ]
  },
  {
   "cell_type": "code",
   "execution_count": 10,
   "metadata": {
    "collapsed": false,
    "scrolled": true
   },
   "outputs": [
    {
     "name": "stderr",
     "output_type": "stream",
     "text": [
      "100%|██████████| 2/2 [00:00<00:00,  8.83it/s]"
     ]
    },
    {
     "name": "stdout",
     "output_type": "stream",
     "text": [
      "t=3: Traded 6.8581/100.0000 shares for -4838.0505884655, 93.1419 shares left\n",
      "Run out of time (t=7).\n",
      "Trade remaining 91.3880/100.0000 shares for current market order price\n",
      "t=7: Traded 93.1419/93.1419 shares for -66342.87927223179, 0.0000 shares left\n"
     ]
    },
    {
     "name": "stderr",
     "output_type": "stream",
     "text": [
      "\n"
     ]
    },
    {
     "data": {
      "text/html": [
       "<div>\n",
       "<table border=\"1\" class=\"dataframe\">\n",
       "  <thead>\n",
       "    <tr style=\"text-align: right;\">\n",
       "      <th></th>\n",
       "      <th>ASK</th>\n",
       "      <th>BID</th>\n",
       "      <th>CENTER</th>\n",
       "      <th>LIMIT</th>\n",
       "      <th>SPREAD</th>\n",
       "      <th>T</th>\n",
       "      <th>VOLUME</th>\n",
       "      <th>avg</th>\n",
       "      <th>cashflow</th>\n",
       "      <th>cost</th>\n",
       "      <th>cost_avg</th>\n",
       "      <th>forced</th>\n",
       "      <th>high</th>\n",
       "      <th>low</th>\n",
       "      <th>volume_traded</th>\n",
       "    </tr>\n",
       "  </thead>\n",
       "  <tbody>\n",
       "    <tr>\n",
       "      <th>2016-11-08T10:00</th>\n",
       "      <td>705.45</td>\n",
       "      <td>705.0</td>\n",
       "      <td>705.224976</td>\n",
       "      <td>706</td>\n",
       "      <td>0.45</td>\n",
       "      <td>4</td>\n",
       "      <td>100.000000</td>\n",
       "      <td>705.45000</td>\n",
       "      <td>-4838.050588</td>\n",
       "      <td>0.002188</td>\n",
       "      <td>0</td>\n",
       "      <td>False</td>\n",
       "      <td>705.45</td>\n",
       "      <td>705.45</td>\n",
       "      <td>6.858106</td>\n",
       "    </tr>\n",
       "    <tr>\n",
       "      <th>2016-11-08T10:04</th>\n",
       "      <td>705.45</td>\n",
       "      <td>703.8</td>\n",
       "      <td>704.624678</td>\n",
       "      <td>706</td>\n",
       "      <td>1.65</td>\n",
       "      <td>4</td>\n",
       "      <td>93.141894</td>\n",
       "      <td>712.27754</td>\n",
       "      <td>-66342.879272</td>\n",
       "      <td>0.931460</td>\n",
       "      <td>0</td>\n",
       "      <td>True</td>\n",
       "      <td>715.00</td>\n",
       "      <td>705.00</td>\n",
       "      <td>93.141894</td>\n",
       "    </tr>\n",
       "  </tbody>\n",
       "</table>\n",
       "</div>"
      ],
      "text/plain": [
       "                     ASK    BID      CENTER  LIMIT  SPREAD  T      VOLUME  \\\n",
       "2016-11-08T10:00  705.45  705.0  705.224976    706    0.45  4  100.000000   \n",
       "2016-11-08T10:04  705.45  703.8  704.624678    706    1.65  4   93.141894   \n",
       "\n",
       "                        avg      cashflow      cost  cost_avg forced    high  \\\n",
       "2016-11-08T10:00  705.45000  -4838.050588  0.002188         0  False  705.45   \n",
       "2016-11-08T10:04  712.27754 -66342.879272  0.931460         0   True  715.00   \n",
       "\n",
       "                     low  volume_traded  \n",
       "2016-11-08T10:00  705.45       6.858106  \n",
       "2016-11-08T10:04  705.00      93.141894  "
      ]
     },
     "metadata": {},
     "output_type": "display_data"
    },
    {
     "data": {
      "text/plain": [
       "{'amount': 100.0,\n",
       " 'cashflow': -71180.929860697288,\n",
       " 'cost': 0.93364872901170792,\n",
       " 'remaining': 0.0}"
      ]
     },
     "metadata": {},
     "output_type": "display_data"
    }
   ],
   "source": [
    "P = 4\n",
    "vol=100\n",
    "T = 2\n",
    "ots = OrderbookTradingSimulator(orderbooks=episode_windows[0][:T*P], volume=vol, tradingperiods=T,\n",
    "                                decisionfrequency=P)\n",
    "\n",
    "for e in tqdm(range(T)):\n",
    "    summary = ots.trade(limit=706, verbose=True)\n",
    "\n",
    "display(ots.history)\n",
    "display(summary)\n"
   ]
  },
  {
   "cell_type": "code",
   "execution_count": 11,
   "metadata": {
    "collapsed": false,
    "scrolled": false
   },
   "outputs": [
    {
     "name": "stderr",
     "output_type": "stream",
     "text": [
      " 75%|███████▌  | 3/4 [00:00<00:00, 26.19it/s]"
     ]
    },
    {
     "name": "stdout",
     "output_type": "stream",
     "text": [
      "t=1: Traded 5.0492/100.0000 shares for -3561.92484276, 94.9508 shares left\n",
      "t=3: Traded 1.8090/94.9508 shares for -1276.1257457055003, 93.1419 shares left\n",
      "t=5: Traded 1.7539/93.1419 shares for -1237.3049591865, 91.3880 shares left\n",
      "Run out of time (t=7).\n",
      "Trade remaining 91.3880/100.0000 shares for current market order price\n"
     ]
    },
    {
     "name": "stderr",
     "output_type": "stream",
     "text": [
      "\r",
      "100%|██████████| 4/4 [00:00<00:00, 15.15it/s]"
     ]
    },
    {
     "name": "stdout",
     "output_type": "stream",
     "text": [
      "t=7: Traded 91.3880/91.3880 shares for -65105.57431304529, 0.0000 shares left\n"
     ]
    },
    {
     "name": "stderr",
     "output_type": "stream",
     "text": [
      "\n"
     ]
    },
    {
     "data": {
      "text/html": [
       "<div>\n",
       "<table border=\"1\" class=\"dataframe\">\n",
       "  <thead>\n",
       "    <tr style=\"text-align: right;\">\n",
       "      <th></th>\n",
       "      <th>ASK</th>\n",
       "      <th>BID</th>\n",
       "      <th>CENTER</th>\n",
       "      <th>LIMIT</th>\n",
       "      <th>SPREAD</th>\n",
       "      <th>T</th>\n",
       "      <th>VOLUME</th>\n",
       "      <th>avg</th>\n",
       "      <th>cashflow</th>\n",
       "      <th>cost</th>\n",
       "      <th>cost_avg</th>\n",
       "      <th>forced</th>\n",
       "      <th>high</th>\n",
       "      <th>low</th>\n",
       "      <th>volume_traded</th>\n",
       "    </tr>\n",
       "  </thead>\n",
       "  <tbody>\n",
       "    <tr>\n",
       "      <th>2016-11-08T10:00</th>\n",
       "      <td>705.45</td>\n",
       "      <td>705.0</td>\n",
       "      <td>705.224976</td>\n",
       "      <td>706</td>\n",
       "      <td>0.45</td>\n",
       "      <td>2</td>\n",
       "      <td>100.000000</td>\n",
       "      <td>705.45000</td>\n",
       "      <td>-3561.924843</td>\n",
       "      <td>0.001611</td>\n",
       "      <td>0</td>\n",
       "      <td>False</td>\n",
       "      <td>705.45</td>\n",
       "      <td>705.45</td>\n",
       "      <td>5.049153</td>\n",
       "    </tr>\n",
       "    <tr>\n",
       "      <th>2016-11-08T10:02</th>\n",
       "      <td>705.45</td>\n",
       "      <td>703.8</td>\n",
       "      <td>704.624678</td>\n",
       "      <td>706</td>\n",
       "      <td>1.65</td>\n",
       "      <td>2</td>\n",
       "      <td>94.950847</td>\n",
       "      <td>705.45000</td>\n",
       "      <td>-1276.125746</td>\n",
       "      <td>0.000577</td>\n",
       "      <td>0</td>\n",
       "      <td>False</td>\n",
       "      <td>705.45</td>\n",
       "      <td>705.45</td>\n",
       "      <td>1.808953</td>\n",
       "    </tr>\n",
       "    <tr>\n",
       "      <th>2016-11-08T10:04</th>\n",
       "      <td>705.45</td>\n",
       "      <td>703.8</td>\n",
       "      <td>704.624678</td>\n",
       "      <td>706</td>\n",
       "      <td>1.65</td>\n",
       "      <td>2</td>\n",
       "      <td>93.141894</td>\n",
       "      <td>705.45000</td>\n",
       "      <td>-1237.304959</td>\n",
       "      <td>0.000560</td>\n",
       "      <td>0</td>\n",
       "      <td>False</td>\n",
       "      <td>705.45</td>\n",
       "      <td>705.45</td>\n",
       "      <td>1.753923</td>\n",
       "    </tr>\n",
       "    <tr>\n",
       "      <th>2016-11-08T10:06</th>\n",
       "      <td>706.17</td>\n",
       "      <td>703.8</td>\n",
       "      <td>704.984336</td>\n",
       "      <td>706</td>\n",
       "      <td>2.37</td>\n",
       "      <td>2</td>\n",
       "      <td>91.387971</td>\n",
       "      <td>712.40857</td>\n",
       "      <td>-65105.574313</td>\n",
       "      <td>0.930900</td>\n",
       "      <td>0</td>\n",
       "      <td>True</td>\n",
       "      <td>715.00</td>\n",
       "      <td>705.00</td>\n",
       "      <td>91.387971</td>\n",
       "    </tr>\n",
       "  </tbody>\n",
       "</table>\n",
       "</div>"
      ],
      "text/plain": [
       "                     ASK    BID      CENTER  LIMIT  SPREAD  T      VOLUME  \\\n",
       "2016-11-08T10:00  705.45  705.0  705.224976    706    0.45  2  100.000000   \n",
       "2016-11-08T10:02  705.45  703.8  704.624678    706    1.65  2   94.950847   \n",
       "2016-11-08T10:04  705.45  703.8  704.624678    706    1.65  2   93.141894   \n",
       "2016-11-08T10:06  706.17  703.8  704.984336    706    2.37  2   91.387971   \n",
       "\n",
       "                        avg      cashflow      cost  cost_avg forced    high  \\\n",
       "2016-11-08T10:00  705.45000  -3561.924843  0.001611         0  False  705.45   \n",
       "2016-11-08T10:02  705.45000  -1276.125746  0.000577         0  False  705.45   \n",
       "2016-11-08T10:04  705.45000  -1237.304959  0.000560         0  False  705.45   \n",
       "2016-11-08T10:06  712.40857 -65105.574313  0.930900         0   True  715.00   \n",
       "\n",
       "                     low  volume_traded  \n",
       "2016-11-08T10:00  705.45       5.049153  \n",
       "2016-11-08T10:02  705.45       1.808953  \n",
       "2016-11-08T10:04  705.45       1.753923  \n",
       "2016-11-08T10:06  705.00      91.387971  "
      ]
     },
     "metadata": {},
     "output_type": "display_data"
    },
    {
     "data": {
      "text/plain": [
       "{'amount': 100.0,\n",
       " 'cashflow': -71180.929860697288,\n",
       " 'cost': 0.93364814290539599,\n",
       " 'remaining': 0.0}"
      ]
     },
     "metadata": {},
     "output_type": "display_data"
    }
   ],
   "source": [
    "P = 2\n",
    "vol=100\n",
    "T = 4\n",
    "ots = OrderbookTradingSimulator(orderbooks=episode_windows[0][:T*P], volume=vol, tradingperiods=T,\n",
    "                                decisionfrequency=P)\n",
    "\n",
    "for e in tqdm(range(T)):\n",
    "    summary = ots.trade(limit=706, verbose=True)\n",
    "\n",
    "display(ots.history)\n",
    "display(summary)\n"
   ]
  },
  {
   "cell_type": "markdown",
   "metadata": {},
   "source": [
    "#### Test parameter aggression_factor"
   ]
  },
  {
   "cell_type": "code",
   "execution_count": 12,
   "metadata": {
    "collapsed": false
   },
   "outputs": [
    {
     "name": "stderr",
     "output_type": "stream",
     "text": [
      " 25%|██▌       | 1/4 [00:00<00:00,  7.58it/s]"
     ]
    },
    {
     "name": "stdout",
     "output_type": "stream",
     "text": [
      "t=1: Traded 73.9685/100.0000 shares for -52491.6620519652, 26.0315 shares left\n"
     ]
    },
    {
     "name": "stderr",
     "output_type": "stream",
     "text": [
      "\r",
      "100%|██████████| 4/4 [00:00<00:00,  9.47it/s]"
     ]
    },
    {
     "name": "stdout",
     "output_type": "stream",
     "text": [
      "t=3: Traded 8.0514/26.0315 shares for -5690.639731756701, 17.9802 shares left\n",
      "t=5: Traded 1.8201/17.9802 shares for -1284.1296028907, 16.1600 shares left\n",
      "Run out of time (t=7).\n",
      "Trade remaining 14.3680/100.0000 shares for current market order price\n",
      "t=7: Traded 16.1600/16.1600 shares for -11486.057814624499, 0.0000 shares left\n"
     ]
    },
    {
     "name": "stderr",
     "output_type": "stream",
     "text": [
      "\n"
     ]
    },
    {
     "data": {
      "text/html": [
       "<div>\n",
       "<table border=\"1\" class=\"dataframe\">\n",
       "  <thead>\n",
       "    <tr style=\"text-align: right;\">\n",
       "      <th></th>\n",
       "      <th>ACTION</th>\n",
       "      <th>ASK</th>\n",
       "      <th>BID</th>\n",
       "      <th>CENTER</th>\n",
       "      <th>LIMIT</th>\n",
       "      <th>SPREAD</th>\n",
       "      <th>T</th>\n",
       "      <th>VOLUME</th>\n",
       "      <th>avg</th>\n",
       "      <th>cashflow</th>\n",
       "      <th>cost</th>\n",
       "      <th>cost_avg</th>\n",
       "      <th>forced</th>\n",
       "      <th>high</th>\n",
       "      <th>low</th>\n",
       "      <th>volume_traded</th>\n",
       "      <th>LIMIT_MAX</th>\n",
       "    </tr>\n",
       "  </thead>\n",
       "  <tbody>\n",
       "    <tr>\n",
       "      <th>2016-11-08T10:00</th>\n",
       "      <td>0.9</td>\n",
       "      <td>705.45</td>\n",
       "      <td>705.0</td>\n",
       "      <td>705.224976</td>\n",
       "      <td>714.045</td>\n",
       "      <td>0.45</td>\n",
       "      <td>2</td>\n",
       "      <td>100.000000</td>\n",
       "      <td>709.64918</td>\n",
       "      <td>-52491.662052</td>\n",
       "      <td>0.464039</td>\n",
       "      <td>0</td>\n",
       "      <td>False</td>\n",
       "      <td>714.00</td>\n",
       "      <td>705.45</td>\n",
       "      <td>73.968467</td>\n",
       "      <td>715.0</td>\n",
       "    </tr>\n",
       "    <tr>\n",
       "      <th>2016-11-08T10:02</th>\n",
       "      <td>0.9</td>\n",
       "      <td>705.45</td>\n",
       "      <td>703.8</td>\n",
       "      <td>704.624678</td>\n",
       "      <td>714.045</td>\n",
       "      <td>1.65</td>\n",
       "      <td>2</td>\n",
       "      <td>26.031533</td>\n",
       "      <td>706.79154</td>\n",
       "      <td>-5690.639732</td>\n",
       "      <td>0.017885</td>\n",
       "      <td>0</td>\n",
       "      <td>False</td>\n",
       "      <td>709.00</td>\n",
       "      <td>705.45</td>\n",
       "      <td>8.051369</td>\n",
       "      <td>715.0</td>\n",
       "    </tr>\n",
       "    <tr>\n",
       "      <th>2016-11-08T10:04</th>\n",
       "      <td>0.9</td>\n",
       "      <td>705.45</td>\n",
       "      <td>703.8</td>\n",
       "      <td>704.624678</td>\n",
       "      <td>714.045</td>\n",
       "      <td>1.65</td>\n",
       "      <td>2</td>\n",
       "      <td>17.980163</td>\n",
       "      <td>705.51293</td>\n",
       "      <td>-1284.129603</td>\n",
       "      <td>0.000743</td>\n",
       "      <td>0</td>\n",
       "      <td>False</td>\n",
       "      <td>707.18</td>\n",
       "      <td>705.45</td>\n",
       "      <td>1.820136</td>\n",
       "      <td>715.0</td>\n",
       "    </tr>\n",
       "    <tr>\n",
       "      <th>2016-11-08T10:06</th>\n",
       "      <td>0.9</td>\n",
       "      <td>710.32</td>\n",
       "      <td>703.8</td>\n",
       "      <td>707.054990</td>\n",
       "      <td>714.532</td>\n",
       "      <td>6.52</td>\n",
       "      <td>2</td>\n",
       "      <td>16.160027</td>\n",
       "      <td>710.76971</td>\n",
       "      <td>-11486.057815</td>\n",
       "      <td>0.127056</td>\n",
       "      <td>0</td>\n",
       "      <td>True</td>\n",
       "      <td>714.35</td>\n",
       "      <td>705.00</td>\n",
       "      <td>16.160027</td>\n",
       "      <td>715.0</td>\n",
       "    </tr>\n",
       "  </tbody>\n",
       "</table>\n",
       "</div>"
      ],
      "text/plain": [
       "                  ACTION     ASK    BID      CENTER    LIMIT  SPREAD  T  \\\n",
       "2016-11-08T10:00     0.9  705.45  705.0  705.224976  714.045    0.45  2   \n",
       "2016-11-08T10:02     0.9  705.45  703.8  704.624678  714.045    1.65  2   \n",
       "2016-11-08T10:04     0.9  705.45  703.8  704.624678  714.045    1.65  2   \n",
       "2016-11-08T10:06     0.9  710.32  703.8  707.054990  714.532    6.52  2   \n",
       "\n",
       "                      VOLUME        avg      cashflow      cost  cost_avg  \\\n",
       "2016-11-08T10:00  100.000000  709.64918 -52491.662052  0.464039         0   \n",
       "2016-11-08T10:02   26.031533  706.79154  -5690.639732  0.017885         0   \n",
       "2016-11-08T10:04   17.980163  705.51293  -1284.129603  0.000743         0   \n",
       "2016-11-08T10:06   16.160027  710.76971 -11486.057815  0.127056         0   \n",
       "\n",
       "                 forced    high     low  volume_traded  LIMIT_MAX  \n",
       "2016-11-08T10:00  False  714.00  705.45      73.968467      715.0  \n",
       "2016-11-08T10:02  False  709.00  705.45       8.051369      715.0  \n",
       "2016-11-08T10:04  False  707.18  705.45       1.820136      715.0  \n",
       "2016-11-08T10:06   True  714.35  705.00      16.160027      715.0  "
      ]
     },
     "metadata": {},
     "output_type": "display_data"
    }
   ],
   "source": [
    "P = 2\n",
    "vol=100\n",
    "T = 4\n",
    "ots = OrderbookTradingSimulator(orderbooks=episode_windows[0][:T*P], volume=vol, tradingperiods=T,\n",
    "                                decisionfrequency=P)\n",
    "\n",
    "for e in tqdm(range(T)):\n",
    "    action=0.9\n",
    "    summary = ots.trade(agression_factor=action, verbose=True, extrainfo={'ACTION':action})\n",
    "display(ots.history)"
   ]
  },
  {
   "cell_type": "code",
   "execution_count": null,
   "metadata": {
    "collapsed": true
   },
   "outputs": [],
   "source": []
  }
 ],
 "metadata": {
  "kernelspec": {
   "display_name": "Python 3",
   "language": "python",
   "name": "python3"
  },
  "language_info": {
   "codemirror_mode": {
    "name": "ipython",
    "version": 3
   },
   "file_extension": ".py",
   "mimetype": "text/x-python",
   "name": "python",
   "nbconvert_exporter": "python",
   "pygments_lexer": "ipython3",
   "version": "3.5.1"
  },
  "widgets": {
   "state": {},
   "version": "1.1.2"
  }
 },
 "nbformat": 4,
 "nbformat_minor": 0
}
