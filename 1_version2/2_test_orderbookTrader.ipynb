{
 "cells": [
  {
   "cell_type": "code",
   "execution_count": 1,
   "metadata": {
    "collapsed": false
   },
   "outputs": [],
   "source": [
    "%load_ext autoreload\n",
    "%autoreload 2\n",
    "\n",
    "from tqdm import tqdm\n",
    "import pandas as pd\n",
    "import numpy as np\n",
    "import gzip\n",
    "import json\n",
    "import math\n",
    "from datetime import datetime\n",
    "from IPython.display import display\n",
    "%matplotlib inline"
   ]
  },
  {
   "cell_type": "code",
   "execution_count": null,
   "metadata": {
    "collapsed": false
   },
   "outputs": [],
   "source": [
    "from helper.manage_orderbooks_v2 import extract_orderbooks_for_one_currencypair, load_orderbook_snapshot\n",
    "from helper.orderbook_container import OrderbookContainer\n",
    "from helper.orderbook_trader import OrderbookTradingSimulator"
   ]
  },
  {
   "cell_type": "code",
   "execution_count": null,
   "metadata": {
    "collapsed": false,
    "scrolled": false
   },
   "outputs": [
    {
     "name": "stderr",
     "output_type": "stream",
     "text": [
      " 47%|████▋     | 47/100 [00:02<00:02, 21.15it/s]"
     ]
    }
   ],
   "source": [
    "filename = '3000orderbooks'\n",
    "data = load_orderbook_snapshot(filename, last_line=100)"
   ]
  },
  {
   "cell_type": "code",
   "execution_count": null,
   "metadata": {
    "collapsed": false,
    "scrolled": true
   },
   "outputs": [],
   "source": [
    "orderbook = data[0]\n",
    "print(orderbook)\n",
    "orderbook2 = data[1]\n",
    "print(orderbook2)\n",
    "\n",
    "print(\"\\nCompare two orderbooks_\")\n",
    "diff = orderbook.compare_with(other=orderbook2)\n",
    "\n",
    "display(diff.head())\n",
    "print(diff)"
   ]
  },
  {
   "cell_type": "code",
   "execution_count": null,
   "metadata": {
    "collapsed": false
   },
   "outputs": [],
   "source": [
    "vol = 40\n",
    "print(\"Current MarketOrderPrice for {} shares: {}\".format(vol, orderbook.get_current_price(vol)))"
   ]
  },
  {
   "cell_type": "code",
   "execution_count": null,
   "metadata": {
    "collapsed": false
   },
   "outputs": [],
   "source": [
    "display(orderbook.head(2))\n",
    "display(orderbook.tail(2))"
   ]
  },
  {
   "cell_type": "code",
   "execution_count": null,
   "metadata": {
    "collapsed": false,
    "scrolled": false
   },
   "outputs": [],
   "source": [
    "ots = OrderbookTradingSimulator()\n",
    "vol = 40\n",
    "T=10\n",
    "P = 2\n",
    "for e in range(T):\n",
    "    print(\"epoch {}\".format(e))\n",
    "    res = ots.trade_timespan(orderbooks=data[P*e:P*(e+1)], volume=vol, limit=707.5, timespan=P, verbose=True)\n",
    "    vol = ots.history.volume_left.values[-1]\n",
    "# res = ots.trade_timespan(orderbooks=data[2:4], volume=40, limit=705.5, timespan=2)\n",
    "\n",
    "display(ots.history)\n",
    "display(ots.buy_history)\n",
    "display(res.head(5))"
   ]
  },
  {
   "cell_type": "code",
   "execution_count": null,
   "metadata": {
    "collapsed": true
   },
   "outputs": [],
   "source": []
  }
 ],
 "metadata": {
  "kernelspec": {
   "display_name": "Python 2",
   "language": "python",
   "name": "python2"
  },
  "language_info": {
   "codemirror_mode": {
    "name": "ipython",
    "version": 2
   },
   "file_extension": ".py",
   "mimetype": "text/x-python",
   "name": "python",
   "nbconvert_exporter": "python",
   "pygments_lexer": "ipython2",
   "version": "2.7.5"
  },
  "widgets": {
   "state": {},
   "version": "1.1.2"
  }
 },
 "nbformat": 4,
 "nbformat_minor": 0
}
