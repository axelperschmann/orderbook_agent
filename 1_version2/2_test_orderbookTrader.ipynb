{
 "cells": [
  {
   "cell_type": "code",
   "execution_count": 1,
   "metadata": {
    "collapsed": false
   },
   "outputs": [],
   "source": [
    "%load_ext autoreload\n",
    "%autoreload 2\n",
    "\n",
    "from tqdm import tqdm\n",
    "import pandas as pd\n",
    "import numpy as np\n",
    "import gzip\n",
    "import json\n",
    "import math\n",
    "from datetime import datetime\n",
    "from IPython.display import display\n",
    "import matplotlib.pyplot as plt\n",
    "import matplotlib.dates as mdates\n",
    "%matplotlib inline"
   ]
  },
  {
   "cell_type": "code",
   "execution_count": 2,
   "metadata": {
    "collapsed": false
   },
   "outputs": [],
   "source": [
    "from helper.manage_orderbooks_v2 import extract_orderbooks_for_one_currencypair, load_orderbook_snapshot, plot_episode\n",
    "from helper.orderbook_container import OrderbookContainer\n",
    "from helper.orderbook_trader import OrderbookTradingSimulator"
   ]
  },
  {
   "cell_type": "code",
   "execution_count": 3,
   "metadata": {
    "collapsed": false,
    "scrolled": false
   },
   "outputs": [
    {
     "name": "stderr",
     "output_type": "stream",
     "text": [
      "100%|██████████| 120/120 [00:02<00:00, 40.82it/s]"
     ]
    },
    {
     "name": "stdout",
     "output_type": "stream",
     "text": [
      "Loaded 120 orderbooks from file '3000orderbooks'.\n"
     ]
    },
    {
     "name": "stderr",
     "output_type": "stream",
     "text": [
      "\n"
     ]
    }
   ],
   "source": [
    "filename = '3000orderbooks'\n",
    "data = load_orderbook_snapshot(filename, last_line=120)"
   ]
  },
  {
   "cell_type": "markdown",
   "metadata": {},
   "source": [
    "#### Test Orderbook plot, print and compare_with"
   ]
  },
  {
   "cell_type": "code",
   "execution_count": 4,
   "metadata": {
    "collapsed": false,
    "scrolled": false
   },
   "outputs": [
    {
     "data": {
      "text/html": [
       "<div>\n",
       "<table border=\"1\" class=\"dataframe\">\n",
       "  <thead>\n",
       "    <tr style=\"text-align: right;\">\n",
       "      <th></th>\n",
       "      <th>Amount</th>\n",
       "      <th>Type</th>\n",
       "    </tr>\n",
       "  </thead>\n",
       "  <tbody>\n",
       "    <tr>\n",
       "      <th>703.500000</th>\n",
       "      <td>1.461657</td>\n",
       "      <td>bid</td>\n",
       "    </tr>\n",
       "    <tr>\n",
       "      <th>703.700000</th>\n",
       "      <td>0.001250</td>\n",
       "      <td>bid</td>\n",
       "    </tr>\n",
       "    <tr>\n",
       "      <th>705.000000</th>\n",
       "      <td>0.158232</td>\n",
       "      <td>bid</td>\n",
       "    </tr>\n",
       "    <tr>\n",
       "      <th>705.224976</th>\n",
       "      <td>NaN</td>\n",
       "      <td>center</td>\n",
       "    </tr>\n",
       "    <tr>\n",
       "      <th>705.450000</th>\n",
       "      <td>3.172181</td>\n",
       "      <td>ask</td>\n",
       "    </tr>\n",
       "    <tr>\n",
       "      <th>706.170000</th>\n",
       "      <td>0.052838</td>\n",
       "      <td>ask</td>\n",
       "    </tr>\n",
       "    <tr>\n",
       "      <th>706.190000</th>\n",
       "      <td>0.645323</td>\n",
       "      <td>ask</td>\n",
       "    </tr>\n",
       "  </tbody>\n",
       "</table>\n",
       "</div>"
      ],
      "text/plain": [
       "              Amount    Type\n",
       "703.500000  1.461657     bid\n",
       "703.700000  0.001250     bid\n",
       "705.000000  0.158232     bid\n",
       "705.224976       NaN  center\n",
       "705.450000  3.172181     ask\n",
       "706.170000  0.052838     ask\n",
       "706.190000  0.645323     ask"
      ]
     },
     "metadata": {},
     "output_type": "display_data"
    },
    {
     "data": {
      "image/png": "[encoded data removed]",
      "text/plain": [
       "<matplotlib.figure.Figure at 0x116362dd8>"
      ]
     },
     "metadata": {},
     "output_type": "display_data"
    },
    {
     "name": "stdout",
     "output_type": "stream",
     "text": [
      "OrderbookContainer from 2016-11-08T10:00\n",
      "  499 bids (best: 705.0)\n",
      "  407 asks (best: 705.45)\n",
      "  kind: 'orderbook'\n",
      "OrderbookContainer from 2016-11-08T10:01\n",
      "  499 bids (best: 703.8)\n",
      "  406 asks (best: 705.45)\n",
      "  kind: 'orderbook'\n"
     ]
    }
   ],
   "source": [
    "orderbook = data[0]\n",
    "orderbook2 = data[1]\n",
    "orderbook3 = data[2]\n",
    "\n",
    "display(orderbook.head(3))\n",
    "orderbook.plot(range_factor=1.02)  # outfile='sample.pdf')\n",
    "print(orderbook)\n",
    "print(orderbook2)"
   ]
  },
  {
   "cell_type": "code",
   "execution_count": null,
   "metadata": {
    "collapsed": false
   },
   "outputs": [
    {
     "data": {
      "text/html": [
       "<div>\n",
       "<table border=\"1\" class=\"dataframe\">\n",
       "  <thead>\n",
       "    <tr style=\"text-align: right;\">\n",
       "      <th></th>\n",
       "      <th>Amount</th>\n",
       "      <th>Type</th>\n",
       "    </tr>\n",
       "  </thead>\n",
       "  <tbody>\n",
       "    <tr>\n",
       "      <th>703.500000</th>\n",
       "      <td>1.461657</td>\n",
       "      <td>bid</td>\n",
       "    </tr>\n",
       "    <tr>\n",
       "      <th>703.700000</th>\n",
       "      <td>0.001250</td>\n",
       "      <td>bid</td>\n",
       "    </tr>\n",
       "    <tr>\n",
       "      <th>705.000000</th>\n",
       "      <td>0.158232</td>\n",
       "      <td>bid</td>\n",
       "    </tr>\n",
       "    <tr>\n",
       "      <th>705.224976</th>\n",
       "      <td>NaN</td>\n",
       "      <td>center</td>\n",
       "    </tr>\n",
       "    <tr>\n",
       "      <th>705.450000</th>\n",
       "      <td>3.172181</td>\n",
       "      <td>ask</td>\n",
       "    </tr>\n",
       "    <tr>\n",
       "      <th>706.170000</th>\n",
       "      <td>0.052838</td>\n",
       "      <td>ask</td>\n",
       "    </tr>\n",
       "    <tr>\n",
       "      <th>706.190000</th>\n",
       "      <td>0.645323</td>\n",
       "      <td>ask</td>\n",
       "    </tr>\n",
       "  </tbody>\n",
       "</table>\n",
       "</div>"
      ],
      "text/plain": [
       "              Amount    Type\n",
       "703.500000  1.461657     bid\n",
       "703.700000  0.001250     bid\n",
       "705.000000  0.158232     bid\n",
       "705.224976       NaN  center\n",
       "705.450000  3.172181     ask\n",
       "706.170000  0.052838     ask\n",
       "706.190000  0.645323     ask"
      ]
     },
     "metadata": {},
     "output_type": "display_data"
    },
    {
     "data": {
      "text/html": [
       "<div>\n",
       "<table border=\"1\" class=\"dataframe\">\n",
       "  <thead>\n",
       "    <tr style=\"text-align: right;\">\n",
       "      <th></th>\n",
       "      <th>Amount</th>\n",
       "      <th>Type</th>\n",
       "    </tr>\n",
       "  </thead>\n",
       "  <tbody>\n",
       "    <tr>\n",
       "      <th>703.360000</th>\n",
       "      <td>1.700000</td>\n",
       "      <td>bid</td>\n",
       "    </tr>\n",
       "    <tr>\n",
       "      <th>703.700000</th>\n",
       "      <td>0.001250</td>\n",
       "      <td>bid</td>\n",
       "    </tr>\n",
       "    <tr>\n",
       "      <th>703.800000</th>\n",
       "      <td>5.276769</td>\n",
       "      <td>bid</td>\n",
       "    </tr>\n",
       "    <tr>\n",
       "      <th>704.624678</th>\n",
       "      <td>NaN</td>\n",
       "      <td>center</td>\n",
       "    </tr>\n",
       "    <tr>\n",
       "      <th>705.450000</th>\n",
       "      <td>5.049153</td>\n",
       "      <td>ask</td>\n",
       "    </tr>\n",
       "    <tr>\n",
       "      <th>706.170000</th>\n",
       "      <td>0.052838</td>\n",
       "      <td>ask</td>\n",
       "    </tr>\n",
       "    <tr>\n",
       "      <th>706.190000</th>\n",
       "      <td>0.645323</td>\n",
       "      <td>ask</td>\n",
       "    </tr>\n",
       "  </tbody>\n",
       "</table>\n",
       "</div>"
      ],
      "text/plain": [
       "              Amount    Type\n",
       "703.360000  1.700000     bid\n",
       "703.700000  0.001250     bid\n",
       "703.800000  5.276769     bid\n",
       "704.624678       NaN  center\n",
       "705.450000  5.049153     ask\n",
       "706.170000  0.052838     ask\n",
       "706.190000  0.645323     ask"
      ]
     },
     "metadata": {},
     "output_type": "display_data"
    },
    {
     "name": "stdout",
     "output_type": "stream",
     "text": [
      "\n",
      "Compare two orderbooks:\n"
     ]
    },
    {
     "data": {
      "text/html": [
       "<div>\n",
       "<table border=\"1\" class=\"dataframe\">\n",
       "  <thead>\n",
       "    <tr style=\"text-align: right;\">\n",
       "      <th></th>\n",
       "      <th>Amount</th>\n",
       "      <th>Type</th>\n",
       "    </tr>\n",
       "  </thead>\n",
       "  <tbody>\n",
       "    <tr>\n",
       "      <th>694.84</th>\n",
       "      <td>-0.334889</td>\n",
       "      <td>bid</td>\n",
       "    </tr>\n",
       "    <tr>\n",
       "      <th>694.01</th>\n",
       "      <td>-0.386696</td>\n",
       "      <td>bid</td>\n",
       "    </tr>\n",
       "    <tr>\n",
       "      <th>689.07</th>\n",
       "      <td>0.431199</td>\n",
       "      <td>bid</td>\n",
       "    </tr>\n",
       "    <tr>\n",
       "      <th>688.40</th>\n",
       "      <td>-0.432340</td>\n",
       "      <td>bid</td>\n",
       "    </tr>\n",
       "    <tr>\n",
       "      <th>685.11</th>\n",
       "      <td>-0.473604</td>\n",
       "      <td>bid</td>\n",
       "    </tr>\n",
       "    <tr>\n",
       "      <th>683.92</th>\n",
       "      <td>0.472354</td>\n",
       "      <td>bid</td>\n",
       "    </tr>\n",
       "    <tr>\n",
       "      <th>678.34</th>\n",
       "      <td>-0.511551</td>\n",
       "      <td>bid</td>\n",
       "    </tr>\n",
       "    <tr>\n",
       "      <th>678.31</th>\n",
       "      <td>0.510201</td>\n",
       "      <td>bid</td>\n",
       "    </tr>\n",
       "    <tr>\n",
       "      <th>674.59</th>\n",
       "      <td>-0.546871</td>\n",
       "      <td>bid</td>\n",
       "    </tr>\n",
       "    <tr>\n",
       "      <th>673.62</th>\n",
       "      <td>0.545428</td>\n",
       "      <td>bid</td>\n",
       "    </tr>\n",
       "    <tr>\n",
       "      <th>705.45</th>\n",
       "      <td>1.876972</td>\n",
       "      <td>ask</td>\n",
       "    </tr>\n",
       "    <tr>\n",
       "      <th>706.41</th>\n",
       "      <td>0.045817</td>\n",
       "      <td>ask</td>\n",
       "    </tr>\n",
       "    <tr>\n",
       "      <th>706.81</th>\n",
       "      <td>7.529719</td>\n",
       "      <td>ask</td>\n",
       "    </tr>\n",
       "    <tr>\n",
       "      <th>706.89</th>\n",
       "      <td>-0.105160</td>\n",
       "      <td>ask</td>\n",
       "    </tr>\n",
       "    <tr>\n",
       "      <th>707.18</th>\n",
       "      <td>-6.456261</td>\n",
       "      <td>ask</td>\n",
       "    </tr>\n",
       "    <tr>\n",
       "      <th>716.46</th>\n",
       "      <td>-1.188543</td>\n",
       "      <td>ask</td>\n",
       "    </tr>\n",
       "    <tr>\n",
       "      <th>716.75</th>\n",
       "      <td>0.011654</td>\n",
       "      <td>ask</td>\n",
       "    </tr>\n",
       "    <tr>\n",
       "      <th>716.89</th>\n",
       "      <td>0.011654</td>\n",
       "      <td>ask</td>\n",
       "    </tr>\n",
       "    <tr>\n",
       "      <th>716.95</th>\n",
       "      <td>-0.011654</td>\n",
       "      <td>ask</td>\n",
       "    </tr>\n",
       "    <tr>\n",
       "      <th>717.03</th>\n",
       "      <td>0.011654</td>\n",
       "      <td>ask</td>\n",
       "    </tr>\n",
       "  </tbody>\n",
       "</table>\n",
       "</div>"
      ],
      "text/plain": [
       "          Amount Type\n",
       "694.84 -0.334889  bid\n",
       "694.01 -0.386696  bid\n",
       "689.07  0.431199  bid\n",
       "688.40 -0.432340  bid\n",
       "685.11 -0.473604  bid\n",
       "683.92  0.472354  bid\n",
       "678.34 -0.511551  bid\n",
       "678.31  0.510201  bid\n",
       "674.59 -0.546871  bid\n",
       "673.62  0.545428  bid\n",
       "705.45  1.876972  ask\n",
       "706.41  0.045817  ask\n",
       "706.81  7.529719  ask\n",
       "706.89 -0.105160  ask\n",
       "707.18 -6.456261  ask\n",
       "716.46 -1.188543  ask\n",
       "716.75  0.011654  ask\n",
       "716.89  0.011654  ask\n",
       "716.95 -0.011654  ask\n",
       "717.03  0.011654  ask"
      ]
     },
     "metadata": {},
     "output_type": "display_data"
    },
    {
     "name": "stdout",
     "output_type": "stream",
     "text": [
      "OrderbookContainer from 2016-11-08T10:00\n",
      "  23 bids (best: 673.62)\n",
      "  27 asks (best: 705.45)\n",
      "  kind: 'diff'\n"
     ]
    }
   ],
   "source": [
    "orderbook = data[0]\n",
    "orderbook2 = data[1]\n",
    "\n",
    "display(orderbook.head())\n",
    "display(orderbook2.head())\n",
    "\n",
    "print(\"\\nCompare two orderbooks:\")\n",
    "diff = orderbook2.compare_with(other=orderbook)\n",
    "\n",
    "display(diff.head(10))\n",
    "print(diff)"
   ]
  },
  {
   "cell_type": "code",
   "execution_count": null,
   "metadata": {
    "collapsed": false,
    "scrolled": false
   },
   "outputs": [
    {
     "name": "stdout",
     "output_type": "stream",
     "text": [
      "episode_length 120\n",
      "episode_windows[0] = orderbooks[0:120], length=120\n",
      "\n",
      "Episodes: 1, orderbooks per episode: 120\n"
     ]
    },
    {
     "data": {
      "text/html": [
       "<div>\n",
       "<table border=\"1\" class=\"dataframe\">\n",
       "  <thead>\n",
       "    <tr style=\"text-align: right;\">\n",
       "      <th></th>\n",
       "      <th>Amount</th>\n",
       "      <th>Type</th>\n",
       "    </tr>\n",
       "  </thead>\n",
       "  <tbody>\n",
       "    <tr>\n",
       "      <th>703.500000</th>\n",
       "      <td>1.461657</td>\n",
       "      <td>bid</td>\n",
       "    </tr>\n",
       "    <tr>\n",
       "      <th>703.700000</th>\n",
       "      <td>0.001250</td>\n",
       "      <td>bid</td>\n",
       "    </tr>\n",
       "    <tr>\n",
       "      <th>705.000000</th>\n",
       "      <td>0.158232</td>\n",
       "      <td>bid</td>\n",
       "    </tr>\n",
       "    <tr>\n",
       "      <th>705.224976</th>\n",
       "      <td>NaN</td>\n",
       "      <td>center</td>\n",
       "    </tr>\n",
       "    <tr>\n",
       "      <th>705.450000</th>\n",
       "      <td>3.172181</td>\n",
       "      <td>ask</td>\n",
       "    </tr>\n",
       "    <tr>\n",
       "      <th>706.170000</th>\n",
       "      <td>0.052838</td>\n",
       "      <td>ask</td>\n",
       "    </tr>\n",
       "    <tr>\n",
       "      <th>706.190000</th>\n",
       "      <td>0.645323</td>\n",
       "      <td>ask</td>\n",
       "    </tr>\n",
       "  </tbody>\n",
       "</table>\n",
       "</div>"
      ],
      "text/plain": [
       "              Amount    Type\n",
       "703.500000  1.461657     bid\n",
       "703.700000  0.001250     bid\n",
       "705.000000  0.158232     bid\n",
       "705.224976       NaN  center\n",
       "705.450000  3.172181     ask\n",
       "706.170000  0.052838     ask\n",
       "706.190000  0.645323     ask"
      ]
     },
     "metadata": {},
     "output_type": "display_data"
    },
    {
     "data": {
      "text/html": [
       "<div>\n",
       "<table border=\"1\" class=\"dataframe\">\n",
       "  <thead>\n",
       "    <tr style=\"text-align: right;\">\n",
       "      <th></th>\n",
       "      <th>Amount</th>\n",
       "      <th>Type</th>\n",
       "    </tr>\n",
       "  </thead>\n",
       "  <tbody>\n",
       "    <tr>\n",
       "      <th>705.09000</th>\n",
       "      <td>1.591694</td>\n",
       "      <td>bid</td>\n",
       "    </tr>\n",
       "    <tr>\n",
       "      <th>705.50000</th>\n",
       "      <td>3.009879</td>\n",
       "      <td>bid</td>\n",
       "    </tr>\n",
       "    <tr>\n",
       "      <th>706.00000</th>\n",
       "      <td>7.277076</td>\n",
       "      <td>bid</td>\n",
       "    </tr>\n",
       "    <tr>\n",
       "      <th>706.90961</th>\n",
       "      <td>NaN</td>\n",
       "      <td>center</td>\n",
       "    </tr>\n",
       "    <tr>\n",
       "      <th>707.82000</th>\n",
       "      <td>5.027350</td>\n",
       "      <td>ask</td>\n",
       "    </tr>\n",
       "    <tr>\n",
       "      <th>707.83000</th>\n",
       "      <td>0.006685</td>\n",
       "      <td>ask</td>\n",
       "    </tr>\n",
       "    <tr>\n",
       "      <th>707.86000</th>\n",
       "      <td>0.013980</td>\n",
       "      <td>ask</td>\n",
       "    </tr>\n",
       "  </tbody>\n",
       "</table>\n",
       "</div>"
      ],
      "text/plain": [
       "             Amount    Type\n",
       "705.09000  1.591694     bid\n",
       "705.50000  3.009879     bid\n",
       "706.00000  7.277076     bid\n",
       "706.90961       NaN  center\n",
       "707.82000  5.027350     ask\n",
       "707.83000  0.006685     ask\n",
       "707.86000  0.013980     ask"
      ]
     },
     "metadata": {},
     "output_type": "display_data"
    }
   ],
   "source": [
    "P = 10\n",
    "vol=30\n",
    "T = 12\n",
    "episode_length = T*P\n",
    "print(\"episode_length\", episode_length)\n",
    "episodes = int(len(data) / episode_length)\n",
    "\n",
    "episode_windows = []\n",
    "for e in range(0, episodes):\n",
    "    episode_start = e*episode_length\n",
    "    episode_end = (e+1)*episode_length\n",
    "    window = [ob.copy() for ob in data[episode_start:episode_end]]\n",
    "    print(\"episode_windows[{}] = orderbooks[{}:{}], length={}\".format(e, episode_start, episode_end, len(window)))\n",
    "    \n",
    "    # window = [orderbooks[e*episode_length + idx].copy() for idx in range(episode_length)]\n",
    "    episode_windows.append(window)\n",
    "    \n",
    "print(\"\\nEpisodes: {}, orderbooks per episode: {}\".format(len(episode_windows), len(episode_windows[0])))\n",
    "\n",
    "ob = episode_windows[0][0]\n",
    "ob2 = episode_windows[0][-1]\n",
    "display(ob.head(3))\n",
    "display(ob2.head(3))\n",
    "plot_episode(episode_windows[0], volume=vol)"
   ]
  },
  {
   "cell_type": "markdown",
   "metadata": {},
   "source": [
    "#### Test get_current_price()"
   ]
  },
  {
   "cell_type": "code",
   "execution_count": null,
   "metadata": {
    "collapsed": false
   },
   "outputs": [],
   "source": [
    "display(orderbook.head(3))\n",
    "vol = 10\n",
    "\n",
    "for factor in [0.25, 0.5, 0.75, 1.]:\n",
    "    res = orderbook.get_current_price(vol*factor)\n",
    "    print(\"MarketOrderPrice for {} shares: {:1.4f} (worst price: {})\".format(vol*factor, res[0], res[1]))"
   ]
  },
  {
   "cell_type": "markdown",
   "metadata": {},
   "source": [
    "#### Test orderbook.head and tail"
   ]
  },
  {
   "cell_type": "code",
   "execution_count": null,
   "metadata": {
    "collapsed": false
   },
   "outputs": [],
   "source": [
    "display(orderbook.head(2))\n",
    "display(orderbook.tail(2))"
   ]
  },
  {
   "cell_type": "markdown",
   "metadata": {},
   "source": [
    "#### Test parameter limit"
   ]
  },
  {
   "cell_type": "code",
   "execution_count": null,
   "metadata": {
    "collapsed": false
   },
   "outputs": [],
   "source": [
    "len(episode_windows[0])"
   ]
  },
  {
   "cell_type": "code",
   "execution_count": null,
   "metadata": {
    "collapsed": false,
    "scrolled": true
   },
   "outputs": [],
   "source": [
    "P = 4\n",
    "vol=100\n",
    "T = 2\n",
    "ots = OrderbookTradingSimulator(orderbooks=episode_windows[0][:T*P], volume=vol, tradingperiods=T,\n",
    "                                decisionfrequency=P)\n",
    "\n",
    "for e in tqdm(range(T)):\n",
    "    summary = ots.trade(limit=706, verbose=True)\n",
    "\n",
    "display(ots.history)\n",
    "display(summary)\n"
   ]
  },
  {
   "cell_type": "code",
   "execution_count": null,
   "metadata": {
    "collapsed": false,
    "scrolled": false
   },
   "outputs": [],
   "source": [
    "P = 2\n",
    "vol=100\n",
    "T = 4\n",
    "ots = OrderbookTradingSimulator(orderbooks=episode_windows[0][:T*P], volume=vol, tradingperiods=T,\n",
    "                                decisionfrequency=P)\n",
    "\n",
    "for e in tqdm(range(T)):\n",
    "    summary = ots.trade(limit=706, verbose=True)\n",
    "\n",
    "display(ots.history)\n",
    "display(summary)\n"
   ]
  },
  {
   "cell_type": "markdown",
   "metadata": {},
   "source": [
    "#### Test parameter aggression_factor"
   ]
  },
  {
   "cell_type": "code",
   "execution_count": null,
   "metadata": {
    "collapsed": false
   },
   "outputs": [],
   "source": [
    "P = 2\n",
    "vol=100\n",
    "T = 4\n",
    "ots = OrderbookTradingSimulator(orderbooks=episode_windows[0][:T*P], volume=vol, tradingperiods=T,\n",
    "                                decisionfrequency=P)\n",
    "\n",
    "for e in tqdm(range(T)):\n",
    "    action=0.9\n",
    "    summary = ots.trade(agression_factor=action, verbose=True, extrainfo={'ACTION':action})\n",
    "display(ots.history)"
   ]
  },
  {
   "cell_type": "code",
   "execution_count": null,
   "metadata": {
    "collapsed": true
   },
   "outputs": [],
   "source": []
  }
 ],
 "metadata": {
  "kernelspec": {
   "display_name": "Python 3",
   "language": "python",
   "name": "python3"
  },
  "language_info": {
   "codemirror_mode": {
    "name": "ipython",
    "version": 3
   },
   "file_extension": ".py",
   "mimetype": "text/x-python",
   "name": "python",
   "nbconvert_exporter": "python",
   "pygments_lexer": "ipython3",
   "version": "3.5.1"
  },
  "widgets": {
   "state": {},
   "version": "1.1.2"
  }
 },
 "nbformat": 4,
 "nbformat_minor": 0
}
