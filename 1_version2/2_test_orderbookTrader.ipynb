{
 "cells": [
  {
   "cell_type": "code",
   "execution_count": 1,
   "metadata": {
    "collapsed": false
   },
   "outputs": [],
   "source": [
    "%load_ext autoreload\n",
    "%autoreload 2\n",
    "\n",
    "from tqdm import tqdm\n",
    "import pandas as pd\n",
    "import numpy as np\n",
    "import gzip\n",
    "import json\n",
    "import math\n",
    "from datetime import datetime\n",
    "from IPython.display import display\n",
    "%matplotlib inline"
   ]
  },
  {
   "cell_type": "code",
   "execution_count": 2,
   "metadata": {
    "collapsed": false
   },
   "outputs": [],
   "source": [
    "from helper.manage_orderbooks_v2 import extract_orderbooks_for_one_currencypair, load_orderbook_snapshot\n",
    "from helper.orderbook_container import OrderbookContainer\n",
    "from helper.orderbook_trader import OrderbookTradingSimulator"
   ]
  },
  {
   "cell_type": "code",
   "execution_count": 3,
   "metadata": {
    "collapsed": false,
    "scrolled": false
   },
   "outputs": [
    {
     "name": "stderr",
     "output_type": "stream",
     "text": [
      "100%|██████████| 20/20 [00:00<00:00, 20.13it/s]"
     ]
    },
    {
     "name": "stdout",
     "output_type": "stream",
     "text": [
      "Loaded 20 orderbooks from file 'test'.\n"
     ]
    },
    {
     "name": "stderr",
     "output_type": "stream",
     "text": [
      "\n"
     ]
    }
   ],
   "source": [
    "filename = 'test'\n",
    "data = load_orderbook_snapshot(filename, last_line=20)"
   ]
  },
  {
   "cell_type": "code",
   "execution_count": 4,
   "metadata": {
    "collapsed": false,
    "scrolled": false
   },
   "outputs": [
    {
     "name": "stdout",
     "output_type": "stream",
     "text": [
      "OrderbookContainer from 2016-11-08T10:00\n",
      "  499 bids (best: 705.0)\n",
      "  407 asks (best: 705.45)\n",
      "  kind: 'orderbook'\n",
      "OrderbookContainer from 2016-11-08T10:00\n",
      "  23 bids (best: 673.62)\n",
      "  27 asks (best: 705.45)\n",
      "  kind: 'diff'\n"
     ]
    }
   ],
   "source": [
    "orderbook = data[0]\n",
    "print(orderbook)\n",
    "\n",
    "orderbook2 = data[1]\n",
    "\n",
    "diff = orderbook2.subtract(other=orderbook)  #.to_DataFrame(5)\n",
    "#new = orderbook2.add(diff)\n",
    "\n",
    "print(diff)"
   ]
  },
  {
   "cell_type": "code",
   "execution_count": 20,
   "metadata": {
    "collapsed": false
   },
   "outputs": [
    {
     "data": {
      "text/html": [
       "<div>\n",
       "<table border=\"1\" class=\"dataframe\">\n",
       "  <thead>\n",
       "    <tr style=\"text-align: right;\">\n",
       "      <th></th>\n",
       "      <th>Amount</th>\n",
       "      <th>Type</th>\n",
       "    </tr>\n",
       "  </thead>\n",
       "  <tbody>\n",
       "    <tr>\n",
       "      <th>678.31</th>\n",
       "      <td>-0.510201</td>\n",
       "      <td>bid</td>\n",
       "    </tr>\n",
       "    <tr>\n",
       "      <th>674.59</th>\n",
       "      <td>0.546871</td>\n",
       "      <td>bid</td>\n",
       "    </tr>\n",
       "    <tr>\n",
       "      <th>673.62</th>\n",
       "      <td>-0.545428</td>\n",
       "      <td>bid</td>\n",
       "    </tr>\n",
       "    <tr>\n",
       "      <th>705.45</th>\n",
       "      <td>-1.876972</td>\n",
       "      <td>ask</td>\n",
       "    </tr>\n",
       "    <tr>\n",
       "      <th>706.41</th>\n",
       "      <td>-0.045817</td>\n",
       "      <td>ask</td>\n",
       "    </tr>\n",
       "    <tr>\n",
       "      <th>706.81</th>\n",
       "      <td>-7.529719</td>\n",
       "      <td>ask</td>\n",
       "    </tr>\n",
       "  </tbody>\n",
       "</table>\n",
       "</div>"
      ],
      "text/plain": [
       "          Amount Type\n",
       "678.31 -0.510201  bid\n",
       "674.59  0.546871  bid\n",
       "673.62 -0.545428  bid\n",
       "705.45 -1.876972  ask\n",
       "706.41 -0.045817  ask\n",
       "706.81 -7.529719  ask"
      ]
     },
     "metadata": {},
     "output_type": "display_data"
    },
    {
     "name": "stdout",
     "output_type": "stream",
     "text": [
      "OrderbookContainer from 2016-11-08T10:01\n",
      "  23 bids (best: 673.62)\n",
      "  27 asks (best: 705.45)\n",
      "  kind: 'diff'\n"
     ]
    },
    {
     "data": {
      "text/plain": [
       "{'cashflow': -2823.2013944685, 'trade_summary':           Amount\n",
       " 705.45  2.772181\n",
       " 706.17  0.052838\n",
       " 706.19  0.645323\n",
       " 706.89  0.105160\n",
       " 707.18  0.424498, 'volume': 4.0}"
      ]
     },
     "metadata": {},
     "output_type": "display_data"
    }
   ],
   "source": [
    "orderbook = data[0]\n",
    "orderbook2 = data[1]\n",
    "\n",
    "diff = orderbook.subtract(orderbook2)\n",
    "\n",
    "display(diff.head())\n",
    "print(diff)\n",
    "ots = OrderbookTradingSimulator()\n",
    "info = ots.check_current_value(orderbook, 4)\n",
    "display(info)"
   ]
  },
  {
   "cell_type": "code",
   "execution_count": 6,
   "metadata": {
    "collapsed": false
   },
   "outputs": [
    {
     "data": {
      "text/html": [
       "<div>\n",
       "<table border=\"1\" class=\"dataframe\">\n",
       "  <thead>\n",
       "    <tr style=\"text-align: right;\">\n",
       "      <th></th>\n",
       "      <th>Amount</th>\n",
       "      <th>Type</th>\n",
       "    </tr>\n",
       "  </thead>\n",
       "  <tbody>\n",
       "    <tr>\n",
       "      <th>614.000000</th>\n",
       "      <td>1.838163</td>\n",
       "      <td>bid</td>\n",
       "    </tr>\n",
       "    <tr>\n",
       "      <th>614.320000</th>\n",
       "      <td>0.034763</td>\n",
       "      <td>bid</td>\n",
       "    </tr>\n",
       "    <tr>\n",
       "      <th>614.760000</th>\n",
       "      <td>0.000048</td>\n",
       "      <td>bid</td>\n",
       "    </tr>\n",
       "    <tr>\n",
       "      <th>705.224976</th>\n",
       "      <td>NaN</td>\n",
       "      <td>center</td>\n",
       "    </tr>\n",
       "    <tr>\n",
       "      <th>809.090000</th>\n",
       "      <td>0.200000</td>\n",
       "      <td>ask</td>\n",
       "    </tr>\n",
       "    <tr>\n",
       "      <th>810.000000</th>\n",
       "      <td>0.286798</td>\n",
       "      <td>ask</td>\n",
       "    </tr>\n",
       "    <tr>\n",
       "      <th>811.000000</th>\n",
       "      <td>0.000100</td>\n",
       "      <td>ask</td>\n",
       "    </tr>\n",
       "  </tbody>\n",
       "</table>\n",
       "</div>"
      ],
      "text/plain": [
       "              Amount    Type\n",
       "614.000000  1.838163     bid\n",
       "614.320000  0.034763     bid\n",
       "614.760000  0.000048     bid\n",
       "705.224976       NaN  center\n",
       "809.090000  0.200000     ask\n",
       "810.000000  0.286798     ask\n",
       "811.000000  0.000100     ask"
      ]
     },
     "execution_count": 6,
     "metadata": {},
     "output_type": "execute_result"
    }
   ],
   "source": [
    "orderbook.tail()"
   ]
  },
  {
   "cell_type": "code",
   "execution_count": 7,
   "metadata": {
    "collapsed": false,
    "scrolled": false
   },
   "outputs": [
    {
     "data": {
      "text/html": [
       "<div>\n",
       "<table border=\"1\" class=\"dataframe\">\n",
       "  <thead>\n",
       "    <tr style=\"text-align: right;\">\n",
       "      <th></th>\n",
       "      <th>Amount</th>\n",
       "    </tr>\n",
       "  </thead>\n",
       "  <tbody>\n",
       "    <tr>\n",
       "      <th>705.45</th>\n",
       "      <td>2.772181</td>\n",
       "    </tr>\n",
       "  </tbody>\n",
       "</table>\n",
       "</div>"
      ],
      "text/plain": [
       "          Amount\n",
       "705.45  2.772181"
      ]
     },
     "metadata": {},
     "output_type": "display_data"
    },
    {
     "data": {
      "text/html": [
       "<div>\n",
       "<table border=\"1\" class=\"dataframe\">\n",
       "  <thead>\n",
       "    <tr style=\"text-align: right;\">\n",
       "      <th></th>\n",
       "      <th>Amount</th>\n",
       "    </tr>\n",
       "  </thead>\n",
       "  <tbody>\n",
       "    <tr>\n",
       "      <th>705.45</th>\n",
       "      <td>4.649153</td>\n",
       "    </tr>\n",
       "  </tbody>\n",
       "</table>\n",
       "</div>"
      ],
      "text/plain": [
       "          Amount\n",
       "705.45  4.649153"
      ]
     },
     "metadata": {},
     "output_type": "display_data"
    },
    {
     "name": "stderr",
     "output_type": "stream",
     "text": [
      "/usr/lib64/python2.7/site-packages/pandas/core/indexing.py:140: SettingWithCopyWarning: \n",
      "A value is trying to be set on a copy of a slice from a DataFrame\n",
      "\n",
      "See the caveats in the documentation: http://pandas.pydata.org/pandas-docs/stable/indexing.html#indexing-view-versus-copy\n",
      "  self._setitem_with_indexer(indexer, value)\n"
     ]
    },
    {
     "data": {
      "text/html": [
       "<div>\n",
       "<table border=\"1\" class=\"dataframe\">\n",
       "  <thead>\n",
       "    <tr style=\"text-align: right;\">\n",
       "      <th></th>\n",
       "      <th>ASK</th>\n",
       "      <th>BID</th>\n",
       "      <th>CENTER</th>\n",
       "      <th>LIMIT</th>\n",
       "      <th>SPREAD</th>\n",
       "      <th>TIMESPAN</th>\n",
       "      <th>VOLUME</th>\n",
       "      <th>avg</th>\n",
       "      <th>cashflow</th>\n",
       "      <th>cost</th>\n",
       "      <th>cost_avg</th>\n",
       "      <th>high</th>\n",
       "      <th>low</th>\n",
       "      <th>volume_left</th>\n",
       "      <th>volume_traded</th>\n",
       "    </tr>\n",
       "  </thead>\n",
       "  <tbody>\n",
       "    <tr>\n",
       "      <th>2016-11-08T10:00</th>\n",
       "      <td>705.45</td>\n",
       "      <td>705.0</td>\n",
       "      <td>705.224976</td>\n",
       "      <td>705.5</td>\n",
       "      <td>0.45</td>\n",
       "      <td>2</td>\n",
       "      <td>40</td>\n",
       "      <td>705.45</td>\n",
       "      <td>-5235.380014</td>\n",
       "      <td>1.669978</td>\n",
       "      <td>0.225024</td>\n",
       "      <td>705.45</td>\n",
       "      <td>705.45</td>\n",
       "      <td>32.578666</td>\n",
       "      <td>7.421334</td>\n",
       "    </tr>\n",
       "  </tbody>\n",
       "</table>\n",
       "</div>"
      ],
      "text/plain": [
       "                     ASK    BID      CENTER  LIMIT  SPREAD  TIMESPAN  VOLUME  \\\n",
       "2016-11-08T10:00  705.45  705.0  705.224976  705.5    0.45         2      40   \n",
       "\n",
       "                     avg     cashflow      cost  cost_avg    high     low  \\\n",
       "2016-11-08T10:00  705.45 -5235.380014  1.669978  0.225024  705.45  705.45   \n",
       "\n",
       "                  volume_left  volume_traded  \n",
       "2016-11-08T10:00    32.578666       7.421334  "
      ]
     },
     "metadata": {},
     "output_type": "display_data"
    },
    {
     "name": "stdout",
     "output_type": "stream",
     "text": [
      "  ##  adjust_orderbook  ##  \n"
     ]
    },
    {
     "data": {
      "text/html": [
       "<div>\n",
       "<table border=\"1\" class=\"dataframe\">\n",
       "  <thead>\n",
       "    <tr style=\"text-align: right;\">\n",
       "      <th></th>\n",
       "      <th>Amount</th>\n",
       "      <th>Type</th>\n",
       "    </tr>\n",
       "  </thead>\n",
       "  <tbody>\n",
       "    <tr>\n",
       "      <th>702.980000</th>\n",
       "      <td>0.913410</td>\n",
       "      <td>bid</td>\n",
       "    </tr>\n",
       "    <tr>\n",
       "      <th>703.000000</th>\n",
       "      <td>0.135358</td>\n",
       "      <td>bid</td>\n",
       "    </tr>\n",
       "    <tr>\n",
       "      <th>703.360000</th>\n",
       "      <td>1.700000</td>\n",
       "      <td>bid</td>\n",
       "    </tr>\n",
       "    <tr>\n",
       "      <th>703.700000</th>\n",
       "      <td>0.001250</td>\n",
       "      <td>bid</td>\n",
       "    </tr>\n",
       "    <tr>\n",
       "      <th>703.800000</th>\n",
       "      <td>5.276769</td>\n",
       "      <td>bid</td>\n",
       "    </tr>\n",
       "    <tr>\n",
       "      <th>704.624678</th>\n",
       "      <td>NaN</td>\n",
       "      <td>center</td>\n",
       "    </tr>\n",
       "    <tr>\n",
       "      <th>705.450000</th>\n",
       "      <td>4.649153</td>\n",
       "      <td>ask</td>\n",
       "    </tr>\n",
       "    <tr>\n",
       "      <th>706.170000</th>\n",
       "      <td>0.052838</td>\n",
       "      <td>ask</td>\n",
       "    </tr>\n",
       "    <tr>\n",
       "      <th>706.190000</th>\n",
       "      <td>0.645323</td>\n",
       "      <td>ask</td>\n",
       "    </tr>\n",
       "    <tr>\n",
       "      <th>706.410000</th>\n",
       "      <td>0.045817</td>\n",
       "      <td>ask</td>\n",
       "    </tr>\n",
       "    <tr>\n",
       "      <th>706.810000</th>\n",
       "      <td>7.529719</td>\n",
       "      <td>ask</td>\n",
       "    </tr>\n",
       "  </tbody>\n",
       "</table>\n",
       "</div>"
      ],
      "text/plain": [
       "              Amount    Type\n",
       "702.980000  0.913410     bid\n",
       "703.000000  0.135358     bid\n",
       "703.360000  1.700000     bid\n",
       "703.700000  0.001250     bid\n",
       "703.800000  5.276769     bid\n",
       "704.624678       NaN  center\n",
       "705.450000  4.649153     ask\n",
       "706.170000  0.052838     ask\n",
       "706.190000  0.645323     ask\n",
       "706.410000  0.045817     ask\n",
       "706.810000  7.529719     ask"
      ]
     },
     "metadata": {},
     "output_type": "display_data"
    },
    {
     "data": {
      "text/html": [
       "<div>\n",
       "<table border=\"1\" class=\"dataframe\">\n",
       "  <thead>\n",
       "    <tr style=\"text-align: right;\">\n",
       "      <th></th>\n",
       "      <th>Amount</th>\n",
       "    </tr>\n",
       "  </thead>\n",
       "  <tbody>\n",
       "    <tr>\n",
       "      <th>705.45</th>\n",
       "      <td>-2.772181</td>\n",
       "    </tr>\n",
       "  </tbody>\n",
       "</table>\n",
       "</div>"
      ],
      "text/plain": [
       "          Amount\n",
       "705.45 -2.772181"
      ]
     },
     "metadata": {},
     "output_type": "display_data"
    },
    {
     "data": {
      "text/html": [
       "<div>\n",
       "<table border=\"1\" class=\"dataframe\">\n",
       "  <thead>\n",
       "    <tr style=\"text-align: right;\">\n",
       "      <th></th>\n",
       "      <th>Amount</th>\n",
       "    </tr>\n",
       "  </thead>\n",
       "  <tbody>\n",
       "    <tr>\n",
       "      <th>705.45</th>\n",
       "      <td>7.421334</td>\n",
       "    </tr>\n",
       "  </tbody>\n",
       "</table>\n",
       "</div>"
      ],
      "text/plain": [
       "          Amount\n",
       "705.45  7.421334"
      ]
     },
     "metadata": {},
     "output_type": "display_data"
    },
    {
     "name": "stdout",
     "output_type": "stream",
     "text": [
      "  ##  adjust_orderbook END ##  \n"
     ]
    },
    {
     "data": {
      "text/html": [
       "<div>\n",
       "<table border=\"1\" class=\"dataframe\">\n",
       "  <thead>\n",
       "    <tr style=\"text-align: right;\">\n",
       "      <th></th>\n",
       "      <th>Amount</th>\n",
       "      <th>Type</th>\n",
       "    </tr>\n",
       "  </thead>\n",
       "  <tbody>\n",
       "    <tr>\n",
       "      <th>702.980000</th>\n",
       "      <td>0.913410</td>\n",
       "      <td>bid</td>\n",
       "    </tr>\n",
       "    <tr>\n",
       "      <th>703.000000</th>\n",
       "      <td>0.135358</td>\n",
       "      <td>bid</td>\n",
       "    </tr>\n",
       "    <tr>\n",
       "      <th>703.360000</th>\n",
       "      <td>1.700000</td>\n",
       "      <td>bid</td>\n",
       "    </tr>\n",
       "    <tr>\n",
       "      <th>703.700000</th>\n",
       "      <td>0.001250</td>\n",
       "      <td>bid</td>\n",
       "    </tr>\n",
       "    <tr>\n",
       "      <th>703.800000</th>\n",
       "      <td>5.276769</td>\n",
       "      <td>bid</td>\n",
       "    </tr>\n",
       "    <tr>\n",
       "      <th>704.624678</th>\n",
       "      <td>NaN</td>\n",
       "      <td>center</td>\n",
       "    </tr>\n",
       "    <tr>\n",
       "      <th>705.450000</th>\n",
       "      <td>4.649153</td>\n",
       "      <td>ask</td>\n",
       "    </tr>\n",
       "    <tr>\n",
       "      <th>706.170000</th>\n",
       "      <td>0.052838</td>\n",
       "      <td>ask</td>\n",
       "    </tr>\n",
       "    <tr>\n",
       "      <th>706.190000</th>\n",
       "      <td>0.645323</td>\n",
       "      <td>ask</td>\n",
       "    </tr>\n",
       "    <tr>\n",
       "      <th>706.410000</th>\n",
       "      <td>0.045817</td>\n",
       "      <td>ask</td>\n",
       "    </tr>\n",
       "    <tr>\n",
       "      <th>706.810000</th>\n",
       "      <td>7.529719</td>\n",
       "      <td>ask</td>\n",
       "    </tr>\n",
       "  </tbody>\n",
       "</table>\n",
       "</div>"
      ],
      "text/plain": [
       "              Amount    Type\n",
       "702.980000  0.913410     bid\n",
       "703.000000  0.135358     bid\n",
       "703.360000  1.700000     bid\n",
       "703.700000  0.001250     bid\n",
       "703.800000  5.276769     bid\n",
       "704.624678       NaN  center\n",
       "705.450000  4.649153     ask\n",
       "706.170000  0.052838     ask\n",
       "706.190000  0.645323     ask\n",
       "706.410000  0.045817     ask\n",
       "706.810000  7.529719     ask"
      ]
     },
     "metadata": {},
     "output_type": "display_data"
    }
   ],
   "source": [
    "ots = OrderbookTradingSimulator()\n",
    "res = ots.trade_timespan(orderbooks=data[:2], volume=40, limit=705.5, timespan=2)\n",
    "# res = ots.trade_timespan(orderbooks=data[2:4], volume=40, limit=705.5, timespan=2)\n",
    "\n",
    "display(res.head(5))"
   ]
  },
  {
   "cell_type": "code",
   "execution_count": null,
   "metadata": {
    "collapsed": true
   },
   "outputs": [],
   "source": []
  }
 ],
 "metadata": {
  "kernelspec": {
   "display_name": "Python 2",
   "language": "python",
   "name": "python2"
  },
  "language_info": {
   "codemirror_mode": {
    "name": "ipython",
    "version": 2
   },
   "file_extension": ".py",
   "mimetype": "text/x-python",
   "name": "python",
   "nbconvert_exporter": "python",
   "pygments_lexer": "ipython2",
   "version": "2.7.5"
  },
  "widgets": {
   "state": {},
   "version": "1.1.2"
  }
 },
 "nbformat": 4,
 "nbformat_minor": 0
}
