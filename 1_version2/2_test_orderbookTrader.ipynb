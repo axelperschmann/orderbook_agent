{
 "cells": [
  {
   "cell_type": "code",
   "execution_count": 1,
   "metadata": {
    "collapsed": false
   },
   "outputs": [],
   "source": [
    "%load_ext autoreload\n",
    "%autoreload 2\n",
    "\n",
    "from tqdm import tqdm\n",
    "import pandas as pd\n",
    "import numpy as np\n",
    "import gzip\n",
    "import json\n",
    "import math\n",
    "from datetime import datetime\n",
    "from IPython.display import display\n",
    "%matplotlib inline"
   ]
  },
  {
   "cell_type": "code",
   "execution_count": 2,
   "metadata": {
    "collapsed": false
   },
   "outputs": [],
   "source": [
    "from helper.manage_orderbooks_v2 import extract_orderbooks_for_one_currencypair, load_orderbook_snapshot\n",
    "from helper.orderbook_container import OrderbookContainer\n",
    "from helper.orderbook_trader import OrderbookTradingSimulator"
   ]
  },
  {
   "cell_type": "code",
   "execution_count": 3,
   "metadata": {
    "collapsed": false,
    "scrolled": false
   },
   "outputs": [
    {
     "name": "stderr",
     "output_type": "stream",
     "text": [
      "100%|██████████| 200/200 [00:05<00:00, 39.88it/s]"
     ]
    },
    {
     "name": "stdout",
     "output_type": "stream",
     "text": [
      "Loaded 200 orderbooks from file '3000orderbooks'.\n"
     ]
    },
    {
     "name": "stderr",
     "output_type": "stream",
     "text": [
      "\n"
     ]
    }
   ],
   "source": [
    "filename = '3000orderbooks'\n",
    "data = load_orderbook_snapshot(filename, last_line=200)"
   ]
  },
  {
   "cell_type": "code",
   "execution_count": 4,
   "metadata": {
    "collapsed": false,
    "scrolled": false
   },
   "outputs": [
    {
     "name": "stdout",
     "output_type": "stream",
     "text": [
      "Successfully saved 'sample.pdf'\n",
      "OrderbookContainer from 2016-11-08T10:00\n",
      "  499 bids (best: 705.0)\n",
      "  407 asks (best: 705.45)\n",
      "  kind: 'orderbook'\n",
      "OrderbookContainer from 2016-11-08T10:01\n",
      "  499 bids (best: 703.8)\n",
      "  406 asks (best: 705.45)\n",
      "  kind: 'orderbook'\n",
      "\n",
      "Compare two orderbooks:\n"
     ]
    },
    {
     "data": {
      "text/html": [
       "<div>\n",
       "<table border=\"1\" class=\"dataframe\">\n",
       "  <thead>\n",
       "    <tr style=\"text-align: right;\">\n",
       "      <th></th>\n",
       "      <th>Amount</th>\n",
       "      <th>Volume</th>\n",
       "      <th>VolumeAcc</th>\n",
       "      <th>norm_Price</th>\n",
       "      <th>Type</th>\n",
       "    </tr>\n",
       "  </thead>\n",
       "  <tbody>\n",
       "    <tr>\n",
       "      <th>685.11</th>\n",
       "      <td>0.473604</td>\n",
       "      <td>324.471015</td>\n",
       "      <td>108526.174016</td>\n",
       "      <td>0.971477</td>\n",
       "      <td>bid</td>\n",
       "    </tr>\n",
       "    <tr>\n",
       "      <th>678.34</th>\n",
       "      <td>0.511551</td>\n",
       "      <td>347.005553</td>\n",
       "      <td>142564.324900</td>\n",
       "      <td>0.961877</td>\n",
       "      <td>bid</td>\n",
       "    </tr>\n",
       "    <tr>\n",
       "      <th>674.59</th>\n",
       "      <td>0.546871</td>\n",
       "      <td>368.913775</td>\n",
       "      <td>150950.334759</td>\n",
       "      <td>0.956560</td>\n",
       "      <td>bid</td>\n",
       "    </tr>\n",
       "    <tr>\n",
       "      <th>705.45</th>\n",
       "      <td>-1.876972</td>\n",
       "      <td>2237.815171</td>\n",
       "      <td>2237.815171</td>\n",
       "      <td>1.000319</td>\n",
       "      <td>ask</td>\n",
       "    </tr>\n",
       "    <tr>\n",
       "      <th>706.89</th>\n",
       "      <td>0.105160</td>\n",
       "      <td>74.336899</td>\n",
       "      <td>2805.184977</td>\n",
       "      <td>1.002361</td>\n",
       "      <td>ask</td>\n",
       "    </tr>\n",
       "    <tr>\n",
       "      <th>707.18</th>\n",
       "      <td>6.456261</td>\n",
       "      <td>5649.346841</td>\n",
       "      <td>8454.531818</td>\n",
       "      <td>1.002772</td>\n",
       "      <td>ask</td>\n",
       "    </tr>\n",
       "  </tbody>\n",
       "</table>\n",
       "</div>"
      ],
      "text/plain": [
       "          Amount       Volume      VolumeAcc  norm_Price Type\n",
       "685.11  0.473604   324.471015  108526.174016    0.971477  bid\n",
       "678.34  0.511551   347.005553  142564.324900    0.961877  bid\n",
       "674.59  0.546871   368.913775  150950.334759    0.956560  bid\n",
       "705.45 -1.876972  2237.815171    2237.815171    1.000319  ask\n",
       "706.89  0.105160    74.336899    2805.184977    1.002361  ask\n",
       "707.18  6.456261  5649.346841    8454.531818    1.002772  ask"
      ]
     },
     "metadata": {},
     "output_type": "display_data"
    },
    {
     "name": "stdout",
     "output_type": "stream",
     "text": [
      "OrderbookContainer from 2016-11-08T10:01\n",
      "  12 bids (best: 674.59)\n",
      "  15 asks (best: 705.45)\n",
      "  kind: 'diff'\n"
     ]
    }
   ],
   "source": [
    "orderbook = data[0]\n",
    "orderbook.plot(range_factor=1.02, outfile=\"sample.pdf\")\n",
    "print(orderbook)\n",
    "orderbook2 = data[1]\n",
    "print(orderbook2)\n",
    "\n",
    "print(\"\\nCompare two orderbooks:\")\n",
    "diff = orderbook.compare_with(other=orderbook2)\n",
    "\n",
    "display(diff.head())\n",
    "print(diff)"
   ]
  },
  {
   "cell_type": "code",
   "execution_count": 5,
   "metadata": {
    "collapsed": false
   },
   "outputs": [
    {
     "name": "stdout",
     "output_type": "stream",
     "text": [
      "Current MarketOrderPrice for 40 shares: 28358.1256107\n"
     ]
    }
   ],
   "source": [
    "vol = 40\n",
    "print(\"Current MarketOrderPrice for {} shares: {}\".format(vol, orderbook.get_current_price(vol)))"
   ]
  },
  {
   "cell_type": "code",
   "execution_count": 6,
   "metadata": {
    "collapsed": false
   },
   "outputs": [
    {
     "data": {
      "text/html": [
       "<div>\n",
       "<table border=\"1\" class=\"dataframe\">\n",
       "  <thead>\n",
       "    <tr style=\"text-align: right;\">\n",
       "      <th></th>\n",
       "      <th>Amount</th>\n",
       "      <th>Type</th>\n",
       "      <th>Volume</th>\n",
       "      <th>VolumeAcc</th>\n",
       "      <th>norm_Price</th>\n",
       "    </tr>\n",
       "  </thead>\n",
       "  <tbody>\n",
       "    <tr>\n",
       "      <th>703.700000</th>\n",
       "      <td>0.001250</td>\n",
       "      <td>bid</td>\n",
       "      <td>0.879625</td>\n",
       "      <td>112.433157</td>\n",
       "      <td>0.997838</td>\n",
       "    </tr>\n",
       "    <tr>\n",
       "      <th>705.000000</th>\n",
       "      <td>0.158232</td>\n",
       "      <td>bid</td>\n",
       "      <td>111.553532</td>\n",
       "      <td>111.553532</td>\n",
       "      <td>0.999681</td>\n",
       "    </tr>\n",
       "    <tr>\n",
       "      <th>705.224976</th>\n",
       "      <td>NaN</td>\n",
       "      <td>center</td>\n",
       "      <td>NaN</td>\n",
       "      <td>NaN</td>\n",
       "      <td>NaN</td>\n",
       "    </tr>\n",
       "    <tr>\n",
       "      <th>705.450000</th>\n",
       "      <td>3.172181</td>\n",
       "      <td>ask</td>\n",
       "      <td>2237.815171</td>\n",
       "      <td>2237.815171</td>\n",
       "      <td>1.000319</td>\n",
       "    </tr>\n",
       "    <tr>\n",
       "      <th>706.170000</th>\n",
       "      <td>0.052838</td>\n",
       "      <td>ask</td>\n",
       "      <td>37.312497</td>\n",
       "      <td>2275.127669</td>\n",
       "      <td>1.001340</td>\n",
       "    </tr>\n",
       "  </tbody>\n",
       "</table>\n",
       "</div>"
      ],
      "text/plain": [
       "              Amount    Type       Volume    VolumeAcc  norm_Price\n",
       "703.700000  0.001250     bid     0.879625   112.433157    0.997838\n",
       "705.000000  0.158232     bid   111.553532   111.553532    0.999681\n",
       "705.224976       NaN  center          NaN          NaN         NaN\n",
       "705.450000  3.172181     ask  2237.815171  2237.815171    1.000319\n",
       "706.170000  0.052838     ask    37.312497  2275.127669    1.001340"
      ]
     },
     "metadata": {},
     "output_type": "display_data"
    },
    {
     "data": {
      "text/html": [
       "<div>\n",
       "<table border=\"1\" class=\"dataframe\">\n",
       "  <thead>\n",
       "    <tr style=\"text-align: right;\">\n",
       "      <th></th>\n",
       "      <th>Amount</th>\n",
       "      <th>Type</th>\n",
       "      <th>Volume</th>\n",
       "      <th>VolumeAcc</th>\n",
       "      <th>norm_Price</th>\n",
       "    </tr>\n",
       "  </thead>\n",
       "  <tbody>\n",
       "    <tr>\n",
       "      <th>614.000000</th>\n",
       "      <td>1.838163</td>\n",
       "      <td>bid</td>\n",
       "      <td>1128.632254</td>\n",
       "      <td>326770.989935</td>\n",
       "      <td>0.870644</td>\n",
       "    </tr>\n",
       "    <tr>\n",
       "      <th>614.320000</th>\n",
       "      <td>0.034763</td>\n",
       "      <td>bid</td>\n",
       "      <td>21.355643</td>\n",
       "      <td>325642.357681</td>\n",
       "      <td>0.871098</td>\n",
       "    </tr>\n",
       "    <tr>\n",
       "      <th>705.224976</th>\n",
       "      <td>NaN</td>\n",
       "      <td>center</td>\n",
       "      <td>NaN</td>\n",
       "      <td>NaN</td>\n",
       "      <td>NaN</td>\n",
       "    </tr>\n",
       "    <tr>\n",
       "      <th>810.000000</th>\n",
       "      <td>0.286798</td>\n",
       "      <td>ask</td>\n",
       "      <td>232.306137</td>\n",
       "      <td>292461.937892</td>\n",
       "      <td>1.148570</td>\n",
       "    </tr>\n",
       "    <tr>\n",
       "      <th>811.000000</th>\n",
       "      <td>0.000100</td>\n",
       "      <td>ask</td>\n",
       "      <td>0.081100</td>\n",
       "      <td>292462.018992</td>\n",
       "      <td>1.149988</td>\n",
       "    </tr>\n",
       "  </tbody>\n",
       "</table>\n",
       "</div>"
      ],
      "text/plain": [
       "              Amount    Type       Volume      VolumeAcc  norm_Price\n",
       "614.000000  1.838163     bid  1128.632254  326770.989935    0.870644\n",
       "614.320000  0.034763     bid    21.355643  325642.357681    0.871098\n",
       "705.224976       NaN  center          NaN            NaN         NaN\n",
       "810.000000  0.286798     ask   232.306137  292461.937892    1.148570\n",
       "811.000000  0.000100     ask     0.081100  292462.018992    1.149988"
      ]
     },
     "metadata": {},
     "output_type": "display_data"
    }
   ],
   "source": [
    "display(orderbook.head(2))\n",
    "display(orderbook.tail(2))"
   ]
  },
  {
   "cell_type": "code",
   "execution_count": 7,
   "metadata": {
    "collapsed": false,
    "scrolled": false
   },
   "outputs": [
    {
     "name": "stderr",
     "output_type": "stream",
     "text": [
      "  8%|▊         | 1/12 [00:00<00:04,  2.38it/s]"
     ]
    },
    {
     "name": "stdout",
     "output_type": "stream",
     "text": [
      "t=10: Traded 15.2370/20.0000 shares for -10759.8754664, 4.7630 shares left\n"
     ]
    },
    {
     "name": "stderr",
     "output_type": "stream",
     "text": [
      " 33%|███▎      | 4/12 [00:01<00:03,  2.49it/s]"
     ]
    },
    {
     "name": "stdout",
     "output_type": "stream",
     "text": [
      "t=40: Traded 4.6358/4.7630 shares for -3271.51483807, 0.1273 shares left\n"
     ]
    },
    {
     "name": "stderr",
     "output_type": "stream",
     "text": [
      " 75%|███████▌  | 9/12 [00:02<00:00,  3.71it/s]"
     ]
    },
    {
     "name": "stdout",
     "output_type": "stream",
     "text": [
      "No shares left at t=6 (self.t=47), Done!\n",
      "t=47: Traded 0.1273/0.1273 shares for -89.886612311, 0.0000 shares left\n"
     ]
    },
    {
     "name": "stderr",
     "output_type": "stream",
     "text": [
      "100%|██████████| 12/12 [00:02<00:00,  5.70it/s]\n"
     ]
    },
    {
     "data": {
      "text/html": [
       "<div>\n",
       "<table border=\"1\" class=\"dataframe\">\n",
       "  <thead>\n",
       "    <tr style=\"text-align: right;\">\n",
       "      <th></th>\n",
       "      <th>ASK</th>\n",
       "      <th>BID</th>\n",
       "      <th>CENTER</th>\n",
       "      <th>LIMIT</th>\n",
       "      <th>SPREAD</th>\n",
       "      <th>T</th>\n",
       "      <th>VOLUME</th>\n",
       "      <th>avg</th>\n",
       "      <th>cashflow</th>\n",
       "      <th>cost</th>\n",
       "      <th>cost_avg</th>\n",
       "      <th>high</th>\n",
       "      <th>low</th>\n",
       "      <th>volume_traded</th>\n",
       "    </tr>\n",
       "  </thead>\n",
       "  <tbody>\n",
       "    <tr>\n",
       "      <th>2016-11-08T10:00</th>\n",
       "      <td>705.45</td>\n",
       "      <td>614.0</td>\n",
       "      <td>658.667256</td>\n",
       "      <td>707.0</td>\n",
       "      <td>91.45</td>\n",
       "      <td>10</td>\n",
       "      <td>20.000000</td>\n",
       "      <td>706.16874</td>\n",
       "      <td>-10759.875466</td>\n",
       "      <td>10.951410</td>\n",
       "      <td>0.71874</td>\n",
       "      <td>706.89</td>\n",
       "      <td>705.000000</td>\n",
       "      <td>15.236975</td>\n",
       "    </tr>\n",
       "    <tr>\n",
       "      <th>2016-11-08T10:10</th>\n",
       "      <td>707.15</td>\n",
       "      <td>614.0</td>\n",
       "      <td>659.478928</td>\n",
       "      <td>707.0</td>\n",
       "      <td>93.15</td>\n",
       "      <td>10</td>\n",
       "      <td>4.763025</td>\n",
       "      <td>0.00000</td>\n",
       "      <td>0.000000</td>\n",
       "      <td>0.000000</td>\n",
       "      <td>0.00000</td>\n",
       "      <td>0.00</td>\n",
       "      <td>inf</td>\n",
       "      <td>0.000000</td>\n",
       "    </tr>\n",
       "    <tr>\n",
       "      <th>2016-11-08T10:20</th>\n",
       "      <td>707.10</td>\n",
       "      <td>614.0</td>\n",
       "      <td>659.455064</td>\n",
       "      <td>707.0</td>\n",
       "      <td>93.10</td>\n",
       "      <td>10</td>\n",
       "      <td>4.763025</td>\n",
       "      <td>0.00000</td>\n",
       "      <td>0.000000</td>\n",
       "      <td>0.000000</td>\n",
       "      <td>0.00000</td>\n",
       "      <td>0.00</td>\n",
       "      <td>inf</td>\n",
       "      <td>0.000000</td>\n",
       "    </tr>\n",
       "    <tr>\n",
       "      <th>2016-11-08T10:30</th>\n",
       "      <td>707.10</td>\n",
       "      <td>614.0</td>\n",
       "      <td>659.455064</td>\n",
       "      <td>707.0</td>\n",
       "      <td>93.10</td>\n",
       "      <td>10</td>\n",
       "      <td>4.763025</td>\n",
       "      <td>705.71401</td>\n",
       "      <td>-3271.514838</td>\n",
       "      <td>1.223900</td>\n",
       "      <td>0.26401</td>\n",
       "      <td>707.00</td>\n",
       "      <td>703.800000</td>\n",
       "      <td>4.635752</td>\n",
       "    </tr>\n",
       "    <tr>\n",
       "      <th>2016-11-08T10:40</th>\n",
       "      <td>706.19</td>\n",
       "      <td>614.0</td>\n",
       "      <td>659.020650</td>\n",
       "      <td>707.0</td>\n",
       "      <td>92.19</td>\n",
       "      <td>10</td>\n",
       "      <td>0.127273</td>\n",
       "      <td>706.24833</td>\n",
       "      <td>-89.886612</td>\n",
       "      <td>0.101606</td>\n",
       "      <td>0.79833</td>\n",
       "      <td>706.83</td>\n",
       "      <td>703.630000</td>\n",
       "      <td>0.127273</td>\n",
       "    </tr>\n",
       "  </tbody>\n",
       "</table>\n",
       "</div>"
      ],
      "text/plain": [
       "                     ASK    BID      CENTER  LIMIT  SPREAD   T     VOLUME  \\\n",
       "2016-11-08T10:00  705.45  614.0  658.667256  707.0   91.45  10  20.000000   \n",
       "2016-11-08T10:10  707.15  614.0  659.478928  707.0   93.15  10   4.763025   \n",
       "2016-11-08T10:20  707.10  614.0  659.455064  707.0   93.10  10   4.763025   \n",
       "2016-11-08T10:30  707.10  614.0  659.455064  707.0   93.10  10   4.763025   \n",
       "2016-11-08T10:40  706.19  614.0  659.020650  707.0   92.19  10   0.127273   \n",
       "\n",
       "                        avg      cashflow       cost  cost_avg    high  \\\n",
       "2016-11-08T10:00  706.16874 -10759.875466  10.951410   0.71874  706.89   \n",
       "2016-11-08T10:10    0.00000      0.000000   0.000000   0.00000    0.00   \n",
       "2016-11-08T10:20    0.00000      0.000000   0.000000   0.00000    0.00   \n",
       "2016-11-08T10:30  705.71401  -3271.514838   1.223900   0.26401  707.00   \n",
       "2016-11-08T10:40  706.24833    -89.886612   0.101606   0.79833  706.83   \n",
       "\n",
       "                         low  volume_traded  \n",
       "2016-11-08T10:00  705.000000      15.236975  \n",
       "2016-11-08T10:10         inf       0.000000  \n",
       "2016-11-08T10:20         inf       0.000000  \n",
       "2016-11-08T10:30  703.800000       4.635752  \n",
       "2016-11-08T10:40  703.630000       0.127273  "
      ]
     },
     "metadata": {},
     "output_type": "display_data"
    },
    {
     "data": {
      "text/plain": [
       "OrderbookContainer from 2016-11-08T11:51\n",
       "  512 bids (best: 614.32)\n",
       "  406 asks (best: 707.82)\n",
       "  kind: 'orderbook'"
      ]
     },
     "metadata": {},
     "output_type": "display_data"
    }
   ],
   "source": [
    "P = 10\n",
    "vol=20\n",
    "T = 12\n",
    "ots = OrderbookTradingSimulator(volume=vol, tradingperiods=T, decisionfrequency=P)\n",
    "\n",
    "for e in tqdm(range(T)):\n",
    "    res = ots.trade(orderbooks=data[P*e:P*(e+1)], limit=707., verbose=True)\n",
    "#    vol = ots.history.volume_left.values[-1]\n",
    "# res = ots.trade_timespan(orderbooks=data[2:4], volume=40, limit=705.5, timespan=2)\n",
    "\n",
    "display(ots.history)\n",
    "display(res)"
   ]
  },
  {
   "cell_type": "code",
   "execution_count": null,
   "metadata": {
    "collapsed": true
   },
   "outputs": [],
   "source": []
  }
 ],
 "metadata": {
  "kernelspec": {
   "display_name": "Python 2",
   "language": "python",
   "name": "python2"
  },
  "language_info": {
   "codemirror_mode": {
    "name": "ipython",
    "version": 2
   },
   "file_extension": ".py",
   "mimetype": "text/x-python",
   "name": "python",
   "nbconvert_exporter": "python",
   "pygments_lexer": "ipython2",
   "version": "2.7.12"
  },
  "widgets": {
   "state": {},
   "version": "1.1.2"
  }
 },
 "nbformat": 4,
 "nbformat_minor": 0
}
