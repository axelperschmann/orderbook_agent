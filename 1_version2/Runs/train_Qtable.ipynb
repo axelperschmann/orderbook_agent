{
 "cells": [
  {
   "cell_type": "code",
   "execution_count": 1,
   "metadata": {
    "collapsed": false
   },
   "outputs": [
    {
     "name": "stderr",
     "output_type": "stream",
     "text": [
      "Using TensorFlow backend.\n"
     ]
    }
   ],
   "source": [
    "%load_ext autoreload\n",
    "%autoreload 2\n",
    "\n",
    "from IPython.display import display\n",
    "from tqdm import tqdm\n",
    "import pandas as pd\n",
    "import numpy as np\n",
    "import matplotlib.pyplot as plt\n",
    "%matplotlib inline\n",
    "import json\n",
    "\n",
    "from BackwardImplementation_fromPaper import prepare_training_data, backward_implementation_from_paper\n",
    "\n",
    "import sys\n",
    "sys.path.append('..')\n",
    "from helper.orderbook_trader import OrderbookTradingSimulator\n",
    "from helper.Q_learning import QLearn, state_as_string, round_custombase\n",
    "from helper.manage_orderbooks_v2 import OrderbookEpisodesGenerator\n",
    "from datetime import datetime"
   ]
  },
  {
   "cell_type": "code",
   "execution_count": 2,
   "metadata": {
    "collapsed": false
   },
   "outputs": [
    {
     "name": "stdout",
     "output_type": "stream",
     "text": [
      "V=100, T=4, P=15\n",
      "Actions:  -0.40, -0.30, -0.20, -0.10, -0.00, 0.10, 0.20, 0.30, 0.40, 0.50, 0.60, 0.70, 0.80, 0.90, 1.00\n"
     ]
    }
   ],
   "source": [
    "filename = '../../data/obs_2016-11_USDT_BTC_range1.2.dict'\n",
    "filename = '../../data/obs_2016-12_USDT_BTC_range1.2.dict'\n",
    "filename = '../../data/obs_2016-11_BTC_ETH_range1.2.dict'\n",
    "modelname = '../models/obs_2016-11_BTC_ETH_range1.2_30samples.json'\n",
    "samples = 30\n",
    "V = 100\n",
    "vol_intervals = 10\n",
    "T = 4\n",
    "P = 15\n",
    "actions = list(np.linspace(-0.4, 1.0, num=15))\n",
    "print(\"V={}, T={}, P={}\".format(V, T, P))\n",
    "print(\"Actions: \", \", \".join([\"{:1.2f}\".format(a) for a in actions]))"
   ]
  },
  {
   "cell_type": "code",
   "execution_count": 3,
   "metadata": {
    "collapsed": false
   },
   "outputs": [
    {
     "name": "stdout",
     "output_type": "stream",
     "text": [
      "Length of episodes_train: 541\n"
     ]
    }
   ],
   "source": [
    "episodes_train = OrderbookEpisodesGenerator(filename=filename, episode_length=T*P)\n",
    "print(\"Length of episodes_train: {}\".format(len(episodes_train)))\n",
    "# episode_windows_train = prepare_training_data(filename, samples=samples, T=T, P=P, first_line=0)"
   ]
  },
  {
   "cell_type": "code",
   "execution_count": 4,
   "metadata": {
    "collapsed": false,
    "scrolled": false
   },
   "outputs": [],
   "source": [
    "def optimal_strategy(traingdata, V, T, decisionfrequency, vol_intervals, actions, verbose=True, ql=None, modelname=None):\n",
    "    timestamp = datetime.now()\n",
    "    \n",
    "    print(\"V: {}, T: {}, decisionfrequency: {}, vol_intervals: {}, num_actions: {}\".format(V, T, decisionfrequency, vol_intervals, len(actions)))\n",
    "    print(\"actions: {}\".format(actions))\n",
    "    volumes = np.linspace(1, 0, num=10+1)[:-1] # skip volumes=0\n",
    "    \n",
    "    volumes_base = float(V)/vol_intervals\n",
    "    print(\"volumes_base: {}\".format(volumes_base))\n",
    "    print(\"volumes: {}\".format(volumes))\n",
    "    \n",
    "    ql = ql or QLearn(actions=actions, vol_intervals=vol_intervals, V=V, T=T, decisionfrequency=decisionfrequency)\n",
    "\n",
    "    for tt in tqdm(range(T)[::-1]):\n",
    "        trading_startpoint = decisionfrequency*tt\n",
    "        time_left = T-tt\n",
    "\n",
    "        for e, episode in tqdm(enumerate(traingdata)):\n",
    "            initial_center = episode[0].get_center()\n",
    "            \n",
    "            center = episode[trading_startpoint].get_center()\n",
    "            ask = episode[trading_startpoint].get_ask()\n",
    "            \n",
    "            for vol in volumes:\n",
    "                if tt == 0 and vol != 1.:\n",
    "                    # at t=0 we always have 100% of the volume left.\n",
    "                    break\n",
    "                \n",
    "                for a in actions:\n",
    "                    state = state_as_string(time_left=time_left, volume_left=vol)  # , orderbook=episode[trading_startpoint])\n",
    "                    \n",
    "                    ots = OrderbookTradingSimulator(orderbooks=episode[trading_startpoint:], volume=vol*V, tradingperiods=T-tt,\n",
    "                                                    decisionfrequency=decisionfrequency)\n",
    "                    limit = ask * (1. + (a/100.))\n",
    "\n",
    "                    ots.trade(limit = limit)  # agression_factor=a)\n",
    "\n",
    "                    volume_left = ots.volume\n",
    "                    volume_left_rounded = round_custombase(volume_left, base=volumes_base)\n",
    "\n",
    "                    volume_traded = ots.history.volume_traded.values[-1]\n",
    "                    volume_traded_rounded = round_custombase(volume_traded, base=volumes_base)\n",
    "\n",
    "                    assert volume_left_rounded + volume_traded_rounded - vol*V <= 1.e-8, \"{} {} {} {}\".format(\n",
    "                        volume_left_rounded, volume_traded_rounded, vol, V)\n",
    "\n",
    "                    avg = ots.history.avg[-1]\n",
    "\n",
    "                    # manually compute costs, since we have to think in discrete volume steps (rounding ...)\n",
    "                    cost = volume_traded_rounded * (avg - initial_center) / initial_center\n",
    "                    \n",
    "                    new_state = state_as_string(time_left=time_left-1, volume_left=volume_left_rounded/V)  #, orderbook=ots.masterbook)\n",
    "                    \n",
    "                    ql.learn(state, a, cost, new_state)\n",
    "               \n",
    "            if e%5 == 0:\n",
    "                ql.plot_Q(outfile=\"../graphs/Q_function_{}_action\".format(T-tt), epoch=e, outformat='pdf', z_represents='action', verbose=verbose)\n",
    "                ql.plot_Q(outfile=\"../graphs/Q_function_{}_Q\".format(T-tt), epoch=e, outformat='pdf', z_represents='Q', verbose=verbose)\n",
    "                modelname = modelname or \"../models/Q_function_{}\".format(timestamp)\n",
    "                ql.save(outfile=modelname)\n",
    "            \n",
    "    # plot_episode(episode, volume=V)\n",
    "    return ql"
   ]
  },
  {
   "cell_type": "code",
   "execution_count": 5,
   "metadata": {
    "collapsed": false,
    "scrolled": true
   },
   "outputs": [
    {
     "name": "stderr",
     "output_type": "stream",
     "text": [
      "  0%|          | 0/4 [00:00<?, ?it/s]\n",
      "0it [00:00, ?it/s]"
     ]
    },
    {
     "name": "stdout",
     "output_type": "stream",
     "text": [
      "V: 100, T: 4, decisionfrequency: 15, vol_intervals: 10, num_actions: 15\n",
      "actions: [-0.40000000000000002, -0.30000000000000004, -0.20000000000000004, -0.10000000000000003, -5.5511151231257827e-17, 0.099999999999999922, 0.19999999999999996, 0.29999999999999993, 0.39999999999999991, 0.49999999999999989, 0.59999999999999987, 0.69999999999999984, 0.79999999999999993, 0.8999999999999998, 1.0]\n",
      "volumes_base: 10.0\n",
      "volumes: [ 1.   0.9  0.8  0.7  0.6  0.5  0.4  0.3  0.2  0.1]\n"
     ]
    },
    {
     "name": "stderr",
     "output_type": "stream",
     "text": [
      "\u001b[A\n",
      "1it [00:27, 27.93s/it]"
     ]
    },
    {
     "name": "stdout",
     "output_type": "stream",
     "text": [
      "Successfully saved '../graphs/Q_function_1_action.pdf'\n",
      "Successfully saved '../graphs/Q_function_1_Q.pdf'\n",
      "Saved: '../pickles/Q_function_2017-03-09 13:13:24.525452.json'\n"
     ]
    },
    {
     "name": "stderr",
     "output_type": "stream",
     "text": [
      "\u001b[A\n",
      "2it [00:54, 27.39s/it]\u001b[A\n",
      "3it [01:28, 29.55s/it]\u001b[A\n",
      "4it [02:07, 32.35s/it]\u001b[A\n",
      "5it [02:36, 31.28s/it]\u001b[A\n",
      "6it [03:07, 31.36s/it]"
     ]
    },
    {
     "name": "stdout",
     "output_type": "stream",
     "text": [
      "Successfully saved '../graphs/Q_function_1_action.pdf'\n",
      "Successfully saved '../graphs/Q_function_1_Q.pdf'\n",
      "Saved: '../pickles/Q_function_2017-03-09 13:13:24.525452.json'\n"
     ]
    },
    {
     "name": "stderr",
     "output_type": "stream",
     "text": [
      "\u001b[A\n",
      "7it [03:34, 29.91s/it]\u001b[A\n",
      "8it [03:59, 28.58s/it]\u001b[A\n",
      "9it [04:21, 26.60s/it]\u001b[A\n",
      "10it [04:47, 26.45s/it]\u001b[A\n",
      "11it [05:12, 25.85s/it]"
     ]
    },
    {
     "name": "stdout",
     "output_type": "stream",
     "text": [
      "Successfully saved '../graphs/Q_function_1_action.pdf'\n",
      "Successfully saved '../graphs/Q_function_1_Q.pdf'\n",
      "Saved: '../pickles/Q_function_2017-03-09 13:13:24.525452.json'\n"
     ]
    },
    {
     "name": "stderr",
     "output_type": "stream",
     "text": [
      "\u001b[A\n",
      "12it [05:36, 25.47s/it]\u001b[A\n",
      " 25%|██▌       | 1/4 [05:36<16:50, 336.98s/it]\n",
      "0it [00:00, ?it/s]\u001b[A"
     ]
    },
    {
     "name": "stdout",
     "output_type": "stream",
     "text": [
      "Successfully saved '../graphs/Q_function_2_action.pdf'\n",
      "Successfully saved '../graphs/Q_function_2_Q.pdf'\n"
     ]
    },
    {
     "name": "stderr",
     "output_type": "stream",
     "text": [
      "\n",
      "\r",
      "1it [00:23, 23.79s/it]"
     ]
    },
    {
     "name": "stdout",
     "output_type": "stream",
     "text": [
      "Saved: '../pickles/Q_function_2017-03-09 13:13:24.525452.json'\n"
     ]
    },
    {
     "name": "stderr",
     "output_type": "stream",
     "text": [
      "\u001b[A\n",
      "2it [00:50, 24.65s/it]\u001b[A\n",
      "3it [01:14, 24.48s/it]\u001b[A\n",
      "4it [01:43, 25.91s/it]\u001b[A\n",
      "5it [02:06, 24.98s/it]\u001b[A\n",
      "6it [02:27, 23.72s/it]"
     ]
    },
    {
     "name": "stdout",
     "output_type": "stream",
     "text": [
      "Successfully saved '../graphs/Q_function_2_action.pdf'\n",
      "Successfully saved '../graphs/Q_function_2_Q.pdf'\n",
      "Saved: '../pickles/Q_function_2017-03-09 13:13:24.525452.json'\n"
     ]
    },
    {
     "name": "stderr",
     "output_type": "stream",
     "text": [
      "\u001b[A\n",
      "7it [02:45, 22.15s/it]\u001b[A\n",
      "8it [03:02, 20.46s/it]\u001b[A\n",
      "9it [03:24, 20.82s/it]\u001b[A\n",
      "10it [03:44, 20.81s/it]\u001b[A\n",
      "11it [04:06, 20.99s/it]"
     ]
    },
    {
     "name": "stdout",
     "output_type": "stream",
     "text": [
      "Successfully saved '../graphs/Q_function_2_action.pdf'\n",
      "Successfully saved '../graphs/Q_function_2_Q.pdf'\n",
      "Saved: '../pickles/Q_function_2017-03-09 13:13:24.525452.json'\n"
     ]
    },
    {
     "name": "stderr",
     "output_type": "stream",
     "text": [
      "\u001b[A\n",
      "12it [04:30, 22.02s/it]\u001b[A\n",
      " 50%|█████     | 2/4 [10:07<10:34, 317.08s/it]\n",
      "0it [00:00, ?it/s]\u001b[A"
     ]
    },
    {
     "name": "stdout",
     "output_type": "stream",
     "text": [
      "Successfully saved '../graphs/Q_function_3_action.pdf'\n",
      "Successfully saved '../graphs/Q_function_3_Q.pdf'\n"
     ]
    },
    {
     "name": "stderr",
     "output_type": "stream",
     "text": [
      "\n",
      "\r",
      "1it [00:23, 23.63s/it]"
     ]
    },
    {
     "name": "stdout",
     "output_type": "stream",
     "text": [
      "Saved: '../pickles/Q_function_2017-03-09 13:13:24.525452.json'\n"
     ]
    },
    {
     "name": "stderr",
     "output_type": "stream",
     "text": [
      "\u001b[A\n",
      "2it [00:53, 25.38s/it]\u001b[A\n",
      "3it [01:17, 25.04s/it]\u001b[A\n",
      "4it [01:45, 26.03s/it]\u001b[A\n",
      "5it [02:11, 25.94s/it]\u001b[A"
     ]
    },
    {
     "name": "stdout",
     "output_type": "stream",
     "text": [
      "Successfully saved '../graphs/Q_function_3_action.pdf'\n",
      "Successfully saved '../graphs/Q_function_3_Q.pdf'\n"
     ]
    },
    {
     "name": "stderr",
     "output_type": "stream",
     "text": [
      "\n",
      "\r",
      "6it [02:28, 23.17s/it]"
     ]
    },
    {
     "name": "stdout",
     "output_type": "stream",
     "text": [
      "Saved: '../pickles/Q_function_2017-03-09 13:13:24.525452.json'\n"
     ]
    },
    {
     "name": "stderr",
     "output_type": "stream",
     "text": [
      "\u001b[A\n",
      "7it [02:48, 22.36s/it]\u001b[A\n",
      "8it [03:09, 21.90s/it]\u001b[A\n",
      "9it [03:30, 21.71s/it]\u001b[A\n",
      "10it [03:54, 22.40s/it]\u001b[A"
     ]
    },
    {
     "name": "stdout",
     "output_type": "stream",
     "text": [
      "Successfully saved '../graphs/Q_function_3_action.pdf'\n",
      "Successfully saved '../graphs/Q_function_3_Q.pdf'\n"
     ]
    },
    {
     "name": "stderr",
     "output_type": "stream",
     "text": [
      "\n",
      "\r",
      "11it [04:18, 22.92s/it]"
     ]
    },
    {
     "name": "stdout",
     "output_type": "stream",
     "text": [
      "Saved: '../pickles/Q_function_2017-03-09 13:13:24.525452.json'\n"
     ]
    },
    {
     "name": "stderr",
     "output_type": "stream",
     "text": [
      "\u001b[A\n",
      "12it [04:42, 23.30s/it]\u001b[A\n",
      " 75%|███████▌  | 3/4 [14:50<05:06, 306.85s/it]\n",
      "0it [00:00, ?it/s]\u001b[A"
     ]
    },
    {
     "name": "stdout",
     "output_type": "stream",
     "text": [
      "Successfully saved '../graphs/Q_function_4_action.pdf'\n",
      "Successfully saved '../graphs/Q_function_4_Q.pdf'\n"
     ]
    },
    {
     "name": "stderr",
     "output_type": "stream",
     "text": [
      "\n",
      "\r",
      "1it [00:06,  6.67s/it]"
     ]
    },
    {
     "name": "stdout",
     "output_type": "stream",
     "text": [
      "Saved: '../pickles/Q_function_2017-03-09 13:13:24.525452.json'\n"
     ]
    },
    {
     "name": "stderr",
     "output_type": "stream",
     "text": [
      "\u001b[A\n",
      "2it [00:13,  6.73s/it]\u001b[A\n",
      "3it [00:22,  7.28s/it]\u001b[A\n",
      "4it [00:31,  7.82s/it]\u001b[A\n",
      "5it [00:38,  7.71s/it]\u001b[A"
     ]
    },
    {
     "name": "stdout",
     "output_type": "stream",
     "text": [
      "Successfully saved '../graphs/Q_function_4_action.pdf'\n"
     ]
    },
    {
     "name": "stderr",
     "output_type": "stream",
     "text": [
      "\n",
      "\r",
      "6it [00:46,  7.72s/it]"
     ]
    },
    {
     "name": "stdout",
     "output_type": "stream",
     "text": [
      "Successfully saved '../graphs/Q_function_4_Q.pdf'\n",
      "Saved: '../pickles/Q_function_2017-03-09 13:13:24.525452.json'\n"
     ]
    },
    {
     "name": "stderr",
     "output_type": "stream",
     "text": [
      "\u001b[A\n",
      "7it [00:54,  7.80s/it]\u001b[A\n",
      "8it [01:02,  7.91s/it]\u001b[A\n",
      "9it [01:09,  7.74s/it]\u001b[A\n",
      "10it [01:17,  7.81s/it]\u001b[A"
     ]
    },
    {
     "name": "stdout",
     "output_type": "stream",
     "text": [
      "Successfully saved '../graphs/Q_function_4_action.pdf'\n"
     ]
    },
    {
     "name": "stderr",
     "output_type": "stream",
     "text": [
      "\n",
      "\r",
      "11it [01:25,  7.89s/it]"
     ]
    },
    {
     "name": "stdout",
     "output_type": "stream",
     "text": [
      "Successfully saved '../graphs/Q_function_4_Q.pdf'\n",
      "Saved: '../pickles/Q_function_2017-03-09 13:13:24.525452.json'\n"
     ]
    },
    {
     "name": "stderr",
     "output_type": "stream",
     "text": [
      "\u001b[A\n",
      "12it [01:34,  8.00s/it]\u001b[A\n",
      "100%|██████████| 4/4 [16:24<00:00, 243.05s/it]\n"
     ]
    }
   ],
   "source": [
    "ql = optimal_strategy(traingdata=episodes_train[:12], V=V, T=T, decisionfrequency=P,\n",
    "                      vol_intervals=vol_intervals, actions=actions)"
   ]
  },
  {
   "cell_type": "code",
   "execution_count": null,
   "metadata": {
    "collapsed": true
   },
   "outputs": [],
   "source": []
  }
 ],
 "metadata": {
  "kernelspec": {
   "display_name": "Python 3",
   "language": "python",
   "name": "python3"
  },
  "language_info": {
   "codemirror_mode": {
    "name": "ipython",
    "version": 3
   },
   "file_extension": ".py",
   "mimetype": "text/x-python",
   "name": "python",
   "nbconvert_exporter": "python",
   "pygments_lexer": "ipython3",
   "version": "3.5.1"
  }
 },
 "nbformat": 4,
 "nbformat_minor": 0
}
