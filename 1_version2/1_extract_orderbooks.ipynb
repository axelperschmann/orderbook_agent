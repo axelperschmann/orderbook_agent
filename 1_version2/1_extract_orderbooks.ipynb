{
 "cells": [
  {
   "cell_type": "code",
   "execution_count": 24,
   "metadata": {
    "collapsed": false
   },
   "outputs": [
    {
     "name": "stdout",
     "output_type": "stream",
     "text": [
      "The autoreload extension is already loaded. To reload it, use:\n",
      "  %reload_ext autoreload\n"
     ]
    }
   ],
   "source": [
    "%load_ext autoreload\n",
    "%autoreload 2\n",
    "\n",
    "from tqdm import tqdm\n",
    "import pandas as pd\n",
    "import numpy as np\n",
    "import gzip\n",
    "import json\n",
    "import math\n",
    "from datetime import datetime\n",
    "from IPython.display import display\n",
    "%matplotlib inline"
   ]
  },
  {
   "cell_type": "code",
   "execution_count": 25,
   "metadata": {
    "collapsed": true
   },
   "outputs": [],
   "source": [
    "currency_pair = 'USDT_BTC'"
   ]
  },
  {
   "cell_type": "code",
   "execution_count": 26,
   "metadata": {
    "collapsed": false,
    "scrolled": true
   },
   "outputs": [
    {
     "name": "stdout",
     "output_type": "stream",
     "text": [
      "Number of datafiles to extract from: 109337\n",
      "First file: ../../data/2016-11-08/poloniex_full_2016-11-08T10:00:09.955811.log.gz\n",
      "Last file : ../../data/2017-01-23/poloniex_full_2017-01-23T09:31:04.980084.log.gz\n"
     ]
    }
   ],
   "source": [
    "folder = '../../data/'\n",
    "files = [os.path.join(dp, f) for dp, dn, fn in os.walk(os.path.expanduser(folder)) for f in fn]\n",
    "datafiles = sorted([f for f in files if f.endswith('.log.gz')])\n",
    "print(\"Number of datafiles to extract from: {}\".format(len(datafiles)))\n",
    "print(\"First file: {}\".format(datafiles[0]))\n",
    "print(\"Last file : {}\".format(datafiles[-1]))"
   ]
  },
  {
   "cell_type": "code",
   "execution_count": 27,
   "metadata": {
    "collapsed": false
   },
   "outputs": [],
   "source": [
    "from helper.manage_orderbooks_v2 import extract_orderbooks_for_one_currencypair, load_orderbook_snapshot\n",
    "from helper.orderbook_container import OrderbookContainer"
   ]
  },
  {
   "cell_type": "code",
   "execution_count": 58,
   "metadata": {
    "collapsed": false,
    "scrolled": false
   },
   "outputs": [
    {
     "name": "stderr",
     "output_type": "stream",
     "text": [
      "  0%|          | 1/3000 [00:00<05:14,  9.54it/s]"
     ]
    },
    {
     "name": "stdout",
     "output_type": "stream",
     "text": [
      "Orderbook content will be written to '3000orderbooks'\n"
     ]
    },
    {
     "name": "stderr",
     "output_type": "stream",
     "text": [
      "100%|██████████| 3000/3000 [05:02<00:00, 13.56it/s]\n",
      "100%|██████████| 2/2 [00:00<00:00, 20.68it/s]"
     ]
    },
    {
     "name": "stdout",
     "output_type": "stream",
     "text": [
      "Successfully created file '3000orderbooks'\n",
      "Loaded 2 orderbooks from file '3000orderbooks'.\n",
      "('Type: ', <class 'pandas.core.frame.DataFrame'>)\n"
     ]
    },
    {
     "name": "stderr",
     "output_type": "stream",
     "text": [
      "\n"
     ]
    }
   ],
   "source": [
    "filename = '1000orderbooks'\n",
    "query_idx = range(0, 1000)\n",
    "data = [datafiles[idx] for idx in query_idx]\n",
    "currency_pair='USDT_BTC'\n",
    "range_factor = 1.15\n",
    "\n",
    "extract_orderbooks_for_one_currencypair(data, currency_pair, outfile=filename, overwrite=True,\n",
    "                                        range_factor=range_factor, pricelevel_precision=2)\n",
    "\n",
    "data = load_orderbook_snapshot(filename, last_line=2)\n",
    "\n",
    "ob = data[0]\n",
    "print(\"Type: \", type(ob.asks))\n"
   ]
  },
  {
   "cell_type": "code",
   "execution_count": 20,
   "metadata": {
    "collapsed": false
   },
   "outputs": [
    {
     "data": {
      "text/html": [
       "<div>\n",
       "<table border=\"1\" class=\"dataframe\">\n",
       "  <thead>\n",
       "    <tr style=\"text-align: right;\">\n",
       "      <th></th>\n",
       "      <th>Amount</th>\n",
       "    </tr>\n",
       "  </thead>\n",
       "  <tbody>\n",
       "    <tr>\n",
       "      <th>705.00</th>\n",
       "      <td>0.158232</td>\n",
       "    </tr>\n",
       "    <tr>\n",
       "      <th>703.70</th>\n",
       "      <td>0.001250</td>\n",
       "    </tr>\n",
       "    <tr>\n",
       "      <th>703.50</th>\n",
       "      <td>1.461657</td>\n",
       "    </tr>\n",
       "    <tr>\n",
       "      <th>703.36</th>\n",
       "      <td>1.700000</td>\n",
       "    </tr>\n",
       "    <tr>\n",
       "      <th>702.98</th>\n",
       "      <td>0.913410</td>\n",
       "    </tr>\n",
       "  </tbody>\n",
       "</table>\n",
       "</div>"
      ],
      "text/plain": [
       "          Amount\n",
       "705.00  0.158232\n",
       "703.70  0.001250\n",
       "703.50  1.461657\n",
       "703.36  1.700000\n",
       "702.98  0.913410"
      ]
     },
     "metadata": {},
     "output_type": "display_data"
    },
    {
     "data": {
      "text/plain": [
       "(219, 1)"
      ]
     },
     "metadata": {},
     "output_type": "display_data"
    },
    {
     "data": {
      "text/html": [
       "<div>\n",
       "<table border=\"1\" class=\"dataframe\">\n",
       "  <thead>\n",
       "    <tr style=\"text-align: right;\">\n",
       "      <th></th>\n",
       "      <th>Amount</th>\n",
       "    </tr>\n",
       "  </thead>\n",
       "  <tbody>\n",
       "    <tr>\n",
       "      <th>705.45</th>\n",
       "      <td>2.772181</td>\n",
       "    </tr>\n",
       "    <tr>\n",
       "      <th>706.17</th>\n",
       "      <td>0.052838</td>\n",
       "    </tr>\n",
       "    <tr>\n",
       "      <th>706.19</th>\n",
       "      <td>0.645323</td>\n",
       "    </tr>\n",
       "    <tr>\n",
       "      <th>706.89</th>\n",
       "      <td>0.105160</td>\n",
       "    </tr>\n",
       "    <tr>\n",
       "      <th>707.18</th>\n",
       "      <td>7.988556</td>\n",
       "    </tr>\n",
       "  </tbody>\n",
       "</table>\n",
       "</div>"
      ],
      "text/plain": [
       "          Amount\n",
       "705.45  2.772181\n",
       "706.17  0.052838\n",
       "706.19  0.645323\n",
       "706.89  0.105160\n",
       "707.18  7.988556"
      ]
     },
     "metadata": {},
     "output_type": "display_data"
    },
    {
     "data": {
      "text/plain": [
       "(239, 1)"
      ]
     },
     "metadata": {},
     "output_type": "display_data"
    },
    {
     "data": {
      "text/plain": [
       "u'2016-11-08T10:00'"
      ]
     },
     "metadata": {},
     "output_type": "display_data"
    }
   ],
   "source": [
    "orderbook = data[0]\n",
    "\n",
    "display(orderbook.bids.head())\n",
    "display(orderbook.bids.shape)\n",
    "display(orderbook.asks.head())\n",
    "display(orderbook.asks.shape)\n",
    "display(orderbook.timestamp)"
   ]
  },
  {
   "cell_type": "code",
   "execution_count": 22,
   "metadata": {
    "collapsed": false
   },
   "outputs": [
    {
     "name": "stdout",
     "output_type": "stream",
     "text": [
      "705.45\n",
      "705.0\n",
      "705.224976072\n"
     ]
    },
    {
     "data": {
      "text/html": [
       "<div>\n",
       "<table border=\"1\" class=\"dataframe\">\n",
       "  <thead>\n",
       "    <tr style=\"text-align: right;\">\n",
       "      <th></th>\n",
       "      <th>Amount</th>\n",
       "      <th>Type</th>\n",
       "      <th>Volume</th>\n",
       "      <th>VolumeAcc</th>\n",
       "      <th>norm_Price</th>\n",
       "    </tr>\n",
       "  </thead>\n",
       "  <tbody>\n",
       "    <tr>\n",
       "      <th>703.500000</th>\n",
       "      <td>1.461657</td>\n",
       "      <td>bid</td>\n",
       "      <td>1028.275411</td>\n",
       "      <td>1140.708568</td>\n",
       "      <td>0.997554</td>\n",
       "    </tr>\n",
       "    <tr>\n",
       "      <th>703.700000</th>\n",
       "      <td>0.001250</td>\n",
       "      <td>bid</td>\n",
       "      <td>0.879625</td>\n",
       "      <td>112.433157</td>\n",
       "      <td>0.997838</td>\n",
       "    </tr>\n",
       "    <tr>\n",
       "      <th>705.000000</th>\n",
       "      <td>0.158232</td>\n",
       "      <td>bid</td>\n",
       "      <td>111.553532</td>\n",
       "      <td>111.553532</td>\n",
       "      <td>0.999681</td>\n",
       "    </tr>\n",
       "    <tr>\n",
       "      <th>705.224976</th>\n",
       "      <td>NaN</td>\n",
       "      <td>center</td>\n",
       "      <td>NaN</td>\n",
       "      <td>NaN</td>\n",
       "      <td>NaN</td>\n",
       "    </tr>\n",
       "    <tr>\n",
       "      <th>705.450000</th>\n",
       "      <td>2.772181</td>\n",
       "      <td>ask</td>\n",
       "      <td>1955.635171</td>\n",
       "      <td>1955.635171</td>\n",
       "      <td>1.000319</td>\n",
       "    </tr>\n",
       "    <tr>\n",
       "      <th>706.170000</th>\n",
       "      <td>0.052838</td>\n",
       "      <td>ask</td>\n",
       "      <td>37.312497</td>\n",
       "      <td>1992.947669</td>\n",
       "      <td>1.001340</td>\n",
       "    </tr>\n",
       "    <tr>\n",
       "      <th>706.190000</th>\n",
       "      <td>0.645323</td>\n",
       "      <td>ask</td>\n",
       "      <td>455.720409</td>\n",
       "      <td>2448.668078</td>\n",
       "      <td>1.001368</td>\n",
       "    </tr>\n",
       "  </tbody>\n",
       "</table>\n",
       "</div>"
      ],
      "text/plain": [
       "              Amount    Type       Volume    VolumeAcc  norm_Price\n",
       "703.500000  1.461657     bid  1028.275411  1140.708568    0.997554\n",
       "703.700000  0.001250     bid     0.879625   112.433157    0.997838\n",
       "705.000000  0.158232     bid   111.553532   111.553532    0.999681\n",
       "705.224976       NaN  center          NaN          NaN         NaN\n",
       "705.450000  2.772181     ask  1955.635171  1955.635171    1.000319\n",
       "706.170000  0.052838     ask    37.312497  1992.947669    1.001340\n",
       "706.190000  0.645323     ask   455.720409  2448.668078    1.001368"
      ]
     },
     "metadata": {},
     "output_type": "display_data"
    },
    {
     "data": {
      "text/plain": [
       "703.500000    1.461657\n",
       "703.700000    0.001250\n",
       "705.000000    0.158232\n",
       "705.224976         NaN\n",
       "705.450000    2.772181\n",
       "706.170000    0.052838\n",
       "706.190000    0.645323\n",
       "Name: Amount, dtype: float64"
      ]
     },
     "metadata": {},
     "output_type": "display_data"
    },
    {
     "name": "stdout",
     "output_type": "stream",
     "text": [
      "Successfully saved'sample.png'\n"
     ]
    },
    {
     "data": {
      "image/png": "[encoded data removed]",
      "text/plain": [
       "<matplotlib.figure.Figure at 0x6ee2550>"
      ]
     },
     "metadata": {},
     "output_type": "display_data"
    }
   ],
   "source": [
    "orderbook = data[0]\n",
    "print(orderbook.get_ask())\n",
    "print(orderbook.get_bid())\n",
    "print(orderbook.get_center())\n",
    "\n",
    "# orderbook.enrich()\n",
    "book = orderbook.to_DataFrame(depth=3, range_factor=1.04)\n",
    "display(book)\n",
    "display(book.Amount)\n",
    "orderbook.plot(range_factor=1.01, outfile=\"sample\")\n",
    "orderbook.plot()\n",
    "# orderbook.plot()"
   ]
  },
  {
   "cell_type": "code",
   "execution_count": null,
   "metadata": {
    "collapsed": true
   },
   "outputs": [],
   "source": []
  },
  {
   "cell_type": "code",
   "execution_count": null,
   "metadata": {
    "collapsed": true
   },
   "outputs": [],
   "source": []
  }
 ],
 "metadata": {
  "kernelspec": {
   "display_name": "Python 2",
   "language": "python",
   "name": "python2"
  },
  "language_info": {
   "codemirror_mode": {
    "name": "ipython",
    "version": 2
   },
   "file_extension": ".py",
   "mimetype": "text/x-python",
   "name": "python",
   "nbconvert_exporter": "python",
   "pygments_lexer": "ipython2",
   "version": "2.7.5"
  },
  "widgets": {
   "state": {},
   "version": "1.1.2"
  }
 },
 "nbformat": 4,
 "nbformat_minor": 0
}
